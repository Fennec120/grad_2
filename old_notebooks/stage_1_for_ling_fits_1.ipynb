{
 "cells": [
  {
   "cell_type": "code",
   "execution_count": 1,
   "id": "e4bfb46b",
   "metadata": {},
   "outputs": [],
   "source": [
    "# general\n",
    "import pyarrow.parquet as pq\n",
    "import pandas as pd\n",
    "from scipy import stats\n",
    "import random\n",
    "\n",
    "# scoring\n",
    "from sklearn.metrics import accuracy_score\n",
    "from sklearn.metrics import roc_auc_score\n",
    "from sklearn.model_selection import cross_val_score\n",
    "from sklearn.model_selection import GridSearchCV\n",
    "\n",
    "# drawing\n",
    "import seaborn as sns\n",
    "import matplotlib.pyplot as plt\n",
    "\n",
    "# transform\n",
    "from sklearn.model_selection import train_test_split\n",
    "from imblearn.over_sampling import SMOTE\n",
    "from sklearn.model_selection import StratifiedKFold\n",
    "from sklearn.preprocessing import LabelEncoder\n",
    "\n",
    "# estimators\n",
    "from sklearn.neighbors import KNeighborsClassifier\n",
    "from sklearn.svm import SVC\n",
    "from sklearn.ensemble import RandomForestClassifier\n",
    "from sklearn.neural_network import MLPClassifier\n",
    "from sklearn.linear_model import LogisticRegression\n",
    "from sklearn.tree import DecisionTreeClassifier\n",
    "from sklearn.naive_bayes import GaussianNB\n",
    "# import xgboost as xgb\n",
    "# import lightgbm as lgb\n",
    "\n",
    "\n",
    "# # spark\n",
    "# import findspark\n",
    "# findspark.init()\n",
    "# import pyspark\n",
    "# from pyspark.sql import SparkSession"
   ]
  },
  {
   "cell_type": "code",
   "execution_count": 2,
   "id": "25f98067",
   "metadata": {},
   "outputs": [],
   "source": [
    "def open_df(part):\n",
    "    \n",
    "    import pandas as pd\n",
    "    \n",
    "    # open\n",
    "    df = pd.read_csv('train_data/tst_'+str(part)+'.csv', header=None)\n",
    "    \n",
    "    # очень неудобные названия\n",
    "    col_names = dict()\n",
    "    for i in range(len(df.columns)):\n",
    "                       col_names[df.columns[i]] = cols[i]\n",
    "    df = df.rename(columns=col_names)\n",
    "    \n",
    "    answers = pd.read_csv('train_target.csv')\n",
    "    df = pd.merge(df, answers, on='id', how='left')\n",
    "    \n",
    "    return df"
   ]
  },
  {
   "cell_type": "code",
   "execution_count": 3,
   "id": "16754c04",
   "metadata": {},
   "outputs": [],
   "source": [
    "def sample_df(df3, total_rows =  100000, neg_percent = 50, pos_percent = 50):\n",
    "#     print( 'sample_df3 start')\n",
    "    df3_pos = df3[df3['flag'] == 1].sample(int(total_rows / 100 * pos_percent))\n",
    "    df3_neg = df3[df3['flag'] == 0].sample(int(total_rows / 100 * neg_percent))\n",
    "    df3_pos = df3_pos.reset_index()\n",
    "    df3_neg = df3_neg.reset_index()\n",
    "    df3_pos = df3_pos.drop('index', axis=1)\n",
    "    df3_neg = df3_neg.drop('index', axis=1)\n",
    "    df3 = pd.concat([df3_pos, df3_neg])\n",
    "    \n",
    "#     print( 'sample_df3 end')\n",
    "#     print('-')      \n",
    "#     print('-')      \n",
    "    #print('-') \n",
    "    \n",
    "    return df3"
   ]
  },
  {
   "cell_type": "code",
   "execution_count": 4,
   "id": "3229c05c",
   "metadata": {},
   "outputs": [],
   "source": [
    "def mean(lst): \n",
    "    return sum(lst) / len(lst) "
   ]
  },
  {
   "cell_type": "code",
   "execution_count": 5,
   "id": "6bf1d43a",
   "metadata": {},
   "outputs": [],
   "source": [
    "def engeneering_new_cols(df):\n",
    "# listing cols to drop\n",
    "    cols_to_drop = []\n",
    "    for entry in df.columns:\n",
    "        if 'enc_paym_' in entry :\n",
    "            cols_to_drop.append(entry)\n",
    "            \n",
    "    cols_to_drop = cols_to_drop + ['pre_till_fclose', 'pre_till_pclose', 'pre_since_opened', 'pre_since_confirmed', 'pclose_flag']\n",
    "\n",
    "# new column, product-wise\n",
    "    df['closed_faster_than_expected'] = df['pre_fterm'] < df['pre_pterm'] \n",
    "    df['closed_faster_than_expected'] = df['closed_faster_than_expected'].apply(lambda x: int(x))\n",
    "    \n",
    "# new column, product-wise\n",
    "    df['overdue_severity'] = 5 - (df['is_zero_loans5'] + df['is_zero_loans530'] + df['is_zero_loans3060'] + df['is_zero_loans6090'] + df['is_zero_loans90']) \n",
    "    \n",
    "# new column, client-wise\n",
    "    df['prone_to_overdue'] = 0\n",
    "\n",
    "    for entry in df.id.unique():\n",
    "        df.loc[df.id == entry, 'prone_to_overdue'] = sum(df[df.id == entry]['overdue_severity']) / df.loc[df.id == entry, 'rn'].shape[0]\n",
    "\n",
    "# new column, client-wise\n",
    "    df['prone_to_close_faster'] = 0\n",
    "\n",
    "    for entry in df.id.unique():\n",
    "        df.loc[df.id == entry, 'prone_to_close_faster'] = sum(df[df.id == entry]['closed_faster_than_expected']) / df.loc[df.id == entry, 'rn'].shape[0]\n",
    "    \n",
    "    return df"
   ]
  },
  {
   "cell_type": "code",
   "execution_count": 6,
   "id": "fcb8925e",
   "metadata": {},
   "outputs": [],
   "source": [
    "cols = ['id', 'rn', 'pre_since_opened', 'pre_since_confirmed', 'pre_pterm', 'pre_fterm', 'pre_till_pclose', 'pre_till_fclose', 'pre_loans_credit_limit', 'pre_loans_next_pay_summ',\n",
    " 'pre_loans_outstanding', 'pre_loans_total_overdue', 'pre_loans_max_overdue_sum', 'pre_loans_credit_cost_rate', 'pre_loans5', 'pre_loans530', 'pre_loans3060', 'pre_loans6090', 'pre_loans90', 'is_zero_loans5',\n",
    " 'is_zero_loans530', 'is_zero_loans3060', 'is_zero_loans6090', 'is_zero_loans90', 'pre_util', 'pre_over2limit', 'pre_maxover2limit', 'is_zero_util', 'is_zero_over2limit', 'is_zero_maxover2limit', 'enc_paym_0',\n",
    " 'enc_paym_1', 'enc_paym_2', 'enc_paym_3', 'enc_paym_4', 'enc_paym_5', 'enc_paym_6', 'enc_paym_7', 'enc_paym_8', 'enc_paym_9', 'enc_paym_10', 'enc_paym_11','enc_paym_12', 'enc_paym_13', 'enc_paym_14', 'enc_paym_15',\n",
    " 'enc_paym_16', 'enc_paym_17', 'enc_paym_18', 'enc_paym_19', 'enc_paym_20', 'enc_paym_21', 'enc_paym_22', 'enc_paym_23', 'enc_paym_24', 'enc_loans_account_holder_type', 'enc_loans_credit_status','enc_loans_credit_type', 'enc_loans_account_cur', 'pclose_flag',\n",
    " 'fclose_flag']"
   ]
  },
  {
   "cell_type": "code",
   "execution_count": 9,
   "id": "2bb35835",
   "metadata": {},
   "outputs": [],
   "source": [
    "df = open_df(0)\n",
    "df2 = open_df(1)\n",
    "df3 = open_df(2)"
   ]
  },
  {
   "cell_type": "code",
   "execution_count": 10,
   "id": "2644df1a",
   "metadata": {
    "scrolled": false
   },
   "outputs": [],
   "source": [
    "answers = pd.read_csv('train_target.csv')"
   ]
  },
  {
   "cell_type": "markdown",
   "id": "479af3fb",
   "metadata": {},
   "source": [
    "df = pd.merge(df, answers, on='id', how='left')\n",
    "df2 = pd.merge(df2, answers, on='id', how='left')\n",
    "df3 = pd.merge(df3, answers, on='id', how='left')"
   ]
  },
  {
   "cell_type": "code",
   "execution_count": null,
   "id": "358e6a86",
   "metadata": {},
   "outputs": [],
   "source": [
    "df_cut_1 = pd.read_csv('train_data/df_only_last_product_1.csv')\n",
    "df_cut_1 = df_cut_1.drop(0, axis=0)\n",
    "df_cut = pd.read_csv('train_data/df_only_last_product_0.csv')\n",
    "df_cut_merged = pd.concat([df_cut, df_cut_1], ignore_index=True)\n",
    "# df_cut_merged = df_cut_merged.drop(['id'], axis=1)"
   ]
  },
  {
   "cell_type": "markdown",
   "id": "4c41cbd0",
   "metadata": {},
   "source": [
    "# 7 гиппотеза. голосование моделей. попробуем на сете сразу из трех чанков."
   ]
  },
  {
   "cell_type": "markdown",
   "id": "02586084",
   "metadata": {},
   "source": [
    "порядок работы в этой гиппотезе такой:\n",
    "1) раз делать хотим из 3х чанков - нужен 4й для валидации. распакуем спарком еще кусок данных в цсв\n",
    "2) делаем сбалансированный сет из трех чанков, валидируем CV-шкой, записываем 3 лучшие модели (или 2?) и результаты\n",
    "2.1) а вот вопрос - как делать голосование - большинством (и тогда 3 модели) или по большей вероятности? (и тогда 2 модели)\n",
    "2.2) валидируем вручную на трейне, 3 прогона, среднее, записываем\n",
    "3) валидируем на тесте (сет из 4-го куска данных (боже как я ненавиижу слово \"чанк\" в переложении на русский) человека, который придумал ввести его в обиход в траскрипции без изменений нужно насильно отлучить от русского!)\n",
    "3) так вот. записываем результаты по каждой модели\n",
    "4) валидируем на трейне большинством\n",
    "5) валидируем на трейне по большей вероятности\n",
    "6) валидируем на тесте большинством\n",
    "7) валидируем на тесте по большей вероятности\n",
    "8) расстраиваемся, что опять нифига не получилось"
   ]
  },
  {
   "cell_type": "markdown",
   "id": "9c1005d5",
   "metadata": {},
   "source": [
    "from pyspark.sql import SparkSession\n",
    "\n",
    "\n",
    "\n",
    "spark = SparkSession.builder\\\n",
    "        .master(\"local[*]\")\\\n",
    "        .appName('PySpark_Tutorial')\\\n",
    "        .getOrCreate()"
   ]
  },
  {
   "cell_type": "markdown",
   "id": "d347c020",
   "metadata": {},
   "source": [
    "tst = spark.read.option(\"header\",True).option(\"delimiter\",\",\").parquet(\"train_data/train_data_3.pq\") #option(\"header\",True).option(\"delimiter\",\",\").\n",
    "tst.show(2)"
   ]
  },
  {
   "cell_type": "markdown",
   "id": "479b1ad4",
   "metadata": {},
   "source": [
    "tst2 = tst.toPandas()"
   ]
  },
  {
   "cell_type": "code",
   "execution_count": null,
   "id": "dadad844",
   "metadata": {},
   "outputs": [],
   "source": []
  },
  {
   "cell_type": "code",
   "execution_count": 21,
   "id": "74dca6fd",
   "metadata": {},
   "outputs": [],
   "source": [
    "share = 45\n",
    "\n",
    "df_cut_1 = sample_df(\n",
    "    df, \n",
    "    round(df.flag.value_counts()[1] / share * 100 + 1, 0),\n",
    "    100 - share,\n",
    "    share\n",
    ")\n",
    "\n",
    "df_cut_2 = sample_df(\n",
    "    df2, \n",
    "    round(df2.flag.value_counts()[1] / share * 100 + 1, 0),\n",
    "    100 - share,\n",
    "    share\n",
    ")\n",
    "\n",
    "df_cut_3 = sample_df(\n",
    "    df3, \n",
    "    round(df3.flag.value_counts()[1] / share * 100 + 1, 0),\n",
    "    100 - share,\n",
    "    share\n",
    ")"
   ]
  },
  {
   "cell_type": "code",
   "execution_count": 24,
   "id": "94cf0e57",
   "metadata": {},
   "outputs": [],
   "source": [
    "df_cut_merged = pd.concat([df_cut_1, df_cut_2, df_cut_3], ignore_index=True)\n"
   ]
  },
  {
   "cell_type": "code",
   "execution_count": 27,
   "id": "df12190b",
   "metadata": {},
   "outputs": [
    {
     "data": {
      "text/plain": [
       "flag\n",
       "0    229259\n",
       "1    187576\n",
       "Name: count, dtype: int64"
      ]
     },
     "execution_count": 27,
     "metadata": {},
     "output_type": "execute_result"
    }
   ],
   "source": [
    "df_cut_merged.flag.value_counts()"
   ]
  },
  {
   "cell_type": "code",
   "execution_count": 28,
   "id": "dbbfdb8a",
   "metadata": {},
   "outputs": [],
   "source": [
    "models = [\n",
    "#     KNeighborsClassifier(),\n",
    "    SVC(),\n",
    "    RandomForestClassifier(),\n",
    "    MLPClassifier(),\n",
    "    LogisticRegression(),\n",
    "#     DecisionTreeClassifier(),\n",
    "    GaussianNB(),\n",
    "]\n",
    "#     xgb(),\n",
    "#     lgb(),\n",
    "# ]"
   ]
  },
  {
   "cell_type": "code",
   "execution_count": 31,
   "id": "f87be157",
   "metadata": {},
   "outputs": [
    {
     "data": {
      "text/plain": [
       "flag\n",
       "0    229259\n",
       "1    187576\n",
       "Name: count, dtype: int64"
      ]
     },
     "execution_count": 31,
     "metadata": {},
     "output_type": "execute_result"
    }
   ],
   "source": [
    "df_cut_merged.flag.value_counts()"
   ]
  },
  {
   "cell_type": "code",
   "execution_count": 32,
   "id": "9a8731fb",
   "metadata": {},
   "outputs": [],
   "source": [
    "df_cut_merged = sample_df(df_cut_merged, 200000, 55, 45)"
   ]
  },
  {
   "cell_type": "code",
   "execution_count": 33,
   "id": "902f774c",
   "metadata": {},
   "outputs": [],
   "source": [
    "x = df_cut_merged.drop('flag', axis=1)\n",
    "y = df_cut_merged.flag"
   ]
  },
  {
   "cell_type": "code",
   "execution_count": 34,
   "id": "707729db",
   "metadata": {},
   "outputs": [],
   "source": [
    "results_dict = dict()"
   ]
  },
  {
   "cell_type": "code",
   "execution_count": 35,
   "id": "071a8e30",
   "metadata": {},
   "outputs": [
    {
     "name": "stderr",
     "output_type": "stream",
     "text": [
      "C:\\Users\\User\\AppData\\Roaming\\Python\\Python311\\site-packages\\sklearn\\neural_network\\_multilayer_perceptron.py:686: ConvergenceWarning: Stochastic Optimizer: Maximum iterations (200) reached and the optimization hasn't converged yet.\n",
      "  warnings.warn(\n"
     ]
    }
   ],
   "source": [
    "for model in models:\n",
    "    \n",
    "    cv_scores = cross_val_score(model, x, y, cv=3, scoring='roc_auc')\n",
    "    results_dict[str(model)[0:str(model).find('(')]] = mean(cv_scores)\n"
   ]
  },
  {
   "cell_type": "code",
   "execution_count": 36,
   "id": "9a9b037e",
   "metadata": {},
   "outputs": [
    {
     "data": {
      "text/plain": [
       "{'SVC': 0.5002394363932878,\n",
       " 'RandomForestClassifier': 0.6496782482736708,\n",
       " 'MLPClassifier': 0.5404545641659435,\n",
       " 'LogisticRegression': 0.4979999459787403,\n",
       " 'GaussianNB': 0.5823624441224031}"
      ]
     },
     "execution_count": 36,
     "metadata": {},
     "output_type": "execute_result"
    }
   ],
   "source": [
    "results_dict"
   ]
  },
  {
   "cell_type": "code",
   "execution_count": 15,
   "id": "47978337",
   "metadata": {},
   "outputs": [],
   "source": [
    "results_dict = {'SVC': 0.5002394363932878,\n",
    " 'RandomForestClassifier': 0.6496782482736708,\n",
    " 'MLPClassifier': 0.5404545641659435,\n",
    " 'LogisticRegression': 0.4979999459787403,\n",
    " 'GaussianNB': 0.5823624441224031}"
   ]
  },
  {
   "cell_type": "code",
   "execution_count": 22,
   "id": "eb0a411f",
   "metadata": {},
   "outputs": [
    {
     "data": {
      "text/plain": [
       "{'SVC': 0.5002394363932878,\n",
       " 'RandomForestClassifier': 0.6496782482736708,\n",
       " 'MLPClassifier': 0.5404545641659435,\n",
       " 'LogisticRegression': 0.4979999459787403,\n",
       " 'GaussianNB': 0.5823624441224031}"
      ]
     },
     "execution_count": 22,
     "metadata": {},
     "output_type": "execute_result"
    }
   ],
   "source": [
    "results_dict"
   ]
  },
  {
   "cell_type": "code",
   "execution_count": 23,
   "id": "b00dba62",
   "metadata": {},
   "outputs": [],
   "source": [
    "model_1 = RandomForestClassifier()\n",
    "model_2 = GaussianNB()\n",
    "model_3 = MLPClassifier()"
   ]
  },
  {
   "cell_type": "code",
   "execution_count": 29,
   "id": "bde90a03",
   "metadata": {},
   "outputs": [],
   "source": [
    "share = 45\n",
    "\n",
    "df_cut_1 = sample_df(\n",
    "    df, \n",
    "    round(df.flag.value_counts()[1] / share * 100 + 1, 0),\n",
    "    100 - share,\n",
    "    share\n",
    ")\n",
    "\n",
    "df_cut_2 = sample_df(\n",
    "    df2, \n",
    "    round(df2.flag.value_counts()[1] / share * 100 + 1, 0),\n",
    "    100 - share,\n",
    "    share\n",
    ")\n",
    "\n",
    "df_cut_3 = sample_df(\n",
    "    df3, \n",
    "    round(df3.flag.value_counts()[1] / share * 100 + 1, 0),\n",
    "    100 - share,\n",
    "    share\n",
    ")"
   ]
  },
  {
   "cell_type": "code",
   "execution_count": 32,
   "id": "cffe6fc5",
   "metadata": {},
   "outputs": [],
   "source": [
    "df4 = open_df(3)"
   ]
  },
  {
   "cell_type": "code",
   "execution_count": 31,
   "id": "ca9a78a4",
   "metadata": {},
   "outputs": [
    {
     "data": {
      "text/html": [
       "<style>#sk-container-id-2 {color: black;background-color: white;}#sk-container-id-2 pre{padding: 0;}#sk-container-id-2 div.sk-toggleable {background-color: white;}#sk-container-id-2 label.sk-toggleable__label {cursor: pointer;display: block;width: 100%;margin-bottom: 0;padding: 0.3em;box-sizing: border-box;text-align: center;}#sk-container-id-2 label.sk-toggleable__label-arrow:before {content: \"▸\";float: left;margin-right: 0.25em;color: #696969;}#sk-container-id-2 label.sk-toggleable__label-arrow:hover:before {color: black;}#sk-container-id-2 div.sk-estimator:hover label.sk-toggleable__label-arrow:before {color: black;}#sk-container-id-2 div.sk-toggleable__content {max-height: 0;max-width: 0;overflow: hidden;text-align: left;background-color: #f0f8ff;}#sk-container-id-2 div.sk-toggleable__content pre {margin: 0.2em;color: black;border-radius: 0.25em;background-color: #f0f8ff;}#sk-container-id-2 input.sk-toggleable__control:checked~div.sk-toggleable__content {max-height: 200px;max-width: 100%;overflow: auto;}#sk-container-id-2 input.sk-toggleable__control:checked~label.sk-toggleable__label-arrow:before {content: \"▾\";}#sk-container-id-2 div.sk-estimator input.sk-toggleable__control:checked~label.sk-toggleable__label {background-color: #d4ebff;}#sk-container-id-2 div.sk-label input.sk-toggleable__control:checked~label.sk-toggleable__label {background-color: #d4ebff;}#sk-container-id-2 input.sk-hidden--visually {border: 0;clip: rect(1px 1px 1px 1px);clip: rect(1px, 1px, 1px, 1px);height: 1px;margin: -1px;overflow: hidden;padding: 0;position: absolute;width: 1px;}#sk-container-id-2 div.sk-estimator {font-family: monospace;background-color: #f0f8ff;border: 1px dotted black;border-radius: 0.25em;box-sizing: border-box;margin-bottom: 0.5em;}#sk-container-id-2 div.sk-estimator:hover {background-color: #d4ebff;}#sk-container-id-2 div.sk-parallel-item::after {content: \"\";width: 100%;border-bottom: 1px solid gray;flex-grow: 1;}#sk-container-id-2 div.sk-label:hover label.sk-toggleable__label {background-color: #d4ebff;}#sk-container-id-2 div.sk-serial::before {content: \"\";position: absolute;border-left: 1px solid gray;box-sizing: border-box;top: 0;bottom: 0;left: 50%;z-index: 0;}#sk-container-id-2 div.sk-serial {display: flex;flex-direction: column;align-items: center;background-color: white;padding-right: 0.2em;padding-left: 0.2em;position: relative;}#sk-container-id-2 div.sk-item {position: relative;z-index: 1;}#sk-container-id-2 div.sk-parallel {display: flex;align-items: stretch;justify-content: center;background-color: white;position: relative;}#sk-container-id-2 div.sk-item::before, #sk-container-id-2 div.sk-parallel-item::before {content: \"\";position: absolute;border-left: 1px solid gray;box-sizing: border-box;top: 0;bottom: 0;left: 50%;z-index: -1;}#sk-container-id-2 div.sk-parallel-item {display: flex;flex-direction: column;z-index: 1;position: relative;background-color: white;}#sk-container-id-2 div.sk-parallel-item:first-child::after {align-self: flex-end;width: 50%;}#sk-container-id-2 div.sk-parallel-item:last-child::after {align-self: flex-start;width: 50%;}#sk-container-id-2 div.sk-parallel-item:only-child::after {width: 0;}#sk-container-id-2 div.sk-dashed-wrapped {border: 1px dashed gray;margin: 0 0.4em 0.5em 0.4em;box-sizing: border-box;padding-bottom: 0.4em;background-color: white;}#sk-container-id-2 div.sk-label label {font-family: monospace;font-weight: bold;display: inline-block;line-height: 1.2em;}#sk-container-id-2 div.sk-label-container {text-align: center;}#sk-container-id-2 div.sk-container {/* jupyter's `normalize.less` sets `[hidden] { display: none; }` but bootstrap.min.css set `[hidden] { display: none !important; }` so we also need the `!important` here to be able to override the default hidden behavior on the sphinx rendered scikit-learn.org. See: https://github.com/scikit-learn/scikit-learn/issues/21755 */display: inline-block !important;position: relative;}#sk-container-id-2 div.sk-text-repr-fallback {display: none;}</style><div id=\"sk-container-id-2\" class=\"sk-top-container\"><div class=\"sk-text-repr-fallback\"><pre>MLPClassifier()</pre><b>In a Jupyter environment, please rerun this cell to show the HTML representation or trust the notebook. <br />On GitHub, the HTML representation is unable to render, please try loading this page with nbviewer.org.</b></div><div class=\"sk-container\" hidden><div class=\"sk-item\"><div class=\"sk-estimator sk-toggleable\"><input class=\"sk-toggleable__control sk-hidden--visually\" id=\"sk-estimator-id-2\" type=\"checkbox\" checked><label for=\"sk-estimator-id-2\" class=\"sk-toggleable__label sk-toggleable__label-arrow\">MLPClassifier</label><div class=\"sk-toggleable__content\"><pre>MLPClassifier()</pre></div></div></div></div></div>"
      ],
      "text/plain": [
       "MLPClassifier()"
      ]
     },
     "execution_count": 31,
     "metadata": {},
     "output_type": "execute_result"
    }
   ],
   "source": [
    "df_cut_merged_too_big = pd.concat([df_cut_1, df_cut_2, df_cut_3])\n",
    "\n",
    "df_cut_merged_discard, df_cut_merged = train_test_split(\n",
    "    df_cut_merged_too_big, \n",
    "    stratify=df_cut_merged_too_big['flag'], \n",
    "    test_size=0.3\n",
    ")\n",
    "\n",
    "\n",
    "x_train_merged = df_cut_merged.drop('flag', axis=1)\n",
    "y_train_merged = df_cut_merged.flag\n",
    "\n",
    "model_1_uni = RandomForestClassifier()\n",
    "model_2_uni = GaussianNB()\n",
    "model_3_uni = MLPClassifier()\n",
    "\n",
    "model_1_uni.fit(x_train_merged, y_train_merged)\n",
    "model_2_uni.fit(x_train_merged, y_train_merged)\n",
    "model_3_uni.fit(x_train_merged, y_train_merged)\n",
    "\n"
   ]
  },
  {
   "cell_type": "code",
   "execution_count": 33,
   "id": "aeef152c",
   "metadata": {},
   "outputs": [],
   "source": [
    "x_test = df4.drop('flag', axis=1)\n",
    "y_test = df4.flag"
   ]
  },
  {
   "cell_type": "code",
   "execution_count": 36,
   "id": "2eb90217",
   "metadata": {},
   "outputs": [
    {
     "name": "stdout",
     "output_type": "stream",
     "text": [
      "0.6093650400154798\n",
      "0.5738155311239542\n",
      "0.5724079960951818\n"
     ]
    }
   ],
   "source": [
    "pred_probs_1_uni = model_1_uni.predict_proba(x_test)[:, 1]\n",
    "# pred_1_uni = model_1_uni.predict(x_test)\n",
    "roc_auc = roc_auc_score(y_test, pred_probs_1_uni) \n",
    "print( roc_auc  )\n",
    "\n",
    "\n",
    "pred_probs_2_uni = model_2_uni.predict_proba(x_test)[:, 1]\n",
    "# pred_2_uni = model_2_uni.predict(x_test)\n",
    "roc_auc = roc_auc_score(y_test, pred_probs_2_uni) \n",
    "print( roc_auc  )\n",
    "\n",
    "\n",
    "pred_probs_3_uni = model_3_uni.predict_proba(x_test)[:, 1]\n",
    "# pred_3_uni = model_3_uni.predict(x_test)\n",
    "roc_auc = roc_auc_score(y_test, pred_probs_3_uni) \n",
    "print( roc_auc  )"
   ]
  },
  {
   "cell_type": "code",
   "execution_count": 47,
   "id": "926c99c3",
   "metadata": {},
   "outputs": [],
   "source": [
    "pred_probs = pd.DataFrame.from_records([pred_probs_1_uni, pred_probs_2_uni, pred_probs_3_uni])\n",
    "pred_probs = pred_probs.T\n",
    "# pred_probs['final'] = round(mean([preds[0], preds[1], preds[2] ]), 0)\n",
    "# pred_probs\n",
    "\n",
    "\n",
    "\n",
    "# roc_auc = roc_auc_score(y_test, y_pred_prob)\n",
    "\n"
   ]
  },
  {
   "cell_type": "code",
   "execution_count": 44,
   "id": "167f6070",
   "metadata": {},
   "outputs": [],
   "source": [
    "pred_probs['final'] =  mean([pred_probs[0], pred_probs[1], pred_probs[2] ])"
   ]
  },
  {
   "cell_type": "code",
   "execution_count": 46,
   "id": "d59afb2a",
   "metadata": {},
   "outputs": [
    {
     "name": "stdout",
     "output_type": "stream",
     "text": [
      "0.6149223615743065\n"
     ]
    }
   ],
   "source": [
    "roc_auc = roc_auc_score(y_test, pred_probs['final']) \n",
    "print( roc_auc  )\n"
   ]
  },
  {
   "cell_type": "code",
   "execution_count": 30,
   "id": "d9dba443",
   "metadata": {},
   "outputs": [
    {
     "data": {
      "text/html": [
       "<style>#sk-container-id-1 {color: black;background-color: white;}#sk-container-id-1 pre{padding: 0;}#sk-container-id-1 div.sk-toggleable {background-color: white;}#sk-container-id-1 label.sk-toggleable__label {cursor: pointer;display: block;width: 100%;margin-bottom: 0;padding: 0.3em;box-sizing: border-box;text-align: center;}#sk-container-id-1 label.sk-toggleable__label-arrow:before {content: \"▸\";float: left;margin-right: 0.25em;color: #696969;}#sk-container-id-1 label.sk-toggleable__label-arrow:hover:before {color: black;}#sk-container-id-1 div.sk-estimator:hover label.sk-toggleable__label-arrow:before {color: black;}#sk-container-id-1 div.sk-toggleable__content {max-height: 0;max-width: 0;overflow: hidden;text-align: left;background-color: #f0f8ff;}#sk-container-id-1 div.sk-toggleable__content pre {margin: 0.2em;color: black;border-radius: 0.25em;background-color: #f0f8ff;}#sk-container-id-1 input.sk-toggleable__control:checked~div.sk-toggleable__content {max-height: 200px;max-width: 100%;overflow: auto;}#sk-container-id-1 input.sk-toggleable__control:checked~label.sk-toggleable__label-arrow:before {content: \"▾\";}#sk-container-id-1 div.sk-estimator input.sk-toggleable__control:checked~label.sk-toggleable__label {background-color: #d4ebff;}#sk-container-id-1 div.sk-label input.sk-toggleable__control:checked~label.sk-toggleable__label {background-color: #d4ebff;}#sk-container-id-1 input.sk-hidden--visually {border: 0;clip: rect(1px 1px 1px 1px);clip: rect(1px, 1px, 1px, 1px);height: 1px;margin: -1px;overflow: hidden;padding: 0;position: absolute;width: 1px;}#sk-container-id-1 div.sk-estimator {font-family: monospace;background-color: #f0f8ff;border: 1px dotted black;border-radius: 0.25em;box-sizing: border-box;margin-bottom: 0.5em;}#sk-container-id-1 div.sk-estimator:hover {background-color: #d4ebff;}#sk-container-id-1 div.sk-parallel-item::after {content: \"\";width: 100%;border-bottom: 1px solid gray;flex-grow: 1;}#sk-container-id-1 div.sk-label:hover label.sk-toggleable__label {background-color: #d4ebff;}#sk-container-id-1 div.sk-serial::before {content: \"\";position: absolute;border-left: 1px solid gray;box-sizing: border-box;top: 0;bottom: 0;left: 50%;z-index: 0;}#sk-container-id-1 div.sk-serial {display: flex;flex-direction: column;align-items: center;background-color: white;padding-right: 0.2em;padding-left: 0.2em;position: relative;}#sk-container-id-1 div.sk-item {position: relative;z-index: 1;}#sk-container-id-1 div.sk-parallel {display: flex;align-items: stretch;justify-content: center;background-color: white;position: relative;}#sk-container-id-1 div.sk-item::before, #sk-container-id-1 div.sk-parallel-item::before {content: \"\";position: absolute;border-left: 1px solid gray;box-sizing: border-box;top: 0;bottom: 0;left: 50%;z-index: -1;}#sk-container-id-1 div.sk-parallel-item {display: flex;flex-direction: column;z-index: 1;position: relative;background-color: white;}#sk-container-id-1 div.sk-parallel-item:first-child::after {align-self: flex-end;width: 50%;}#sk-container-id-1 div.sk-parallel-item:last-child::after {align-self: flex-start;width: 50%;}#sk-container-id-1 div.sk-parallel-item:only-child::after {width: 0;}#sk-container-id-1 div.sk-dashed-wrapped {border: 1px dashed gray;margin: 0 0.4em 0.5em 0.4em;box-sizing: border-box;padding-bottom: 0.4em;background-color: white;}#sk-container-id-1 div.sk-label label {font-family: monospace;font-weight: bold;display: inline-block;line-height: 1.2em;}#sk-container-id-1 div.sk-label-container {text-align: center;}#sk-container-id-1 div.sk-container {/* jupyter's `normalize.less` sets `[hidden] { display: none; }` but bootstrap.min.css set `[hidden] { display: none !important; }` so we also need the `!important` here to be able to override the default hidden behavior on the sphinx rendered scikit-learn.org. See: https://github.com/scikit-learn/scikit-learn/issues/21755 */display: inline-block !important;position: relative;}#sk-container-id-1 div.sk-text-repr-fallback {display: none;}</style><div id=\"sk-container-id-1\" class=\"sk-top-container\"><div class=\"sk-text-repr-fallback\"><pre>MLPClassifier()</pre><b>In a Jupyter environment, please rerun this cell to show the HTML representation or trust the notebook. <br />On GitHub, the HTML representation is unable to render, please try loading this page with nbviewer.org.</b></div><div class=\"sk-container\" hidden><div class=\"sk-item\"><div class=\"sk-estimator sk-toggleable\"><input class=\"sk-toggleable__control sk-hidden--visually\" id=\"sk-estimator-id-1\" type=\"checkbox\" checked><label for=\"sk-estimator-id-1\" class=\"sk-toggleable__label sk-toggleable__label-arrow\">MLPClassifier</label><div class=\"sk-toggleable__content\"><pre>MLPClassifier()</pre></div></div></div></div></div>"
      ],
      "text/plain": [
       "MLPClassifier()"
      ]
     },
     "execution_count": 30,
     "metadata": {},
     "output_type": "execute_result"
    }
   ],
   "source": [
    "x_train_1 = df_cut_1.drop('flag', axis=1)\n",
    "y_train_1 = df_cut_1.flag\n",
    "\n",
    "x_train_2 = df_cut_2.drop('flag', axis=1)\n",
    "y_train_2 = df_cut_2.flag\n",
    "\n",
    "x_train_3 = df_cut_3.drop('flag', axis=1)\n",
    "y_train_3 = df_cut_3.flag\n",
    "\n",
    "model_1.fit(x_train_1, y_train_1)\n",
    "model_2.fit(x_train_2, y_train_2)\n",
    "model_3.fit(x_train_3, y_train_3)\n",
    "\n"
   ]
  },
  {
   "cell_type": "code",
   "execution_count": 40,
   "id": "0cffc672",
   "metadata": {},
   "outputs": [
    {
     "name": "stdout",
     "output_type": "stream",
     "text": [
      "0.6136492193267971\n",
      "0.5753253913855202\n",
      "0.5850299787144031\n"
     ]
    }
   ],
   "source": [
    "pred_probs_1 = model_1.predict_proba(x_test)[:, 1]\n",
    "roc_auc = roc_auc_score(y_test, pred_probs_1) \n",
    "print( roc_auc  )\n",
    "\n",
    "pred_probs_2 = model_2.predict_proba(x_test)[:, 1]\n",
    "roc_auc = roc_auc_score(y_test, pred_probs_2) \n",
    "print( roc_auc  )\n",
    "\n",
    "pred_probs_3 = model_3.predict_proba(x_test)[:, 1]\n",
    "roc_auc = roc_auc_score(y_test, pred_probs_3) \n",
    "print( roc_auc  )"
   ]
  },
  {
   "cell_type": "code",
   "execution_count": 48,
   "id": "5ae192f1",
   "metadata": {},
   "outputs": [
    {
     "name": "stdout",
     "output_type": "stream",
     "text": [
      "0.6016955807880824\n"
     ]
    }
   ],
   "source": [
    "pred_probs = pd.DataFrame.from_records([pred_probs_1, pred_probs_2, pred_probs_3])\n",
    "pred_probs = pred_probs.T\n",
    "pred_probs['final'] =  mean([pred_probs[0], pred_probs[1], pred_probs[2] ])\n",
    "roc_auc = roc_auc_score(y_test, pred_probs['final']) \n",
    "print( roc_auc  )\n"
   ]
  },
  {
   "cell_type": "code",
   "execution_count": 49,
   "id": "5e27e81a",
   "metadata": {},
   "outputs": [
    {
     "data": {
      "text/html": [
       "<div>\n",
       "<style scoped>\n",
       "    .dataframe tbody tr th:only-of-type {\n",
       "        vertical-align: middle;\n",
       "    }\n",
       "\n",
       "    .dataframe tbody tr th {\n",
       "        vertical-align: top;\n",
       "    }\n",
       "\n",
       "    .dataframe thead th {\n",
       "        text-align: right;\n",
       "    }\n",
       "</style>\n",
       "<table border=\"1\" class=\"dataframe\">\n",
       "  <thead>\n",
       "    <tr style=\"text-align: right;\">\n",
       "      <th></th>\n",
       "      <th>0</th>\n",
       "      <th>1</th>\n",
       "      <th>2</th>\n",
       "      <th>final</th>\n",
       "    </tr>\n",
       "  </thead>\n",
       "  <tbody>\n",
       "    <tr>\n",
       "      <th>0</th>\n",
       "      <td>0.74</td>\n",
       "      <td>0.267445</td>\n",
       "      <td>1.645613e-58</td>\n",
       "      <td>0.335815</td>\n",
       "    </tr>\n",
       "    <tr>\n",
       "      <th>1</th>\n",
       "      <td>0.59</td>\n",
       "      <td>0.462343</td>\n",
       "      <td>3.705105e-36</td>\n",
       "      <td>0.350781</td>\n",
       "    </tr>\n",
       "    <tr>\n",
       "      <th>2</th>\n",
       "      <td>0.38</td>\n",
       "      <td>0.148550</td>\n",
       "      <td>9.593967e-85</td>\n",
       "      <td>0.176183</td>\n",
       "    </tr>\n",
       "    <tr>\n",
       "      <th>3</th>\n",
       "      <td>0.37</td>\n",
       "      <td>0.722362</td>\n",
       "      <td>3.015822e-51</td>\n",
       "      <td>0.364121</td>\n",
       "    </tr>\n",
       "    <tr>\n",
       "      <th>4</th>\n",
       "      <td>0.43</td>\n",
       "      <td>0.249320</td>\n",
       "      <td>2.153935e-67</td>\n",
       "      <td>0.226440</td>\n",
       "    </tr>\n",
       "    <tr>\n",
       "      <th>...</th>\n",
       "      <td>...</td>\n",
       "      <td>...</td>\n",
       "      <td>...</td>\n",
       "      <td>...</td>\n",
       "    </tr>\n",
       "    <tr>\n",
       "      <th>2112587</th>\n",
       "      <td>0.38</td>\n",
       "      <td>0.631642</td>\n",
       "      <td>9.157182e-63</td>\n",
       "      <td>0.337214</td>\n",
       "    </tr>\n",
       "    <tr>\n",
       "      <th>2112588</th>\n",
       "      <td>0.37</td>\n",
       "      <td>0.512132</td>\n",
       "      <td>3.805894e-68</td>\n",
       "      <td>0.294044</td>\n",
       "    </tr>\n",
       "    <tr>\n",
       "      <th>2112589</th>\n",
       "      <td>0.31</td>\n",
       "      <td>0.620992</td>\n",
       "      <td>2.403098e-52</td>\n",
       "      <td>0.310331</td>\n",
       "    </tr>\n",
       "    <tr>\n",
       "      <th>2112590</th>\n",
       "      <td>0.32</td>\n",
       "      <td>0.413201</td>\n",
       "      <td>4.594044e-69</td>\n",
       "      <td>0.244400</td>\n",
       "    </tr>\n",
       "    <tr>\n",
       "      <th>2112591</th>\n",
       "      <td>0.44</td>\n",
       "      <td>0.202742</td>\n",
       "      <td>1.606119e-78</td>\n",
       "      <td>0.214247</td>\n",
       "    </tr>\n",
       "  </tbody>\n",
       "</table>\n",
       "<p>2112592 rows × 4 columns</p>\n",
       "</div>"
      ],
      "text/plain": [
       "            0         1             2     final\n",
       "0        0.74  0.267445  1.645613e-58  0.335815\n",
       "1        0.59  0.462343  3.705105e-36  0.350781\n",
       "2        0.38  0.148550  9.593967e-85  0.176183\n",
       "3        0.37  0.722362  3.015822e-51  0.364121\n",
       "4        0.43  0.249320  2.153935e-67  0.226440\n",
       "...       ...       ...           ...       ...\n",
       "2112587  0.38  0.631642  9.157182e-63  0.337214\n",
       "2112588  0.37  0.512132  3.805894e-68  0.294044\n",
       "2112589  0.31  0.620992  2.403098e-52  0.310331\n",
       "2112590  0.32  0.413201  4.594044e-69  0.244400\n",
       "2112591  0.44  0.202742  1.606119e-78  0.214247\n",
       "\n",
       "[2112592 rows x 4 columns]"
      ]
     },
     "execution_count": 49,
     "metadata": {},
     "output_type": "execute_result"
    }
   ],
   "source": [
    "pred_probs"
   ]
  },
  {
   "cell_type": "code",
   "execution_count": null,
   "id": "cf3472bf",
   "metadata": {},
   "outputs": [],
   "source": []
  },
  {
   "cell_type": "code",
   "execution_count": null,
   "id": "e1de77b8",
   "metadata": {},
   "outputs": [],
   "source": []
  },
  {
   "cell_type": "code",
   "execution_count": null,
   "id": "19dd3c60",
   "metadata": {},
   "outputs": [],
   "source": []
  },
  {
   "cell_type": "code",
   "execution_count": null,
   "id": "c2395c50",
   "metadata": {},
   "outputs": [],
   "source": []
  },
  {
   "cell_type": "code",
   "execution_count": null,
   "id": "e6260f49",
   "metadata": {},
   "outputs": [],
   "source": []
  },
  {
   "cell_type": "code",
   "execution_count": null,
   "id": "5e023cef",
   "metadata": {},
   "outputs": [],
   "source": []
  },
  {
   "cell_type": "code",
   "execution_count": null,
   "id": "c9e976c7",
   "metadata": {},
   "outputs": [],
   "source": []
  },
  {
   "cell_type": "code",
   "execution_count": null,
   "id": "a70b59f6",
   "metadata": {},
   "outputs": [],
   "source": []
  },
  {
   "cell_type": "markdown",
   "id": "287bad04",
   "metadata": {},
   "source": [
    "# Сбалансировать таргет 50/50 #\n"
   ]
  },
  {
   "cell_type": "code",
   "execution_count": 40,
   "id": "84bff417",
   "metadata": {
    "scrolled": true
   },
   "outputs": [
    {
     "name": "stdout",
     "output_type": "stream",
     "text": [
      "sample_df3 start\n",
      "sample_df3 end\n",
      "-\n"
     ]
    }
   ],
   "source": [
    "df_balanced = sample_df(df, 100000, 50, 50)"
   ]
  },
  {
   "cell_type": "code",
   "execution_count": 12,
   "id": "dcf29290",
   "metadata": {},
   "outputs": [],
   "source": [
    "results_dict = dict()"
   ]
  },
  {
   "cell_type": "code",
   "execution_count": 42,
   "id": "12088eec",
   "metadata": {},
   "outputs": [],
   "source": [
    "models = [\n",
    "    KNeighborsClassifier(),\n",
    "#     SVC(),\n",
    "#     RandomForestClassifier(),\n",
    "#     MLPClassifier(),\n",
    "    LogisticRegression(),\n",
    "#     DecisionTreeClassifier(),\n",
    "#     GaussianNB(),\n",
    "]\n",
    "#     xgb(),\n",
    "#     lgb(),\n",
    "# ]"
   ]
  },
  {
   "cell_type": "code",
   "execution_count": 41,
   "id": "29f2e885",
   "metadata": {},
   "outputs": [],
   "source": [
    "x = df_balanced.drop('flag', axis=1)\n",
    "y = df_balanced['flag']\n"
   ]
  },
  {
   "cell_type": "code",
   "execution_count": 43,
   "id": "04931263",
   "metadata": {},
   "outputs": [],
   "source": [
    "model = KNeighborsClassifier()"
   ]
  },
  {
   "cell_type": "code",
   "execution_count": 44,
   "id": "010dbed4",
   "metadata": {},
   "outputs": [
    {
     "name": "stdout",
     "output_type": "stream",
     "text": [
      "train score acc -  0.8264857142857143\n",
      "test score acc -  0.7347666666666667\n",
      "train score roc -  0.9163496330612244\n",
      "test score roc -  0.8027531\n"
     ]
    }
   ],
   "source": [
    "df_train, df_test = train_test_split(df_balanced, stratify=df_balanced['flag'], test_size=0.3)\n",
    "\n",
    "x_train = df_train.drop('flag', axis=1)\n",
    "y_train = df_train.flag\n",
    "x_test = df_test.drop('flag', axis=1)\n",
    "y_test = df_test.flag\n",
    "\n",
    "model = KNeighborsClassifier()\n",
    "model.fit(x_train, y_train)\n",
    "\n",
    "pred_train = model.predict(x_train)\n",
    "pred_test = model.predict(x_test)\n",
    "print('train score acc - ', accuracy_score(y_train, pred_train))\n",
    "print('test score acc - ', accuracy_score(y_test, pred_test))\n",
    "\n",
    "\n",
    "prob_train = model.predict_proba(x_train)[:, 1]\n",
    "prob_test = model.predict_proba(x_test)[:, 1]\n",
    "print('train score roc - ', roc_auc_score(y_train, prob_train))\n",
    "print('test score roc - ', roc_auc_score(y_test, prob_test))\n",
    "\n"
   ]
  },
  {
   "cell_type": "code",
   "execution_count": 36,
   "id": "78beaa56",
   "metadata": {},
   "outputs": [
    {
     "data": {
      "text/html": [
       "<style>#sk-container-id-2 {color: black;background-color: white;}#sk-container-id-2 pre{padding: 0;}#sk-container-id-2 div.sk-toggleable {background-color: white;}#sk-container-id-2 label.sk-toggleable__label {cursor: pointer;display: block;width: 100%;margin-bottom: 0;padding: 0.3em;box-sizing: border-box;text-align: center;}#sk-container-id-2 label.sk-toggleable__label-arrow:before {content: \"▸\";float: left;margin-right: 0.25em;color: #696969;}#sk-container-id-2 label.sk-toggleable__label-arrow:hover:before {color: black;}#sk-container-id-2 div.sk-estimator:hover label.sk-toggleable__label-arrow:before {color: black;}#sk-container-id-2 div.sk-toggleable__content {max-height: 0;max-width: 0;overflow: hidden;text-align: left;background-color: #f0f8ff;}#sk-container-id-2 div.sk-toggleable__content pre {margin: 0.2em;color: black;border-radius: 0.25em;background-color: #f0f8ff;}#sk-container-id-2 input.sk-toggleable__control:checked~div.sk-toggleable__content {max-height: 200px;max-width: 100%;overflow: auto;}#sk-container-id-2 input.sk-toggleable__control:checked~label.sk-toggleable__label-arrow:before {content: \"▾\";}#sk-container-id-2 div.sk-estimator input.sk-toggleable__control:checked~label.sk-toggleable__label {background-color: #d4ebff;}#sk-container-id-2 div.sk-label input.sk-toggleable__control:checked~label.sk-toggleable__label {background-color: #d4ebff;}#sk-container-id-2 input.sk-hidden--visually {border: 0;clip: rect(1px 1px 1px 1px);clip: rect(1px, 1px, 1px, 1px);height: 1px;margin: -1px;overflow: hidden;padding: 0;position: absolute;width: 1px;}#sk-container-id-2 div.sk-estimator {font-family: monospace;background-color: #f0f8ff;border: 1px dotted black;border-radius: 0.25em;box-sizing: border-box;margin-bottom: 0.5em;}#sk-container-id-2 div.sk-estimator:hover {background-color: #d4ebff;}#sk-container-id-2 div.sk-parallel-item::after {content: \"\";width: 100%;border-bottom: 1px solid gray;flex-grow: 1;}#sk-container-id-2 div.sk-label:hover label.sk-toggleable__label {background-color: #d4ebff;}#sk-container-id-2 div.sk-serial::before {content: \"\";position: absolute;border-left: 1px solid gray;box-sizing: border-box;top: 0;bottom: 0;left: 50%;z-index: 0;}#sk-container-id-2 div.sk-serial {display: flex;flex-direction: column;align-items: center;background-color: white;padding-right: 0.2em;padding-left: 0.2em;position: relative;}#sk-container-id-2 div.sk-item {position: relative;z-index: 1;}#sk-container-id-2 div.sk-parallel {display: flex;align-items: stretch;justify-content: center;background-color: white;position: relative;}#sk-container-id-2 div.sk-item::before, #sk-container-id-2 div.sk-parallel-item::before {content: \"\";position: absolute;border-left: 1px solid gray;box-sizing: border-box;top: 0;bottom: 0;left: 50%;z-index: -1;}#sk-container-id-2 div.sk-parallel-item {display: flex;flex-direction: column;z-index: 1;position: relative;background-color: white;}#sk-container-id-2 div.sk-parallel-item:first-child::after {align-self: flex-end;width: 50%;}#sk-container-id-2 div.sk-parallel-item:last-child::after {align-self: flex-start;width: 50%;}#sk-container-id-2 div.sk-parallel-item:only-child::after {width: 0;}#sk-container-id-2 div.sk-dashed-wrapped {border: 1px dashed gray;margin: 0 0.4em 0.5em 0.4em;box-sizing: border-box;padding-bottom: 0.4em;background-color: white;}#sk-container-id-2 div.sk-label label {font-family: monospace;font-weight: bold;display: inline-block;line-height: 1.2em;}#sk-container-id-2 div.sk-label-container {text-align: center;}#sk-container-id-2 div.sk-container {/* jupyter's `normalize.less` sets `[hidden] { display: none; }` but bootstrap.min.css set `[hidden] { display: none !important; }` so we also need the `!important` here to be able to override the default hidden behavior on the sphinx rendered scikit-learn.org. See: https://github.com/scikit-learn/scikit-learn/issues/21755 */display: inline-block !important;position: relative;}#sk-container-id-2 div.sk-text-repr-fallback {display: none;}</style><div id=\"sk-container-id-2\" class=\"sk-top-container\"><div class=\"sk-text-repr-fallback\"><pre>KNeighborsClassifier()</pre><b>In a Jupyter environment, please rerun this cell to show the HTML representation or trust the notebook. <br />On GitHub, the HTML representation is unable to render, please try loading this page with nbviewer.org.</b></div><div class=\"sk-container\" hidden><div class=\"sk-item\"><div class=\"sk-estimator sk-toggleable\"><input class=\"sk-toggleable__control sk-hidden--visually\" id=\"sk-estimator-id-2\" type=\"checkbox\" checked><label for=\"sk-estimator-id-2\" class=\"sk-toggleable__label sk-toggleable__label-arrow\">KNeighborsClassifier</label><div class=\"sk-toggleable__content\"><pre>KNeighborsClassifier()</pre></div></div></div></div></div>"
      ],
      "text/plain": [
       "KNeighborsClassifier()"
      ]
     },
     "execution_count": 36,
     "metadata": {},
     "output_type": "execute_result"
    }
   ],
   "source": [
    "model.fit(x,y)"
   ]
  },
  {
   "cell_type": "code",
   "execution_count": 37,
   "id": "4cce8c9d",
   "metadata": {},
   "outputs": [
    {
     "name": "stdout",
     "output_type": "stream",
     "text": [
      "sample_df3 start\n",
      "sample_df3 end\n",
      "-\n"
     ]
    }
   ],
   "source": [
    "df2_balanced  = sample_df(df2, 100000, 50, 50)"
   ]
  },
  {
   "cell_type": "code",
   "execution_count": 38,
   "id": "4475a1cc",
   "metadata": {},
   "outputs": [],
   "source": [
    "x_test = df2_balanced.drop('flag', axis=1)\n",
    "y_test = df2_balanced['flag']"
   ]
  },
  {
   "cell_type": "code",
   "execution_count": 39,
   "id": "d17627f2",
   "metadata": {},
   "outputs": [
    {
     "name": "stdout",
     "output_type": "stream",
     "text": [
      "ROC AUC Score: 0.49996999999999997\n"
     ]
    }
   ],
   "source": [
    "y_pred_prob = model.predict_proba(x_test)[:, 1]\n",
    "\n",
    "# Calculate the ROC AUC score\n",
    "roc_auc = roc_auc_score(y_test, y_pred_prob)\n",
    "\n",
    "print(\"ROC AUC Score:\", roc_auc)"
   ]
  },
  {
   "cell_type": "code",
   "execution_count": null,
   "id": "4363b2b6",
   "metadata": {},
   "outputs": [],
   "source": []
  },
  {
   "cell_type": "code",
   "execution_count": 23,
   "id": "aadb8b6a",
   "metadata": {},
   "outputs": [],
   "source": [
    "for model in models:\n",
    "    \n",
    "    cv_scores = cross_val_score(model, x, y, cv=3, scoring='roc_auc')\n",
    "    results_dict[str(model)[0:str(model).find('(')]] = mean(cv_scores)\n"
   ]
  },
  {
   "cell_type": "code",
   "execution_count": 24,
   "id": "22660df9",
   "metadata": {},
   "outputs": [
    {
     "data": {
      "text/plain": [
       "{'LogisticRegression': 0.5402874331389534,\n",
       " 'KNeighborsClassifier': 0.7992882246846347}"
      ]
     },
     "execution_count": 24,
     "metadata": {},
     "output_type": "execute_result"
    }
   ],
   "source": [
    "results_dict"
   ]
  },
  {
   "cell_type": "code",
   "execution_count": null,
   "id": "27bdbbaa",
   "metadata": {},
   "outputs": [],
   "source": [
    "model = results_dict[????????]\n",
    "\n",
    "grid_search = GridSearchCV(estimator=model, param_grid=param_grid, cv=3, scoring='roc_auc')\n",
    "grid_search.fit(x, y)\n",
    "\n",
    "best_params = grid_search.best_params_\n",
    "best_score = grid_search.best_score_\n",
    "\n",
    "print(\"Best Parameters:\", best_params)\n",
    "print(\"Best Score:\", best_score)"
   ]
  },
  {
   "cell_type": "code",
   "execution_count": null,
   "id": "92162960",
   "metadata": {},
   "outputs": [],
   "source": []
  },
  {
   "cell_type": "code",
   "execution_count": null,
   "id": "8a5fc361",
   "metadata": {},
   "outputs": [],
   "source": []
  },
  {
   "cell_type": "code",
   "execution_count": null,
   "id": "b1dd5b05",
   "metadata": {},
   "outputs": [],
   "source": []
  },
  {
   "cell_type": "code",
   "execution_count": 15,
   "id": "b432476e",
   "metadata": {},
   "outputs": [],
   "source": [
    "new_row = dict()\n",
    "for col in cols:\n",
    "    new_row[col] = list(df.loc[df['id'] == 0,col])\n"
   ]
  },
  {
   "cell_type": "code",
   "execution_count": 16,
   "id": "5e43cf8b",
   "metadata": {},
   "outputs": [],
   "source": [
    "new_row_df = pd.DataFrame.from_records(new_row)"
   ]
  },
  {
   "cell_type": "markdown",
   "id": "4f849e8f",
   "metadata": {},
   "source": [
    "new_row_df.iloc[1,1] = [1,2]"
   ]
  },
  {
   "cell_type": "code",
   "execution_count": 17,
   "id": "89500505",
   "metadata": {},
   "outputs": [
    {
     "data": {
      "text/html": [
       "<div>\n",
       "<style scoped>\n",
       "    .dataframe tbody tr th:only-of-type {\n",
       "        vertical-align: middle;\n",
       "    }\n",
       "\n",
       "    .dataframe tbody tr th {\n",
       "        vertical-align: top;\n",
       "    }\n",
       "\n",
       "    .dataframe thead th {\n",
       "        text-align: right;\n",
       "    }\n",
       "</style>\n",
       "<table border=\"1\" class=\"dataframe\">\n",
       "  <thead>\n",
       "    <tr style=\"text-align: right;\">\n",
       "      <th></th>\n",
       "      <th>id</th>\n",
       "      <th>flag</th>\n",
       "    </tr>\n",
       "  </thead>\n",
       "  <tbody>\n",
       "    <tr>\n",
       "      <th>0</th>\n",
       "      <td>0</td>\n",
       "      <td>0</td>\n",
       "    </tr>\n",
       "    <tr>\n",
       "      <th>1</th>\n",
       "      <td>1</td>\n",
       "      <td>0</td>\n",
       "    </tr>\n",
       "    <tr>\n",
       "      <th>2</th>\n",
       "      <td>2</td>\n",
       "      <td>0</td>\n",
       "    </tr>\n",
       "    <tr>\n",
       "      <th>3</th>\n",
       "      <td>3</td>\n",
       "      <td>0</td>\n",
       "    </tr>\n",
       "    <tr>\n",
       "      <th>4</th>\n",
       "      <td>4</td>\n",
       "      <td>0</td>\n",
       "    </tr>\n",
       "    <tr>\n",
       "      <th>...</th>\n",
       "      <td>...</td>\n",
       "      <td>...</td>\n",
       "    </tr>\n",
       "    <tr>\n",
       "      <th>2999995</th>\n",
       "      <td>2999995</td>\n",
       "      <td>0</td>\n",
       "    </tr>\n",
       "    <tr>\n",
       "      <th>2999996</th>\n",
       "      <td>2999996</td>\n",
       "      <td>0</td>\n",
       "    </tr>\n",
       "    <tr>\n",
       "      <th>2999997</th>\n",
       "      <td>2999997</td>\n",
       "      <td>0</td>\n",
       "    </tr>\n",
       "    <tr>\n",
       "      <th>2999998</th>\n",
       "      <td>2999998</td>\n",
       "      <td>0</td>\n",
       "    </tr>\n",
       "    <tr>\n",
       "      <th>2999999</th>\n",
       "      <td>2999999</td>\n",
       "      <td>0</td>\n",
       "    </tr>\n",
       "  </tbody>\n",
       "</table>\n",
       "<p>3000000 rows × 2 columns</p>\n",
       "</div>"
      ],
      "text/plain": [
       "              id  flag\n",
       "0              0     0\n",
       "1              1     0\n",
       "2              2     0\n",
       "3              3     0\n",
       "4              4     0\n",
       "...          ...   ...\n",
       "2999995  2999995     0\n",
       "2999996  2999996     0\n",
       "2999997  2999997     0\n",
       "2999998  2999998     0\n",
       "2999999  2999999     0\n",
       "\n",
       "[3000000 rows x 2 columns]"
      ]
     },
     "execution_count": 17,
     "metadata": {},
     "output_type": "execute_result"
    }
   ],
   "source": [
    "answers"
   ]
  },
  {
   "cell_type": "code",
   "execution_count": null,
   "id": "e5af9739",
   "metadata": {},
   "outputs": [],
   "source": []
  },
  {
   "cell_type": "markdown",
   "id": "20522364",
   "metadata": {},
   "source": [
    "sns.heatmap(df_balanced.corr(), cmap='coolwarm', linewidths=0.5)\n"
   ]
  },
  {
   "cell_type": "markdown",
   "id": "664882b4",
   "metadata": {},
   "source": [
    "df_corr = df_balanced.corr()"
   ]
  },
  {
   "cell_type": "markdown",
   "id": "2d957c25",
   "metadata": {},
   "source": [
    "columns = df_corr.columns\n",
    "rows = df_corr.columns"
   ]
  },
  {
   "cell_type": "markdown",
   "id": "0d283b06",
   "metadata": {},
   "source": [
    "results_acc = [[]]*len(threshholds)"
   ]
  },
  {
   "cell_type": "markdown",
   "id": "e92351ef",
   "metadata": {},
   "source": [
    "results_acc"
   ]
  },
  {
   "cell_type": "code",
   "execution_count": null,
   "id": "0fd3b32f",
   "metadata": {},
   "outputs": [],
   "source": []
  },
  {
   "cell_type": "code",
   "execution_count": 100,
   "id": "b1758c4b",
   "metadata": {},
   "outputs": [
    {
     "name": "stdout",
     "output_type": "stream",
     "text": [
      "threshhold is  0.01\n",
      "0  fits done in loop  0\n",
      "1  fits done in loop  0\n",
      "2  fits done in loop  0\n",
      "threshhold is  0.05\n",
      "0  fits done in loop  1\n",
      "1  fits done in loop  1\n",
      "2  fits done in loop  1\n",
      "threshhold is  0.08\n",
      "0  fits done in loop  2\n",
      "1  fits done in loop  2\n",
      "2  fits done in loop  2\n"
     ]
    }
   ],
   "source": [
    "threshholds = [0.01, 0.05, 0.08]#,[0.02, 0.03, 0.04, 0.05, 0.06, 0.07]\n",
    "results_acc = [[]]*len(threshholds)\n",
    "results_roc = [[]]*len(threshholds)\n",
    "counter = 0\n",
    "for entry_1 in threshholds:\n",
    "    \n",
    "    print('threshhold is ', entry_1)\n",
    "\n",
    "    corrs = []\n",
    "    for col in columns:\n",
    "        corrs.append((df_balanced.flag.corr(df_balanced[col]), col))\n",
    "    corrs = corrs[:-1]\n",
    "    corrs = sorted(corrs)\n",
    "\n",
    "\n",
    "    significant_cols = []\n",
    "\n",
    "    threshhold = entry_1\n",
    "\n",
    "    for entry in corrs:\n",
    "        if entry[0] < -threshhold or entry[0] > threshhold:\n",
    "            significant_cols.append(entry[1])\n",
    "    significant_cols.append('flag')\n",
    "    \n",
    "    \n",
    "    df_balanced_cut = df_balanced[significant_cols]\n",
    "    \n",
    "    for i in range(3):\n",
    "        \n",
    "        df_train, df_test = train_test_split(df_balanced_cut, stratify=df_balanced_cut['flag'], test_size=0.3)\n",
    "\n",
    "        x_train = df_train.drop('flag', axis=1)\n",
    "        y_train = df_train.flag\n",
    "        x_test = df_test.drop('flag', axis=1)\n",
    "        y_test = df_test.flag\n",
    "\n",
    "        model = RandomForestClassifier()\n",
    "        model.fit(x_train, y_train)\n",
    "\n",
    "        \n",
    "        pred_train = model.predict(x_train)\n",
    "        pred_test = model.predict(x_test)\n",
    "    #     print('train score acc - ', accuracy_score(y_train, pred_train))\n",
    "    #     print('test score acc - ', accuracy_score(y_test, pred_test))\n",
    "        results_acc[counter].append(accuracy_score(y_test, pred_test))\n",
    "\n",
    "\n",
    "        prob_train = model.predict_proba(x_train)[:, 1]\n",
    "        prob_test = model.predict_proba(x_test)[:, 1]\n",
    "    #     print('train score roc - ', roc_auc_score(y_train, prob_train))\n",
    "    #     print('test score roc - ', roc_auc_score(y_test, prob_test))\n",
    "        results_roc[counter].append(roc_auc_score(y_test, prob_test))\n",
    "        \n",
    "        print(i, ' fits done in loop ', counter)\n",
    "\n",
    "\n",
    "\n",
    "    counter += 1"
   ]
  },
  {
   "cell_type": "code",
   "execution_count": null,
   "id": "26c73587",
   "metadata": {},
   "outputs": [],
   "source": []
  },
  {
   "cell_type": "code",
   "execution_count": 106,
   "id": "3c5b6001",
   "metadata": {},
   "outputs": [
    {
     "data": {
      "text/plain": [
       "[[0.6377428977777777,\n",
       "  0.6372906488888889,\n",
       "  0.6340239244444446,\n",
       "  0.609586251111111,\n",
       "  0.6111367733333335,\n",
       "  0.6120779888888889,\n",
       "  0.60261152,\n",
       "  0.5999410177777779,\n",
       "  0.6023576733333333],\n",
       " [0.6377428977777777,\n",
       "  0.6372906488888889,\n",
       "  0.6340239244444446,\n",
       "  0.609586251111111,\n",
       "  0.6111367733333335,\n",
       "  0.6120779888888889,\n",
       "  0.60261152,\n",
       "  0.5999410177777779,\n",
       "  0.6023576733333333],\n",
       " [0.6377428977777777,\n",
       "  0.6372906488888889,\n",
       "  0.6340239244444446,\n",
       "  0.609586251111111,\n",
       "  0.6111367733333335,\n",
       "  0.6120779888888889,\n",
       "  0.60261152,\n",
       "  0.5999410177777779,\n",
       "  0.6023576733333333]]"
      ]
     },
     "execution_count": 106,
     "metadata": {},
     "output_type": "execute_result"
    }
   ],
   "source": [
    "results_roc"
   ]
  },
  {
   "cell_type": "markdown",
   "id": "f70aeb3b",
   "metadata": {},
   "source": [
    "for i in range(len(results_roc)):\n",
    "    print('for threshhold ',threshholds[i], ' avg is ', results_roc[i].mean())\n",
    "for i in range(len(results_roc)):\n",
    "    print('for threshhold ',threshholds[i], ' avg is ', results_acc[i].mean())"
   ]
  },
  {
   "cell_type": "code",
   "execution_count": null,
   "id": "4ecf171a",
   "metadata": {},
   "outputs": [],
   "source": []
  },
  {
   "cell_type": "code",
   "execution_count": null,
   "id": "ac36914a",
   "metadata": {},
   "outputs": [],
   "source": []
  },
  {
   "cell_type": "code",
   "execution_count": 70,
   "id": "5da8971f",
   "metadata": {},
   "outputs": [],
   "source": []
  },
  {
   "cell_type": "code",
   "execution_count": 84,
   "id": "df676ffc",
   "metadata": {},
   "outputs": [],
   "source": [
    "df_train, df_test = train_test_split(df_balanced, stratify=df_balanced['flag'], test_size=0.3)"
   ]
  },
  {
   "cell_type": "code",
   "execution_count": 85,
   "id": "8395146f",
   "metadata": {},
   "outputs": [],
   "source": [
    "x_train = df_train.drop('flag', axis=1)\n",
    "y_train = df_train.flag\n",
    "x_test = df_test.drop('flag', axis=1)\n",
    "y_test = df_test.flag"
   ]
  },
  {
   "cell_type": "markdown",
   "id": "c8922419",
   "metadata": {},
   "source": [
    "rf =  RandomForestClassifier()"
   ]
  },
  {
   "cell_type": "markdown",
   "id": "85a2405d",
   "metadata": {},
   "source": [
    "rf.fit(x_train, y_train)"
   ]
  },
  {
   "cell_type": "code",
   "execution_count": 49,
   "id": "1dd9f1f3",
   "metadata": {},
   "outputs": [],
   "source": [
    "model = LogisticRegression()"
   ]
  },
  {
   "cell_type": "code",
   "execution_count": 86,
   "id": "e5310107",
   "metadata": {},
   "outputs": [],
   "source": [
    "model = RandomForestClassifier()"
   ]
  },
  {
   "cell_type": "code",
   "execution_count": 59,
   "id": "e153054a",
   "metadata": {},
   "outputs": [],
   "source": [
    "model  = MLPClassifier()"
   ]
  },
  {
   "cell_type": "code",
   "execution_count": null,
   "id": "016150e4",
   "metadata": {},
   "outputs": [],
   "source": []
  },
  {
   "cell_type": "code",
   "execution_count": null,
   "id": "9493a1d4",
   "metadata": {},
   "outputs": [],
   "source": []
  },
  {
   "cell_type": "code",
   "execution_count": null,
   "id": "2314c917",
   "metadata": {},
   "outputs": [],
   "source": []
  },
  {
   "cell_type": "code",
   "execution_count": null,
   "id": "297dd0a8",
   "metadata": {},
   "outputs": [],
   "source": []
  },
  {
   "cell_type": "code",
   "execution_count": null,
   "id": "7e10d477",
   "metadata": {},
   "outputs": [],
   "source": []
  },
  {
   "cell_type": "markdown",
   "id": "c3aa131d",
   "metadata": {},
   "source": [
    "# готовый скрипт "
   ]
  },
  {
   "cell_type": "code",
   "execution_count": 75,
   "id": "ac83ce2a",
   "metadata": {},
   "outputs": [],
   "source": [
    "# путь до данных на компьютере\n",
    "path = 'train_data/'"
   ]
  },
  {
   "cell_type": "code",
   "execution_count": 48,
   "id": "0494bad6",
   "metadata": {},
   "outputs": [],
   "source": [
    "import os\n",
    "import pandas as pd\n",
    "import tqdm\n",
    "\n",
    "\n",
    "def read_parquet_dataset_from_local(path_to_dataset: str, start_from: int = 0,\n",
    "                                     num_parts_to_read: int = 2, columns=None, verbose=False) -> pd.DataFrame:\n",
    "    \"\"\"\n",
    "    читает num_parts_to_read партиций, преобразовывает их к pd.DataFrame и возвращает\n",
    "    :param path_to_dataset: путь до директории с партициями\n",
    "    :param start_from: номер партиции, с которой нужно начать чтение\n",
    "    :param num_parts_to_read: количество партиций, которые требуется прочитать\n",
    "    :param columns: список колонок, которые нужно прочитать из партиции\n",
    "    :return: pd.DataFrame\n",
    "    \"\"\"\n",
    "\n",
    "    res = []\n",
    "    dataset_paths = sorted([os.path.join(path_to_dataset, filename) for filename in os.listdir(path_to_dataset)\n",
    "                              if filename.startswith('train')])\n",
    "    print(dataset_paths)\n",
    "\n",
    "    start_from = max(0, start_from)\n",
    "    chunks = dataset_paths[start_from: start_from + num_parts_to_read]\n",
    "    if verbose:\n",
    "        print('Reading chunks:\\n')\n",
    "        for chunk in chunks:\n",
    "            print(chunk)\n",
    "    for chunk_path in tqdm.tqdm_notebook(chunks, desc=\"Reading dataset with pandas\"):\n",
    "        print('chunk_path', chunk_path)\n",
    "        chunk = pd.read_parquet(chunk_path,columns=columns)\n",
    "        res.append(chunk)\n",
    "\n",
    "    return pd.concat(res).reset_index(drop=True)"
   ]
  },
  {
   "cell_type": "code",
   "execution_count": 50,
   "id": "f6fa08a0",
   "metadata": {},
   "outputs": [],
   "source": [
    "# answers\n",
    "check = []\n",
    "for i in range(len(answers)-1):\n",
    "#     if i == \n",
    "    check.append(answers.id[i]+1 == answers.id[i+1])"
   ]
  }
 ],
 "metadata": {
  "kernelspec": {
   "display_name": "Python 3 (ipykernel)",
   "language": "python",
   "name": "python3"
  },
  "language_info": {
   "codemirror_mode": {
    "name": "ipython",
    "version": 3
   },
   "file_extension": ".py",
   "mimetype": "text/x-python",
   "name": "python",
   "nbconvert_exporter": "python",
   "pygments_lexer": "ipython3",
   "version": "3.11.5"
  }
 },
 "nbformat": 4,
 "nbformat_minor": 5
}

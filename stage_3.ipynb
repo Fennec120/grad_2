{
 "cells": [
  {
   "cell_type": "code",
   "execution_count": 76,
   "id": "e4bfb46b",
   "metadata": {},
   "outputs": [],
   "source": [
    "# general\n",
    "# import pyarrow.parquet as pq\n",
    "import pandas as pd\n",
    "# from scipy import stats\n",
    "# import random\n",
    "# from pandasql import sqldf\n",
    "import duckdb\n",
    "from sklearn.pipeline import Pipeline\n",
    "import joblib\n",
    "import fastparquet\n",
    "import os\n",
    "import tqdm\n",
    "import numpy as np\n",
    "# from tqdm.notebook import tqdm as inplus\n",
    "\n",
    "# scoring\n",
    "# from sklearn.metrics import accuracy_score\n",
    "from sklearn.metrics import roc_auc_score\n",
    "# from sklearn.model_selection import cross_val_score\n",
    "from sklearn.model_selection import GridSearchCV\n",
    "# from sklearn.metrics import make_scorer\n",
    "\n",
    "# drawing\n",
    "# import seaborn as sns\n",
    "# import matplotlib.pyplot as plt\n",
    "\n",
    "\n",
    "# transform\n",
    "from sklearn.model_selection import train_test_split\n",
    "# from imblearn.over_sampling import SMOTE\n",
    "from sklearn.model_selection import StratifiedKFold\n",
    "# from sklearn.preprocessing import LabelEncoder\n",
    "from sklearn.preprocessing import FunctionTransformer\n",
    "from sklearn.compose import ColumnTransformer\n",
    "from sklearn.preprocessing import OneHotEncoder\n",
    "from sklearn.impute import SimpleImputer\n",
    "# from sklearn.preprocessing import MinMaxScaler\n",
    "\n",
    "\n",
    "# estimators\n",
    "# from sklearn.neighbors import KNeighborsClassifier\n",
    "# from sklearn.svm import SVC\n",
    "# from sklearn.ensemble import RandomForestClassifier\n",
    "# from sklearn.neural_network import MLPClassifier\n",
    "# from sklearn.linear_model import LogisticRegression\n",
    "# from sklearn.tree import DecisionTreeClassifier\n",
    "# from sklearn.naive_bayes import GaussianNB\n",
    "import xgboost as xgb\n",
    "# import lightgbm as lgb\n",
    "\n",
    "\n",
    "# # spark\n",
    "# import findspark\n",
    "# findspark.init()\n",
    "# import pyspark\n",
    "# from pyspark.sql import SparkSession\n",
    "# from IPython.core.display import HTML\n",
    "# display(HTML(\"<style>pre { white-space: pre !important; }</style>\"))"
   ]
  },
  {
   "cell_type": "code",
   "execution_count": 2,
   "id": "16754c04",
   "metadata": {},
   "outputs": [],
   "source": [
    "def sample_df(df3, total_rows =  100000, neg_percent = 50, pos_percent = 50):\n",
    "#     print( 'sample_df3 start')\n",
    "    df3_pos = df3[df3['flag'] == 1].sample(int(total_rows / 100 * pos_percent))\n",
    "    df3_neg = df3[df3['flag'] == 0].sample(int(total_rows / 100 * neg_percent))\n",
    "    df3_pos = df3_pos.reset_index()\n",
    "    df3_neg = df3_neg.reset_index()\n",
    "    df3_pos = df3_pos.drop('index', axis=1)\n",
    "    df3_neg = df3_neg.drop('index', axis=1)\n",
    "    df3 = pd.concat([df3_pos, df3_neg])\n",
    "    \n",
    "#     print( 'sample_df3 end')\n",
    "#     print('-')      \n",
    "#     print('-')      \n",
    "    #print('-') \n",
    "    \n",
    "    return df3"
   ]
  },
  {
   "cell_type": "code",
   "execution_count": 3,
   "id": "3229c05c",
   "metadata": {},
   "outputs": [],
   "source": [
    "def mean(lst): \n",
    "    return sum(lst) / len(lst) "
   ]
  },
  {
   "cell_type": "code",
   "execution_count": 4,
   "id": "bf36a230",
   "metadata": {},
   "outputs": [],
   "source": [
    "def overdue_and_quick_closure_duck(df_time_exp):\n",
    "    \n",
    "    \n",
    "    con = duckdb.connect(':memory:')\n",
    "    \n",
    "    # new column, product-wise\n",
    "    df_time_exp['closed_faster_than_expected'] = df_time_exp['pre_fterm'] < df_time_exp['pre_pterm'] \n",
    "    df_time_exp['closed_faster_than_expected'] = df_time_exp['closed_faster_than_expected'].apply(lambda x: int(x))\n",
    "\n",
    "    # new column, product-wise\n",
    "    df_time_exp['overdue_severity'] = df_time_exp['is_zero_loans5'] + df_time_exp['is_zero_loans530']*2 + df_time_exp['is_zero_loans3060']*3 + df_time_exp['is_zero_loans6090']*4 + df_time_exp['is_zero_loans90']*5\n",
    "    \n",
    "    # two new columns, client-wise, ready for aggregation\n",
    "    result = con.execute('''\n",
    "    SELECT id, \n",
    "    cast(SUM(overdue_severity) as float) / max(rn) AS prone_to_overdue, \n",
    "    cast(SUM(closed_faster_than_expected) as float) / max(rn) as prone_to_close_faster\n",
    "    FROM df_time_exp\n",
    "    GROUP BY id\n",
    "    '''\n",
    "                        ).fetchall()\n",
    "\n",
    "    result = pd.DataFrame.from_records(result, columns=['id','prone_to_overdue', 'prone_to_close_faster'])\n",
    "    df_time_exp = pd.merge(result, df_time_exp, on='id', how='left')\n",
    "    return df_time_exp"
   ]
  },
  {
   "cell_type": "code",
   "execution_count": 5,
   "id": "ab42f97a",
   "metadata": {},
   "outputs": [],
   "source": [
    "def credit_status_prevalent_atm(df):\n",
    "    # new column, client-wise, ready for aggregation\n",
    "    con = duckdb.connect(':memory:')\n",
    "\n",
    "    con.register('df', df)\n",
    "\n",
    "    result = con.execute(f'''\n",
    "    SELECT id, \n",
    "    mode(enc_loans_credit_status) as credit_status_prevalent_atm, \n",
    "    FROM df\n",
    "    GROUP BY id\n",
    "    '''\n",
    "    ).fetchall()\n",
    "\n",
    "    result = pd.DataFrame.from_records(result, columns=['id', 'credit_status_prevalent_atm'])\n",
    "    df = pd.merge(df, result, on='id', how='left')\n",
    "\n",
    "    return df"
   ]
  },
  {
   "cell_type": "code",
   "execution_count": 6,
   "id": "2691b8e2",
   "metadata": {},
   "outputs": [],
   "source": [
    "def credit_status_general_mean(df):\n",
    "    # new column, client-wise, ready for aggregation\n",
    "    con = duckdb.connect(':memory:')\n",
    "\n",
    "    con.register('df', df)\n",
    "\n",
    "    result = con.execute(f'''\n",
    "    SELECT id,  \n",
    "    cast(sum(enc_loans_credit_status) as float) / max(rn) as credit_status_general_mean\n",
    "    FROM df\n",
    "    GROUP BY id\n",
    "    '''\n",
    "    ).fetchall()\n",
    "\n",
    "\n",
    "    result = pd.DataFrame.from_records(result, columns=['id','credit_status_general_mean'])\n",
    "    df = pd.merge(df, result, on='id', how='left')\n",
    "\n",
    "    return df"
   ]
  },
  {
   "cell_type": "code",
   "execution_count": 7,
   "id": "b6dfb221",
   "metadata": {},
   "outputs": [],
   "source": [
    "def credit_line_length(df):\n",
    "    # new column, client-wise, ready for aggregation\n",
    "    \n",
    "    con = duckdb.connect(':memory:')\n",
    "\n",
    "    con.register('df', df)\n",
    "\n",
    "    result = con.execute(f'''\n",
    "    SELECT id,  \n",
    "    count(rn) as credit_line_length\n",
    "    FROM df\n",
    "    GROUP BY id\n",
    "    '''\n",
    "    ).fetchall()\n",
    "\n",
    "\n",
    "    result = pd.DataFrame.from_records(result, columns=['id','credit_line_length'])\n",
    "    result\n",
    "    df = pd.merge(df, result, on='id', how='left')\n",
    "\n",
    "    return df"
   ]
  },
  {
   "cell_type": "code",
   "execution_count": 8,
   "id": "4ccceee6",
   "metadata": {},
   "outputs": [],
   "source": [
    "def ohe_auto(df):\n",
    "    # кодирование нужных колонок\n",
    "    \n",
    "    cols_to_encode = []\n",
    "    \n",
    "    for col in df.columns:\n",
    "        if col == 'id':\n",
    "            continue\n",
    "        if col == 'flag':\n",
    "            continue\n",
    "        value = len(df[col].unique())\n",
    "\n",
    "        if value == 2:\n",
    "            continue\n",
    "        if 3 <= value and value < 10:\n",
    "            cols_to_encode.append(col)\n",
    "        if value > 10:\n",
    "            continue\n",
    "    \n",
    "    \n",
    "    ohe = OneHotEncoder(sparse_output=False)\n",
    "    df_ohe = pd.DataFrame.from_records(ohe.fit_transform(df[cols_to_encode]), columns=ohe.get_feature_names_out())\n",
    "    df = pd.concat([df, df_ohe], axis=1)\n",
    "    \n",
    "    return df\n",
    "\n",
    "\n",
    "\n",
    "def ohe_handpicked(df):\n",
    "    # кодирование нужных колонок\n",
    "    \n",
    "    cols_to_encode = [\n",
    "        'pre_loans_outstanding',\n",
    "        'pre_loans_max_overdue_sum',\n",
    "#         'pre_loans_credit_cost_rate',\n",
    "#         'pre_util',\n",
    "#         'pre_over2limit',\n",
    "#         'pre_maxover2limit',\n",
    "        'enc_loans_account_holder_type',\n",
    "        'enc_loans_account_cur',\n",
    "        'enc_loans_credit_status',   \n",
    "        'enc_loans_credit_type',\n",
    "    ]\n",
    "    \n",
    "    \n",
    "    ohe = OneHotEncoder(sparse_output=False)\n",
    "    df_ohe = pd.DataFrame.from_records(ohe.fit_transform(df[cols_to_encode]), columns=ohe.get_feature_names_out())\n",
    "    df = pd.concat([df, df_ohe], axis=1)\n",
    "    \n",
    "    return df"
   ]
  },
  {
   "cell_type": "code",
   "execution_count": 9,
   "id": "35bc136f",
   "metadata": {},
   "outputs": [],
   "source": [
    "def dropping_cols(df):\n",
    "    cols_to_drop = ['enc_paym_0', 'enc_paym_1', 'enc_paym_2', 'enc_paym_3', 'enc_paym_4', 'enc_paym_5', 'enc_paym_6', 'enc_paym_7',\n",
    "    'enc_paym_8', 'enc_paym_9', 'enc_paym_10', 'enc_paym_11', 'enc_paym_12', 'enc_paym_13', 'enc_paym_14', 'enc_paym_15',\n",
    "    'enc_paym_16', 'enc_paym_17', 'enc_paym_18', 'enc_paym_19', 'enc_paym_20', 'enc_paym_21', 'enc_paym_22',\n",
    "    'enc_paym_23', 'enc_paym_24']\n",
    "    df = df.drop(cols_to_drop, axis=1)\n",
    "    return df"
   ]
  },
  {
   "cell_type": "code",
   "execution_count": 10,
   "id": "f33b8ddf",
   "metadata": {},
   "outputs": [],
   "source": [
    "def answers_func(df):\n",
    "    answers = pd.read_csv('train_target.csv')\n",
    "    return pd.merge(df, answers, on='id', how='left')\n",
    "    "
   ]
  },
  {
   "cell_type": "code",
   "execution_count": 11,
   "id": "2523d86d",
   "metadata": {},
   "outputs": [],
   "source": [
    "def read_parquet_dataset_from_local(path_to_dataset: str, start_from: int = 0,\n",
    "                                     num_parts_to_read: int = 2, columns=None, verbose=True,\n",
    "                                   transformers: list = [],\n",
    "                                   ) -> pd.DataFrame:\n",
    "    \"\"\"\n",
    "    Предоставленный инструмент по сбору итогового датасета.\n",
    "    Доработки:\n",
    "    1) теперь на вход так же принимает лист функций, в дальнейшем они оборачиваются в function_transformer \n",
    "    и служат этапами в пайплайне по обработке данных\n",
    "    \n",
    "    2) была заменена библиотека для чтения паркет-файлов - pandas и pyarrow моментально \n",
    "    убивают ядро - вместо этого используется fastparquet - свою функцию выполняет.\n",
    "    \n",
    "    читает num_parts_to_read партиций, преобразовывает их к pd.DataFrame и возвращает\n",
    "    :param path_to_dataset: путь до директории с партициями\n",
    "    :param start_from: номер партиции, с которой нужно начать чтение\n",
    "    :param num_parts_to_read: количество партиций, которые требуется прочитать\n",
    "    :param columns: список колонок, которые нужно прочитать из партиции\n",
    "    :return: pd.DataFrame\n",
    "    \"\"\"\n",
    "\n",
    "    res = []\n",
    "    dataset_paths = sorted([os.path.join(path_to_dataset, filename) for filename in os.listdir(path_to_dataset)\n",
    "                              if filename.startswith('train')])\n",
    "    print(dataset_paths)\n",
    "\n",
    "    start_from = max(0, start_from)\n",
    "    chunks = dataset_paths[start_from: start_from + num_parts_to_read]\n",
    "    if verbose:\n",
    "        print('Reading chunks:\\n')\n",
    "        for chunk in chunks:\n",
    "            print(chunk)\n",
    "            \n",
    "            \n",
    "    transformers_trf = []  \n",
    "    for i in range(len(transformers)):  \n",
    "            transformers_trf.append((transformers[i].__name__+'_trf', FunctionTransformer(transformers[i])))  # look for error here!!!!      \n",
    "    pipeline = Pipeline(transformers_trf) \n",
    "    \n",
    "    for chunk_path in tqdm.tqdm_notebook(chunks, desc=\"Reading dataset with pandas\"): \n",
    "#     for chunk_path in tqdm.notebook.tqdm(chunks, desc=\"Reading dataset with pandas\"):\n",
    "        print('chunk_path', chunk_path)\n",
    "        chunk = fastparquet.ParquetFile(chunk_path).to_pandas()\n",
    "        \n",
    "        chunk = pipeline.fit_transform(chunk)  # look for error here!!!!      \n",
    "        \n",
    "        res.append(chunk)\n",
    "        \n",
    "        \n",
    "    res = pd.concat(res).reset_index(drop=True)\n",
    "    \n",
    "    keys = res.isnull().sum().keys()\n",
    "    nan_values = res.isnull().sum()\n",
    "    cols_w_nans = []\n",
    "    for key in keys:\n",
    "        if nan_values[key] > 0:\n",
    "            cols_w_nans.append(key)\n",
    "\n",
    "    for col in cols_w_nans:\n",
    "        res.loc[res[col].isna() == True, col] = 0\n",
    "    \n",
    "    \n",
    "    \n",
    "#     return pd.concat(res).reset_index(drop=True)\n",
    "    return res"
   ]
  },
  {
   "cell_type": "code",
   "execution_count": 12,
   "id": "7d28f07d",
   "metadata": {},
   "outputs": [],
   "source": [
    "def str_cols_for_sql_2(df) -> str:    \n",
    "    tst = str([f't1.{col}' for col in  df.columns]).replace(\"'\",'').replace('\\n','').replace(' ','').replace('Index([','').replace(']','').replace(',dtype=object)','').replace('[','')\n",
    "    return tst"
   ]
  },
  {
   "cell_type": "code",
   "execution_count": 13,
   "id": "0c0da24c",
   "metadata": {},
   "outputs": [],
   "source": [
    "def max_rn(df):\n",
    "    con = duckdb.connect(':memory:')\n",
    "\n",
    "    con.register('df', df)\n",
    "\n",
    "    result = con.execute(f'''\n",
    "    SELECT {str_cols_for_sql_2(df)}\n",
    "    FROM df t1\n",
    "    JOIN (\n",
    "        SELECT id, MAX(rn) AS max_rn\n",
    "        FROM df\n",
    "        GROUP BY id\n",
    "    ) t2 ON t1.id = t2.id AND t1.rn = t2.max_rn;\n",
    "    '''\n",
    "    ).fetchall()\n",
    "\n",
    "\n",
    "    result = pd.DataFrame.from_records(result, columns=[col for col in df.columns])\n",
    "    \n",
    "    result = result.sort_values(by='id')\n",
    "    result = result.reset_index(drop=True)\n",
    "\n",
    "    return result\n"
   ]
  },
  {
   "cell_type": "code",
   "execution_count": 14,
   "id": "b54d5597",
   "metadata": {},
   "outputs": [],
   "source": [
    "\n",
    "def custom_agregating(df):\n",
    "    \n",
    "    data  = df.id.unique()\n",
    "    tst_df = pd.DataFrame.from_records([])\n",
    "    tst_df['id'] = data\n",
    "    \n",
    "    old_cols = [\n",
    "#     'id',\n",
    "#     'rn',\n",
    "    'pre_since_opened',\n",
    "    'pre_since_confirmed',\n",
    "#     'pre_pterm',\n",
    "#     'pre_fterm',\n",
    "#     'pre_till_pclose',\n",
    "#     'pre_till_fclose',\n",
    "#     'pre_loans_credit_limit',\n",
    "#     'pre_loans_next_pay_summ',\n",
    "    'pre_loans_outstanding',\n",
    "    'pre_loans_total_overdue',\n",
    "    'pre_loans_max_overdue_sum',\n",
    "    'pre_loans_credit_cost_rate',\n",
    "    'pre_loans5',\n",
    "    'pre_loans530',\n",
    "    'pre_loans3060',\n",
    "    'pre_loans6090',\n",
    "    'pre_loans90',\n",
    "#     'is_zero_loans5',\n",
    "#     'is_zero_loans530',\n",
    "#     'is_zero_loans3060',\n",
    "#     'is_zero_loans6090',\n",
    "#     'is_zero_loans90',\n",
    "    'pre_util',\n",
    "    'pre_over2limit',\n",
    "    'pre_maxover2limit',\n",
    "    'is_zero_util',\n",
    "    'is_zero_over2limit',\n",
    "    'is_zero_maxover2limit',\n",
    "#     'enc_paym_0',\n",
    "#     'enc_paym_1',\n",
    "#     'enc_paym_2',\n",
    "#     'enc_paym_3',\n",
    "#     'enc_paym_4',\n",
    "#     'enc_paym_5',\n",
    "#     'enc_paym_6',\n",
    "#     'enc_paym_7',\n",
    "#     'enc_paym_8',\n",
    "#     'enc_paym_9',\n",
    "#     'enc_paym_10',\n",
    "#     'enc_paym_11',\n",
    "#     'enc_paym_12',\n",
    "#     'enc_paym_13',\n",
    "#     'enc_paym_14',\n",
    "#     'enc_paym_15',\n",
    "#     'enc_paym_16',\n",
    "#     'enc_paym_17',\n",
    "#     'enc_paym_18',\n",
    "#     'enc_paym_19',\n",
    "#     'enc_paym_20',\n",
    "#     'enc_paym_21',\n",
    "#     'enc_paym_22',\n",
    "#     'enc_paym_23',\n",
    "#     'enc_paym_24',\n",
    "    'enc_loans_account_holder_type',\n",
    "    'enc_loans_credit_status',\n",
    "    'enc_loans_credit_type',\n",
    "    'enc_loans_account_cur',\n",
    "    'pclose_flag',\n",
    "    'fclose_flag',\n",
    "    ]\n",
    "    \n",
    "    for old_col in old_cols:\n",
    "        \n",
    "        \n",
    "        \n",
    "        temp = df[old_col].value_counts().keys() #[df.id == 2500000]\n",
    "        new_cols = []\n",
    "        for entry in temp:\n",
    "            new_cols.append(old_col+'_'+str(entry))\n",
    "        \n",
    "        \n",
    "        \n",
    "        \n",
    "        \n",
    "        \n",
    "    \n",
    "        for col in new_cols:\n",
    "            number = col[-2:].replace('_','')\n",
    "\n",
    "\n",
    "\n",
    "            con = duckdb.connect(':memory:')\n",
    "\n",
    "            con.register('df', df)\n",
    "            result = con.execute(f'''\n",
    "\n",
    "\n",
    "            select id, count({old_col}) as {col}\n",
    "            FROM df\n",
    "            where {old_col} = {number}\n",
    "            group by id\n",
    "\n",
    "\n",
    "            '''\n",
    "            ).fetchall()\n",
    "\n",
    "\n",
    "            result = pd.DataFrame.from_records(result, columns=['id', f'{old_col}_{number}'])\n",
    "        #     result\n",
    "            tst_df = pd.merge(tst_df, result, on='id', how='left')\n",
    "    \n",
    "    \n",
    "    \n",
    "    \n",
    "    \n",
    "    con = duckdb.connect(':memory:')\n",
    "\n",
    "    con.register('df', df)\n",
    "\n",
    "    result = con.execute(f'''\n",
    "    SELECT {str_cols_for_sql_2(df)}\n",
    "    FROM df t1\n",
    "    JOIN (\n",
    "        SELECT id, MAX(rn) AS max_rn\n",
    "        FROM df\n",
    "        GROUP BY id\n",
    "    ) t2 ON t1.id = t2.id AND t1.rn = t2.max_rn;\n",
    "    '''\n",
    "    ).fetchall()\n",
    "\n",
    "\n",
    "    result = pd.DataFrame.from_records(result, columns=[col for col in df.columns])\n",
    "    \n",
    "    result = result.sort_values(by='id')\n",
    "    result = result.reset_index(drop=True)\n",
    "    \n",
    "    df_result = pd.merge(tst_df, result, on='id', how='left')\n",
    "    \n",
    "#     return tst_df\n",
    "    return df_result"
   ]
  },
  {
   "cell_type": "code",
   "execution_count": 15,
   "id": "708227ef",
   "metadata": {},
   "outputs": [],
   "source": [
    "def outstanding_loans_summ(df):\n",
    "    \n",
    "    # сумма неоплаченных долгов по займам\n",
    "    con = duckdb.connect(':memory:')\n",
    "\n",
    "    con.register('df', df)\n",
    "\n",
    "    result = con.execute(f'''\n",
    "    SELECT id,  \n",
    "    sum(pre_loans_outstanding) as outstanding_loans_summ\n",
    "    FROM df\n",
    "    GROUP BY id\n",
    "    '''\n",
    "    ).fetchall()\n",
    "\n",
    "\n",
    "    result = pd.DataFrame.from_records(result, columns=['id','outstanding_loans_summ'])\n",
    "    # result\n",
    "    df = pd.merge(df, result, on='id', how='left')\n",
    "    return df\n",
    "\n",
    "\n",
    "def outstanding_loans_summ_sq(df):\n",
    "    \n",
    "    # сумма неоплаченных долгов по займам\n",
    "    con = duckdb.connect(':memory:')\n",
    "\n",
    "    con.register('df', df)\n",
    "\n",
    "    result = con.execute(f'''\n",
    "    SELECT id,  \n",
    "    power(sum(pre_loans_outstanding), 2) as outstanding_loans_summ_sq\n",
    "    FROM df\n",
    "    GROUP BY id\n",
    "    '''\n",
    "    ).fetchall()\n",
    "\n",
    "\n",
    "    result = pd.DataFrame.from_records(result, columns=['id','outstanding_loans_summ_sq'])\n",
    "    # result\n",
    "    df = pd.merge(df, result, on='id', how='left')\n",
    "    return df\n"
   ]
  },
  {
   "cell_type": "code",
   "execution_count": 16,
   "id": "d4b438d1",
   "metadata": {},
   "outputs": [],
   "source": [
    "def loans_overdue_summ(df):\n",
    "    \n",
    "    # сумма неоплаченных долгов по займам\n",
    "    con = duckdb.connect(':memory:')\n",
    "\n",
    "    con.register('df', df)\n",
    "\n",
    "    result = con.execute(f'''\n",
    "    SELECT id,  \n",
    "    sum(pre_loans_total_overdue) as loans_overdue_summ\n",
    "    FROM df\n",
    "    GROUP BY id\n",
    "    '''\n",
    "    ).fetchall()\n",
    "\n",
    "\n",
    "    result = pd.DataFrame.from_records(result, columns=['id','loans_overdue_summ'])\n",
    "    # result\n",
    "    df = pd.merge(df, result, on='id', how='left')\n",
    "    return df\n",
    "\n",
    "\n",
    "def loans_overdue_summ_sq(df):\n",
    "    \n",
    "    # сумма неоплаченных долгов по займам в квадрате\n",
    "    con = duckdb.connect(':memory:')\n",
    "\n",
    "    con.register('df', df)\n",
    "\n",
    "    result = con.execute(f'''\n",
    "    SELECT id,  \n",
    "    power(sum(pre_loans_total_overdue), 2) as loans_overdue_summ_sq\n",
    "    FROM df\n",
    "    GROUP BY id\n",
    "    '''\n",
    "    ).fetchall()\n",
    "\n",
    "\n",
    "    result = pd.DataFrame.from_records(result, columns=['id','loans_overdue_summ_sq'])\n",
    "    # result\n",
    "    df = pd.merge(df, result, on='id', how='left')\n",
    "    return df\n"
   ]
  },
  {
   "cell_type": "code",
   "execution_count": 17,
   "id": "99729de5",
   "metadata": {},
   "outputs": [],
   "source": [
    "def max_overdue(df):\n",
    "    \n",
    "    # максимальная просрочка за всю кредитную историю \n",
    "    con = duckdb.connect(':memory:')\n",
    "\n",
    "    con.register('df', df)\n",
    "\n",
    "    result = con.execute(f'''\n",
    "    SELECT id,  \n",
    "    max(pre_loans_max_overdue_sum) as max_overdue\n",
    "    FROM df\n",
    "    GROUP BY id\n",
    "    '''\n",
    "    ).fetchall()\n",
    "\n",
    "\n",
    "    result = pd.DataFrame.from_records(result, columns=['id','max_overdue'])\n",
    "    # result\n",
    "    df = pd.merge(df, result, on='id', how='left')\n",
    "    return df\n"
   ]
  },
  {
   "cell_type": "code",
   "execution_count": 18,
   "id": "866322e2",
   "metadata": {},
   "outputs": [],
   "source": [
    "def credit_limit(df):\n",
    "    \n",
    "    # максимальная кредитный лимит за всю кредитную историю\n",
    "    con = duckdb.connect(':memory:')\n",
    "\n",
    "    con.register('df', df)\n",
    "\n",
    "    result = con.execute(f'''\n",
    "    SELECT id,  \n",
    "    max(pre_loans_credit_limit) as credit_limit\n",
    "    FROM df\n",
    "    GROUP BY id\n",
    "    '''\n",
    "    ).fetchall()\n",
    "\n",
    "\n",
    "    result = pd.DataFrame.from_records(result, columns=['id','credit_limit'])\n",
    "    # result\n",
    "    df = pd.merge(df, result, on='id', how='left')\n",
    "    return df\n"
   ]
  },
  {
   "cell_type": "code",
   "execution_count": 19,
   "id": "1a416f4d",
   "metadata": {},
   "outputs": [],
   "source": [
    "def credit_costs(df):\n",
    "    \n",
    "    # сумма дохода от пользования кредитными продуктами\n",
    "    con = duckdb.connect(':memory:')\n",
    "\n",
    "    con.register('df', df)\n",
    "\n",
    "    result = con.execute(f'''\n",
    "    SELECT id,  \n",
    "    sum(pre_loans_credit_cost_rate) as credit_costs\n",
    "    FROM df\n",
    "    GROUP BY id\n",
    "    '''\n",
    "    ).fetchall()\n",
    "\n",
    "\n",
    "    result = pd.DataFrame.from_records(result, columns=['id','credit_costs'])\n",
    "    # result\n",
    "    df = pd.merge(df, result, on='id', how='left')\n",
    "    return df\n",
    "\n",
    "def credit_costs_sq(df):\n",
    "    \n",
    "    # сумма дохода от пользования кредитными продуктами в квадрате\n",
    "    con = duckdb.connect(':memory:')\n",
    "\n",
    "    con.register('df', df)\n",
    "\n",
    "    result = con.execute(f'''\n",
    "    SELECT id,  \n",
    "    power(sum(pre_loans_credit_cost_rate), 2) as credit_costs_sq\n",
    "    FROM df\n",
    "    GROUP BY id\n",
    "    '''\n",
    "    ).fetchall()\n",
    "\n",
    "\n",
    "    result = pd.DataFrame.from_records(result, columns=['id','credit_costs_sq'])\n",
    "    # result\n",
    "    df = pd.merge(df, result, on='id', how='left')\n",
    "    return df\n"
   ]
  },
  {
   "cell_type": "code",
   "execution_count": 20,
   "id": "4b08f08c",
   "metadata": {},
   "outputs": [],
   "source": [
    "def zero_imputer(res):\n",
    "    keys = res.isnull().sum().keys()\n",
    "    nan_values = res.isnull().sum()\n",
    "    cols_w_nans = []\n",
    "    for key in keys:\n",
    "        if nan_values[key] > 0:\n",
    "            cols_w_nans.append(key)\n",
    "\n",
    "    for col in cols_w_nans:\n",
    "        res.loc[res[col].isna() == True, col] = 0        \n",
    "        \n",
    "    return res"
   ]
  },
  {
   "cell_type": "markdown",
   "id": "fab8ac95",
   "metadata": {},
   "source": [
    "# подготовка сета"
   ]
  },
  {
   "cell_type": "code",
   "execution_count": 21,
   "id": "c54b50c4",
   "metadata": {},
   "outputs": [
    {
     "name": "stdout",
     "output_type": "stream",
     "text": [
      "['train_data/train_data_0.pq', 'train_data/train_data_1.pq', 'train_data/train_data_10.pq', 'train_data/train_data_11.pq', 'train_data/train_data_2.pq', 'train_data/train_data_3.pq', 'train_data/train_data_4.pq', 'train_data/train_data_5.pq', 'train_data/train_data_6.pq', 'train_data/train_data_7.pq', 'train_data/train_data_8.pq', 'train_data/train_data_9.pq']\n",
      "Reading chunks:\n",
      "\n",
      "train_data/train_data_0.pq\n",
      "train_data/train_data_1.pq\n",
      "train_data/train_data_10.pq\n",
      "train_data/train_data_11.pq\n",
      "train_data/train_data_2.pq\n",
      "train_data/train_data_3.pq\n",
      "train_data/train_data_4.pq\n",
      "train_data/train_data_5.pq\n",
      "train_data/train_data_6.pq\n",
      "train_data/train_data_7.pq\n",
      "train_data/train_data_8.pq\n",
      "train_data/train_data_9.pq\n"
     ]
    },
    {
     "name": "stderr",
     "output_type": "stream",
     "text": [
      "C:\\Users\\User\\AppData\\Local\\Temp\\ipykernel_12524\\3742386692.py:40: TqdmDeprecationWarning: This function will be removed in tqdm==5.0.0\n",
      "Please use `tqdm.notebook.tqdm` instead of `tqdm.tqdm_notebook`\n",
      "  for chunk_path in tqdm.tqdm_notebook(chunks, desc=\"Reading dataset with pandas\"):\n"
     ]
    },
    {
     "data": {
      "application/vnd.jupyter.widget-view+json": {
       "model_id": "24cdf3f51945497f9b0cd5dab6a745bf",
       "version_major": 2,
       "version_minor": 0
      },
      "text/plain": [
       "Reading dataset with pandas:   0%|          | 0/12 [00:00<?, ?it/s]"
      ]
     },
     "metadata": {},
     "output_type": "display_data"
    },
    {
     "name": "stdout",
     "output_type": "stream",
     "text": [
      "chunk_path train_data/train_data_0.pq\n"
     ]
    },
    {
     "data": {
      "application/vnd.jupyter.widget-view+json": {
       "model_id": "510b7b4d31354a18886740c6e4bcb801",
       "version_major": 2,
       "version_minor": 0
      },
      "text/plain": [
       "FloatProgress(value=0.0, layout=Layout(width='auto'), style=ProgressStyle(bar_color='black'))"
      ]
     },
     "metadata": {},
     "output_type": "display_data"
    },
    {
     "name": "stdout",
     "output_type": "stream",
     "text": [
      "chunk_path train_data/train_data_1.pq\n"
     ]
    },
    {
     "data": {
      "application/vnd.jupyter.widget-view+json": {
       "model_id": "eb7b310a8d69423099f0d83632075c0c",
       "version_major": 2,
       "version_minor": 0
      },
      "text/plain": [
       "FloatProgress(value=0.0, layout=Layout(width='auto'), style=ProgressStyle(bar_color='black'))"
      ]
     },
     "metadata": {},
     "output_type": "display_data"
    },
    {
     "name": "stdout",
     "output_type": "stream",
     "text": [
      "chunk_path train_data/train_data_10.pq\n"
     ]
    },
    {
     "data": {
      "application/vnd.jupyter.widget-view+json": {
       "model_id": "0b4ce612b6684e65bb74196ab13f7ebd",
       "version_major": 2,
       "version_minor": 0
      },
      "text/plain": [
       "FloatProgress(value=0.0, layout=Layout(width='auto'), style=ProgressStyle(bar_color='black'))"
      ]
     },
     "metadata": {},
     "output_type": "display_data"
    },
    {
     "name": "stdout",
     "output_type": "stream",
     "text": [
      "chunk_path train_data/train_data_11.pq\n"
     ]
    },
    {
     "data": {
      "application/vnd.jupyter.widget-view+json": {
       "model_id": "d187003b03be4dd69eeafa94775596d4",
       "version_major": 2,
       "version_minor": 0
      },
      "text/plain": [
       "FloatProgress(value=0.0, layout=Layout(width='auto'), style=ProgressStyle(bar_color='black'))"
      ]
     },
     "metadata": {},
     "output_type": "display_data"
    },
    {
     "name": "stdout",
     "output_type": "stream",
     "text": [
      "chunk_path train_data/train_data_2.pq\n"
     ]
    },
    {
     "data": {
      "application/vnd.jupyter.widget-view+json": {
       "model_id": "512db87a7bd64a7990b936079d04e4be",
       "version_major": 2,
       "version_minor": 0
      },
      "text/plain": [
       "FloatProgress(value=0.0, layout=Layout(width='auto'), style=ProgressStyle(bar_color='black'))"
      ]
     },
     "metadata": {},
     "output_type": "display_data"
    },
    {
     "name": "stdout",
     "output_type": "stream",
     "text": [
      "chunk_path train_data/train_data_3.pq\n"
     ]
    },
    {
     "data": {
      "application/vnd.jupyter.widget-view+json": {
       "model_id": "57fabaffe4534ba3af79f5e9a568c420",
       "version_major": 2,
       "version_minor": 0
      },
      "text/plain": [
       "FloatProgress(value=0.0, layout=Layout(width='auto'), style=ProgressStyle(bar_color='black'))"
      ]
     },
     "metadata": {},
     "output_type": "display_data"
    },
    {
     "name": "stdout",
     "output_type": "stream",
     "text": [
      "chunk_path train_data/train_data_4.pq\n"
     ]
    },
    {
     "data": {
      "application/vnd.jupyter.widget-view+json": {
       "model_id": "52d57054286c4ab0a2f1407ac0c2d9a6",
       "version_major": 2,
       "version_minor": 0
      },
      "text/plain": [
       "FloatProgress(value=0.0, layout=Layout(width='auto'), style=ProgressStyle(bar_color='black'))"
      ]
     },
     "metadata": {},
     "output_type": "display_data"
    },
    {
     "name": "stdout",
     "output_type": "stream",
     "text": [
      "chunk_path train_data/train_data_5.pq\n"
     ]
    },
    {
     "data": {
      "application/vnd.jupyter.widget-view+json": {
       "model_id": "ee2b9ac5e15547bdb6cbc425f9fa3fd9",
       "version_major": 2,
       "version_minor": 0
      },
      "text/plain": [
       "FloatProgress(value=0.0, layout=Layout(width='auto'), style=ProgressStyle(bar_color='black'))"
      ]
     },
     "metadata": {},
     "output_type": "display_data"
    },
    {
     "name": "stdout",
     "output_type": "stream",
     "text": [
      "chunk_path train_data/train_data_6.pq\n"
     ]
    },
    {
     "data": {
      "application/vnd.jupyter.widget-view+json": {
       "model_id": "64615ca934614389baf8744fdad68986",
       "version_major": 2,
       "version_minor": 0
      },
      "text/plain": [
       "FloatProgress(value=0.0, layout=Layout(width='auto'), style=ProgressStyle(bar_color='black'))"
      ]
     },
     "metadata": {},
     "output_type": "display_data"
    },
    {
     "name": "stdout",
     "output_type": "stream",
     "text": [
      "chunk_path train_data/train_data_7.pq\n"
     ]
    },
    {
     "data": {
      "application/vnd.jupyter.widget-view+json": {
       "model_id": "87c5f93f029c4838aa449400b7c8153d",
       "version_major": 2,
       "version_minor": 0
      },
      "text/plain": [
       "FloatProgress(value=0.0, layout=Layout(width='auto'), style=ProgressStyle(bar_color='black'))"
      ]
     },
     "metadata": {},
     "output_type": "display_data"
    },
    {
     "name": "stdout",
     "output_type": "stream",
     "text": [
      "chunk_path train_data/train_data_8.pq\n"
     ]
    },
    {
     "data": {
      "application/vnd.jupyter.widget-view+json": {
       "model_id": "4d027fb39e534a5aa814becb632f415d",
       "version_major": 2,
       "version_minor": 0
      },
      "text/plain": [
       "FloatProgress(value=0.0, layout=Layout(width='auto'), style=ProgressStyle(bar_color='black'))"
      ]
     },
     "metadata": {},
     "output_type": "display_data"
    },
    {
     "name": "stdout",
     "output_type": "stream",
     "text": [
      "chunk_path train_data/train_data_9.pq\n"
     ]
    },
    {
     "data": {
      "application/vnd.jupyter.widget-view+json": {
       "model_id": "f97f2ef9e22d42dfbf905a960e9dff1b",
       "version_major": 2,
       "version_minor": 0
      },
      "text/plain": [
       "FloatProgress(value=0.0, layout=Layout(width='auto'), style=ProgressStyle(bar_color='black'))"
      ]
     },
     "metadata": {},
     "output_type": "display_data"
    }
   ],
   "source": [
    "res = read_parquet_dataset_from_local('train_data/', # где лежат данные\n",
    "                                0,         # с какого куска начать\n",
    "                                12,         # сколько обработать\n",
    "                                None,      # какие колонки брать None = все\n",
    "                                True,      # выводить что сейчас происходит\n",
    "                                [answers_func,  # лист функций-трансформеров \n",
    "                                 outstanding_loans_summ,\n",
    "                                 outstanding_loans_summ_sq,\n",
    "                                 loans_overdue_summ,\n",
    "                                 loans_overdue_summ_sq,\n",
    "                                 credit_limit,\n",
    "                                 credit_costs,\n",
    "                                 credit_costs_sq,\n",
    "                                 max_overdue,\n",
    "                                 credit_status_general_mean,\n",
    "                                 credit_status_prevalent_atm,\n",
    "                                 overdue_and_quick_closure_duck,\n",
    "                                 credit_line_length,\n",
    "                                 ohe_handpicked,\n",
    "#                                  ohe_auto,\n",
    "                                 dropping_cols,\n",
    "#                                  max_rn,\n",
    "                                 custom_agregating,\n",
    "                                 ])"
   ]
  },
  {
   "cell_type": "code",
   "execution_count": 22,
   "id": "8546c3be",
   "metadata": {},
   "outputs": [],
   "source": [
    "path = f'train_data/df_compiled_v15_{res.shape[1]}_cols_full.pq'\n",
    "res.to_parquet(path)"
   ]
  },
  {
   "cell_type": "code",
   "execution_count": 55,
   "id": "fb86eac0",
   "metadata": {},
   "outputs": [],
   "source": [
    "res = fastparquet.ParquetFile('train_data/df_compiled_v15_301_cols_full.pq').to_pandas()\n",
    "# res = res.reset_index()"
   ]
  },
  {
   "cell_type": "code",
   "execution_count": 25,
   "id": "37f1dcc0",
   "metadata": {},
   "outputs": [],
   "source": [
    "res = None"
   ]
  },
  {
   "cell_type": "markdown",
   "id": "8dc70c9a",
   "metadata": {},
   "source": [
    "# дефолтная модель без GS 1 прогон\n"
   ]
  },
  {
   "cell_type": "code",
   "execution_count": 56,
   "id": "b4746081",
   "metadata": {},
   "outputs": [
    {
     "name": "stdout",
     "output_type": "stream",
     "text": [
      "Score:  0.7533470495108044\n",
      "fit size (186271, 300)\n",
      "-----\n",
      "  \n"
     ]
    }
   ],
   "source": [
    "shares = True\n",
    "share = (60, 40)\n",
    "\n",
    "if shares == True:\n",
    "    shares = f'{share[0]}-{share[1]} shares'\n",
    "else:\n",
    "    shares = f'no shares'\n",
    "\n",
    "df2, df_transformed_test = train_test_split(res, stratify=res['flag'], test_size=0.3, )\n",
    "\n",
    "df2 = sample_df(df2,round(df2.flag.value_counts()[1] / share[1] * 100-1, 0) , share[0], share[1])\n",
    "\n",
    "X, y = df2.drop('flag', axis=1), df2.flag\n",
    "X_test, y_test = df_transformed_test.drop('flag', axis=1), df_transformed_test.flag\n",
    "\n",
    "model = xgb.XGBClassifier()\n",
    "\n",
    "model.fit(X, y)    \n",
    "y_pred_proba = model.predict_proba(X_test)\n",
    "roc_auc = roc_auc_score(y_test, y_pred_proba[:, 1])\n",
    "\n",
    "print('Score: ', roc_auc)\n",
    "scores.append((roc_auc, f'eng full (F13, w/ sq-functions), {X.shape[1]} cols, no dropping, {shares}, all chunks, def model'))\n",
    "print(f'fit size {X.shape}')\n",
    "print('-----')\n",
    "print('  ')"
   ]
  },
  {
   "cell_type": "code",
   "execution_count": 57,
   "id": "955dd939",
   "metadata": {},
   "outputs": [
    {
     "data": {
      "text/plain": [
       "[(0.7530807437307375,\n",
       "  'eng full (F13, w/ sq-functions), 300 cols, no dropping, 60-40 shares, all chunks, def model'),\n",
       " (0.756441483966047,\n",
       "  'eng full (F13, w/ sq-functions), 300 cols, 60-40 shares, all chunks, 150000, GS'),\n",
       " (0.7533470495108044,\n",
       "  'eng full (F13, w/ sq-functions), 300 cols, no dropping, 60-40 shares, all chunks, def model')]"
      ]
     },
     "execution_count": 57,
     "metadata": {},
     "output_type": "execute_result"
    }
   ],
   "source": [
    "scores[-3:]"
   ]
  },
  {
   "cell_type": "markdown",
   "id": "fa89eb76",
   "metadata": {},
   "source": [
    "# дефолтная модель без GS n прогонов -> среднее (самодельное cv)\n"
   ]
  },
  {
   "cell_type": "code",
   "execution_count": 24,
   "id": "05850103",
   "metadata": {},
   "outputs": [
    {
     "name": "stderr",
     "output_type": "stream",
     "text": [
      "C:\\Users\\User\\AppData\\Local\\Temp\\ipykernel_2672\\2017038462.py:13: TqdmDeprecationWarning: This function will be removed in tqdm==5.0.0\n",
      "Please use `tqdm.notebook.tqdm` instead of `tqdm.tqdm_notebook`\n",
      "  for i in tqdm.tqdm_notebook(range(3), desc=f\"working /// ...\"):\n"
     ]
    },
    {
     "data": {
      "application/vnd.jupyter.widget-view+json": {
       "model_id": "c15678f4e78348eab66e35809fbe7c4a",
       "version_major": 2,
       "version_minor": 0
      },
      "text/plain": [
       "working /// ...:   0%|          | 0/3 [00:00<?, ?it/s]"
      ]
     },
     "metadata": {},
     "output_type": "display_data"
    },
    {
     "name": "stdout",
     "output_type": "stream",
     "text": [
      "Score:  0.7542888603277507\n",
      "Score:  0.7520430765593834\n",
      "Score:  0.7529102943050784\n",
      "fit size (212883, 300)\n",
      "-----\n",
      "  \n"
     ]
    }
   ],
   "source": [
    "shares = True\n",
    "share = (60, 40)\n",
    "\n",
    "\n",
    "if shares == True:\n",
    "    shares = f'{share[0]}-{share[1]} shares'\n",
    "else:\n",
    "    shares = f'no shares'\n",
    "    \n",
    "\n",
    "current_scores = []\n",
    "\n",
    "for i in tqdm.tqdm_notebook(range(3), desc=f\"working /// ...\"):\n",
    "    df2, df_transformed_test = train_test_split(res, stratify=res['flag'], test_size=0.2, )\n",
    "\n",
    "    df2 = sample_df(df2,round(df2.flag.value_counts()[1] / share[1] * 100-1, 0) , share[0], share[1])\n",
    "\n",
    "    X, y = df2.drop('flag', axis=1), df2.flag\n",
    "    X_test, y_test = df_transformed_test.drop('flag', axis=1), df_transformed_test.flag\n",
    "\n",
    "    model = xgb.XGBClassifier()\n",
    "\n",
    "\n",
    "    model.fit(X, y)    \n",
    "\n",
    "    y_pred_proba = model.predict_proba(X_test)\n",
    "    roc_auc = roc_auc_score(y_test, y_pred_proba[:, 1])\n",
    "    current_scores.append(roc_auc)\n",
    "\n",
    "    print('Score: ', roc_auc)\n",
    "scores.append((mean(current_scores), f'eng full (F13, w/ sq-functions), {X.shape[1]} cols, {shares}, all chunks, def model'))\n",
    "print(f'fit size {X.shape}')\n",
    "print('-----')\n",
    "print('  ')"
   ]
  },
  {
   "cell_type": "code",
   "execution_count": 23,
   "id": "ec42f690",
   "metadata": {},
   "outputs": [
    {
     "data": {
      "text/plain": [
       "[(0.7535166495756145,\n",
       "  'eng full (F13, w/ sq-functions), 325 cols, no dropping, 50-50 shares, all chunks, def model'),\n",
       " (0.7512427303357881,\n",
       "  'eng full (F13, w/ sq-functions), 325 cols, no dropping, 40-60 shares, all chunks, def model'),\n",
       " (0.7517922614647402,\n",
       "  'eng full (F13, w/ sq-functions), 300 cols, no dropping, 50-50 shares, all chunks, def model'),\n",
       " (0.7530807437307375,\n",
       "  'eng full (F13, w/ sq-functions), 300 cols, no dropping, 60-40 shares, all chunks, def model')]"
      ]
     },
     "execution_count": 23,
     "metadata": {},
     "output_type": "execute_result"
    }
   ],
   "source": [
    "scores"
   ]
  },
  {
   "cell_type": "markdown",
   "id": "02bd21c2",
   "metadata": {},
   "source": [
    "# Result \n",
    "приемлемо: \n",
    "1) нужная метрика есть, \n",
    "2) подготовка всего сета из всех 12 кусков за один подход влезает в память\n",
    "\n",
    "# next\n",
    "1) уменьшить сет до размера, когда GS сможет с ним поработать, \n",
    "2) получить параметры для тюнинга "
   ]
  },
  {
   "cell_type": "markdown",
   "id": "bcd5ffec",
   "metadata": {},
   "source": [
    "# GS"
   ]
  },
  {
   "cell_type": "code",
   "execution_count": 26,
   "id": "b7516c5c",
   "metadata": {},
   "outputs": [],
   "source": [
    "shares = True\n",
    "share = (60, 40)\n",
    "\n",
    "\n",
    "if shares == True:\n",
    "    shares = f'{share[0]}-{share[1]} shares'\n",
    "else:\n",
    "    shares = f'no shares'\n",
    "    \n",
    "\n",
    "    \n",
    "df2, df_transformed_test = train_test_split(res, stratify=res['flag'], test_size=0.2, )\n",
    "\n",
    "df2 = sample_df(df2,round(df2.flag.value_counts()[1] / share[1] * 100-1, 0) , share[0], share[1])"
   ]
  },
  {
   "cell_type": "code",
   "execution_count": 27,
   "id": "1ad572d4",
   "metadata": {},
   "outputs": [],
   "source": [
    "set_size = 150000\n",
    "df2 = sample_df(df2,set_size , share[0], share[1])"
   ]
  },
  {
   "cell_type": "code",
   "execution_count": 35,
   "id": "0baf17cb",
   "metadata": {},
   "outputs": [
    {
     "data": {
      "text/plain": [
       "(150000, 301)"
      ]
     },
     "execution_count": 35,
     "metadata": {},
     "output_type": "execute_result"
    }
   ],
   "source": [
    "df2.shape"
   ]
  },
  {
   "cell_type": "code",
   "execution_count": 28,
   "id": "46565ac0",
   "metadata": {},
   "outputs": [],
   "source": [
    "res = None"
   ]
  },
  {
   "cell_type": "code",
   "execution_count": 29,
   "id": "5387cd5d",
   "metadata": {},
   "outputs": [
    {
     "name": "stdout",
     "output_type": "stream",
     "text": [
      "Best params:  {'colsample_bytree': 0.9, 'gamma': 0.1, 'learning_rate': 0.1, 'max_depth': 5, 'n_estimators': 400, 'subsample': 0.8}\n",
      "Score:  0.756441483966047\n",
      "fit size 150000\n",
      "-----\n",
      "  \n"
     ]
    }
   ],
   "source": [
    "\n",
    "\n",
    "# shares = True\n",
    "# share = (60, 40)\n",
    "\n",
    "\n",
    "# if shares == True:\n",
    "#     shares = f'{share[0]}-{share[1]} shares'\n",
    "# else:\n",
    "#     shares = f'no shares'\n",
    "    \n",
    "\n",
    "    \n",
    "# df2, df_transformed_test = train_test_split(res, stratify=res['flag'], test_size=0.2, )\n",
    "\n",
    "# df2 = sample_df(df2,round(df2.flag.value_counts()[1] / share[1] * 100-1, 0) , share[0], share[1])\n",
    "\n",
    "# df2 = sample_df(df2,100000 , share[0], share[1])\n",
    "\n",
    "X, y = df2.drop('flag', axis=1), df2.flag\n",
    "X_test, y_test = df_transformed_test.drop('flag', axis=1), df_transformed_test.flag\n",
    "\n",
    "model = xgb.XGBClassifier()\n",
    "\n",
    "\n",
    "# param_grid = {\n",
    "#     'max_depth': [3, 5, 7],\n",
    "#     'learning_rate': [0.1,0.05, 0.01],\n",
    "#     'n_estimators': [ 400, 500, 200],\n",
    "# }\n",
    "\n",
    "param_grid = {\n",
    "    'n_estimators': [100, 200, 300 ,400],\n",
    "    'max_depth': [3, 5, 7],\n",
    "    'learning_rate': [0.1, 0.01, 0.001],\n",
    "    'subsample': [0.8, 0.9, 1.0],\n",
    "    'colsample_bytree': [0.8, 0.9, 1.0],\n",
    "    'gamma': [0, 0.1, 0.2]\n",
    "}\n",
    "\n",
    "grid_search = GridSearchCV(model, param_grid, cv=5, scoring='roc_auc')\n",
    "grid_search.fit(X, y)    \n",
    "best_model = grid_search.best_estimator_\n",
    "\n",
    "y_pred_proba = best_model.predict_proba(X_test)\n",
    "roc_auc = roc_auc_score(y_test, y_pred_proba[:, 1])\n",
    "scores.append((roc_auc, f'eng full (F13, w/ sq-functions), {X.shape[1]} cols, {shares}, all chunks, {set_size}, GS'))\n",
    "print('Best params: ', grid_search.best_params_)\n",
    "print('Score: ', roc_auc)\n",
    "print(f'fit size {len(X)}')\n",
    "# print('Best Model ROC AUC:', mean(current_scores))\n",
    "# print(f'fit size {len(X)}')\n",
    "print('-----')\n",
    "print('  ')"
   ]
  },
  {
   "cell_type": "markdown",
   "id": "f90201a1",
   "metadata": {},
   "source": [
    "# модель c тюнингом после GS 1 прогон"
   ]
  },
  {
   "cell_type": "code",
   "execution_count": 72,
   "id": "62fc6803",
   "metadata": {},
   "outputs": [
    {
     "name": "stdout",
     "output_type": "stream",
     "text": [
      "Score:  0.760940684083327\n",
      "fit size (212883, 300)\n",
      "-----\n",
      "  \n"
     ]
    }
   ],
   "source": [
    "shares = True\n",
    "share = (60, 40)\n",
    "\n",
    "if shares == True:\n",
    "    shares = f'{share[0]}-{share[1]} shares'\n",
    "else:\n",
    "    shares = f'no shares'\n",
    "\n",
    "df2, df_transformed_test = train_test_split(res, stratify=res['flag'], test_size=0.2, )\n",
    "\n",
    "df2 = sample_df(df2,round(df2.flag.value_counts()[1] / share[1] * 100-1, 0) , share[0], share[1])\n",
    "\n",
    "X, y = df2.drop('flag', axis=1), df2.flag\n",
    "X_test, y_test = df_transformed_test.drop('flag', axis=1), df_transformed_test.flag\n",
    "\n",
    "model = xgb.XGBClassifier(colsample_bytree=0.9, gamma=0.1, learning_rate=0.1, max_depth=5, n_estimators=400, subsample=0.8)\n",
    "\n",
    "model.fit(X, y)    \n",
    "y_pred_proba = model.predict_proba(X_test)\n",
    "roc_auc = roc_auc_score(y_test, y_pred_proba[:, 1])\n",
    "\n",
    "print('Score: ', roc_auc)\n",
    "scores.append((roc_auc, f'eng full (F16, w/ sq-functions), {X.shape[1]} cols, no dropping, {shares}, all chunks, tuned model'))\n",
    "print(f'fit size {X.shape}')\n",
    "print('-----')\n",
    "print('  ')"
   ]
  },
  {
   "cell_type": "code",
   "execution_count": 73,
   "id": "91afdbea",
   "metadata": {
    "scrolled": true
   },
   "outputs": [
    {
     "data": {
      "text/plain": [
       "[(0.7592171015234772,\n",
       "  'eng full (F13, w/ sq-functions), 300 cols, no dropping, 60-40 shares, all chunks, def model'),\n",
       " (0.7575004428772586,\n",
       "  'eng full (F16, w/ sq-functions), 300 cols, no dropping, 60-40 shares, all chunks, tuned model'),\n",
       " (0.760940684083327,\n",
       "  'eng full (F16, w/ sq-functions), 300 cols, no dropping, 60-40 shares, all chunks, tuned model')]"
      ]
     },
     "execution_count": 73,
     "metadata": {},
     "output_type": "execute_result"
    }
   ],
   "source": [
    "scores[-3:]"
   ]
  },
  {
   "cell_type": "markdown",
   "id": "f1a8a61f",
   "metadata": {},
   "source": [
    "# stage 3 class (turns out it wasnt necessary...)"
   ]
  },
  {
   "cell_type": "code",
   "execution_count": 126,
   "id": "99ff2573",
   "metadata": {},
   "outputs": [],
   "source": [
    "class Grad_2:\n",
    "    def __init__(self, path_to_dataset = 'train_data/'):\n",
    "        self.path_to_dataset = path_to_dataset\n",
    "        \n",
    "        \n",
    "    def prepare_dataset(self, path_to_dataset: str, start_from: int = 0,\n",
    "                                         num_parts_to_read: int = 2, columns=None, verbose=True,\n",
    "                                       transformers: list = [],\n",
    "                                       ) -> pd.DataFrame:\n",
    "        \"\"\"\n",
    "        Предоставленный инструмент по сбору итогового датасета.\n",
    "        \n",
    "        Доработки:\n",
    "        1) теперь на вход так же принимает лист функций, в дальнейшем они оборачиваются в function_transformer \n",
    "        и служат этапами в пайплайне по обработке данных\n",
    "\n",
    "        2) была заменена библиотека для чтения паркет-файлов - pandas и pyarrow у меня моментально \n",
    "        убивают ядро - вместо этого используется fastparquet - свою функцию выполняет.\n",
    "        \n",
    "        3) в следствии различного наполнения кусков сета данными и особенностей агрегации \"на выходе\" добавлен код, \n",
    "        который заполняет пустоты нулями, чтобы модель не ругалась\n",
    "\n",
    "        читает num_parts_to_read партиций, преобразовывает их к pd.DataFrame и возвращает\n",
    "        :param path_to_dataset: путь до директории с партициями\n",
    "        :param start_from: номер партиции, с которой нужно начать чтение\n",
    "        :param num_parts_to_read: количество партиций, которые требуется прочитать\n",
    "        :param columns: список колонок, которые нужно прочитать из партиции\n",
    "---new! :param transformers: лист функций-трансформеров данных                        \n",
    "        :return: pd.DataFrame\n",
    "        \"\"\"\n",
    "\n",
    "        res = []\n",
    "        dataset_paths = sorted([os.path.join(path_to_dataset, filename) for filename in os.listdir(path_to_dataset)\n",
    "                                  if filename.startswith('train')])\n",
    "        print(dataset_paths)\n",
    "\n",
    "        start_from = max(0, start_from)\n",
    "        chunks = dataset_paths[start_from: start_from + num_parts_to_read]\n",
    "        if verbose:\n",
    "            print('Reading chunks:\\n')\n",
    "            for chunk in chunks:\n",
    "                print(chunk)\n",
    "\n",
    "\n",
    "        transformers_trf = []  \n",
    "        for i in range(len(transformers)):  \n",
    "                transformers_trf.append((transformers[i].__name__+'_trf', FunctionTransformer(transformers[i])))  \n",
    "        pipeline = Pipeline(transformers_trf) \n",
    "\n",
    "        for chunk_path in tqdm.tqdm_notebook(chunks, desc=\"Reading dataset\"): \n",
    "            print('chunk_path ', chunk_path)\n",
    "            chunk = fastparquet.ParquetFile(chunk_path).to_pandas()\n",
    "\n",
    "            chunk = pipeline.fit_transform(chunk)  \n",
    "\n",
    "            res.append(chunk)\n",
    "\n",
    "\n",
    "        res = pd.concat(res).reset_index(drop=True)\n",
    "\n",
    "        keys = res.isnull().sum().keys()\n",
    "        nan_values = res.isnull().sum()\n",
    "        cols_w_nans = []\n",
    "        for key in keys:\n",
    "            if nan_values[key] > 0:\n",
    "                cols_w_nans.append(key)\n",
    "\n",
    "        for col in cols_w_nans:\n",
    "            res.loc[res[col].isna() == True, col] = 0\n",
    "\n",
    "\n",
    "\n",
    "        return res             \n",
    "        \n",
    "        \n",
    "    def write_dataset_down(self, df: pd.DataFrame, path_to_dataset: str,):\n",
    "\n",
    "\n",
    "        tst = sorted([os.path.join(path_to_dataset, filename) for filename in os.listdir(path_to_dataset)\n",
    "                                          if filename.startswith('df_compiled_v')])\n",
    "        versions = []\n",
    "        for entry in tst:\n",
    "            versions.append(eval(entry.split('v')[1][:entry.split('v')[1].find('_')]))\n",
    "        next_version = max(versions)+1\n",
    "        next_version\n",
    "\n",
    "        path = f'{path_to_dataset}/df_compiled_v{next_version}_{df.shape[1]}_cols_full.pq'\n",
    "        df.to_parquet(path)\n",
    "        pass\n",
    "\n",
    "    def fit_model(self, df: pd.DataFrame, ):\n",
    "\n",
    "        shares = True\n",
    "        share = (60, 40)\n",
    "\n",
    "        if shares == True:\n",
    "            shares = f'{share[0]}-{share[1]} shares'\n",
    "        else:\n",
    "            shares = f'no shares'\n",
    "\n",
    "        df2, df_transformed_test = train_test_split(res, stratify=res['flag'], test_size=0.2, )\n",
    "\n",
    "        df2 = sample_df(df2,round(df2.flag.value_counts()[1] / share[1] * 100-1, 0) , share[0], share[1])\n",
    "\n",
    "        X, y = df2.drop('flag', axis=1), df2.flag\n",
    "        X_test, y_test = df_transformed_test.drop('flag', axis=1), df_transformed_test.flag\n",
    "\n",
    "        model = xgb.XGBClassifier(colsample_bytree=0.9, gamma=0.1, learning_rate=0.1, max_depth=5, n_estimators=400, subsample=0.8)\n",
    "\n",
    "        model.fit(X, y)  \n",
    "\n",
    "        return model, X_test, y_test\n",
    "\n",
    "    \n",
    "    def write_down_model(self, model, model_filename: str):\n",
    "        if type(model_filename) != str:\n",
    "            return print('wrong filename type!')\n",
    "            \n",
    "        joblib.dump(model, f'models/{model_filename}.pkl')\n",
    "        pass\n",
    "\n",
    "\n",
    "    def load_model(self, path_to_model: str):\n",
    "        model = joblib.load(path_to_model)\n",
    "        return model\n",
    "\n",
    "    \n",
    "    def predict(self, fitted_model, X_test, y_test ):\n",
    "        \n",
    "        y_pred_proba = fitted_model.predict_proba(X_test)\n",
    "        roc_auc = roc_auc_score(y_test, y_pred_proba[:, 1])\n",
    "\n",
    "        print('Score: ', roc_auc)\n",
    "        \n",
    "        \n",
    "        return y_pred_proba[:, 1]\n",
    "    \n",
    "    \n",
    "    \n",
    "    \n",
    "    def fit(self, \n",
    "            path_to_dataset: str, \n",
    "            start_from: int = 0,\n",
    "            num_parts_to_read: int = 2,\n",
    "            columns=None, \n",
    "            verbose=True,                                       \n",
    "            transformers: list = [],\n",
    "           ) -> pd.DataFrame:\n",
    "        \n",
    "        res = self.prepare_dataset(path_to_dataset,\n",
    "                                   start_from,\n",
    "                                   num_parts_to_read, \n",
    "                                   columns, \n",
    "                                   verbose,\n",
    "                                   transformers,\n",
    "                                  )\n",
    "        \n",
    "        model, X_test, y_test = self.fit_model(res)\n",
    "        \n",
    "        return model, X_test, y_test\n",
    "        \n",
    "\n",
    "    "
   ]
  },
  {
   "cell_type": "code",
   "execution_count": 127,
   "id": "4807b994",
   "metadata": {},
   "outputs": [],
   "source": [
    "grad_2 = Grad_2('train_data/')"
   ]
  },
  {
   "cell_type": "code",
   "execution_count": 115,
   "id": "e13ebe9b",
   "metadata": {},
   "outputs": [],
   "source": [
    "default_transformers =  [answers_func,  # лист функций-трансформеров\n",
    "                         outstanding_loans_summ,\n",
    "                         outstanding_loans_summ_sq,\n",
    "                         loans_overdue_summ,\n",
    "                         loans_overdue_summ_sq,\n",
    "                         credit_limit,\n",
    "                         credit_costs,\n",
    "                         credit_costs_sq,\n",
    "                         max_overdue,\n",
    "                         credit_status_general_mean,\n",
    "                         credit_status_prevalent_atm,\n",
    "                         overdue_and_quick_closure_duck,\n",
    "                         credit_line_length,\n",
    "                         ohe_handpicked,\n",
    "    #                                  ohe_auto,\n",
    "                         dropping_cols,\n",
    "    #                                  max_rn,\n",
    "                         custom_agregating,\n",
    "                         ]"
   ]
  },
  {
   "cell_type": "code",
   "execution_count": 116,
   "id": "4a12da55",
   "metadata": {},
   "outputs": [
    {
     "name": "stdout",
     "output_type": "stream",
     "text": [
      "['train_data/train_data_0.pq', 'train_data/train_data_1.pq', 'train_data/train_data_10.pq', 'train_data/train_data_11.pq', 'train_data/train_data_2.pq', 'train_data/train_data_3.pq', 'train_data/train_data_4.pq', 'train_data/train_data_5.pq', 'train_data/train_data_6.pq', 'train_data/train_data_7.pq', 'train_data/train_data_8.pq', 'train_data/train_data_9.pq']\n",
      "Reading chunks:\n",
      "\n",
      "train_data/train_data_0.pq\n"
     ]
    },
    {
     "name": "stderr",
     "output_type": "stream",
     "text": [
      "C:\\Users\\User\\AppData\\Local\\Temp\\ipykernel_18904\\33235241.py:50: TqdmDeprecationWarning: This function will be removed in tqdm==5.0.0\n",
      "Please use `tqdm.notebook.tqdm` instead of `tqdm.tqdm_notebook`\n",
      "  for chunk_path in tqdm.tqdm_notebook(chunks, desc=\"Reading dataset\"):\n"
     ]
    },
    {
     "data": {
      "application/vnd.jupyter.widget-view+json": {
       "model_id": "a2a5e21cb2694c7bbba1178c99184eec",
       "version_major": 2,
       "version_minor": 0
      },
      "text/plain": [
       "Reading dataset:   0%|          | 0/1 [00:00<?, ?it/s]"
      ]
     },
     "metadata": {},
     "output_type": "display_data"
    },
    {
     "name": "stdout",
     "output_type": "stream",
     "text": [
      "chunk_path  train_data/train_data_0.pq\n"
     ]
    },
    {
     "data": {
      "application/vnd.jupyter.widget-view+json": {
       "model_id": "82b3e1b3b0c14d0497293df7ebc1de56",
       "version_major": 2,
       "version_minor": 0
      },
      "text/plain": [
       "FloatProgress(value=0.0, layout=Layout(width='auto'), style=ProgressStyle(bar_color='black'))"
      ]
     },
     "metadata": {},
     "output_type": "display_data"
    }
   ],
   "source": [
    "model, X_test, y_test = grad_2.fit(grad_2.path_to_dataset,\n",
    "                                   0,         # с какого куска начать\n",
    "                                   1,         # сколько обработать\n",
    "                                   None,      # какие колонки брать None = все\n",
    "                                   True,      # выводить что сейчас происходит\n",
    "                                   default_transformers # лист функций-трансформеров \n",
    "                                  )\n",
    "\n",
    "# res"
   ]
  },
  {
   "cell_type": "code",
   "execution_count": 128,
   "id": "eaf1ec03",
   "metadata": {},
   "outputs": [
    {
     "name": "stdout",
     "output_type": "stream",
     "text": [
      "Score:  0.7583256709385591\n"
     ]
    }
   ],
   "source": [
    "predicts = grad_2.predict(model, X_test, y_test)"
   ]
  },
  {
   "cell_type": "code",
   "execution_count": 129,
   "id": "926ccb6f",
   "metadata": {},
   "outputs": [
    {
     "data": {
      "text/plain": [
       "array([0.524806  , 0.44571024, 0.2304993 , ..., 0.3917092 , 0.4806268 ,\n",
       "       0.33560634], dtype=float32)"
      ]
     },
     "execution_count": 129,
     "metadata": {},
     "output_type": "execute_result"
    }
   ],
   "source": [
    "predicts"
   ]
  },
  {
   "cell_type": "markdown",
   "id": "4f7787f7",
   "metadata": {},
   "source": [
    "# stage 4 pipeline"
   ]
  },
  {
   "cell_type": "code",
   "execution_count": 139,
   "id": "d6690845",
   "metadata": {},
   "outputs": [],
   "source": [
    "def prepare_dataset(path_to_dataset: str =  'train_data/', \n",
    "                    start_from: int = 0,\n",
    "                    num_parts_to_read: int = 1, \n",
    "                    olumns=None, verbose=True,\n",
    "                    transformers: list = default_transformers,\n",
    "                   ) -> pd.DataFrame:\n",
    "    \"\"\"\n",
    "    Предоставленный инструмент по сбору итогового датасета.\n",
    "\n",
    "    Доработки:\n",
    "    1) теперь на вход так же принимает лист функций, в дальнейшем они оборачиваются в function_transformer \n",
    "    и служат этапами в пайплайне по обработке данных\n",
    "\n",
    "    2) была заменена библиотека для чтения паркет-файлов - pandas и pyarrow у меня моментально \n",
    "    убивают ядро - вместо этого используется fastparquet - свою функцию выполняет.\n",
    "\n",
    "    3) в следствии различного наполнения кусков сета данными и особенностей агрегации \"на выходе\" добавлен код, \n",
    "    который заполняет пустоты нулями, чтобы модель не ругалась\n",
    "\n",
    "    читает num_parts_to_read партиций, преобразовывает их к pd.DataFrame и возвращает\n",
    "    :param path_to_dataset: путь до директории с партициями\n",
    "    :param start_from: номер партиции, с которой нужно начать чтение\n",
    "    :param num_parts_to_read: количество партиций, которые требуется прочитать\n",
    "    :param columns: список колонок, которые нужно прочитать из партиции\n",
    "---new! :param transformers: лист функций-трансформеров данных                        \n",
    "    :return: pd.DataFrame\n",
    "    \"\"\"\n",
    "\n",
    "    res = []\n",
    "    dataset_paths = sorted([os.path.join(path_to_dataset, filename) for filename in os.listdir(path_to_dataset)\n",
    "                              if filename.startswith('train')])\n",
    "    print(dataset_paths)\n",
    "\n",
    "    start_from = max(0, start_from)\n",
    "    chunks = dataset_paths[start_from: start_from + num_parts_to_read]\n",
    "    if verbose:\n",
    "        print('Reading chunks:\\n')\n",
    "        for chunk in chunks:\n",
    "            print(chunk)\n",
    "\n",
    "\n",
    "    transformers_trf = []  \n",
    "    for i in range(len(transformers)):  \n",
    "            transformers_trf.append((transformers[i].__name__+'_trf', FunctionTransformer(transformers[i])))  \n",
    "    pipeline = Pipeline(transformers_trf) \n",
    "\n",
    "    for chunk_path in tqdm.tqdm_notebook(chunks, desc=\"Reading dataset\"): \n",
    "        print('chunk_path ', chunk_path)\n",
    "        chunk = fastparquet.ParquetFile(chunk_path).to_pandas()\n",
    "\n",
    "        chunk = pipeline.fit_transform(chunk)  \n",
    "\n",
    "        res.append(chunk)\n",
    "\n",
    "\n",
    "    res = pd.concat(res).reset_index(drop=True)\n",
    "\n",
    "    keys = res.isnull().sum().keys()\n",
    "    nan_values = res.isnull().sum()\n",
    "    cols_w_nans = []\n",
    "    for key in keys:\n",
    "        if nan_values[key] > 0:\n",
    "            cols_w_nans.append(key)\n",
    "\n",
    "    for col in cols_w_nans:\n",
    "        res.loc[res[col].isna() == True, col] = 0\n",
    "\n",
    "\n",
    "\n",
    "    return res      "
   ]
  },
  {
   "cell_type": "code",
   "execution_count": 142,
   "id": "d06ce74d",
   "metadata": {},
   "outputs": [],
   "source": [
    "def fit_model( df: pd.DataFrame, ):\n",
    "\n",
    "    shares = True\n",
    "    share = (60, 40)\n",
    "\n",
    "    if shares == True:\n",
    "        shares = f'{share[0]}-{share[1]} shares'\n",
    "    else:\n",
    "        shares = f'no shares'\n",
    "\n",
    "    df2, df_transformed_test = train_test_split(res, stratify=res['flag'], test_size=0.2, )\n",
    "\n",
    "    df2 = sample_df(df2,round(df2.flag.value_counts()[1] / share[1] * 100-1, 0) , share[0], share[1])\n",
    "\n",
    "    X, y = df2.drop('flag', axis=1), df2.flag\n",
    "    X_test, y_test = df_transformed_test.drop('flag', axis=1), df_transformed_test.flag\n",
    "\n",
    "    model = xgb.XGBClassifier(colsample_bytree=0.9, gamma=0.1, learning_rate=0.1, max_depth=5, n_estimators=400, subsample=0.8)\n",
    "\n",
    "    model.fit(X, y)  \n",
    "\n",
    "    return model"
   ]
  },
  {
   "cell_type": "code",
   "execution_count": 156,
   "id": "96c5596a",
   "metadata": {},
   "outputs": [],
   "source": [
    "transformers_trf = [(default_transformers[i].__name__+'_trf', FunctionTransformer(default_transformers[i])) for i in range(10)]"
   ]
  },
  {
   "cell_type": "code",
   "execution_count": 157,
   "id": "bd8d0ace",
   "metadata": {},
   "outputs": [],
   "source": [
    "preprocessor = Pipeline(steps=transformers_trf)"
   ]
  },
  {
   "cell_type": "code",
   "execution_count": 158,
   "id": "05558b3e",
   "metadata": {},
   "outputs": [],
   "source": [
    "model = xgb.XGBClassifier(colsample_bytree=0.9, gamma=0.1, learning_rate=0.1, max_depth=5, n_estimators=400, subsample=0.8)"
   ]
  },
  {
   "cell_type": "code",
   "execution_count": 159,
   "id": "b3197ea2",
   "metadata": {},
   "outputs": [],
   "source": [
    "res = fastparquet.ParquetFile('train_data/df_compiled_v15_301_cols_full.pq')"
   ]
  },
  {
   "cell_type": "code",
   "execution_count": null,
   "id": "543f9082",
   "metadata": {},
   "outputs": [],
   "source": [
    "pipeline = Pipeline(steps = [\n",
    "    ('preprocessor', preprocessor), \n",
    "    ('classifier', model)  \n",
    "])\n",
    "\n",
    "y = df4['event_action']\n",
    "x = df4.drop('event_action', axis=1)\n",
    "\n",
    "pipeline.fit(x, y)"
   ]
  },
  {
   "cell_type": "code",
   "execution_count": null,
   "id": "eebe0a4d",
   "metadata": {},
   "outputs": [],
   "source": []
  },
  {
   "cell_type": "markdown",
   "id": "96f0a08b",
   "metadata": {},
   "source": [
    "# stage 2 compiling a dataset"
   ]
  },
  {
   "cell_type": "code",
   "execution_count": 35,
   "id": "8f4dd94f",
   "metadata": {},
   "outputs": [
    {
     "name": "stdout",
     "output_type": "stream",
     "text": [
      "['train_data/train_data_0.pq', 'train_data/train_data_1.pq', 'train_data/train_data_10.pq', 'train_data/train_data_11.pq', 'train_data/train_data_2.pq', 'train_data/train_data_3.pq', 'train_data/train_data_4.pq', 'train_data/train_data_5.pq', 'train_data/train_data_6.pq', 'train_data/train_data_7.pq', 'train_data/train_data_8.pq', 'train_data/train_data_9.pq', 'train_data/train_target.csv']\n",
      "Reading chunks:\n",
      "\n",
      "train_data/train_data_0.pq\n",
      "train_data/train_data_1.pq\n",
      "train_data/train_data_10.pq\n",
      "train_data/train_data_11.pq\n",
      "train_data/train_data_2.pq\n",
      "train_data/train_data_3.pq\n",
      "train_data/train_data_4.pq\n",
      "train_data/train_data_5.pq\n",
      "train_data/train_data_6.pq\n",
      "train_data/train_data_7.pq\n",
      "train_data/train_data_8.pq\n",
      "train_data/train_data_9.pq\n"
     ]
    },
    {
     "name": "stderr",
     "output_type": "stream",
     "text": [
      "C:\\Users\\User\\AppData\\Local\\Temp\\ipykernel_10908\\426200599.py:40: TqdmDeprecationWarning: This function will be removed in tqdm==5.0.0\n",
      "Please use `tqdm.notebook.tqdm` instead of `tqdm.tqdm_notebook`\n",
      "  for chunk_path in tqdm.tqdm_notebook(chunks, desc=\"Reading dataset with pandas\"):\n"
     ]
    },
    {
     "data": {
      "application/vnd.jupyter.widget-view+json": {
       "model_id": "8f826fa65e124b97a0e19cab1878e354",
       "version_major": 2,
       "version_minor": 0
      },
      "text/plain": [
       "Reading dataset with pandas:   0%|          | 0/12 [00:00<?, ?it/s]"
      ]
     },
     "metadata": {},
     "output_type": "display_data"
    },
    {
     "name": "stdout",
     "output_type": "stream",
     "text": [
      "chunk_path train_data/train_data_0.pq\n"
     ]
    },
    {
     "data": {
      "application/vnd.jupyter.widget-view+json": {
       "model_id": "74177b4979754919a9d65aaeac8826a1",
       "version_major": 2,
       "version_minor": 0
      },
      "text/plain": [
       "FloatProgress(value=0.0, layout=Layout(width='auto'), style=ProgressStyle(bar_color='black'))"
      ]
     },
     "metadata": {},
     "output_type": "display_data"
    },
    {
     "name": "stdout",
     "output_type": "stream",
     "text": [
      "chunk_path train_data/train_data_1.pq\n"
     ]
    },
    {
     "data": {
      "application/vnd.jupyter.widget-view+json": {
       "model_id": "c87256280e004cc0bb092f2dcfd071e5",
       "version_major": 2,
       "version_minor": 0
      },
      "text/plain": [
       "FloatProgress(value=0.0, layout=Layout(width='auto'), style=ProgressStyle(bar_color='black'))"
      ]
     },
     "metadata": {},
     "output_type": "display_data"
    },
    {
     "name": "stdout",
     "output_type": "stream",
     "text": [
      "chunk_path train_data/train_data_10.pq\n"
     ]
    },
    {
     "data": {
      "application/vnd.jupyter.widget-view+json": {
       "model_id": "a1c0ebb25b8a445db8ef7df1a53f4566",
       "version_major": 2,
       "version_minor": 0
      },
      "text/plain": [
       "FloatProgress(value=0.0, layout=Layout(width='auto'), style=ProgressStyle(bar_color='black'))"
      ]
     },
     "metadata": {},
     "output_type": "display_data"
    },
    {
     "name": "stdout",
     "output_type": "stream",
     "text": [
      "chunk_path train_data/train_data_11.pq\n"
     ]
    },
    {
     "data": {
      "application/vnd.jupyter.widget-view+json": {
       "model_id": "42392cc0a9674e0daa2491b6abf1ac50",
       "version_major": 2,
       "version_minor": 0
      },
      "text/plain": [
       "FloatProgress(value=0.0, layout=Layout(width='auto'), style=ProgressStyle(bar_color='black'))"
      ]
     },
     "metadata": {},
     "output_type": "display_data"
    },
    {
     "name": "stdout",
     "output_type": "stream",
     "text": [
      "chunk_path train_data/train_data_2.pq\n"
     ]
    },
    {
     "data": {
      "application/vnd.jupyter.widget-view+json": {
       "model_id": "94398a2a99484806a6d37340a5682d76",
       "version_major": 2,
       "version_minor": 0
      },
      "text/plain": [
       "FloatProgress(value=0.0, layout=Layout(width='auto'), style=ProgressStyle(bar_color='black'))"
      ]
     },
     "metadata": {},
     "output_type": "display_data"
    },
    {
     "name": "stdout",
     "output_type": "stream",
     "text": [
      "chunk_path train_data/train_data_3.pq\n"
     ]
    },
    {
     "data": {
      "application/vnd.jupyter.widget-view+json": {
       "model_id": "d402ab95be7248f6afdf8db334ce05cf",
       "version_major": 2,
       "version_minor": 0
      },
      "text/plain": [
       "FloatProgress(value=0.0, layout=Layout(width='auto'), style=ProgressStyle(bar_color='black'))"
      ]
     },
     "metadata": {},
     "output_type": "display_data"
    },
    {
     "name": "stdout",
     "output_type": "stream",
     "text": [
      "chunk_path train_data/train_data_4.pq\n"
     ]
    },
    {
     "data": {
      "application/vnd.jupyter.widget-view+json": {
       "model_id": "e22375a0f1a3475198701ab99baedc5b",
       "version_major": 2,
       "version_minor": 0
      },
      "text/plain": [
       "FloatProgress(value=0.0, layout=Layout(width='auto'), style=ProgressStyle(bar_color='black'))"
      ]
     },
     "metadata": {},
     "output_type": "display_data"
    },
    {
     "name": "stdout",
     "output_type": "stream",
     "text": [
      "chunk_path train_data/train_data_5.pq\n"
     ]
    },
    {
     "data": {
      "application/vnd.jupyter.widget-view+json": {
       "model_id": "894b63ff7ac846a88d8a44769b8ac75d",
       "version_major": 2,
       "version_minor": 0
      },
      "text/plain": [
       "FloatProgress(value=0.0, layout=Layout(width='auto'), style=ProgressStyle(bar_color='black'))"
      ]
     },
     "metadata": {},
     "output_type": "display_data"
    },
    {
     "name": "stdout",
     "output_type": "stream",
     "text": [
      "chunk_path train_data/train_data_6.pq\n"
     ]
    },
    {
     "data": {
      "application/vnd.jupyter.widget-view+json": {
       "model_id": "5ddf557129de49f09a4203970e5f4d75",
       "version_major": 2,
       "version_minor": 0
      },
      "text/plain": [
       "FloatProgress(value=0.0, layout=Layout(width='auto'), style=ProgressStyle(bar_color='black'))"
      ]
     },
     "metadata": {},
     "output_type": "display_data"
    },
    {
     "name": "stdout",
     "output_type": "stream",
     "text": [
      "chunk_path train_data/train_data_7.pq\n"
     ]
    },
    {
     "data": {
      "application/vnd.jupyter.widget-view+json": {
       "model_id": "15ee1975cf2743a897202c6eacc2f465",
       "version_major": 2,
       "version_minor": 0
      },
      "text/plain": [
       "FloatProgress(value=0.0, layout=Layout(width='auto'), style=ProgressStyle(bar_color='black'))"
      ]
     },
     "metadata": {},
     "output_type": "display_data"
    },
    {
     "name": "stdout",
     "output_type": "stream",
     "text": [
      "chunk_path train_data/train_data_8.pq\n"
     ]
    },
    {
     "data": {
      "application/vnd.jupyter.widget-view+json": {
       "model_id": "758f925fed964681aaea07c6be424fac",
       "version_major": 2,
       "version_minor": 0
      },
      "text/plain": [
       "FloatProgress(value=0.0, layout=Layout(width='auto'), style=ProgressStyle(bar_color='black'))"
      ]
     },
     "metadata": {},
     "output_type": "display_data"
    },
    {
     "name": "stdout",
     "output_type": "stream",
     "text": [
      "chunk_path train_data/train_data_9.pq\n"
     ]
    },
    {
     "data": {
      "application/vnd.jupyter.widget-view+json": {
       "model_id": "b6f6095458e6467d84799dfa41ab3c24",
       "version_major": 2,
       "version_minor": 0
      },
      "text/plain": [
       "FloatProgress(value=0.0, layout=Layout(width='auto'), style=ProgressStyle(bar_color='black'))"
      ]
     },
     "metadata": {},
     "output_type": "display_data"
    }
   ],
   "source": [
    "res = read_parquet_dataset_from_local('train_data/', # где лежат данные\n",
    "                                0,         # с какого куска начать\n",
    "                                12,         # сколько обработать\n",
    "                                None,      # какие колонки брать None = все\n",
    "                                True,      # выводить что сейчас происходит\n",
    "                                [answers_func,  # лист функций-трансформеров \n",
    "                                 outstanding_loans_summ,\n",
    "                                 credit_status_general_mean,\n",
    "                                 credit_status_prevalent_atm,\n",
    "                                 overdue_and_quick_closure_duck,\n",
    "                                 ohe_holder_type_and_account_cur,\n",
    "                                 credit_line_length,\n",
    "                                 dropping_cols,\n",
    "                                 max_rn,\n",
    "                                ])"
   ]
  },
  {
   "cell_type": "code",
   "execution_count": 36,
   "id": "80746b96",
   "metadata": {},
   "outputs": [],
   "source": [
    "# res.to_csv('train_data/df_compiled_v2_last_product_more_cols.csv', index=False)  \n",
    "\n",
    "fastparquet.write('train_data/df_compiled_v4_135_cols_full.pq', res)"
   ]
  },
  {
   "cell_type": "markdown",
   "id": "36501c5e",
   "metadata": {},
   "source": [
    "res = None\n",
    "res1 = fastparquet.ParquetFile('train_data/df_compiled_v2_last_product_just_enough_cols_part_1.pq').to_pandas()\n",
    "res2 = fastparquet.ParquetFile('train_data/df_compiled_v2_last_product_just_enough_cols_part_2.pq').to_pandas()\n",
    "res = pd.concat([res1, res2], ignore_index=True)\n",
    "fastparquet.write('train_data/df_compiled_v2_last_product_just_enough_cols_full.pq', res)"
   ]
  },
  {
   "cell_type": "markdown",
   "id": "0bbe518f",
   "metadata": {},
   "source": [
    "temp_col = res['credit_line_length']\n",
    "res = res.drop('credit_line_length', axis=1)\n",
    "res['credit_line_length'] = temp_col"
   ]
  },
  {
   "cell_type": "code",
   "execution_count": 33,
   "id": "bf0fb50e",
   "metadata": {},
   "outputs": [],
   "source": [
    "res = fastparquet.ParquetFile('train_data/df_compiled_v2_last_product_more_cols.parq').to_pandas()"
   ]
  },
  {
   "cell_type": "code",
   "execution_count": 22,
   "id": "2cd6bd7f",
   "metadata": {},
   "outputs": [],
   "source": [
    "log = [ \"now trying with 'ohe'ing one more col - pre_loans_max_overdue_sum\",\n",
    " 'shares are (40, 60), fit size 532208, 135 cols, score 0.7648398722386806',\n",
    " 'shares are (50, 50), fit size 532208, 135 cols, score 0.7649268557177284',\n",
    " 'shares are (60, 40), fit size 532208, 135 cols, score 0.7637724130254286',\n",
    " 'shares are (70, 30), fit size 532208, 135 cols, score 0.7635760290628861',\n",
    " 'shares are (80, 20), fit size 532208, 135 cols, score 0.761758429933967']"
   ]
  },
  {
   "cell_type": "code",
   "execution_count": 38,
   "id": "ab2fd40f",
   "metadata": {},
   "outputs": [
    {
     "data": {
      "text/plain": [
       "(3000000, 135)"
      ]
     },
     "execution_count": 38,
     "metadata": {},
     "output_type": "execute_result"
    }
   ],
   "source": [
    "res.shape"
   ]
  },
  {
   "cell_type": "code",
   "execution_count": 37,
   "id": "e816a41a",
   "metadata": {},
   "outputs": [],
   "source": [
    "shares = [\n",
    "#     (20,80),\n",
    "    (30,70),\n",
    "    (40,60),\n",
    "    (50,50),\n",
    "    (60,40),\n",
    "    (70,30),\n",
    "    (80,20),\n",
    "#     (90,10),\n",
    "]"
   ]
  },
  {
   "cell_type": "code",
   "execution_count": 39,
   "id": "285c1fa3",
   "metadata": {},
   "outputs": [
    {
     "data": {
      "application/vnd.jupyter.widget-view+json": {
       "model_id": "07d35b36122a410babf12740cd2fff89",
       "version_major": 2,
       "version_minor": 0
      },
      "text/plain": [
       "cycling through share variants:   0%|          | 0/6 [00:00<?, ?it/s]"
      ]
     },
     "metadata": {},
     "output_type": "display_data"
    },
    {
     "name": "stdout",
     "output_type": "stream",
     "text": [
      "shares for neg/pos are: (30, 70)\n",
      "Best Model ROC AUC: 0.7238084333492668\n",
      "Best params: {'learning_rate': 0.1, 'max_depth': 5, 'n_estimators': 300}\n",
      "-----\n",
      "  \n",
      "shares for neg/pos are: (40, 60)\n",
      "Best Model ROC AUC: 0.7262030570041587\n",
      "Best params: {'learning_rate': 0.1, 'max_depth': 5, 'n_estimators': 300}\n",
      "-----\n",
      "  \n",
      "shares for neg/pos are: (50, 50)\n",
      "Best Model ROC AUC: 0.7260096062081343\n",
      "Best params: {'learning_rate': 0.1, 'max_depth': 5, 'n_estimators': 300}\n",
      "-----\n",
      "  \n",
      "shares for neg/pos are: (60, 40)\n",
      "Best Model ROC AUC: 0.7297841214946539\n",
      "Best params: {'learning_rate': 0.1, 'max_depth': 5, 'n_estimators': 300}\n",
      "-----\n",
      "  \n",
      "shares for neg/pos are: (70, 30)\n",
      "Best Model ROC AUC: 0.7296640024996561\n",
      "Best params: {'learning_rate': 0.1, 'max_depth': 7, 'n_estimators': 300}\n",
      "-----\n",
      "  \n",
      "shares for neg/pos are: (80, 20)\n",
      "Best Model ROC AUC: 0.7273846250031929\n",
      "Best params: {'learning_rate': 0.1, 'max_depth': 7, 'n_estimators': 300}\n",
      "-----\n",
      "  \n"
     ]
    }
   ],
   "source": [
    "\n",
    "\n",
    "log.append(f'''now trying with 'ohe'ing one more col - pre_loans_max_overdue_sum''')\n",
    "\n",
    "for share in tqdm.notebook.tqdm(shares, desc=\"cycling through share variants\"):\n",
    "# for share in shares:\n",
    "    df2, df_transformed_test = train_test_split(res, stratify=res['flag'], test_size=0.2)\n",
    "\n",
    "    df2 = sample_df(df2,round(df2.flag.value_counts()[1] / share[1] * 100-1, 0) , share[0], share[1])\n",
    "\n",
    "#     X, y = df2.drop('flag', axis=1), df2.flag\n",
    "\n",
    "    # Split the dataset into training and testing sets\n",
    "#     X_train, X_test, y_train, y_test = train_test_split(X, y, test_size=0.2)\n",
    "    X_train, y_train = df2.drop('flag', axis=1), df2.flag\n",
    "    \n",
    "    X_test, y_test = df_transformed_test.drop('flag', axis=1), df_transformed_test.flag\n",
    "\n",
    "    # Define the XGBoost classifier\n",
    "    model = xgb.XGBClassifier()\n",
    "\n",
    "    # Define the parameter grid for GridSearchCV\n",
    "    param_grid = {\n",
    "        'max_depth': [5, 7],#, 3],\n",
    "        'learning_rate': [0.1],#, 0.01],\n",
    "        'n_estimators': [300, 200],\n",
    "    }\n",
    "    \n",
    "#     param_grid = {\n",
    "#     'n_estimators': [ 200, 210], #,100],\n",
    "#     'learning_rate': [0.1],  #[0.05, 0.1, 0.2],\n",
    "#     'max_depth': [ 4, 5], # ,3],\n",
    "#     'subsample': [0.9, 1.0,0.8, 0.7],\n",
    "#     'colsample_bytree': [0.8, 0.9]#, 1.0]\n",
    "#     }\n",
    "\n",
    "    # Define ROC AUC as the scoring metric for GridSearchCV\n",
    "    roc_auc_scorer = make_scorer(roc_auc_score, greater_is_better=True, needs_proba=True)\n",
    "\n",
    "    # Perform GridSearchCV with ROC AUC as the scoring metric\n",
    "    grid_search = GridSearchCV(model, param_grid, cv=5, scoring=roc_auc_scorer)\n",
    "    grid_search.fit(X_train, y_train)\n",
    "\n",
    "    # Get the best model from GridSearchCV\n",
    "    best_model = grid_search.best_estimator_\n",
    "\n",
    "    # Make predictions on the test set using the best model\n",
    "    y_pred_proba = best_model.predict_proba(X_test)\n",
    "    roc_auc = roc_auc_score(y_test, y_pred_proba[:, 1], multi_class='ovr')\n",
    "    print('shares for neg/pos are:', share)\n",
    "    print('Best Model ROC AUC:', roc_auc)\n",
    "    print('Best params:', grid_search.best_params_)\n",
    "    print('-----')\n",
    "    print('  ')\n",
    "    log.append(f'shares are {share}, fit size {len(X_train)}, {res.shape[1]} cols, score {roc_auc}')"
   ]
  },
  {
   "cell_type": "code",
   "execution_count": 40,
   "id": "96999932",
   "metadata": {
    "scrolled": true
   },
   "outputs": [
    {
     "data": {
      "text/plain": [
       "[\"now trying with 'ohe'ing one more col - pre_loans_max_overdue_sum\",\n",
       " 'shares are (40, 60), fit size 532208, 135 cols, score 0.7648398722386806',\n",
       " 'shares are (50, 50), fit size 532208, 135 cols, score 0.7649268557177284',\n",
       " 'shares are (60, 40), fit size 532208, 135 cols, score 0.7637724130254286',\n",
       " 'shares are (70, 30), fit size 532208, 135 cols, score 0.7635760290628861',\n",
       " 'shares are (80, 20), fit size 532208, 135 cols, score 0.761758429933967',\n",
       " \"now trying with 'ohe'ing one more col - pre_loans_max_overdue_sum\",\n",
       " \"now trying with 'ohe'ing one more col - pre_loans_max_overdue_sum\",\n",
       " \"now trying with 'ohe'ing one more col - pre_loans_max_overdue_sum\",\n",
       " 'shares are (30, 70), fit size 121647, 135 cols, score 0.7238084333492668',\n",
       " 'shares are (40, 60), fit size 141921, 135 cols, score 0.7262030570041587',\n",
       " 'shares are (50, 50), fit size 170306, 135 cols, score 0.7260096062081343',\n",
       " 'shares are (60, 40), fit size 212883, 135 cols, score 0.7297841214946539',\n",
       " 'shares are (70, 30), fit size 283845, 135 cols, score 0.7296640024996561',\n",
       " 'shares are (80, 20), fit size 425768, 135 cols, score 0.7273846250031929']"
      ]
     },
     "execution_count": 40,
     "metadata": {},
     "output_type": "execute_result"
    }
   ],
   "source": [
    "log"
   ]
  },
  {
   "cell_type": "code",
   "execution_count": 41,
   "id": "56a77177",
   "metadata": {},
   "outputs": [
    {
     "data": {
      "application/vnd.jupyter.widget-view+json": {
       "model_id": "55fb66ab7d3b48e1863299efc9371837",
       "version_major": 2,
       "version_minor": 0
      },
      "text/plain": [
       "cycling through share variants:   0%|          | 0/6 [00:00<?, ?it/s]"
      ]
     },
     "metadata": {},
     "output_type": "display_data"
    },
    {
     "name": "stdout",
     "output_type": "stream",
     "text": [
      "shares for neg/pos are: (30, 70)\n",
      "Best Model ROC AUC: 0.7354964466692765\n",
      "Best params: {'learning_rate': 0.1, 'max_depth': 5, 'n_estimators': 300}\n",
      "-----\n",
      "  \n",
      "shares for neg/pos are: (40, 60)\n",
      "Best Model ROC AUC: 0.737865680379252\n",
      "Best params: {'learning_rate': 0.1, 'max_depth': 5, 'n_estimators': 300}\n",
      "-----\n",
      "  \n",
      "shares for neg/pos are: (50, 50)\n",
      "Best Model ROC AUC: 0.7426366316311475\n",
      "Best params: {'learning_rate': 0.1, 'max_depth': 5, 'n_estimators': 300}\n",
      "-----\n",
      "  \n",
      "shares for neg/pos are: (60, 40)\n",
      "Best Model ROC AUC: 0.7394151460984678\n",
      "Best params: {'learning_rate': 0.1, 'max_depth': 5, 'n_estimators': 300}\n",
      "-----\n",
      "  \n",
      "shares for neg/pos are: (70, 30)\n",
      "Best Model ROC AUC: 0.7635593350429105\n",
      "Best params: {'learning_rate': 0.1, 'max_depth': 7, 'n_estimators': 300}\n",
      "-----\n",
      "  \n",
      "shares for neg/pos are: (80, 20)\n",
      "Best Model ROC AUC: 0.7689510939856623\n",
      "Best params: {'learning_rate': 0.1, 'max_depth': 7, 'n_estimators': 300}\n",
      "-----\n",
      "  \n"
     ]
    }
   ],
   "source": [
    "\n",
    "\n",
    "log.append(f'''now trying with 'ohe'ing one more col - pre_loans_max_overdue_sum''')\n",
    "\n",
    "for share in tqdm.notebook.tqdm(shares, desc=\"cycling through share variants\"):\n",
    "# for share in shares:\n",
    "    df2, df_transformed_test = train_test_split(res, stratify=res['flag'], test_size=0.2)\n",
    "\n",
    "    df2 = sample_df(res,round(res.flag.value_counts()[1] / share[1] * 100-1, 0) , share[0], share[1])\n",
    "\n",
    "#     X, y = df2.drop('flag', axis=1), df2.flag\n",
    "\n",
    "    # Split the dataset into training and testing sets\n",
    "#     X_train, X_test, y_train, y_test = train_test_split(X, y, test_size=0.2)\n",
    "    X_train, y_train = df2.drop('flag', axis=1), df2.flag\n",
    "    \n",
    "    X_test, y_test = df_transformed_test.drop('flag', axis=1), df_transformed_test.flag\n",
    "\n",
    "    # Define the XGBoost classifier\n",
    "    model = xgb.XGBClassifier()\n",
    "\n",
    "    # Define the parameter grid for GridSearchCV\n",
    "    param_grid = {\n",
    "        'max_depth': [5, 7],#, 3],\n",
    "        'learning_rate': [0.1],#, 0.01],\n",
    "        'n_estimators': [300, 200],\n",
    "    }\n",
    "    \n",
    "#     param_grid = {\n",
    "#     'n_estimators': [ 200, 210], #,100],\n",
    "#     'learning_rate': [0.1],  #[0.05, 0.1, 0.2],\n",
    "#     'max_depth': [ 4, 5], # ,3],\n",
    "#     'subsample': [0.9, 1.0,0.8, 0.7],\n",
    "#     'colsample_bytree': [0.8, 0.9]#, 1.0]\n",
    "#     }\n",
    "\n",
    "    # Define ROC AUC as the scoring metric for GridSearchCV\n",
    "    roc_auc_scorer = make_scorer(roc_auc_score, greater_is_better=True, needs_proba=True)\n",
    "\n",
    "    # Perform GridSearchCV with ROC AUC as the scoring metric\n",
    "    grid_search = GridSearchCV(model, param_grid, cv=5, scoring=roc_auc_scorer)\n",
    "    grid_search.fit(X_train, y_train)\n",
    "\n",
    "    # Get the best model from GridSearchCV\n",
    "    best_model = grid_search.best_estimator_\n",
    "\n",
    "    # Make predictions on the test set using the best model\n",
    "    y_pred_proba = best_model.predict_proba(X_test)\n",
    "    roc_auc = roc_auc_score(y_test, y_pred_proba[:, 1], multi_class='ovr')\n",
    "    print('shares for neg/pos are:', share)\n",
    "    print('Best Model ROC AUC:', roc_auc)\n",
    "    print('Best params:', grid_search.best_params_)\n",
    "    print('-----')\n",
    "    print('  ')\n",
    "    log.append(f'shares are {share}, fit size {len(X_train)}, {res.shape[1]} cols, score {roc_auc}')"
   ]
  },
  {
   "cell_type": "code",
   "execution_count": 42,
   "id": "e3b03198",
   "metadata": {},
   "outputs": [
    {
     "data": {
      "text/plain": [
       "[\"now trying with 'ohe'ing one more col - pre_loans_max_overdue_sum\",\n",
       " 'shares are (40, 60), fit size 532208, 135 cols, score 0.7648398722386806',\n",
       " 'shares are (50, 50), fit size 532208, 135 cols, score 0.7649268557177284',\n",
       " 'shares are (60, 40), fit size 532208, 135 cols, score 0.7637724130254286',\n",
       " 'shares are (70, 30), fit size 532208, 135 cols, score 0.7635760290628861',\n",
       " 'shares are (80, 20), fit size 532208, 135 cols, score 0.761758429933967',\n",
       " \"now trying with 'ohe'ing one more col - pre_loans_max_overdue_sum\",\n",
       " \"now trying with 'ohe'ing one more col - pre_loans_max_overdue_sum\",\n",
       " \"now trying with 'ohe'ing one more col - pre_loans_max_overdue_sum\",\n",
       " 'shares are (30, 70), fit size 121647, 135 cols, score 0.7238084333492668',\n",
       " 'shares are (40, 60), fit size 141921, 135 cols, score 0.7262030570041587',\n",
       " 'shares are (50, 50), fit size 170306, 135 cols, score 0.7260096062081343',\n",
       " 'shares are (60, 40), fit size 212883, 135 cols, score 0.7297841214946539',\n",
       " 'shares are (70, 30), fit size 283845, 135 cols, score 0.7296640024996561',\n",
       " 'shares are (80, 20), fit size 425768, 135 cols, score 0.7273846250031929',\n",
       " \"now trying with 'ohe'ing one more col - pre_loans_max_overdue_sum\",\n",
       " 'shares are (30, 70), fit size 152058, 135 cols, score 0.7354964466692765',\n",
       " 'shares are (40, 60), fit size 177401, 135 cols, score 0.737865680379252',\n",
       " 'shares are (50, 50), fit size 212882, 135 cols, score 0.7426366316311475',\n",
       " 'shares are (60, 40), fit size 266103, 135 cols, score 0.7394151460984678',\n",
       " 'shares are (70, 30), fit size 354805, 135 cols, score 0.7635593350429105',\n",
       " 'shares are (80, 20), fit size 532208, 135 cols, score 0.7689510939856623']"
      ]
     },
     "execution_count": 42,
     "metadata": {},
     "output_type": "execute_result"
    }
   ],
   "source": [
    "log"
   ]
  },
  {
   "cell_type": "code",
   "execution_count": null,
   "id": "1ce82268",
   "metadata": {},
   "outputs": [],
   "source": [
    "res.columns == df_transformed_test.columns"
   ]
  },
  {
   "cell_type": "markdown",
   "id": "498c2442",
   "metadata": {},
   "source": [
    "temp_col = df_transformed_test['enc_loans_credit_type_6']\n",
    "df_transformed_test = df_transformed_test.drop('enc_loans_credit_type_6', axis=1)\n",
    "df_transformed_test['enc_loans_credit_type_6'] = temp_col\n",
    "\n",
    "temp_col = df_transformed_test['enc_loans_credit_type_7']\n",
    "df_transformed_test = df_transformed_test.drop('enc_loans_credit_type_7', axis=1)\n",
    "df_transformed_test['enc_loans_credit_type_7'] = temp_col"
   ]
  },
  {
   "cell_type": "code",
   "execution_count": 102,
   "id": "8b5e5e00",
   "metadata": {},
   "outputs": [
    {
     "data": {
      "application/vnd.jupyter.widget-view+json": {
       "model_id": "48d274681cc4483f9278ddaf72e63c17",
       "version_major": 2,
       "version_minor": 0
      },
      "text/plain": [
       "FloatProgress(value=0.0, layout=Layout(width='auto'), style=ProgressStyle(bar_color='black'))"
      ]
     },
     "metadata": {},
     "output_type": "display_data"
    }
   ],
   "source": [
    "df_test = fastparquet.ParquetFile('train_data/train_data_6.pq').to_pandas()\n",
    "# df_test = pd.merge(df_test, answers, on='id', how='left')\n",
    "\n",
    "\n",
    "answers_func_trf = FunctionTransformer(answers_func)\n",
    "outstanding_loans_summ_trf = FunctionTransformer(outstanding_loans_summ)\n",
    "overdue_and_quick_closure_duck_trf = FunctionTransformer(overdue_and_quick_closure_duck)\n",
    "credit_status_general_mean_trf = FunctionTransformer(credit_status_general_mean)\n",
    "credit_status_prevalent_atm_trf = FunctionTransformer(credit_status_prevalent_atm)\n",
    "ohe_holder_type_and_account_cur_trf = FunctionTransformer(ohe_holder_type_and_account_cur)\n",
    "dropping_cols_trf = FunctionTransformer(dropping_cols)\n",
    "credit_line_length_trf = FunctionTransformer(credit_line_length)\n",
    "max_rn_trf = FunctionTransformer(max_rn)\n",
    "\n",
    "pipeline = Pipeline([\n",
    "    ('answers_func_trf', answers_func_trf),\n",
    "    ('outstanding_loans_summ_trf', outstanding_loans_summ_trf),\n",
    "    ('credit_status_general_mean_trf', credit_status_general_mean_trf),\n",
    "    ('credit_status_prevalent_atm_trf', credit_status_prevalent_atm_trf),\n",
    "    ('overdue_and_quick_closure_duck_trf', overdue_and_quick_closure_duck_trf),\n",
    "    ('ohe_holder_type_and_account_cur_trf', ohe_holder_type_and_account_cur_trf),\n",
    "    ('credit_line_length_trf', credit_line_length_trf),\n",
    "    ('dropping_cols_trf', dropping_cols_trf),\n",
    "    ('max_rn_trf', max_rn_trf),\n",
    "])\n",
    "\n",
    "df_transformed_test = pipeline.fit_transform(df_test)"
   ]
  },
  {
   "cell_type": "code",
   "execution_count": 120,
   "id": "db12e2ee",
   "metadata": {},
   "outputs": [
    {
     "name": "stdout",
     "output_type": "stream",
     "text": [
      "Best Model ROC AUC: 0.7048856268141634\n",
      "-----\n",
      "  \n"
     ]
    }
   ],
   "source": [
    "\n",
    "\n",
    "X_test, y_test = df_transformed_test.drop('flag', axis=1), df_transformed_test.flag\n",
    "y_pred_proba = best_model.predict_proba(X_test)\n",
    "roc_auc = roc_auc_score(y_test, y_pred_proba[:, 1], multi_class='ovr')\n",
    "# print('shares for neg/pos are:', share)\n",
    "print('Best Model ROC AUC:', roc_auc)\n",
    "# print('Best params:', grid_search.best_params_)\n",
    "print('-----')\n",
    "print('  ')\n",
    "# log.append(f'shares are {share}, fit size {len(X)}, {res.shape[1]} cols, score {roc_auc}')\n"
   ]
  },
  {
   "cell_type": "code",
   "execution_count": 87,
   "id": "cdf72f1d",
   "metadata": {},
   "outputs": [],
   "source": [
    "with open('model.pkl', 'wb') as file:\n",
    "    pickle.dump(best_model, file)"
   ]
  },
  {
   "cell_type": "code",
   "execution_count": 25,
   "id": "0055b460",
   "metadata": {},
   "outputs": [],
   "source": [
    "\n",
    "# Load the XGBoost model from the pickle file\n",
    "with open('model.pkl', 'rb') as file:\n",
    "    model_loaded = pickle.load(file)\n"
   ]
  },
  {
   "cell_type": "code",
   "execution_count": null,
   "id": "3862bc00",
   "metadata": {},
   "outputs": [],
   "source": []
  },
  {
   "cell_type": "code",
   "execution_count": null,
   "id": "5d6ad9d8",
   "metadata": {},
   "outputs": [],
   "source": []
  },
  {
   "cell_type": "code",
   "execution_count": null,
   "id": "d0d1247a",
   "metadata": {},
   "outputs": [],
   "source": []
  },
  {
   "cell_type": "code",
   "execution_count": 24,
   "id": "1f920298",
   "metadata": {},
   "outputs": [],
   "source": [
    "df2 = sample_df(res, 200000, 50, 50)"
   ]
  },
  {
   "cell_type": "code",
   "execution_count": 25,
   "id": "839b1bc0",
   "metadata": {},
   "outputs": [
    {
     "name": "stdout",
     "output_type": "stream",
     "text": [
      "Best Model ROC AUC: 0.73722895390651\n",
      "Best params: {'learning_rate': 0.1, 'max_depth': 5, 'n_estimators': 100}\n"
     ]
    }
   ],
   "source": [
    "import xgboost as xgb\n",
    "from sklearn.model_selection import train_test_split, GridSearchCV\n",
    "from sklearn.metrics import roc_auc_score, make_scorer\n",
    "\n",
    "X, y = df2.drop('flag', axis=1), df2.flag\n",
    "\n",
    "# Split the dataset into training and testing sets\n",
    "X_train, X_test, y_train, y_test = train_test_split(X, y, test_size=0.2)\n",
    "\n",
    "# Define the XGBoost classifier\n",
    "model = xgb.XGBClassifier()\n",
    "\n",
    "# Define the parameter grid for GridSearchCV\n",
    "param_grid = {\n",
    "    'max_depth': [3, 5, 7],\n",
    "    'learning_rate': [0.1, 0.01, 0.001],\n",
    "    'n_estimators': [50, 100, 200],\n",
    "}\n",
    "\n",
    "# Define ROC AUC as the scoring metric for GridSearchCV\n",
    "roc_auc_scorer = make_scorer(roc_auc_score, greater_is_better=True, needs_proba=True)\n",
    "\n",
    "# Perform GridSearchCV with ROC AUC as the scoring metric\n",
    "grid_search = GridSearchCV(model, param_grid, cv=3, scoring=roc_auc_scorer)\n",
    "grid_search.fit(X_train, y_train)\n",
    "\n",
    "# Get the best model from GridSearchCV\n",
    "best_model = grid_search.best_estimator_\n",
    "\n",
    "# Make predictions on the test set using the best model\n",
    "y_pred_proba = best_model.predict_proba(X_test)\n",
    "roc_auc = roc_auc_score(y_test, y_pred_proba[:, 1], multi_class='ovr')\n",
    "print('Best Model ROC AUC:', roc_auc)\n",
    "print('Best params:', grid_search.best_params_)"
   ]
  },
  {
   "cell_type": "code",
   "execution_count": 68,
   "id": "b6984e28",
   "metadata": {},
   "outputs": [
    {
     "name": "stdout",
     "output_type": "stream",
     "text": [
      "Model ROC AUC: 0.8293494058181983\n"
     ]
    }
   ],
   "source": [
    "import xgboost as xgb\n",
    "from sklearn.model_selection import train_test_split, GridSearchCV\n",
    "from sklearn.metrics import roc_auc_score, make_scorer\n",
    "\n",
    "X_train, y_train = df2.drop('flag', axis=1), df2.flag\n",
    "X_test, y_test = res2.drop('flag', axis=1), res2.flag\n",
    "\n",
    "\n",
    "# Define the XGBoost classifier\n",
    "model = xgb.XGBClassifier()\n",
    "\n",
    "# Define ROC AUC as the scoring metric for GridSearchCV\n",
    "roc_auc_scorer = make_scorer(roc_auc_score, greater_is_better=True, needs_proba=True)\n",
    "\n",
    "model.fit(X_train, y_train)\n",
    "\n",
    "# Make predictions on the test set using the best model\n",
    "y_pred_proba = model.predict_proba(X_test)\n",
    "roc_auc = roc_auc_score(y_test, y_pred_proba[:, 1], multi_class='ovr')\n",
    "print('Model ROC AUC:', roc_auc)\n"
   ]
  },
  {
   "cell_type": "code",
   "execution_count": null,
   "id": "f2ffb4e6",
   "metadata": {},
   "outputs": [],
   "source": []
  },
  {
   "cell_type": "code",
   "execution_count": null,
   "id": "cf619acb",
   "metadata": {},
   "outputs": [],
   "source": []
  },
  {
   "cell_type": "code",
   "execution_count": null,
   "id": "b00b067b",
   "metadata": {},
   "outputs": [],
   "source": []
  },
  {
   "cell_type": "code",
   "execution_count": 109,
   "id": "bd9b2a54",
   "metadata": {},
   "outputs": [],
   "source": [
    "overdue_and_quick_closure_duck_trf = FunctionTransformer(overdue_and_quick_closure_duck)\n",
    "credit_status_general_mean_trf = FunctionTransformer(credit_status_general_mean)\n",
    "credit_status_prevalent_atm_trf = FunctionTransformer(credit_status_prevalent_atm)\n",
    "ohe_holder_type_and_account_cur_trf = FunctionTransformer(ohe_holder_type_and_account_cur)\n",
    "dropping_cols_trf = FunctionTransformer(dropping_cols)"
   ]
  },
  {
   "cell_type": "code",
   "execution_count": 121,
   "id": "bd25d9ad",
   "metadata": {},
   "outputs": [],
   "source": [
    "\n",
    "df = df_backup.copy()"
   ]
  },
  {
   "cell_type": "code",
   "execution_count": 122,
   "id": "d3162eae",
   "metadata": {},
   "outputs": [],
   "source": [
    "overdue_and_quick_closure_duck_trf = FunctionTransformer(overdue_and_quick_closure_duck)\n",
    "credit_status_general_mean_trf = FunctionTransformer(credit_status_general_mean)\n",
    "credit_status_prevalent_atm_trf = FunctionTransformer(credit_status_prevalent_atm)\n",
    "ohe_holder_type_and_account_cur_trf = FunctionTransformer(ohe_holder_type_and_account_cur)\n",
    "dropping_cols_trf = FunctionTransformer(dropping_cols)\n",
    "\n",
    "pipeline = Pipeline([\n",
    "    ('overdue_and_quick_closure_duck_trf', overdue_and_quick_closure_duck_trf),\n",
    "    ('credit_status_general_mean_trf', credit_status_general_mean_trf),\n",
    "    ('credit_status_prevalent_atm_trf', credit_status_prevalent_atm_trf),\n",
    "    ('ohe_holder_type_and_account_cur_trf', ohe_holder_type_and_account_cur_trf),\n",
    "    ('dropping_cols_trf', dropping_cols_trf),\n",
    "])\n",
    "\n",
    "\n",
    "# Fit and transform the data through the custom functions\n",
    "df_transformed = pipeline.fit_transform(df)"
   ]
  },
  {
   "cell_type": "code",
   "execution_count": null,
   "id": "9ef5faa9",
   "metadata": {},
   "outputs": [],
   "source": []
  },
  {
   "cell_type": "markdown",
   "id": "206a4d2e",
   "metadata": {},
   "source": [
    "# stage 2  optiomizing engeneering"
   ]
  },
  {
   "cell_type": "code",
   "execution_count": null,
   "id": "cb93ff0b",
   "metadata": {},
   "outputs": [],
   "source": [
    "# blablabla\n",
    "# blablabla"
   ]
  },
  {
   "cell_type": "code",
   "execution_count": 18,
   "id": "383cac98",
   "metadata": {},
   "outputs": [],
   "source": [
    "# blablabla\n",
    "# blablabla# blablabla\n",
    "# blablabla"
   ]
  },
  {
   "cell_type": "markdown",
   "id": "69a52952",
   "metadata": {},
   "source": [
    "# result"
   ]
  },
  {
   "cell_type": "markdown",
   "id": "0ca86143",
   "metadata": {},
   "source": [
    "вся оптимизация превратилась в использование сначала долгой sql-библиотеки вместо панды, а потом менее долгой sql-библиотеки вместо панды"
   ]
  },
  {
   "cell_type": "code",
   "execution_count": 15,
   "id": "4f89c08c",
   "metadata": {},
   "outputs": [],
   "source": []
  },
  {
   "cell_type": "code",
   "execution_count": null,
   "id": "e2987b89",
   "metadata": {},
   "outputs": [],
   "source": []
  },
  {
   "cell_type": "code",
   "execution_count": null,
   "id": "af370d98",
   "metadata": {},
   "outputs": [],
   "source": []
  },
  {
   "cell_type": "code",
   "execution_count": null,
   "id": "28f772f3",
   "metadata": {},
   "outputs": [],
   "source": []
  },
  {
   "cell_type": "markdown",
   "id": "2beab670",
   "metadata": {},
   "source": [
    "# 1 гиппотеза. Сбалансировать таргет 50/50 \n"
   ]
  },
  {
   "cell_type": "code",
   "execution_count": 31,
   "id": "f697b7eb",
   "metadata": {},
   "outputs": [],
   "source": [
    "df = fastparquet.ParquetFile('train_data/train_data_0.pq').to_pandas()\n",
    "df = pd.merge(df, answers, on='id', how='left')"
   ]
  },
  {
   "cell_type": "code",
   "execution_count": 32,
   "id": "84bff417",
   "metadata": {
    "scrolled": true
   },
   "outputs": [],
   "source": [
    "df_balanced = sample_df(df, 100000, 50, 50)"
   ]
  },
  {
   "cell_type": "code",
   "execution_count": 33,
   "id": "5938a2f0",
   "metadata": {},
   "outputs": [],
   "source": [
    "results_dict = dict()"
   ]
  },
  {
   "cell_type": "code",
   "execution_count": 34,
   "id": "b39eba05",
   "metadata": {},
   "outputs": [],
   "source": [
    "models = [\n",
    "    KNeighborsClassifier(),\n",
    "    SVC(),\n",
    "    RandomForestClassifier(),\n",
    "    MLPClassifier(),\n",
    "    LogisticRegression(),\n",
    "    DecisionTreeClassifier(),\n",
    "    GaussianNB(),\n",
    "]\n"
   ]
  },
  {
   "cell_type": "code",
   "execution_count": 35,
   "id": "a1913f76",
   "metadata": {},
   "outputs": [],
   "source": [
    "x = df_balanced.drop('flag', axis=1)\n",
    "y = df_balanced['flag']\n"
   ]
  },
  {
   "cell_type": "code",
   "execution_count": 36,
   "id": "563732c9",
   "metadata": {},
   "outputs": [],
   "source": [
    "for model in models:\n",
    "    \n",
    "    cv_scores = cross_val_score(model, x, y, cv=3, scoring='roc_auc')\n",
    "    results_dict[str(model)[0:str(model).find('(')]] = mean(cv_scores)\n"
   ]
  },
  {
   "cell_type": "code",
   "execution_count": 37,
   "id": "b1fcae37",
   "metadata": {},
   "outputs": [
    {
     "data": {
      "text/plain": [
       "{'KNeighborsClassifier': 0.7986540612101817,\n",
       " 'SVC': 0.5027418088562982,\n",
       " 'RandomForestClassifier': 0.6509268064456147,\n",
       " 'MLPClassifier': 0.5473555645559914,\n",
       " 'LogisticRegression': 0.5259611913892658,\n",
       " 'DecisionTreeClassifier': 0.5501900048402487,\n",
       " 'GaussianNB': 0.5848770829222858}"
      ]
     },
     "execution_count": 37,
     "metadata": {},
     "output_type": "execute_result"
    }
   ],
   "source": [
    "results_dict"
   ]
  },
  {
   "cell_type": "code",
   "execution_count": 38,
   "id": "a5b86e54",
   "metadata": {},
   "outputs": [
    {
     "name": "stdout",
     "output_type": "stream",
     "text": [
      "Best Parameters: {'max_depth': None, 'min_samples_leaf': 4, 'min_samples_split': 2, 'n_estimators': 200}\n",
      "Best Score: 0.6631174643288474\n"
     ]
    }
   ],
   "source": [
    "model = RandomForestClassifier()\n",
    "\n",
    "# param_grid = {\n",
    "#     'n_neighbors': [3, 5, 7, 9],\n",
    "#     'weights': ['uniform', 'distance'],\n",
    "#     'p': [1, 2]  # 1 for Manhattan distance, 2 for Euclidean distance\n",
    "# }\n",
    "\n",
    "param_grid = {\n",
    "    'n_estimators': [50, 100, 200],\n",
    "    'max_depth': [None, 5, 10, 20],\n",
    "    'min_samples_split': [2, 5, 10],\n",
    "    'min_samples_leaf': [1, 2, 4]\n",
    "}\n",
    "\n",
    "grid_search = GridSearchCV(estimator=model, param_grid=param_grid, cv=3, scoring='roc_auc')\n",
    "grid_search.fit(x, y)\n",
    "\n",
    "best_params = grid_search.best_params_\n",
    "best_score = grid_search.best_score_\n",
    "\n",
    "print(\"Best Parameters:\", best_params)\n",
    "print(\"Best Score:\", best_score)"
   ]
  },
  {
   "cell_type": "code",
   "execution_count": 39,
   "id": "2bc3e2dc",
   "metadata": {},
   "outputs": [],
   "source": [
    "model = KNeighborsClassifier(n_neighbors=5, p=2, weights='distance')"
   ]
  },
  {
   "cell_type": "code",
   "execution_count": 40,
   "id": "d3254480",
   "metadata": {},
   "outputs": [
    {
     "data": {
      "text/html": [
       "<style>#sk-container-id-1 {color: black;background-color: white;}#sk-container-id-1 pre{padding: 0;}#sk-container-id-1 div.sk-toggleable {background-color: white;}#sk-container-id-1 label.sk-toggleable__label {cursor: pointer;display: block;width: 100%;margin-bottom: 0;padding: 0.3em;box-sizing: border-box;text-align: center;}#sk-container-id-1 label.sk-toggleable__label-arrow:before {content: \"▸\";float: left;margin-right: 0.25em;color: #696969;}#sk-container-id-1 label.sk-toggleable__label-arrow:hover:before {color: black;}#sk-container-id-1 div.sk-estimator:hover label.sk-toggleable__label-arrow:before {color: black;}#sk-container-id-1 div.sk-toggleable__content {max-height: 0;max-width: 0;overflow: hidden;text-align: left;background-color: #f0f8ff;}#sk-container-id-1 div.sk-toggleable__content pre {margin: 0.2em;color: black;border-radius: 0.25em;background-color: #f0f8ff;}#sk-container-id-1 input.sk-toggleable__control:checked~div.sk-toggleable__content {max-height: 200px;max-width: 100%;overflow: auto;}#sk-container-id-1 input.sk-toggleable__control:checked~label.sk-toggleable__label-arrow:before {content: \"▾\";}#sk-container-id-1 div.sk-estimator input.sk-toggleable__control:checked~label.sk-toggleable__label {background-color: #d4ebff;}#sk-container-id-1 div.sk-label input.sk-toggleable__control:checked~label.sk-toggleable__label {background-color: #d4ebff;}#sk-container-id-1 input.sk-hidden--visually {border: 0;clip: rect(1px 1px 1px 1px);clip: rect(1px, 1px, 1px, 1px);height: 1px;margin: -1px;overflow: hidden;padding: 0;position: absolute;width: 1px;}#sk-container-id-1 div.sk-estimator {font-family: monospace;background-color: #f0f8ff;border: 1px dotted black;border-radius: 0.25em;box-sizing: border-box;margin-bottom: 0.5em;}#sk-container-id-1 div.sk-estimator:hover {background-color: #d4ebff;}#sk-container-id-1 div.sk-parallel-item::after {content: \"\";width: 100%;border-bottom: 1px solid gray;flex-grow: 1;}#sk-container-id-1 div.sk-label:hover label.sk-toggleable__label {background-color: #d4ebff;}#sk-container-id-1 div.sk-serial::before {content: \"\";position: absolute;border-left: 1px solid gray;box-sizing: border-box;top: 0;bottom: 0;left: 50%;z-index: 0;}#sk-container-id-1 div.sk-serial {display: flex;flex-direction: column;align-items: center;background-color: white;padding-right: 0.2em;padding-left: 0.2em;position: relative;}#sk-container-id-1 div.sk-item {position: relative;z-index: 1;}#sk-container-id-1 div.sk-parallel {display: flex;align-items: stretch;justify-content: center;background-color: white;position: relative;}#sk-container-id-1 div.sk-item::before, #sk-container-id-1 div.sk-parallel-item::before {content: \"\";position: absolute;border-left: 1px solid gray;box-sizing: border-box;top: 0;bottom: 0;left: 50%;z-index: -1;}#sk-container-id-1 div.sk-parallel-item {display: flex;flex-direction: column;z-index: 1;position: relative;background-color: white;}#sk-container-id-1 div.sk-parallel-item:first-child::after {align-self: flex-end;width: 50%;}#sk-container-id-1 div.sk-parallel-item:last-child::after {align-self: flex-start;width: 50%;}#sk-container-id-1 div.sk-parallel-item:only-child::after {width: 0;}#sk-container-id-1 div.sk-dashed-wrapped {border: 1px dashed gray;margin: 0 0.4em 0.5em 0.4em;box-sizing: border-box;padding-bottom: 0.4em;background-color: white;}#sk-container-id-1 div.sk-label label {font-family: monospace;font-weight: bold;display: inline-block;line-height: 1.2em;}#sk-container-id-1 div.sk-label-container {text-align: center;}#sk-container-id-1 div.sk-container {/* jupyter's `normalize.less` sets `[hidden] { display: none; }` but bootstrap.min.css set `[hidden] { display: none !important; }` so we also need the `!important` here to be able to override the default hidden behavior on the sphinx rendered scikit-learn.org. See: https://github.com/scikit-learn/scikit-learn/issues/21755 */display: inline-block !important;position: relative;}#sk-container-id-1 div.sk-text-repr-fallback {display: none;}</style><div id=\"sk-container-id-1\" class=\"sk-top-container\"><div class=\"sk-text-repr-fallback\"><pre>KNeighborsClassifier(weights=&#x27;distance&#x27;)</pre><b>In a Jupyter environment, please rerun this cell to show the HTML representation or trust the notebook. <br />On GitHub, the HTML representation is unable to render, please try loading this page with nbviewer.org.</b></div><div class=\"sk-container\" hidden><div class=\"sk-item\"><div class=\"sk-estimator sk-toggleable\"><input class=\"sk-toggleable__control sk-hidden--visually\" id=\"sk-estimator-id-1\" type=\"checkbox\" checked><label for=\"sk-estimator-id-1\" class=\"sk-toggleable__label sk-toggleable__label-arrow\">KNeighborsClassifier</label><div class=\"sk-toggleable__content\"><pre>KNeighborsClassifier(weights=&#x27;distance&#x27;)</pre></div></div></div></div></div>"
      ],
      "text/plain": [
       "KNeighborsClassifier(weights='distance')"
      ]
     },
     "execution_count": 40,
     "metadata": {},
     "output_type": "execute_result"
    }
   ],
   "source": [
    "model.fit(x,y)"
   ]
  },
  {
   "cell_type": "code",
   "execution_count": 41,
   "id": "ad2686e9",
   "metadata": {},
   "outputs": [],
   "source": [
    "df2 = fastparquet.ParquetFile('train_data/train_data_1.pq').to_pandas()\n",
    "df2 = pd.merge(df2, answers, on='id', how='left')"
   ]
  },
  {
   "cell_type": "code",
   "execution_count": 42,
   "id": "da71b2d3",
   "metadata": {},
   "outputs": [],
   "source": [
    "x_test = df2.drop('flag', axis=1)\n",
    "y_test = df2['flag']"
   ]
  },
  {
   "cell_type": "code",
   "execution_count": 43,
   "id": "f894afa9",
   "metadata": {},
   "outputs": [
    {
     "name": "stdout",
     "output_type": "stream",
     "text": [
      "ROC AUC Score: 0.5025822510899185\n"
     ]
    }
   ],
   "source": [
    "y_pred_prob = model.predict_proba(x_test)[:, 1]\n",
    "\n",
    "# Calculate the ROC AUC score\n",
    "roc_auc = roc_auc_score(y_test, y_pred_prob)\n",
    "\n",
    "print(\"ROC AUC Score:\", roc_auc)"
   ]
  },
  {
   "cell_type": "markdown",
   "id": "dd374bf6",
   "metadata": {},
   "source": [
    "## результат\n",
    "не работает:\n",
    "ни одна из моделей не дала сколько нибудь интересной метрики за исключением:\n",
    "1) KNN - при CV в рамках одного сета дает неправдоподобные 0,8 без инжиниринга, но на тестовом сете - ~0,5 как и остальные - а я то уж обрадовался:((\n",
    "2) лес дает скромные 0,65 - в теории если бы нашлась еще одна модель, которая хотя бы сносно что то предсказывала - можно было бы попробовать заставить их работать в паре\n",
    "\n",
    "подробнее в блокноте"
   ]
  },
  {
   "cell_type": "code",
   "execution_count": null,
   "id": "8fb35176",
   "metadata": {},
   "outputs": [],
   "source": []
  },
  {
   "cell_type": "markdown",
   "id": "1d5d8b7c",
   "metadata": {},
   "source": [
    "# 2 гиппотеза.  Берем последний продукт для каждого id"
   ]
  },
  {
   "cell_type": "code",
   "execution_count": 9,
   "id": "fb64aa85",
   "metadata": {},
   "outputs": [],
   "source": [
    "df = fastparquet.ParquetFile('train_data/train_data_0.pq').to_pandas()\n",
    "df = pd.merge(df, answers, on='id', how='left')"
   ]
  },
  {
   "cell_type": "code",
   "execution_count": null,
   "id": "0238c5fd",
   "metadata": {},
   "outputs": [],
   "source": [
    "id_list = list(df.id.unique())"
   ]
  },
  {
   "cell_type": "code",
   "execution_count": 10,
   "id": "2ca06f1d",
   "metadata": {},
   "outputs": [],
   "source": [
    "try:\n",
    "    id_list = []\n",
    "    with open('id_list_0.txt', 'r') as file:\n",
    "        for line in file:\n",
    "            id_list.append(\n",
    "                (\n",
    "                    eval(line.strip().split(', ')[0].replace('(','')), \n",
    "                    eval(line.strip().split(', ')[1].replace(')',''))\n",
    "                )\n",
    "            )\n",
    "    \n",
    "    \n",
    "except FileNotFoundError:\n",
    "    are_you_sure = input('''are you sure? this'll take a long time. y/n ''')\n",
    "    if are_you_sure == 'y':\n",
    "        id_list = list(df.id.unique())\n",
    "        for entry in range(len(id_list)):\n",
    "            id_list[entry] =(id_list[entry], max(df[df.id == id_list[entry]].rn))\n",
    "\n",
    "        with open('id_list_0.txt', 'w') as file:\n",
    "            for item in id_list:\n",
    "                file.write(str( item)+'\\n')\n",
    "    "
   ]
  },
  {
   "cell_type": "code",
   "execution_count": 61,
   "id": "eddf797d",
   "metadata": {},
   "outputs": [],
   "source": [
    "df_cut = df[(df.id == id_list[0][0] )& (df.rn == id_list[0][1])]\n",
    "for i in range(len(id_list)):\n",
    "    new_row = df[(df.id == id_list[i][0])& (df.rn == id_list[i][1])]\n",
    "    df_cut = pd.concat([df_cut, new_row], ignore_index=True)"
   ]
  },
  {
   "cell_type": "code",
   "execution_count": 68,
   "id": "21b0a23d",
   "metadata": {},
   "outputs": [],
   "source": [
    "df_cut = df_cut.drop(0, axis=0)"
   ]
  },
  {
   "cell_type": "code",
   "execution_count": 77,
   "id": "6161d84f",
   "metadata": {},
   "outputs": [],
   "source": [
    "df_cut = pd.read_csv('train_data/df_only_last_product_0.csv')"
   ]
  },
  {
   "cell_type": "code",
   "execution_count": 74,
   "id": "abd5855b",
   "metadata": {},
   "outputs": [],
   "source": [
    "df_cut.to_csv('train_data/df_only_last_product_0.csv', index=False)  "
   ]
  },
  {
   "cell_type": "code",
   "execution_count": null,
   "id": "c63e56c7",
   "metadata": {},
   "outputs": [],
   "source": []
  },
  {
   "cell_type": "code",
   "execution_count": 37,
   "id": "4ffa374b",
   "metadata": {},
   "outputs": [],
   "source": [
    "models = [\n",
    "    KNeighborsClassifier(),\n",
    "    SVC(),\n",
    "    RandomForestClassifier(),\n",
    "    MLPClassifier(),\n",
    "    LogisticRegression(),\n",
    "    DecisionTreeClassifier(),\n",
    "    GaussianNB(),\n",
    "]\n",
    "#     xgb(),\n",
    "#     lgb(),\n",
    "# ]"
   ]
  },
  {
   "cell_type": "code",
   "execution_count": 11,
   "id": "dd536407",
   "metadata": {},
   "outputs": [],
   "source": [
    "x = df_cut.drop('flag', axis=1)\n",
    "y = df_cut['flag']\n"
   ]
  },
  {
   "cell_type": "code",
   "execution_count": 12,
   "id": "cbddc52a",
   "metadata": {},
   "outputs": [],
   "source": [
    "results_dict = dict()"
   ]
  },
  {
   "cell_type": "code",
   "execution_count": 81,
   "id": "5c74f639",
   "metadata": {},
   "outputs": [],
   "source": [
    "for model in models:\n",
    "    \n",
    "    cv_scores = cross_val_score(model, x, y, cv=3, scoring='roc_auc')\n",
    "    results_dict[str(model)[0:str(model).find('(')]] = mean(cv_scores)\n"
   ]
  },
  {
   "cell_type": "code",
   "execution_count": 82,
   "id": "83f46ef7",
   "metadata": {},
   "outputs": [
    {
     "data": {
      "text/plain": [
       "{'KNeighborsClassifier': 0.5014837697443463,\n",
       " 'SVC': 0.5041829161493093,\n",
       " 'RandomForestClassifier': 0.6342966486892172,\n",
       " 'MLPClassifier': 0.4885521343602927,\n",
       " 'LogisticRegression': 0.5325920477964842,\n",
       " 'DecisionTreeClassifier': 0.5332065228519628,\n",
       " 'GaussianNB': 0.6265383537138974}"
      ]
     },
     "execution_count": 82,
     "metadata": {},
     "output_type": "execute_result"
    }
   ],
   "source": [
    "results_dict"
   ]
  },
  {
   "cell_type": "code",
   "execution_count": 13,
   "id": "0ce44609",
   "metadata": {
    "collapsed": true
   },
   "outputs": [
    {
     "ename": "KeyboardInterrupt",
     "evalue": "",
     "output_type": "error",
     "traceback": [
      "\u001b[1;31m---------------------------------------------------------------------------\u001b[0m",
      "\u001b[1;31mKeyboardInterrupt\u001b[0m                         Traceback (most recent call last)",
      "Cell \u001b[1;32mIn[13], line 2\u001b[0m\n\u001b[0;32m      1\u001b[0m model \u001b[38;5;241m=\u001b[39m RandomForestClassifier()\n\u001b[1;32m----> 2\u001b[0m model\u001b[38;5;241m.\u001b[39mfit(x, y)\n",
      "File \u001b[1;32m~\\AppData\\Roaming\\Python\\Python311\\site-packages\\sklearn\\ensemble\\_forest.py:473\u001b[0m, in \u001b[0;36mBaseForest.fit\u001b[1;34m(self, X, y, sample_weight)\u001b[0m\n\u001b[0;32m    462\u001b[0m trees \u001b[38;5;241m=\u001b[39m [\n\u001b[0;32m    463\u001b[0m     \u001b[38;5;28mself\u001b[39m\u001b[38;5;241m.\u001b[39m_make_estimator(append\u001b[38;5;241m=\u001b[39m\u001b[38;5;28;01mFalse\u001b[39;00m, random_state\u001b[38;5;241m=\u001b[39mrandom_state)\n\u001b[0;32m    464\u001b[0m     \u001b[38;5;28;01mfor\u001b[39;00m i \u001b[38;5;129;01min\u001b[39;00m \u001b[38;5;28mrange\u001b[39m(n_more_estimators)\n\u001b[0;32m    465\u001b[0m ]\n\u001b[0;32m    467\u001b[0m \u001b[38;5;66;03m# Parallel loop: we prefer the threading backend as the Cython code\u001b[39;00m\n\u001b[0;32m    468\u001b[0m \u001b[38;5;66;03m# for fitting the trees is internally releasing the Python GIL\u001b[39;00m\n\u001b[0;32m    469\u001b[0m \u001b[38;5;66;03m# making threading more efficient than multiprocessing in\u001b[39;00m\n\u001b[0;32m    470\u001b[0m \u001b[38;5;66;03m# that case. However, for joblib 0.12+ we respect any\u001b[39;00m\n\u001b[0;32m    471\u001b[0m \u001b[38;5;66;03m# parallel_backend contexts set at a higher level,\u001b[39;00m\n\u001b[0;32m    472\u001b[0m \u001b[38;5;66;03m# since correctness does not rely on using threads.\u001b[39;00m\n\u001b[1;32m--> 473\u001b[0m trees \u001b[38;5;241m=\u001b[39m Parallel(\n\u001b[0;32m    474\u001b[0m     n_jobs\u001b[38;5;241m=\u001b[39m\u001b[38;5;28mself\u001b[39m\u001b[38;5;241m.\u001b[39mn_jobs,\n\u001b[0;32m    475\u001b[0m     verbose\u001b[38;5;241m=\u001b[39m\u001b[38;5;28mself\u001b[39m\u001b[38;5;241m.\u001b[39mverbose,\n\u001b[0;32m    476\u001b[0m     prefer\u001b[38;5;241m=\u001b[39m\u001b[38;5;124m\"\u001b[39m\u001b[38;5;124mthreads\u001b[39m\u001b[38;5;124m\"\u001b[39m,\n\u001b[0;32m    477\u001b[0m )(\n\u001b[0;32m    478\u001b[0m     delayed(_parallel_build_trees)(\n\u001b[0;32m    479\u001b[0m         t,\n\u001b[0;32m    480\u001b[0m         \u001b[38;5;28mself\u001b[39m\u001b[38;5;241m.\u001b[39mbootstrap,\n\u001b[0;32m    481\u001b[0m         X,\n\u001b[0;32m    482\u001b[0m         y,\n\u001b[0;32m    483\u001b[0m         sample_weight,\n\u001b[0;32m    484\u001b[0m         i,\n\u001b[0;32m    485\u001b[0m         \u001b[38;5;28mlen\u001b[39m(trees),\n\u001b[0;32m    486\u001b[0m         verbose\u001b[38;5;241m=\u001b[39m\u001b[38;5;28mself\u001b[39m\u001b[38;5;241m.\u001b[39mverbose,\n\u001b[0;32m    487\u001b[0m         class_weight\u001b[38;5;241m=\u001b[39m\u001b[38;5;28mself\u001b[39m\u001b[38;5;241m.\u001b[39mclass_weight,\n\u001b[0;32m    488\u001b[0m         n_samples_bootstrap\u001b[38;5;241m=\u001b[39mn_samples_bootstrap,\n\u001b[0;32m    489\u001b[0m     )\n\u001b[0;32m    490\u001b[0m     \u001b[38;5;28;01mfor\u001b[39;00m i, t \u001b[38;5;129;01min\u001b[39;00m \u001b[38;5;28menumerate\u001b[39m(trees)\n\u001b[0;32m    491\u001b[0m )\n\u001b[0;32m    493\u001b[0m \u001b[38;5;66;03m# Collect newly grown trees\u001b[39;00m\n\u001b[0;32m    494\u001b[0m \u001b[38;5;28mself\u001b[39m\u001b[38;5;241m.\u001b[39mestimators_\u001b[38;5;241m.\u001b[39mextend(trees)\n",
      "File \u001b[1;32m~\\AppData\\Roaming\\Python\\Python311\\site-packages\\sklearn\\utils\\parallel.py:63\u001b[0m, in \u001b[0;36mParallel.__call__\u001b[1;34m(self, iterable)\u001b[0m\n\u001b[0;32m     58\u001b[0m config \u001b[38;5;241m=\u001b[39m get_config()\n\u001b[0;32m     59\u001b[0m iterable_with_config \u001b[38;5;241m=\u001b[39m (\n\u001b[0;32m     60\u001b[0m     (_with_config(delayed_func, config), args, kwargs)\n\u001b[0;32m     61\u001b[0m     \u001b[38;5;28;01mfor\u001b[39;00m delayed_func, args, kwargs \u001b[38;5;129;01min\u001b[39;00m iterable\n\u001b[0;32m     62\u001b[0m )\n\u001b[1;32m---> 63\u001b[0m \u001b[38;5;28;01mreturn\u001b[39;00m \u001b[38;5;28msuper\u001b[39m()\u001b[38;5;241m.\u001b[39m\u001b[38;5;21m__call__\u001b[39m(iterable_with_config)\n",
      "File \u001b[1;32mC:\\ProgramData\\anaconda3\\Lib\\site-packages\\joblib\\parallel.py:1088\u001b[0m, in \u001b[0;36mParallel.__call__\u001b[1;34m(self, iterable)\u001b[0m\n\u001b[0;32m   1085\u001b[0m \u001b[38;5;28;01mif\u001b[39;00m \u001b[38;5;28mself\u001b[39m\u001b[38;5;241m.\u001b[39mdispatch_one_batch(iterator):\n\u001b[0;32m   1086\u001b[0m     \u001b[38;5;28mself\u001b[39m\u001b[38;5;241m.\u001b[39m_iterating \u001b[38;5;241m=\u001b[39m \u001b[38;5;28mself\u001b[39m\u001b[38;5;241m.\u001b[39m_original_iterator \u001b[38;5;129;01mis\u001b[39;00m \u001b[38;5;129;01mnot\u001b[39;00m \u001b[38;5;28;01mNone\u001b[39;00m\n\u001b[1;32m-> 1088\u001b[0m \u001b[38;5;28;01mwhile\u001b[39;00m \u001b[38;5;28mself\u001b[39m\u001b[38;5;241m.\u001b[39mdispatch_one_batch(iterator):\n\u001b[0;32m   1089\u001b[0m     \u001b[38;5;28;01mpass\u001b[39;00m\n\u001b[0;32m   1091\u001b[0m \u001b[38;5;28;01mif\u001b[39;00m pre_dispatch \u001b[38;5;241m==\u001b[39m \u001b[38;5;124m\"\u001b[39m\u001b[38;5;124mall\u001b[39m\u001b[38;5;124m\"\u001b[39m \u001b[38;5;129;01mor\u001b[39;00m n_jobs \u001b[38;5;241m==\u001b[39m \u001b[38;5;241m1\u001b[39m:\n\u001b[0;32m   1092\u001b[0m     \u001b[38;5;66;03m# The iterable was consumed all at once by the above for loop.\u001b[39;00m\n\u001b[0;32m   1093\u001b[0m     \u001b[38;5;66;03m# No need to wait for async callbacks to trigger to\u001b[39;00m\n\u001b[0;32m   1094\u001b[0m     \u001b[38;5;66;03m# consumption.\u001b[39;00m\n",
      "File \u001b[1;32mC:\\ProgramData\\anaconda3\\Lib\\site-packages\\joblib\\parallel.py:901\u001b[0m, in \u001b[0;36mParallel.dispatch_one_batch\u001b[1;34m(self, iterator)\u001b[0m\n\u001b[0;32m    899\u001b[0m     \u001b[38;5;28;01mreturn\u001b[39;00m \u001b[38;5;28;01mFalse\u001b[39;00m\n\u001b[0;32m    900\u001b[0m \u001b[38;5;28;01melse\u001b[39;00m:\n\u001b[1;32m--> 901\u001b[0m     \u001b[38;5;28mself\u001b[39m\u001b[38;5;241m.\u001b[39m_dispatch(tasks)\n\u001b[0;32m    902\u001b[0m     \u001b[38;5;28;01mreturn\u001b[39;00m \u001b[38;5;28;01mTrue\u001b[39;00m\n",
      "File \u001b[1;32mC:\\ProgramData\\anaconda3\\Lib\\site-packages\\joblib\\parallel.py:819\u001b[0m, in \u001b[0;36mParallel._dispatch\u001b[1;34m(self, batch)\u001b[0m\n\u001b[0;32m    817\u001b[0m \u001b[38;5;28;01mwith\u001b[39;00m \u001b[38;5;28mself\u001b[39m\u001b[38;5;241m.\u001b[39m_lock:\n\u001b[0;32m    818\u001b[0m     job_idx \u001b[38;5;241m=\u001b[39m \u001b[38;5;28mlen\u001b[39m(\u001b[38;5;28mself\u001b[39m\u001b[38;5;241m.\u001b[39m_jobs)\n\u001b[1;32m--> 819\u001b[0m     job \u001b[38;5;241m=\u001b[39m \u001b[38;5;28mself\u001b[39m\u001b[38;5;241m.\u001b[39m_backend\u001b[38;5;241m.\u001b[39mapply_async(batch, callback\u001b[38;5;241m=\u001b[39mcb)\n\u001b[0;32m    820\u001b[0m     \u001b[38;5;66;03m# A job can complete so quickly than its callback is\u001b[39;00m\n\u001b[0;32m    821\u001b[0m     \u001b[38;5;66;03m# called before we get here, causing self._jobs to\u001b[39;00m\n\u001b[0;32m    822\u001b[0m     \u001b[38;5;66;03m# grow. To ensure correct results ordering, .insert is\u001b[39;00m\n\u001b[0;32m    823\u001b[0m     \u001b[38;5;66;03m# used (rather than .append) in the following line\u001b[39;00m\n\u001b[0;32m    824\u001b[0m     \u001b[38;5;28mself\u001b[39m\u001b[38;5;241m.\u001b[39m_jobs\u001b[38;5;241m.\u001b[39minsert(job_idx, job)\n",
      "File \u001b[1;32mC:\\ProgramData\\anaconda3\\Lib\\site-packages\\joblib\\_parallel_backends.py:208\u001b[0m, in \u001b[0;36mSequentialBackend.apply_async\u001b[1;34m(self, func, callback)\u001b[0m\n\u001b[0;32m    206\u001b[0m \u001b[38;5;28;01mdef\u001b[39;00m \u001b[38;5;21mapply_async\u001b[39m(\u001b[38;5;28mself\u001b[39m, func, callback\u001b[38;5;241m=\u001b[39m\u001b[38;5;28;01mNone\u001b[39;00m):\n\u001b[0;32m    207\u001b[0m \u001b[38;5;250m    \u001b[39m\u001b[38;5;124;03m\"\"\"Schedule a func to be run\"\"\"\u001b[39;00m\n\u001b[1;32m--> 208\u001b[0m     result \u001b[38;5;241m=\u001b[39m ImmediateResult(func)\n\u001b[0;32m    209\u001b[0m     \u001b[38;5;28;01mif\u001b[39;00m callback:\n\u001b[0;32m    210\u001b[0m         callback(result)\n",
      "File \u001b[1;32mC:\\ProgramData\\anaconda3\\Lib\\site-packages\\joblib\\_parallel_backends.py:597\u001b[0m, in \u001b[0;36mImmediateResult.__init__\u001b[1;34m(self, batch)\u001b[0m\n\u001b[0;32m    594\u001b[0m \u001b[38;5;28;01mdef\u001b[39;00m \u001b[38;5;21m__init__\u001b[39m(\u001b[38;5;28mself\u001b[39m, batch):\n\u001b[0;32m    595\u001b[0m     \u001b[38;5;66;03m# Don't delay the application, to avoid keeping the input\u001b[39;00m\n\u001b[0;32m    596\u001b[0m     \u001b[38;5;66;03m# arguments in memory\u001b[39;00m\n\u001b[1;32m--> 597\u001b[0m     \u001b[38;5;28mself\u001b[39m\u001b[38;5;241m.\u001b[39mresults \u001b[38;5;241m=\u001b[39m batch()\n",
      "File \u001b[1;32mC:\\ProgramData\\anaconda3\\Lib\\site-packages\\joblib\\parallel.py:288\u001b[0m, in \u001b[0;36mBatchedCalls.__call__\u001b[1;34m(self)\u001b[0m\n\u001b[0;32m    284\u001b[0m \u001b[38;5;28;01mdef\u001b[39;00m \u001b[38;5;21m__call__\u001b[39m(\u001b[38;5;28mself\u001b[39m):\n\u001b[0;32m    285\u001b[0m     \u001b[38;5;66;03m# Set the default nested backend to self._backend but do not set the\u001b[39;00m\n\u001b[0;32m    286\u001b[0m     \u001b[38;5;66;03m# change the default number of processes to -1\u001b[39;00m\n\u001b[0;32m    287\u001b[0m     \u001b[38;5;28;01mwith\u001b[39;00m parallel_backend(\u001b[38;5;28mself\u001b[39m\u001b[38;5;241m.\u001b[39m_backend, n_jobs\u001b[38;5;241m=\u001b[39m\u001b[38;5;28mself\u001b[39m\u001b[38;5;241m.\u001b[39m_n_jobs):\n\u001b[1;32m--> 288\u001b[0m         \u001b[38;5;28;01mreturn\u001b[39;00m [func(\u001b[38;5;241m*\u001b[39margs, \u001b[38;5;241m*\u001b[39m\u001b[38;5;241m*\u001b[39mkwargs)\n\u001b[0;32m    289\u001b[0m                 \u001b[38;5;28;01mfor\u001b[39;00m func, args, kwargs \u001b[38;5;129;01min\u001b[39;00m \u001b[38;5;28mself\u001b[39m\u001b[38;5;241m.\u001b[39mitems]\n",
      "File \u001b[1;32mC:\\ProgramData\\anaconda3\\Lib\\site-packages\\joblib\\parallel.py:288\u001b[0m, in \u001b[0;36m<listcomp>\u001b[1;34m(.0)\u001b[0m\n\u001b[0;32m    284\u001b[0m \u001b[38;5;28;01mdef\u001b[39;00m \u001b[38;5;21m__call__\u001b[39m(\u001b[38;5;28mself\u001b[39m):\n\u001b[0;32m    285\u001b[0m     \u001b[38;5;66;03m# Set the default nested backend to self._backend but do not set the\u001b[39;00m\n\u001b[0;32m    286\u001b[0m     \u001b[38;5;66;03m# change the default number of processes to -1\u001b[39;00m\n\u001b[0;32m    287\u001b[0m     \u001b[38;5;28;01mwith\u001b[39;00m parallel_backend(\u001b[38;5;28mself\u001b[39m\u001b[38;5;241m.\u001b[39m_backend, n_jobs\u001b[38;5;241m=\u001b[39m\u001b[38;5;28mself\u001b[39m\u001b[38;5;241m.\u001b[39m_n_jobs):\n\u001b[1;32m--> 288\u001b[0m         \u001b[38;5;28;01mreturn\u001b[39;00m [func(\u001b[38;5;241m*\u001b[39margs, \u001b[38;5;241m*\u001b[39m\u001b[38;5;241m*\u001b[39mkwargs)\n\u001b[0;32m    289\u001b[0m                 \u001b[38;5;28;01mfor\u001b[39;00m func, args, kwargs \u001b[38;5;129;01min\u001b[39;00m \u001b[38;5;28mself\u001b[39m\u001b[38;5;241m.\u001b[39mitems]\n",
      "File \u001b[1;32m~\\AppData\\Roaming\\Python\\Python311\\site-packages\\sklearn\\utils\\parallel.py:123\u001b[0m, in \u001b[0;36m_FuncWrapper.__call__\u001b[1;34m(self, *args, **kwargs)\u001b[0m\n\u001b[0;32m    121\u001b[0m     config \u001b[38;5;241m=\u001b[39m {}\n\u001b[0;32m    122\u001b[0m \u001b[38;5;28;01mwith\u001b[39;00m config_context(\u001b[38;5;241m*\u001b[39m\u001b[38;5;241m*\u001b[39mconfig):\n\u001b[1;32m--> 123\u001b[0m     \u001b[38;5;28;01mreturn\u001b[39;00m \u001b[38;5;28mself\u001b[39m\u001b[38;5;241m.\u001b[39mfunction(\u001b[38;5;241m*\u001b[39margs, \u001b[38;5;241m*\u001b[39m\u001b[38;5;241m*\u001b[39mkwargs)\n",
      "File \u001b[1;32m~\\AppData\\Roaming\\Python\\Python311\\site-packages\\sklearn\\ensemble\\_forest.py:184\u001b[0m, in \u001b[0;36m_parallel_build_trees\u001b[1;34m(tree, bootstrap, X, y, sample_weight, tree_idx, n_trees, verbose, class_weight, n_samples_bootstrap)\u001b[0m\n\u001b[0;32m    181\u001b[0m     \u001b[38;5;28;01melif\u001b[39;00m class_weight \u001b[38;5;241m==\u001b[39m \u001b[38;5;124m\"\u001b[39m\u001b[38;5;124mbalanced_subsample\u001b[39m\u001b[38;5;124m\"\u001b[39m:\n\u001b[0;32m    182\u001b[0m         curr_sample_weight \u001b[38;5;241m*\u001b[39m\u001b[38;5;241m=\u001b[39m compute_sample_weight(\u001b[38;5;124m\"\u001b[39m\u001b[38;5;124mbalanced\u001b[39m\u001b[38;5;124m\"\u001b[39m, y, indices\u001b[38;5;241m=\u001b[39mindices)\n\u001b[1;32m--> 184\u001b[0m     tree\u001b[38;5;241m.\u001b[39mfit(X, y, sample_weight\u001b[38;5;241m=\u001b[39mcurr_sample_weight, check_input\u001b[38;5;241m=\u001b[39m\u001b[38;5;28;01mFalse\u001b[39;00m)\n\u001b[0;32m    185\u001b[0m \u001b[38;5;28;01melse\u001b[39;00m:\n\u001b[0;32m    186\u001b[0m     tree\u001b[38;5;241m.\u001b[39mfit(X, y, sample_weight\u001b[38;5;241m=\u001b[39msample_weight, check_input\u001b[38;5;241m=\u001b[39m\u001b[38;5;28;01mFalse\u001b[39;00m)\n",
      "File \u001b[1;32m~\\AppData\\Roaming\\Python\\Python311\\site-packages\\sklearn\\tree\\_classes.py:889\u001b[0m, in \u001b[0;36mDecisionTreeClassifier.fit\u001b[1;34m(self, X, y, sample_weight, check_input)\u001b[0m\n\u001b[0;32m    859\u001b[0m \u001b[38;5;28;01mdef\u001b[39;00m \u001b[38;5;21mfit\u001b[39m(\u001b[38;5;28mself\u001b[39m, X, y, sample_weight\u001b[38;5;241m=\u001b[39m\u001b[38;5;28;01mNone\u001b[39;00m, check_input\u001b[38;5;241m=\u001b[39m\u001b[38;5;28;01mTrue\u001b[39;00m):\n\u001b[0;32m    860\u001b[0m \u001b[38;5;250m    \u001b[39m\u001b[38;5;124;03m\"\"\"Build a decision tree classifier from the training set (X, y).\u001b[39;00m\n\u001b[0;32m    861\u001b[0m \n\u001b[0;32m    862\u001b[0m \u001b[38;5;124;03m    Parameters\u001b[39;00m\n\u001b[1;32m   (...)\u001b[0m\n\u001b[0;32m    886\u001b[0m \u001b[38;5;124;03m        Fitted estimator.\u001b[39;00m\n\u001b[0;32m    887\u001b[0m \u001b[38;5;124;03m    \"\"\"\u001b[39;00m\n\u001b[1;32m--> 889\u001b[0m     \u001b[38;5;28msuper\u001b[39m()\u001b[38;5;241m.\u001b[39mfit(\n\u001b[0;32m    890\u001b[0m         X,\n\u001b[0;32m    891\u001b[0m         y,\n\u001b[0;32m    892\u001b[0m         sample_weight\u001b[38;5;241m=\u001b[39msample_weight,\n\u001b[0;32m    893\u001b[0m         check_input\u001b[38;5;241m=\u001b[39mcheck_input,\n\u001b[0;32m    894\u001b[0m     )\n\u001b[0;32m    895\u001b[0m     \u001b[38;5;28;01mreturn\u001b[39;00m \u001b[38;5;28mself\u001b[39m\n",
      "File \u001b[1;32m~\\AppData\\Roaming\\Python\\Python311\\site-packages\\sklearn\\tree\\_classes.py:248\u001b[0m, in \u001b[0;36mBaseDecisionTree.fit\u001b[1;34m(self, X, y, sample_weight, check_input)\u001b[0m\n\u001b[0;32m    245\u001b[0m     \u001b[38;5;28mself\u001b[39m\u001b[38;5;241m.\u001b[39mn_classes_ \u001b[38;5;241m=\u001b[39m np\u001b[38;5;241m.\u001b[39marray(\u001b[38;5;28mself\u001b[39m\u001b[38;5;241m.\u001b[39mn_classes_, dtype\u001b[38;5;241m=\u001b[39mnp\u001b[38;5;241m.\u001b[39mintp)\n\u001b[0;32m    247\u001b[0m \u001b[38;5;28;01mif\u001b[39;00m \u001b[38;5;28mgetattr\u001b[39m(y, \u001b[38;5;124m\"\u001b[39m\u001b[38;5;124mdtype\u001b[39m\u001b[38;5;124m\"\u001b[39m, \u001b[38;5;28;01mNone\u001b[39;00m) \u001b[38;5;241m!=\u001b[39m DOUBLE \u001b[38;5;129;01mor\u001b[39;00m \u001b[38;5;129;01mnot\u001b[39;00m y\u001b[38;5;241m.\u001b[39mflags\u001b[38;5;241m.\u001b[39mcontiguous:\n\u001b[1;32m--> 248\u001b[0m     y \u001b[38;5;241m=\u001b[39m np\u001b[38;5;241m.\u001b[39mascontiguousarray(y, dtype\u001b[38;5;241m=\u001b[39mDOUBLE)\n\u001b[0;32m    250\u001b[0m max_depth \u001b[38;5;241m=\u001b[39m np\u001b[38;5;241m.\u001b[39miinfo(np\u001b[38;5;241m.\u001b[39mint32)\u001b[38;5;241m.\u001b[39mmax \u001b[38;5;28;01mif\u001b[39;00m \u001b[38;5;28mself\u001b[39m\u001b[38;5;241m.\u001b[39mmax_depth \u001b[38;5;129;01mis\u001b[39;00m \u001b[38;5;28;01mNone\u001b[39;00m \u001b[38;5;28;01melse\u001b[39;00m \u001b[38;5;28mself\u001b[39m\u001b[38;5;241m.\u001b[39mmax_depth\n\u001b[0;32m    252\u001b[0m \u001b[38;5;28;01mif\u001b[39;00m \u001b[38;5;28misinstance\u001b[39m(\u001b[38;5;28mself\u001b[39m\u001b[38;5;241m.\u001b[39mmin_samples_leaf, numbers\u001b[38;5;241m.\u001b[39mIntegral):\n",
      "\u001b[1;31mKeyboardInterrupt\u001b[0m: "
     ]
    }
   ],
   "source": [
    "model = RandomForestClassifier()\n",
    "model.fit(x, y)"
   ]
  },
  {
   "cell_type": "code",
   "execution_count": 88,
   "id": "3943e1ff",
   "metadata": {},
   "outputs": [
    {
     "name": "stdout",
     "output_type": "stream",
     "text": [
      "ROC AUC Score: 0.5835822646171664\n"
     ]
    }
   ],
   "source": [
    "df = fastparquet.ParquetFile('train_data/train_data_0.pq').to_pandas()\n",
    "df = pd.merge(df, answers, on='id', how='left')"
   ]
  },
  {
   "cell_type": "code",
   "execution_count": null,
   "id": "c7de76c0",
   "metadata": {},
   "outputs": [],
   "source": [
    "df2 = fastparquet.ParquetFile('train_data/train_data_1.pq').to_pandas()\n",
    "df2 = pd.merge(df2, answers, on='id', how='left')"
   ]
  },
  {
   "cell_type": "code",
   "execution_count": null,
   "id": "ba1fe17a",
   "metadata": {},
   "outputs": [],
   "source": [
    "x_test = df2.drop('flag', axis=1)\n",
    "y_test = df2['flag']\n",
    "y_pred_prob = model.predict_proba(x_test)[:, 1]\n",
    "\n",
    "# Calculate the ROC AUC score\n",
    "roc_auc = roc_auc_score(y_test, y_pred_prob)\n",
    "\n",
    "print(\"ROC AUC Score:\", roc_auc)"
   ]
  },
  {
   "cell_type": "code",
   "execution_count": 90,
   "id": "465d8294",
   "metadata": {},
   "outputs": [
    {
     "name": "stdout",
     "output_type": "stream",
     "text": [
      "Best Parameters: {'max_depth': 20, 'min_samples_leaf': 4, 'min_samples_split': 10, 'n_estimators': 200}\n",
      "Best Score: 0.6811226032781477\n"
     ]
    }
   ],
   "source": [
    "# model = RandomForestClassifier()\n",
    "\n",
    "# param_grid = {\n",
    "#     'n_neighbors': [3, 5, 7, 9],\n",
    "#     'weights': ['uniform', 'distance'],\n",
    "#     'p': [1, 2]  # 1 for Manhattan distance, 2 for Euclidean distance\n",
    "# }\n",
    "\n",
    "param_grid = {\n",
    "    'n_estimators': [50, 100, 200],\n",
    "    'max_depth': [None, 5, 10, 20],\n",
    "    'min_samples_split': [2, 5, 10],\n",
    "    'min_samples_leaf': [1, 2, 4]\n",
    "}\n",
    "model = RandomForestClassifier()\n",
    "grid_search = GridSearchCV(estimator=model, param_grid=param_grid, cv=3, scoring='roc_auc')\n",
    "grid_search.fit(x, y)\n",
    "\n",
    "best_params = grid_search.best_params_\n",
    "best_score = grid_search.best_score_\n",
    "\n",
    "print(\"Best Parameters:\", best_params)\n",
    "print(\"Best Score:\", best_score)"
   ]
  },
  {
   "cell_type": "code",
   "execution_count": 14,
   "id": "9b8298c8",
   "metadata": {},
   "outputs": [
    {
     "data": {
      "text/html": [
       "<style>#sk-container-id-1 {color: black;background-color: white;}#sk-container-id-1 pre{padding: 0;}#sk-container-id-1 div.sk-toggleable {background-color: white;}#sk-container-id-1 label.sk-toggleable__label {cursor: pointer;display: block;width: 100%;margin-bottom: 0;padding: 0.3em;box-sizing: border-box;text-align: center;}#sk-container-id-1 label.sk-toggleable__label-arrow:before {content: \"▸\";float: left;margin-right: 0.25em;color: #696969;}#sk-container-id-1 label.sk-toggleable__label-arrow:hover:before {color: black;}#sk-container-id-1 div.sk-estimator:hover label.sk-toggleable__label-arrow:before {color: black;}#sk-container-id-1 div.sk-toggleable__content {max-height: 0;max-width: 0;overflow: hidden;text-align: left;background-color: #f0f8ff;}#sk-container-id-1 div.sk-toggleable__content pre {margin: 0.2em;color: black;border-radius: 0.25em;background-color: #f0f8ff;}#sk-container-id-1 input.sk-toggleable__control:checked~div.sk-toggleable__content {max-height: 200px;max-width: 100%;overflow: auto;}#sk-container-id-1 input.sk-toggleable__control:checked~label.sk-toggleable__label-arrow:before {content: \"▾\";}#sk-container-id-1 div.sk-estimator input.sk-toggleable__control:checked~label.sk-toggleable__label {background-color: #d4ebff;}#sk-container-id-1 div.sk-label input.sk-toggleable__control:checked~label.sk-toggleable__label {background-color: #d4ebff;}#sk-container-id-1 input.sk-hidden--visually {border: 0;clip: rect(1px 1px 1px 1px);clip: rect(1px, 1px, 1px, 1px);height: 1px;margin: -1px;overflow: hidden;padding: 0;position: absolute;width: 1px;}#sk-container-id-1 div.sk-estimator {font-family: monospace;background-color: #f0f8ff;border: 1px dotted black;border-radius: 0.25em;box-sizing: border-box;margin-bottom: 0.5em;}#sk-container-id-1 div.sk-estimator:hover {background-color: #d4ebff;}#sk-container-id-1 div.sk-parallel-item::after {content: \"\";width: 100%;border-bottom: 1px solid gray;flex-grow: 1;}#sk-container-id-1 div.sk-label:hover label.sk-toggleable__label {background-color: #d4ebff;}#sk-container-id-1 div.sk-serial::before {content: \"\";position: absolute;border-left: 1px solid gray;box-sizing: border-box;top: 0;bottom: 0;left: 50%;z-index: 0;}#sk-container-id-1 div.sk-serial {display: flex;flex-direction: column;align-items: center;background-color: white;padding-right: 0.2em;padding-left: 0.2em;position: relative;}#sk-container-id-1 div.sk-item {position: relative;z-index: 1;}#sk-container-id-1 div.sk-parallel {display: flex;align-items: stretch;justify-content: center;background-color: white;position: relative;}#sk-container-id-1 div.sk-item::before, #sk-container-id-1 div.sk-parallel-item::before {content: \"\";position: absolute;border-left: 1px solid gray;box-sizing: border-box;top: 0;bottom: 0;left: 50%;z-index: -1;}#sk-container-id-1 div.sk-parallel-item {display: flex;flex-direction: column;z-index: 1;position: relative;background-color: white;}#sk-container-id-1 div.sk-parallel-item:first-child::after {align-self: flex-end;width: 50%;}#sk-container-id-1 div.sk-parallel-item:last-child::after {align-self: flex-start;width: 50%;}#sk-container-id-1 div.sk-parallel-item:only-child::after {width: 0;}#sk-container-id-1 div.sk-dashed-wrapped {border: 1px dashed gray;margin: 0 0.4em 0.5em 0.4em;box-sizing: border-box;padding-bottom: 0.4em;background-color: white;}#sk-container-id-1 div.sk-label label {font-family: monospace;font-weight: bold;display: inline-block;line-height: 1.2em;}#sk-container-id-1 div.sk-label-container {text-align: center;}#sk-container-id-1 div.sk-container {/* jupyter's `normalize.less` sets `[hidden] { display: none; }` but bootstrap.min.css set `[hidden] { display: none !important; }` so we also need the `!important` here to be able to override the default hidden behavior on the sphinx rendered scikit-learn.org. See: https://github.com/scikit-learn/scikit-learn/issues/21755 */display: inline-block !important;position: relative;}#sk-container-id-1 div.sk-text-repr-fallback {display: none;}</style><div id=\"sk-container-id-1\" class=\"sk-top-container\"><div class=\"sk-text-repr-fallback\"><pre>RandomForestClassifier(max_depth=20, min_samples_leaf=4, min_samples_split=10,\n",
       "                       n_estimators=200)</pre><b>In a Jupyter environment, please rerun this cell to show the HTML representation or trust the notebook. <br />On GitHub, the HTML representation is unable to render, please try loading this page with nbviewer.org.</b></div><div class=\"sk-container\" hidden><div class=\"sk-item\"><div class=\"sk-estimator sk-toggleable\"><input class=\"sk-toggleable__control sk-hidden--visually\" id=\"sk-estimator-id-1\" type=\"checkbox\" checked><label for=\"sk-estimator-id-1\" class=\"sk-toggleable__label sk-toggleable__label-arrow\">RandomForestClassifier</label><div class=\"sk-toggleable__content\"><pre>RandomForestClassifier(max_depth=20, min_samples_leaf=4, min_samples_split=10,\n",
       "                       n_estimators=200)</pre></div></div></div></div></div>"
      ],
      "text/plain": [
       "RandomForestClassifier(max_depth=20, min_samples_leaf=4, min_samples_split=10,\n",
       "                       n_estimators=200)"
      ]
     },
     "execution_count": 14,
     "metadata": {},
     "output_type": "execute_result"
    }
   ],
   "source": [
    "model = RandomForestClassifier(n_estimators=200, max_depth=20, min_samples_leaf=4, min_samples_split=2)\n",
    "model.fit(x, y)"
   ]
  },
  {
   "cell_type": "code",
   "execution_count": 15,
   "id": "a957c44b",
   "metadata": {},
   "outputs": [
    {
     "name": "stdout",
     "output_type": "stream",
     "text": [
      "ROC AUC Score: 0.6314349390953861\n"
     ]
    }
   ],
   "source": [
    "x_test = df2.drop('flag', axis=1)\n",
    "y_test = df2['flag']\n",
    "y_pred_prob = model.predict_proba(x_test)[:, 1]\n",
    "\n",
    "# Calculate the ROC AUC score\n",
    "roc_auc = roc_auc_score(y_test, y_pred_prob)\n",
    "\n",
    "print(\"ROC AUC Score:\", roc_auc)"
   ]
  },
  {
   "cell_type": "code",
   "execution_count": null,
   "id": "6fe552d6",
   "metadata": {},
   "outputs": [],
   "source": []
  },
  {
   "cell_type": "markdown",
   "id": "26935a29",
   "metadata": {},
   "source": [
    "## результат \n",
    "ничего выдающегося\n",
    "1) после грида валидация леса на новых данных дает 0,63\n",
    "2) близко к лесу первичный поиск дает только некий gaussianDB но я не знаю что это такое, по этому пока не влезал - в конце концов метрика меньше, надеюсь дело не в рандомном разлете и я не пропустил сейчас выйгрышный билет\n",
    "3) кажется придется все же разобраться с бустингом и/или рано или поздно прикрутить голосование\n",
    "4) пидорская млп не работает - я помню так она меня выручила в первой курсовой:("
   ]
  },
  {
   "cell_type": "markdown",
   "id": "6548429f",
   "metadata": {},
   "source": [
    "#  3 гиппотеза.  взять последний продукт для каждого id, смерджить пару сетов, сбалансировать, т.к. иначе очень большая получится"
   ]
  },
  {
   "cell_type": "code",
   "execution_count": 28,
   "id": "cca303ca",
   "metadata": {},
   "outputs": [],
   "source": [
    "df_cut_1 = pd.read_csv('train_data/df_only_last_product_1.csv')\n",
    "df_cut_1 = df_cut_1.drop(0, axis=0)\n",
    "df_cut_2 = pd.read_csv('train_data/df_only_last_product_0.csv')\n",
    "df_cut_2 = df_cut_2.drop(0, axis=0)"
   ]
  },
  {
   "cell_type": "code",
   "execution_count": 61,
   "id": "f2c669f6",
   "metadata": {},
   "outputs": [],
   "source": [
    "df_cut_merged = pd.concat([df_cut_2, df_cut_1], ignore_index=True)\n",
    "df_cut_merged = df_cut_merged.drop(['id'], axis=1)"
   ]
  },
  {
   "cell_type": "code",
   "execution_count": 31,
   "id": "21f00a76",
   "metadata": {},
   "outputs": [],
   "source": [
    "df_cut_merged = sample_df(df_cut_merged,df_cut_merged.flag.value_counts()[1], 50,50 )"
   ]
  },
  {
   "cell_type": "code",
   "execution_count": 32,
   "id": "2c06bbf5",
   "metadata": {},
   "outputs": [],
   "source": [
    "x = df_cut_merged.drop('flag', axis=1)\n",
    "y = df_cut_merged.flag"
   ]
  },
  {
   "cell_type": "markdown",
   "id": "6236c88d",
   "metadata": {},
   "source": [
    "## а теперь все вместе, чтобы можно было оставить на полдня:)"
   ]
  },
  {
   "cell_type": "code",
   "execution_count": 33,
   "id": "53e09b83",
   "metadata": {},
   "outputs": [],
   "source": [
    "# создаем список для результатов\n",
    "results_list = []"
   ]
  },
  {
   "cell_type": "code",
   "execution_count": 57,
   "id": "24399c7f",
   "metadata": {
    "collapsed": true
   },
   "outputs": [
    {
     "name": "stderr",
     "output_type": "stream",
     "text": [
      "C:\\Users\\User\\AppData\\Roaming\\Python\\Python311\\site-packages\\sklearn\\linear_model\\_logistic.py:458: ConvergenceWarning: lbfgs failed to converge (status=1):\n",
      "STOP: TOTAL NO. of ITERATIONS REACHED LIMIT.\n",
      "\n",
      "Increase the number of iterations (max_iter) or scale the data as shown in:\n",
      "    https://scikit-learn.org/stable/modules/preprocessing.html\n",
      "Please also refer to the documentation for alternative solver options:\n",
      "    https://scikit-learn.org/stable/modules/linear_model.html#logistic-regression\n",
      "  n_iter_i = _check_optimize_result(\n",
      "C:\\Users\\User\\AppData\\Roaming\\Python\\Python311\\site-packages\\sklearn\\linear_model\\_logistic.py:458: ConvergenceWarning: lbfgs failed to converge (status=1):\n",
      "STOP: TOTAL NO. of ITERATIONS REACHED LIMIT.\n",
      "\n",
      "Increase the number of iterations (max_iter) or scale the data as shown in:\n",
      "    https://scikit-learn.org/stable/modules/preprocessing.html\n",
      "Please also refer to the documentation for alternative solver options:\n",
      "    https://scikit-learn.org/stable/modules/linear_model.html#logistic-regression\n",
      "  n_iter_i = _check_optimize_result(\n",
      "C:\\Users\\User\\AppData\\Roaming\\Python\\Python311\\site-packages\\sklearn\\linear_model\\_logistic.py:458: ConvergenceWarning: lbfgs failed to converge (status=1):\n",
      "STOP: TOTAL NO. of ITERATIONS REACHED LIMIT.\n",
      "\n",
      "Increase the number of iterations (max_iter) or scale the data as shown in:\n",
      "    https://scikit-learn.org/stable/modules/preprocessing.html\n",
      "Please also refer to the documentation for alternative solver options:\n",
      "    https://scikit-learn.org/stable/modules/linear_model.html#logistic-regression\n",
      "  n_iter_i = _check_optimize_result(\n"
     ]
    },
    {
     "name": "stdout",
     "output_type": "stream",
     "text": [
      "share  50  is done\n"
     ]
    },
    {
     "name": "stderr",
     "output_type": "stream",
     "text": [
      "C:\\Users\\User\\AppData\\Roaming\\Python\\Python311\\site-packages\\sklearn\\neural_network\\_multilayer_perceptron.py:686: ConvergenceWarning: Stochastic Optimizer: Maximum iterations (200) reached and the optimization hasn't converged yet.\n",
      "  warnings.warn(\n",
      "C:\\Users\\User\\AppData\\Roaming\\Python\\Python311\\site-packages\\sklearn\\neural_network\\_multilayer_perceptron.py:686: ConvergenceWarning: Stochastic Optimizer: Maximum iterations (200) reached and the optimization hasn't converged yet.\n",
      "  warnings.warn(\n",
      "C:\\Users\\User\\AppData\\Roaming\\Python\\Python311\\site-packages\\sklearn\\neural_network\\_multilayer_perceptron.py:686: ConvergenceWarning: Stochastic Optimizer: Maximum iterations (200) reached and the optimization hasn't converged yet.\n",
      "  warnings.warn(\n",
      "C:\\Users\\User\\AppData\\Roaming\\Python\\Python311\\site-packages\\sklearn\\linear_model\\_logistic.py:458: ConvergenceWarning: lbfgs failed to converge (status=1):\n",
      "STOP: TOTAL NO. of ITERATIONS REACHED LIMIT.\n",
      "\n",
      "Increase the number of iterations (max_iter) or scale the data as shown in:\n",
      "    https://scikit-learn.org/stable/modules/preprocessing.html\n",
      "Please also refer to the documentation for alternative solver options:\n",
      "    https://scikit-learn.org/stable/modules/linear_model.html#logistic-regression\n",
      "  n_iter_i = _check_optimize_result(\n",
      "C:\\Users\\User\\AppData\\Roaming\\Python\\Python311\\site-packages\\sklearn\\linear_model\\_logistic.py:458: ConvergenceWarning: lbfgs failed to converge (status=1):\n",
      "STOP: TOTAL NO. of ITERATIONS REACHED LIMIT.\n",
      "\n",
      "Increase the number of iterations (max_iter) or scale the data as shown in:\n",
      "    https://scikit-learn.org/stable/modules/preprocessing.html\n",
      "Please also refer to the documentation for alternative solver options:\n",
      "    https://scikit-learn.org/stable/modules/linear_model.html#logistic-regression\n",
      "  n_iter_i = _check_optimize_result(\n",
      "C:\\Users\\User\\AppData\\Roaming\\Python\\Python311\\site-packages\\sklearn\\linear_model\\_logistic.py:458: ConvergenceWarning: lbfgs failed to converge (status=1):\n",
      "STOP: TOTAL NO. of ITERATIONS REACHED LIMIT.\n",
      "\n",
      "Increase the number of iterations (max_iter) or scale the data as shown in:\n",
      "    https://scikit-learn.org/stable/modules/preprocessing.html\n",
      "Please also refer to the documentation for alternative solver options:\n",
      "    https://scikit-learn.org/stable/modules/linear_model.html#logistic-regression\n",
      "  n_iter_i = _check_optimize_result(\n"
     ]
    },
    {
     "name": "stdout",
     "output_type": "stream",
     "text": [
      "share  45  is done\n"
     ]
    },
    {
     "name": "stderr",
     "output_type": "stream",
     "text": [
      "C:\\Users\\User\\AppData\\Roaming\\Python\\Python311\\site-packages\\sklearn\\neural_network\\_multilayer_perceptron.py:686: ConvergenceWarning: Stochastic Optimizer: Maximum iterations (200) reached and the optimization hasn't converged yet.\n",
      "  warnings.warn(\n",
      "C:\\Users\\User\\AppData\\Roaming\\Python\\Python311\\site-packages\\sklearn\\neural_network\\_multilayer_perceptron.py:686: ConvergenceWarning: Stochastic Optimizer: Maximum iterations (200) reached and the optimization hasn't converged yet.\n",
      "  warnings.warn(\n",
      "C:\\Users\\User\\AppData\\Roaming\\Python\\Python311\\site-packages\\sklearn\\linear_model\\_logistic.py:458: ConvergenceWarning: lbfgs failed to converge (status=1):\n",
      "STOP: TOTAL NO. of ITERATIONS REACHED LIMIT.\n",
      "\n",
      "Increase the number of iterations (max_iter) or scale the data as shown in:\n",
      "    https://scikit-learn.org/stable/modules/preprocessing.html\n",
      "Please also refer to the documentation for alternative solver options:\n",
      "    https://scikit-learn.org/stable/modules/linear_model.html#logistic-regression\n",
      "  n_iter_i = _check_optimize_result(\n",
      "C:\\Users\\User\\AppData\\Roaming\\Python\\Python311\\site-packages\\sklearn\\linear_model\\_logistic.py:458: ConvergenceWarning: lbfgs failed to converge (status=1):\n",
      "STOP: TOTAL NO. of ITERATIONS REACHED LIMIT.\n",
      "\n",
      "Increase the number of iterations (max_iter) or scale the data as shown in:\n",
      "    https://scikit-learn.org/stable/modules/preprocessing.html\n",
      "Please also refer to the documentation for alternative solver options:\n",
      "    https://scikit-learn.org/stable/modules/linear_model.html#logistic-regression\n",
      "  n_iter_i = _check_optimize_result(\n",
      "C:\\Users\\User\\AppData\\Roaming\\Python\\Python311\\site-packages\\sklearn\\linear_model\\_logistic.py:458: ConvergenceWarning: lbfgs failed to converge (status=1):\n",
      "STOP: TOTAL NO. of ITERATIONS REACHED LIMIT.\n",
      "\n",
      "Increase the number of iterations (max_iter) or scale the data as shown in:\n",
      "    https://scikit-learn.org/stable/modules/preprocessing.html\n",
      "Please also refer to the documentation for alternative solver options:\n",
      "    https://scikit-learn.org/stable/modules/linear_model.html#logistic-regression\n",
      "  n_iter_i = _check_optimize_result(\n"
     ]
    },
    {
     "name": "stdout",
     "output_type": "stream",
     "text": [
      "share  40  is done\n"
     ]
    },
    {
     "name": "stderr",
     "output_type": "stream",
     "text": [
      "C:\\Users\\User\\AppData\\Roaming\\Python\\Python311\\site-packages\\sklearn\\neural_network\\_multilayer_perceptron.py:686: ConvergenceWarning: Stochastic Optimizer: Maximum iterations (200) reached and the optimization hasn't converged yet.\n",
      "  warnings.warn(\n",
      "C:\\Users\\User\\AppData\\Roaming\\Python\\Python311\\site-packages\\sklearn\\linear_model\\_logistic.py:458: ConvergenceWarning: lbfgs failed to converge (status=1):\n",
      "STOP: TOTAL NO. of ITERATIONS REACHED LIMIT.\n",
      "\n",
      "Increase the number of iterations (max_iter) or scale the data as shown in:\n",
      "    https://scikit-learn.org/stable/modules/preprocessing.html\n",
      "Please also refer to the documentation for alternative solver options:\n",
      "    https://scikit-learn.org/stable/modules/linear_model.html#logistic-regression\n",
      "  n_iter_i = _check_optimize_result(\n",
      "C:\\Users\\User\\AppData\\Roaming\\Python\\Python311\\site-packages\\sklearn\\linear_model\\_logistic.py:458: ConvergenceWarning: lbfgs failed to converge (status=1):\n",
      "STOP: TOTAL NO. of ITERATIONS REACHED LIMIT.\n",
      "\n",
      "Increase the number of iterations (max_iter) or scale the data as shown in:\n",
      "    https://scikit-learn.org/stable/modules/preprocessing.html\n",
      "Please also refer to the documentation for alternative solver options:\n",
      "    https://scikit-learn.org/stable/modules/linear_model.html#logistic-regression\n",
      "  n_iter_i = _check_optimize_result(\n",
      "C:\\Users\\User\\AppData\\Roaming\\Python\\Python311\\site-packages\\sklearn\\linear_model\\_logistic.py:458: ConvergenceWarning: lbfgs failed to converge (status=1):\n",
      "STOP: TOTAL NO. of ITERATIONS REACHED LIMIT.\n",
      "\n",
      "Increase the number of iterations (max_iter) or scale the data as shown in:\n",
      "    https://scikit-learn.org/stable/modules/preprocessing.html\n",
      "Please also refer to the documentation for alternative solver options:\n",
      "    https://scikit-learn.org/stable/modules/linear_model.html#logistic-regression\n",
      "  n_iter_i = _check_optimize_result(\n"
     ]
    },
    {
     "name": "stdout",
     "output_type": "stream",
     "text": [
      "share  35  is done\n"
     ]
    },
    {
     "name": "stderr",
     "output_type": "stream",
     "text": [
      "C:\\Users\\User\\AppData\\Roaming\\Python\\Python311\\site-packages\\sklearn\\neural_network\\_multilayer_perceptron.py:686: ConvergenceWarning: Stochastic Optimizer: Maximum iterations (200) reached and the optimization hasn't converged yet.\n",
      "  warnings.warn(\n",
      "C:\\Users\\User\\AppData\\Roaming\\Python\\Python311\\site-packages\\sklearn\\neural_network\\_multilayer_perceptron.py:686: ConvergenceWarning: Stochastic Optimizer: Maximum iterations (200) reached and the optimization hasn't converged yet.\n",
      "  warnings.warn(\n",
      "C:\\Users\\User\\AppData\\Roaming\\Python\\Python311\\site-packages\\sklearn\\linear_model\\_logistic.py:458: ConvergenceWarning: lbfgs failed to converge (status=1):\n",
      "STOP: TOTAL NO. of ITERATIONS REACHED LIMIT.\n",
      "\n",
      "Increase the number of iterations (max_iter) or scale the data as shown in:\n",
      "    https://scikit-learn.org/stable/modules/preprocessing.html\n",
      "Please also refer to the documentation for alternative solver options:\n",
      "    https://scikit-learn.org/stable/modules/linear_model.html#logistic-regression\n",
      "  n_iter_i = _check_optimize_result(\n",
      "C:\\Users\\User\\AppData\\Roaming\\Python\\Python311\\site-packages\\sklearn\\linear_model\\_logistic.py:458: ConvergenceWarning: lbfgs failed to converge (status=1):\n",
      "STOP: TOTAL NO. of ITERATIONS REACHED LIMIT.\n",
      "\n",
      "Increase the number of iterations (max_iter) or scale the data as shown in:\n",
      "    https://scikit-learn.org/stable/modules/preprocessing.html\n",
      "Please also refer to the documentation for alternative solver options:\n",
      "    https://scikit-learn.org/stable/modules/linear_model.html#logistic-regression\n",
      "  n_iter_i = _check_optimize_result(\n",
      "C:\\Users\\User\\AppData\\Roaming\\Python\\Python311\\site-packages\\sklearn\\linear_model\\_logistic.py:458: ConvergenceWarning: lbfgs failed to converge (status=1):\n",
      "STOP: TOTAL NO. of ITERATIONS REACHED LIMIT.\n",
      "\n",
      "Increase the number of iterations (max_iter) or scale the data as shown in:\n",
      "    https://scikit-learn.org/stable/modules/preprocessing.html\n",
      "Please also refer to the documentation for alternative solver options:\n",
      "    https://scikit-learn.org/stable/modules/linear_model.html#logistic-regression\n",
      "  n_iter_i = _check_optimize_result(\n"
     ]
    },
    {
     "name": "stdout",
     "output_type": "stream",
     "text": [
      "share  30  is done\n"
     ]
    },
    {
     "name": "stderr",
     "output_type": "stream",
     "text": [
      "C:\\Users\\User\\AppData\\Roaming\\Python\\Python311\\site-packages\\sklearn\\neural_network\\_multilayer_perceptron.py:686: ConvergenceWarning: Stochastic Optimizer: Maximum iterations (200) reached and the optimization hasn't converged yet.\n",
      "  warnings.warn(\n",
      "C:\\Users\\User\\AppData\\Roaming\\Python\\Python311\\site-packages\\sklearn\\neural_network\\_multilayer_perceptron.py:686: ConvergenceWarning: Stochastic Optimizer: Maximum iterations (200) reached and the optimization hasn't converged yet.\n",
      "  warnings.warn(\n",
      "C:\\Users\\User\\AppData\\Roaming\\Python\\Python311\\site-packages\\sklearn\\linear_model\\_logistic.py:458: ConvergenceWarning: lbfgs failed to converge (status=1):\n",
      "STOP: TOTAL NO. of ITERATIONS REACHED LIMIT.\n",
      "\n",
      "Increase the number of iterations (max_iter) or scale the data as shown in:\n",
      "    https://scikit-learn.org/stable/modules/preprocessing.html\n",
      "Please also refer to the documentation for alternative solver options:\n",
      "    https://scikit-learn.org/stable/modules/linear_model.html#logistic-regression\n",
      "  n_iter_i = _check_optimize_result(\n",
      "C:\\Users\\User\\AppData\\Roaming\\Python\\Python311\\site-packages\\sklearn\\linear_model\\_logistic.py:458: ConvergenceWarning: lbfgs failed to converge (status=1):\n",
      "STOP: TOTAL NO. of ITERATIONS REACHED LIMIT.\n",
      "\n",
      "Increase the number of iterations (max_iter) or scale the data as shown in:\n",
      "    https://scikit-learn.org/stable/modules/preprocessing.html\n",
      "Please also refer to the documentation for alternative solver options:\n",
      "    https://scikit-learn.org/stable/modules/linear_model.html#logistic-regression\n",
      "  n_iter_i = _check_optimize_result(\n",
      "C:\\Users\\User\\AppData\\Roaming\\Python\\Python311\\site-packages\\sklearn\\linear_model\\_logistic.py:458: ConvergenceWarning: lbfgs failed to converge (status=1):\n",
      "STOP: TOTAL NO. of ITERATIONS REACHED LIMIT.\n",
      "\n",
      "Increase the number of iterations (max_iter) or scale the data as shown in:\n",
      "    https://scikit-learn.org/stable/modules/preprocessing.html\n",
      "Please also refer to the documentation for alternative solver options:\n",
      "    https://scikit-learn.org/stable/modules/linear_model.html#logistic-regression\n",
      "  n_iter_i = _check_optimize_result(\n"
     ]
    },
    {
     "name": "stdout",
     "output_type": "stream",
     "text": [
      "share  25  is done\n"
     ]
    },
    {
     "name": "stderr",
     "output_type": "stream",
     "text": [
      "C:\\Users\\User\\AppData\\Roaming\\Python\\Python311\\site-packages\\sklearn\\neural_network\\_multilayer_perceptron.py:686: ConvergenceWarning: Stochastic Optimizer: Maximum iterations (200) reached and the optimization hasn't converged yet.\n",
      "  warnings.warn(\n",
      "C:\\Users\\User\\AppData\\Roaming\\Python\\Python311\\site-packages\\sklearn\\neural_network\\_multilayer_perceptron.py:686: ConvergenceWarning: Stochastic Optimizer: Maximum iterations (200) reached and the optimization hasn't converged yet.\n",
      "  warnings.warn(\n",
      "C:\\Users\\User\\AppData\\Roaming\\Python\\Python311\\site-packages\\sklearn\\neural_network\\_multilayer_perceptron.py:686: ConvergenceWarning: Stochastic Optimizer: Maximum iterations (200) reached and the optimization hasn't converged yet.\n",
      "  warnings.warn(\n",
      "C:\\Users\\User\\AppData\\Roaming\\Python\\Python311\\site-packages\\sklearn\\linear_model\\_logistic.py:458: ConvergenceWarning: lbfgs failed to converge (status=1):\n",
      "STOP: TOTAL NO. of ITERATIONS REACHED LIMIT.\n",
      "\n",
      "Increase the number of iterations (max_iter) or scale the data as shown in:\n",
      "    https://scikit-learn.org/stable/modules/preprocessing.html\n",
      "Please also refer to the documentation for alternative solver options:\n",
      "    https://scikit-learn.org/stable/modules/linear_model.html#logistic-regression\n",
      "  n_iter_i = _check_optimize_result(\n",
      "C:\\Users\\User\\AppData\\Roaming\\Python\\Python311\\site-packages\\sklearn\\linear_model\\_logistic.py:458: ConvergenceWarning: lbfgs failed to converge (status=1):\n",
      "STOP: TOTAL NO. of ITERATIONS REACHED LIMIT.\n",
      "\n",
      "Increase the number of iterations (max_iter) or scale the data as shown in:\n",
      "    https://scikit-learn.org/stable/modules/preprocessing.html\n",
      "Please also refer to the documentation for alternative solver options:\n",
      "    https://scikit-learn.org/stable/modules/linear_model.html#logistic-regression\n",
      "  n_iter_i = _check_optimize_result(\n",
      "C:\\Users\\User\\AppData\\Roaming\\Python\\Python311\\site-packages\\sklearn\\linear_model\\_logistic.py:458: ConvergenceWarning: lbfgs failed to converge (status=1):\n",
      "STOP: TOTAL NO. of ITERATIONS REACHED LIMIT.\n",
      "\n",
      "Increase the number of iterations (max_iter) or scale the data as shown in:\n",
      "    https://scikit-learn.org/stable/modules/preprocessing.html\n",
      "Please also refer to the documentation for alternative solver options:\n",
      "    https://scikit-learn.org/stable/modules/linear_model.html#logistic-regression\n",
      "  n_iter_i = _check_optimize_result(\n"
     ]
    },
    {
     "name": "stdout",
     "output_type": "stream",
     "text": [
      "share  20  is done\n"
     ]
    },
    {
     "name": "stderr",
     "output_type": "stream",
     "text": [
      "C:\\Users\\User\\AppData\\Roaming\\Python\\Python311\\site-packages\\sklearn\\neural_network\\_multilayer_perceptron.py:686: ConvergenceWarning: Stochastic Optimizer: Maximum iterations (200) reached and the optimization hasn't converged yet.\n",
      "  warnings.warn(\n",
      "C:\\Users\\User\\AppData\\Roaming\\Python\\Python311\\site-packages\\sklearn\\neural_network\\_multilayer_perceptron.py:686: ConvergenceWarning: Stochastic Optimizer: Maximum iterations (200) reached and the optimization hasn't converged yet.\n",
      "  warnings.warn(\n",
      "C:\\Users\\User\\AppData\\Roaming\\Python\\Python311\\site-packages\\sklearn\\neural_network\\_multilayer_perceptron.py:686: ConvergenceWarning: Stochastic Optimizer: Maximum iterations (200) reached and the optimization hasn't converged yet.\n",
      "  warnings.warn(\n",
      "C:\\Users\\User\\AppData\\Roaming\\Python\\Python311\\site-packages\\sklearn\\linear_model\\_logistic.py:458: ConvergenceWarning: lbfgs failed to converge (status=1):\n",
      "STOP: TOTAL NO. of ITERATIONS REACHED LIMIT.\n",
      "\n",
      "Increase the number of iterations (max_iter) or scale the data as shown in:\n",
      "    https://scikit-learn.org/stable/modules/preprocessing.html\n",
      "Please also refer to the documentation for alternative solver options:\n",
      "    https://scikit-learn.org/stable/modules/linear_model.html#logistic-regression\n",
      "  n_iter_i = _check_optimize_result(\n",
      "C:\\Users\\User\\AppData\\Roaming\\Python\\Python311\\site-packages\\sklearn\\linear_model\\_logistic.py:458: ConvergenceWarning: lbfgs failed to converge (status=1):\n",
      "STOP: TOTAL NO. of ITERATIONS REACHED LIMIT.\n",
      "\n",
      "Increase the number of iterations (max_iter) or scale the data as shown in:\n",
      "    https://scikit-learn.org/stable/modules/preprocessing.html\n",
      "Please also refer to the documentation for alternative solver options:\n",
      "    https://scikit-learn.org/stable/modules/linear_model.html#logistic-regression\n",
      "  n_iter_i = _check_optimize_result(\n",
      "C:\\Users\\User\\AppData\\Roaming\\Python\\Python311\\site-packages\\sklearn\\linear_model\\_logistic.py:458: ConvergenceWarning: lbfgs failed to converge (status=1):\n",
      "STOP: TOTAL NO. of ITERATIONS REACHED LIMIT.\n",
      "\n",
      "Increase the number of iterations (max_iter) or scale the data as shown in:\n",
      "    https://scikit-learn.org/stable/modules/preprocessing.html\n",
      "Please also refer to the documentation for alternative solver options:\n",
      "    https://scikit-learn.org/stable/modules/linear_model.html#logistic-regression\n",
      "  n_iter_i = _check_optimize_result(\n"
     ]
    },
    {
     "name": "stdout",
     "output_type": "stream",
     "text": [
      "share  15  is done\n"
     ]
    },
    {
     "name": "stderr",
     "output_type": "stream",
     "text": [
      "C:\\Users\\User\\AppData\\Roaming\\Python\\Python311\\site-packages\\sklearn\\neural_network\\_multilayer_perceptron.py:686: ConvergenceWarning: Stochastic Optimizer: Maximum iterations (200) reached and the optimization hasn't converged yet.\n",
      "  warnings.warn(\n",
      "C:\\Users\\User\\AppData\\Roaming\\Python\\Python311\\site-packages\\sklearn\\neural_network\\_multilayer_perceptron.py:686: ConvergenceWarning: Stochastic Optimizer: Maximum iterations (200) reached and the optimization hasn't converged yet.\n",
      "  warnings.warn(\n",
      "C:\\Users\\User\\AppData\\Roaming\\Python\\Python311\\site-packages\\sklearn\\linear_model\\_logistic.py:458: ConvergenceWarning: lbfgs failed to converge (status=1):\n",
      "STOP: TOTAL NO. of ITERATIONS REACHED LIMIT.\n",
      "\n",
      "Increase the number of iterations (max_iter) or scale the data as shown in:\n",
      "    https://scikit-learn.org/stable/modules/preprocessing.html\n",
      "Please also refer to the documentation for alternative solver options:\n",
      "    https://scikit-learn.org/stable/modules/linear_model.html#logistic-regression\n",
      "  n_iter_i = _check_optimize_result(\n",
      "C:\\Users\\User\\AppData\\Roaming\\Python\\Python311\\site-packages\\sklearn\\linear_model\\_logistic.py:458: ConvergenceWarning: lbfgs failed to converge (status=1):\n",
      "STOP: TOTAL NO. of ITERATIONS REACHED LIMIT.\n",
      "\n",
      "Increase the number of iterations (max_iter) or scale the data as shown in:\n",
      "    https://scikit-learn.org/stable/modules/preprocessing.html\n",
      "Please also refer to the documentation for alternative solver options:\n",
      "    https://scikit-learn.org/stable/modules/linear_model.html#logistic-regression\n",
      "  n_iter_i = _check_optimize_result(\n",
      "C:\\Users\\User\\AppData\\Roaming\\Python\\Python311\\site-packages\\sklearn\\linear_model\\_logistic.py:458: ConvergenceWarning: lbfgs failed to converge (status=1):\n",
      "STOP: TOTAL NO. of ITERATIONS REACHED LIMIT.\n",
      "\n",
      "Increase the number of iterations (max_iter) or scale the data as shown in:\n",
      "    https://scikit-learn.org/stable/modules/preprocessing.html\n",
      "Please also refer to the documentation for alternative solver options:\n",
      "    https://scikit-learn.org/stable/modules/linear_model.html#logistic-regression\n",
      "  n_iter_i = _check_optimize_result(\n"
     ]
    },
    {
     "name": "stdout",
     "output_type": "stream",
     "text": [
      "share  10  is done\n"
     ]
    },
    {
     "name": "stderr",
     "output_type": "stream",
     "text": [
      "C:\\Users\\User\\AppData\\Roaming\\Python\\Python311\\site-packages\\sklearn\\linear_model\\_logistic.py:458: ConvergenceWarning: lbfgs failed to converge (status=1):\n",
      "STOP: TOTAL NO. of ITERATIONS REACHED LIMIT.\n",
      "\n",
      "Increase the number of iterations (max_iter) or scale the data as shown in:\n",
      "    https://scikit-learn.org/stable/modules/preprocessing.html\n",
      "Please also refer to the documentation for alternative solver options:\n",
      "    https://scikit-learn.org/stable/modules/linear_model.html#logistic-regression\n",
      "  n_iter_i = _check_optimize_result(\n",
      "C:\\Users\\User\\AppData\\Roaming\\Python\\Python311\\site-packages\\sklearn\\linear_model\\_logistic.py:458: ConvergenceWarning: lbfgs failed to converge (status=1):\n",
      "STOP: TOTAL NO. of ITERATIONS REACHED LIMIT.\n",
      "\n",
      "Increase the number of iterations (max_iter) or scale the data as shown in:\n",
      "    https://scikit-learn.org/stable/modules/preprocessing.html\n",
      "Please also refer to the documentation for alternative solver options:\n",
      "    https://scikit-learn.org/stable/modules/linear_model.html#logistic-regression\n",
      "  n_iter_i = _check_optimize_result(\n",
      "C:\\Users\\User\\AppData\\Roaming\\Python\\Python311\\site-packages\\sklearn\\linear_model\\_logistic.py:458: ConvergenceWarning: lbfgs failed to converge (status=1):\n",
      "STOP: TOTAL NO. of ITERATIONS REACHED LIMIT.\n",
      "\n",
      "Increase the number of iterations (max_iter) or scale the data as shown in:\n",
      "    https://scikit-learn.org/stable/modules/preprocessing.html\n",
      "Please also refer to the documentation for alternative solver options:\n",
      "    https://scikit-learn.org/stable/modules/linear_model.html#logistic-regression\n",
      "  n_iter_i = _check_optimize_result(\n"
     ]
    },
    {
     "name": "stdout",
     "output_type": "stream",
     "text": [
      "share  5  is done\n"
     ]
    }
   ],
   "source": [
    "# задать варианты балансировки - 50%, 45% положительных и т.д.\n",
    "shares = [50, 45, 40 ,35, 30, 25, 20, 15, 10, 5]\n",
    "\n",
    "for i in shares:\n",
    "    results_dict = dict()\n",
    "    df_cut_merged = pd.concat([df_cut_2, df_cut_1], ignore_index=True)\n",
    "    df_cut_merged = df_cut_merged.drop(['id'], axis=1)\n",
    "    df_cut_merged = sample_df(\n",
    "        df_cut_merged, \n",
    "        round(df_cut_merged.flag.value_counts()[1] / i * 100 + 1, 0),\n",
    "        100 - i,\n",
    "        i\n",
    "    )\n",
    "    \n",
    "    # пройтись по всем моделям и записать результаты в словарь\n",
    "    models = [\n",
    "        KNeighborsClassifier(),\n",
    "        SVC(),\n",
    "        RandomForestClassifier(),\n",
    "        MLPClassifier(),\n",
    "        LogisticRegression(),\n",
    "        DecisionTreeClassifier(),\n",
    "        GaussianNB(),\n",
    "    ]\n",
    "    #     xgb(),\n",
    "    #     lgb(),\n",
    "    # ]\n",
    "    x = df_cut_merged.drop('flag', axis=1)\n",
    "    y = df_cut_merged.flag\n",
    "    \n",
    "    for model in models:\n",
    "    \n",
    "        cv_scores = cross_val_score(model, x, y, cv=3, scoring='roc_auc')\n",
    "        results_dict[str(model)[0:str(model).find('(')]] = mean(cv_scores)\n",
    "\n",
    "\n",
    "    # и добавить словарь в список словарей с результатами вместе с описанием доли\n",
    "    results_list.append(f'share is {i}')\n",
    "    results_list.append(results_dict)\n",
    "    print('share ', i,' is done')\n",
    "    \n",
    "    \n",
    "    \n",
    "#     print('share is ',i, ', df size is ', df_cut_merged.shape, ' pos flag is ')"
   ]
  },
  {
   "cell_type": "code",
   "execution_count": 34,
   "id": "564b0f94",
   "metadata": {},
   "outputs": [],
   "source": [
    "results_list = [\n",
    "    'share is 50', {'KNeighborsClassifier': 0.6039867900411489,  'SVC': 0.6812550032471986,  'RandomForestClassifier': 0.6835726548349434,  'MLPClassifier': 0.6752809460623331,  'LogisticRegression': 0.6788503417013887,  'DecisionTreeClassifier': 0.5671797979243346,  'GaussianNB': 0.649392129503637},\n",
    "    'share is 45', {'KNeighborsClassifier': 0.6078919752275738,  'SVC': 0.6848796631383719,  'RandomForestClassifier': 0.687762865877969,  'MLPClassifier': 0.675328676013781,  'LogisticRegression': 0.6797352705795952,  'DecisionTreeClassifier': 0.5718321973362772,  'GaussianNB': 0.6537118657688114}, \n",
    "    'share is 40', {'KNeighborsClassifier': 0.603487571754082,  'SVC': 0.6809908905042139,  'RandomForestClassifier': 0.6845238289801637,  'MLPClassifier': 0.6757827971827998,  'LogisticRegression': 0.6751937319118898,  'DecisionTreeClassifier': 0.5679711830985809,  'GaussianNB': 0.6482830437774044}, \n",
    "    'share is 35', {'KNeighborsClassifier': 0.6060186105104558,  'SVC': 0.6752742006972454,  'RandomForestClassifier': 0.6817462382150268,  'MLPClassifier': 0.6711067654035463,  'LogisticRegression': 0.6756622003145129,  'DecisionTreeClassifier': 0.5678878359796654,  'GaussianNB': 0.650735837012962}, \n",
    "    'share is 30', {'KNeighborsClassifier': 0.6038608398633035,  'SVC': 0.6690328991002282,  'RandomForestClassifier': 0.6827473497465566,  'MLPClassifier': 0.6742057899799434,  'LogisticRegression': 0.6770920944759699,  'DecisionTreeClassifier': 0.5648565947644032,  'GaussianNB': 0.6518236594453576}, \n",
    "    'share is 25', {'KNeighborsClassifier': 0.6003076608552574,  'SVC': 0.6513942341445346,  'RandomForestClassifier': 0.6787911325022891,  'MLPClassifier': 0.6745152133499647,  'LogisticRegression': 0.6772687020645497,  'DecisionTreeClassifier': 0.5571061000893228,  'GaussianNB': 0.6513346985002458}, \n",
    "    'share is 20', {'KNeighborsClassifier': 0.596841572586642,  'SVC': 0.6292928641300419,  'RandomForestClassifier': 0.6802862995515127,  'MLPClassifier': 0.6763896805112829,  'LogisticRegression': 0.6792803781352511,  'DecisionTreeClassifier': 0.5589903034529387,  'GaussianNB': 0.6520579986134729}, \n",
    "    'share is 15', {'KNeighborsClassifier': 0.5912542232325356,  'SVC': 0.6008291597057341,  'RandomForestClassifier': 0.6731576401927324,  'MLPClassifier': 0.6780418115404064,  'LogisticRegression': 0.676765363679794,  'DecisionTreeClassifier': 0.55321535176371,  'GaussianNB': 0.6515761739203446}, \n",
    "    'share is 10', {'KNeighborsClassifier': 0.5755251445743896,  'SVC': 0.5872029160909659,  'RandomForestClassifier': 0.6617360646978946, 'MLPClassifier': 0.6765743763546318,  'LogisticRegression': 0.6767563983272495,  'DecisionTreeClassifier': 0.5394460437466541,  'GaussianNB': 0.6511694450611786}, \n",
    "    'share is 5', {'KNeighborsClassifier': 0.5581460516644973,  'SVC': 0.5608346770269851,  'RandomForestClassifier': 0.6485091937847597,  'MLPClassifier': 0.6864680023840712,  'LogisticRegression': 0.676925619838474,  'DecisionTreeClassifier': 0.5302841937960343,  'GaussianNB': 0.651764413813694}\n",
    "]\n"
   ]
  },
  {
   "cell_type": "code",
   "execution_count": 39,
   "id": "e9757331",
   "metadata": {},
   "outputs": [],
   "source": [
    "results_list_2 = []\n",
    "shares = []\n",
    "for entry in results_list:\n",
    "    if type(entry) == dict:\n",
    "        results_list_2.append(entry)\n",
    "    if type(entry) == str:\n",
    "        shares.append(entry)"
   ]
  },
  {
   "cell_type": "code",
   "execution_count": 42,
   "id": "6bc31722",
   "metadata": {},
   "outputs": [
    {
     "data": {
      "text/plain": [
       "{'KNeighborsClassifier': 0.6039867900411489,\n",
       " 'SVC': 0.6812550032471986,\n",
       " 'RandomForestClassifier': 0.6835726548349434,\n",
       " 'MLPClassifier': 0.6752809460623331,\n",
       " 'LogisticRegression': 0.6788503417013887,\n",
       " 'DecisionTreeClassifier': 0.5671797979243346,\n",
       " 'GaussianNB': 0.649392129503637}"
      ]
     },
     "execution_count": 42,
     "metadata": {},
     "output_type": "execute_result"
    }
   ],
   "source": [
    "models"
   ]
  },
  {
   "cell_type": "code",
   "execution_count": 45,
   "id": "a17068e6",
   "metadata": {},
   "outputs": [
    {
     "data": {
      "image/png": "[encoded data removed]",
      "text/plain": [
       "<Figure size 640x480 with 1 Axes>"
      ]
     },
     "metadata": {},
     "output_type": "display_data"
    }
   ],
   "source": [
    "current_plot = []\n",
    "counter = 0\n",
    "for model in models:\n",
    "    current_plot.append([])\n",
    "#     model = 'KNeighborsClassifier'\n",
    "    for i in range(len(results_list_2)):\n",
    "        \n",
    "#         print(i)\n",
    "        current_plot[counter].append(results_list_2[i][str(model)[0:str(model).find('(')]])\n",
    "    \n",
    "    plt.plot(current_plot[counter])\n",
    "    counter += 1\n",
    "#         print(len(current_plot))\n",
    "    plt.legend(models)\n",
    "    plt.xticks(range(len(shares)),shares, rotation=45)"
   ]
  },
  {
   "cell_type": "code",
   "execution_count": 47,
   "id": "329a08fe",
   "metadata": {},
   "outputs": [],
   "source": [
    "df_cut_1 = pd.read_csv('train_data/df_only_last_product_1.csv')\n",
    "df_cut_1 = df_cut_1.drop(0, axis=0)\n",
    "df_cut_2 = pd.read_csv('train_data/df_only_last_product_0.csv')\n",
    "df_cut_2 = df_cut_2.drop(0, axis=0)\n",
    "df_cut_merged = pd.concat([df_cut_2, df_cut_1], ignore_index=True)\n",
    "df_cut_merged = df_cut_merged.drop(['id'], axis=1)"
   ]
  },
  {
   "cell_type": "code",
   "execution_count": 48,
   "id": "5cba5a8b",
   "metadata": {},
   "outputs": [],
   "source": [
    "model = MLPClassifier()"
   ]
  },
  {
   "cell_type": "code",
   "execution_count": 49,
   "id": "25a0e2ab",
   "metadata": {},
   "outputs": [],
   "source": [
    "share = 5\n",
    "df_cut_merged = sample_df(\n",
    "    df_cut_merged, \n",
    "    round(df_cut_merged.flag.value_counts()[1] / share * 100 + 1, 0),\n",
    "    100 - share,\n",
    "    share\n",
    ")"
   ]
  },
  {
   "cell_type": "code",
   "execution_count": 50,
   "id": "d5fc13e3",
   "metadata": {},
   "outputs": [],
   "source": [
    "x = df_cut_merged.drop('flag', axis=1)\n",
    "y = df_cut_merged.flag"
   ]
  },
  {
   "cell_type": "code",
   "execution_count": 55,
   "id": "0941f3e6",
   "metadata": {},
   "outputs": [],
   "source": [
    "df3 = fastparquet.ParquetFile('train_data/train_data_2.pq').to_pandas()\n",
    "df3 = pd.merge(df3, answers, on='id', how='left')\n",
    "df3 = df3.drop(['id'], axis=1)"
   ]
  },
  {
   "cell_type": "code",
   "execution_count": 53,
   "id": "aa4a1905",
   "metadata": {},
   "outputs": [
    {
     "data": {
      "text/html": [
       "<style>#sk-container-id-1 {color: black;background-color: white;}#sk-container-id-1 pre{padding: 0;}#sk-container-id-1 div.sk-toggleable {background-color: white;}#sk-container-id-1 label.sk-toggleable__label {cursor: pointer;display: block;width: 100%;margin-bottom: 0;padding: 0.3em;box-sizing: border-box;text-align: center;}#sk-container-id-1 label.sk-toggleable__label-arrow:before {content: \"▸\";float: left;margin-right: 0.25em;color: #696969;}#sk-container-id-1 label.sk-toggleable__label-arrow:hover:before {color: black;}#sk-container-id-1 div.sk-estimator:hover label.sk-toggleable__label-arrow:before {color: black;}#sk-container-id-1 div.sk-toggleable__content {max-height: 0;max-width: 0;overflow: hidden;text-align: left;background-color: #f0f8ff;}#sk-container-id-1 div.sk-toggleable__content pre {margin: 0.2em;color: black;border-radius: 0.25em;background-color: #f0f8ff;}#sk-container-id-1 input.sk-toggleable__control:checked~div.sk-toggleable__content {max-height: 200px;max-width: 100%;overflow: auto;}#sk-container-id-1 input.sk-toggleable__control:checked~label.sk-toggleable__label-arrow:before {content: \"▾\";}#sk-container-id-1 div.sk-estimator input.sk-toggleable__control:checked~label.sk-toggleable__label {background-color: #d4ebff;}#sk-container-id-1 div.sk-label input.sk-toggleable__control:checked~label.sk-toggleable__label {background-color: #d4ebff;}#sk-container-id-1 input.sk-hidden--visually {border: 0;clip: rect(1px 1px 1px 1px);clip: rect(1px, 1px, 1px, 1px);height: 1px;margin: -1px;overflow: hidden;padding: 0;position: absolute;width: 1px;}#sk-container-id-1 div.sk-estimator {font-family: monospace;background-color: #f0f8ff;border: 1px dotted black;border-radius: 0.25em;box-sizing: border-box;margin-bottom: 0.5em;}#sk-container-id-1 div.sk-estimator:hover {background-color: #d4ebff;}#sk-container-id-1 div.sk-parallel-item::after {content: \"\";width: 100%;border-bottom: 1px solid gray;flex-grow: 1;}#sk-container-id-1 div.sk-label:hover label.sk-toggleable__label {background-color: #d4ebff;}#sk-container-id-1 div.sk-serial::before {content: \"\";position: absolute;border-left: 1px solid gray;box-sizing: border-box;top: 0;bottom: 0;left: 50%;z-index: 0;}#sk-container-id-1 div.sk-serial {display: flex;flex-direction: column;align-items: center;background-color: white;padding-right: 0.2em;padding-left: 0.2em;position: relative;}#sk-container-id-1 div.sk-item {position: relative;z-index: 1;}#sk-container-id-1 div.sk-parallel {display: flex;align-items: stretch;justify-content: center;background-color: white;position: relative;}#sk-container-id-1 div.sk-item::before, #sk-container-id-1 div.sk-parallel-item::before {content: \"\";position: absolute;border-left: 1px solid gray;box-sizing: border-box;top: 0;bottom: 0;left: 50%;z-index: -1;}#sk-container-id-1 div.sk-parallel-item {display: flex;flex-direction: column;z-index: 1;position: relative;background-color: white;}#sk-container-id-1 div.sk-parallel-item:first-child::after {align-self: flex-end;width: 50%;}#sk-container-id-1 div.sk-parallel-item:last-child::after {align-self: flex-start;width: 50%;}#sk-container-id-1 div.sk-parallel-item:only-child::after {width: 0;}#sk-container-id-1 div.sk-dashed-wrapped {border: 1px dashed gray;margin: 0 0.4em 0.5em 0.4em;box-sizing: border-box;padding-bottom: 0.4em;background-color: white;}#sk-container-id-1 div.sk-label label {font-family: monospace;font-weight: bold;display: inline-block;line-height: 1.2em;}#sk-container-id-1 div.sk-label-container {text-align: center;}#sk-container-id-1 div.sk-container {/* jupyter's `normalize.less` sets `[hidden] { display: none; }` but bootstrap.min.css set `[hidden] { display: none !important; }` so we also need the `!important` here to be able to override the default hidden behavior on the sphinx rendered scikit-learn.org. See: https://github.com/scikit-learn/scikit-learn/issues/21755 */display: inline-block !important;position: relative;}#sk-container-id-1 div.sk-text-repr-fallback {display: none;}</style><div id=\"sk-container-id-1\" class=\"sk-top-container\"><div class=\"sk-text-repr-fallback\"><pre>MLPClassifier()</pre><b>In a Jupyter environment, please rerun this cell to show the HTML representation or trust the notebook. <br />On GitHub, the HTML representation is unable to render, please try loading this page with nbviewer.org.</b></div><div class=\"sk-container\" hidden><div class=\"sk-item\"><div class=\"sk-estimator sk-toggleable\"><input class=\"sk-toggleable__control sk-hidden--visually\" id=\"sk-estimator-id-1\" type=\"checkbox\" checked><label for=\"sk-estimator-id-1\" class=\"sk-toggleable__label sk-toggleable__label-arrow\">MLPClassifier</label><div class=\"sk-toggleable__content\"><pre>MLPClassifier()</pre></div></div></div></div></div>"
      ],
      "text/plain": [
       "MLPClassifier()"
      ]
     },
     "execution_count": 53,
     "metadata": {},
     "output_type": "execute_result"
    }
   ],
   "source": [
    "model.fit(x,y)"
   ]
  },
  {
   "cell_type": "code",
   "execution_count": 56,
   "id": "deed0b47",
   "metadata": {},
   "outputs": [
    {
     "name": "stdout",
     "output_type": "stream",
     "text": [
      "ROC AUC Score: 0.6205342433016622\n"
     ]
    }
   ],
   "source": [
    "x_test = df3.drop('flag', axis=1)\n",
    "y_test = df3.flag\n",
    "y_pred_prob = model.predict_proba(x_test)[:, 1]\n",
    "\n",
    "# Calculate the ROC AUC score\n",
    "roc_auc = roc_auc_score(y_test, y_pred_prob)\n",
    "\n",
    "print(\"ROC AUC Score:\", roc_auc)"
   ]
  },
  {
   "cell_type": "code",
   "execution_count": 57,
   "id": "3f1d1526",
   "metadata": {},
   "outputs": [
    {
     "name": "stdout",
     "output_type": "stream",
     "text": [
      "Best Parameters: {'max_depth': 20, 'min_samples_leaf': 4, 'min_samples_split': 5, 'n_estimators': 200}\n",
      "Best Score: 0.7089107858720117\n"
     ]
    }
   ],
   "source": [
    "df_cut_1 = pd.read_csv('train_data/df_only_last_product_1.csv')\n",
    "df_cut_1 = df_cut_1.drop(0, axis=0)\n",
    "df_cut_2 = pd.read_csv('train_data/df_only_last_product_0.csv')\n",
    "df_cut_2 = df_cut_2.drop(0, axis=0)\n",
    "df_cut_merged = pd.concat([df_cut_2, df_cut_1], ignore_index=True)\n",
    "df_cut_merged = df_cut_merged.drop(['id'], axis=1)\n",
    "\n",
    "share = 45\n",
    "df_cut_merged = sample_df(\n",
    "    df_cut_merged, \n",
    "    round(df_cut_merged.flag.value_counts()[1] / share * 100 + 1, 0),\n",
    "    100 - share,\n",
    "    share\n",
    ")\n",
    "\n",
    "x = df_cut_merged.drop('flag', axis=1)\n",
    "y = df_cut_merged.flag\n",
    "\n",
    "model = RandomForestClassifier()\n",
    "\n",
    "param_grid = {\n",
    "    'n_estimators': [50, 100, 200],\n",
    "    'max_depth': [None, 5, 10, 20],\n",
    "    'min_samples_split': [2, 5, 10],\n",
    "    'min_samples_leaf': [1, 2, 4]\n",
    "}\n",
    "\n",
    "grid_search = GridSearchCV(estimator=model, param_grid=param_grid, cv=3, scoring='roc_auc')\n",
    "grid_search.fit(x, y)\n",
    "\n",
    "best_params = grid_search.best_params_\n",
    "best_score = grid_search.best_score_\n",
    "\n",
    "print(\"Best Parameters:\", best_params)\n",
    "print(\"Best Score:\", best_score)"
   ]
  },
  {
   "cell_type": "code",
   "execution_count": 58,
   "id": "261137e3",
   "metadata": {
    "collapsed": true
   },
   "outputs": [
    {
     "name": "stderr",
     "output_type": "stream",
     "text": [
      "C:\\Users\\User\\AppData\\Roaming\\Python\\Python311\\site-packages\\sklearn\\neural_network\\_multilayer_perceptron.py:686: ConvergenceWarning: Stochastic Optimizer: Maximum iterations (200) reached and the optimization hasn't converged yet.\n",
      "  warnings.warn(\n",
      "C:\\Users\\User\\AppData\\Roaming\\Python\\Python311\\site-packages\\sklearn\\neural_network\\_multilayer_perceptron.py:686: ConvergenceWarning: Stochastic Optimizer: Maximum iterations (200) reached and the optimization hasn't converged yet.\n",
      "  warnings.warn(\n",
      "C:\\Users\\User\\AppData\\Roaming\\Python\\Python311\\site-packages\\sklearn\\neural_network\\_multilayer_perceptron.py:686: ConvergenceWarning: Stochastic Optimizer: Maximum iterations (200) reached and the optimization hasn't converged yet.\n",
      "  warnings.warn(\n",
      "C:\\Users\\User\\AppData\\Roaming\\Python\\Python311\\site-packages\\sklearn\\neural_network\\_multilayer_perceptron.py:686: ConvergenceWarning: Stochastic Optimizer: Maximum iterations (200) reached and the optimization hasn't converged yet.\n",
      "  warnings.warn(\n",
      "C:\\Users\\User\\AppData\\Roaming\\Python\\Python311\\site-packages\\sklearn\\neural_network\\_multilayer_perceptron.py:686: ConvergenceWarning: Stochastic Optimizer: Maximum iterations (200) reached and the optimization hasn't converged yet.\n",
      "  warnings.warn(\n",
      "C:\\Users\\User\\AppData\\Roaming\\Python\\Python311\\site-packages\\sklearn\\neural_network\\_multilayer_perceptron.py:686: ConvergenceWarning: Stochastic Optimizer: Maximum iterations (200) reached and the optimization hasn't converged yet.\n",
      "  warnings.warn(\n",
      "C:\\Users\\User\\AppData\\Roaming\\Python\\Python311\\site-packages\\sklearn\\neural_network\\_multilayer_perceptron.py:686: ConvergenceWarning: Stochastic Optimizer: Maximum iterations (200) reached and the optimization hasn't converged yet.\n",
      "  warnings.warn(\n",
      "C:\\Users\\User\\AppData\\Roaming\\Python\\Python311\\site-packages\\sklearn\\neural_network\\_multilayer_perceptron.py:686: ConvergenceWarning: Stochastic Optimizer: Maximum iterations (200) reached and the optimization hasn't converged yet.\n",
      "  warnings.warn(\n",
      "C:\\Users\\User\\AppData\\Roaming\\Python\\Python311\\site-packages\\sklearn\\neural_network\\_multilayer_perceptron.py:686: ConvergenceWarning: Stochastic Optimizer: Maximum iterations (200) reached and the optimization hasn't converged yet.\n",
      "  warnings.warn(\n",
      "C:\\Users\\User\\AppData\\Roaming\\Python\\Python311\\site-packages\\sklearn\\neural_network\\_multilayer_perceptron.py:686: ConvergenceWarning: Stochastic Optimizer: Maximum iterations (200) reached and the optimization hasn't converged yet.\n",
      "  warnings.warn(\n",
      "C:\\Users\\User\\AppData\\Roaming\\Python\\Python311\\site-packages\\sklearn\\neural_network\\_multilayer_perceptron.py:686: ConvergenceWarning: Stochastic Optimizer: Maximum iterations (200) reached and the optimization hasn't converged yet.\n",
      "  warnings.warn(\n",
      "C:\\Users\\User\\AppData\\Roaming\\Python\\Python311\\site-packages\\sklearn\\neural_network\\_multilayer_perceptron.py:686: ConvergenceWarning: Stochastic Optimizer: Maximum iterations (200) reached and the optimization hasn't converged yet.\n",
      "  warnings.warn(\n",
      "C:\\Users\\User\\AppData\\Roaming\\Python\\Python311\\site-packages\\sklearn\\neural_network\\_multilayer_perceptron.py:686: ConvergenceWarning: Stochastic Optimizer: Maximum iterations (200) reached and the optimization hasn't converged yet.\n",
      "  warnings.warn(\n",
      "C:\\Users\\User\\AppData\\Roaming\\Python\\Python311\\site-packages\\sklearn\\neural_network\\_multilayer_perceptron.py:686: ConvergenceWarning: Stochastic Optimizer: Maximum iterations (200) reached and the optimization hasn't converged yet.\n",
      "  warnings.warn(\n",
      "C:\\Users\\User\\AppData\\Roaming\\Python\\Python311\\site-packages\\sklearn\\neural_network\\_multilayer_perceptron.py:686: ConvergenceWarning: Stochastic Optimizer: Maximum iterations (200) reached and the optimization hasn't converged yet.\n",
      "  warnings.warn(\n",
      "C:\\Users\\User\\AppData\\Roaming\\Python\\Python311\\site-packages\\sklearn\\neural_network\\_multilayer_perceptron.py:686: ConvergenceWarning: Stochastic Optimizer: Maximum iterations (200) reached and the optimization hasn't converged yet.\n",
      "  warnings.warn(\n",
      "C:\\Users\\User\\AppData\\Roaming\\Python\\Python311\\site-packages\\sklearn\\neural_network\\_multilayer_perceptron.py:686: ConvergenceWarning: Stochastic Optimizer: Maximum iterations (200) reached and the optimization hasn't converged yet.\n",
      "  warnings.warn(\n",
      "C:\\Users\\User\\AppData\\Roaming\\Python\\Python311\\site-packages\\sklearn\\neural_network\\_multilayer_perceptron.py:686: ConvergenceWarning: Stochastic Optimizer: Maximum iterations (200) reached and the optimization hasn't converged yet.\n",
      "  warnings.warn(\n",
      "C:\\Users\\User\\AppData\\Roaming\\Python\\Python311\\site-packages\\sklearn\\neural_network\\_multilayer_perceptron.py:686: ConvergenceWarning: Stochastic Optimizer: Maximum iterations (200) reached and the optimization hasn't converged yet.\n",
      "  warnings.warn(\n",
      "C:\\Users\\User\\AppData\\Roaming\\Python\\Python311\\site-packages\\sklearn\\neural_network\\_multilayer_perceptron.py:686: ConvergenceWarning: Stochastic Optimizer: Maximum iterations (200) reached and the optimization hasn't converged yet.\n",
      "  warnings.warn(\n",
      "C:\\Users\\User\\AppData\\Roaming\\Python\\Python311\\site-packages\\sklearn\\neural_network\\_multilayer_perceptron.py:686: ConvergenceWarning: Stochastic Optimizer: Maximum iterations (200) reached and the optimization hasn't converged yet.\n",
      "  warnings.warn(\n",
      "C:\\Users\\User\\AppData\\Roaming\\Python\\Python311\\site-packages\\sklearn\\neural_network\\_multilayer_perceptron.py:686: ConvergenceWarning: Stochastic Optimizer: Maximum iterations (200) reached and the optimization hasn't converged yet.\n",
      "  warnings.warn(\n",
      "C:\\Users\\User\\AppData\\Roaming\\Python\\Python311\\site-packages\\sklearn\\neural_network\\_multilayer_perceptron.py:686: ConvergenceWarning: Stochastic Optimizer: Maximum iterations (200) reached and the optimization hasn't converged yet.\n",
      "  warnings.warn(\n",
      "C:\\Users\\User\\AppData\\Roaming\\Python\\Python311\\site-packages\\sklearn\\neural_network\\_multilayer_perceptron.py:686: ConvergenceWarning: Stochastic Optimizer: Maximum iterations (200) reached and the optimization hasn't converged yet.\n",
      "  warnings.warn(\n",
      "C:\\Users\\User\\AppData\\Roaming\\Python\\Python311\\site-packages\\sklearn\\neural_network\\_multilayer_perceptron.py:686: ConvergenceWarning: Stochastic Optimizer: Maximum iterations (200) reached and the optimization hasn't converged yet.\n",
      "  warnings.warn(\n",
      "C:\\Users\\User\\AppData\\Roaming\\Python\\Python311\\site-packages\\sklearn\\neural_network\\_multilayer_perceptron.py:686: ConvergenceWarning: Stochastic Optimizer: Maximum iterations (200) reached and the optimization hasn't converged yet.\n",
      "  warnings.warn(\n",
      "C:\\Users\\User\\AppData\\Roaming\\Python\\Python311\\site-packages\\sklearn\\neural_network\\_multilayer_perceptron.py:686: ConvergenceWarning: Stochastic Optimizer: Maximum iterations (200) reached and the optimization hasn't converged yet.\n",
      "  warnings.warn(\n",
      "C:\\Users\\User\\AppData\\Roaming\\Python\\Python311\\site-packages\\sklearn\\neural_network\\_multilayer_perceptron.py:686: ConvergenceWarning: Stochastic Optimizer: Maximum iterations (200) reached and the optimization hasn't converged yet.\n",
      "  warnings.warn(\n",
      "C:\\Users\\User\\AppData\\Roaming\\Python\\Python311\\site-packages\\sklearn\\neural_network\\_multilayer_perceptron.py:686: ConvergenceWarning: Stochastic Optimizer: Maximum iterations (200) reached and the optimization hasn't converged yet.\n",
      "  warnings.warn(\n",
      "C:\\Users\\User\\AppData\\Roaming\\Python\\Python311\\site-packages\\sklearn\\neural_network\\_multilayer_perceptron.py:686: ConvergenceWarning: Stochastic Optimizer: Maximum iterations (200) reached and the optimization hasn't converged yet.\n",
      "  warnings.warn(\n",
      "C:\\Users\\User\\AppData\\Roaming\\Python\\Python311\\site-packages\\sklearn\\neural_network\\_multilayer_perceptron.py:686: ConvergenceWarning: Stochastic Optimizer: Maximum iterations (200) reached and the optimization hasn't converged yet.\n",
      "  warnings.warn(\n",
      "C:\\Users\\User\\AppData\\Roaming\\Python\\Python311\\site-packages\\sklearn\\neural_network\\_multilayer_perceptron.py:686: ConvergenceWarning: Stochastic Optimizer: Maximum iterations (200) reached and the optimization hasn't converged yet.\n",
      "  warnings.warn(\n",
      "C:\\Users\\User\\AppData\\Roaming\\Python\\Python311\\site-packages\\sklearn\\neural_network\\_multilayer_perceptron.py:686: ConvergenceWarning: Stochastic Optimizer: Maximum iterations (200) reached and the optimization hasn't converged yet.\n",
      "  warnings.warn(\n"
     ]
    },
    {
     "name": "stderr",
     "output_type": "stream",
     "text": [
      "C:\\Users\\User\\AppData\\Roaming\\Python\\Python311\\site-packages\\sklearn\\neural_network\\_multilayer_perceptron.py:686: ConvergenceWarning: Stochastic Optimizer: Maximum iterations (200) reached and the optimization hasn't converged yet.\n",
      "  warnings.warn(\n",
      "C:\\Users\\User\\AppData\\Roaming\\Python\\Python311\\site-packages\\sklearn\\neural_network\\_multilayer_perceptron.py:686: ConvergenceWarning: Stochastic Optimizer: Maximum iterations (200) reached and the optimization hasn't converged yet.\n",
      "  warnings.warn(\n",
      "C:\\Users\\User\\AppData\\Roaming\\Python\\Python311\\site-packages\\sklearn\\neural_network\\_multilayer_perceptron.py:686: ConvergenceWarning: Stochastic Optimizer: Maximum iterations (200) reached and the optimization hasn't converged yet.\n",
      "  warnings.warn(\n",
      "C:\\Users\\User\\AppData\\Roaming\\Python\\Python311\\site-packages\\sklearn\\neural_network\\_multilayer_perceptron.py:686: ConvergenceWarning: Stochastic Optimizer: Maximum iterations (200) reached and the optimization hasn't converged yet.\n",
      "  warnings.warn(\n",
      "C:\\Users\\User\\AppData\\Roaming\\Python\\Python311\\site-packages\\sklearn\\neural_network\\_multilayer_perceptron.py:686: ConvergenceWarning: Stochastic Optimizer: Maximum iterations (200) reached and the optimization hasn't converged yet.\n",
      "  warnings.warn(\n",
      "C:\\Users\\User\\AppData\\Roaming\\Python\\Python311\\site-packages\\sklearn\\neural_network\\_multilayer_perceptron.py:686: ConvergenceWarning: Stochastic Optimizer: Maximum iterations (200) reached and the optimization hasn't converged yet.\n",
      "  warnings.warn(\n",
      "C:\\Users\\User\\AppData\\Roaming\\Python\\Python311\\site-packages\\sklearn\\neural_network\\_multilayer_perceptron.py:686: ConvergenceWarning: Stochastic Optimizer: Maximum iterations (200) reached and the optimization hasn't converged yet.\n",
      "  warnings.warn(\n",
      "C:\\Users\\User\\AppData\\Roaming\\Python\\Python311\\site-packages\\sklearn\\neural_network\\_multilayer_perceptron.py:686: ConvergenceWarning: Stochastic Optimizer: Maximum iterations (200) reached and the optimization hasn't converged yet.\n",
      "  warnings.warn(\n",
      "C:\\Users\\User\\AppData\\Roaming\\Python\\Python311\\site-packages\\sklearn\\neural_network\\_multilayer_perceptron.py:686: ConvergenceWarning: Stochastic Optimizer: Maximum iterations (200) reached and the optimization hasn't converged yet.\n",
      "  warnings.warn(\n",
      "C:\\Users\\User\\AppData\\Roaming\\Python\\Python311\\site-packages\\sklearn\\neural_network\\_multilayer_perceptron.py:686: ConvergenceWarning: Stochastic Optimizer: Maximum iterations (200) reached and the optimization hasn't converged yet.\n",
      "  warnings.warn(\n",
      "C:\\Users\\User\\AppData\\Roaming\\Python\\Python311\\site-packages\\sklearn\\neural_network\\_multilayer_perceptron.py:686: ConvergenceWarning: Stochastic Optimizer: Maximum iterations (200) reached and the optimization hasn't converged yet.\n",
      "  warnings.warn(\n",
      "C:\\Users\\User\\AppData\\Roaming\\Python\\Python311\\site-packages\\sklearn\\neural_network\\_multilayer_perceptron.py:686: ConvergenceWarning: Stochastic Optimizer: Maximum iterations (200) reached and the optimization hasn't converged yet.\n",
      "  warnings.warn(\n",
      "C:\\Users\\User\\AppData\\Roaming\\Python\\Python311\\site-packages\\sklearn\\neural_network\\_multilayer_perceptron.py:686: ConvergenceWarning: Stochastic Optimizer: Maximum iterations (200) reached and the optimization hasn't converged yet.\n",
      "  warnings.warn(\n",
      "C:\\Users\\User\\AppData\\Roaming\\Python\\Python311\\site-packages\\sklearn\\neural_network\\_multilayer_perceptron.py:686: ConvergenceWarning: Stochastic Optimizer: Maximum iterations (200) reached and the optimization hasn't converged yet.\n",
      "  warnings.warn(\n",
      "C:\\Users\\User\\AppData\\Roaming\\Python\\Python311\\site-packages\\sklearn\\neural_network\\_multilayer_perceptron.py:686: ConvergenceWarning: Stochastic Optimizer: Maximum iterations (200) reached and the optimization hasn't converged yet.\n",
      "  warnings.warn(\n",
      "C:\\Users\\User\\AppData\\Roaming\\Python\\Python311\\site-packages\\sklearn\\neural_network\\_multilayer_perceptron.py:686: ConvergenceWarning: Stochastic Optimizer: Maximum iterations (200) reached and the optimization hasn't converged yet.\n",
      "  warnings.warn(\n",
      "C:\\Users\\User\\AppData\\Roaming\\Python\\Python311\\site-packages\\sklearn\\neural_network\\_multilayer_perceptron.py:686: ConvergenceWarning: Stochastic Optimizer: Maximum iterations (200) reached and the optimization hasn't converged yet.\n",
      "  warnings.warn(\n",
      "C:\\Users\\User\\AppData\\Roaming\\Python\\Python311\\site-packages\\sklearn\\neural_network\\_multilayer_perceptron.py:686: ConvergenceWarning: Stochastic Optimizer: Maximum iterations (200) reached and the optimization hasn't converged yet.\n",
      "  warnings.warn(\n",
      "C:\\Users\\User\\AppData\\Roaming\\Python\\Python311\\site-packages\\sklearn\\neural_network\\_multilayer_perceptron.py:686: ConvergenceWarning: Stochastic Optimizer: Maximum iterations (200) reached and the optimization hasn't converged yet.\n",
      "  warnings.warn(\n",
      "C:\\Users\\User\\AppData\\Roaming\\Python\\Python311\\site-packages\\sklearn\\neural_network\\_multilayer_perceptron.py:686: ConvergenceWarning: Stochastic Optimizer: Maximum iterations (200) reached and the optimization hasn't converged yet.\n",
      "  warnings.warn(\n",
      "C:\\Users\\User\\AppData\\Roaming\\Python\\Python311\\site-packages\\sklearn\\neural_network\\_multilayer_perceptron.py:686: ConvergenceWarning: Stochastic Optimizer: Maximum iterations (200) reached and the optimization hasn't converged yet.\n",
      "  warnings.warn(\n",
      "C:\\Users\\User\\AppData\\Roaming\\Python\\Python311\\site-packages\\sklearn\\neural_network\\_multilayer_perceptron.py:686: ConvergenceWarning: Stochastic Optimizer: Maximum iterations (200) reached and the optimization hasn't converged yet.\n",
      "  warnings.warn(\n",
      "C:\\Users\\User\\AppData\\Roaming\\Python\\Python311\\site-packages\\sklearn\\neural_network\\_multilayer_perceptron.py:686: ConvergenceWarning: Stochastic Optimizer: Maximum iterations (200) reached and the optimization hasn't converged yet.\n",
      "  warnings.warn(\n",
      "C:\\Users\\User\\AppData\\Roaming\\Python\\Python311\\site-packages\\sklearn\\neural_network\\_multilayer_perceptron.py:686: ConvergenceWarning: Stochastic Optimizer: Maximum iterations (200) reached and the optimization hasn't converged yet.\n",
      "  warnings.warn(\n",
      "C:\\Users\\User\\AppData\\Roaming\\Python\\Python311\\site-packages\\sklearn\\neural_network\\_multilayer_perceptron.py:686: ConvergenceWarning: Stochastic Optimizer: Maximum iterations (200) reached and the optimization hasn't converged yet.\n",
      "  warnings.warn(\n",
      "C:\\Users\\User\\AppData\\Roaming\\Python\\Python311\\site-packages\\sklearn\\neural_network\\_multilayer_perceptron.py:686: ConvergenceWarning: Stochastic Optimizer: Maximum iterations (200) reached and the optimization hasn't converged yet.\n",
      "  warnings.warn(\n",
      "C:\\Users\\User\\AppData\\Roaming\\Python\\Python311\\site-packages\\sklearn\\neural_network\\_multilayer_perceptron.py:686: ConvergenceWarning: Stochastic Optimizer: Maximum iterations (200) reached and the optimization hasn't converged yet.\n",
      "  warnings.warn(\n",
      "C:\\Users\\User\\AppData\\Roaming\\Python\\Python311\\site-packages\\sklearn\\neural_network\\_multilayer_perceptron.py:686: ConvergenceWarning: Stochastic Optimizer: Maximum iterations (200) reached and the optimization hasn't converged yet.\n",
      "  warnings.warn(\n",
      "C:\\Users\\User\\AppData\\Roaming\\Python\\Python311\\site-packages\\sklearn\\neural_network\\_multilayer_perceptron.py:686: ConvergenceWarning: Stochastic Optimizer: Maximum iterations (200) reached and the optimization hasn't converged yet.\n",
      "  warnings.warn(\n",
      "C:\\Users\\User\\AppData\\Roaming\\Python\\Python311\\site-packages\\sklearn\\neural_network\\_multilayer_perceptron.py:686: ConvergenceWarning: Stochastic Optimizer: Maximum iterations (200) reached and the optimization hasn't converged yet.\n",
      "  warnings.warn(\n",
      "C:\\Users\\User\\AppData\\Roaming\\Python\\Python311\\site-packages\\sklearn\\neural_network\\_multilayer_perceptron.py:686: ConvergenceWarning: Stochastic Optimizer: Maximum iterations (200) reached and the optimization hasn't converged yet.\n",
      "  warnings.warn(\n",
      "C:\\Users\\User\\AppData\\Roaming\\Python\\Python311\\site-packages\\sklearn\\neural_network\\_multilayer_perceptron.py:686: ConvergenceWarning: Stochastic Optimizer: Maximum iterations (200) reached and the optimization hasn't converged yet.\n",
      "  warnings.warn(\n",
      "C:\\Users\\User\\AppData\\Roaming\\Python\\Python311\\site-packages\\sklearn\\neural_network\\_multilayer_perceptron.py:686: ConvergenceWarning: Stochastic Optimizer: Maximum iterations (200) reached and the optimization hasn't converged yet.\n",
      "  warnings.warn(\n"
     ]
    },
    {
     "name": "stderr",
     "output_type": "stream",
     "text": [
      "C:\\Users\\User\\AppData\\Roaming\\Python\\Python311\\site-packages\\sklearn\\neural_network\\_multilayer_perceptron.py:686: ConvergenceWarning: Stochastic Optimizer: Maximum iterations (200) reached and the optimization hasn't converged yet.\n",
      "  warnings.warn(\n",
      "C:\\Users\\User\\AppData\\Roaming\\Python\\Python311\\site-packages\\sklearn\\neural_network\\_multilayer_perceptron.py:686: ConvergenceWarning: Stochastic Optimizer: Maximum iterations (200) reached and the optimization hasn't converged yet.\n",
      "  warnings.warn(\n",
      "C:\\Users\\User\\AppData\\Roaming\\Python\\Python311\\site-packages\\sklearn\\neural_network\\_multilayer_perceptron.py:686: ConvergenceWarning: Stochastic Optimizer: Maximum iterations (200) reached and the optimization hasn't converged yet.\n",
      "  warnings.warn(\n",
      "C:\\Users\\User\\AppData\\Roaming\\Python\\Python311\\site-packages\\sklearn\\neural_network\\_multilayer_perceptron.py:686: ConvergenceWarning: Stochastic Optimizer: Maximum iterations (200) reached and the optimization hasn't converged yet.\n",
      "  warnings.warn(\n",
      "C:\\Users\\User\\AppData\\Roaming\\Python\\Python311\\site-packages\\sklearn\\neural_network\\_multilayer_perceptron.py:686: ConvergenceWarning: Stochastic Optimizer: Maximum iterations (200) reached and the optimization hasn't converged yet.\n",
      "  warnings.warn(\n",
      "C:\\Users\\User\\AppData\\Roaming\\Python\\Python311\\site-packages\\sklearn\\neural_network\\_multilayer_perceptron.py:686: ConvergenceWarning: Stochastic Optimizer: Maximum iterations (200) reached and the optimization hasn't converged yet.\n",
      "  warnings.warn(\n",
      "C:\\Users\\User\\AppData\\Roaming\\Python\\Python311\\site-packages\\sklearn\\neural_network\\_multilayer_perceptron.py:686: ConvergenceWarning: Stochastic Optimizer: Maximum iterations (200) reached and the optimization hasn't converged yet.\n",
      "  warnings.warn(\n",
      "C:\\Users\\User\\AppData\\Roaming\\Python\\Python311\\site-packages\\sklearn\\neural_network\\_multilayer_perceptron.py:686: ConvergenceWarning: Stochastic Optimizer: Maximum iterations (200) reached and the optimization hasn't converged yet.\n",
      "  warnings.warn(\n",
      "C:\\Users\\User\\AppData\\Roaming\\Python\\Python311\\site-packages\\sklearn\\neural_network\\_multilayer_perceptron.py:686: ConvergenceWarning: Stochastic Optimizer: Maximum iterations (200) reached and the optimization hasn't converged yet.\n",
      "  warnings.warn(\n",
      "C:\\Users\\User\\AppData\\Roaming\\Python\\Python311\\site-packages\\sklearn\\neural_network\\_multilayer_perceptron.py:686: ConvergenceWarning: Stochastic Optimizer: Maximum iterations (200) reached and the optimization hasn't converged yet.\n",
      "  warnings.warn(\n",
      "C:\\Users\\User\\AppData\\Roaming\\Python\\Python311\\site-packages\\sklearn\\neural_network\\_multilayer_perceptron.py:686: ConvergenceWarning: Stochastic Optimizer: Maximum iterations (200) reached and the optimization hasn't converged yet.\n",
      "  warnings.warn(\n",
      "C:\\Users\\User\\AppData\\Roaming\\Python\\Python311\\site-packages\\sklearn\\neural_network\\_multilayer_perceptron.py:686: ConvergenceWarning: Stochastic Optimizer: Maximum iterations (200) reached and the optimization hasn't converged yet.\n",
      "  warnings.warn(\n",
      "C:\\Users\\User\\AppData\\Roaming\\Python\\Python311\\site-packages\\sklearn\\neural_network\\_multilayer_perceptron.py:686: ConvergenceWarning: Stochastic Optimizer: Maximum iterations (200) reached and the optimization hasn't converged yet.\n",
      "  warnings.warn(\n",
      "C:\\Users\\User\\AppData\\Roaming\\Python\\Python311\\site-packages\\sklearn\\neural_network\\_multilayer_perceptron.py:686: ConvergenceWarning: Stochastic Optimizer: Maximum iterations (200) reached and the optimization hasn't converged yet.\n",
      "  warnings.warn(\n",
      "C:\\Users\\User\\AppData\\Roaming\\Python\\Python311\\site-packages\\sklearn\\neural_network\\_multilayer_perceptron.py:686: ConvergenceWarning: Stochastic Optimizer: Maximum iterations (200) reached and the optimization hasn't converged yet.\n",
      "  warnings.warn(\n",
      "C:\\Users\\User\\AppData\\Roaming\\Python\\Python311\\site-packages\\sklearn\\neural_network\\_multilayer_perceptron.py:686: ConvergenceWarning: Stochastic Optimizer: Maximum iterations (200) reached and the optimization hasn't converged yet.\n",
      "  warnings.warn(\n",
      "C:\\Users\\User\\AppData\\Roaming\\Python\\Python311\\site-packages\\sklearn\\neural_network\\_multilayer_perceptron.py:686: ConvergenceWarning: Stochastic Optimizer: Maximum iterations (200) reached and the optimization hasn't converged yet.\n",
      "  warnings.warn(\n",
      "C:\\Users\\User\\AppData\\Roaming\\Python\\Python311\\site-packages\\sklearn\\neural_network\\_multilayer_perceptron.py:686: ConvergenceWarning: Stochastic Optimizer: Maximum iterations (200) reached and the optimization hasn't converged yet.\n",
      "  warnings.warn(\n",
      "C:\\Users\\User\\AppData\\Roaming\\Python\\Python311\\site-packages\\sklearn\\neural_network\\_multilayer_perceptron.py:686: ConvergenceWarning: Stochastic Optimizer: Maximum iterations (200) reached and the optimization hasn't converged yet.\n",
      "  warnings.warn(\n",
      "C:\\Users\\User\\AppData\\Roaming\\Python\\Python311\\site-packages\\sklearn\\neural_network\\_multilayer_perceptron.py:686: ConvergenceWarning: Stochastic Optimizer: Maximum iterations (200) reached and the optimization hasn't converged yet.\n",
      "  warnings.warn(\n",
      "C:\\Users\\User\\AppData\\Roaming\\Python\\Python311\\site-packages\\sklearn\\neural_network\\_multilayer_perceptron.py:686: ConvergenceWarning: Stochastic Optimizer: Maximum iterations (200) reached and the optimization hasn't converged yet.\n",
      "  warnings.warn(\n",
      "C:\\Users\\User\\AppData\\Roaming\\Python\\Python311\\site-packages\\sklearn\\neural_network\\_multilayer_perceptron.py:686: ConvergenceWarning: Stochastic Optimizer: Maximum iterations (200) reached and the optimization hasn't converged yet.\n",
      "  warnings.warn(\n",
      "C:\\Users\\User\\AppData\\Roaming\\Python\\Python311\\site-packages\\sklearn\\neural_network\\_multilayer_perceptron.py:686: ConvergenceWarning: Stochastic Optimizer: Maximum iterations (200) reached and the optimization hasn't converged yet.\n",
      "  warnings.warn(\n",
      "C:\\Users\\User\\AppData\\Roaming\\Python\\Python311\\site-packages\\sklearn\\neural_network\\_multilayer_perceptron.py:686: ConvergenceWarning: Stochastic Optimizer: Maximum iterations (200) reached and the optimization hasn't converged yet.\n",
      "  warnings.warn(\n",
      "C:\\Users\\User\\AppData\\Roaming\\Python\\Python311\\site-packages\\sklearn\\neural_network\\_multilayer_perceptron.py:686: ConvergenceWarning: Stochastic Optimizer: Maximum iterations (200) reached and the optimization hasn't converged yet.\n",
      "  warnings.warn(\n",
      "C:\\Users\\User\\AppData\\Roaming\\Python\\Python311\\site-packages\\sklearn\\neural_network\\_multilayer_perceptron.py:686: ConvergenceWarning: Stochastic Optimizer: Maximum iterations (200) reached and the optimization hasn't converged yet.\n",
      "  warnings.warn(\n",
      "C:\\Users\\User\\AppData\\Roaming\\Python\\Python311\\site-packages\\sklearn\\neural_network\\_multilayer_perceptron.py:686: ConvergenceWarning: Stochastic Optimizer: Maximum iterations (200) reached and the optimization hasn't converged yet.\n",
      "  warnings.warn(\n",
      "C:\\Users\\User\\AppData\\Roaming\\Python\\Python311\\site-packages\\sklearn\\neural_network\\_multilayer_perceptron.py:686: ConvergenceWarning: Stochastic Optimizer: Maximum iterations (200) reached and the optimization hasn't converged yet.\n",
      "  warnings.warn(\n",
      "C:\\Users\\User\\AppData\\Roaming\\Python\\Python311\\site-packages\\sklearn\\neural_network\\_multilayer_perceptron.py:686: ConvergenceWarning: Stochastic Optimizer: Maximum iterations (200) reached and the optimization hasn't converged yet.\n",
      "  warnings.warn(\n",
      "C:\\Users\\User\\AppData\\Roaming\\Python\\Python311\\site-packages\\sklearn\\neural_network\\_multilayer_perceptron.py:686: ConvergenceWarning: Stochastic Optimizer: Maximum iterations (200) reached and the optimization hasn't converged yet.\n",
      "  warnings.warn(\n",
      "C:\\Users\\User\\AppData\\Roaming\\Python\\Python311\\site-packages\\sklearn\\neural_network\\_multilayer_perceptron.py:686: ConvergenceWarning: Stochastic Optimizer: Maximum iterations (200) reached and the optimization hasn't converged yet.\n",
      "  warnings.warn(\n",
      "C:\\Users\\User\\AppData\\Roaming\\Python\\Python311\\site-packages\\sklearn\\neural_network\\_multilayer_perceptron.py:686: ConvergenceWarning: Stochastic Optimizer: Maximum iterations (200) reached and the optimization hasn't converged yet.\n",
      "  warnings.warn(\n",
      "C:\\Users\\User\\AppData\\Roaming\\Python\\Python311\\site-packages\\sklearn\\neural_network\\_multilayer_perceptron.py:686: ConvergenceWarning: Stochastic Optimizer: Maximum iterations (200) reached and the optimization hasn't converged yet.\n",
      "  warnings.warn(\n"
     ]
    },
    {
     "name": "stderr",
     "output_type": "stream",
     "text": [
      "C:\\Users\\User\\AppData\\Roaming\\Python\\Python311\\site-packages\\sklearn\\neural_network\\_multilayer_perceptron.py:686: ConvergenceWarning: Stochastic Optimizer: Maximum iterations (200) reached and the optimization hasn't converged yet.\n",
      "  warnings.warn(\n",
      "C:\\Users\\User\\AppData\\Roaming\\Python\\Python311\\site-packages\\sklearn\\neural_network\\_multilayer_perceptron.py:686: ConvergenceWarning: Stochastic Optimizer: Maximum iterations (200) reached and the optimization hasn't converged yet.\n",
      "  warnings.warn(\n",
      "C:\\Users\\User\\AppData\\Roaming\\Python\\Python311\\site-packages\\sklearn\\neural_network\\_multilayer_perceptron.py:686: ConvergenceWarning: Stochastic Optimizer: Maximum iterations (200) reached and the optimization hasn't converged yet.\n",
      "  warnings.warn(\n",
      "C:\\Users\\User\\AppData\\Roaming\\Python\\Python311\\site-packages\\sklearn\\neural_network\\_multilayer_perceptron.py:686: ConvergenceWarning: Stochastic Optimizer: Maximum iterations (200) reached and the optimization hasn't converged yet.\n",
      "  warnings.warn(\n",
      "C:\\Users\\User\\AppData\\Roaming\\Python\\Python311\\site-packages\\sklearn\\neural_network\\_multilayer_perceptron.py:686: ConvergenceWarning: Stochastic Optimizer: Maximum iterations (200) reached and the optimization hasn't converged yet.\n",
      "  warnings.warn(\n",
      "C:\\Users\\User\\AppData\\Roaming\\Python\\Python311\\site-packages\\sklearn\\neural_network\\_multilayer_perceptron.py:686: ConvergenceWarning: Stochastic Optimizer: Maximum iterations (200) reached and the optimization hasn't converged yet.\n",
      "  warnings.warn(\n",
      "C:\\Users\\User\\AppData\\Roaming\\Python\\Python311\\site-packages\\sklearn\\neural_network\\_multilayer_perceptron.py:686: ConvergenceWarning: Stochastic Optimizer: Maximum iterations (200) reached and the optimization hasn't converged yet.\n",
      "  warnings.warn(\n",
      "C:\\Users\\User\\AppData\\Roaming\\Python\\Python311\\site-packages\\sklearn\\neural_network\\_multilayer_perceptron.py:686: ConvergenceWarning: Stochastic Optimizer: Maximum iterations (200) reached and the optimization hasn't converged yet.\n",
      "  warnings.warn(\n",
      "C:\\Users\\User\\AppData\\Roaming\\Python\\Python311\\site-packages\\sklearn\\neural_network\\_multilayer_perceptron.py:686: ConvergenceWarning: Stochastic Optimizer: Maximum iterations (200) reached and the optimization hasn't converged yet.\n",
      "  warnings.warn(\n",
      "C:\\Users\\User\\AppData\\Roaming\\Python\\Python311\\site-packages\\sklearn\\neural_network\\_multilayer_perceptron.py:686: ConvergenceWarning: Stochastic Optimizer: Maximum iterations (200) reached and the optimization hasn't converged yet.\n",
      "  warnings.warn(\n",
      "C:\\Users\\User\\AppData\\Roaming\\Python\\Python311\\site-packages\\sklearn\\neural_network\\_multilayer_perceptron.py:686: ConvergenceWarning: Stochastic Optimizer: Maximum iterations (200) reached and the optimization hasn't converged yet.\n",
      "  warnings.warn(\n",
      "C:\\Users\\User\\AppData\\Roaming\\Python\\Python311\\site-packages\\sklearn\\neural_network\\_multilayer_perceptron.py:686: ConvergenceWarning: Stochastic Optimizer: Maximum iterations (200) reached and the optimization hasn't converged yet.\n",
      "  warnings.warn(\n",
      "C:\\Users\\User\\AppData\\Roaming\\Python\\Python311\\site-packages\\sklearn\\neural_network\\_multilayer_perceptron.py:686: ConvergenceWarning: Stochastic Optimizer: Maximum iterations (200) reached and the optimization hasn't converged yet.\n",
      "  warnings.warn(\n",
      "C:\\Users\\User\\AppData\\Roaming\\Python\\Python311\\site-packages\\sklearn\\neural_network\\_multilayer_perceptron.py:686: ConvergenceWarning: Stochastic Optimizer: Maximum iterations (200) reached and the optimization hasn't converged yet.\n",
      "  warnings.warn(\n",
      "C:\\Users\\User\\AppData\\Roaming\\Python\\Python311\\site-packages\\sklearn\\neural_network\\_multilayer_perceptron.py:686: ConvergenceWarning: Stochastic Optimizer: Maximum iterations (200) reached and the optimization hasn't converged yet.\n",
      "  warnings.warn(\n",
      "C:\\Users\\User\\AppData\\Roaming\\Python\\Python311\\site-packages\\sklearn\\neural_network\\_multilayer_perceptron.py:686: ConvergenceWarning: Stochastic Optimizer: Maximum iterations (200) reached and the optimization hasn't converged yet.\n",
      "  warnings.warn(\n",
      "C:\\Users\\User\\AppData\\Roaming\\Python\\Python311\\site-packages\\sklearn\\neural_network\\_multilayer_perceptron.py:686: ConvergenceWarning: Stochastic Optimizer: Maximum iterations (200) reached and the optimization hasn't converged yet.\n",
      "  warnings.warn(\n",
      "C:\\Users\\User\\AppData\\Roaming\\Python\\Python311\\site-packages\\sklearn\\neural_network\\_multilayer_perceptron.py:686: ConvergenceWarning: Stochastic Optimizer: Maximum iterations (200) reached and the optimization hasn't converged yet.\n",
      "  warnings.warn(\n",
      "C:\\Users\\User\\AppData\\Roaming\\Python\\Python311\\site-packages\\sklearn\\neural_network\\_multilayer_perceptron.py:686: ConvergenceWarning: Stochastic Optimizer: Maximum iterations (200) reached and the optimization hasn't converged yet.\n",
      "  warnings.warn(\n",
      "C:\\Users\\User\\AppData\\Roaming\\Python\\Python311\\site-packages\\sklearn\\neural_network\\_multilayer_perceptron.py:686: ConvergenceWarning: Stochastic Optimizer: Maximum iterations (200) reached and the optimization hasn't converged yet.\n",
      "  warnings.warn(\n",
      "C:\\Users\\User\\AppData\\Roaming\\Python\\Python311\\site-packages\\sklearn\\neural_network\\_multilayer_perceptron.py:686: ConvergenceWarning: Stochastic Optimizer: Maximum iterations (200) reached and the optimization hasn't converged yet.\n",
      "  warnings.warn(\n",
      "C:\\Users\\User\\AppData\\Roaming\\Python\\Python311\\site-packages\\sklearn\\neural_network\\_multilayer_perceptron.py:686: ConvergenceWarning: Stochastic Optimizer: Maximum iterations (200) reached and the optimization hasn't converged yet.\n",
      "  warnings.warn(\n",
      "C:\\Users\\User\\AppData\\Roaming\\Python\\Python311\\site-packages\\sklearn\\neural_network\\_multilayer_perceptron.py:686: ConvergenceWarning: Stochastic Optimizer: Maximum iterations (200) reached and the optimization hasn't converged yet.\n",
      "  warnings.warn(\n",
      "C:\\Users\\User\\AppData\\Roaming\\Python\\Python311\\site-packages\\sklearn\\neural_network\\_multilayer_perceptron.py:686: ConvergenceWarning: Stochastic Optimizer: Maximum iterations (200) reached and the optimization hasn't converged yet.\n",
      "  warnings.warn(\n",
      "C:\\Users\\User\\AppData\\Roaming\\Python\\Python311\\site-packages\\sklearn\\neural_network\\_multilayer_perceptron.py:686: ConvergenceWarning: Stochastic Optimizer: Maximum iterations (200) reached and the optimization hasn't converged yet.\n",
      "  warnings.warn(\n",
      "C:\\Users\\User\\AppData\\Roaming\\Python\\Python311\\site-packages\\sklearn\\neural_network\\_multilayer_perceptron.py:686: ConvergenceWarning: Stochastic Optimizer: Maximum iterations (200) reached and the optimization hasn't converged yet.\n",
      "  warnings.warn(\n",
      "C:\\Users\\User\\AppData\\Roaming\\Python\\Python311\\site-packages\\sklearn\\neural_network\\_multilayer_perceptron.py:686: ConvergenceWarning: Stochastic Optimizer: Maximum iterations (200) reached and the optimization hasn't converged yet.\n",
      "  warnings.warn(\n",
      "C:\\Users\\User\\AppData\\Roaming\\Python\\Python311\\site-packages\\sklearn\\neural_network\\_multilayer_perceptron.py:686: ConvergenceWarning: Stochastic Optimizer: Maximum iterations (200) reached and the optimization hasn't converged yet.\n",
      "  warnings.warn(\n",
      "C:\\Users\\User\\AppData\\Roaming\\Python\\Python311\\site-packages\\sklearn\\neural_network\\_multilayer_perceptron.py:686: ConvergenceWarning: Stochastic Optimizer: Maximum iterations (200) reached and the optimization hasn't converged yet.\n",
      "  warnings.warn(\n",
      "C:\\Users\\User\\AppData\\Roaming\\Python\\Python311\\site-packages\\sklearn\\neural_network\\_multilayer_perceptron.py:686: ConvergenceWarning: Stochastic Optimizer: Maximum iterations (200) reached and the optimization hasn't converged yet.\n",
      "  warnings.warn(\n",
      "C:\\Users\\User\\AppData\\Roaming\\Python\\Python311\\site-packages\\sklearn\\neural_network\\_multilayer_perceptron.py:686: ConvergenceWarning: Stochastic Optimizer: Maximum iterations (200) reached and the optimization hasn't converged yet.\n",
      "  warnings.warn(\n",
      "C:\\Users\\User\\AppData\\Roaming\\Python\\Python311\\site-packages\\sklearn\\neural_network\\_multilayer_perceptron.py:686: ConvergenceWarning: Stochastic Optimizer: Maximum iterations (200) reached and the optimization hasn't converged yet.\n",
      "  warnings.warn(\n",
      "C:\\Users\\User\\AppData\\Roaming\\Python\\Python311\\site-packages\\sklearn\\neural_network\\_multilayer_perceptron.py:686: ConvergenceWarning: Stochastic Optimizer: Maximum iterations (200) reached and the optimization hasn't converged yet.\n",
      "  warnings.warn(\n"
     ]
    },
    {
     "name": "stderr",
     "output_type": "stream",
     "text": [
      "C:\\Users\\User\\AppData\\Roaming\\Python\\Python311\\site-packages\\sklearn\\neural_network\\_multilayer_perceptron.py:686: ConvergenceWarning: Stochastic Optimizer: Maximum iterations (200) reached and the optimization hasn't converged yet.\n",
      "  warnings.warn(\n",
      "C:\\Users\\User\\AppData\\Roaming\\Python\\Python311\\site-packages\\sklearn\\neural_network\\_multilayer_perceptron.py:686: ConvergenceWarning: Stochastic Optimizer: Maximum iterations (200) reached and the optimization hasn't converged yet.\n",
      "  warnings.warn(\n",
      "C:\\Users\\User\\AppData\\Roaming\\Python\\Python311\\site-packages\\sklearn\\neural_network\\_multilayer_perceptron.py:686: ConvergenceWarning: Stochastic Optimizer: Maximum iterations (200) reached and the optimization hasn't converged yet.\n",
      "  warnings.warn(\n",
      "C:\\Users\\User\\AppData\\Roaming\\Python\\Python311\\site-packages\\sklearn\\neural_network\\_multilayer_perceptron.py:686: ConvergenceWarning: Stochastic Optimizer: Maximum iterations (200) reached and the optimization hasn't converged yet.\n",
      "  warnings.warn(\n",
      "C:\\Users\\User\\AppData\\Roaming\\Python\\Python311\\site-packages\\sklearn\\neural_network\\_multilayer_perceptron.py:686: ConvergenceWarning: Stochastic Optimizer: Maximum iterations (200) reached and the optimization hasn't converged yet.\n",
      "  warnings.warn(\n",
      "C:\\Users\\User\\AppData\\Roaming\\Python\\Python311\\site-packages\\sklearn\\neural_network\\_multilayer_perceptron.py:686: ConvergenceWarning: Stochastic Optimizer: Maximum iterations (200) reached and the optimization hasn't converged yet.\n",
      "  warnings.warn(\n",
      "C:\\Users\\User\\AppData\\Roaming\\Python\\Python311\\site-packages\\sklearn\\neural_network\\_multilayer_perceptron.py:686: ConvergenceWarning: Stochastic Optimizer: Maximum iterations (200) reached and the optimization hasn't converged yet.\n",
      "  warnings.warn(\n",
      "C:\\Users\\User\\AppData\\Roaming\\Python\\Python311\\site-packages\\sklearn\\neural_network\\_multilayer_perceptron.py:686: ConvergenceWarning: Stochastic Optimizer: Maximum iterations (200) reached and the optimization hasn't converged yet.\n",
      "  warnings.warn(\n",
      "C:\\Users\\User\\AppData\\Roaming\\Python\\Python311\\site-packages\\sklearn\\neural_network\\_multilayer_perceptron.py:686: ConvergenceWarning: Stochastic Optimizer: Maximum iterations (200) reached and the optimization hasn't converged yet.\n",
      "  warnings.warn(\n",
      "C:\\Users\\User\\AppData\\Roaming\\Python\\Python311\\site-packages\\sklearn\\neural_network\\_multilayer_perceptron.py:686: ConvergenceWarning: Stochastic Optimizer: Maximum iterations (200) reached and the optimization hasn't converged yet.\n",
      "  warnings.warn(\n",
      "C:\\Users\\User\\AppData\\Roaming\\Python\\Python311\\site-packages\\sklearn\\neural_network\\_multilayer_perceptron.py:686: ConvergenceWarning: Stochastic Optimizer: Maximum iterations (200) reached and the optimization hasn't converged yet.\n",
      "  warnings.warn(\n",
      "C:\\Users\\User\\AppData\\Roaming\\Python\\Python311\\site-packages\\sklearn\\neural_network\\_multilayer_perceptron.py:686: ConvergenceWarning: Stochastic Optimizer: Maximum iterations (200) reached and the optimization hasn't converged yet.\n",
      "  warnings.warn(\n",
      "C:\\Users\\User\\AppData\\Roaming\\Python\\Python311\\site-packages\\sklearn\\neural_network\\_multilayer_perceptron.py:686: ConvergenceWarning: Stochastic Optimizer: Maximum iterations (200) reached and the optimization hasn't converged yet.\n",
      "  warnings.warn(\n",
      "C:\\Users\\User\\AppData\\Roaming\\Python\\Python311\\site-packages\\sklearn\\neural_network\\_multilayer_perceptron.py:686: ConvergenceWarning: Stochastic Optimizer: Maximum iterations (200) reached and the optimization hasn't converged yet.\n",
      "  warnings.warn(\n",
      "C:\\Users\\User\\AppData\\Roaming\\Python\\Python311\\site-packages\\sklearn\\neural_network\\_multilayer_perceptron.py:686: ConvergenceWarning: Stochastic Optimizer: Maximum iterations (200) reached and the optimization hasn't converged yet.\n",
      "  warnings.warn(\n",
      "C:\\Users\\User\\AppData\\Roaming\\Python\\Python311\\site-packages\\sklearn\\neural_network\\_multilayer_perceptron.py:686: ConvergenceWarning: Stochastic Optimizer: Maximum iterations (200) reached and the optimization hasn't converged yet.\n",
      "  warnings.warn(\n",
      "C:\\Users\\User\\AppData\\Roaming\\Python\\Python311\\site-packages\\sklearn\\neural_network\\_multilayer_perceptron.py:686: ConvergenceWarning: Stochastic Optimizer: Maximum iterations (200) reached and the optimization hasn't converged yet.\n",
      "  warnings.warn(\n",
      "C:\\Users\\User\\AppData\\Roaming\\Python\\Python311\\site-packages\\sklearn\\neural_network\\_multilayer_perceptron.py:686: ConvergenceWarning: Stochastic Optimizer: Maximum iterations (200) reached and the optimization hasn't converged yet.\n",
      "  warnings.warn(\n",
      "C:\\Users\\User\\AppData\\Roaming\\Python\\Python311\\site-packages\\sklearn\\neural_network\\_multilayer_perceptron.py:686: ConvergenceWarning: Stochastic Optimizer: Maximum iterations (200) reached and the optimization hasn't converged yet.\n",
      "  warnings.warn(\n",
      "C:\\Users\\User\\AppData\\Roaming\\Python\\Python311\\site-packages\\sklearn\\neural_network\\_multilayer_perceptron.py:686: ConvergenceWarning: Stochastic Optimizer: Maximum iterations (200) reached and the optimization hasn't converged yet.\n",
      "  warnings.warn(\n",
      "C:\\Users\\User\\AppData\\Roaming\\Python\\Python311\\site-packages\\sklearn\\neural_network\\_multilayer_perceptron.py:686: ConvergenceWarning: Stochastic Optimizer: Maximum iterations (200) reached and the optimization hasn't converged yet.\n",
      "  warnings.warn(\n",
      "C:\\Users\\User\\AppData\\Roaming\\Python\\Python311\\site-packages\\sklearn\\neural_network\\_multilayer_perceptron.py:686: ConvergenceWarning: Stochastic Optimizer: Maximum iterations (200) reached and the optimization hasn't converged yet.\n",
      "  warnings.warn(\n",
      "C:\\Users\\User\\AppData\\Roaming\\Python\\Python311\\site-packages\\sklearn\\neural_network\\_multilayer_perceptron.py:686: ConvergenceWarning: Stochastic Optimizer: Maximum iterations (200) reached and the optimization hasn't converged yet.\n",
      "  warnings.warn(\n",
      "C:\\Users\\User\\AppData\\Roaming\\Python\\Python311\\site-packages\\sklearn\\neural_network\\_multilayer_perceptron.py:686: ConvergenceWarning: Stochastic Optimizer: Maximum iterations (200) reached and the optimization hasn't converged yet.\n",
      "  warnings.warn(\n",
      "C:\\Users\\User\\AppData\\Roaming\\Python\\Python311\\site-packages\\sklearn\\neural_network\\_multilayer_perceptron.py:686: ConvergenceWarning: Stochastic Optimizer: Maximum iterations (200) reached and the optimization hasn't converged yet.\n",
      "  warnings.warn(\n",
      "C:\\Users\\User\\AppData\\Roaming\\Python\\Python311\\site-packages\\sklearn\\neural_network\\_multilayer_perceptron.py:686: ConvergenceWarning: Stochastic Optimizer: Maximum iterations (200) reached and the optimization hasn't converged yet.\n",
      "  warnings.warn(\n",
      "C:\\Users\\User\\AppData\\Roaming\\Python\\Python311\\site-packages\\sklearn\\neural_network\\_multilayer_perceptron.py:686: ConvergenceWarning: Stochastic Optimizer: Maximum iterations (200) reached and the optimization hasn't converged yet.\n",
      "  warnings.warn(\n",
      "C:\\Users\\User\\AppData\\Roaming\\Python\\Python311\\site-packages\\sklearn\\neural_network\\_multilayer_perceptron.py:686: ConvergenceWarning: Stochastic Optimizer: Maximum iterations (200) reached and the optimization hasn't converged yet.\n",
      "  warnings.warn(\n",
      "C:\\Users\\User\\AppData\\Roaming\\Python\\Python311\\site-packages\\sklearn\\neural_network\\_multilayer_perceptron.py:686: ConvergenceWarning: Stochastic Optimizer: Maximum iterations (200) reached and the optimization hasn't converged yet.\n",
      "  warnings.warn(\n",
      "C:\\Users\\User\\AppData\\Roaming\\Python\\Python311\\site-packages\\sklearn\\neural_network\\_multilayer_perceptron.py:686: ConvergenceWarning: Stochastic Optimizer: Maximum iterations (200) reached and the optimization hasn't converged yet.\n",
      "  warnings.warn(\n",
      "C:\\Users\\User\\AppData\\Roaming\\Python\\Python311\\site-packages\\sklearn\\neural_network\\_multilayer_perceptron.py:686: ConvergenceWarning: Stochastic Optimizer: Maximum iterations (200) reached and the optimization hasn't converged yet.\n",
      "  warnings.warn(\n",
      "C:\\Users\\User\\AppData\\Roaming\\Python\\Python311\\site-packages\\sklearn\\neural_network\\_multilayer_perceptron.py:686: ConvergenceWarning: Stochastic Optimizer: Maximum iterations (200) reached and the optimization hasn't converged yet.\n",
      "  warnings.warn(\n",
      "C:\\Users\\User\\AppData\\Roaming\\Python\\Python311\\site-packages\\sklearn\\neural_network\\_multilayer_perceptron.py:686: ConvergenceWarning: Stochastic Optimizer: Maximum iterations (200) reached and the optimization hasn't converged yet.\n",
      "  warnings.warn(\n"
     ]
    },
    {
     "name": "stderr",
     "output_type": "stream",
     "text": [
      "C:\\Users\\User\\AppData\\Roaming\\Python\\Python311\\site-packages\\sklearn\\neural_network\\_multilayer_perceptron.py:686: ConvergenceWarning: Stochastic Optimizer: Maximum iterations (200) reached and the optimization hasn't converged yet.\n",
      "  warnings.warn(\n",
      "C:\\Users\\User\\AppData\\Roaming\\Python\\Python311\\site-packages\\sklearn\\neural_network\\_multilayer_perceptron.py:686: ConvergenceWarning: Stochastic Optimizer: Maximum iterations (200) reached and the optimization hasn't converged yet.\n",
      "  warnings.warn(\n",
      "C:\\Users\\User\\AppData\\Roaming\\Python\\Python311\\site-packages\\sklearn\\neural_network\\_multilayer_perceptron.py:686: ConvergenceWarning: Stochastic Optimizer: Maximum iterations (200) reached and the optimization hasn't converged yet.\n",
      "  warnings.warn(\n",
      "C:\\Users\\User\\AppData\\Roaming\\Python\\Python311\\site-packages\\sklearn\\neural_network\\_multilayer_perceptron.py:686: ConvergenceWarning: Stochastic Optimizer: Maximum iterations (200) reached and the optimization hasn't converged yet.\n",
      "  warnings.warn(\n",
      "C:\\Users\\User\\AppData\\Roaming\\Python\\Python311\\site-packages\\sklearn\\neural_network\\_multilayer_perceptron.py:686: ConvergenceWarning: Stochastic Optimizer: Maximum iterations (200) reached and the optimization hasn't converged yet.\n",
      "  warnings.warn(\n",
      "C:\\Users\\User\\AppData\\Roaming\\Python\\Python311\\site-packages\\sklearn\\neural_network\\_multilayer_perceptron.py:686: ConvergenceWarning: Stochastic Optimizer: Maximum iterations (200) reached and the optimization hasn't converged yet.\n",
      "  warnings.warn(\n",
      "C:\\Users\\User\\AppData\\Roaming\\Python\\Python311\\site-packages\\sklearn\\neural_network\\_multilayer_perceptron.py:686: ConvergenceWarning: Stochastic Optimizer: Maximum iterations (200) reached and the optimization hasn't converged yet.\n",
      "  warnings.warn(\n",
      "C:\\Users\\User\\AppData\\Roaming\\Python\\Python311\\site-packages\\sklearn\\neural_network\\_multilayer_perceptron.py:686: ConvergenceWarning: Stochastic Optimizer: Maximum iterations (200) reached and the optimization hasn't converged yet.\n",
      "  warnings.warn(\n",
      "C:\\Users\\User\\AppData\\Roaming\\Python\\Python311\\site-packages\\sklearn\\neural_network\\_multilayer_perceptron.py:686: ConvergenceWarning: Stochastic Optimizer: Maximum iterations (200) reached and the optimization hasn't converged yet.\n",
      "  warnings.warn(\n",
      "C:\\Users\\User\\AppData\\Roaming\\Python\\Python311\\site-packages\\sklearn\\neural_network\\_multilayer_perceptron.py:686: ConvergenceWarning: Stochastic Optimizer: Maximum iterations (200) reached and the optimization hasn't converged yet.\n",
      "  warnings.warn(\n",
      "C:\\Users\\User\\AppData\\Roaming\\Python\\Python311\\site-packages\\sklearn\\neural_network\\_multilayer_perceptron.py:686: ConvergenceWarning: Stochastic Optimizer: Maximum iterations (200) reached and the optimization hasn't converged yet.\n",
      "  warnings.warn(\n",
      "C:\\Users\\User\\AppData\\Roaming\\Python\\Python311\\site-packages\\sklearn\\neural_network\\_multilayer_perceptron.py:686: ConvergenceWarning: Stochastic Optimizer: Maximum iterations (200) reached and the optimization hasn't converged yet.\n",
      "  warnings.warn(\n",
      "C:\\Users\\User\\AppData\\Roaming\\Python\\Python311\\site-packages\\sklearn\\neural_network\\_multilayer_perceptron.py:686: ConvergenceWarning: Stochastic Optimizer: Maximum iterations (200) reached and the optimization hasn't converged yet.\n",
      "  warnings.warn(\n",
      "C:\\Users\\User\\AppData\\Roaming\\Python\\Python311\\site-packages\\sklearn\\neural_network\\_multilayer_perceptron.py:686: ConvergenceWarning: Stochastic Optimizer: Maximum iterations (200) reached and the optimization hasn't converged yet.\n",
      "  warnings.warn(\n",
      "C:\\Users\\User\\AppData\\Roaming\\Python\\Python311\\site-packages\\sklearn\\neural_network\\_multilayer_perceptron.py:686: ConvergenceWarning: Stochastic Optimizer: Maximum iterations (200) reached and the optimization hasn't converged yet.\n",
      "  warnings.warn(\n",
      "C:\\Users\\User\\AppData\\Roaming\\Python\\Python311\\site-packages\\sklearn\\neural_network\\_multilayer_perceptron.py:686: ConvergenceWarning: Stochastic Optimizer: Maximum iterations (200) reached and the optimization hasn't converged yet.\n",
      "  warnings.warn(\n",
      "C:\\Users\\User\\AppData\\Roaming\\Python\\Python311\\site-packages\\sklearn\\neural_network\\_multilayer_perceptron.py:686: ConvergenceWarning: Stochastic Optimizer: Maximum iterations (200) reached and the optimization hasn't converged yet.\n",
      "  warnings.warn(\n",
      "C:\\Users\\User\\AppData\\Roaming\\Python\\Python311\\site-packages\\sklearn\\neural_network\\_multilayer_perceptron.py:686: ConvergenceWarning: Stochastic Optimizer: Maximum iterations (200) reached and the optimization hasn't converged yet.\n",
      "  warnings.warn(\n",
      "C:\\Users\\User\\AppData\\Roaming\\Python\\Python311\\site-packages\\sklearn\\neural_network\\_multilayer_perceptron.py:686: ConvergenceWarning: Stochastic Optimizer: Maximum iterations (200) reached and the optimization hasn't converged yet.\n",
      "  warnings.warn(\n",
      "C:\\Users\\User\\AppData\\Roaming\\Python\\Python311\\site-packages\\sklearn\\neural_network\\_multilayer_perceptron.py:686: ConvergenceWarning: Stochastic Optimizer: Maximum iterations (200) reached and the optimization hasn't converged yet.\n",
      "  warnings.warn(\n",
      "C:\\Users\\User\\AppData\\Roaming\\Python\\Python311\\site-packages\\sklearn\\neural_network\\_multilayer_perceptron.py:686: ConvergenceWarning: Stochastic Optimizer: Maximum iterations (200) reached and the optimization hasn't converged yet.\n",
      "  warnings.warn(\n",
      "C:\\Users\\User\\AppData\\Roaming\\Python\\Python311\\site-packages\\sklearn\\neural_network\\_multilayer_perceptron.py:686: ConvergenceWarning: Stochastic Optimizer: Maximum iterations (200) reached and the optimization hasn't converged yet.\n",
      "  warnings.warn(\n",
      "C:\\Users\\User\\AppData\\Roaming\\Python\\Python311\\site-packages\\sklearn\\neural_network\\_multilayer_perceptron.py:686: ConvergenceWarning: Stochastic Optimizer: Maximum iterations (200) reached and the optimization hasn't converged yet.\n",
      "  warnings.warn(\n",
      "C:\\Users\\User\\AppData\\Roaming\\Python\\Python311\\site-packages\\sklearn\\neural_network\\_multilayer_perceptron.py:686: ConvergenceWarning: Stochastic Optimizer: Maximum iterations (200) reached and the optimization hasn't converged yet.\n",
      "  warnings.warn(\n",
      "C:\\Users\\User\\AppData\\Roaming\\Python\\Python311\\site-packages\\sklearn\\neural_network\\_multilayer_perceptron.py:686: ConvergenceWarning: Stochastic Optimizer: Maximum iterations (200) reached and the optimization hasn't converged yet.\n",
      "  warnings.warn(\n",
      "C:\\Users\\User\\AppData\\Roaming\\Python\\Python311\\site-packages\\sklearn\\neural_network\\_multilayer_perceptron.py:686: ConvergenceWarning: Stochastic Optimizer: Maximum iterations (200) reached and the optimization hasn't converged yet.\n",
      "  warnings.warn(\n",
      "C:\\Users\\User\\AppData\\Roaming\\Python\\Python311\\site-packages\\sklearn\\neural_network\\_multilayer_perceptron.py:686: ConvergenceWarning: Stochastic Optimizer: Maximum iterations (200) reached and the optimization hasn't converged yet.\n",
      "  warnings.warn(\n",
      "C:\\Users\\User\\AppData\\Roaming\\Python\\Python311\\site-packages\\sklearn\\neural_network\\_multilayer_perceptron.py:686: ConvergenceWarning: Stochastic Optimizer: Maximum iterations (200) reached and the optimization hasn't converged yet.\n",
      "  warnings.warn(\n",
      "C:\\Users\\User\\AppData\\Roaming\\Python\\Python311\\site-packages\\sklearn\\neural_network\\_multilayer_perceptron.py:686: ConvergenceWarning: Stochastic Optimizer: Maximum iterations (200) reached and the optimization hasn't converged yet.\n",
      "  warnings.warn(\n",
      "C:\\Users\\User\\AppData\\Roaming\\Python\\Python311\\site-packages\\sklearn\\neural_network\\_multilayer_perceptron.py:686: ConvergenceWarning: Stochastic Optimizer: Maximum iterations (200) reached and the optimization hasn't converged yet.\n",
      "  warnings.warn(\n",
      "C:\\Users\\User\\AppData\\Roaming\\Python\\Python311\\site-packages\\sklearn\\neural_network\\_multilayer_perceptron.py:686: ConvergenceWarning: Stochastic Optimizer: Maximum iterations (200) reached and the optimization hasn't converged yet.\n",
      "  warnings.warn(\n",
      "C:\\Users\\User\\AppData\\Roaming\\Python\\Python311\\site-packages\\sklearn\\neural_network\\_multilayer_perceptron.py:686: ConvergenceWarning: Stochastic Optimizer: Maximum iterations (200) reached and the optimization hasn't converged yet.\n",
      "  warnings.warn(\n",
      "C:\\Users\\User\\AppData\\Roaming\\Python\\Python311\\site-packages\\sklearn\\neural_network\\_multilayer_perceptron.py:686: ConvergenceWarning: Stochastic Optimizer: Maximum iterations (200) reached and the optimization hasn't converged yet.\n",
      "  warnings.warn(\n"
     ]
    },
    {
     "name": "stderr",
     "output_type": "stream",
     "text": [
      "C:\\Users\\User\\AppData\\Roaming\\Python\\Python311\\site-packages\\sklearn\\neural_network\\_multilayer_perceptron.py:686: ConvergenceWarning: Stochastic Optimizer: Maximum iterations (200) reached and the optimization hasn't converged yet.\n",
      "  warnings.warn(\n",
      "C:\\Users\\User\\AppData\\Roaming\\Python\\Python311\\site-packages\\sklearn\\neural_network\\_multilayer_perceptron.py:686: ConvergenceWarning: Stochastic Optimizer: Maximum iterations (200) reached and the optimization hasn't converged yet.\n",
      "  warnings.warn(\n",
      "C:\\Users\\User\\AppData\\Roaming\\Python\\Python311\\site-packages\\sklearn\\neural_network\\_multilayer_perceptron.py:686: ConvergenceWarning: Stochastic Optimizer: Maximum iterations (200) reached and the optimization hasn't converged yet.\n",
      "  warnings.warn(\n",
      "C:\\Users\\User\\AppData\\Roaming\\Python\\Python311\\site-packages\\sklearn\\neural_network\\_multilayer_perceptron.py:686: ConvergenceWarning: Stochastic Optimizer: Maximum iterations (200) reached and the optimization hasn't converged yet.\n",
      "  warnings.warn(\n",
      "C:\\Users\\User\\AppData\\Roaming\\Python\\Python311\\site-packages\\sklearn\\neural_network\\_multilayer_perceptron.py:686: ConvergenceWarning: Stochastic Optimizer: Maximum iterations (200) reached and the optimization hasn't converged yet.\n",
      "  warnings.warn(\n",
      "C:\\Users\\User\\AppData\\Roaming\\Python\\Python311\\site-packages\\sklearn\\neural_network\\_multilayer_perceptron.py:686: ConvergenceWarning: Stochastic Optimizer: Maximum iterations (200) reached and the optimization hasn't converged yet.\n",
      "  warnings.warn(\n",
      "C:\\Users\\User\\AppData\\Roaming\\Python\\Python311\\site-packages\\sklearn\\neural_network\\_multilayer_perceptron.py:686: ConvergenceWarning: Stochastic Optimizer: Maximum iterations (200) reached and the optimization hasn't converged yet.\n",
      "  warnings.warn(\n",
      "C:\\Users\\User\\AppData\\Roaming\\Python\\Python311\\site-packages\\sklearn\\neural_network\\_multilayer_perceptron.py:686: ConvergenceWarning: Stochastic Optimizer: Maximum iterations (200) reached and the optimization hasn't converged yet.\n",
      "  warnings.warn(\n",
      "C:\\Users\\User\\AppData\\Roaming\\Python\\Python311\\site-packages\\sklearn\\neural_network\\_multilayer_perceptron.py:686: ConvergenceWarning: Stochastic Optimizer: Maximum iterations (200) reached and the optimization hasn't converged yet.\n",
      "  warnings.warn(\n",
      "C:\\Users\\User\\AppData\\Roaming\\Python\\Python311\\site-packages\\sklearn\\neural_network\\_multilayer_perceptron.py:686: ConvergenceWarning: Stochastic Optimizer: Maximum iterations (200) reached and the optimization hasn't converged yet.\n",
      "  warnings.warn(\n",
      "C:\\Users\\User\\AppData\\Roaming\\Python\\Python311\\site-packages\\sklearn\\neural_network\\_multilayer_perceptron.py:686: ConvergenceWarning: Stochastic Optimizer: Maximum iterations (200) reached and the optimization hasn't converged yet.\n",
      "  warnings.warn(\n",
      "C:\\Users\\User\\AppData\\Roaming\\Python\\Python311\\site-packages\\sklearn\\neural_network\\_multilayer_perceptron.py:686: ConvergenceWarning: Stochastic Optimizer: Maximum iterations (200) reached and the optimization hasn't converged yet.\n",
      "  warnings.warn(\n",
      "C:\\Users\\User\\AppData\\Roaming\\Python\\Python311\\site-packages\\sklearn\\neural_network\\_multilayer_perceptron.py:686: ConvergenceWarning: Stochastic Optimizer: Maximum iterations (200) reached and the optimization hasn't converged yet.\n",
      "  warnings.warn(\n",
      "C:\\Users\\User\\AppData\\Roaming\\Python\\Python311\\site-packages\\sklearn\\neural_network\\_multilayer_perceptron.py:686: ConvergenceWarning: Stochastic Optimizer: Maximum iterations (200) reached and the optimization hasn't converged yet.\n",
      "  warnings.warn(\n",
      "C:\\Users\\User\\AppData\\Roaming\\Python\\Python311\\site-packages\\sklearn\\neural_network\\_multilayer_perceptron.py:686: ConvergenceWarning: Stochastic Optimizer: Maximum iterations (200) reached and the optimization hasn't converged yet.\n",
      "  warnings.warn(\n",
      "C:\\Users\\User\\AppData\\Roaming\\Python\\Python311\\site-packages\\sklearn\\neural_network\\_multilayer_perceptron.py:686: ConvergenceWarning: Stochastic Optimizer: Maximum iterations (200) reached and the optimization hasn't converged yet.\n",
      "  warnings.warn(\n",
      "C:\\Users\\User\\AppData\\Roaming\\Python\\Python311\\site-packages\\sklearn\\neural_network\\_multilayer_perceptron.py:686: ConvergenceWarning: Stochastic Optimizer: Maximum iterations (200) reached and the optimization hasn't converged yet.\n",
      "  warnings.warn(\n",
      "C:\\Users\\User\\AppData\\Roaming\\Python\\Python311\\site-packages\\sklearn\\neural_network\\_multilayer_perceptron.py:686: ConvergenceWarning: Stochastic Optimizer: Maximum iterations (200) reached and the optimization hasn't converged yet.\n",
      "  warnings.warn(\n",
      "C:\\Users\\User\\AppData\\Roaming\\Python\\Python311\\site-packages\\sklearn\\neural_network\\_multilayer_perceptron.py:686: ConvergenceWarning: Stochastic Optimizer: Maximum iterations (200) reached and the optimization hasn't converged yet.\n",
      "  warnings.warn(\n",
      "C:\\Users\\User\\AppData\\Roaming\\Python\\Python311\\site-packages\\sklearn\\neural_network\\_multilayer_perceptron.py:686: ConvergenceWarning: Stochastic Optimizer: Maximum iterations (200) reached and the optimization hasn't converged yet.\n",
      "  warnings.warn(\n",
      "C:\\Users\\User\\AppData\\Roaming\\Python\\Python311\\site-packages\\sklearn\\neural_network\\_multilayer_perceptron.py:686: ConvergenceWarning: Stochastic Optimizer: Maximum iterations (200) reached and the optimization hasn't converged yet.\n",
      "  warnings.warn(\n",
      "C:\\Users\\User\\AppData\\Roaming\\Python\\Python311\\site-packages\\sklearn\\neural_network\\_multilayer_perceptron.py:686: ConvergenceWarning: Stochastic Optimizer: Maximum iterations (200) reached and the optimization hasn't converged yet.\n",
      "  warnings.warn(\n",
      "C:\\Users\\User\\AppData\\Roaming\\Python\\Python311\\site-packages\\sklearn\\neural_network\\_multilayer_perceptron.py:686: ConvergenceWarning: Stochastic Optimizer: Maximum iterations (200) reached and the optimization hasn't converged yet.\n",
      "  warnings.warn(\n",
      "C:\\Users\\User\\AppData\\Roaming\\Python\\Python311\\site-packages\\sklearn\\neural_network\\_multilayer_perceptron.py:686: ConvergenceWarning: Stochastic Optimizer: Maximum iterations (200) reached and the optimization hasn't converged yet.\n",
      "  warnings.warn(\n",
      "C:\\Users\\User\\AppData\\Roaming\\Python\\Python311\\site-packages\\sklearn\\neural_network\\_multilayer_perceptron.py:686: ConvergenceWarning: Stochastic Optimizer: Maximum iterations (200) reached and the optimization hasn't converged yet.\n",
      "  warnings.warn(\n",
      "C:\\Users\\User\\AppData\\Roaming\\Python\\Python311\\site-packages\\sklearn\\neural_network\\_multilayer_perceptron.py:686: ConvergenceWarning: Stochastic Optimizer: Maximum iterations (200) reached and the optimization hasn't converged yet.\n",
      "  warnings.warn(\n",
      "C:\\Users\\User\\AppData\\Roaming\\Python\\Python311\\site-packages\\sklearn\\neural_network\\_multilayer_perceptron.py:686: ConvergenceWarning: Stochastic Optimizer: Maximum iterations (200) reached and the optimization hasn't converged yet.\n",
      "  warnings.warn(\n",
      "C:\\Users\\User\\AppData\\Roaming\\Python\\Python311\\site-packages\\sklearn\\neural_network\\_multilayer_perceptron.py:686: ConvergenceWarning: Stochastic Optimizer: Maximum iterations (200) reached and the optimization hasn't converged yet.\n",
      "  warnings.warn(\n",
      "C:\\Users\\User\\AppData\\Roaming\\Python\\Python311\\site-packages\\sklearn\\neural_network\\_multilayer_perceptron.py:686: ConvergenceWarning: Stochastic Optimizer: Maximum iterations (200) reached and the optimization hasn't converged yet.\n",
      "  warnings.warn(\n",
      "C:\\Users\\User\\AppData\\Roaming\\Python\\Python311\\site-packages\\sklearn\\neural_network\\_multilayer_perceptron.py:686: ConvergenceWarning: Stochastic Optimizer: Maximum iterations (200) reached and the optimization hasn't converged yet.\n",
      "  warnings.warn(\n",
      "C:\\Users\\User\\AppData\\Roaming\\Python\\Python311\\site-packages\\sklearn\\neural_network\\_multilayer_perceptron.py:686: ConvergenceWarning: Stochastic Optimizer: Maximum iterations (200) reached and the optimization hasn't converged yet.\n",
      "  warnings.warn(\n",
      "C:\\Users\\User\\AppData\\Roaming\\Python\\Python311\\site-packages\\sklearn\\neural_network\\_multilayer_perceptron.py:686: ConvergenceWarning: Stochastic Optimizer: Maximum iterations (200) reached and the optimization hasn't converged yet.\n",
      "  warnings.warn(\n",
      "C:\\Users\\User\\AppData\\Roaming\\Python\\Python311\\site-packages\\sklearn\\neural_network\\_multilayer_perceptron.py:686: ConvergenceWarning: Stochastic Optimizer: Maximum iterations (200) reached and the optimization hasn't converged yet.\n",
      "  warnings.warn(\n"
     ]
    },
    {
     "name": "stderr",
     "output_type": "stream",
     "text": [
      "C:\\Users\\User\\AppData\\Roaming\\Python\\Python311\\site-packages\\sklearn\\neural_network\\_multilayer_perceptron.py:686: ConvergenceWarning: Stochastic Optimizer: Maximum iterations (200) reached and the optimization hasn't converged yet.\n",
      "  warnings.warn(\n",
      "C:\\Users\\User\\AppData\\Roaming\\Python\\Python311\\site-packages\\sklearn\\neural_network\\_multilayer_perceptron.py:686: ConvergenceWarning: Stochastic Optimizer: Maximum iterations (200) reached and the optimization hasn't converged yet.\n",
      "  warnings.warn(\n",
      "C:\\Users\\User\\AppData\\Roaming\\Python\\Python311\\site-packages\\sklearn\\neural_network\\_multilayer_perceptron.py:686: ConvergenceWarning: Stochastic Optimizer: Maximum iterations (200) reached and the optimization hasn't converged yet.\n",
      "  warnings.warn(\n",
      "C:\\Users\\User\\AppData\\Roaming\\Python\\Python311\\site-packages\\sklearn\\neural_network\\_multilayer_perceptron.py:686: ConvergenceWarning: Stochastic Optimizer: Maximum iterations (200) reached and the optimization hasn't converged yet.\n",
      "  warnings.warn(\n",
      "C:\\Users\\User\\AppData\\Roaming\\Python\\Python311\\site-packages\\sklearn\\neural_network\\_multilayer_perceptron.py:686: ConvergenceWarning: Stochastic Optimizer: Maximum iterations (200) reached and the optimization hasn't converged yet.\n",
      "  warnings.warn(\n"
     ]
    },
    {
     "name": "stdout",
     "output_type": "stream",
     "text": [
      "Best Parameters: {'activation': 'relu', 'alpha': 0.01, 'hidden_layer_sizes': (100,), 'learning_rate': 'adaptive', 'solver': 'sgd'}\n",
      "Best Score: 0.6924561066391086\n"
     ]
    },
    {
     "name": "stderr",
     "output_type": "stream",
     "text": [
      "C:\\Users\\User\\AppData\\Roaming\\Python\\Python311\\site-packages\\sklearn\\neural_network\\_multilayer_perceptron.py:686: ConvergenceWarning: Stochastic Optimizer: Maximum iterations (200) reached and the optimization hasn't converged yet.\n",
      "  warnings.warn(\n"
     ]
    }
   ],
   "source": [
    "df_cut_1 = pd.read_csv('train_data/df_only_last_product_1.csv')\n",
    "df_cut_1 = df_cut_1.drop(0, axis=0)\n",
    "df_cut_2 = pd.read_csv('train_data/df_only_last_product_0.csv')\n",
    "df_cut_2 = df_cut_2.drop(0, axis=0)\n",
    "df_cut_merged = pd.concat([df_cut_2, df_cut_1], ignore_index=True)\n",
    "df_cut_merged = df_cut_merged.drop(['id'], axis=1)\n",
    "\n",
    "share = 45\n",
    "df_cut_merged = sample_df(\n",
    "    df_cut_merged, \n",
    "    round(df_cut_merged.flag.value_counts()[1] / share * 100 + 1, 0),\n",
    "    100 - share,\n",
    "    share\n",
    ")\n",
    "\n",
    "x = df_cut_merged.drop('flag', axis=1)\n",
    "y = df_cut_merged.flag\n",
    "\n",
    "model = MLPClassifier()\n",
    "\n",
    "param_grid = {\n",
    "    'hidden_layer_sizes': [(50,), (100,), (50, 50), (100, 50)],  # Various hidden layer sizes\n",
    "    'activation': ['relu', 'tanh'],  # Activation functions\n",
    "    'solver': ['adam', 'sgd'],  # Solvers for weight optimization\n",
    "    'alpha': [0.0001, 0.001, 0.01],  # L2 penalty (regularization term) parameter\n",
    "    'learning_rate': ['constant', 'adaptive'],  # Learning rate schedule\n",
    "}\n",
    "\n",
    "grid_search = GridSearchCV(estimator=model, param_grid=param_grid, cv=3, scoring='roc_auc')\n",
    "grid_search.fit(x, y)\n",
    "\n",
    "best_params = grid_search.best_params_\n",
    "best_score = grid_search.best_score_\n",
    "\n",
    "print(\"Best Parameters:\", best_params)\n",
    "print(\"Best Score:\", best_score)"
   ]
  },
  {
   "cell_type": "code",
   "execution_count": 59,
   "id": "08333c27",
   "metadata": {},
   "outputs": [
    {
     "name": "stdout",
     "output_type": "stream",
     "text": [
      "ROC AUC Score: 0.6366274434843617\n"
     ]
    }
   ],
   "source": [
    "df_cut_1 = pd.read_csv('train_data/df_only_last_product_1.csv')\n",
    "df_cut_1 = df_cut_1.drop(0, axis=0)\n",
    "df_cut_2 = pd.read_csv('train_data/df_only_last_product_0.csv')\n",
    "df_cut_2 = df_cut_2.drop(0, axis=0)\n",
    "df_cut_merged = pd.concat([df_cut_2, df_cut_1], ignore_index=True)\n",
    "df_cut_merged = df_cut_merged.drop(['id'], axis=1)\n",
    "\n",
    "share = 45\n",
    "df_cut_merged = sample_df(\n",
    "    df_cut_merged, \n",
    "    round(df_cut_merged.flag.value_counts()[1] / share * 100 + 1, 0),\n",
    "    100 - share,\n",
    "    share\n",
    ")\n",
    "\n",
    "\n",
    "x = df_cut_merged.drop('flag', axis=1)\n",
    "y = df_cut_merged.flag\n",
    "\n",
    "model = RandomForestClassifier( n_estimators=200, max_depth=20, min_samples_leaf=4, min_samples_split=10)\n",
    "model.fit(x,y)\n",
    "\n",
    "# df3 = df3.drop(['id'], axis=1)\n",
    "\n",
    "x_test = df3.drop('flag', axis=1)\n",
    "y_test = df3.flag\n",
    "y_pred_prob = model.predict_proba(x_test)[:, 1]\n",
    "\n",
    "# Calculate the ROC AUC score\n",
    "roc_auc = roc_auc_score(y_test, y_pred_prob)\n",
    "\n",
    "print(\"ROC AUC Score:\", roc_auc)"
   ]
  },
  {
   "cell_type": "code",
   "execution_count": 60,
   "id": "7851c86a",
   "metadata": {},
   "outputs": [
    {
     "name": "stderr",
     "output_type": "stream",
     "text": [
      "C:\\Users\\User\\AppData\\Roaming\\Python\\Python311\\site-packages\\sklearn\\neural_network\\_multilayer_perceptron.py:686: ConvergenceWarning: Stochastic Optimizer: Maximum iterations (200) reached and the optimization hasn't converged yet.\n",
      "  warnings.warn(\n"
     ]
    },
    {
     "name": "stdout",
     "output_type": "stream",
     "text": [
      "ROC AUC Score: 0.6191719974530119\n"
     ]
    }
   ],
   "source": [
    "df_cut_1 = pd.read_csv('train_data/df_only_last_product_1.csv')\n",
    "df_cut_1 = df_cut_1.drop(0, axis=0)\n",
    "df_cut_2 = pd.read_csv('train_data/df_only_last_product_0.csv')\n",
    "df_cut_2 = df_cut_2.drop(0, axis=0)\n",
    "df_cut_merged = pd.concat([df_cut_2, df_cut_1], ignore_index=True)\n",
    "df_cut_merged = df_cut_merged.drop(['id'], axis=1)\n",
    "\n",
    "share = 45\n",
    "df_cut_merged = sample_df(\n",
    "    df_cut_merged, \n",
    "    round(df_cut_merged.flag.value_counts()[1] / share * 100 + 1, 0),\n",
    "    100 - share,\n",
    "    share\n",
    ")\n",
    "\n",
    "\n",
    "x = df_cut_merged.drop('flag', axis=1)\n",
    "y = df_cut_merged.flag\n",
    "\n",
    "model = MLPClassifier( activation='relu', alpha=0.01, hidden_layer_sizes=(100,), learning_rate='adaptive', solver='sgd')\n",
    "model.fit(x,y)\n",
    "\n",
    "# df3 = df3.drop(['id'], axis=1)\n",
    "\n",
    "x_test = df3.drop('flag', axis=1)\n",
    "y_test = df3.flag\n",
    "y_pred_prob = model.predict_proba(x_test)[:, 1]\n",
    "\n",
    "# Calculate the ROC AUC score\n",
    "roc_auc = roc_auc_score(y_test, y_pred_prob)\n",
    "\n",
    "print(\"ROC AUC Score:\", roc_auc)"
   ]
  },
  {
   "cell_type": "markdown",
   "id": "f827e6b1",
   "metadata": {},
   "source": [
    "## результат\n",
    "1) нетюненная модель дает все те же 62 процента на данных из другого чанка - @неудовлетворительно@:(\n",
    "2) CV на том же чанке дает 68 процентов на разных моделях в зависимости от баланса нулей и единичек в таргете\n",
    "update\n",
    "3) оттюненный лес дает на тестовом чанке 0,63, млп так же 0,62"
   ]
  },
  {
   "cell_type": "code",
   "execution_count": null,
   "id": "9e34c5a2",
   "metadata": {},
   "outputs": [],
   "source": []
  },
  {
   "cell_type": "markdown",
   "id": "4fa8c840",
   "metadata": {},
   "source": [
    "# 4 гиппотеза. Исключать колонки по одной на сбалансированном сете из двух чанков и проверять на третьем"
   ]
  },
  {
   "cell_type": "code",
   "execution_count": 67,
   "id": "e1738b3f",
   "metadata": {},
   "outputs": [],
   "source": [
    "df_cut_1 = pd.read_csv('train_data/df_only_last_product_1.csv')\n",
    "df_cut_1 = df_cut_1.drop(0, axis=0)\n",
    "df_cut_2 = pd.read_csv('train_data/df_only_last_product_0.csv')\n",
    "df_cut_2 = df_cut_2.drop(0, axis=0)\n",
    "df_cut_merged = pd.concat([df_cut_2, df_cut_1], ignore_index=True)\n",
    "# df_cut_merged = df_cut_merged.drop(['id'], axis=1)\n",
    "df3 = fastparquet.ParquetFile('train_data/train_data_2.pq').to_pandas()\n",
    "df3 = pd.merge(df3, answers, on='id', how='left')"
   ]
  },
  {
   "cell_type": "code",
   "execution_count": 68,
   "id": "39e6303d",
   "metadata": {},
   "outputs": [],
   "source": [
    "corrs = []\n",
    "for col in df_cut_merged.columns:\n",
    "    corrs.append((abs(df_cut_merged['flag'].corr(df_cut_merged[col])), col))\n",
    "corrs_copy = corrs.copy()    \n",
    "corrs = sorted(corrs)[:-1]"
   ]
  },
  {
   "cell_type": "code",
   "execution_count": 69,
   "id": "e7624c24",
   "metadata": {},
   "outputs": [],
   "source": [
    "share = 45\n",
    "df_cut_merged = sample_df(\n",
    "    df_cut_merged, \n",
    "    round(df_cut_merged.flag.value_counts()[1] / share * 100 + 1, 0),\n",
    "    100 - share,\n",
    "    share\n",
    ")"
   ]
  },
  {
   "cell_type": "code",
   "execution_count": 70,
   "id": "70b81df7",
   "metadata": {},
   "outputs": [],
   "source": [
    "models = [\n",
    "    KNeighborsClassifier(),\n",
    "#     SVC(),\n",
    "#     RandomForestClassifier(),\n",
    "#     MLPClassifier(),\n",
    "#     LogisticRegression(),\n",
    "#     DecisionTreeClassifier(),\n",
    "#     GaussianNB(),\n",
    "]\n",
    "#     xgb(),\n",
    "#     lgb(),\n",
    "# ]"
   ]
  },
  {
   "cell_type": "code",
   "execution_count": 72,
   "id": "a55ebcba",
   "metadata": {
    "collapsed": true
   },
   "outputs": [
    {
     "name": "stdout",
     "output_type": "stream",
     "text": [
      "model now is KNeighborsClassifier()\n",
      "ROC AUC Score: 0.5\n",
      "ROC AUC Score: 0.5\n"
     ]
    },
    {
     "ename": "KeyboardInterrupt",
     "evalue": "",
     "output_type": "error",
     "traceback": [
      "\u001b[1;31m---------------------------------------------------------------------------\u001b[0m",
      "\u001b[1;31mKeyboardInterrupt\u001b[0m                         Traceback (most recent call last)",
      "Cell \u001b[1;32mIn[72], line 34\u001b[0m\n\u001b[0;32m     27\u001b[0m x_test \u001b[38;5;241m=\u001b[39m x_test_uncut\u001b[38;5;241m.\u001b[39mdrop(cols_to_drop_this_cycle, axis\u001b[38;5;241m=\u001b[39m\u001b[38;5;241m1\u001b[39m)\n\u001b[0;32m     29\u001b[0m model\u001b[38;5;241m.\u001b[39mfit(x,y)\n\u001b[1;32m---> 34\u001b[0m y_pred_prob \u001b[38;5;241m=\u001b[39m model\u001b[38;5;241m.\u001b[39mpredict_proba(x_test)[:, \u001b[38;5;241m1\u001b[39m]\n\u001b[0;32m     35\u001b[0m roc_auc \u001b[38;5;241m=\u001b[39m roc_auc_score(y_test, y_pred_prob)\n\u001b[0;32m     36\u001b[0m \u001b[38;5;28mprint\u001b[39m(\u001b[38;5;124mf\u001b[39m\u001b[38;5;124m\"\u001b[39m\u001b[38;5;124mROC AUC Score:\u001b[39m\u001b[38;5;124m\"\u001b[39m, roc_auc)\n",
      "File \u001b[1;32m~\\AppData\\Roaming\\Python\\Python311\\site-packages\\sklearn\\neighbors\\_classification.py:283\u001b[0m, in \u001b[0;36mKNeighborsClassifier.predict_proba\u001b[1;34m(self, X)\u001b[0m\n\u001b[0;32m    265\u001b[0m \u001b[38;5;250m\u001b[39m\u001b[38;5;124;03m\"\"\"Return probability estimates for the test data X.\u001b[39;00m\n\u001b[0;32m    266\u001b[0m \n\u001b[0;32m    267\u001b[0m \u001b[38;5;124;03mParameters\u001b[39;00m\n\u001b[1;32m   (...)\u001b[0m\n\u001b[0;32m    278\u001b[0m \u001b[38;5;124;03m    by lexicographic order.\u001b[39;00m\n\u001b[0;32m    279\u001b[0m \u001b[38;5;124;03m\"\"\"\u001b[39;00m\n\u001b[0;32m    280\u001b[0m \u001b[38;5;28;01mif\u001b[39;00m \u001b[38;5;28mself\u001b[39m\u001b[38;5;241m.\u001b[39mweights \u001b[38;5;241m==\u001b[39m \u001b[38;5;124m\"\u001b[39m\u001b[38;5;124muniform\u001b[39m\u001b[38;5;124m\"\u001b[39m:\n\u001b[0;32m    281\u001b[0m     \u001b[38;5;66;03m# In that case, we do not need the distances to perform\u001b[39;00m\n\u001b[0;32m    282\u001b[0m     \u001b[38;5;66;03m# the weighting so we do not compute them.\u001b[39;00m\n\u001b[1;32m--> 283\u001b[0m     neigh_ind \u001b[38;5;241m=\u001b[39m \u001b[38;5;28mself\u001b[39m\u001b[38;5;241m.\u001b[39mkneighbors(X, return_distance\u001b[38;5;241m=\u001b[39m\u001b[38;5;28;01mFalse\u001b[39;00m)\n\u001b[0;32m    284\u001b[0m     neigh_dist \u001b[38;5;241m=\u001b[39m \u001b[38;5;28;01mNone\u001b[39;00m\n\u001b[0;32m    285\u001b[0m \u001b[38;5;28;01melse\u001b[39;00m:\n",
      "File \u001b[1;32m~\\AppData\\Roaming\\Python\\Python311\\site-packages\\sklearn\\neighbors\\_base.py:861\u001b[0m, in \u001b[0;36mKNeighborsMixin.kneighbors\u001b[1;34m(self, X, n_neighbors, return_distance)\u001b[0m\n\u001b[0;32m    858\u001b[0m     \u001b[38;5;28;01melse\u001b[39;00m:\n\u001b[0;32m    859\u001b[0m         kwds \u001b[38;5;241m=\u001b[39m \u001b[38;5;28mself\u001b[39m\u001b[38;5;241m.\u001b[39meffective_metric_params_\n\u001b[1;32m--> 861\u001b[0m     chunked_results \u001b[38;5;241m=\u001b[39m \u001b[38;5;28mlist\u001b[39m(\n\u001b[0;32m    862\u001b[0m         pairwise_distances_chunked(\n\u001b[0;32m    863\u001b[0m             X,\n\u001b[0;32m    864\u001b[0m             \u001b[38;5;28mself\u001b[39m\u001b[38;5;241m.\u001b[39m_fit_X,\n\u001b[0;32m    865\u001b[0m             reduce_func\u001b[38;5;241m=\u001b[39mreduce_func,\n\u001b[0;32m    866\u001b[0m             metric\u001b[38;5;241m=\u001b[39m\u001b[38;5;28mself\u001b[39m\u001b[38;5;241m.\u001b[39meffective_metric_,\n\u001b[0;32m    867\u001b[0m             n_jobs\u001b[38;5;241m=\u001b[39mn_jobs,\n\u001b[0;32m    868\u001b[0m             \u001b[38;5;241m*\u001b[39m\u001b[38;5;241m*\u001b[39mkwds,\n\u001b[0;32m    869\u001b[0m         )\n\u001b[0;32m    870\u001b[0m     )\n\u001b[0;32m    872\u001b[0m \u001b[38;5;28;01melif\u001b[39;00m \u001b[38;5;28mself\u001b[39m\u001b[38;5;241m.\u001b[39m_fit_method \u001b[38;5;129;01min\u001b[39;00m [\u001b[38;5;124m\"\u001b[39m\u001b[38;5;124mball_tree\u001b[39m\u001b[38;5;124m\"\u001b[39m, \u001b[38;5;124m\"\u001b[39m\u001b[38;5;124mkd_tree\u001b[39m\u001b[38;5;124m\"\u001b[39m]:\n\u001b[0;32m    873\u001b[0m     \u001b[38;5;28;01mif\u001b[39;00m issparse(X):\n",
      "File \u001b[1;32m~\\AppData\\Roaming\\Python\\Python311\\site-packages\\sklearn\\metrics\\pairwise.py:1876\u001b[0m, in \u001b[0;36mpairwise_distances_chunked\u001b[1;34m(X, Y, reduce_func, metric, n_jobs, working_memory, **kwds)\u001b[0m\n\u001b[0;32m   1874\u001b[0m \u001b[38;5;28;01mif\u001b[39;00m reduce_func \u001b[38;5;129;01mis\u001b[39;00m \u001b[38;5;129;01mnot\u001b[39;00m \u001b[38;5;28;01mNone\u001b[39;00m:\n\u001b[0;32m   1875\u001b[0m     chunk_size \u001b[38;5;241m=\u001b[39m D_chunk\u001b[38;5;241m.\u001b[39mshape[\u001b[38;5;241m0\u001b[39m]\n\u001b[1;32m-> 1876\u001b[0m     D_chunk \u001b[38;5;241m=\u001b[39m reduce_func(D_chunk, sl\u001b[38;5;241m.\u001b[39mstart)\n\u001b[0;32m   1877\u001b[0m     _check_chunk_size(D_chunk, chunk_size)\n\u001b[0;32m   1878\u001b[0m \u001b[38;5;28;01myield\u001b[39;00m D_chunk\n",
      "File \u001b[1;32m~\\AppData\\Roaming\\Python\\Python311\\site-packages\\sklearn\\neighbors\\_base.py:719\u001b[0m, in \u001b[0;36mKNeighborsMixin._kneighbors_reduce_func\u001b[1;34m(self, dist, start, n_neighbors, return_distance)\u001b[0m\n\u001b[0;32m    692\u001b[0m \u001b[38;5;250m\u001b[39m\u001b[38;5;124;03m\"\"\"Reduce a chunk of distances to the nearest neighbors.\u001b[39;00m\n\u001b[0;32m    693\u001b[0m \n\u001b[0;32m    694\u001b[0m \u001b[38;5;124;03mCallback to :func:`sklearn.metrics.pairwise.pairwise_distances_chunked`\u001b[39;00m\n\u001b[1;32m   (...)\u001b[0m\n\u001b[0;32m    716\u001b[0m \u001b[38;5;124;03m    The neighbors indices.\u001b[39;00m\n\u001b[0;32m    717\u001b[0m \u001b[38;5;124;03m\"\"\"\u001b[39;00m\n\u001b[0;32m    718\u001b[0m sample_range \u001b[38;5;241m=\u001b[39m np\u001b[38;5;241m.\u001b[39marange(dist\u001b[38;5;241m.\u001b[39mshape[\u001b[38;5;241m0\u001b[39m])[:, \u001b[38;5;28;01mNone\u001b[39;00m]\n\u001b[1;32m--> 719\u001b[0m neigh_ind \u001b[38;5;241m=\u001b[39m np\u001b[38;5;241m.\u001b[39margpartition(dist, n_neighbors \u001b[38;5;241m-\u001b[39m \u001b[38;5;241m1\u001b[39m, axis\u001b[38;5;241m=\u001b[39m\u001b[38;5;241m1\u001b[39m)\n\u001b[0;32m    720\u001b[0m neigh_ind \u001b[38;5;241m=\u001b[39m neigh_ind[:, :n_neighbors]\n\u001b[0;32m    721\u001b[0m \u001b[38;5;66;03m# argpartition doesn't guarantee sorted order, so we sort again\u001b[39;00m\n",
      "File \u001b[1;32m<__array_function__ internals>:200\u001b[0m, in \u001b[0;36margpartition\u001b[1;34m(*args, **kwargs)\u001b[0m\n",
      "File \u001b[1;32mC:\\ProgramData\\anaconda3\\Lib\\site-packages\\numpy\\core\\fromnumeric.py:871\u001b[0m, in \u001b[0;36margpartition\u001b[1;34m(a, kth, axis, kind, order)\u001b[0m\n\u001b[0;32m    792\u001b[0m \u001b[38;5;129m@array_function_dispatch\u001b[39m(_argpartition_dispatcher)\n\u001b[0;32m    793\u001b[0m \u001b[38;5;28;01mdef\u001b[39;00m \u001b[38;5;21margpartition\u001b[39m(a, kth, axis\u001b[38;5;241m=\u001b[39m\u001b[38;5;241m-\u001b[39m\u001b[38;5;241m1\u001b[39m, kind\u001b[38;5;241m=\u001b[39m\u001b[38;5;124m'\u001b[39m\u001b[38;5;124mintroselect\u001b[39m\u001b[38;5;124m'\u001b[39m, order\u001b[38;5;241m=\u001b[39m\u001b[38;5;28;01mNone\u001b[39;00m):\n\u001b[0;32m    794\u001b[0m \u001b[38;5;250m    \u001b[39m\u001b[38;5;124;03m\"\"\"\u001b[39;00m\n\u001b[0;32m    795\u001b[0m \u001b[38;5;124;03m    Perform an indirect partition along the given axis using the\u001b[39;00m\n\u001b[0;32m    796\u001b[0m \u001b[38;5;124;03m    algorithm specified by the `kind` keyword. It returns an array of\u001b[39;00m\n\u001b[1;32m   (...)\u001b[0m\n\u001b[0;32m    869\u001b[0m \n\u001b[0;32m    870\u001b[0m \u001b[38;5;124;03m    \"\"\"\u001b[39;00m\n\u001b[1;32m--> 871\u001b[0m     \u001b[38;5;28;01mreturn\u001b[39;00m _wrapfunc(a, \u001b[38;5;124m'\u001b[39m\u001b[38;5;124margpartition\u001b[39m\u001b[38;5;124m'\u001b[39m, kth, axis\u001b[38;5;241m=\u001b[39maxis, kind\u001b[38;5;241m=\u001b[39mkind, order\u001b[38;5;241m=\u001b[39morder)\n",
      "File \u001b[1;32mC:\\ProgramData\\anaconda3\\Lib\\site-packages\\numpy\\core\\fromnumeric.py:57\u001b[0m, in \u001b[0;36m_wrapfunc\u001b[1;34m(obj, method, *args, **kwds)\u001b[0m\n\u001b[0;32m     54\u001b[0m     \u001b[38;5;28;01mreturn\u001b[39;00m _wrapit(obj, method, \u001b[38;5;241m*\u001b[39margs, \u001b[38;5;241m*\u001b[39m\u001b[38;5;241m*\u001b[39mkwds)\n\u001b[0;32m     56\u001b[0m \u001b[38;5;28;01mtry\u001b[39;00m:\n\u001b[1;32m---> 57\u001b[0m     \u001b[38;5;28;01mreturn\u001b[39;00m bound(\u001b[38;5;241m*\u001b[39margs, \u001b[38;5;241m*\u001b[39m\u001b[38;5;241m*\u001b[39mkwds)\n\u001b[0;32m     58\u001b[0m \u001b[38;5;28;01mexcept\u001b[39;00m \u001b[38;5;167;01mTypeError\u001b[39;00m:\n\u001b[0;32m     59\u001b[0m     \u001b[38;5;66;03m# A TypeError occurs if the object does have such a method in its\u001b[39;00m\n\u001b[0;32m     60\u001b[0m     \u001b[38;5;66;03m# class, but its signature is not identical to that of NumPy's. This\u001b[39;00m\n\u001b[1;32m   (...)\u001b[0m\n\u001b[0;32m     64\u001b[0m     \u001b[38;5;66;03m# Call _wrapit from within the except clause to ensure a potential\u001b[39;00m\n\u001b[0;32m     65\u001b[0m     \u001b[38;5;66;03m# exception has a traceback chain.\u001b[39;00m\n\u001b[0;32m     66\u001b[0m     \u001b[38;5;28;01mreturn\u001b[39;00m _wrapit(obj, method, \u001b[38;5;241m*\u001b[39margs, \u001b[38;5;241m*\u001b[39m\u001b[38;5;241m*\u001b[39mkwds)\n",
      "\u001b[1;31mKeyboardInterrupt\u001b[0m: "
     ]
    }
   ],
   "source": [
    "x_uncut = df_cut_merged.drop('flag', axis=1)\n",
    "y = df_cut_merged.flag\n",
    "x_test_uncut = df3.drop('flag', axis=1)\n",
    "y_test = df3.flag\n",
    "\n",
    "\n",
    "for model in models:\n",
    "    print(f\"model now is {model}\")\n",
    "    cols_to_drop_this_cycle = []\n",
    "#     counter = 0\n",
    "    \n",
    "    for entry in corrs:\n",
    "        if entry[0] < 0.001:\n",
    "            cols_to_drop_this_cycle.append(entry[1])\n",
    "\n",
    "\n",
    "    for entry in corrs:\n",
    "        if entry[1] in cols_to_drop_this_cycle:\n",
    "            continue\n",
    "        \n",
    "        if len(cols_to_drop_this_cycle) >= 10:\n",
    "            break\n",
    "\n",
    "        cols_to_drop_this_cycle.append(entry[1])\n",
    "        \n",
    "        x = x_uncut.drop(cols_to_drop_this_cycle, axis=1)\n",
    "        x_test = x_test_uncut.drop(cols_to_drop_this_cycle, axis=1)\n",
    "        \n",
    "        model.fit(x,y)\n",
    "        \n",
    "\n",
    "\n",
    "\n",
    "        y_pred_prob = model.predict_proba(x_test)[:, 1]\n",
    "        roc_auc = roc_auc_score(y_test, y_pred_prob)\n",
    "        print(f\"ROC AUC Score:\", roc_auc)\n",
    "#         print(f\"test {len(cols_to_drop_this_cycle)}\")\n",
    "#         counter += 1\n",
    "    \n",
    "    \n",
    "\n",
    "    "
   ]
  },
  {
   "cell_type": "markdown",
   "id": "92e3c012",
   "metadata": {},
   "source": [
    "# результат - явный поворот не туда. \n",
    "1) нетюненная модель на сете из двух чанков на третьем тестовом дает аук так же 0,60 - 0,62 - не вижу смысла даже с гридсерчем заморачиваться"
   ]
  },
  {
   "cell_type": "markdown",
   "id": "cf59a5dc",
   "metadata": {},
   "source": [
    "# 5 гиппотеза, инжиниринг тайм!\n",
    "\n",
    "инжиниринг тайм!\n",
    "1) удалим колонки с \"плановыми\" значениями \n",
    "\n",
    "2) удалим колонки со статусами ежемесячных платежей за последние N месяцев - их много и они бестолковые\n",
    "\n",
    "3) колонки \"нет просрочек более N дней\" соберем в одну - чем больше просрочек, тем больше цифра у по клиенту.\n",
    "\n",
    "4) колонки \"число просрочек на N дней\" тоже собрем в одну \n",
    "\n",
    "5) количество дней с открытия и с даты подтверждения до даты сбора данных тоже долой - не вижу смысловой нагрузки в них долгосрочной в текущей задаче\n",
    " \n",
    "6) напрашивающаяся колонка - если фактическое количество дней pre_fterm меньше планового pre_pterm по закрытию - единичка, ну а если нет - ну.. не единичка:)\n",
    "\n"
   ]
  },
  {
   "cell_type": "code",
   "execution_count": 20,
   "id": "f3b11884",
   "metadata": {},
   "outputs": [],
   "source": [
    "df = fastparquet.ParquetFile('train_data/train_data_0.pq').to_pandas()\n",
    "df = pd.merge(df, answers, on='id', how='left')"
   ]
  },
  {
   "cell_type": "code",
   "execution_count": 21,
   "id": "71cea7d6",
   "metadata": {},
   "outputs": [],
   "source": [
    "cols_to_drop = []\n",
    "for entry in df.columns:\n",
    "    if 'enc_paym_' in entry :\n",
    "        cols_to_drop.append(entry)\n",
    "        \n",
    "cols_to_drop = cols_to_drop + ['pre_till_fclose', 'pre_till_pclose', 'pre_since_opened', 'pre_since_confirmed', 'pclose_flag']\n",
    "    "
   ]
  },
  {
   "cell_type": "code",
   "execution_count": 22,
   "id": "a3690547",
   "metadata": {},
   "outputs": [],
   "source": [
    "df['closed_faster_than_expected'] = df['pre_fterm'] < df['pre_pterm'] \n",
    "df['closed_faster_than_expected'] = df['closed_faster_than_expected'].apply(lambda x: int(x))"
   ]
  },
  {
   "cell_type": "code",
   "execution_count": 25,
   "id": "b87aa3cc",
   "metadata": {},
   "outputs": [],
   "source": [
    "df['overdue_severity'] = 5 - (df['is_zero_loans5'] + df['is_zero_loans530'] + df['is_zero_loans3060'] + df['is_zero_loans6090'] + df['is_zero_loans90']) "
   ]
  },
  {
   "cell_type": "code",
   "execution_count": 26,
   "id": "1a31e1fe",
   "metadata": {},
   "outputs": [],
   "source": [
    "df['prone_to_overdue'] = 0"
   ]
  },
  {
   "cell_type": "code",
   "execution_count": 30,
   "id": "06aa0d2e",
   "metadata": {},
   "outputs": [],
   "source": [
    "# Далее первичный код, без использования sql-библиотеки - ооооочень долго. Запускать на свой страх и риск:)\n",
    "\n",
    "# он в \"марке\" чтобы не запустить случайно"
   ]
  },
  {
   "cell_type": "markdown",
   "id": "0f3ace66",
   "metadata": {},
   "source": [
    "for entry in df.id.unique():\n",
    "    df.loc[df.id == entry, 'prone_to_overdue'] = sum(df[df.id == entry]['overdue_severity'])"
   ]
  },
  {
   "cell_type": "code",
   "execution_count": 27,
   "id": "1a9dfab9",
   "metadata": {},
   "outputs": [],
   "source": [
    "#далее его новая версия, работает сильно быстрее\n",
    "    \n",
    "con = duckdb.connect(':memory:')\n",
    "\n",
    "# new column, product-wise\n",
    "df['overdue_severity'] = df['is_zero_loans5'] + df['is_zero_loans530']*2 + df['is_zero_loans3060']*3 + df['is_zero_loans6090']*4 + df['is_zero_loans90']*5\n",
    "\n",
    "result = con.execute('''\n",
    "SELECT id, \n",
    "cast(SUM(overdue_severity) as float) / max(rn) AS prone_to_overdue\n",
    "FROM df\n",
    "GROUP BY id\n",
    "'''\n",
    "                    ).fetchall()\n",
    "\n",
    "result = pd.DataFrame.from_records(result, columns=['id','prone_to_overdue'])\n",
    "df = pd.merge(result, df, on='id', how='left')\n"
   ]
  },
  {
   "cell_type": "code",
   "execution_count": 28,
   "id": "b70bb0f4",
   "metadata": {},
   "outputs": [],
   "source": [
    "df['prone_to_close_faster'] = 0"
   ]
  },
  {
   "cell_type": "code",
   "execution_count": 42,
   "id": "08f51238",
   "metadata": {},
   "outputs": [],
   "source": [
    "# так же беда - очень долгий код, оставляю в марке для истории"
   ]
  },
  {
   "cell_type": "markdown",
   "id": "41927f3b",
   "metadata": {},
   "source": [
    "for entry in df.id.unique():\n",
    "    df.loc[df.id == entry, 'prone_to_close_faster'] = sum(df[df.id == entry]['closed_faster_than_expected'])"
   ]
  },
  {
   "cell_type": "markdown",
   "id": "dc865e02",
   "metadata": {},
   "source": [
    "new_columns = df[['id', 'closed_faster_than_expected', 'prone_to_overdue', 'overdue_severity', 'prone_to_close_faster']]"
   ]
  },
  {
   "cell_type": "markdown",
   "id": "df4e853d",
   "metadata": {},
   "source": [
    "new_columns.to_csv('train_data/part_0_eng_cols_1')"
   ]
  },
  {
   "cell_type": "code",
   "execution_count": 29,
   "id": "3cb7c927",
   "metadata": {},
   "outputs": [],
   "source": [
    "con = duckdb.connect(':memory:')\n",
    "\n",
    "# new column, product-wise\n",
    "df['closed_faster_than_expected'] = df['pre_fterm'] < df['pre_pterm'] \n",
    "df['closed_faster_than_expected'] = df['closed_faster_than_expected'].apply(lambda x: int(x))\n",
    "\n",
    "result = con.execute('''\n",
    "SELECT id, \n",
    "cast(SUM(closed_faster_than_expected) as float) / max(rn) as prone_to_close_faster\n",
    "FROM df\n",
    "GROUP BY id\n",
    "'''\n",
    "                    ).fetchall()\n",
    "\n",
    "result = pd.DataFrame.from_records(result, columns=['id', 'prone_to_close_faster'])\n",
    "df = pd.merge(result, df, on='id', how='left')\n"
   ]
  },
  {
   "cell_type": "code",
   "execution_count": null,
   "id": "46167b6a",
   "metadata": {},
   "outputs": [],
   "source": []
  },
  {
   "cell_type": "code",
   "execution_count": 30,
   "id": "0f2c693f",
   "metadata": {},
   "outputs": [],
   "source": [
    "df = fastparquet.ParquetFile('train_data/train_data_0.pq').to_pandas()\n",
    "df = pd.merge(df, answers, on='id', how='left')\n",
    "df = overdue_and_quick_closure_duck(df)\n",
    "\n",
    "\n",
    "df2 = fastparquet.ParquetFile('train_data/train_data_0.pq').to_pandas()\n",
    "df2 = pd.merge(df2, answers, on='id', how='left')\n",
    "df2 = overdue_and_quick_closure_duck(df2)\n",
    "# df['flag'] = df['flag_y']\n",
    "# df = df.drop('flag_y', axis=1)"
   ]
  },
  {
   "cell_type": "code",
   "execution_count": 31,
   "id": "d44b1923",
   "metadata": {},
   "outputs": [],
   "source": [
    "pos_share = 45\n",
    "df_cut = sample_df(\n",
    "    df, \n",
    "    round(df.flag.value_counts()[1] / pos_share * 100 + 1, 0),\n",
    "    100 - pos_share,\n",
    "    pos_share\n",
    ")"
   ]
  },
  {
   "cell_type": "code",
   "execution_count": 32,
   "id": "4cd02a27",
   "metadata": {},
   "outputs": [],
   "source": [
    "models = [\n",
    "#     KNeighborsClassifier(),\n",
    "#     SVC(),\n",
    "    RandomForestClassifier(),\n",
    "    MLPClassifier(),\n",
    "#     LogisticRegression(),\n",
    "#     DecisionTreeClassifier(),\n",
    "    GaussianNB(),\n",
    "]\n",
    "#     xgb(),\n",
    "#     lgb(),\n",
    "# ]"
   ]
  },
  {
   "cell_type": "code",
   "execution_count": 33,
   "id": "739754c4",
   "metadata": {},
   "outputs": [],
   "source": [
    "x = df_cut.drop(cols_to_drop + ['flag'], axis=1)\n",
    "y = df_cut.flag"
   ]
  },
  {
   "cell_type": "code",
   "execution_count": 34,
   "id": "b6449c6f",
   "metadata": {},
   "outputs": [],
   "source": [
    "results_dict = dict()"
   ]
  },
  {
   "cell_type": "code",
   "execution_count": 40,
   "id": "f72ca6d3",
   "metadata": {},
   "outputs": [],
   "source": [
    "for model in models:\n",
    "    \n",
    "    cv_scores = cross_val_score(model, x, y, cv=3, scoring='roc_auc')\n",
    "    results_dict[str(model)[0:str(model).find('(')]] = mean(cv_scores)\n"
   ]
  },
  {
   "cell_type": "code",
   "execution_count": 41,
   "id": "ebea6a5b",
   "metadata": {},
   "outputs": [
    {
     "data": {
      "text/plain": [
       "{'RandomForestClassifier': 0.7113122571123972,\n",
       " 'MLPClassifier': 0.51348939821603,\n",
       " 'GaussianNB': 0.6148964537434725}"
      ]
     },
     "execution_count": 41,
     "metadata": {},
     "output_type": "execute_result"
    }
   ],
   "source": [
    "results_dict"
   ]
  },
  {
   "cell_type": "code",
   "execution_count": 36,
   "id": "54c1e955",
   "metadata": {},
   "outputs": [
    {
     "name": "stderr",
     "output_type": "stream",
     "text": [
      "C:\\Users\\User\\AppData\\Local\\Temp\\ipykernel_12784\\927631884.py:6: TqdmDeprecationWarning: This function will be removed in tqdm==5.0.0\n",
      "Please use `tqdm.notebook.tqdm` instead of `tqdm.tqdm_notebook`\n",
      "  for model in tqdm.tqdm_notebook(models, desc=f\"Now {str(model)[0:str(model).find('(')]} working\"):\n"
     ]
    },
    {
     "data": {
      "application/vnd.jupyter.widget-view+json": {
       "model_id": "1874add5705142828189ad201e015c4f",
       "version_major": 2,
       "version_minor": 0
      },
      "text/plain": [
       "Now RandomForestClassifier working:   0%|          | 0/3 [00:00<?, ?it/s]"
      ]
     },
     "metadata": {},
     "output_type": "display_data"
    },
    {
     "data": {
      "text/plain": [
       "{'RandomForestClassifier': 0.9926871733536528,\n",
       " 'MLPClassifier': 0.5285025487207592,\n",
       " 'GaussianNB': 0.6106061630213018}"
      ]
     },
     "execution_count": 36,
     "metadata": {},
     "output_type": "execute_result"
    }
   ],
   "source": [
    "results_dict = dict()\n",
    "\n",
    "x_test = df2.drop('flag', axis=1)\n",
    "y_test = df2.flag\n",
    "\n",
    "for model in tqdm.tqdm_notebook(models, desc=f\"Now {str(model)[0:str(model).find('(')]} working\"):\n",
    "    results_current_model = []\n",
    "#     for i in range(1):\n",
    "\n",
    "    x = df_cut.drop('flag', axis=1)\n",
    "    y = df_cut.flag\n",
    "\n",
    "    model.fit(x,y)\n",
    "\n",
    "    y_pred_prob = model.predict_proba(x_test)[:, 1]\n",
    "\n",
    "    roc_auc = roc_auc_score(y_test, y_pred_prob)\n",
    "\n",
    "    results_current_model.append(roc_auc)\n",
    "        \n",
    "    results_dict[str(model)[0:str(model).find('(')]] = results_current_model[0]\n",
    "results_dict"
   ]
  },
  {
   "cell_type": "code",
   "execution_count": 37,
   "id": "753b1cdc",
   "metadata": {},
   "outputs": [],
   "source": [
    "share = 45\n",
    "df_cut_2 = sample_df(\n",
    "    df2, \n",
    "    round(df.flag.value_counts()[1] / share * 100 + 1, 0),\n",
    "    100 - share,\n",
    "    share\n",
    ")"
   ]
  },
  {
   "cell_type": "code",
   "execution_count": 38,
   "id": "43735c0e",
   "metadata": {},
   "outputs": [],
   "source": [
    "x = df_cut_2.drop(cols_to_drop + ['flag'], axis=1)\n",
    "y = df_cut_2.flag"
   ]
  },
  {
   "cell_type": "code",
   "execution_count": 39,
   "id": "843663dd",
   "metadata": {},
   "outputs": [],
   "source": [
    "results_dict = dict()"
   ]
  },
  {
   "cell_type": "code",
   "execution_count": 40,
   "id": "6a8e8e2b",
   "metadata": {},
   "outputs": [],
   "source": [
    "for model in models:\n",
    "    \n",
    "    cv_scores = cross_val_score(model, x, y, cv=3, scoring='roc_auc')\n",
    "    results_dict[str(model)[0:str(model).find('(')]] = mean(cv_scores)\n"
   ]
  },
  {
   "cell_type": "code",
   "execution_count": 41,
   "id": "cbb4b4df",
   "metadata": {},
   "outputs": [
    {
     "data": {
      "text/plain": [
       "{'RandomForestClassifier': 0.7101708991792263,\n",
       " 'MLPClassifier': 0.5164326825368776,\n",
       " 'GaussianNB': 0.6122935293058482}"
      ]
     },
     "execution_count": 41,
     "metadata": {},
     "output_type": "execute_result"
    }
   ],
   "source": [
    "results_dict"
   ]
  },
  {
   "cell_type": "markdown",
   "id": "faf35a40",
   "metadata": {},
   "source": [
    "# результат\n",
    "вообще непонятно!\n",
    "проверял на двух кусках - на одном лес дал 0,7, остальные ничего особенного\n",
    "\n",
    "в теории инжиниринг имеет место быть, но нужно больше"
   ]
  },
  {
   "cell_type": "markdown",
   "id": "4c41cbd0",
   "metadata": {},
   "source": [
    "# 7 гиппотеза. голосование моделей. попробуем на сете сразу из трех чанков."
   ]
  },
  {
   "cell_type": "markdown",
   "id": "02586084",
   "metadata": {},
   "source": [
    "порядок работы в этой гиппотезе такой:\n",
    "1) раз делать хотим из 3х чанков - нужен 4й для валидации. распакуем спарком еще кусок данных в цсв\n",
    "2) делаем сбалансированный сет из трех чанков, валидируем CV-шкой, записываем 3 лучшие модели (или 2?) и результаты\n",
    "2.1) а вот вопрос - как делать голосование - большинством (и тогда 3 модели) или по большей вероятности? (и тогда 2 модели)\n",
    "2.2) валидируем вручную на трейне, 3 прогона, среднее, записываем\n",
    "3) валидируем на тесте (сет из 4-го куска данных (боже как я ненавиижу слово \"чанк\" в переложении на русский) человека, который придумал ввести его в обиход в траскрипции без изменений нужно насильно отлучить от русского!)\n",
    "3) так вот. записываем результаты по каждой модели\n",
    "4) валидируем на трейне большинством\n",
    "5) валидируем на трейне по большей вероятности\n",
    "6) валидируем на тесте большинством\n",
    "7) валидируем на тесте по большей вероятности\n",
    "8) расстраиваемся, что опять нифига не получилось"
   ]
  },
  {
   "cell_type": "code",
   "execution_count": 44,
   "id": "4dde6eaa",
   "metadata": {},
   "outputs": [],
   "source": [
    "df = fastparquet.ParquetFile('train_data/train_data_0.pq').to_pandas()\n",
    "df = answers_func(df)\n",
    "df2 = fastparquet.ParquetFile('train_data/train_data_1.pq').to_pandas()\n",
    "df2 = answers_func(df2)\n",
    "df3 = fastparquet.ParquetFile('train_data/train_data_2.pq').to_pandas()\n",
    "df3 = answers_func(df3)"
   ]
  },
  {
   "cell_type": "code",
   "execution_count": 45,
   "id": "74dca6fd",
   "metadata": {},
   "outputs": [],
   "source": [
    "share = 45\n",
    "\n",
    "df_cut_1 = sample_df(\n",
    "    df, \n",
    "    round(df.flag.value_counts()[1] / share * 100 + 1, 0),\n",
    "    100 - share,\n",
    "    share\n",
    ")\n",
    "\n",
    "df_cut_2 = sample_df(\n",
    "    df2, \n",
    "    round(df2.flag.value_counts()[1] / share * 100 + 1, 0),\n",
    "    100 - share,\n",
    "    share\n",
    ")\n",
    "\n",
    "df_cut_3 = sample_df(\n",
    "    df3, \n",
    "    round(df3.flag.value_counts()[1] / share * 100 + 1, 0),\n",
    "    100 - share,\n",
    "    share\n",
    ")\n",
    "\n",
    "df = None\n",
    "df2 = None\n",
    "df3 = None"
   ]
  },
  {
   "cell_type": "code",
   "execution_count": 46,
   "id": "94cf0e57",
   "metadata": {},
   "outputs": [],
   "source": [
    "df_cut_merged = pd.concat([df_cut_1, df_cut_2, df_cut_3], ignore_index=True)\n"
   ]
  },
  {
   "cell_type": "code",
   "execution_count": 50,
   "id": "df12190b",
   "metadata": {},
   "outputs": [
    {
     "data": {
      "text/plain": [
       "flag\n",
       "0    110000\n",
       "1     90000\n",
       "Name: count, dtype: int64"
      ]
     },
     "execution_count": 50,
     "metadata": {},
     "output_type": "execute_result"
    }
   ],
   "source": [
    "df_cut_merged.flag.value_counts()"
   ]
  },
  {
   "cell_type": "code",
   "execution_count": 51,
   "id": "dbbfdb8a",
   "metadata": {},
   "outputs": [],
   "source": [
    "models = [\n",
    "#     KNeighborsClassifier(),\n",
    "#     SVC(),\n",
    "    RandomForestClassifier(),\n",
    "    MLPClassifier(),\n",
    "#     LogisticRegression(),\n",
    "#     DecisionTreeClassifier(),\n",
    "    GaussianNB(),\n",
    "]\n",
    "#     xgb(),\n",
    "#     lgb(),\n",
    "# ]"
   ]
  },
  {
   "cell_type": "code",
   "execution_count": 52,
   "id": "9a8731fb",
   "metadata": {},
   "outputs": [],
   "source": [
    "df_cut_merged = sample_df(df_cut_merged, 200000, 55, 45)"
   ]
  },
  {
   "cell_type": "code",
   "execution_count": 53,
   "id": "902f774c",
   "metadata": {},
   "outputs": [],
   "source": [
    "x = df_cut_merged.drop('flag', axis=1)\n",
    "y = df_cut_merged.flag"
   ]
  },
  {
   "cell_type": "code",
   "execution_count": 31,
   "id": "707729db",
   "metadata": {},
   "outputs": [],
   "source": [
    "results_dict = dict()"
   ]
  },
  {
   "cell_type": "code",
   "execution_count": null,
   "id": "a5ffab99",
   "metadata": {},
   "outputs": [],
   "source": []
  },
  {
   "cell_type": "code",
   "execution_count": null,
   "id": "f22a4c43",
   "metadata": {},
   "outputs": [],
   "source": []
  },
  {
   "cell_type": "code",
   "execution_count": null,
   "id": "30ef696e",
   "metadata": {},
   "outputs": [],
   "source": []
  },
  {
   "cell_type": "code",
   "execution_count": 55,
   "id": "b3810d7c",
   "metadata": {},
   "outputs": [],
   "source": [
    "df = fastparquet.ParquetFile('train_data/train_data_0.pq').to_pandas()\n",
    "df = answers_func(df)\n",
    "df2 = fastparquet.ParquetFile('train_data/train_data_1.pq').to_pandas()\n",
    "df2 = answers_func(df2)\n",
    "\n",
    "share = 45\n",
    "\n",
    "df_cut_1 = sample_df(\n",
    "    df, \n",
    "    round(df.flag.value_counts()[1] / share * 100 + 1, 0),\n",
    "    100 - share,\n",
    "    share\n",
    ")\n",
    "\n",
    "df_cut_2 = sample_df(\n",
    "    df2, \n",
    "    round(df2.flag.value_counts()[1] / share * 100 + 1, 0),\n",
    "    100 - share,\n",
    "    share\n",
    ")\n",
    "\n",
    "df_cut_merged = pd.concat([df_cut_1, df_cut_2], ignore_index=True)\n",
    "df3 = fastparquet.ParquetFile('train_data/train_data_2.pq').to_pandas()\n",
    "df3 = answers_func(df3)"
   ]
  },
  {
   "cell_type": "code",
   "execution_count": 56,
   "id": "95b6ae7a",
   "metadata": {},
   "outputs": [],
   "source": [
    "roc_auc_scorer = make_scorer(roc_auc_score, greater_is_better=True, needs_proba=True)"
   ]
  },
  {
   "cell_type": "code",
   "execution_count": 57,
   "id": "375e21f3",
   "metadata": {},
   "outputs": [],
   "source": [
    "x = df_cut_merged.drop('flag', axis=1)\n",
    "y = df_cut_merged.flag"
   ]
  },
  {
   "cell_type": "code",
   "execution_count": 64,
   "id": "47b02e0c",
   "metadata": {},
   "outputs": [
    {
     "name": "stderr",
     "output_type": "stream",
     "text": [
      "C:\\Users\\User\\AppData\\Local\\Temp\\ipykernel_12784\\2324247700.py:4: TqdmDeprecationWarning: This function will be removed in tqdm==5.0.0\n",
      "Please use `tqdm.notebook.tqdm` instead of `tqdm.tqdm_notebook`\n",
      "  for model in tqdm.tqdm_notebook(models, desc=f'now working {model}'):\n"
     ]
    },
    {
     "data": {
      "application/vnd.jupyter.widget-view+json": {
       "model_id": "ee11dc1fd2494300a5fce0dbb26f8614",
       "version_major": 2,
       "version_minor": 0
      },
      "text/plain": [
       "now working RandomForestClassifier():   0%|          | 0/3 [00:00<?, ?it/s]"
      ]
     },
     "metadata": {},
     "output_type": "display_data"
    },
    {
     "name": "stdout",
     "output_type": "stream",
     "text": [
      "0.6263367989965528\n",
      "0.5\n",
      "0.5813534738284672\n"
     ]
    }
   ],
   "source": [
    "x_test = df3.drop('flag', axis=1)\n",
    "y_test = df3.flag\n",
    "\n",
    "for model in tqdm.tqdm_notebook(models, desc=f'now working {model}'):\n",
    "    model.fit(x,y)\n",
    "#     y_pred = model.predict(x_test)\n",
    "    \n",
    "    print( roc_auc_scorer(model, x_test, y_test))\n",
    "\n",
    "    "
   ]
  },
  {
   "cell_type": "code",
   "execution_count": 67,
   "id": "09aa4999",
   "metadata": {},
   "outputs": [
    {
     "ename": "KeyboardInterrupt",
     "evalue": "",
     "output_type": "error",
     "traceback": [
      "\u001b[1;31m---------------------------------------------------------------------------\u001b[0m",
      "\u001b[1;31mKeyboardInterrupt\u001b[0m                         Traceback (most recent call last)",
      "Cell \u001b[1;32mIn[67], line 1\u001b[0m\n\u001b[1;32m----> 1\u001b[0m models[\u001b[38;5;241m0\u001b[39m]\u001b[38;5;241m.\u001b[39mpredict_proba(x_test)\n",
      "File \u001b[1;32m~\\AppData\\Roaming\\Python\\Python311\\site-packages\\sklearn\\ensemble\\_forest.py:873\u001b[0m, in \u001b[0;36mForestClassifier.predict_proba\u001b[1;34m(self, X)\u001b[0m\n\u001b[0;32m    868\u001b[0m all_proba \u001b[38;5;241m=\u001b[39m [\n\u001b[0;32m    869\u001b[0m     np\u001b[38;5;241m.\u001b[39mzeros((X\u001b[38;5;241m.\u001b[39mshape[\u001b[38;5;241m0\u001b[39m], j), dtype\u001b[38;5;241m=\u001b[39mnp\u001b[38;5;241m.\u001b[39mfloat64)\n\u001b[0;32m    870\u001b[0m     \u001b[38;5;28;01mfor\u001b[39;00m j \u001b[38;5;129;01min\u001b[39;00m np\u001b[38;5;241m.\u001b[39matleast_1d(\u001b[38;5;28mself\u001b[39m\u001b[38;5;241m.\u001b[39mn_classes_)\n\u001b[0;32m    871\u001b[0m ]\n\u001b[0;32m    872\u001b[0m lock \u001b[38;5;241m=\u001b[39m threading\u001b[38;5;241m.\u001b[39mLock()\n\u001b[1;32m--> 873\u001b[0m Parallel(n_jobs\u001b[38;5;241m=\u001b[39mn_jobs, verbose\u001b[38;5;241m=\u001b[39m\u001b[38;5;28mself\u001b[39m\u001b[38;5;241m.\u001b[39mverbose, require\u001b[38;5;241m=\u001b[39m\u001b[38;5;124m\"\u001b[39m\u001b[38;5;124msharedmem\u001b[39m\u001b[38;5;124m\"\u001b[39m)(\n\u001b[0;32m    874\u001b[0m     delayed(_accumulate_prediction)(e\u001b[38;5;241m.\u001b[39mpredict_proba, X, all_proba, lock)\n\u001b[0;32m    875\u001b[0m     \u001b[38;5;28;01mfor\u001b[39;00m e \u001b[38;5;129;01min\u001b[39;00m \u001b[38;5;28mself\u001b[39m\u001b[38;5;241m.\u001b[39mestimators_\n\u001b[0;32m    876\u001b[0m )\n\u001b[0;32m    878\u001b[0m \u001b[38;5;28;01mfor\u001b[39;00m proba \u001b[38;5;129;01min\u001b[39;00m all_proba:\n\u001b[0;32m    879\u001b[0m     proba \u001b[38;5;241m/\u001b[39m\u001b[38;5;241m=\u001b[39m \u001b[38;5;28mlen\u001b[39m(\u001b[38;5;28mself\u001b[39m\u001b[38;5;241m.\u001b[39mestimators_)\n",
      "File \u001b[1;32m~\\AppData\\Roaming\\Python\\Python311\\site-packages\\sklearn\\utils\\parallel.py:63\u001b[0m, in \u001b[0;36mParallel.__call__\u001b[1;34m(self, iterable)\u001b[0m\n\u001b[0;32m     58\u001b[0m config \u001b[38;5;241m=\u001b[39m get_config()\n\u001b[0;32m     59\u001b[0m iterable_with_config \u001b[38;5;241m=\u001b[39m (\n\u001b[0;32m     60\u001b[0m     (_with_config(delayed_func, config), args, kwargs)\n\u001b[0;32m     61\u001b[0m     \u001b[38;5;28;01mfor\u001b[39;00m delayed_func, args, kwargs \u001b[38;5;129;01min\u001b[39;00m iterable\n\u001b[0;32m     62\u001b[0m )\n\u001b[1;32m---> 63\u001b[0m \u001b[38;5;28;01mreturn\u001b[39;00m \u001b[38;5;28msuper\u001b[39m()\u001b[38;5;241m.\u001b[39m\u001b[38;5;21m__call__\u001b[39m(iterable_with_config)\n",
      "File \u001b[1;32mC:\\ProgramData\\anaconda3\\Lib\\site-packages\\joblib\\parallel.py:1088\u001b[0m, in \u001b[0;36mParallel.__call__\u001b[1;34m(self, iterable)\u001b[0m\n\u001b[0;32m   1085\u001b[0m \u001b[38;5;28;01mif\u001b[39;00m \u001b[38;5;28mself\u001b[39m\u001b[38;5;241m.\u001b[39mdispatch_one_batch(iterator):\n\u001b[0;32m   1086\u001b[0m     \u001b[38;5;28mself\u001b[39m\u001b[38;5;241m.\u001b[39m_iterating \u001b[38;5;241m=\u001b[39m \u001b[38;5;28mself\u001b[39m\u001b[38;5;241m.\u001b[39m_original_iterator \u001b[38;5;129;01mis\u001b[39;00m \u001b[38;5;129;01mnot\u001b[39;00m \u001b[38;5;28;01mNone\u001b[39;00m\n\u001b[1;32m-> 1088\u001b[0m \u001b[38;5;28;01mwhile\u001b[39;00m \u001b[38;5;28mself\u001b[39m\u001b[38;5;241m.\u001b[39mdispatch_one_batch(iterator):\n\u001b[0;32m   1089\u001b[0m     \u001b[38;5;28;01mpass\u001b[39;00m\n\u001b[0;32m   1091\u001b[0m \u001b[38;5;28;01mif\u001b[39;00m pre_dispatch \u001b[38;5;241m==\u001b[39m \u001b[38;5;124m\"\u001b[39m\u001b[38;5;124mall\u001b[39m\u001b[38;5;124m\"\u001b[39m \u001b[38;5;129;01mor\u001b[39;00m n_jobs \u001b[38;5;241m==\u001b[39m \u001b[38;5;241m1\u001b[39m:\n\u001b[0;32m   1092\u001b[0m     \u001b[38;5;66;03m# The iterable was consumed all at once by the above for loop.\u001b[39;00m\n\u001b[0;32m   1093\u001b[0m     \u001b[38;5;66;03m# No need to wait for async callbacks to trigger to\u001b[39;00m\n\u001b[0;32m   1094\u001b[0m     \u001b[38;5;66;03m# consumption.\u001b[39;00m\n",
      "File \u001b[1;32mC:\\ProgramData\\anaconda3\\Lib\\site-packages\\joblib\\parallel.py:901\u001b[0m, in \u001b[0;36mParallel.dispatch_one_batch\u001b[1;34m(self, iterator)\u001b[0m\n\u001b[0;32m    899\u001b[0m     \u001b[38;5;28;01mreturn\u001b[39;00m \u001b[38;5;28;01mFalse\u001b[39;00m\n\u001b[0;32m    900\u001b[0m \u001b[38;5;28;01melse\u001b[39;00m:\n\u001b[1;32m--> 901\u001b[0m     \u001b[38;5;28mself\u001b[39m\u001b[38;5;241m.\u001b[39m_dispatch(tasks)\n\u001b[0;32m    902\u001b[0m     \u001b[38;5;28;01mreturn\u001b[39;00m \u001b[38;5;28;01mTrue\u001b[39;00m\n",
      "File \u001b[1;32mC:\\ProgramData\\anaconda3\\Lib\\site-packages\\joblib\\parallel.py:819\u001b[0m, in \u001b[0;36mParallel._dispatch\u001b[1;34m(self, batch)\u001b[0m\n\u001b[0;32m    817\u001b[0m \u001b[38;5;28;01mwith\u001b[39;00m \u001b[38;5;28mself\u001b[39m\u001b[38;5;241m.\u001b[39m_lock:\n\u001b[0;32m    818\u001b[0m     job_idx \u001b[38;5;241m=\u001b[39m \u001b[38;5;28mlen\u001b[39m(\u001b[38;5;28mself\u001b[39m\u001b[38;5;241m.\u001b[39m_jobs)\n\u001b[1;32m--> 819\u001b[0m     job \u001b[38;5;241m=\u001b[39m \u001b[38;5;28mself\u001b[39m\u001b[38;5;241m.\u001b[39m_backend\u001b[38;5;241m.\u001b[39mapply_async(batch, callback\u001b[38;5;241m=\u001b[39mcb)\n\u001b[0;32m    820\u001b[0m     \u001b[38;5;66;03m# A job can complete so quickly than its callback is\u001b[39;00m\n\u001b[0;32m    821\u001b[0m     \u001b[38;5;66;03m# called before we get here, causing self._jobs to\u001b[39;00m\n\u001b[0;32m    822\u001b[0m     \u001b[38;5;66;03m# grow. To ensure correct results ordering, .insert is\u001b[39;00m\n\u001b[0;32m    823\u001b[0m     \u001b[38;5;66;03m# used (rather than .append) in the following line\u001b[39;00m\n\u001b[0;32m    824\u001b[0m     \u001b[38;5;28mself\u001b[39m\u001b[38;5;241m.\u001b[39m_jobs\u001b[38;5;241m.\u001b[39minsert(job_idx, job)\n",
      "File \u001b[1;32mC:\\ProgramData\\anaconda3\\Lib\\site-packages\\joblib\\_parallel_backends.py:208\u001b[0m, in \u001b[0;36mSequentialBackend.apply_async\u001b[1;34m(self, func, callback)\u001b[0m\n\u001b[0;32m    206\u001b[0m \u001b[38;5;28;01mdef\u001b[39;00m \u001b[38;5;21mapply_async\u001b[39m(\u001b[38;5;28mself\u001b[39m, func, callback\u001b[38;5;241m=\u001b[39m\u001b[38;5;28;01mNone\u001b[39;00m):\n\u001b[0;32m    207\u001b[0m \u001b[38;5;250m    \u001b[39m\u001b[38;5;124;03m\"\"\"Schedule a func to be run\"\"\"\u001b[39;00m\n\u001b[1;32m--> 208\u001b[0m     result \u001b[38;5;241m=\u001b[39m ImmediateResult(func)\n\u001b[0;32m    209\u001b[0m     \u001b[38;5;28;01mif\u001b[39;00m callback:\n\u001b[0;32m    210\u001b[0m         callback(result)\n",
      "File \u001b[1;32mC:\\ProgramData\\anaconda3\\Lib\\site-packages\\joblib\\_parallel_backends.py:597\u001b[0m, in \u001b[0;36mImmediateResult.__init__\u001b[1;34m(self, batch)\u001b[0m\n\u001b[0;32m    594\u001b[0m \u001b[38;5;28;01mdef\u001b[39;00m \u001b[38;5;21m__init__\u001b[39m(\u001b[38;5;28mself\u001b[39m, batch):\n\u001b[0;32m    595\u001b[0m     \u001b[38;5;66;03m# Don't delay the application, to avoid keeping the input\u001b[39;00m\n\u001b[0;32m    596\u001b[0m     \u001b[38;5;66;03m# arguments in memory\u001b[39;00m\n\u001b[1;32m--> 597\u001b[0m     \u001b[38;5;28mself\u001b[39m\u001b[38;5;241m.\u001b[39mresults \u001b[38;5;241m=\u001b[39m batch()\n",
      "File \u001b[1;32mC:\\ProgramData\\anaconda3\\Lib\\site-packages\\joblib\\parallel.py:288\u001b[0m, in \u001b[0;36mBatchedCalls.__call__\u001b[1;34m(self)\u001b[0m\n\u001b[0;32m    284\u001b[0m \u001b[38;5;28;01mdef\u001b[39;00m \u001b[38;5;21m__call__\u001b[39m(\u001b[38;5;28mself\u001b[39m):\n\u001b[0;32m    285\u001b[0m     \u001b[38;5;66;03m# Set the default nested backend to self._backend but do not set the\u001b[39;00m\n\u001b[0;32m    286\u001b[0m     \u001b[38;5;66;03m# change the default number of processes to -1\u001b[39;00m\n\u001b[0;32m    287\u001b[0m     \u001b[38;5;28;01mwith\u001b[39;00m parallel_backend(\u001b[38;5;28mself\u001b[39m\u001b[38;5;241m.\u001b[39m_backend, n_jobs\u001b[38;5;241m=\u001b[39m\u001b[38;5;28mself\u001b[39m\u001b[38;5;241m.\u001b[39m_n_jobs):\n\u001b[1;32m--> 288\u001b[0m         \u001b[38;5;28;01mreturn\u001b[39;00m [func(\u001b[38;5;241m*\u001b[39margs, \u001b[38;5;241m*\u001b[39m\u001b[38;5;241m*\u001b[39mkwargs)\n\u001b[0;32m    289\u001b[0m                 \u001b[38;5;28;01mfor\u001b[39;00m func, args, kwargs \u001b[38;5;129;01min\u001b[39;00m \u001b[38;5;28mself\u001b[39m\u001b[38;5;241m.\u001b[39mitems]\n",
      "File \u001b[1;32mC:\\ProgramData\\anaconda3\\Lib\\site-packages\\joblib\\parallel.py:288\u001b[0m, in \u001b[0;36m<listcomp>\u001b[1;34m(.0)\u001b[0m\n\u001b[0;32m    284\u001b[0m \u001b[38;5;28;01mdef\u001b[39;00m \u001b[38;5;21m__call__\u001b[39m(\u001b[38;5;28mself\u001b[39m):\n\u001b[0;32m    285\u001b[0m     \u001b[38;5;66;03m# Set the default nested backend to self._backend but do not set the\u001b[39;00m\n\u001b[0;32m    286\u001b[0m     \u001b[38;5;66;03m# change the default number of processes to -1\u001b[39;00m\n\u001b[0;32m    287\u001b[0m     \u001b[38;5;28;01mwith\u001b[39;00m parallel_backend(\u001b[38;5;28mself\u001b[39m\u001b[38;5;241m.\u001b[39m_backend, n_jobs\u001b[38;5;241m=\u001b[39m\u001b[38;5;28mself\u001b[39m\u001b[38;5;241m.\u001b[39m_n_jobs):\n\u001b[1;32m--> 288\u001b[0m         \u001b[38;5;28;01mreturn\u001b[39;00m [func(\u001b[38;5;241m*\u001b[39margs, \u001b[38;5;241m*\u001b[39m\u001b[38;5;241m*\u001b[39mkwargs)\n\u001b[0;32m    289\u001b[0m                 \u001b[38;5;28;01mfor\u001b[39;00m func, args, kwargs \u001b[38;5;129;01min\u001b[39;00m \u001b[38;5;28mself\u001b[39m\u001b[38;5;241m.\u001b[39mitems]\n",
      "File \u001b[1;32m~\\AppData\\Roaming\\Python\\Python311\\site-packages\\sklearn\\utils\\parallel.py:123\u001b[0m, in \u001b[0;36m_FuncWrapper.__call__\u001b[1;34m(self, *args, **kwargs)\u001b[0m\n\u001b[0;32m    121\u001b[0m     config \u001b[38;5;241m=\u001b[39m {}\n\u001b[0;32m    122\u001b[0m \u001b[38;5;28;01mwith\u001b[39;00m config_context(\u001b[38;5;241m*\u001b[39m\u001b[38;5;241m*\u001b[39mconfig):\n\u001b[1;32m--> 123\u001b[0m     \u001b[38;5;28;01mreturn\u001b[39;00m \u001b[38;5;28mself\u001b[39m\u001b[38;5;241m.\u001b[39mfunction(\u001b[38;5;241m*\u001b[39margs, \u001b[38;5;241m*\u001b[39m\u001b[38;5;241m*\u001b[39mkwargs)\n",
      "File \u001b[1;32m~\\AppData\\Roaming\\Python\\Python311\\site-packages\\sklearn\\ensemble\\_forest.py:650\u001b[0m, in \u001b[0;36m_accumulate_prediction\u001b[1;34m(predict, X, out, lock)\u001b[0m\n\u001b[0;32m    643\u001b[0m \u001b[38;5;28;01mdef\u001b[39;00m \u001b[38;5;21m_accumulate_prediction\u001b[39m(predict, X, out, lock):\n\u001b[0;32m    644\u001b[0m \u001b[38;5;250m    \u001b[39m\u001b[38;5;124;03m\"\"\"\u001b[39;00m\n\u001b[0;32m    645\u001b[0m \u001b[38;5;124;03m    This is a utility function for joblib's Parallel.\u001b[39;00m\n\u001b[0;32m    646\u001b[0m \n\u001b[0;32m    647\u001b[0m \u001b[38;5;124;03m    It can't go locally in ForestClassifier or ForestRegressor, because joblib\u001b[39;00m\n\u001b[0;32m    648\u001b[0m \u001b[38;5;124;03m    complains that it cannot pickle it when placed there.\u001b[39;00m\n\u001b[0;32m    649\u001b[0m \u001b[38;5;124;03m    \"\"\"\u001b[39;00m\n\u001b[1;32m--> 650\u001b[0m     prediction \u001b[38;5;241m=\u001b[39m predict(X, check_input\u001b[38;5;241m=\u001b[39m\u001b[38;5;28;01mFalse\u001b[39;00m)\n\u001b[0;32m    651\u001b[0m     \u001b[38;5;28;01mwith\u001b[39;00m lock:\n\u001b[0;32m    652\u001b[0m         \u001b[38;5;28;01mif\u001b[39;00m \u001b[38;5;28mlen\u001b[39m(out) \u001b[38;5;241m==\u001b[39m \u001b[38;5;241m1\u001b[39m:\n",
      "File \u001b[1;32m~\\AppData\\Roaming\\Python\\Python311\\site-packages\\sklearn\\tree\\_classes.py:923\u001b[0m, in \u001b[0;36mDecisionTreeClassifier.predict_proba\u001b[1;34m(self, X, check_input)\u001b[0m\n\u001b[0;32m    921\u001b[0m check_is_fitted(\u001b[38;5;28mself\u001b[39m)\n\u001b[0;32m    922\u001b[0m X \u001b[38;5;241m=\u001b[39m \u001b[38;5;28mself\u001b[39m\u001b[38;5;241m.\u001b[39m_validate_X_predict(X, check_input)\n\u001b[1;32m--> 923\u001b[0m proba \u001b[38;5;241m=\u001b[39m \u001b[38;5;28mself\u001b[39m\u001b[38;5;241m.\u001b[39mtree_\u001b[38;5;241m.\u001b[39mpredict(X)\n\u001b[0;32m    925\u001b[0m \u001b[38;5;28;01mif\u001b[39;00m \u001b[38;5;28mself\u001b[39m\u001b[38;5;241m.\u001b[39mn_outputs_ \u001b[38;5;241m==\u001b[39m \u001b[38;5;241m1\u001b[39m:\n\u001b[0;32m    926\u001b[0m     proba \u001b[38;5;241m=\u001b[39m proba[:, : \u001b[38;5;28mself\u001b[39m\u001b[38;5;241m.\u001b[39mn_classes_]\n",
      "\u001b[1;31mKeyboardInterrupt\u001b[0m: "
     ]
    }
   ],
   "source": [
    "models[0].predict_proba(x_test)"
   ]
  },
  {
   "cell_type": "code",
   "execution_count": null,
   "id": "cddb459f",
   "metadata": {},
   "outputs": [],
   "source": []
  },
  {
   "cell_type": "code",
   "execution_count": 32,
   "id": "071a8e30",
   "metadata": {},
   "outputs": [],
   "source": [
    "for model in models:\n",
    "    \n",
    "    cv_scores = cross_val_score(model, x, y, cv=3, scoring='roc_auc')\n",
    "    results_dict[str(model)[0:str(model).find('(')]] = mean(cv_scores)\n"
   ]
  },
  {
   "cell_type": "code",
   "execution_count": 33,
   "id": "9a9b037e",
   "metadata": {},
   "outputs": [
    {
     "data": {
      "text/plain": [
       "{'RandomForestClassifier': 0.648269512629804,\n",
       " 'MLPClassifier': 0.5503701670373317,\n",
       " 'GaussianNB': 0.5805406732383585}"
      ]
     },
     "execution_count": 33,
     "metadata": {},
     "output_type": "execute_result"
    }
   ],
   "source": [
    "results_dict"
   ]
  },
  {
   "cell_type": "markdown",
   "id": "8d9a2382",
   "metadata": {},
   "source": [
    "# результат\n",
    "да не особо то помогает\n",
    "в теории можно попробовать поиграть порогами значений, но не уверен, насколько это поможет"
   ]
  },
  {
   "cell_type": "code",
   "execution_count": null,
   "id": "b00dba62",
   "metadata": {},
   "outputs": [],
   "source": []
  },
  {
   "cell_type": "markdown",
   "id": "4bb12079",
   "metadata": {},
   "source": [
    "# гиппотеза 12 разобраться с бустингом"
   ]
  },
  {
   "cell_type": "code",
   "execution_count": 31,
   "id": "448b69d1",
   "metadata": {},
   "outputs": [
    {
     "name": "stdout",
     "output_type": "stream",
     "text": [
      "roc  0.5\n"
     ]
    }
   ],
   "source": [
    "\n",
    "\n",
    "# Load the Iris dataset (a sample classification dataset)\n",
    "df2 = pd.read_csv('train_data/df_only_last_product_0.csv')\n",
    "X, y = df2.drop('flag', axis=1), df2.flag\n",
    "\n",
    "# Split the dataset into training and testing sets\n",
    "X_train, X_test, y_train, y_test = train_test_split(X, y, test_size=0.2, random_state=42)\n",
    "\n",
    "# Define and train the XGBoost classifier\n",
    "model = xgb.XGBClassifier(objective='multi:softmax', num_class=2, max_depth=3, learning_rate=0.1, n_estimators=100)\n",
    "model.fit(X_train, y_train)\n",
    "\n",
    "# Make predictions on the test set\n",
    "y_pred = model.predict(X_test)\n",
    "\n",
    "# Calculate the accuracy of the model\n",
    "roc = roc_auc_score(y_test, y_pred)\n",
    "print('roc ', roc)"
   ]
  },
  {
   "cell_type": "code",
   "execution_count": 30,
   "id": "e0d6798f",
   "metadata": {},
   "outputs": [
    {
     "name": "stdout",
     "output_type": "stream",
     "text": [
      "roc  0.5\n"
     ]
    }
   ],
   "source": [
    "df = pd.read_csv('train_data/df_only_last_product_1.csv')\n",
    "X_test, y_test = df.drop('flag', axis=1), df.flag\n",
    "\n",
    "# Make predictions on the test set\n",
    "y_pred = model.predict(X_test)\n",
    "\n",
    "# Calculate the accuracy of the model\n",
    "roc = roc_auc_score(y_test, y_pred)\n",
    "print('roc ', roc)"
   ]
  },
  {
   "cell_type": "code",
   "execution_count": 48,
   "id": "93ba59f7",
   "metadata": {},
   "outputs": [
    {
     "data": {
      "text/plain": [
       "Index(['id', 'rn', 'pre_since_opened', 'pre_since_confirmed', 'pre_pterm',\n",
       "       'pre_fterm', 'pre_till_pclose', 'pre_till_fclose',\n",
       "       'pre_loans_credit_limit', 'pre_loans_next_pay_summ',\n",
       "       'pre_loans_outstanding', 'pre_loans_total_overdue',\n",
       "       'pre_loans_max_overdue_sum', 'pre_loans_credit_cost_rate', 'pre_loans5',\n",
       "       'pre_loans530', 'pre_loans3060', 'pre_loans6090', 'pre_loans90',\n",
       "       'is_zero_loans5', 'is_zero_loans530', 'is_zero_loans3060',\n",
       "       'is_zero_loans6090', 'is_zero_loans90', 'pre_util', 'pre_over2limit',\n",
       "       'pre_maxover2limit', 'is_zero_util', 'is_zero_over2limit',\n",
       "       'is_zero_maxover2limit', 'enc_paym_0', 'enc_paym_1', 'enc_paym_2',\n",
       "       'enc_paym_3', 'enc_paym_4', 'enc_paym_5', 'enc_paym_6', 'enc_paym_7',\n",
       "       'enc_paym_8', 'enc_paym_9', 'enc_paym_10', 'enc_paym_11', 'enc_paym_12',\n",
       "       'enc_paym_13', 'enc_paym_14', 'enc_paym_15', 'enc_paym_16',\n",
       "       'enc_paym_17', 'enc_paym_18', 'enc_paym_19', 'enc_paym_20',\n",
       "       'enc_paym_21', 'enc_paym_22', 'enc_paym_23', 'enc_paym_24',\n",
       "       'enc_loans_account_holder_type', 'enc_loans_credit_status',\n",
       "       'enc_loans_credit_type', 'enc_loans_account_cur', 'pclose_flag',\n",
       "       'fclose_flag', 'closed_faster_than_expected', 'overdue_severity',\n",
       "       'prone_to_overdue', 'prone_to_close_faster'],\n",
       "      dtype='object')"
      ]
     },
     "execution_count": 48,
     "metadata": {},
     "output_type": "execute_result"
    }
   ],
   "source": []
  },
  {
   "cell_type": "code",
   "execution_count": 53,
   "id": "0eb3dba5",
   "metadata": {},
   "outputs": [],
   "source": [
    "df = pd.read_csv('train_data/part_0_eng_cols_1')\n",
    "df = df.drop('Unnamed: 0', axis=1)\n",
    "df = pd.merge(df, answers, on='id', how='left')\n",
    "\n",
    "share = 45\n",
    "df = sample_df(\n",
    "    df, \n",
    "    round(df.flag.value_counts()[1] / share * 100 + 1, 0),\n",
    "    100 - share,\n",
    "    share\n",
    ")\n",
    "\n",
    "\n"
   ]
  },
  {
   "cell_type": "code",
   "execution_count": 54,
   "id": "9df5d50d",
   "metadata": {},
   "outputs": [],
   "source": [
    "df2 = pd.read_csv('train_data/part_1_eng_cols_1')\n",
    "df2 = df2.drop('Unnamed: 0', axis=1)\n",
    "df2 = pd.merge(df2, answers, on='id', how='left')\n",
    "df2['flag'] = df2['flag_y']\n",
    "df2 = df2.drop(['flag_y', 'flag_x'], axis=1)"
   ]
  },
  {
   "cell_type": "code",
   "execution_count": 52,
   "id": "962e576b",
   "metadata": {},
   "outputs": [
    {
     "data": {
      "text/plain": [
       "(126902, 66)"
      ]
     },
     "execution_count": 52,
     "metadata": {},
     "output_type": "execute_result"
    }
   ],
   "source": [
    "df.shape"
   ]
  },
  {
   "cell_type": "code",
   "execution_count": 62,
   "id": "975c36bd",
   "metadata": {},
   "outputs": [
    {
     "name": "stdout",
     "output_type": "stream",
     "text": [
      "Best Model ROC AUC: 0.7751645876217838\n",
      "Best params: {'learning_rate': 0.1, 'max_depth': 7, 'n_estimators': 200}\n"
     ]
    }
   ],
   "source": [
    "import xgboost as xgb\n",
    "from sklearn.datasets import load_iris\n",
    "from sklearn.model_selection import train_test_split, GridSearchCV\n",
    "from sklearn.metrics import roc_auc_score, make_scorer\n",
    "\n",
    "# Load the Iris dataset (a sample classification dataset)\n",
    "# df2 = pd.read_csv('train_data/df_only_last_product_0.csv')\n",
    "X, y = df2.drop('flag', axis=1), df2.flag\n",
    "\n",
    "# Split the dataset into training and testing sets\n",
    "X_train, X_test, y_train, y_test = train_test_split(X, y, test_size=0.2, random_state=42)\n",
    "\n",
    "# Define the XGBoost classifier\n",
    "model = xgb.XGBClassifier()\n",
    "\n",
    "# Define the parameter grid for GridSearchCV\n",
    "param_grid = {\n",
    "    'max_depth': [3, 5, 7],\n",
    "    'learning_rate': [0.1, 0.01, 0.001],\n",
    "    'n_estimators': [50, 100, 200],\n",
    "}\n",
    "\n",
    "# Define ROC AUC as the scoring metric for GridSearchCV\n",
    "roc_auc_scorer = make_scorer(roc_auc_score, greater_is_better=True, needs_proba=True)\n",
    "\n",
    "# Perform GridSearchCV with ROC AUC as the scoring metric\n",
    "grid_search = GridSearchCV(model, param_grid, cv=3, scoring=roc_auc_scorer)\n",
    "grid_search.fit(X_train, y_train)\n",
    "\n",
    "# Get the best model from GridSearchCV\n",
    "best_model = grid_search.best_estimator_\n",
    "\n",
    "# Make predictions on the test set using the best model\n",
    "y_pred_proba = best_model.predict_proba(X_test)\n",
    "roc_auc = roc_auc_score(y_test, y_pred_proba[:, 1], multi_class='ovr')\n",
    "print('Best Model ROC AUC:', roc_auc)\n",
    "print('Best params:', grid_search.best_params_)"
   ]
  },
  {
   "cell_type": "code",
   "execution_count": 63,
   "id": "2a2bf81c",
   "metadata": {},
   "outputs": [
    {
     "name": "stdout",
     "output_type": "stream",
     "text": [
      "Best Model ROC AUC: 0.7693579526356988\n",
      "Best params: {'learning_rate': 0.1, 'max_depth': 7, 'n_estimators': 200}\n"
     ]
    }
   ],
   "source": [
    "import xgboost as xgb\n",
    "from sklearn.datasets import load_iris\n",
    "from sklearn.model_selection import train_test_split, GridSearchCV\n",
    "from sklearn.metrics import roc_auc_score, make_scorer\n",
    "\n",
    "# Load the Iris dataset (a sample classification dataset)\n",
    "# df2 = pd.read_csv('train_data/df_only_last_product_1.csv')\n",
    "X, y = df.drop('flag', axis=1), df.flag\n",
    "\n",
    "# Split the dataset into training and testing sets\n",
    "X_train, X_test, y_train, y_test = train_test_split(X, y, test_size=0.2, random_state=42)\n",
    "\n",
    "# Define the XGBoost classifier\n",
    "model = xgb.XGBClassifier()\n",
    "\n",
    "# Define the parameter grid for GridSearchCV\n",
    "param_grid = {\n",
    "    'max_depth': [3, 5, 7],\n",
    "    'learning_rate': [0.1, 0.01, 0.001],\n",
    "    'n_estimators': [50, 100, 200],\n",
    "}\n",
    "\n",
    "# Define ROC AUC as the scoring metric for GridSearchCV\n",
    "roc_auc_scorer = make_scorer(roc_auc_score, greater_is_better=True, needs_proba=True)\n",
    "\n",
    "# Perform GridSearchCV with ROC AUC as the scoring metric\n",
    "grid_search = GridSearchCV(model, param_grid, cv=3, scoring=roc_auc_scorer)\n",
    "grid_search.fit(X_train, y_train)\n",
    "\n",
    "# Get the best model from GridSearchCV\n",
    "best_model = grid_search.best_estimator_\n",
    "\n",
    "# Make predictions on the test set using the best model\n",
    "y_pred_proba = best_model.predict_proba(X_test)\n",
    "roc_auc = roc_auc_score(y_test, y_pred_proba[:, 1], multi_class='ovr')\n",
    "print('Best Model ROC AUC:', roc_auc)\n",
    "print('Best params:', grid_search.best_params_)"
   ]
  },
  {
   "cell_type": "markdown",
   "id": "80a82324",
   "metadata": {},
   "source": [
    "# результат\n",
    "1) well ill be damned - consistent satisfactory metric on single chunks with minimal feature engeneering\n",
    "2) looks like its time to move to stage 2\n"
   ]
  },
  {
   "cell_type": "code",
   "execution_count": null,
   "id": "7e10d477",
   "metadata": {},
   "outputs": [],
   "source": []
  },
  {
   "cell_type": "code",
   "execution_count": null,
   "id": "0ff080d0",
   "metadata": {},
   "outputs": [],
   "source": []
  }
 ],
 "metadata": {
  "kernelspec": {
   "display_name": "Python 3 (ipykernel)",
   "language": "python",
   "name": "python3"
  },
  "language_info": {
   "codemirror_mode": {
    "name": "ipython",
    "version": 3
   },
   "file_extension": ".py",
   "mimetype": "text/x-python",
   "name": "python",
   "nbconvert_exporter": "python",
   "pygments_lexer": "ipython3",
   "version": "3.11.5"
  }
 },
 "nbformat": 4,
 "nbformat_minor": 5
}

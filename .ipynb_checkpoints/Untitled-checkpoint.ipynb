{
 "cells": [
  {
   "cell_type": "code",
   "execution_count": 18,
   "id": "e9963945",
   "metadata": {},
   "outputs": [],
   "source": [
    "import dill\n",
    "import fastparquet"
   ]
  },
  {
   "cell_type": "code",
   "execution_count": 22,
   "id": "fb3ec962",
   "metadata": {},
   "outputs": [],
   "source": [
    "# general\n",
    "# import pyarrow.parquet as pq\n",
    "import pandas as pd\n",
    "# from scipy import stats\n",
    "# import random\n",
    "# from pandasql import sqldf\n",
    "import duckdb\n",
    "from sklearn.pipeline import Pipeline\n",
    "import joblib\n",
    "import dill\n",
    "import fastparquet\n",
    "import os\n",
    "import tqdm\n",
    "import numpy as np\n",
    "# from tqdm.notebook import tqdm as inplus\n",
    "\n",
    "# scoring\n",
    "# from sklearn.metrics import accuracy_score\n",
    "from sklearn.metrics import roc_auc_score\n",
    "# from sklearn.model_selection import cross_val_score\n",
    "from sklearn.model_selection import GridSearchCV\n",
    "# from sklearn.metrics import make_scorer\n",
    "\n",
    "# drawing\n",
    "# import seaborn as sns\n",
    "# import matplotlib.pyplot as plt\n",
    "\n",
    "\n",
    "# transform\n",
    "from sklearn.model_selection import train_test_split\n",
    "# from imblearn.over_sampling import SMOTE\n",
    "from sklearn.model_selection import StratifiedKFold\n",
    "# from sklearn.preprocessing import LabelEncoder\n",
    "from sklearn.preprocessing import FunctionTransformer\n",
    "from sklearn.compose import ColumnTransformer\n",
    "from sklearn.preprocessing import OneHotEncoder\n",
    "from sklearn.impute import SimpleImputer\n",
    "# from sklearn.preprocessing import MinMaxScaler\n",
    "\n",
    "\n",
    "# estimators\n",
    "# from sklearn.neighbors import KNeighborsClassifier\n",
    "# from sklearn.svm import SVC\n",
    "# from sklearn.ensemble import RandomForestClassifier\n",
    "# from sklearn.neural_network import MLPClassifier\n",
    "# from sklearn.linear_model import LogisticRegression\n",
    "# from sklearn.tree import DecisionTreeClassifier\n",
    "# from sklearn.naive_bayes import GaussianNB\n",
    "import xgboost as xgb\n",
    "# import lightgbm as lgb\n",
    "\n",
    "\n",
    "# # spark\n",
    "# import findspark\n",
    "# findspark.init()\n",
    "# import pyspark\n",
    "# from pyspark.sql import SparkSession\n",
    "# from IPython.core.display import HTML\n",
    "# display(HTML(\"<style>pre { white-space: pre !important; }</style>\"))"
   ]
  },
  {
   "cell_type": "code",
   "execution_count": 23,
   "id": "1581da6b",
   "metadata": {},
   "outputs": [],
   "source": [
    "with open('Grad_2.pkl', 'rb') as file:\n",
    "    Grad_2 = dill.load(file)"
   ]
  },
  {
   "cell_type": "code",
   "execution_count": 24,
   "id": "071cf927",
   "metadata": {},
   "outputs": [],
   "source": [
    "grad_2 = Grad_2('train_data/')"
   ]
  },
  {
   "cell_type": "code",
   "execution_count": 27,
   "id": "9ceca73b",
   "metadata": {},
   "outputs": [],
   "source": [
    "df = fastparquet.ParquetFile('train_data/df_compiled_v15_301_cols_full.pq').to_pandas()"
   ]
  },
  {
   "cell_type": "code",
   "execution_count": 28,
   "id": "6ca3d1ae",
   "metadata": {},
   "outputs": [
    {
     "ename": "NameError",
     "evalue": "name 'sample_df' is not defined",
     "output_type": "error",
     "traceback": [
      "\u001b[1;31m---------------------------------------------------------------------------\u001b[0m",
      "\u001b[1;31mNameError\u001b[0m                                 Traceback (most recent call last)",
      "Cell \u001b[1;32mIn[28], line 1\u001b[0m\n\u001b[1;32m----> 1\u001b[0m model, X_test, y_test \u001b[38;5;241m=\u001b[39m grad_2\u001b[38;5;241m.\u001b[39mfit_model(df)\n",
      "File \u001b[1;32m~\\AppData\\Local\\Temp\\ipykernel_5116\\146468530.py:107\u001b[0m, in \u001b[0;36mfit_model\u001b[1;34m(self, df)\u001b[0m\n",
      "\u001b[1;31mNameError\u001b[0m: name 'sample_df' is not defined"
     ]
    }
   ],
   "source": [
    "model, X_test, y_test = grad_2.fit_model(df)"
   ]
  },
  {
   "cell_type": "code",
   "execution_count": null,
   "id": "68682797",
   "metadata": {},
   "outputs": [],
   "source": []
  }
 ],
 "metadata": {
  "kernelspec": {
   "display_name": "Python 3 (ipykernel)",
   "language": "python",
   "name": "python3"
  },
  "language_info": {
   "codemirror_mode": {
    "name": "ipython",
    "version": 3
   },
   "file_extension": ".py",
   "mimetype": "text/x-python",
   "name": "python",
   "nbconvert_exporter": "python",
   "pygments_lexer": "ipython3",
   "version": "3.11.5"
  }
 },
 "nbformat": 4,
 "nbformat_minor": 5
}

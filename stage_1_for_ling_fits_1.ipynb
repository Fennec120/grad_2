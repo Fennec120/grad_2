{
 "cells": [
  {
   "cell_type": "code",
   "execution_count": null,
   "id": "41ee6006",
   "metadata": {},
   "outputs": [],
   "source": []
  },
  {
   "cell_type": "code",
   "execution_count": 10,
   "id": "80ec7bbf",
   "metadata": {},
   "outputs": [],
   "source": [
    "tst_1 = [\n",
    "    1335676.52,\n",
    "    621829.17,\n",
    "400000,\n",
    "541666.67,\n",
    "43008.34,\n",
    "82000,\n",
    "801075,\n",
    "883083.33,\n",
    "264.48,\n",
    "6847337.05,\n",
    "910166.67,\n",
    "0,\n",
    "1602550,\n",
    "349556.29,\n",
    "16066.7,\n",
    "13614.04,\n",
    "13291.66,\n",
    "12348,\n",
    "12096,\n",
    "11444.4,\n",
    "11089.4,\n",
    "9333.33,\n",
    "7571.21,\n",
    "6500.18,\n",
    "6250,\n",
    "5814.01,\n",
    "4629.08,\n",
    "3948.08,\n",
    "3923.7,\n",
    "3775.85,\n",
    "3694.02,\n",
    "2725.52,\n",
    "2669,\n",
    "2397.83,\n",
    "544.2,\n",
    "313.35,\n",
    "157.5,\n",
    "150,\n",
    "40,\n",
    "284673.33,\n",
    "295000,\n",
    "425000,\n",
    "837500,\n",
    "1215058.33,\n",
    "636440.93,\n",
    "171916.67,\n",
    "284108.33,\n",
    "391333.33,\n",
    "188000,\n",
    "129024.97,\n",
    "20400.95,\n",
    "17359.14,\n",
    "16670.66,\n",
    "15900,\n",
    "15017.49,\n",
    "9631.25,\n",
    "8089.37,\n",
    "7469.17,\n",
    "7199.91,\n",
    "7121.24,\n",
    "3886.54,\n",
    "1941.67,\n",
    "1924.69,\n",
    "1688.33,\n",
    "1452.5,\n",
    "1450,\n",
    "1437.38,\n",
    "1425,\n",
    "1402.5,\n",
    "1393,\n",
    "1370.07,\n",
    "1315,\n",
    "1299.99,\n",
    "1270.83,\n",
    "1264.15,\n",
    "1241.7,\n",
    "1211.76,\n",
    "1203.8,\n",
    "1194.67,\n",
    "1193.42,\n",
    "1150,\n",
    "1149.99,\n",
    "1125,\n",
    "1067.25,\n",
    "1027.5,\n",
    "1008,\n",
    "1008,\n",
    "1003.46,\n",
    "953.05,\n",
    "938.09,\n",
    "937.5,\n",
    "936.5,\n",
    "920,\n",
    "916.67,\n",
    "897.51,\n",
    "864.5,\n",
    "862.5,\n",
    "838.33,\n",
    "837.5,\n",
    "800,\n",
    "791,\n",
    "790,\n",
    "708.25,\n",
    "685,\n",
    "670.83,\n",
    "666.7,\n",
    "653.4,\n",
    "638.32,\n",
    "631.7,\n",
    "584.2,\n",
    "583.33,\n",
    "575,\n",
    "570.69,\n",
    "562.5,\n",
    "525,\n",
    "522.27,\n",
    "507.5,\n",
    "498.34,\n",
    "483.33,\n",
    "473.8,\n",
    "440.83,\n",
    "420,\n",
    "416.67,\n",
    "400,\n",
    "373.33,\n",
    "347.5,\n",
    "346.05,\n",
    "341.67,\n",
    "339.58,\n",
    "312.5,\n",
    "312.5,\n",
    "310,\n",
    "309.4,\n",
    "291.67,\n",
    "283.35,\n",
    "278.1,\n",
    "274.17,\n",
    "269.68,\n",
    "252.83,\n",
    "250,\n",
    "249.2,\n",
    "248.34,\n",
    "245,\n",
    "237.5,\n",
    "227.5,\n",
    "204.15,\n",
    "196.7,\n",
    "175,\n",
    "165,\n",
    "155,\n",
    "149.17,\n",
    "146.67,\n",
    "132.5,\n",
    "127.5,\n",
    "115,\n",
    "60,\n",
    "57.45,\n",
    "53.33,\n",
    "52,\n",
    "151485.15,\n",
    "553520.83,\n",
    "97466.3,\n",
    "124429.77,\n",
    "63000,\n",
    "-205.38,\n",
    "205.38,\n",
    "-1135.67,\n",
    "3450.25,\n",
    "0,\n",
    "0,\n",
    "8476294.23,\n",
    "83864.56,\n",
    "107000,\n",
    "]"
   ]
  },
  {
   "cell_type": "code",
   "execution_count": 2,
   "id": "2605b5d3",
   "metadata": {},
   "outputs": [],
   "source": [
    "tst_2 = tst_1.copy()\n",
    "tst_3 = tst_1.copy()\n",
    "tst_4 = tst_1.copy()\n",
    "tst_5 = tst_1.copy()"
   ]
  },
  {
   "cell_type": "code",
   "execution_count": 3,
   "id": "31f3b6c2",
   "metadata": {},
   "outputs": [],
   "source": []
  },
  {
   "cell_type": "code",
   "execution_count": 4,
   "id": "4a996d36",
   "metadata": {},
   "outputs": [],
   "source": []
  },
  {
   "cell_type": "code",
   "execution_count": 5,
   "id": "3163e571",
   "metadata": {},
   "outputs": [],
   "source": []
  },
  {
   "cell_type": "code",
   "execution_count": 24,
   "id": "b9e28dce",
   "metadata": {},
   "outputs": [],
   "source": [
    "target = 774166.65"
   ]
  },
  {
   "cell_type": "code",
   "execution_count": 15,
   "id": "ced5e892",
   "metadata": {},
   "outputs": [
    {
     "data": {
      "text/plain": [
       "705005.98"
      ]
     },
     "execution_count": 15,
     "metadata": {},
     "output_type": "execute_result"
    }
   ],
   "source": [
    "151485.15 + 553520.83"
   ]
  },
  {
   "cell_type": "code",
   "execution_count": 130,
   "id": "5c0c015f",
   "metadata": {},
   "outputs": [],
   "source": [
    "def find_parts(target, tst_1):\n",
    "\n",
    "    tst_2 = tst_1.copy()\n",
    "    tst_3 = tst_1.copy()\n",
    "    tst_4 = tst_1.copy()\n",
    "    tst_5 = tst_1.copy()\n",
    "    \n",
    "    entry_3 = 0\n",
    "    entry_4 = 0\n",
    "    entry_5 = 0\n",
    "\n",
    "\n",
    "    flag = False\n",
    "    for entry_1 in tst_1:\n",
    "\n",
    "        if flag == True:\n",
    "            break\n",
    "\n",
    "        current_summ = entry_1\n",
    "\n",
    "        for entry_2 in tst_2:\n",
    "            if flag == True:\n",
    "                break\n",
    "                \n",
    "            current_summ = entry_2 + entry_1\n",
    "            if target + 1 >= current_summ and current_summ >= target - 1:\n",
    "                parts = [entry_1 ,entry_2]\n",
    "                print('parts are ',parts)\n",
    "                print('sum is ',sum(parts))\n",
    "                flag = True\n",
    "                break\n",
    "\n",
    "            else:\n",
    "                for entry_3 in tst_3:\n",
    "                    if flag == True:\n",
    "                        break\n",
    "                    current_summ = entry_3 + entry_2 + entry_1\n",
    "                    if target + 1 >= current_summ and current_summ >= target - 1:\n",
    "                        parts = [entry_1 ,entry_2 , entry_3]\n",
    "                        print('parts are ',parts)\n",
    "                        print('sum is ',sum(parts))\n",
    "                        flag = True\n",
    "                        break\n",
    "                    else:\n",
    "                        for entry_4 in tst_4:\n",
    "                            if flag == True:\n",
    "                                break\n",
    "                            current_summ += entry_4\n",
    "                            if target + 1 >= current_summ and current_summ >= target - 1:\n",
    "                                parts = [entry_1 ,entry_2 , entry_3, entry_4]\n",
    "                                print('parts are ',parts)\n",
    "                                print('sum is ',sum(parts))\n",
    "                                flag = True\n",
    "                                break\n",
    "                            else:\n",
    "                                for entry_5 in tst_5:\n",
    "                                    \n",
    "#                                     if flag == True:\n",
    "#                                         break\n",
    "                                    current_summ += entry_5\n",
    "                                    if target + 1 >= current_summ and current_summ >= target - 1:\n",
    "                                        parts = [entry_1 ,entry_2 , entry_3, entry_4, entry_5]\n",
    "                                        print('parts are ',parts)\n",
    "                                        print('sum is ',sum(parts))\n",
    "                                        flag = True\n",
    "                                        break\n",
    "    return (target, parts)\n",
    "    "
   ]
  },
  {
   "cell_type": "code",
   "execution_count": 62,
   "id": "cb990ce3",
   "metadata": {},
   "outputs": [],
   "source": [
    "import random as rn\n",
    "import numpy as np"
   ]
  },
  {
   "cell_type": "code",
   "execution_count": 115,
   "id": "379aa122",
   "metadata": {},
   "outputs": [
    {
     "name": "stdout",
     "output_type": "stream",
     "text": [
      "[63.5, 13.0, 91.4, 88.80000000000001, 91.5]\n",
      "348.20000000000005\n",
      "(348.20000000000005, [13.0, 13.0, 91.4, 63.5, 91.4])\n"
     ]
    }
   ],
   "source": [
    "massives = []\n",
    "for i in range(rn.randint(2,5)):\n",
    "    massives.append(np.arange(0,100,rn.randint(1,10) / 10))\n",
    "\n",
    "parts_tst = []\n",
    "for k in range (len(massives)):\n",
    "    parts_tst.append(massives[k][rn.randint(0,len(massives[k]))])\n",
    "\n",
    "target_tst = sum(parts_tst)\n",
    "    \n",
    "    \n",
    "print(parts_tst)\n",
    "print(target_tst)\n",
    "# np.arange(0,100,0.3)\n",
    "# rn.randint(0,1000)\n",
    "# len( massives)\n",
    "print(find_parts(parts_tst, target_tst))"
   ]
  },
  {
   "cell_type": "code",
   "execution_count": 120,
   "id": "77bd31dd",
   "metadata": {},
   "outputs": [
    {
     "data": {
      "text/plain": [
       "348.20000000000005"
      ]
     },
     "execution_count": 120,
     "metadata": {},
     "output_type": "execute_result"
    }
   ],
   "source": [
    "sum(parts_tst)"
   ]
  },
  {
   "cell_type": "code",
   "execution_count": 132,
   "id": "548086dc",
   "metadata": {},
   "outputs": [
    {
     "data": {
      "text/plain": [
       "[63.5, 13.0, 91.4, 88.80000000000001, 91.5]"
      ]
     },
     "execution_count": 132,
     "metadata": {},
     "output_type": "execute_result"
    }
   ],
   "source": [
    "parts_tst"
   ]
  },
  {
   "cell_type": "code",
   "execution_count": 131,
   "id": "744db028",
   "metadata": {},
   "outputs": [
    {
     "name": "stdout",
     "output_type": "stream",
     "text": [
      "parts are  [13.0, 13.0, 91.4, 63.5, 91.4]\n",
      "sum is  272.3\n"
     ]
    },
    {
     "data": {
      "text/plain": [
       "(348.20000000000005, [13.0, 13.0, 91.4, 63.5, 91.4])"
      ]
     },
     "execution_count": 131,
     "metadata": {},
     "output_type": "execute_result"
    }
   ],
   "source": [
    "find_parts(target_tst, parts_tst)"
   ]
  },
  {
   "cell_type": "code",
   "execution_count": 129,
   "id": "168e4a2f",
   "metadata": {},
   "outputs": [
    {
     "data": {
      "text/plain": [
       "348.20000000000005"
      ]
     },
     "execution_count": 129,
     "metadata": {},
     "output_type": "execute_result"
    }
   ],
   "source": [
    "target_tst"
   ]
  },
  {
   "cell_type": "code",
   "execution_count": 128,
   "id": "c246f0a5",
   "metadata": {},
   "outputs": [
    {
     "data": {
      "text/plain": [
       "272.3"
      ]
     },
     "execution_count": 128,
     "metadata": {},
     "output_type": "execute_result"
    }
   ],
   "source": [
    "sum(tst_value)"
   ]
  },
  {
   "cell_type": "code",
   "execution_count": 64,
   "id": "b29f98c2",
   "metadata": {},
   "outputs": [
    {
     "name": "stdout",
     "output_type": "stream",
     "text": [
      "Unexpected exception formatting exception. Falling back to standard exception\n"
     ]
    },
    {
     "name": "stderr",
     "output_type": "stream",
     "text": [
      "Traceback (most recent call last):\n",
      "  File \"C:\\ProgramData\\anaconda3\\Lib\\site-packages\\IPython\\core\\interactiveshell.py\", line 3526, in run_code\n",
      "    exec(code_obj, self.user_global_ns, self.user_ns)\n",
      "  File \"C:\\Users\\User\\AppData\\Local\\Temp\\ipykernel_14124\\2481296734.py\", line 1, in <module>\n",
      "    find_parts(parts, target)\n",
      "  File \"C:\\Users\\User\\AppData\\Local\\Temp\\ipykernel_14124\\4021724911.py\", line -1, in find_parts\n",
      "KeyboardInterrupt\n",
      "\n",
      "During handling of the above exception, another exception occurred:\n",
      "\n",
      "Traceback (most recent call last):\n",
      "  File \"C:\\ProgramData\\anaconda3\\Lib\\site-packages\\IPython\\core\\interactiveshell.py\", line 2120, in showtraceback\n",
      "    stb = self.InteractiveTB.structured_traceback(\n",
      "          ^^^^^^^^^^^^^^^^^^^^^^^^^^^^^^^^^^^^^^^^\n",
      "  File \"C:\\ProgramData\\anaconda3\\Lib\\site-packages\\IPython\\core\\ultratb.py\", line 1435, in structured_traceback\n",
      "    return FormattedTB.structured_traceback(\n",
      "           ^^^^^^^^^^^^^^^^^^^^^^^^^^^^^^^^^\n",
      "  File \"C:\\ProgramData\\anaconda3\\Lib\\site-packages\\IPython\\core\\ultratb.py\", line 1326, in structured_traceback\n",
      "    return VerboseTB.structured_traceback(\n",
      "           ^^^^^^^^^^^^^^^^^^^^^^^^^^^^^^^\n",
      "  File \"C:\\ProgramData\\anaconda3\\Lib\\site-packages\\IPython\\core\\ultratb.py\", line 1173, in structured_traceback\n",
      "    formatted_exception = self.format_exception_as_a_whole(etype, evalue, etb, number_of_lines_of_context,\n",
      "                          ^^^^^^^^^^^^^^^^^^^^^^^^^^^^^^^^^^^^^^^^^^^^^^^^^^^^^^^^^^^^^^^^^^^^^^^^^^^^^^^^\n",
      "  File \"C:\\ProgramData\\anaconda3\\Lib\\site-packages\\IPython\\core\\ultratb.py\", line 1088, in format_exception_as_a_whole\n",
      "    frames.append(self.format_record(record))\n",
      "                  ^^^^^^^^^^^^^^^^^^^^^^^^^^\n",
      "  File \"C:\\ProgramData\\anaconda3\\Lib\\site-packages\\IPython\\core\\ultratb.py\", line 970, in format_record\n",
      "    frame_info.lines, Colors, self.has_colors, lvals\n",
      "    ^^^^^^^^^^^^^^^^\n",
      "  File \"C:\\ProgramData\\anaconda3\\Lib\\site-packages\\IPython\\core\\ultratb.py\", line 792, in lines\n",
      "    return self._sd.lines\n",
      "           ^^^^^^^^^^^^^^\n",
      "  File \"C:\\ProgramData\\anaconda3\\Lib\\site-packages\\stack_data\\utils.py\", line 145, in cached_property_wrapper\n",
      "    value = obj.__dict__[self.func.__name__] = self.func(obj)\n",
      "                                               ^^^^^^^^^^^^^^\n",
      "  File \"C:\\ProgramData\\anaconda3\\Lib\\site-packages\\stack_data\\core.py\", line 698, in lines\n",
      "    pieces = self.included_pieces\n",
      "             ^^^^^^^^^^^^^^^^^^^^\n",
      "  File \"C:\\ProgramData\\anaconda3\\Lib\\site-packages\\stack_data\\utils.py\", line 145, in cached_property_wrapper\n",
      "    value = obj.__dict__[self.func.__name__] = self.func(obj)\n",
      "                                               ^^^^^^^^^^^^^^\n",
      "  File \"C:\\ProgramData\\anaconda3\\Lib\\site-packages\\stack_data\\core.py\", line 649, in included_pieces\n",
      "    pos = scope_pieces.index(self.executing_piece)\n",
      "                             ^^^^^^^^^^^^^^^^^^^^\n",
      "  File \"C:\\ProgramData\\anaconda3\\Lib\\site-packages\\stack_data\\utils.py\", line 145, in cached_property_wrapper\n",
      "    value = obj.__dict__[self.func.__name__] = self.func(obj)\n",
      "                                               ^^^^^^^^^^^^^^\n",
      "  File \"C:\\ProgramData\\anaconda3\\Lib\\site-packages\\stack_data\\core.py\", line 628, in executing_piece\n",
      "    return only(\n",
      "           ^^^^^\n",
      "  File \"C:\\ProgramData\\anaconda3\\Lib\\site-packages\\executing\\executing.py\", line 164, in only\n",
      "    raise NotOneValueFound('Expected one value, found 0')\n",
      "executing.executing.NotOneValueFound: Expected one value, found 0\n"
     ]
    }
   ],
   "source": [
    "find_parts(parts, target)"
   ]
  },
  {
   "cell_type": "code",
   "execution_count": 49,
   "id": "3c265a86",
   "metadata": {},
   "outputs": [
    {
     "data": {
      "text/plain": [
       "143"
      ]
     },
     "execution_count": 49,
     "metadata": {},
     "output_type": "execute_result"
    }
   ],
   "source": [
    "len(massives[2])"
   ]
  },
  {
   "cell_type": "code",
   "execution_count": 38,
   "id": "1a82c8b1",
   "metadata": {},
   "outputs": [
    {
     "data": {
      "text/plain": [
       "0.4"
      ]
     },
     "execution_count": 38,
     "metadata": {},
     "output_type": "execute_result"
    }
   ],
   "source": [
    "rn.randint(1,10) / 10"
   ]
  },
  {
   "cell_type": "code",
   "execution_count": null,
   "id": "3ae69f42",
   "metadata": {},
   "outputs": [],
   "source": []
  },
  {
   "cell_type": "code",
   "execution_count": null,
   "id": "1a927fe5",
   "metadata": {},
   "outputs": [],
   "source": []
  },
  {
   "cell_type": "markdown",
   "id": "d8849230",
   "metadata": {},
   "source": [
    "# ooookay you motherfuckers!\n",
    "lets roll!\n"
   ]
  },
  {
   "cell_type": "markdown",
   "id": "5e1e9fca",
   "metadata": {},
   "source": [
    "!pip install pyspark\n"
   ]
  },
  {
   "cell_type": "markdown",
   "id": "43b70e74",
   "metadata": {},
   "source": [
    "from pyspark.sql import SparkSession\n",
    "\n",
    "\n",
    "spark = SparkSession.builder \\\n",
    "    .appName(\"xyi\") \\\n",
    "    .master(\"local\") \\\n",
    "    .getOrCreate()"
   ]
  },
  {
   "cell_type": "code",
   "execution_count": 1,
   "id": "e4bfb46b",
   "metadata": {},
   "outputs": [],
   "source": [
    "# general\n",
    "import pyarrow.parquet as pq\n",
    "import pandas as pd\n",
    "from scipy import stats\n",
    "import random\n",
    "\n",
    "# scoring\n",
    "from sklearn.metrics import accuracy_score\n",
    "from sklearn.metrics import roc_auc_score\n",
    "from sklearn.model_selection import cross_val_score\n",
    "from sklearn.model_selection import GridSearchCV\n",
    "\n",
    "# drawing\n",
    "import seaborn as sns\n",
    "import matplotlib.pyplot as plt\n",
    "\n",
    "# transform\n",
    "from sklearn.model_selection import train_test_split\n",
    "from imblearn.over_sampling import SMOTE\n",
    "from sklearn.model_selection import StratifiedKFold\n",
    "from sklearn.preprocessing import LabelEncoder\n",
    "\n",
    "# estimators\n",
    "from sklearn.neighbors import KNeighborsClassifier\n",
    "from sklearn.svm import SVC\n",
    "from sklearn.ensemble import RandomForestClassifier\n",
    "from sklearn.neural_network import MLPClassifier\n",
    "from sklearn.linear_model import LogisticRegression\n",
    "from sklearn.tree import DecisionTreeClassifier\n",
    "from sklearn.naive_bayes import GaussianNB\n",
    "import xgboost as xgb\n",
    "import lightgbm as lgb"
   ]
  },
  {
   "cell_type": "code",
   "execution_count": 2,
   "id": "25f98067",
   "metadata": {},
   "outputs": [],
   "source": [
    "def open_df(part):\n",
    "    \n",
    "    import pandas as pd\n",
    "    \n",
    "    # open\n",
    "    df = pd.read_csv('train_data/tst_'+str(part)+'.csv', header=None)\n",
    "    \n",
    "    # очень неудобные названия\n",
    "    col_names = dict()\n",
    "    for i in range(len(df.columns)):\n",
    "                       col_names[df.columns[i]] = cols[i]\n",
    "    df = df.rename(columns=col_names)\n",
    "    return df"
   ]
  },
  {
   "cell_type": "code",
   "execution_count": 3,
   "id": "16754c04",
   "metadata": {},
   "outputs": [],
   "source": [
    "def sample_df(df3, total_rows =  100000, neg_percent = 50, pos_percent = 50):\n",
    "    print( 'sample_df3 start')\n",
    "    df3_pos = df3[df3['flag'] == 1].sample(int(total_rows / 100 * pos_percent))\n",
    "    df3_neg = df3[df3['flag'] == 0].sample(int(total_rows / 100 * neg_percent))\n",
    "    df3_pos = df3_pos.reset_index()\n",
    "    df3_neg = df3_neg.reset_index()\n",
    "    df3_pos = df3_pos.drop('index', axis=1)\n",
    "    df3_neg = df3_neg.drop('index', axis=1)\n",
    "    df3 = pd.concat([df3_pos, df3_neg])\n",
    "    \n",
    "    print( 'sample_df3 end')\n",
    "    print('-')      \n",
    "    #print('-')      \n",
    "    #print('-') \n",
    "    \n",
    "    return df3"
   ]
  },
  {
   "cell_type": "code",
   "execution_count": 4,
   "id": "6d5cc23c",
   "metadata": {},
   "outputs": [],
   "source": [
    "def mean(lst): \n",
    "    return sum(lst) / len(lst) "
   ]
  },
  {
   "cell_type": "code",
   "execution_count": 5,
   "id": "fcb8925e",
   "metadata": {},
   "outputs": [],
   "source": [
    "cols = ['id', 'rn', 'pre_since_opened', 'pre_since_confirmed', 'pre_pterm', 'pre_fterm', 'pre_till_pclose', 'pre_till_fclose', 'pre_loans_credit_limit', 'pre_loans_next_pay_summ',\n",
    " 'pre_loans_outstanding', 'pre_loans_total_overdue', 'pre_loans_max_overdue_sum', 'pre_loans_credit_cost_rate', 'pre_loans5', 'pre_loans530', 'pre_loans3060', 'pre_loans6090', 'pre_loans90', 'is_zero_loans5',\n",
    " 'is_zero_loans530', 'is_zero_loans3060', 'is_zero_loans6090', 'is_zero_loans90', 'pre_util', 'pre_over2limit', 'pre_maxover2limit', 'is_zero_util', 'is_zero_over2limit', 'is_zero_maxover2limit', 'enc_paym_0',\n",
    " 'enc_paym_1', 'enc_paym_2', 'enc_paym_3', 'enc_paym_4', 'enc_paym_5', 'enc_paym_6', 'enc_paym_7', 'enc_paym_8', 'enc_paym_9', 'enc_paym_10', 'enc_paym_11','enc_paym_12', 'enc_paym_13', 'enc_paym_14', 'enc_paym_15',\n",
    " 'enc_paym_16', 'enc_paym_17', 'enc_paym_18', 'enc_paym_19', 'enc_paym_20', 'enc_paym_21', 'enc_paym_22', 'enc_paym_23', 'enc_paym_24', 'enc_loans_account_holder_type', 'enc_loans_credit_status','enc_loans_credit_type', 'enc_loans_account_cur', 'pclose_flag',\n",
    " 'fclose_flag']"
   ]
  },
  {
   "cell_type": "code",
   "execution_count": 6,
   "id": "2bb35835",
   "metadata": {},
   "outputs": [],
   "source": [
    "df = open_df(0)\n",
    "df2 = open_df(1)\n",
    "df3 = open_df(2)"
   ]
  },
  {
   "cell_type": "code",
   "execution_count": 7,
   "id": "2644df1a",
   "metadata": {},
   "outputs": [],
   "source": [
    "answers = pd.read_csv('train_target.csv')"
   ]
  },
  {
   "cell_type": "code",
   "execution_count": 8,
   "id": "e09d4c86",
   "metadata": {},
   "outputs": [],
   "source": [
    "df = pd.merge(df, answers, on='id', how='left')\n",
    "df2 = pd.merge(df2, answers, on='id', how='left')\n",
    "df3 = pd.merge(df3, answers, on='id', how='left')"
   ]
  },
  {
   "cell_type": "markdown",
   "id": "287bad04",
   "metadata": {},
   "source": [
    "# Сбалансировать таргет 50/50 #\n"
   ]
  },
  {
   "cell_type": "code",
   "execution_count": 40,
   "id": "84bff417",
   "metadata": {
    "scrolled": true
   },
   "outputs": [
    {
     "name": "stdout",
     "output_type": "stream",
     "text": [
      "sample_df3 start\n",
      "sample_df3 end\n",
      "-\n"
     ]
    }
   ],
   "source": [
    "df_balanced = sample_df(df, 100000, 50, 50)"
   ]
  },
  {
   "cell_type": "code",
   "execution_count": 12,
   "id": "dcf29290",
   "metadata": {},
   "outputs": [],
   "source": [
    "results_dict = dict()"
   ]
  },
  {
   "cell_type": "code",
   "execution_count": 42,
   "id": "12088eec",
   "metadata": {},
   "outputs": [],
   "source": [
    "models = [\n",
    "    KNeighborsClassifier(),\n",
    "#     SVC(),\n",
    "#     RandomForestClassifier(),\n",
    "#     MLPClassifier(),\n",
    "    LogisticRegression(),\n",
    "#     DecisionTreeClassifier(),\n",
    "#     GaussianNB(),\n",
    "]\n",
    "#     xgb(),\n",
    "#     lgb(),\n",
    "# ]"
   ]
  },
  {
   "cell_type": "code",
   "execution_count": 41,
   "id": "29f2e885",
   "metadata": {},
   "outputs": [],
   "source": [
    "x = df_balanced.drop('flag', axis=1)\n",
    "y = df_balanced['flag']\n"
   ]
  },
  {
   "cell_type": "code",
   "execution_count": 43,
   "id": "04931263",
   "metadata": {},
   "outputs": [],
   "source": [
    "model = KNeighborsClassifier()"
   ]
  },
  {
   "cell_type": "code",
   "execution_count": 44,
   "id": "010dbed4",
   "metadata": {},
   "outputs": [
    {
     "name": "stdout",
     "output_type": "stream",
     "text": [
      "train score acc -  0.8264857142857143\n",
      "test score acc -  0.7347666666666667\n",
      "train score roc -  0.9163496330612244\n",
      "test score roc -  0.8027531\n"
     ]
    }
   ],
   "source": [
    "df_train, df_test = train_test_split(df_balanced, stratify=df_balanced['flag'], test_size=0.3)\n",
    "\n",
    "x_train = df_train.drop('flag', axis=1)\n",
    "y_train = df_train.flag\n",
    "x_test = df_test.drop('flag', axis=1)\n",
    "y_test = df_test.flag\n",
    "\n",
    "model = KNeighborsClassifier()\n",
    "model.fit(x_train, y_train)\n",
    "\n",
    "pred_train = model.predict(x_train)\n",
    "pred_test = model.predict(x_test)\n",
    "print('train score acc - ', accuracy_score(y_train, pred_train))\n",
    "print('test score acc - ', accuracy_score(y_test, pred_test))\n",
    "\n",
    "\n",
    "prob_train = model.predict_proba(x_train)[:, 1]\n",
    "prob_test = model.predict_proba(x_test)[:, 1]\n",
    "print('train score roc - ', roc_auc_score(y_train, prob_train))\n",
    "print('test score roc - ', roc_auc_score(y_test, prob_test))\n",
    "\n"
   ]
  },
  {
   "cell_type": "code",
   "execution_count": 36,
   "id": "78beaa56",
   "metadata": {},
   "outputs": [
    {
     "data": {
      "text/html": [
       "<style>#sk-container-id-2 {color: black;background-color: white;}#sk-container-id-2 pre{padding: 0;}#sk-container-id-2 div.sk-toggleable {background-color: white;}#sk-container-id-2 label.sk-toggleable__label {cursor: pointer;display: block;width: 100%;margin-bottom: 0;padding: 0.3em;box-sizing: border-box;text-align: center;}#sk-container-id-2 label.sk-toggleable__label-arrow:before {content: \"▸\";float: left;margin-right: 0.25em;color: #696969;}#sk-container-id-2 label.sk-toggleable__label-arrow:hover:before {color: black;}#sk-container-id-2 div.sk-estimator:hover label.sk-toggleable__label-arrow:before {color: black;}#sk-container-id-2 div.sk-toggleable__content {max-height: 0;max-width: 0;overflow: hidden;text-align: left;background-color: #f0f8ff;}#sk-container-id-2 div.sk-toggleable__content pre {margin: 0.2em;color: black;border-radius: 0.25em;background-color: #f0f8ff;}#sk-container-id-2 input.sk-toggleable__control:checked~div.sk-toggleable__content {max-height: 200px;max-width: 100%;overflow: auto;}#sk-container-id-2 input.sk-toggleable__control:checked~label.sk-toggleable__label-arrow:before {content: \"▾\";}#sk-container-id-2 div.sk-estimator input.sk-toggleable__control:checked~label.sk-toggleable__label {background-color: #d4ebff;}#sk-container-id-2 div.sk-label input.sk-toggleable__control:checked~label.sk-toggleable__label {background-color: #d4ebff;}#sk-container-id-2 input.sk-hidden--visually {border: 0;clip: rect(1px 1px 1px 1px);clip: rect(1px, 1px, 1px, 1px);height: 1px;margin: -1px;overflow: hidden;padding: 0;position: absolute;width: 1px;}#sk-container-id-2 div.sk-estimator {font-family: monospace;background-color: #f0f8ff;border: 1px dotted black;border-radius: 0.25em;box-sizing: border-box;margin-bottom: 0.5em;}#sk-container-id-2 div.sk-estimator:hover {background-color: #d4ebff;}#sk-container-id-2 div.sk-parallel-item::after {content: \"\";width: 100%;border-bottom: 1px solid gray;flex-grow: 1;}#sk-container-id-2 div.sk-label:hover label.sk-toggleable__label {background-color: #d4ebff;}#sk-container-id-2 div.sk-serial::before {content: \"\";position: absolute;border-left: 1px solid gray;box-sizing: border-box;top: 0;bottom: 0;left: 50%;z-index: 0;}#sk-container-id-2 div.sk-serial {display: flex;flex-direction: column;align-items: center;background-color: white;padding-right: 0.2em;padding-left: 0.2em;position: relative;}#sk-container-id-2 div.sk-item {position: relative;z-index: 1;}#sk-container-id-2 div.sk-parallel {display: flex;align-items: stretch;justify-content: center;background-color: white;position: relative;}#sk-container-id-2 div.sk-item::before, #sk-container-id-2 div.sk-parallel-item::before {content: \"\";position: absolute;border-left: 1px solid gray;box-sizing: border-box;top: 0;bottom: 0;left: 50%;z-index: -1;}#sk-container-id-2 div.sk-parallel-item {display: flex;flex-direction: column;z-index: 1;position: relative;background-color: white;}#sk-container-id-2 div.sk-parallel-item:first-child::after {align-self: flex-end;width: 50%;}#sk-container-id-2 div.sk-parallel-item:last-child::after {align-self: flex-start;width: 50%;}#sk-container-id-2 div.sk-parallel-item:only-child::after {width: 0;}#sk-container-id-2 div.sk-dashed-wrapped {border: 1px dashed gray;margin: 0 0.4em 0.5em 0.4em;box-sizing: border-box;padding-bottom: 0.4em;background-color: white;}#sk-container-id-2 div.sk-label label {font-family: monospace;font-weight: bold;display: inline-block;line-height: 1.2em;}#sk-container-id-2 div.sk-label-container {text-align: center;}#sk-container-id-2 div.sk-container {/* jupyter's `normalize.less` sets `[hidden] { display: none; }` but bootstrap.min.css set `[hidden] { display: none !important; }` so we also need the `!important` here to be able to override the default hidden behavior on the sphinx rendered scikit-learn.org. See: https://github.com/scikit-learn/scikit-learn/issues/21755 */display: inline-block !important;position: relative;}#sk-container-id-2 div.sk-text-repr-fallback {display: none;}</style><div id=\"sk-container-id-2\" class=\"sk-top-container\"><div class=\"sk-text-repr-fallback\"><pre>KNeighborsClassifier()</pre><b>In a Jupyter environment, please rerun this cell to show the HTML representation or trust the notebook. <br />On GitHub, the HTML representation is unable to render, please try loading this page with nbviewer.org.</b></div><div class=\"sk-container\" hidden><div class=\"sk-item\"><div class=\"sk-estimator sk-toggleable\"><input class=\"sk-toggleable__control sk-hidden--visually\" id=\"sk-estimator-id-2\" type=\"checkbox\" checked><label for=\"sk-estimator-id-2\" class=\"sk-toggleable__label sk-toggleable__label-arrow\">KNeighborsClassifier</label><div class=\"sk-toggleable__content\"><pre>KNeighborsClassifier()</pre></div></div></div></div></div>"
      ],
      "text/plain": [
       "KNeighborsClassifier()"
      ]
     },
     "execution_count": 36,
     "metadata": {},
     "output_type": "execute_result"
    }
   ],
   "source": [
    "model.fit(x,y)"
   ]
  },
  {
   "cell_type": "code",
   "execution_count": 37,
   "id": "4cce8c9d",
   "metadata": {},
   "outputs": [
    {
     "name": "stdout",
     "output_type": "stream",
     "text": [
      "sample_df3 start\n",
      "sample_df3 end\n",
      "-\n"
     ]
    }
   ],
   "source": [
    "df2_balanced  = sample_df(df2, 100000, 50, 50)"
   ]
  },
  {
   "cell_type": "code",
   "execution_count": 38,
   "id": "4475a1cc",
   "metadata": {},
   "outputs": [],
   "source": [
    "x_test = df2_balanced.drop('flag', axis=1)\n",
    "y_test = df2_balanced['flag']"
   ]
  },
  {
   "cell_type": "code",
   "execution_count": 39,
   "id": "d17627f2",
   "metadata": {},
   "outputs": [
    {
     "name": "stdout",
     "output_type": "stream",
     "text": [
      "ROC AUC Score: 0.49996999999999997\n"
     ]
    }
   ],
   "source": [
    "y_pred_prob = model.predict_proba(x_test)[:, 1]\n",
    "\n",
    "# Calculate the ROC AUC score\n",
    "roc_auc = roc_auc_score(y_test, y_pred_prob)\n",
    "\n",
    "print(\"ROC AUC Score:\", roc_auc)"
   ]
  },
  {
   "cell_type": "code",
   "execution_count": null,
   "id": "4363b2b6",
   "metadata": {},
   "outputs": [],
   "source": []
  },
  {
   "cell_type": "code",
   "execution_count": 23,
   "id": "aadb8b6a",
   "metadata": {},
   "outputs": [],
   "source": [
    "for model in models:\n",
    "    \n",
    "    cv_scores = cross_val_score(model, x, y, cv=3, scoring='roc_auc')\n",
    "    results_dict[str(model)[0:str(model).find('(')]] = mean(cv_scores)\n"
   ]
  },
  {
   "cell_type": "code",
   "execution_count": 24,
   "id": "22660df9",
   "metadata": {},
   "outputs": [
    {
     "data": {
      "text/plain": [
       "{'LogisticRegression': 0.5402874331389534,\n",
       " 'KNeighborsClassifier': 0.7992882246846347}"
      ]
     },
     "execution_count": 24,
     "metadata": {},
     "output_type": "execute_result"
    }
   ],
   "source": [
    "results_dict"
   ]
  },
  {
   "cell_type": "code",
   "execution_count": null,
   "id": "27bdbbaa",
   "metadata": {},
   "outputs": [],
   "source": [
    "model = results_dict[????????]\n",
    "\n",
    "grid_search = GridSearchCV(estimator=model, param_grid=param_grid, cv=3, scoring='roc_auc')\n",
    "grid_search.fit(x, y)\n",
    "\n",
    "best_params = grid_search.best_params_\n",
    "best_score = grid_search.best_score_\n",
    "\n",
    "print(\"Best Parameters:\", best_params)\n",
    "print(\"Best Score:\", best_score)"
   ]
  },
  {
   "cell_type": "code",
   "execution_count": null,
   "id": "92162960",
   "metadata": {},
   "outputs": [],
   "source": []
  },
  {
   "cell_type": "code",
   "execution_count": null,
   "id": "8a5fc361",
   "metadata": {},
   "outputs": [],
   "source": []
  },
  {
   "cell_type": "code",
   "execution_count": null,
   "id": "b1dd5b05",
   "metadata": {},
   "outputs": [],
   "source": []
  },
  {
   "cell_type": "code",
   "execution_count": 15,
   "id": "b432476e",
   "metadata": {},
   "outputs": [],
   "source": [
    "new_row = dict()\n",
    "for col in cols:\n",
    "    new_row[col] = list(df.loc[df['id'] == 0,col])\n"
   ]
  },
  {
   "cell_type": "code",
   "execution_count": 16,
   "id": "5e43cf8b",
   "metadata": {},
   "outputs": [],
   "source": [
    "new_row_df = pd.DataFrame.from_records(new_row)"
   ]
  },
  {
   "cell_type": "markdown",
   "id": "4f849e8f",
   "metadata": {},
   "source": [
    "new_row_df.iloc[1,1] = [1,2]"
   ]
  },
  {
   "cell_type": "code",
   "execution_count": 17,
   "id": "89500505",
   "metadata": {},
   "outputs": [
    {
     "data": {
      "text/html": [
       "<div>\n",
       "<style scoped>\n",
       "    .dataframe tbody tr th:only-of-type {\n",
       "        vertical-align: middle;\n",
       "    }\n",
       "\n",
       "    .dataframe tbody tr th {\n",
       "        vertical-align: top;\n",
       "    }\n",
       "\n",
       "    .dataframe thead th {\n",
       "        text-align: right;\n",
       "    }\n",
       "</style>\n",
       "<table border=\"1\" class=\"dataframe\">\n",
       "  <thead>\n",
       "    <tr style=\"text-align: right;\">\n",
       "      <th></th>\n",
       "      <th>id</th>\n",
       "      <th>flag</th>\n",
       "    </tr>\n",
       "  </thead>\n",
       "  <tbody>\n",
       "    <tr>\n",
       "      <th>0</th>\n",
       "      <td>0</td>\n",
       "      <td>0</td>\n",
       "    </tr>\n",
       "    <tr>\n",
       "      <th>1</th>\n",
       "      <td>1</td>\n",
       "      <td>0</td>\n",
       "    </tr>\n",
       "    <tr>\n",
       "      <th>2</th>\n",
       "      <td>2</td>\n",
       "      <td>0</td>\n",
       "    </tr>\n",
       "    <tr>\n",
       "      <th>3</th>\n",
       "      <td>3</td>\n",
       "      <td>0</td>\n",
       "    </tr>\n",
       "    <tr>\n",
       "      <th>4</th>\n",
       "      <td>4</td>\n",
       "      <td>0</td>\n",
       "    </tr>\n",
       "    <tr>\n",
       "      <th>...</th>\n",
       "      <td>...</td>\n",
       "      <td>...</td>\n",
       "    </tr>\n",
       "    <tr>\n",
       "      <th>2999995</th>\n",
       "      <td>2999995</td>\n",
       "      <td>0</td>\n",
       "    </tr>\n",
       "    <tr>\n",
       "      <th>2999996</th>\n",
       "      <td>2999996</td>\n",
       "      <td>0</td>\n",
       "    </tr>\n",
       "    <tr>\n",
       "      <th>2999997</th>\n",
       "      <td>2999997</td>\n",
       "      <td>0</td>\n",
       "    </tr>\n",
       "    <tr>\n",
       "      <th>2999998</th>\n",
       "      <td>2999998</td>\n",
       "      <td>0</td>\n",
       "    </tr>\n",
       "    <tr>\n",
       "      <th>2999999</th>\n",
       "      <td>2999999</td>\n",
       "      <td>0</td>\n",
       "    </tr>\n",
       "  </tbody>\n",
       "</table>\n",
       "<p>3000000 rows × 2 columns</p>\n",
       "</div>"
      ],
      "text/plain": [
       "              id  flag\n",
       "0              0     0\n",
       "1              1     0\n",
       "2              2     0\n",
       "3              3     0\n",
       "4              4     0\n",
       "...          ...   ...\n",
       "2999995  2999995     0\n",
       "2999996  2999996     0\n",
       "2999997  2999997     0\n",
       "2999998  2999998     0\n",
       "2999999  2999999     0\n",
       "\n",
       "[3000000 rows x 2 columns]"
      ]
     },
     "execution_count": 17,
     "metadata": {},
     "output_type": "execute_result"
    }
   ],
   "source": [
    "answers"
   ]
  },
  {
   "cell_type": "code",
   "execution_count": null,
   "id": "e5af9739",
   "metadata": {},
   "outputs": [],
   "source": []
  },
  {
   "cell_type": "markdown",
   "id": "20522364",
   "metadata": {},
   "source": [
    "sns.heatmap(df_balanced.corr(), cmap='coolwarm', linewidths=0.5)\n"
   ]
  },
  {
   "cell_type": "markdown",
   "id": "664882b4",
   "metadata": {},
   "source": [
    "df_corr = df_balanced.corr()"
   ]
  },
  {
   "cell_type": "markdown",
   "id": "2d957c25",
   "metadata": {},
   "source": [
    "columns = df_corr.columns\n",
    "rows = df_corr.columns"
   ]
  },
  {
   "cell_type": "markdown",
   "id": "0d283b06",
   "metadata": {},
   "source": [
    "results_acc = [[]]*len(threshholds)"
   ]
  },
  {
   "cell_type": "markdown",
   "id": "e92351ef",
   "metadata": {},
   "source": [
    "results_acc"
   ]
  },
  {
   "cell_type": "code",
   "execution_count": null,
   "id": "0fd3b32f",
   "metadata": {},
   "outputs": [],
   "source": []
  },
  {
   "cell_type": "code",
   "execution_count": 100,
   "id": "b1758c4b",
   "metadata": {},
   "outputs": [
    {
     "name": "stdout",
     "output_type": "stream",
     "text": [
      "threshhold is  0.01\n",
      "0  fits done in loop  0\n",
      "1  fits done in loop  0\n",
      "2  fits done in loop  0\n",
      "threshhold is  0.05\n",
      "0  fits done in loop  1\n",
      "1  fits done in loop  1\n",
      "2  fits done in loop  1\n",
      "threshhold is  0.08\n",
      "0  fits done in loop  2\n",
      "1  fits done in loop  2\n",
      "2  fits done in loop  2\n"
     ]
    }
   ],
   "source": [
    "threshholds = [0.01, 0.05, 0.08]#,[0.02, 0.03, 0.04, 0.05, 0.06, 0.07]\n",
    "results_acc = [[]]*len(threshholds)\n",
    "results_roc = [[]]*len(threshholds)\n",
    "counter = 0\n",
    "for entry_1 in threshholds:\n",
    "    \n",
    "    print('threshhold is ', entry_1)\n",
    "\n",
    "    corrs = []\n",
    "    for col in columns:\n",
    "        corrs.append((df_balanced.flag.corr(df_balanced[col]), col))\n",
    "    corrs = corrs[:-1]\n",
    "    corrs = sorted(corrs)\n",
    "\n",
    "\n",
    "    significant_cols = []\n",
    "\n",
    "    threshhold = entry_1\n",
    "\n",
    "    for entry in corrs:\n",
    "        if entry[0] < -threshhold or entry[0] > threshhold:\n",
    "            significant_cols.append(entry[1])\n",
    "    significant_cols.append('flag')\n",
    "    \n",
    "    \n",
    "    df_balanced_cut = df_balanced[significant_cols]\n",
    "    \n",
    "    for i in range(3):\n",
    "        \n",
    "        df_train, df_test = train_test_split(df_balanced_cut, stratify=df_balanced_cut['flag'], test_size=0.3)\n",
    "\n",
    "        x_train = df_train.drop('flag', axis=1)\n",
    "        y_train = df_train.flag\n",
    "        x_test = df_test.drop('flag', axis=1)\n",
    "        y_test = df_test.flag\n",
    "\n",
    "        model = RandomForestClassifier()\n",
    "        model.fit(x_train, y_train)\n",
    "\n",
    "        \n",
    "        pred_train = model.predict(x_train)\n",
    "        pred_test = model.predict(x_test)\n",
    "    #     print('train score acc - ', accuracy_score(y_train, pred_train))\n",
    "    #     print('test score acc - ', accuracy_score(y_test, pred_test))\n",
    "        results_acc[counter].append(accuracy_score(y_test, pred_test))\n",
    "\n",
    "\n",
    "        prob_train = model.predict_proba(x_train)[:, 1]\n",
    "        prob_test = model.predict_proba(x_test)[:, 1]\n",
    "    #     print('train score roc - ', roc_auc_score(y_train, prob_train))\n",
    "    #     print('test score roc - ', roc_auc_score(y_test, prob_test))\n",
    "        results_roc[counter].append(roc_auc_score(y_test, prob_test))\n",
    "        \n",
    "        print(i, ' fits done in loop ', counter)\n",
    "\n",
    "\n",
    "\n",
    "    counter += 1"
   ]
  },
  {
   "cell_type": "code",
   "execution_count": null,
   "id": "26c73587",
   "metadata": {},
   "outputs": [],
   "source": []
  },
  {
   "cell_type": "code",
   "execution_count": 106,
   "id": "3c5b6001",
   "metadata": {},
   "outputs": [
    {
     "data": {
      "text/plain": [
       "[[0.6377428977777777,\n",
       "  0.6372906488888889,\n",
       "  0.6340239244444446,\n",
       "  0.609586251111111,\n",
       "  0.6111367733333335,\n",
       "  0.6120779888888889,\n",
       "  0.60261152,\n",
       "  0.5999410177777779,\n",
       "  0.6023576733333333],\n",
       " [0.6377428977777777,\n",
       "  0.6372906488888889,\n",
       "  0.6340239244444446,\n",
       "  0.609586251111111,\n",
       "  0.6111367733333335,\n",
       "  0.6120779888888889,\n",
       "  0.60261152,\n",
       "  0.5999410177777779,\n",
       "  0.6023576733333333],\n",
       " [0.6377428977777777,\n",
       "  0.6372906488888889,\n",
       "  0.6340239244444446,\n",
       "  0.609586251111111,\n",
       "  0.6111367733333335,\n",
       "  0.6120779888888889,\n",
       "  0.60261152,\n",
       "  0.5999410177777779,\n",
       "  0.6023576733333333]]"
      ]
     },
     "execution_count": 106,
     "metadata": {},
     "output_type": "execute_result"
    }
   ],
   "source": [
    "results_roc"
   ]
  },
  {
   "cell_type": "markdown",
   "id": "f70aeb3b",
   "metadata": {},
   "source": [
    "for i in range(len(results_roc)):\n",
    "    print('for threshhold ',threshholds[i], ' avg is ', results_roc[i].mean())\n",
    "for i in range(len(results_roc)):\n",
    "    print('for threshhold ',threshholds[i], ' avg is ', results_acc[i].mean())"
   ]
  },
  {
   "cell_type": "code",
   "execution_count": null,
   "id": "4ecf171a",
   "metadata": {},
   "outputs": [],
   "source": []
  },
  {
   "cell_type": "code",
   "execution_count": null,
   "id": "ac36914a",
   "metadata": {},
   "outputs": [],
   "source": []
  },
  {
   "cell_type": "code",
   "execution_count": 70,
   "id": "5da8971f",
   "metadata": {},
   "outputs": [],
   "source": []
  },
  {
   "cell_type": "code",
   "execution_count": 84,
   "id": "df676ffc",
   "metadata": {},
   "outputs": [],
   "source": [
    "df_train, df_test = train_test_split(df_balanced, stratify=df_balanced['flag'], test_size=0.3)"
   ]
  },
  {
   "cell_type": "code",
   "execution_count": 85,
   "id": "8395146f",
   "metadata": {},
   "outputs": [],
   "source": [
    "x_train = df_train.drop('flag', axis=1)\n",
    "y_train = df_train.flag\n",
    "x_test = df_test.drop('flag', axis=1)\n",
    "y_test = df_test.flag"
   ]
  },
  {
   "cell_type": "markdown",
   "id": "c8922419",
   "metadata": {},
   "source": [
    "rf =  RandomForestClassifier()"
   ]
  },
  {
   "cell_type": "markdown",
   "id": "85a2405d",
   "metadata": {},
   "source": [
    "rf.fit(x_train, y_train)"
   ]
  },
  {
   "cell_type": "code",
   "execution_count": 49,
   "id": "1dd9f1f3",
   "metadata": {},
   "outputs": [],
   "source": [
    "model = LogisticRegression()"
   ]
  },
  {
   "cell_type": "code",
   "execution_count": 86,
   "id": "e5310107",
   "metadata": {},
   "outputs": [],
   "source": [
    "model = RandomForestClassifier()"
   ]
  },
  {
   "cell_type": "code",
   "execution_count": 59,
   "id": "e153054a",
   "metadata": {},
   "outputs": [],
   "source": [
    "model  = MLPClassifier()"
   ]
  },
  {
   "cell_type": "code",
   "execution_count": null,
   "id": "016150e4",
   "metadata": {},
   "outputs": [],
   "source": []
  },
  {
   "cell_type": "code",
   "execution_count": null,
   "id": "9493a1d4",
   "metadata": {},
   "outputs": [],
   "source": []
  },
  {
   "cell_type": "code",
   "execution_count": null,
   "id": "2314c917",
   "metadata": {},
   "outputs": [],
   "source": []
  },
  {
   "cell_type": "code",
   "execution_count": null,
   "id": "297dd0a8",
   "metadata": {},
   "outputs": [],
   "source": []
  },
  {
   "cell_type": "code",
   "execution_count": null,
   "id": "7e10d477",
   "metadata": {},
   "outputs": [],
   "source": []
  },
  {
   "cell_type": "markdown",
   "id": "c3aa131d",
   "metadata": {},
   "source": [
    "# готовый скрипт "
   ]
  },
  {
   "cell_type": "code",
   "execution_count": 75,
   "id": "ac83ce2a",
   "metadata": {},
   "outputs": [],
   "source": [
    "# путь до данных на компьютере\n",
    "path = 'train_data/'"
   ]
  },
  {
   "cell_type": "code",
   "execution_count": 48,
   "id": "0494bad6",
   "metadata": {},
   "outputs": [],
   "source": [
    "import os\n",
    "import pandas as pd\n",
    "import tqdm\n",
    "\n",
    "\n",
    "def read_parquet_dataset_from_local(path_to_dataset: str, start_from: int = 0,\n",
    "                                     num_parts_to_read: int = 2, columns=None, verbose=False) -> pd.DataFrame:\n",
    "    \"\"\"\n",
    "    читает num_parts_to_read партиций, преобразовывает их к pd.DataFrame и возвращает\n",
    "    :param path_to_dataset: путь до директории с партициями\n",
    "    :param start_from: номер партиции, с которой нужно начать чтение\n",
    "    :param num_parts_to_read: количество партиций, которые требуется прочитать\n",
    "    :param columns: список колонок, которые нужно прочитать из партиции\n",
    "    :return: pd.DataFrame\n",
    "    \"\"\"\n",
    "\n",
    "    res = []\n",
    "    dataset_paths = sorted([os.path.join(path_to_dataset, filename) for filename in os.listdir(path_to_dataset)\n",
    "                              if filename.startswith('train')])\n",
    "    print(dataset_paths)\n",
    "\n",
    "    start_from = max(0, start_from)\n",
    "    chunks = dataset_paths[start_from: start_from + num_parts_to_read]\n",
    "    if verbose:\n",
    "        print('Reading chunks:\\n')\n",
    "        for chunk in chunks:\n",
    "            print(chunk)\n",
    "    for chunk_path in tqdm.tqdm_notebook(chunks, desc=\"Reading dataset with pandas\"):\n",
    "        print('chunk_path', chunk_path)\n",
    "        chunk = pd.read_parquet(chunk_path,columns=columns)\n",
    "        res.append(chunk)\n",
    "\n",
    "    return pd.concat(res).reset_index(drop=True)"
   ]
  },
  {
   "cell_type": "code",
   "execution_count": 50,
   "id": "f6fa08a0",
   "metadata": {},
   "outputs": [],
   "source": [
    "# answers\n",
    "check = []\n",
    "for i in range(len(answers)-1):\n",
    "#     if i == \n",
    "    check.append(answers.id[i]+1 == answers.id[i+1])"
   ]
  }
 ],
 "metadata": {
  "kernelspec": {
   "display_name": "Python 3 (ipykernel)",
   "language": "python",
   "name": "python3"
  },
  "language_info": {
   "codemirror_mode": {
    "name": "ipython",
    "version": 3
   },
   "file_extension": ".py",
   "mimetype": "text/x-python",
   "name": "python",
   "nbconvert_exporter": "python",
   "pygments_lexer": "ipython3",
   "version": "3.11.5"
  }
 },
 "nbformat": 4,
 "nbformat_minor": 5
}

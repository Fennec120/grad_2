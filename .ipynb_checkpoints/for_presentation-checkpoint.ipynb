{
 "cells": [
  {
   "cell_type": "code",
   "execution_count": 1,
   "id": "cd1782da",
   "metadata": {},
   "outputs": [],
   "source": [
    "requirements =[\n",
    "    'sklearn',\n",
    "    'matplotlib',\n",
    "    'IPython',\n",
    "    'pandas',\n",
    "    'duckdb',\n",
    "    'joblib',\n",
    "    'fastparquet',\n",
    "    'os',\n",
    "    'tqdm',\n",
    "    'numpy',\n",
    "    'warnings',\n",
    "]"
   ]
  },
  {
   "cell_type": "code",
   "execution_count": 2,
   "id": "e4bfb46b",
   "metadata": {},
   "outputs": [],
   "source": [
    "# general\n",
    "import pandas as pd\n",
    "import duckdb\n",
    "from sklearn.pipeline import Pipeline\n",
    "import joblib\n",
    "import fastparquet\n",
    "import os\n",
    "import tqdm\n",
    "import numpy as np\n",
    "import warnings\n",
    "import json\n",
    "from IPython import get_ipython\n",
    "\n",
    "# suppress all warnings\n",
    "warnings.filterwarnings(\"ignore\")\n",
    "\n",
    "from sklearn.metrics import roc_auc_score\n",
    "from sklearn.model_selection import GridSearchCV\n",
    "\n",
    "# drawing\n",
    "import matplotlib.pyplot as plt\n",
    "\n",
    "\n",
    "# transform\n",
    "from sklearn.model_selection import train_test_split\n",
    "from sklearn.model_selection import StratifiedKFold\n",
    "from sklearn.preprocessing import FunctionTransformer\n",
    "from sklearn.preprocessing import OneHotEncoder\n",
    "\n",
    "\n",
    "# estimators\n",
    "import xgboost as xgb\n",
    "\n",
    "# functions & classes from neighboring ipynb file\n",
    "%run \"functions & classes.ipynb\""
   ]
  },
  {
   "cell_type": "code",
   "execution_count": 3,
   "id": "7e2cdd8d",
   "metadata": {},
   "outputs": [],
   "source": [
    "# классификаторы для гиппотез\n",
    "from sklearn.neighbors import KNeighborsClassifier\n",
    "from sklearn.svm import SVC\n",
    "from sklearn.ensemble import RandomForestClassifier\n",
    "from sklearn.neural_network import MLPClassifier\n",
    "from sklearn.linear_model import LogisticRegression\n",
    "from sklearn.tree import DecisionTreeClassifier\n",
    "from sklearn.naive_bayes import GaussianNB"
   ]
  },
  {
   "cell_type": "code",
   "execution_count": 4,
   "id": "7f3b78fa",
   "metadata": {},
   "outputs": [],
   "source": [
    "tst = fastparquet.ParquetFile('train_data/df_compiled_v17_301_cols_full.pq').to_pandas()"
   ]
  },
  {
   "cell_type": "code",
   "execution_count": 13,
   "id": "588e8079",
   "metadata": {},
   "outputs": [
    {
     "data": {
      "text/html": [
       "<div>\n",
       "<style scoped>\n",
       "    .dataframe tbody tr th:only-of-type {\n",
       "        vertical-align: middle;\n",
       "    }\n",
       "\n",
       "    .dataframe tbody tr th {\n",
       "        vertical-align: top;\n",
       "    }\n",
       "\n",
       "    .dataframe thead th {\n",
       "        text-align: right;\n",
       "    }\n",
       "</style>\n",
       "<table border=\"1\" class=\"dataframe\">\n",
       "  <thead>\n",
       "    <tr style=\"text-align: right;\">\n",
       "      <th></th>\n",
       "      <th>closed_faster_than_expected</th>\n",
       "      <th>credit_costs</th>\n",
       "      <th>credit_costs_sq</th>\n",
       "      <th>credit_limit</th>\n",
       "      <th>credit_line_length</th>\n",
       "      <th>credit_status_general_mean</th>\n",
       "      <th>credit_status_prevalent_atm</th>\n",
       "      <th>enc_loans_account_cur</th>\n",
       "      <th>enc_loans_account_cur_0</th>\n",
       "      <th>enc_loans_account_cur_0_agg</th>\n",
       "      <th>...</th>\n",
       "      <th>pre_util_3_agg</th>\n",
       "      <th>pre_util_4_agg</th>\n",
       "      <th>pre_util_5_agg</th>\n",
       "      <th>pre_util_6_agg</th>\n",
       "      <th>pre_util_7_agg</th>\n",
       "      <th>pre_util_8_agg</th>\n",
       "      <th>pre_util_9_agg</th>\n",
       "      <th>prone_to_close_faster</th>\n",
       "      <th>prone_to_overdue</th>\n",
       "      <th>rn</th>\n",
       "    </tr>\n",
       "  </thead>\n",
       "  <tbody>\n",
       "    <tr>\n",
       "      <th>0</th>\n",
       "      <td>0</td>\n",
       "      <td>80</td>\n",
       "      <td>6400.0</td>\n",
       "      <td>16</td>\n",
       "      <td>10</td>\n",
       "      <td>2.6</td>\n",
       "      <td>3</td>\n",
       "      <td>1</td>\n",
       "      <td>0.0</td>\n",
       "      <td>0.0</td>\n",
       "      <td>...</td>\n",
       "      <td>0.0</td>\n",
       "      <td>0.0</td>\n",
       "      <td>0.0</td>\n",
       "      <td>0.0</td>\n",
       "      <td>0.0</td>\n",
       "      <td>0.0</td>\n",
       "      <td>1.0</td>\n",
       "      <td>0.2</td>\n",
       "      <td>14.9</td>\n",
       "      <td>10</td>\n",
       "    </tr>\n",
       "  </tbody>\n",
       "</table>\n",
       "<p>1 rows × 301 columns</p>\n",
       "</div>"
      ],
      "text/plain": [
       "   closed_faster_than_expected  credit_costs  credit_costs_sq  credit_limit  \\\n",
       "0                            0            80           6400.0            16   \n",
       "\n",
       "   credit_line_length  credit_status_general_mean  \\\n",
       "0                  10                         2.6   \n",
       "\n",
       "   credit_status_prevalent_atm  enc_loans_account_cur  \\\n",
       "0                            3                      1   \n",
       "\n",
       "   enc_loans_account_cur_0  enc_loans_account_cur_0_agg  ...  pre_util_3_agg  \\\n",
       "0                      0.0                          0.0  ...             0.0   \n",
       "\n",
       "   pre_util_4_agg  pre_util_5_agg  pre_util_6_agg  pre_util_7_agg  \\\n",
       "0             0.0             0.0             0.0             0.0   \n",
       "\n",
       "   pre_util_8_agg  pre_util_9_agg  prone_to_close_faster  prone_to_overdue  rn  \n",
       "0             0.0             1.0                    0.2              14.9  10  \n",
       "\n",
       "[1 rows x 301 columns]"
      ]
     },
     "execution_count": 13,
     "metadata": {},
     "output_type": "execute_result"
    }
   ],
   "source": [
    "tst[tst['id'] == 0]"
   ]
  },
  {
   "cell_type": "code",
   "execution_count": 6,
   "id": "b1f67078",
   "metadata": {},
   "outputs": [],
   "source": [
    "df = fastparquet.ParquetFile('train_data/train_data_0.pq').to_pandas()"
   ]
  },
  {
   "cell_type": "code",
   "execution_count": 15,
   "id": "0b740251",
   "metadata": {},
   "outputs": [
    {
     "data": {
      "text/plain": [
       "0     9\n",
       "1     9\n",
       "2     9\n",
       "3     1\n",
       "4    12\n",
       "5     0\n",
       "6     9\n",
       "7     9\n",
       "8     9\n",
       "9     9\n",
       "Name: pre_since_confirmed, dtype: int64"
      ]
     },
     "execution_count": 15,
     "metadata": {},
     "output_type": "execute_result"
    }
   ],
   "source": [
    "df[df['id'] == 0]['pre_since_confirmed']#.unique()[ 9,  1, 12,  0]"
   ]
  },
  {
   "cell_type": "code",
   "execution_count": 17,
   "id": "cf6692c9",
   "metadata": {},
   "outputs": [
    {
     "data": {
      "text/plain": [
       "['pre_since_confirmed_0_agg',\n",
       " 'pre_since_confirmed_10_agg',\n",
       " 'pre_since_confirmed_11_agg',\n",
       " 'pre_since_confirmed_12_agg',\n",
       " 'pre_since_confirmed_13_agg',\n",
       " 'pre_since_confirmed_14_agg',\n",
       " 'pre_since_confirmed_15_agg',\n",
       " 'pre_since_confirmed_16_agg',\n",
       " 'pre_since_confirmed_17_agg',\n",
       " 'pre_since_confirmed_1_agg',\n",
       " 'pre_since_confirmed_2_agg',\n",
       " 'pre_since_confirmed_3_agg',\n",
       " 'pre_since_confirmed_4_agg',\n",
       " 'pre_since_confirmed_5_agg',\n",
       " 'pre_since_confirmed_6_agg',\n",
       " 'pre_since_confirmed_7_agg',\n",
       " 'pre_since_confirmed_8_agg',\n",
       " 'pre_since_confirmed_9_agg']"
      ]
     },
     "execution_count": 17,
     "metadata": {},
     "output_type": "execute_result"
    }
   ],
   "source": [
    "cols = []\n",
    "for entry in tst.columns:\n",
    "    if 'pre_since_confirmed' in entry:\n",
    "        if entry == 'pre_since_confirmed':\n",
    "            continue\n",
    "        cols.append(entry)\n",
    "cols"
   ]
  },
  {
   "cell_type": "code",
   "execution_count": 29,
   "id": "334312ad",
   "metadata": {},
   "outputs": [],
   "source": [
    "cols_2 = ['id',\n",
    "    'pre_since_confirmed_0_agg',\n",
    " 'pre_since_confirmed_1_agg',\n",
    "  'pre_since_confirmed_8_agg',\n",
    " 'pre_since_confirmed_9_agg',\n",
    "          'pre_since_confirmed_12_agg',\n",
    "]"
   ]
  },
  {
   "cell_type": "code",
   "execution_count": 31,
   "id": "802d2aa9",
   "metadata": {},
   "outputs": [
    {
     "data": {
      "text/html": [
       "<div>\n",
       "<style scoped>\n",
       "    .dataframe tbody tr th:only-of-type {\n",
       "        vertical-align: middle;\n",
       "    }\n",
       "\n",
       "    .dataframe tbody tr th {\n",
       "        vertical-align: top;\n",
       "    }\n",
       "\n",
       "    .dataframe thead th {\n",
       "        text-align: right;\n",
       "    }\n",
       "</style>\n",
       "<table border=\"1\" class=\"dataframe\">\n",
       "  <thead>\n",
       "    <tr style=\"text-align: right;\">\n",
       "      <th></th>\n",
       "      <th>id</th>\n",
       "      <th>pre_since_confirmed_0_agg</th>\n",
       "      <th>pre_since_confirmed_1_agg</th>\n",
       "      <th>pre_since_confirmed_8_agg</th>\n",
       "      <th>pre_since_confirmed_9_agg</th>\n",
       "      <th>pre_since_confirmed_12_agg</th>\n",
       "    </tr>\n",
       "  </thead>\n",
       "  <tbody>\n",
       "    <tr>\n",
       "      <th>0</th>\n",
       "      <td>0</td>\n",
       "      <td>1.0</td>\n",
       "      <td>1.0</td>\n",
       "      <td>0.0</td>\n",
       "      <td>7.0</td>\n",
       "      <td>1.0</td>\n",
       "    </tr>\n",
       "    <tr>\n",
       "      <th>1</th>\n",
       "      <td>1</td>\n",
       "      <td>0.0</td>\n",
       "      <td>0.0</td>\n",
       "      <td>1.0</td>\n",
       "      <td>1.0</td>\n",
       "      <td>0.0</td>\n",
       "    </tr>\n",
       "    <tr>\n",
       "      <th>2</th>\n",
       "      <td>2</td>\n",
       "      <td>0.0</td>\n",
       "      <td>0.0</td>\n",
       "      <td>0.0</td>\n",
       "      <td>2.0</td>\n",
       "      <td>0.0</td>\n",
       "    </tr>\n",
       "    <tr>\n",
       "      <th>3</th>\n",
       "      <td>3</td>\n",
       "      <td>1.0</td>\n",
       "      <td>1.0</td>\n",
       "      <td>0.0</td>\n",
       "      <td>7.0</td>\n",
       "      <td>0.0</td>\n",
       "    </tr>\n",
       "    <tr>\n",
       "      <th>4</th>\n",
       "      <td>4</td>\n",
       "      <td>0.0</td>\n",
       "      <td>0.0</td>\n",
       "      <td>0.0</td>\n",
       "      <td>1.0</td>\n",
       "      <td>0.0</td>\n",
       "    </tr>\n",
       "    <tr>\n",
       "      <th>...</th>\n",
       "      <td>...</td>\n",
       "      <td>...</td>\n",
       "      <td>...</td>\n",
       "      <td>...</td>\n",
       "      <td>...</td>\n",
       "      <td>...</td>\n",
       "    </tr>\n",
       "    <tr>\n",
       "      <th>2999995</th>\n",
       "      <td>2499995</td>\n",
       "      <td>0.0</td>\n",
       "      <td>2.0</td>\n",
       "      <td>1.0</td>\n",
       "      <td>0.0</td>\n",
       "      <td>0.0</td>\n",
       "    </tr>\n",
       "    <tr>\n",
       "      <th>2999996</th>\n",
       "      <td>2499996</td>\n",
       "      <td>0.0</td>\n",
       "      <td>0.0</td>\n",
       "      <td>0.0</td>\n",
       "      <td>0.0</td>\n",
       "      <td>0.0</td>\n",
       "    </tr>\n",
       "    <tr>\n",
       "      <th>2999997</th>\n",
       "      <td>2499997</td>\n",
       "      <td>1.0</td>\n",
       "      <td>0.0</td>\n",
       "      <td>3.0</td>\n",
       "      <td>0.0</td>\n",
       "      <td>0.0</td>\n",
       "    </tr>\n",
       "    <tr>\n",
       "      <th>2999998</th>\n",
       "      <td>2499998</td>\n",
       "      <td>0.0</td>\n",
       "      <td>0.0</td>\n",
       "      <td>0.0</td>\n",
       "      <td>5.0</td>\n",
       "      <td>1.0</td>\n",
       "    </tr>\n",
       "    <tr>\n",
       "      <th>2999999</th>\n",
       "      <td>2499999</td>\n",
       "      <td>0.0</td>\n",
       "      <td>0.0</td>\n",
       "      <td>0.0</td>\n",
       "      <td>9.0</td>\n",
       "      <td>0.0</td>\n",
       "    </tr>\n",
       "  </tbody>\n",
       "</table>\n",
       "<p>3000000 rows × 6 columns</p>\n",
       "</div>"
      ],
      "text/plain": [
       "              id  pre_since_confirmed_0_agg  pre_since_confirmed_1_agg  \\\n",
       "0              0                        1.0                        1.0   \n",
       "1              1                        0.0                        0.0   \n",
       "2              2                        0.0                        0.0   \n",
       "3              3                        1.0                        1.0   \n",
       "4              4                        0.0                        0.0   \n",
       "...          ...                        ...                        ...   \n",
       "2999995  2499995                        0.0                        2.0   \n",
       "2999996  2499996                        0.0                        0.0   \n",
       "2999997  2499997                        1.0                        0.0   \n",
       "2999998  2499998                        0.0                        0.0   \n",
       "2999999  2499999                        0.0                        0.0   \n",
       "\n",
       "         pre_since_confirmed_8_agg  pre_since_confirmed_9_agg  \\\n",
       "0                              0.0                        7.0   \n",
       "1                              1.0                        1.0   \n",
       "2                              0.0                        2.0   \n",
       "3                              0.0                        7.0   \n",
       "4                              0.0                        1.0   \n",
       "...                            ...                        ...   \n",
       "2999995                        1.0                        0.0   \n",
       "2999996                        0.0                        0.0   \n",
       "2999997                        3.0                        0.0   \n",
       "2999998                        0.0                        5.0   \n",
       "2999999                        0.0                        9.0   \n",
       "\n",
       "         pre_since_confirmed_12_agg  \n",
       "0                               1.0  \n",
       "1                               0.0  \n",
       "2                               0.0  \n",
       "3                               0.0  \n",
       "4                               0.0  \n",
       "...                             ...  \n",
       "2999995                         0.0  \n",
       "2999996                         0.0  \n",
       "2999997                         0.0  \n",
       "2999998                         1.0  \n",
       "2999999                         0.0  \n",
       "\n",
       "[3000000 rows x 6 columns]"
      ]
     },
     "execution_count": 31,
     "metadata": {},
     "output_type": "execute_result"
    }
   ],
   "source": [
    "tst[cols_2]#[tst['id'] == 0]"
   ]
  },
  {
   "cell_type": "markdown",
   "id": "56c65978",
   "metadata": {},
   "source": [
    "# Запустите, пожалуйста, следующие ячейки"
   ]
  },
  {
   "cell_type": "code",
   "execution_count": 9,
   "id": "771535d3",
   "metadata": {},
   "outputs": [],
   "source": [
    "# это список функций-трансформеров необходимых для обработки данных\n",
    "# сами функции, а так же специальный класс описаны в сосендей jupyter-тетрадке functions & classes.ipynb и отсюда\n",
    "# убраны в целях удобства просмотра работы\n",
    "\n",
    "default_transformers = [answers_func_optimised,\n",
    "                        outstanding_loans_summ,\n",
    "                        outstanding_loans_summ_sq,\n",
    "                        loans_overdue_summ,\n",
    "                        loans_overdue_summ_sq,\n",
    "                        credit_limit,\n",
    "                        credit_costs,\n",
    "                        credit_costs_sq,\n",
    "                        max_overdue,\n",
    "                        credit_status_general_mean,\n",
    "                        credit_status_prevalent_atm,\n",
    "                        overdue_and_quick_closure_duck_optimised,\n",
    "                        credit_line_length,\n",
    "                        dropping_cols,\n",
    "                        custom_agregating_optimised,\n",
    "                        ohe_handpicked,\n",
    "                        column_checker,\n",
    "                       ]"
   ]
  },
  {
   "cell_type": "code",
   "execution_count": 10,
   "id": "4807b994",
   "metadata": {},
   "outputs": [],
   "source": [
    "# инициализация экземпляра специального класса для обработки и предсказаний в рамках текущей работы\n",
    "grad_2 = Grad_2('train_data/', default_transformers) "
   ]
  },
  {
   "cell_type": "code",
   "execution_count": 8,
   "id": "ba3a2663",
   "metadata": {
    "scrolled": true
   },
   "outputs": [
    {
     "name": "stdout",
     "output_type": "stream",
     "text": [
      "Grad_2.fit()\n",
      "\"\n",
      "        Combines:\n",
      "        Grad_2.prepare_dataset method\n",
      "        Grad_2.fit_model method\n",
      "        \n",
      "        basically preprocesses dataset and fits model in one go\n",
      "        \n",
      "        :param path_to_dataset: путь до директории с партициями\n",
      "        :param start_from: номер партиции, с которой нужно начать чтение\n",
      "        :param num_parts_to_read: количество партиций, которые требуется прочитать\n",
      "        :param columns: список колонок, которые нужно прочитать из партиции\n",
      "---new! :param transformers: лист функций-трансформеров данных                        \n",
      "        :return:    xgboost.sklearn.XGBClassifier - fitted model,\n",
      "                    pd.DataFrame - X_test prediction data, \n",
      "                    pd.DataFrame - y_test target array\n",
      "        \n",
      "--- description end ---\n",
      "\n",
      "\n",
      "Grad_2.fit_model()\n",
      "\"\n",
      "        Fits XGBClassifier with prepared data, gives back fiitted model, X_test and y_test\n",
      "        \n",
      "        :param df: dataset for model to be fit with\n",
      "        :return: xgboost.sklearn.XGBClassifier, pd.DataFrame, pd.DataFrame\n",
      "        \n",
      "        ex.:\n",
      "        model, X_test, y_test = class_exemplar.fit_model(dataframe)\n",
      "        \n",
      "--- description end ---\n",
      "\n",
      "\n",
      "Grad_2.load_model()\n",
      "\"\n",
      "        Loads model from designated local folder\n",
      "        \n",
      "        :param path_to_model: designated local folder\n",
      "        :return: xgboost.sklearn.XGBClassifier - supposedly fitted model\n",
      "        \n",
      "        ex.:\n",
      "        loaded_model = class_exemplar.load_model('models/model_1.pkl')\n",
      "        \n",
      "--- description end ---\n",
      "\n",
      "\n",
      "Grad_2.predict()\n",
      "\"\n",
      "        Makes prediction based on a provided test-chunk of a dataset\n",
      "        \n",
      "        :param fitted_model: fitted model\n",
      "        :param X_test: prediction data\n",
      "        :param y_test: target data\n",
      "        :write_it_down True/False: write down predictions to 'predicts/' folder. or dont\n",
      "        :return: array\n",
      "        \n",
      "        ex.:\n",
      "        prediced_probabilities = class_exemplar.predict(fitted_model, X_test, y_test, True):\n",
      "        \n",
      "--- description end ---\n",
      "\n",
      "\n",
      "Grad_2.prepare_dataset()\n",
      "\n",
      "        Предоставленный инструмент по сбору итогового датасета.\n",
      "        \n",
      "        Доработки:\n",
      "        1) теперь на вход так же принимает лист функций, в дальнейшем они оборачиваются в function_transformer \n",
      "        и служат этапами в пайплайне по обработке данных\n",
      "\n",
      "        2) была заменена библиотека для чтения паркет-файлов - pandas и pyarrow у меня моментально \n",
      "        убивают ядро - вместо этого используется fastparquet - свою функцию выполняет.\n",
      "        \n",
      "        3) в следствии различного наполнения кусков сета данными и особенностей агрегации \"на выходе\" добавлен код, \n",
      "        который заполняет пустоты нулями, чтобы модель не ругалась\n",
      "\n",
      "        читает num_parts_to_read партиций, преобразовывает их к pd.DataFrame и возвращает\n",
      "        :param path_to_dataset: путь до директории с партициями\n",
      "        :param start_from: номер партиции, с которой нужно начать чтение\n",
      "        :param num_parts_to_read: количество партиций, которые требуется прочитать\n",
      "        :param columns: список колонок, которые нужно прочитать из партиции\n",
      "---new! :param transformers: лист функций-трансформеров данных                        \n",
      "        :return: pd.DataFrame\n",
      "        \n",
      "--- description end ---\n",
      "\n",
      "\n",
      "Grad_2.write_dataset_down()\n",
      "\"\n",
      "        Writes dataset down in the same folder as its fragmented and non-aggregated part were stored in i.e. '/train_data'\n",
      "        \n",
      "        :param df: dataset to be written down to .pq format\n",
      "        :param path_to_dataset: path to fragmented dataset\n",
      "        :return: None\n",
      "        \n",
      "        ex.:\n",
      "        class_exemplar.write_dataset_down(dataframe, 'train_data')\n",
      "        \n",
      "--- description end ---\n",
      "\n",
      "\n",
      "Grad_2.write_down_model()\n",
      "\"\n",
      "        writes down fitted model for later use\n",
      "        \n",
      "        :param model: takes fitted model\n",
      "        :param model_filename: str file name for written down model, without .pkl, just the name\n",
      "        :return: None\n",
      "        \n",
      "        ex.:\n",
      "        class_exemplar.write_down_model(fitted_model, 'model_1')\n",
      "        \n",
      "--- description end ---\n",
      "\n",
      "\n"
     ]
    }
   ],
   "source": [
    "# методы класса и их описания\n",
    "ipython = get_ipython()\n",
    "\n",
    "for entry in dir(Grad_2)[-7::]:\n",
    "    \n",
    "    print(f'Grad_2.{entry}()')\n",
    "    \n",
    "    code_to_execute = f'print(Grad_2.{entry}.__doc__)'\n",
    "    ipython.run_cell(code_to_execute)\n",
    "    \n",
    "    print('--- description end ---')\n",
    "    print('')\n",
    "    print('')\n"
   ]
  },
  {
   "cell_type": "code",
   "execution_count": null,
   "id": "f56b73a7",
   "metadata": {},
   "outputs": [],
   "source": []
  },
  {
   "cell_type": "code",
   "execution_count": null,
   "id": "97551d58",
   "metadata": {},
   "outputs": [],
   "source": []
  },
  {
   "cell_type": "code",
   "execution_count": null,
   "id": "06044386",
   "metadata": {},
   "outputs": [],
   "source": []
  },
  {
   "cell_type": "code",
   "execution_count": 16,
   "id": "b1cd7bcc",
   "metadata": {},
   "outputs": [],
   "source": [
    "all_transformerse_to_add = [outstanding_loans_summ,\n",
    "outstanding_loans_summ_sq,\n",
    "loans_overdue_summ,\n",
    "loans_overdue_summ_sq,\n",
    "credit_limit,\n",
    "credit_costs,\n",
    "credit_costs_sq,\n",
    "max_overdue,\n",
    "credit_status_general_mean,\n",
    "credit_status_prevalent_atm,\n",
    "overdue_and_quick_closure_duck_optimised,\n",
    "credit_line_length,\n",
    "dropping_cols,]\n",
    "skeleton_transformers = [answers_func_optimised,\n",
    "                        custom_agregating_optimised,\n",
    "                        ohe_handpicked,\n",
    "                        column_checker]"
   ]
  },
  {
   "cell_type": "code",
   "execution_count": 18,
   "id": "bc00d7e9",
   "metadata": {
    "scrolled": true
   },
   "outputs": [
    {
     "name": "stdout",
     "output_type": "stream",
     "text": [
      "['train_data/train_data_0.pq', 'train_data/train_data_1.pq', 'train_data/train_data_10.pq', 'train_data/train_data_11.pq', 'train_data/train_data_2.pq', 'train_data/train_data_3.pq', 'train_data/train_data_4.pq', 'train_data/train_data_5.pq', 'train_data/train_data_6.pq', 'train_data/train_data_7.pq', 'train_data/train_data_8.pq', 'train_data/train_data_9.pq', 'train_data/train_target.csv']\n",
      "Reading chunks:\n",
      "\n",
      "train_data/train_data_0.pq\n"
     ]
    },
    {
     "data": {
      "application/vnd.jupyter.widget-view+json": {
       "model_id": "2484cf27069043c99671c3acd31b6195",
       "version_major": 2,
       "version_minor": 0
      },
      "text/plain": [
       "Reading dataset:   0%|          | 0/1 [00:00<?, ?it/s]"
      ]
     },
     "metadata": {},
     "output_type": "display_data"
    },
    {
     "name": "stdout",
     "output_type": "stream",
     "text": [
      "chunk_path  train_data/train_data_0.pq\n"
     ]
    },
    {
     "data": {
      "application/vnd.jupyter.widget-view+json": {
       "model_id": "fe5b1a9a97fd4da88183c61fb391303d",
       "version_major": 2,
       "version_minor": 0
      },
      "text/plain": [
       "FloatProgress(value=0.0, layout=Layout(width='auto'), style=ProgressStyle(bar_color='black'))"
      ]
     },
     "metadata": {},
     "output_type": "display_data"
    },
    {
     "name": "stdout",
     "output_type": "stream",
     "text": [
      "['train_data/train_data_0.pq', 'train_data/train_data_1.pq', 'train_data/train_data_10.pq', 'train_data/train_data_11.pq', 'train_data/train_data_2.pq', 'train_data/train_data_3.pq', 'train_data/train_data_4.pq', 'train_data/train_data_5.pq', 'train_data/train_data_6.pq', 'train_data/train_data_7.pq', 'train_data/train_data_8.pq', 'train_data/train_data_9.pq', 'train_data/train_target.csv']\n",
      "Reading chunks:\n",
      "\n",
      "train_data/train_data_0.pq\n"
     ]
    },
    {
     "data": {
      "application/vnd.jupyter.widget-view+json": {
       "model_id": "3fe2ba90383b47d2b41dd570002f5619",
       "version_major": 2,
       "version_minor": 0
      },
      "text/plain": [
       "Reading dataset:   0%|          | 0/1 [00:00<?, ?it/s]"
      ]
     },
     "metadata": {},
     "output_type": "display_data"
    },
    {
     "name": "stdout",
     "output_type": "stream",
     "text": [
      "chunk_path  train_data/train_data_0.pq\n"
     ]
    },
    {
     "data": {
      "application/vnd.jupyter.widget-view+json": {
       "model_id": "f4bf36833f0040aa9acf8b1be048eea6",
       "version_major": 2,
       "version_minor": 0
      },
      "text/plain": [
       "FloatProgress(value=0.0, layout=Layout(width='auto'), style=ProgressStyle(bar_color='black'))"
      ]
     },
     "metadata": {},
     "output_type": "display_data"
    },
    {
     "name": "stdout",
     "output_type": "stream",
     "text": [
      "['train_data/train_data_0.pq', 'train_data/train_data_1.pq', 'train_data/train_data_10.pq', 'train_data/train_data_11.pq', 'train_data/train_data_2.pq', 'train_data/train_data_3.pq', 'train_data/train_data_4.pq', 'train_data/train_data_5.pq', 'train_data/train_data_6.pq', 'train_data/train_data_7.pq', 'train_data/train_data_8.pq', 'train_data/train_data_9.pq', 'train_data/train_target.csv']\n",
      "Reading chunks:\n",
      "\n",
      "train_data/train_data_0.pq\n"
     ]
    },
    {
     "data": {
      "application/vnd.jupyter.widget-view+json": {
       "model_id": "ec35c92bf36e4fa78fea59acc51a674f",
       "version_major": 2,
       "version_minor": 0
      },
      "text/plain": [
       "Reading dataset:   0%|          | 0/1 [00:00<?, ?it/s]"
      ]
     },
     "metadata": {},
     "output_type": "display_data"
    },
    {
     "name": "stdout",
     "output_type": "stream",
     "text": [
      "chunk_path  train_data/train_data_0.pq\n"
     ]
    },
    {
     "data": {
      "application/vnd.jupyter.widget-view+json": {
       "model_id": "4a19738165d74c35b418d08e7ee9dcc1",
       "version_major": 2,
       "version_minor": 0
      },
      "text/plain": [
       "FloatProgress(value=0.0, layout=Layout(width='auto'), style=ProgressStyle(bar_color='black'))"
      ]
     },
     "metadata": {},
     "output_type": "display_data"
    },
    {
     "name": "stdout",
     "output_type": "stream",
     "text": [
      "['train_data/train_data_0.pq', 'train_data/train_data_1.pq', 'train_data/train_data_10.pq', 'train_data/train_data_11.pq', 'train_data/train_data_2.pq', 'train_data/train_data_3.pq', 'train_data/train_data_4.pq', 'train_data/train_data_5.pq', 'train_data/train_data_6.pq', 'train_data/train_data_7.pq', 'train_data/train_data_8.pq', 'train_data/train_data_9.pq', 'train_data/train_target.csv']\n",
      "Reading chunks:\n",
      "\n",
      "train_data/train_data_0.pq\n"
     ]
    },
    {
     "data": {
      "application/vnd.jupyter.widget-view+json": {
       "model_id": "c2f919b6d7944e7a98e000377b22d69f",
       "version_major": 2,
       "version_minor": 0
      },
      "text/plain": [
       "Reading dataset:   0%|          | 0/1 [00:00<?, ?it/s]"
      ]
     },
     "metadata": {},
     "output_type": "display_data"
    },
    {
     "name": "stdout",
     "output_type": "stream",
     "text": [
      "chunk_path  train_data/train_data_0.pq\n"
     ]
    },
    {
     "data": {
      "application/vnd.jupyter.widget-view+json": {
       "model_id": "e586b97a416e4cf79424d97b01de6227",
       "version_major": 2,
       "version_minor": 0
      },
      "text/plain": [
       "FloatProgress(value=0.0, layout=Layout(width='auto'), style=ProgressStyle(bar_color='black'))"
      ]
     },
     "metadata": {},
     "output_type": "display_data"
    },
    {
     "name": "stdout",
     "output_type": "stream",
     "text": [
      "[0.7429787649260493]\n",
      "['train_data/train_data_0.pq', 'train_data/train_data_1.pq', 'train_data/train_data_10.pq', 'train_data/train_data_11.pq', 'train_data/train_data_2.pq', 'train_data/train_data_3.pq', 'train_data/train_data_4.pq', 'train_data/train_data_5.pq', 'train_data/train_data_6.pq', 'train_data/train_data_7.pq', 'train_data/train_data_8.pq', 'train_data/train_data_9.pq', 'train_data/train_target.csv']\n",
      "Reading chunks:\n",
      "\n",
      "train_data/train_data_0.pq\n"
     ]
    },
    {
     "data": {
      "application/vnd.jupyter.widget-view+json": {
       "model_id": "5f0acf370ede4886bde0206bc204bd71",
       "version_major": 2,
       "version_minor": 0
      },
      "text/plain": [
       "Reading dataset:   0%|          | 0/1 [00:00<?, ?it/s]"
      ]
     },
     "metadata": {},
     "output_type": "display_data"
    },
    {
     "name": "stdout",
     "output_type": "stream",
     "text": [
      "chunk_path  train_data/train_data_0.pq\n"
     ]
    },
    {
     "data": {
      "application/vnd.jupyter.widget-view+json": {
       "model_id": "e6f55ee509d445faadc3f3e40afddaa0",
       "version_major": 2,
       "version_minor": 0
      },
      "text/plain": [
       "FloatProgress(value=0.0, layout=Layout(width='auto'), style=ProgressStyle(bar_color='black'))"
      ]
     },
     "metadata": {},
     "output_type": "display_data"
    },
    {
     "name": "stdout",
     "output_type": "stream",
     "text": [
      "['train_data/train_data_0.pq', 'train_data/train_data_1.pq', 'train_data/train_data_10.pq', 'train_data/train_data_11.pq', 'train_data/train_data_2.pq', 'train_data/train_data_3.pq', 'train_data/train_data_4.pq', 'train_data/train_data_5.pq', 'train_data/train_data_6.pq', 'train_data/train_data_7.pq', 'train_data/train_data_8.pq', 'train_data/train_data_9.pq', 'train_data/train_target.csv']\n",
      "Reading chunks:\n",
      "\n",
      "train_data/train_data_0.pq\n"
     ]
    },
    {
     "data": {
      "application/vnd.jupyter.widget-view+json": {
       "model_id": "64438442ea0747baa151fad8b3f6100d",
       "version_major": 2,
       "version_minor": 0
      },
      "text/plain": [
       "Reading dataset:   0%|          | 0/1 [00:00<?, ?it/s]"
      ]
     },
     "metadata": {},
     "output_type": "display_data"
    },
    {
     "name": "stdout",
     "output_type": "stream",
     "text": [
      "chunk_path  train_data/train_data_0.pq\n"
     ]
    },
    {
     "data": {
      "application/vnd.jupyter.widget-view+json": {
       "model_id": "8e91cb6c95de40d289ffac07ae1fb426",
       "version_major": 2,
       "version_minor": 0
      },
      "text/plain": [
       "FloatProgress(value=0.0, layout=Layout(width='auto'), style=ProgressStyle(bar_color='black'))"
      ]
     },
     "metadata": {},
     "output_type": "display_data"
    },
    {
     "name": "stdout",
     "output_type": "stream",
     "text": [
      "['train_data/train_data_0.pq', 'train_data/train_data_1.pq', 'train_data/train_data_10.pq', 'train_data/train_data_11.pq', 'train_data/train_data_2.pq', 'train_data/train_data_3.pq', 'train_data/train_data_4.pq', 'train_data/train_data_5.pq', 'train_data/train_data_6.pq', 'train_data/train_data_7.pq', 'train_data/train_data_8.pq', 'train_data/train_data_9.pq', 'train_data/train_target.csv']\n",
      "Reading chunks:\n",
      "\n",
      "train_data/train_data_0.pq\n"
     ]
    },
    {
     "data": {
      "application/vnd.jupyter.widget-view+json": {
       "model_id": "c2b32fca056e4dbb89484a60f9f49586",
       "version_major": 2,
       "version_minor": 0
      },
      "text/plain": [
       "Reading dataset:   0%|          | 0/1 [00:00<?, ?it/s]"
      ]
     },
     "metadata": {},
     "output_type": "display_data"
    },
    {
     "name": "stdout",
     "output_type": "stream",
     "text": [
      "chunk_path  train_data/train_data_0.pq\n"
     ]
    },
    {
     "data": {
      "application/vnd.jupyter.widget-view+json": {
       "model_id": "1e58feb210c64e65bdff70c3d856a3d8",
       "version_major": 2,
       "version_minor": 0
      },
      "text/plain": [
       "FloatProgress(value=0.0, layout=Layout(width='auto'), style=ProgressStyle(bar_color='black'))"
      ]
     },
     "metadata": {},
     "output_type": "display_data"
    },
    {
     "name": "stdout",
     "output_type": "stream",
     "text": [
      "['train_data/train_data_0.pq', 'train_data/train_data_1.pq', 'train_data/train_data_10.pq', 'train_data/train_data_11.pq', 'train_data/train_data_2.pq', 'train_data/train_data_3.pq', 'train_data/train_data_4.pq', 'train_data/train_data_5.pq', 'train_data/train_data_6.pq', 'train_data/train_data_7.pq', 'train_data/train_data_8.pq', 'train_data/train_data_9.pq', 'train_data/train_target.csv']\n",
      "Reading chunks:\n",
      "\n",
      "train_data/train_data_0.pq\n"
     ]
    },
    {
     "data": {
      "application/vnd.jupyter.widget-view+json": {
       "model_id": "a3bfac076f304acaacfd4a340d72bfb9",
       "version_major": 2,
       "version_minor": 0
      },
      "text/plain": [
       "Reading dataset:   0%|          | 0/1 [00:00<?, ?it/s]"
      ]
     },
     "metadata": {},
     "output_type": "display_data"
    },
    {
     "name": "stdout",
     "output_type": "stream",
     "text": [
      "chunk_path  train_data/train_data_0.pq\n"
     ]
    },
    {
     "data": {
      "application/vnd.jupyter.widget-view+json": {
       "model_id": "655180c926234b3a92a8ee5ec8562d3f",
       "version_major": 2,
       "version_minor": 0
      },
      "text/plain": [
       "FloatProgress(value=0.0, layout=Layout(width='auto'), style=ProgressStyle(bar_color='black'))"
      ]
     },
     "metadata": {},
     "output_type": "display_data"
    },
    {
     "name": "stdout",
     "output_type": "stream",
     "text": [
      "[0.7429787649260493, 0.7470622258228744]\n",
      "['train_data/train_data_0.pq', 'train_data/train_data_1.pq', 'train_data/train_data_10.pq', 'train_data/train_data_11.pq', 'train_data/train_data_2.pq', 'train_data/train_data_3.pq', 'train_data/train_data_4.pq', 'train_data/train_data_5.pq', 'train_data/train_data_6.pq', 'train_data/train_data_7.pq', 'train_data/train_data_8.pq', 'train_data/train_data_9.pq', 'train_data/train_target.csv']\n",
      "Reading chunks:\n",
      "\n",
      "train_data/train_data_0.pq\n"
     ]
    },
    {
     "data": {
      "application/vnd.jupyter.widget-view+json": {
       "model_id": "c96c19f3a4fb45dda3dd1c55f770c17e",
       "version_major": 2,
       "version_minor": 0
      },
      "text/plain": [
       "Reading dataset:   0%|          | 0/1 [00:00<?, ?it/s]"
      ]
     },
     "metadata": {},
     "output_type": "display_data"
    },
    {
     "name": "stdout",
     "output_type": "stream",
     "text": [
      "chunk_path  train_data/train_data_0.pq\n"
     ]
    },
    {
     "data": {
      "application/vnd.jupyter.widget-view+json": {
       "model_id": "54afda3c2c7b48f8895c94b07a276f4a",
       "version_major": 2,
       "version_minor": 0
      },
      "text/plain": [
       "FloatProgress(value=0.0, layout=Layout(width='auto'), style=ProgressStyle(bar_color='black'))"
      ]
     },
     "metadata": {},
     "output_type": "display_data"
    },
    {
     "name": "stdout",
     "output_type": "stream",
     "text": [
      "['train_data/train_data_0.pq', 'train_data/train_data_1.pq', 'train_data/train_data_10.pq', 'train_data/train_data_11.pq', 'train_data/train_data_2.pq', 'train_data/train_data_3.pq', 'train_data/train_data_4.pq', 'train_data/train_data_5.pq', 'train_data/train_data_6.pq', 'train_data/train_data_7.pq', 'train_data/train_data_8.pq', 'train_data/train_data_9.pq', 'train_data/train_target.csv']\n",
      "Reading chunks:\n",
      "\n",
      "train_data/train_data_0.pq\n"
     ]
    },
    {
     "data": {
      "application/vnd.jupyter.widget-view+json": {
       "model_id": "453bc00f5ab64fa99f93a38c3abfd0ca",
       "version_major": 2,
       "version_minor": 0
      },
      "text/plain": [
       "Reading dataset:   0%|          | 0/1 [00:00<?, ?it/s]"
      ]
     },
     "metadata": {},
     "output_type": "display_data"
    },
    {
     "name": "stdout",
     "output_type": "stream",
     "text": [
      "chunk_path  train_data/train_data_0.pq\n"
     ]
    },
    {
     "data": {
      "application/vnd.jupyter.widget-view+json": {
       "model_id": "de1d01b3ce5c472b91da2df680dd0714",
       "version_major": 2,
       "version_minor": 0
      },
      "text/plain": [
       "FloatProgress(value=0.0, layout=Layout(width='auto'), style=ProgressStyle(bar_color='black'))"
      ]
     },
     "metadata": {},
     "output_type": "display_data"
    },
    {
     "data": {
      "application/vnd.jupyter.widget-view+json": {
       "model_id": "3253db5c463b4bd2bf622b0f00e16b46",
       "version_major": 2,
       "version_minor": 0
      },
      "text/plain": [
       "FloatProgress(value=0.0, layout=Layout(width='auto'), style=ProgressStyle(bar_color='black'))"
      ]
     },
     "metadata": {},
     "output_type": "display_data"
    },
    {
     "data": {
      "application/vnd.jupyter.widget-view+json": {
       "model_id": "d57aad933add408d8837fbfc46f92375",
       "version_major": 2,
       "version_minor": 0
      },
      "text/plain": [
       "FloatProgress(value=0.0, layout=Layout(width='auto'), style=ProgressStyle(bar_color='black'))"
      ]
     },
     "metadata": {},
     "output_type": "display_data"
    },
    {
     "name": "stdout",
     "output_type": "stream",
     "text": [
      "['train_data/train_data_0.pq', 'train_data/train_data_1.pq', 'train_data/train_data_10.pq', 'train_data/train_data_11.pq', 'train_data/train_data_2.pq', 'train_data/train_data_3.pq', 'train_data/train_data_4.pq', 'train_data/train_data_5.pq', 'train_data/train_data_6.pq', 'train_data/train_data_7.pq', 'train_data/train_data_8.pq', 'train_data/train_data_9.pq', 'train_data/train_target.csv']\n",
      "Reading chunks:\n",
      "\n",
      "train_data/train_data_0.pq\n"
     ]
    },
    {
     "data": {
      "application/vnd.jupyter.widget-view+json": {
       "model_id": "fa5dc57e876341148598b7aaffcb2bb5",
       "version_major": 2,
       "version_minor": 0
      },
      "text/plain": [
       "Reading dataset:   0%|          | 0/1 [00:00<?, ?it/s]"
      ]
     },
     "metadata": {},
     "output_type": "display_data"
    },
    {
     "name": "stdout",
     "output_type": "stream",
     "text": [
      "chunk_path  train_data/train_data_0.pq\n"
     ]
    },
    {
     "data": {
      "application/vnd.jupyter.widget-view+json": {
       "model_id": "0399520793c3465a900b22f31f71f419",
       "version_major": 2,
       "version_minor": 0
      },
      "text/plain": [
       "FloatProgress(value=0.0, layout=Layout(width='auto'), style=ProgressStyle(bar_color='black'))"
      ]
     },
     "metadata": {},
     "output_type": "display_data"
    },
    {
     "name": "stdout",
     "output_type": "stream",
     "text": [
      "['train_data/train_data_0.pq', 'train_data/train_data_1.pq', 'train_data/train_data_10.pq', 'train_data/train_data_11.pq', 'train_data/train_data_2.pq', 'train_data/train_data_3.pq', 'train_data/train_data_4.pq', 'train_data/train_data_5.pq', 'train_data/train_data_6.pq', 'train_data/train_data_7.pq', 'train_data/train_data_8.pq', 'train_data/train_data_9.pq', 'train_data/train_target.csv']\n",
      "Reading chunks:\n",
      "\n",
      "train_data/train_data_0.pq\n"
     ]
    },
    {
     "data": {
      "application/vnd.jupyter.widget-view+json": {
       "model_id": "75d6598d7ca346af9c12768f0ad16dda",
       "version_major": 2,
       "version_minor": 0
      },
      "text/plain": [
       "Reading dataset:   0%|          | 0/1 [00:00<?, ?it/s]"
      ]
     },
     "metadata": {},
     "output_type": "display_data"
    },
    {
     "name": "stdout",
     "output_type": "stream",
     "text": [
      "chunk_path  train_data/train_data_0.pq\n"
     ]
    },
    {
     "data": {
      "application/vnd.jupyter.widget-view+json": {
       "model_id": "b7d5b015e46a42e0a9c9a7e49ab84b70",
       "version_major": 2,
       "version_minor": 0
      },
      "text/plain": [
       "FloatProgress(value=0.0, layout=Layout(width='auto'), style=ProgressStyle(bar_color='black'))"
      ]
     },
     "metadata": {},
     "output_type": "display_data"
    },
    {
     "data": {
      "application/vnd.jupyter.widget-view+json": {
       "model_id": "8f3d77aa39e8414f8208b9a6f909870c",
       "version_major": 2,
       "version_minor": 0
      },
      "text/plain": [
       "FloatProgress(value=0.0, layout=Layout(width='auto'), style=ProgressStyle(bar_color='black'))"
      ]
     },
     "metadata": {},
     "output_type": "display_data"
    },
    {
     "name": "stdout",
     "output_type": "stream",
     "text": [
      "[0.7429787649260493, 0.7470622258228744, 0.7495010942370784]\n",
      "['train_data/train_data_0.pq', 'train_data/train_data_1.pq', 'train_data/train_data_10.pq', 'train_data/train_data_11.pq', 'train_data/train_data_2.pq', 'train_data/train_data_3.pq', 'train_data/train_data_4.pq', 'train_data/train_data_5.pq', 'train_data/train_data_6.pq', 'train_data/train_data_7.pq', 'train_data/train_data_8.pq', 'train_data/train_data_9.pq', 'train_data/train_target.csv']\n",
      "Reading chunks:\n",
      "\n",
      "train_data/train_data_0.pq\n"
     ]
    },
    {
     "data": {
      "application/vnd.jupyter.widget-view+json": {
       "model_id": "6e8e260373af4765a98dbfd1c87488a2",
       "version_major": 2,
       "version_minor": 0
      },
      "text/plain": [
       "Reading dataset:   0%|          | 0/1 [00:00<?, ?it/s]"
      ]
     },
     "metadata": {},
     "output_type": "display_data"
    },
    {
     "name": "stdout",
     "output_type": "stream",
     "text": [
      "chunk_path  train_data/train_data_0.pq\n"
     ]
    },
    {
     "data": {
      "application/vnd.jupyter.widget-view+json": {
       "model_id": "9a26c018fd43497eaf669ff1ba81e3f3",
       "version_major": 2,
       "version_minor": 0
      },
      "text/plain": [
       "FloatProgress(value=0.0, layout=Layout(width='auto'), style=ProgressStyle(bar_color='black'))"
      ]
     },
     "metadata": {},
     "output_type": "display_data"
    },
    {
     "data": {
      "application/vnd.jupyter.widget-view+json": {
       "model_id": "1fabe40981154e09a37078cb6cdf144d",
       "version_major": 2,
       "version_minor": 0
      },
      "text/plain": [
       "FloatProgress(value=0.0, layout=Layout(width='auto'), style=ProgressStyle(bar_color='black'))"
      ]
     },
     "metadata": {},
     "output_type": "display_data"
    },
    {
     "name": "stdout",
     "output_type": "stream",
     "text": [
      "['train_data/train_data_0.pq', 'train_data/train_data_1.pq', 'train_data/train_data_10.pq', 'train_data/train_data_11.pq', 'train_data/train_data_2.pq', 'train_data/train_data_3.pq', 'train_data/train_data_4.pq', 'train_data/train_data_5.pq', 'train_data/train_data_6.pq', 'train_data/train_data_7.pq', 'train_data/train_data_8.pq', 'train_data/train_data_9.pq', 'train_data/train_target.csv']\n",
      "Reading chunks:\n",
      "\n",
      "train_data/train_data_0.pq\n"
     ]
    },
    {
     "data": {
      "application/vnd.jupyter.widget-view+json": {
       "model_id": "bd8a12dc11254557862a4cc391ca6463",
       "version_major": 2,
       "version_minor": 0
      },
      "text/plain": [
       "Reading dataset:   0%|          | 0/1 [00:00<?, ?it/s]"
      ]
     },
     "metadata": {},
     "output_type": "display_data"
    },
    {
     "name": "stdout",
     "output_type": "stream",
     "text": [
      "chunk_path  train_data/train_data_0.pq\n"
     ]
    },
    {
     "data": {
      "application/vnd.jupyter.widget-view+json": {
       "model_id": "06041041691748e090d19afdddb3bf22",
       "version_major": 2,
       "version_minor": 0
      },
      "text/plain": [
       "FloatProgress(value=0.0, layout=Layout(width='auto'), style=ProgressStyle(bar_color='black'))"
      ]
     },
     "metadata": {},
     "output_type": "display_data"
    },
    {
     "name": "stdout",
     "output_type": "stream",
     "text": [
      "['train_data/train_data_0.pq', 'train_data/train_data_1.pq', 'train_data/train_data_10.pq', 'train_data/train_data_11.pq', 'train_data/train_data_2.pq', 'train_data/train_data_3.pq', 'train_data/train_data_4.pq', 'train_data/train_data_5.pq', 'train_data/train_data_6.pq', 'train_data/train_data_7.pq', 'train_data/train_data_8.pq', 'train_data/train_data_9.pq', 'train_data/train_target.csv']\n",
      "Reading chunks:\n",
      "\n",
      "train_data/train_data_0.pq\n"
     ]
    },
    {
     "data": {
      "application/vnd.jupyter.widget-view+json": {
       "model_id": "733511cdf9c043648622111250d0bb29",
       "version_major": 2,
       "version_minor": 0
      },
      "text/plain": [
       "Reading dataset:   0%|          | 0/1 [00:00<?, ?it/s]"
      ]
     },
     "metadata": {},
     "output_type": "display_data"
    },
    {
     "name": "stdout",
     "output_type": "stream",
     "text": [
      "chunk_path  train_data/train_data_0.pq\n"
     ]
    },
    {
     "data": {
      "application/vnd.jupyter.widget-view+json": {
       "model_id": "3b2db787b0c84370bbd08642ccc92b47",
       "version_major": 2,
       "version_minor": 0
      },
      "text/plain": [
       "FloatProgress(value=0.0, layout=Layout(width='auto'), style=ProgressStyle(bar_color='black'))"
      ]
     },
     "metadata": {},
     "output_type": "display_data"
    },
    {
     "data": {
      "application/vnd.jupyter.widget-view+json": {
       "model_id": "c801768e46fc4698b2fdb7e7231d49a7",
       "version_major": 2,
       "version_minor": 0
      },
      "text/plain": [
       "FloatProgress(value=0.0, layout=Layout(width='auto'), style=ProgressStyle(bar_color='black'))"
      ]
     },
     "metadata": {},
     "output_type": "display_data"
    },
    {
     "name": "stdout",
     "output_type": "stream",
     "text": [
      "['train_data/train_data_0.pq', 'train_data/train_data_1.pq', 'train_data/train_data_10.pq', 'train_data/train_data_11.pq', 'train_data/train_data_2.pq', 'train_data/train_data_3.pq', 'train_data/train_data_4.pq', 'train_data/train_data_5.pq', 'train_data/train_data_6.pq', 'train_data/train_data_7.pq', 'train_data/train_data_8.pq', 'train_data/train_data_9.pq', 'train_data/train_target.csv']\n",
      "Reading chunks:\n",
      "\n",
      "train_data/train_data_0.pq\n"
     ]
    },
    {
     "data": {
      "application/vnd.jupyter.widget-view+json": {
       "model_id": "a4eddb83e2d24bfb95ce884bf8649574",
       "version_major": 2,
       "version_minor": 0
      },
      "text/plain": [
       "Reading dataset:   0%|          | 0/1 [00:00<?, ?it/s]"
      ]
     },
     "metadata": {},
     "output_type": "display_data"
    },
    {
     "name": "stdout",
     "output_type": "stream",
     "text": [
      "chunk_path  train_data/train_data_0.pq\n"
     ]
    },
    {
     "data": {
      "application/vnd.jupyter.widget-view+json": {
       "model_id": "70252278e1514e1f87deb2710ac09f99",
       "version_major": 2,
       "version_minor": 0
      },
      "text/plain": [
       "FloatProgress(value=0.0, layout=Layout(width='auto'), style=ProgressStyle(bar_color='black'))"
      ]
     },
     "metadata": {},
     "output_type": "display_data"
    },
    {
     "name": "stdout",
     "output_type": "stream",
     "text": [
      "[0.7429787649260493, 0.7470622258228744, 0.7495010942370784, 0.7508490124663953]\n",
      "['train_data/train_data_0.pq', 'train_data/train_data_1.pq', 'train_data/train_data_10.pq', 'train_data/train_data_11.pq', 'train_data/train_data_2.pq', 'train_data/train_data_3.pq', 'train_data/train_data_4.pq', 'train_data/train_data_5.pq', 'train_data/train_data_6.pq', 'train_data/train_data_7.pq', 'train_data/train_data_8.pq', 'train_data/train_data_9.pq', 'train_data/train_target.csv']\n",
      "Reading chunks:\n",
      "\n",
      "train_data/train_data_0.pq\n"
     ]
    },
    {
     "data": {
      "application/vnd.jupyter.widget-view+json": {
       "model_id": "6152d214ef1a42a489d4734a97b0c89e",
       "version_major": 2,
       "version_minor": 0
      },
      "text/plain": [
       "Reading dataset:   0%|          | 0/1 [00:00<?, ?it/s]"
      ]
     },
     "metadata": {},
     "output_type": "display_data"
    },
    {
     "name": "stdout",
     "output_type": "stream",
     "text": [
      "chunk_path  train_data/train_data_0.pq\n"
     ]
    },
    {
     "data": {
      "application/vnd.jupyter.widget-view+json": {
       "model_id": "384967a9dde042c592fd601edf4ad3b5",
       "version_major": 2,
       "version_minor": 0
      },
      "text/plain": [
       "FloatProgress(value=0.0, layout=Layout(width='auto'), style=ProgressStyle(bar_color='black'))"
      ]
     },
     "metadata": {},
     "output_type": "display_data"
    },
    {
     "name": "stdout",
     "output_type": "stream",
     "text": [
      "['train_data/train_data_0.pq', 'train_data/train_data_1.pq', 'train_data/train_data_10.pq', 'train_data/train_data_11.pq', 'train_data/train_data_2.pq', 'train_data/train_data_3.pq', 'train_data/train_data_4.pq', 'train_data/train_data_5.pq', 'train_data/train_data_6.pq', 'train_data/train_data_7.pq', 'train_data/train_data_8.pq', 'train_data/train_data_9.pq', 'train_data/train_target.csv']\n",
      "Reading chunks:\n",
      "\n",
      "train_data/train_data_0.pq\n"
     ]
    },
    {
     "data": {
      "application/vnd.jupyter.widget-view+json": {
       "model_id": "8b562d1b1ee045d79cf7b2dbe42a38d8",
       "version_major": 2,
       "version_minor": 0
      },
      "text/plain": [
       "Reading dataset:   0%|          | 0/1 [00:00<?, ?it/s]"
      ]
     },
     "metadata": {},
     "output_type": "display_data"
    },
    {
     "name": "stdout",
     "output_type": "stream",
     "text": [
      "chunk_path  train_data/train_data_0.pq\n"
     ]
    },
    {
     "data": {
      "application/vnd.jupyter.widget-view+json": {
       "model_id": "6e27b85847c04199a9fec25e28de528e",
       "version_major": 2,
       "version_minor": 0
      },
      "text/plain": [
       "FloatProgress(value=0.0, layout=Layout(width='auto'), style=ProgressStyle(bar_color='black'))"
      ]
     },
     "metadata": {},
     "output_type": "display_data"
    },
    {
     "name": "stdout",
     "output_type": "stream",
     "text": [
      "['train_data/train_data_0.pq', 'train_data/train_data_1.pq', 'train_data/train_data_10.pq', 'train_data/train_data_11.pq', 'train_data/train_data_2.pq', 'train_data/train_data_3.pq', 'train_data/train_data_4.pq', 'train_data/train_data_5.pq', 'train_data/train_data_6.pq', 'train_data/train_data_7.pq', 'train_data/train_data_8.pq', 'train_data/train_data_9.pq', 'train_data/train_target.csv']\n",
      "Reading chunks:\n",
      "\n",
      "train_data/train_data_0.pq\n"
     ]
    },
    {
     "data": {
      "application/vnd.jupyter.widget-view+json": {
       "model_id": "99db69c0c6cd4463a69fbb57305fc237",
       "version_major": 2,
       "version_minor": 0
      },
      "text/plain": [
       "Reading dataset:   0%|          | 0/1 [00:00<?, ?it/s]"
      ]
     },
     "metadata": {},
     "output_type": "display_data"
    },
    {
     "name": "stdout",
     "output_type": "stream",
     "text": [
      "chunk_path  train_data/train_data_0.pq\n"
     ]
    },
    {
     "data": {
      "application/vnd.jupyter.widget-view+json": {
       "model_id": "3acb484392b04a95b289d79031b7a9c6",
       "version_major": 2,
       "version_minor": 0
      },
      "text/plain": [
       "FloatProgress(value=0.0, layout=Layout(width='auto'), style=ProgressStyle(bar_color='black'))"
      ]
     },
     "metadata": {},
     "output_type": "display_data"
    },
    {
     "name": "stdout",
     "output_type": "stream",
     "text": [
      "['train_data/train_data_0.pq', 'train_data/train_data_1.pq', 'train_data/train_data_10.pq', 'train_data/train_data_11.pq', 'train_data/train_data_2.pq', 'train_data/train_data_3.pq', 'train_data/train_data_4.pq', 'train_data/train_data_5.pq', 'train_data/train_data_6.pq', 'train_data/train_data_7.pq', 'train_data/train_data_8.pq', 'train_data/train_data_9.pq', 'train_data/train_target.csv']\n",
      "Reading chunks:\n",
      "\n",
      "train_data/train_data_0.pq\n"
     ]
    },
    {
     "data": {
      "application/vnd.jupyter.widget-view+json": {
       "model_id": "0b12fa5ea3a9403c84d7f3a9cf23b224",
       "version_major": 2,
       "version_minor": 0
      },
      "text/plain": [
       "Reading dataset:   0%|          | 0/1 [00:00<?, ?it/s]"
      ]
     },
     "metadata": {},
     "output_type": "display_data"
    },
    {
     "name": "stdout",
     "output_type": "stream",
     "text": [
      "chunk_path  train_data/train_data_0.pq\n"
     ]
    },
    {
     "data": {
      "application/vnd.jupyter.widget-view+json": {
       "model_id": "076265191e274a2c810989249ba3fabb",
       "version_major": 2,
       "version_minor": 0
      },
      "text/plain": [
       "FloatProgress(value=0.0, layout=Layout(width='auto'), style=ProgressStyle(bar_color='black'))"
      ]
     },
     "metadata": {},
     "output_type": "display_data"
    },
    {
     "name": "stdout",
     "output_type": "stream",
     "text": [
      "[0.7429787649260493, 0.7470622258228744, 0.7495010942370784, 0.7508490124663953, 0.7511639839277539]\n",
      "['train_data/train_data_0.pq', 'train_data/train_data_1.pq', 'train_data/train_data_10.pq', 'train_data/train_data_11.pq', 'train_data/train_data_2.pq', 'train_data/train_data_3.pq', 'train_data/train_data_4.pq', 'train_data/train_data_5.pq', 'train_data/train_data_6.pq', 'train_data/train_data_7.pq', 'train_data/train_data_8.pq', 'train_data/train_data_9.pq', 'train_data/train_target.csv']\n",
      "Reading chunks:\n",
      "\n",
      "train_data/train_data_0.pq\n"
     ]
    },
    {
     "data": {
      "application/vnd.jupyter.widget-view+json": {
       "model_id": "8648a3883cba4a219e846b0c8a223a93",
       "version_major": 2,
       "version_minor": 0
      },
      "text/plain": [
       "Reading dataset:   0%|          | 0/1 [00:00<?, ?it/s]"
      ]
     },
     "metadata": {},
     "output_type": "display_data"
    },
    {
     "name": "stdout",
     "output_type": "stream",
     "text": [
      "chunk_path  train_data/train_data_0.pq\n"
     ]
    },
    {
     "data": {
      "application/vnd.jupyter.widget-view+json": {
       "model_id": "c7d5f6a87395437282e705b9c0c5ec18",
       "version_major": 2,
       "version_minor": 0
      },
      "text/plain": [
       "FloatProgress(value=0.0, layout=Layout(width='auto'), style=ProgressStyle(bar_color='black'))"
      ]
     },
     "metadata": {},
     "output_type": "display_data"
    },
    {
     "name": "stdout",
     "output_type": "stream",
     "text": [
      "['train_data/train_data_0.pq', 'train_data/train_data_1.pq', 'train_data/train_data_10.pq', 'train_data/train_data_11.pq', 'train_data/train_data_2.pq', 'train_data/train_data_3.pq', 'train_data/train_data_4.pq', 'train_data/train_data_5.pq', 'train_data/train_data_6.pq', 'train_data/train_data_7.pq', 'train_data/train_data_8.pq', 'train_data/train_data_9.pq', 'train_data/train_target.csv']\n",
      "Reading chunks:\n",
      "\n",
      "train_data/train_data_0.pq\n"
     ]
    },
    {
     "data": {
      "application/vnd.jupyter.widget-view+json": {
       "model_id": "f298756c200842b9a0b21545bd34e96c",
       "version_major": 2,
       "version_minor": 0
      },
      "text/plain": [
       "Reading dataset:   0%|          | 0/1 [00:00<?, ?it/s]"
      ]
     },
     "metadata": {},
     "output_type": "display_data"
    },
    {
     "name": "stdout",
     "output_type": "stream",
     "text": [
      "chunk_path  train_data/train_data_0.pq\n"
     ]
    },
    {
     "data": {
      "application/vnd.jupyter.widget-view+json": {
       "model_id": "d857e5392aef4720bb86d17449971afd",
       "version_major": 2,
       "version_minor": 0
      },
      "text/plain": [
       "FloatProgress(value=0.0, layout=Layout(width='auto'), style=ProgressStyle(bar_color='black'))"
      ]
     },
     "metadata": {},
     "output_type": "display_data"
    },
    {
     "name": "stdout",
     "output_type": "stream",
     "text": [
      "['train_data/train_data_0.pq', 'train_data/train_data_1.pq', 'train_data/train_data_10.pq', 'train_data/train_data_11.pq', 'train_data/train_data_2.pq', 'train_data/train_data_3.pq', 'train_data/train_data_4.pq', 'train_data/train_data_5.pq', 'train_data/train_data_6.pq', 'train_data/train_data_7.pq', 'train_data/train_data_8.pq', 'train_data/train_data_9.pq', 'train_data/train_target.csv']\n",
      "Reading chunks:\n",
      "\n",
      "train_data/train_data_0.pq\n"
     ]
    },
    {
     "data": {
      "application/vnd.jupyter.widget-view+json": {
       "model_id": "9d621210e09844d386cf5bf14617638b",
       "version_major": 2,
       "version_minor": 0
      },
      "text/plain": [
       "Reading dataset:   0%|          | 0/1 [00:00<?, ?it/s]"
      ]
     },
     "metadata": {},
     "output_type": "display_data"
    },
    {
     "name": "stdout",
     "output_type": "stream",
     "text": [
      "chunk_path  train_data/train_data_0.pq\n"
     ]
    },
    {
     "data": {
      "application/vnd.jupyter.widget-view+json": {
       "model_id": "2d0be7e584bc43c8af33e57577b1bbef",
       "version_major": 2,
       "version_minor": 0
      },
      "text/plain": [
       "FloatProgress(value=0.0, layout=Layout(width='auto'), style=ProgressStyle(bar_color='black'))"
      ]
     },
     "metadata": {},
     "output_type": "display_data"
    },
    {
     "name": "stdout",
     "output_type": "stream",
     "text": [
      "['train_data/train_data_0.pq', 'train_data/train_data_1.pq', 'train_data/train_data_10.pq', 'train_data/train_data_11.pq', 'train_data/train_data_2.pq', 'train_data/train_data_3.pq', 'train_data/train_data_4.pq', 'train_data/train_data_5.pq', 'train_data/train_data_6.pq', 'train_data/train_data_7.pq', 'train_data/train_data_8.pq', 'train_data/train_data_9.pq', 'train_data/train_target.csv']\n",
      "Reading chunks:\n",
      "\n",
      "train_data/train_data_0.pq\n"
     ]
    },
    {
     "data": {
      "application/vnd.jupyter.widget-view+json": {
       "model_id": "652f6e949cd94eb68590157da43d89fc",
       "version_major": 2,
       "version_minor": 0
      },
      "text/plain": [
       "Reading dataset:   0%|          | 0/1 [00:00<?, ?it/s]"
      ]
     },
     "metadata": {},
     "output_type": "display_data"
    },
    {
     "name": "stdout",
     "output_type": "stream",
     "text": [
      "chunk_path  train_data/train_data_0.pq\n"
     ]
    },
    {
     "data": {
      "application/vnd.jupyter.widget-view+json": {
       "model_id": "6294311228f8475abcb15ceb137a9c75",
       "version_major": 2,
       "version_minor": 0
      },
      "text/plain": [
       "FloatProgress(value=0.0, layout=Layout(width='auto'), style=ProgressStyle(bar_color='black'))"
      ]
     },
     "metadata": {},
     "output_type": "display_data"
    },
    {
     "name": "stdout",
     "output_type": "stream",
     "text": [
      "[0.7429787649260493, 0.7470622258228744, 0.7495010942370784, 0.7508490124663953, 0.7511639839277539, 0.748870524286452]\n",
      "['train_data/train_data_0.pq', 'train_data/train_data_1.pq', 'train_data/train_data_10.pq', 'train_data/train_data_11.pq', 'train_data/train_data_2.pq', 'train_data/train_data_3.pq', 'train_data/train_data_4.pq', 'train_data/train_data_5.pq', 'train_data/train_data_6.pq', 'train_data/train_data_7.pq', 'train_data/train_data_8.pq', 'train_data/train_data_9.pq', 'train_data/train_target.csv']\n",
      "Reading chunks:\n",
      "\n",
      "train_data/train_data_0.pq\n"
     ]
    },
    {
     "data": {
      "application/vnd.jupyter.widget-view+json": {
       "model_id": "41d81a4840744263ab6e42b844689d7b",
       "version_major": 2,
       "version_minor": 0
      },
      "text/plain": [
       "Reading dataset:   0%|          | 0/1 [00:00<?, ?it/s]"
      ]
     },
     "metadata": {},
     "output_type": "display_data"
    },
    {
     "name": "stdout",
     "output_type": "stream",
     "text": [
      "chunk_path  train_data/train_data_0.pq\n"
     ]
    },
    {
     "data": {
      "application/vnd.jupyter.widget-view+json": {
       "model_id": "580cefc8a0bb4c4cbe518982e8a234cd",
       "version_major": 2,
       "version_minor": 0
      },
      "text/plain": [
       "FloatProgress(value=0.0, layout=Layout(width='auto'), style=ProgressStyle(bar_color='black'))"
      ]
     },
     "metadata": {},
     "output_type": "display_data"
    },
    {
     "name": "stdout",
     "output_type": "stream",
     "text": [
      "['train_data/train_data_0.pq', 'train_data/train_data_1.pq', 'train_data/train_data_10.pq', 'train_data/train_data_11.pq', 'train_data/train_data_2.pq', 'train_data/train_data_3.pq', 'train_data/train_data_4.pq', 'train_data/train_data_5.pq', 'train_data/train_data_6.pq', 'train_data/train_data_7.pq', 'train_data/train_data_8.pq', 'train_data/train_data_9.pq', 'train_data/train_target.csv']\n",
      "Reading chunks:\n",
      "\n",
      "train_data/train_data_0.pq\n"
     ]
    },
    {
     "data": {
      "application/vnd.jupyter.widget-view+json": {
       "model_id": "0d12312680d04e45b9e98f86d38536e1",
       "version_major": 2,
       "version_minor": 0
      },
      "text/plain": [
       "Reading dataset:   0%|          | 0/1 [00:00<?, ?it/s]"
      ]
     },
     "metadata": {},
     "output_type": "display_data"
    },
    {
     "name": "stdout",
     "output_type": "stream",
     "text": [
      "chunk_path  train_data/train_data_0.pq\n"
     ]
    },
    {
     "data": {
      "application/vnd.jupyter.widget-view+json": {
       "model_id": "93a8d08c42664c32bfee0bc26009c8a6",
       "version_major": 2,
       "version_minor": 0
      },
      "text/plain": [
       "FloatProgress(value=0.0, layout=Layout(width='auto'), style=ProgressStyle(bar_color='black'))"
      ]
     },
     "metadata": {},
     "output_type": "display_data"
    },
    {
     "name": "stdout",
     "output_type": "stream",
     "text": [
      "['train_data/train_data_0.pq', 'train_data/train_data_1.pq', 'train_data/train_data_10.pq', 'train_data/train_data_11.pq', 'train_data/train_data_2.pq', 'train_data/train_data_3.pq', 'train_data/train_data_4.pq', 'train_data/train_data_5.pq', 'train_data/train_data_6.pq', 'train_data/train_data_7.pq', 'train_data/train_data_8.pq', 'train_data/train_data_9.pq', 'train_data/train_target.csv']\n",
      "Reading chunks:\n",
      "\n",
      "train_data/train_data_0.pq\n"
     ]
    },
    {
     "data": {
      "application/vnd.jupyter.widget-view+json": {
       "model_id": "cc226709d35347ffb64a74906e50d38a",
       "version_major": 2,
       "version_minor": 0
      },
      "text/plain": [
       "Reading dataset:   0%|          | 0/1 [00:00<?, ?it/s]"
      ]
     },
     "metadata": {},
     "output_type": "display_data"
    },
    {
     "name": "stdout",
     "output_type": "stream",
     "text": [
      "chunk_path  train_data/train_data_0.pq\n"
     ]
    },
    {
     "data": {
      "application/vnd.jupyter.widget-view+json": {
       "model_id": "5b69b94c342641ada61c59d58665c04e",
       "version_major": 2,
       "version_minor": 0
      },
      "text/plain": [
       "FloatProgress(value=0.0, layout=Layout(width='auto'), style=ProgressStyle(bar_color='black'))"
      ]
     },
     "metadata": {},
     "output_type": "display_data"
    },
    {
     "name": "stdout",
     "output_type": "stream",
     "text": [
      "['train_data/train_data_0.pq', 'train_data/train_data_1.pq', 'train_data/train_data_10.pq', 'train_data/train_data_11.pq', 'train_data/train_data_2.pq', 'train_data/train_data_3.pq', 'train_data/train_data_4.pq', 'train_data/train_data_5.pq', 'train_data/train_data_6.pq', 'train_data/train_data_7.pq', 'train_data/train_data_8.pq', 'train_data/train_data_9.pq', 'train_data/train_target.csv']\n",
      "Reading chunks:\n",
      "\n",
      "train_data/train_data_0.pq\n"
     ]
    },
    {
     "data": {
      "application/vnd.jupyter.widget-view+json": {
       "model_id": "d15fd03f870345bf8f7581f00b48d18e",
       "version_major": 2,
       "version_minor": 0
      },
      "text/plain": [
       "Reading dataset:   0%|          | 0/1 [00:00<?, ?it/s]"
      ]
     },
     "metadata": {},
     "output_type": "display_data"
    },
    {
     "name": "stdout",
     "output_type": "stream",
     "text": [
      "chunk_path  train_data/train_data_0.pq\n"
     ]
    },
    {
     "data": {
      "application/vnd.jupyter.widget-view+json": {
       "model_id": "63a5dbc9e70b4b64b90992693d644e53",
       "version_major": 2,
       "version_minor": 0
      },
      "text/plain": [
       "FloatProgress(value=0.0, layout=Layout(width='auto'), style=ProgressStyle(bar_color='black'))"
      ]
     },
     "metadata": {},
     "output_type": "display_data"
    },
    {
     "name": "stdout",
     "output_type": "stream",
     "text": [
      "[0.7429787649260493, 0.7470622258228744, 0.7495010942370784, 0.7508490124663953, 0.7511639839277539, 0.748870524286452, 0.7548688016806909]\n",
      "['train_data/train_data_0.pq', 'train_data/train_data_1.pq', 'train_data/train_data_10.pq', 'train_data/train_data_11.pq', 'train_data/train_data_2.pq', 'train_data/train_data_3.pq', 'train_data/train_data_4.pq', 'train_data/train_data_5.pq', 'train_data/train_data_6.pq', 'train_data/train_data_7.pq', 'train_data/train_data_8.pq', 'train_data/train_data_9.pq', 'train_data/train_target.csv']\n",
      "Reading chunks:\n",
      "\n",
      "train_data/train_data_0.pq\n"
     ]
    },
    {
     "data": {
      "application/vnd.jupyter.widget-view+json": {
       "model_id": "e098ac8ed88d469d96c130adb41ff17a",
       "version_major": 2,
       "version_minor": 0
      },
      "text/plain": [
       "Reading dataset:   0%|          | 0/1 [00:00<?, ?it/s]"
      ]
     },
     "metadata": {},
     "output_type": "display_data"
    },
    {
     "name": "stdout",
     "output_type": "stream",
     "text": [
      "chunk_path  train_data/train_data_0.pq\n"
     ]
    },
    {
     "data": {
      "application/vnd.jupyter.widget-view+json": {
       "model_id": "afbe10d062c64f5fad82bfe68bb9359e",
       "version_major": 2,
       "version_minor": 0
      },
      "text/plain": [
       "FloatProgress(value=0.0, layout=Layout(width='auto'), style=ProgressStyle(bar_color='black'))"
      ]
     },
     "metadata": {},
     "output_type": "display_data"
    },
    {
     "name": "stdout",
     "output_type": "stream",
     "text": [
      "['train_data/train_data_0.pq', 'train_data/train_data_1.pq', 'train_data/train_data_10.pq', 'train_data/train_data_11.pq', 'train_data/train_data_2.pq', 'train_data/train_data_3.pq', 'train_data/train_data_4.pq', 'train_data/train_data_5.pq', 'train_data/train_data_6.pq', 'train_data/train_data_7.pq', 'train_data/train_data_8.pq', 'train_data/train_data_9.pq', 'train_data/train_target.csv']\n",
      "Reading chunks:\n",
      "\n",
      "train_data/train_data_0.pq\n"
     ]
    },
    {
     "data": {
      "application/vnd.jupyter.widget-view+json": {
       "model_id": "d3568ab8cab147c28d795c6f2e2a580d",
       "version_major": 2,
       "version_minor": 0
      },
      "text/plain": [
       "Reading dataset:   0%|          | 0/1 [00:00<?, ?it/s]"
      ]
     },
     "metadata": {},
     "output_type": "display_data"
    },
    {
     "name": "stdout",
     "output_type": "stream",
     "text": [
      "chunk_path  train_data/train_data_0.pq\n"
     ]
    },
    {
     "data": {
      "application/vnd.jupyter.widget-view+json": {
       "model_id": "141fe6b4189844ec94a3d99b399d539c",
       "version_major": 2,
       "version_minor": 0
      },
      "text/plain": [
       "FloatProgress(value=0.0, layout=Layout(width='auto'), style=ProgressStyle(bar_color='black'))"
      ]
     },
     "metadata": {},
     "output_type": "display_data"
    },
    {
     "name": "stdout",
     "output_type": "stream",
     "text": [
      "['train_data/train_data_0.pq', 'train_data/train_data_1.pq', 'train_data/train_data_10.pq', 'train_data/train_data_11.pq', 'train_data/train_data_2.pq', 'train_data/train_data_3.pq', 'train_data/train_data_4.pq', 'train_data/train_data_5.pq', 'train_data/train_data_6.pq', 'train_data/train_data_7.pq', 'train_data/train_data_8.pq', 'train_data/train_data_9.pq', 'train_data/train_target.csv']\n",
      "Reading chunks:\n",
      "\n",
      "train_data/train_data_0.pq\n"
     ]
    },
    {
     "data": {
      "application/vnd.jupyter.widget-view+json": {
       "model_id": "c2b51f13bfa04ee18b9e9af074ddbd25",
       "version_major": 2,
       "version_minor": 0
      },
      "text/plain": [
       "Reading dataset:   0%|          | 0/1 [00:00<?, ?it/s]"
      ]
     },
     "metadata": {},
     "output_type": "display_data"
    },
    {
     "name": "stdout",
     "output_type": "stream",
     "text": [
      "chunk_path  train_data/train_data_0.pq\n"
     ]
    },
    {
     "data": {
      "application/vnd.jupyter.widget-view+json": {
       "model_id": "c2d7506092af4f61860855921502230b",
       "version_major": 2,
       "version_minor": 0
      },
      "text/plain": [
       "FloatProgress(value=0.0, layout=Layout(width='auto'), style=ProgressStyle(bar_color='black'))"
      ]
     },
     "metadata": {},
     "output_type": "display_data"
    },
    {
     "name": "stdout",
     "output_type": "stream",
     "text": [
      "['train_data/train_data_0.pq', 'train_data/train_data_1.pq', 'train_data/train_data_10.pq', 'train_data/train_data_11.pq', 'train_data/train_data_2.pq', 'train_data/train_data_3.pq', 'train_data/train_data_4.pq', 'train_data/train_data_5.pq', 'train_data/train_data_6.pq', 'train_data/train_data_7.pq', 'train_data/train_data_8.pq', 'train_data/train_data_9.pq', 'train_data/train_target.csv']\n",
      "Reading chunks:\n",
      "\n",
      "train_data/train_data_0.pq\n"
     ]
    },
    {
     "data": {
      "application/vnd.jupyter.widget-view+json": {
       "model_id": "68f8e712ed7e4bee914e72f5eeed0f99",
       "version_major": 2,
       "version_minor": 0
      },
      "text/plain": [
       "Reading dataset:   0%|          | 0/1 [00:00<?, ?it/s]"
      ]
     },
     "metadata": {},
     "output_type": "display_data"
    },
    {
     "name": "stdout",
     "output_type": "stream",
     "text": [
      "chunk_path  train_data/train_data_0.pq\n"
     ]
    },
    {
     "data": {
      "application/vnd.jupyter.widget-view+json": {
       "model_id": "ec10f35235d7476fa499e831207178d6",
       "version_major": 2,
       "version_minor": 0
      },
      "text/plain": [
       "FloatProgress(value=0.0, layout=Layout(width='auto'), style=ProgressStyle(bar_color='black'))"
      ]
     },
     "metadata": {},
     "output_type": "display_data"
    },
    {
     "name": "stdout",
     "output_type": "stream",
     "text": [
      "[0.7429787649260493, 0.7470622258228744, 0.7495010942370784, 0.7508490124663953, 0.7511639839277539, 0.748870524286452, 0.7548688016806909, 0.7510245352552513]\n",
      "['train_data/train_data_0.pq', 'train_data/train_data_1.pq', 'train_data/train_data_10.pq', 'train_data/train_data_11.pq', 'train_data/train_data_2.pq', 'train_data/train_data_3.pq', 'train_data/train_data_4.pq', 'train_data/train_data_5.pq', 'train_data/train_data_6.pq', 'train_data/train_data_7.pq', 'train_data/train_data_8.pq', 'train_data/train_data_9.pq', 'train_data/train_target.csv']\n",
      "Reading chunks:\n",
      "\n",
      "train_data/train_data_0.pq\n"
     ]
    },
    {
     "data": {
      "application/vnd.jupyter.widget-view+json": {
       "model_id": "92861e61d7b140e88df2f1091dca80e3",
       "version_major": 2,
       "version_minor": 0
      },
      "text/plain": [
       "Reading dataset:   0%|          | 0/1 [00:00<?, ?it/s]"
      ]
     },
     "metadata": {},
     "output_type": "display_data"
    },
    {
     "name": "stdout",
     "output_type": "stream",
     "text": [
      "chunk_path  train_data/train_data_0.pq\n"
     ]
    },
    {
     "data": {
      "application/vnd.jupyter.widget-view+json": {
       "model_id": "bb46eaeabcb448b7bebfc184dd75aa48",
       "version_major": 2,
       "version_minor": 0
      },
      "text/plain": [
       "FloatProgress(value=0.0, layout=Layout(width='auto'), style=ProgressStyle(bar_color='black'))"
      ]
     },
     "metadata": {},
     "output_type": "display_data"
    },
    {
     "name": "stdout",
     "output_type": "stream",
     "text": [
      "['train_data/train_data_0.pq', 'train_data/train_data_1.pq', 'train_data/train_data_10.pq', 'train_data/train_data_11.pq', 'train_data/train_data_2.pq', 'train_data/train_data_3.pq', 'train_data/train_data_4.pq', 'train_data/train_data_5.pq', 'train_data/train_data_6.pq', 'train_data/train_data_7.pq', 'train_data/train_data_8.pq', 'train_data/train_data_9.pq', 'train_data/train_target.csv']\n",
      "Reading chunks:\n",
      "\n",
      "train_data/train_data_0.pq\n"
     ]
    },
    {
     "data": {
      "application/vnd.jupyter.widget-view+json": {
       "model_id": "25165c9311bf4f5385eaab2f54829221",
       "version_major": 2,
       "version_minor": 0
      },
      "text/plain": [
       "Reading dataset:   0%|          | 0/1 [00:00<?, ?it/s]"
      ]
     },
     "metadata": {},
     "output_type": "display_data"
    },
    {
     "name": "stdout",
     "output_type": "stream",
     "text": [
      "chunk_path  train_data/train_data_0.pq\n"
     ]
    },
    {
     "data": {
      "application/vnd.jupyter.widget-view+json": {
       "model_id": "fae82d9164df47e3810d81eae5a02003",
       "version_major": 2,
       "version_minor": 0
      },
      "text/plain": [
       "FloatProgress(value=0.0, layout=Layout(width='auto'), style=ProgressStyle(bar_color='black'))"
      ]
     },
     "metadata": {},
     "output_type": "display_data"
    },
    {
     "name": "stdout",
     "output_type": "stream",
     "text": [
      "['train_data/train_data_0.pq', 'train_data/train_data_1.pq', 'train_data/train_data_10.pq', 'train_data/train_data_11.pq', 'train_data/train_data_2.pq', 'train_data/train_data_3.pq', 'train_data/train_data_4.pq', 'train_data/train_data_5.pq', 'train_data/train_data_6.pq', 'train_data/train_data_7.pq', 'train_data/train_data_8.pq', 'train_data/train_data_9.pq', 'train_data/train_target.csv']\n",
      "Reading chunks:\n",
      "\n",
      "train_data/train_data_0.pq\n"
     ]
    },
    {
     "data": {
      "application/vnd.jupyter.widget-view+json": {
       "model_id": "640a2092fa2e4b859e47bfe44781b1ce",
       "version_major": 2,
       "version_minor": 0
      },
      "text/plain": [
       "Reading dataset:   0%|          | 0/1 [00:00<?, ?it/s]"
      ]
     },
     "metadata": {},
     "output_type": "display_data"
    },
    {
     "name": "stdout",
     "output_type": "stream",
     "text": [
      "chunk_path  train_data/train_data_0.pq\n"
     ]
    },
    {
     "data": {
      "application/vnd.jupyter.widget-view+json": {
       "model_id": "2d497e984d984acba0a7dc39b45f42cd",
       "version_major": 2,
       "version_minor": 0
      },
      "text/plain": [
       "FloatProgress(value=0.0, layout=Layout(width='auto'), style=ProgressStyle(bar_color='black'))"
      ]
     },
     "metadata": {},
     "output_type": "display_data"
    },
    {
     "name": "stdout",
     "output_type": "stream",
     "text": [
      "['train_data/train_data_0.pq', 'train_data/train_data_1.pq', 'train_data/train_data_10.pq', 'train_data/train_data_11.pq', 'train_data/train_data_2.pq', 'train_data/train_data_3.pq', 'train_data/train_data_4.pq', 'train_data/train_data_5.pq', 'train_data/train_data_6.pq', 'train_data/train_data_7.pq', 'train_data/train_data_8.pq', 'train_data/train_data_9.pq', 'train_data/train_target.csv']\n",
      "Reading chunks:\n",
      "\n",
      "train_data/train_data_0.pq\n"
     ]
    },
    {
     "data": {
      "application/vnd.jupyter.widget-view+json": {
       "model_id": "344584d66cba4df595cb56a5d06ed390",
       "version_major": 2,
       "version_minor": 0
      },
      "text/plain": [
       "Reading dataset:   0%|          | 0/1 [00:00<?, ?it/s]"
      ]
     },
     "metadata": {},
     "output_type": "display_data"
    },
    {
     "name": "stdout",
     "output_type": "stream",
     "text": [
      "chunk_path  train_data/train_data_0.pq\n"
     ]
    },
    {
     "data": {
      "application/vnd.jupyter.widget-view+json": {
       "model_id": "5960f5d02de240f39e296a28ffd02b88",
       "version_major": 2,
       "version_minor": 0
      },
      "text/plain": [
       "FloatProgress(value=0.0, layout=Layout(width='auto'), style=ProgressStyle(bar_color='black'))"
      ]
     },
     "metadata": {},
     "output_type": "display_data"
    },
    {
     "name": "stdout",
     "output_type": "stream",
     "text": [
      "[0.7429787649260493, 0.7470622258228744, 0.7495010942370784, 0.7508490124663953, 0.7511639839277539, 0.748870524286452, 0.7548688016806909, 0.7510245352552513, 0.7446646628722406]\n",
      "['train_data/train_data_0.pq', 'train_data/train_data_1.pq', 'train_data/train_data_10.pq', 'train_data/train_data_11.pq', 'train_data/train_data_2.pq', 'train_data/train_data_3.pq', 'train_data/train_data_4.pq', 'train_data/train_data_5.pq', 'train_data/train_data_6.pq', 'train_data/train_data_7.pq', 'train_data/train_data_8.pq', 'train_data/train_data_9.pq', 'train_data/train_target.csv']\n",
      "Reading chunks:\n",
      "\n",
      "train_data/train_data_0.pq\n"
     ]
    },
    {
     "data": {
      "application/vnd.jupyter.widget-view+json": {
       "model_id": "b6e39aa107f04fd0a87440563d8713f9",
       "version_major": 2,
       "version_minor": 0
      },
      "text/plain": [
       "Reading dataset:   0%|          | 0/1 [00:00<?, ?it/s]"
      ]
     },
     "metadata": {},
     "output_type": "display_data"
    },
    {
     "name": "stdout",
     "output_type": "stream",
     "text": [
      "chunk_path  train_data/train_data_0.pq\n"
     ]
    },
    {
     "data": {
      "application/vnd.jupyter.widget-view+json": {
       "model_id": "395558c1927242c4baf4ccaf5376647a",
       "version_major": 2,
       "version_minor": 0
      },
      "text/plain": [
       "FloatProgress(value=0.0, layout=Layout(width='auto'), style=ProgressStyle(bar_color='black'))"
      ]
     },
     "metadata": {},
     "output_type": "display_data"
    },
    {
     "name": "stdout",
     "output_type": "stream",
     "text": [
      "['train_data/train_data_0.pq', 'train_data/train_data_1.pq', 'train_data/train_data_10.pq', 'train_data/train_data_11.pq', 'train_data/train_data_2.pq', 'train_data/train_data_3.pq', 'train_data/train_data_4.pq', 'train_data/train_data_5.pq', 'train_data/train_data_6.pq', 'train_data/train_data_7.pq', 'train_data/train_data_8.pq', 'train_data/train_data_9.pq', 'train_data/train_target.csv']\n",
      "Reading chunks:\n",
      "\n",
      "train_data/train_data_0.pq\n"
     ]
    },
    {
     "data": {
      "application/vnd.jupyter.widget-view+json": {
       "model_id": "e936fa4c709846d58c25ce9cb2efc6cf",
       "version_major": 2,
       "version_minor": 0
      },
      "text/plain": [
       "Reading dataset:   0%|          | 0/1 [00:00<?, ?it/s]"
      ]
     },
     "metadata": {},
     "output_type": "display_data"
    },
    {
     "name": "stdout",
     "output_type": "stream",
     "text": [
      "chunk_path  train_data/train_data_0.pq\n"
     ]
    },
    {
     "data": {
      "application/vnd.jupyter.widget-view+json": {
       "model_id": "6b924d1a35194135b017d70dfe546592",
       "version_major": 2,
       "version_minor": 0
      },
      "text/plain": [
       "FloatProgress(value=0.0, layout=Layout(width='auto'), style=ProgressStyle(bar_color='black'))"
      ]
     },
     "metadata": {},
     "output_type": "display_data"
    },
    {
     "name": "stdout",
     "output_type": "stream",
     "text": [
      "['train_data/train_data_0.pq', 'train_data/train_data_1.pq', 'train_data/train_data_10.pq', 'train_data/train_data_11.pq', 'train_data/train_data_2.pq', 'train_data/train_data_3.pq', 'train_data/train_data_4.pq', 'train_data/train_data_5.pq', 'train_data/train_data_6.pq', 'train_data/train_data_7.pq', 'train_data/train_data_8.pq', 'train_data/train_data_9.pq', 'train_data/train_target.csv']\n",
      "Reading chunks:\n",
      "\n",
      "train_data/train_data_0.pq\n"
     ]
    },
    {
     "data": {
      "application/vnd.jupyter.widget-view+json": {
       "model_id": "269be3c536c84cd4882f65d6de9a121f",
       "version_major": 2,
       "version_minor": 0
      },
      "text/plain": [
       "Reading dataset:   0%|          | 0/1 [00:00<?, ?it/s]"
      ]
     },
     "metadata": {},
     "output_type": "display_data"
    },
    {
     "name": "stdout",
     "output_type": "stream",
     "text": [
      "chunk_path  train_data/train_data_0.pq\n"
     ]
    },
    {
     "data": {
      "application/vnd.jupyter.widget-view+json": {
       "model_id": "706a1daf9ded470e9b6dc0c2450a7b5d",
       "version_major": 2,
       "version_minor": 0
      },
      "text/plain": [
       "FloatProgress(value=0.0, layout=Layout(width='auto'), style=ProgressStyle(bar_color='black'))"
      ]
     },
     "metadata": {},
     "output_type": "display_data"
    },
    {
     "name": "stdout",
     "output_type": "stream",
     "text": [
      "['train_data/train_data_0.pq', 'train_data/train_data_1.pq', 'train_data/train_data_10.pq', 'train_data/train_data_11.pq', 'train_data/train_data_2.pq', 'train_data/train_data_3.pq', 'train_data/train_data_4.pq', 'train_data/train_data_5.pq', 'train_data/train_data_6.pq', 'train_data/train_data_7.pq', 'train_data/train_data_8.pq', 'train_data/train_data_9.pq', 'train_data/train_target.csv']\n",
      "Reading chunks:\n",
      "\n",
      "train_data/train_data_0.pq\n"
     ]
    },
    {
     "data": {
      "application/vnd.jupyter.widget-view+json": {
       "model_id": "5b5aad7232904ad2b20887a8a43dacf5",
       "version_major": 2,
       "version_minor": 0
      },
      "text/plain": [
       "Reading dataset:   0%|          | 0/1 [00:00<?, ?it/s]"
      ]
     },
     "metadata": {},
     "output_type": "display_data"
    },
    {
     "name": "stdout",
     "output_type": "stream",
     "text": [
      "chunk_path  train_data/train_data_0.pq\n"
     ]
    },
    {
     "data": {
      "application/vnd.jupyter.widget-view+json": {
       "model_id": "caaef35baae14b4d9f3a0397e0846319",
       "version_major": 2,
       "version_minor": 0
      },
      "text/plain": [
       "FloatProgress(value=0.0, layout=Layout(width='auto'), style=ProgressStyle(bar_color='black'))"
      ]
     },
     "metadata": {},
     "output_type": "display_data"
    },
    {
     "name": "stdout",
     "output_type": "stream",
     "text": [
      "[0.7429787649260493, 0.7470622258228744, 0.7495010942370784, 0.7508490124663953, 0.7511639839277539, 0.748870524286452, 0.7548688016806909, 0.7510245352552513, 0.7446646628722406, 0.7521584451901095]\n",
      "['train_data/train_data_0.pq', 'train_data/train_data_1.pq', 'train_data/train_data_10.pq', 'train_data/train_data_11.pq', 'train_data/train_data_2.pq', 'train_data/train_data_3.pq', 'train_data/train_data_4.pq', 'train_data/train_data_5.pq', 'train_data/train_data_6.pq', 'train_data/train_data_7.pq', 'train_data/train_data_8.pq', 'train_data/train_data_9.pq', 'train_data/train_target.csv']\n",
      "Reading chunks:\n",
      "\n",
      "train_data/train_data_0.pq\n"
     ]
    },
    {
     "data": {
      "application/vnd.jupyter.widget-view+json": {
       "model_id": "e662641534c74e0cb1ee30105a91f7f4",
       "version_major": 2,
       "version_minor": 0
      },
      "text/plain": [
       "Reading dataset:   0%|          | 0/1 [00:00<?, ?it/s]"
      ]
     },
     "metadata": {},
     "output_type": "display_data"
    },
    {
     "name": "stdout",
     "output_type": "stream",
     "text": [
      "chunk_path  train_data/train_data_0.pq\n"
     ]
    },
    {
     "data": {
      "application/vnd.jupyter.widget-view+json": {
       "model_id": "42a877075fb44b9c908feecdba5dbf98",
       "version_major": 2,
       "version_minor": 0
      },
      "text/plain": [
       "FloatProgress(value=0.0, layout=Layout(width='auto'), style=ProgressStyle(bar_color='black'))"
      ]
     },
     "metadata": {},
     "output_type": "display_data"
    },
    {
     "name": "stdout",
     "output_type": "stream",
     "text": [
      "['train_data/train_data_0.pq', 'train_data/train_data_1.pq', 'train_data/train_data_10.pq', 'train_data/train_data_11.pq', 'train_data/train_data_2.pq', 'train_data/train_data_3.pq', 'train_data/train_data_4.pq', 'train_data/train_data_5.pq', 'train_data/train_data_6.pq', 'train_data/train_data_7.pq', 'train_data/train_data_8.pq', 'train_data/train_data_9.pq', 'train_data/train_target.csv']\n",
      "Reading chunks:\n",
      "\n",
      "train_data/train_data_0.pq\n"
     ]
    },
    {
     "data": {
      "application/vnd.jupyter.widget-view+json": {
       "model_id": "569065abee1545469c6303a2ead74b92",
       "version_major": 2,
       "version_minor": 0
      },
      "text/plain": [
       "Reading dataset:   0%|          | 0/1 [00:00<?, ?it/s]"
      ]
     },
     "metadata": {},
     "output_type": "display_data"
    },
    {
     "name": "stdout",
     "output_type": "stream",
     "text": [
      "chunk_path  train_data/train_data_0.pq\n"
     ]
    },
    {
     "data": {
      "application/vnd.jupyter.widget-view+json": {
       "model_id": "374533fc4dc34dfbb05bb83cdfc43f1c",
       "version_major": 2,
       "version_minor": 0
      },
      "text/plain": [
       "FloatProgress(value=0.0, layout=Layout(width='auto'), style=ProgressStyle(bar_color='black'))"
      ]
     },
     "metadata": {},
     "output_type": "display_data"
    },
    {
     "name": "stdout",
     "output_type": "stream",
     "text": [
      "['train_data/train_data_0.pq', 'train_data/train_data_1.pq', 'train_data/train_data_10.pq', 'train_data/train_data_11.pq', 'train_data/train_data_2.pq', 'train_data/train_data_3.pq', 'train_data/train_data_4.pq', 'train_data/train_data_5.pq', 'train_data/train_data_6.pq', 'train_data/train_data_7.pq', 'train_data/train_data_8.pq', 'train_data/train_data_9.pq', 'train_data/train_target.csv']\n",
      "Reading chunks:\n",
      "\n",
      "train_data/train_data_0.pq\n"
     ]
    },
    {
     "data": {
      "application/vnd.jupyter.widget-view+json": {
       "model_id": "0456742895c4440c883e59d19becb601",
       "version_major": 2,
       "version_minor": 0
      },
      "text/plain": [
       "Reading dataset:   0%|          | 0/1 [00:00<?, ?it/s]"
      ]
     },
     "metadata": {},
     "output_type": "display_data"
    },
    {
     "name": "stdout",
     "output_type": "stream",
     "text": [
      "chunk_path  train_data/train_data_0.pq\n"
     ]
    },
    {
     "data": {
      "application/vnd.jupyter.widget-view+json": {
       "model_id": "d16104afee924eb68ea8381755d4351e",
       "version_major": 2,
       "version_minor": 0
      },
      "text/plain": [
       "FloatProgress(value=0.0, layout=Layout(width='auto'), style=ProgressStyle(bar_color='black'))"
      ]
     },
     "metadata": {},
     "output_type": "display_data"
    },
    {
     "name": "stdout",
     "output_type": "stream",
     "text": [
      "['train_data/train_data_0.pq', 'train_data/train_data_1.pq', 'train_data/train_data_10.pq', 'train_data/train_data_11.pq', 'train_data/train_data_2.pq', 'train_data/train_data_3.pq', 'train_data/train_data_4.pq', 'train_data/train_data_5.pq', 'train_data/train_data_6.pq', 'train_data/train_data_7.pq', 'train_data/train_data_8.pq', 'train_data/train_data_9.pq', 'train_data/train_target.csv']\n",
      "Reading chunks:\n",
      "\n",
      "train_data/train_data_0.pq\n"
     ]
    },
    {
     "data": {
      "application/vnd.jupyter.widget-view+json": {
       "model_id": "2ed8af09cb014320b24ccb86c69d09de",
       "version_major": 2,
       "version_minor": 0
      },
      "text/plain": [
       "Reading dataset:   0%|          | 0/1 [00:00<?, ?it/s]"
      ]
     },
     "metadata": {},
     "output_type": "display_data"
    },
    {
     "name": "stdout",
     "output_type": "stream",
     "text": [
      "chunk_path  train_data/train_data_0.pq\n"
     ]
    },
    {
     "data": {
      "application/vnd.jupyter.widget-view+json": {
       "model_id": "3f3ceb3e9a5e4d7587df9dbadbde1755",
       "version_major": 2,
       "version_minor": 0
      },
      "text/plain": [
       "FloatProgress(value=0.0, layout=Layout(width='auto'), style=ProgressStyle(bar_color='black'))"
      ]
     },
     "metadata": {},
     "output_type": "display_data"
    },
    {
     "name": "stdout",
     "output_type": "stream",
     "text": [
      "[0.7429787649260493, 0.7470622258228744, 0.7495010942370784, 0.7508490124663953, 0.7511639839277539, 0.748870524286452, 0.7548688016806909, 0.7510245352552513, 0.7446646628722406, 0.7521584451901095, 0.7545745938483412]\n",
      "['train_data/train_data_0.pq', 'train_data/train_data_1.pq', 'train_data/train_data_10.pq', 'train_data/train_data_11.pq', 'train_data/train_data_2.pq', 'train_data/train_data_3.pq', 'train_data/train_data_4.pq', 'train_data/train_data_5.pq', 'train_data/train_data_6.pq', 'train_data/train_data_7.pq', 'train_data/train_data_8.pq', 'train_data/train_data_9.pq', 'train_data/train_target.csv']\n",
      "Reading chunks:\n",
      "\n",
      "train_data/train_data_0.pq\n"
     ]
    },
    {
     "data": {
      "application/vnd.jupyter.widget-view+json": {
       "model_id": "641ef6393e7b4fdbaf55a0e0c798237c",
       "version_major": 2,
       "version_minor": 0
      },
      "text/plain": [
       "Reading dataset:   0%|          | 0/1 [00:00<?, ?it/s]"
      ]
     },
     "metadata": {},
     "output_type": "display_data"
    },
    {
     "name": "stdout",
     "output_type": "stream",
     "text": [
      "chunk_path  train_data/train_data_0.pq\n"
     ]
    },
    {
     "data": {
      "application/vnd.jupyter.widget-view+json": {
       "model_id": "93f50f112b8145db8b164bfbdff8b38f",
       "version_major": 2,
       "version_minor": 0
      },
      "text/plain": [
       "FloatProgress(value=0.0, layout=Layout(width='auto'), style=ProgressStyle(bar_color='black'))"
      ]
     },
     "metadata": {},
     "output_type": "display_data"
    },
    {
     "name": "stdout",
     "output_type": "stream",
     "text": [
      "['train_data/train_data_0.pq', 'train_data/train_data_1.pq', 'train_data/train_data_10.pq', 'train_data/train_data_11.pq', 'train_data/train_data_2.pq', 'train_data/train_data_3.pq', 'train_data/train_data_4.pq', 'train_data/train_data_5.pq', 'train_data/train_data_6.pq', 'train_data/train_data_7.pq', 'train_data/train_data_8.pq', 'train_data/train_data_9.pq', 'train_data/train_target.csv']\n",
      "Reading chunks:\n",
      "\n",
      "train_data/train_data_0.pq\n"
     ]
    },
    {
     "data": {
      "application/vnd.jupyter.widget-view+json": {
       "model_id": "01d632da9b2d463dba69ffb98ee914e4",
       "version_major": 2,
       "version_minor": 0
      },
      "text/plain": [
       "Reading dataset:   0%|          | 0/1 [00:00<?, ?it/s]"
      ]
     },
     "metadata": {},
     "output_type": "display_data"
    },
    {
     "name": "stdout",
     "output_type": "stream",
     "text": [
      "chunk_path  train_data/train_data_0.pq\n"
     ]
    },
    {
     "data": {
      "application/vnd.jupyter.widget-view+json": {
       "model_id": "abd35705e2f94a98b49888edd3d14512",
       "version_major": 2,
       "version_minor": 0
      },
      "text/plain": [
       "FloatProgress(value=0.0, layout=Layout(width='auto'), style=ProgressStyle(bar_color='black'))"
      ]
     },
     "metadata": {},
     "output_type": "display_data"
    },
    {
     "name": "stdout",
     "output_type": "stream",
     "text": [
      "['train_data/train_data_0.pq', 'train_data/train_data_1.pq', 'train_data/train_data_10.pq', 'train_data/train_data_11.pq', 'train_data/train_data_2.pq', 'train_data/train_data_3.pq', 'train_data/train_data_4.pq', 'train_data/train_data_5.pq', 'train_data/train_data_6.pq', 'train_data/train_data_7.pq', 'train_data/train_data_8.pq', 'train_data/train_data_9.pq', 'train_data/train_target.csv']\n",
      "Reading chunks:\n",
      "\n",
      "train_data/train_data_0.pq\n"
     ]
    },
    {
     "data": {
      "application/vnd.jupyter.widget-view+json": {
       "model_id": "3a6054d0de024efe85c3c2a2498a4fee",
       "version_major": 2,
       "version_minor": 0
      },
      "text/plain": [
       "Reading dataset:   0%|          | 0/1 [00:00<?, ?it/s]"
      ]
     },
     "metadata": {},
     "output_type": "display_data"
    },
    {
     "name": "stdout",
     "output_type": "stream",
     "text": [
      "chunk_path  train_data/train_data_0.pq\n"
     ]
    },
    {
     "data": {
      "application/vnd.jupyter.widget-view+json": {
       "model_id": "7625a91a3d714f2d9dc428b29bebab19",
       "version_major": 2,
       "version_minor": 0
      },
      "text/plain": [
       "FloatProgress(value=0.0, layout=Layout(width='auto'), style=ProgressStyle(bar_color='black'))"
      ]
     },
     "metadata": {},
     "output_type": "display_data"
    },
    {
     "name": "stdout",
     "output_type": "stream",
     "text": [
      "['train_data/train_data_0.pq', 'train_data/train_data_1.pq', 'train_data/train_data_10.pq', 'train_data/train_data_11.pq', 'train_data/train_data_2.pq', 'train_data/train_data_3.pq', 'train_data/train_data_4.pq', 'train_data/train_data_5.pq', 'train_data/train_data_6.pq', 'train_data/train_data_7.pq', 'train_data/train_data_8.pq', 'train_data/train_data_9.pq', 'train_data/train_target.csv']\n",
      "Reading chunks:\n",
      "\n",
      "train_data/train_data_0.pq\n"
     ]
    },
    {
     "data": {
      "application/vnd.jupyter.widget-view+json": {
       "model_id": "94cb31177900410e9285279db7c2c904",
       "version_major": 2,
       "version_minor": 0
      },
      "text/plain": [
       "Reading dataset:   0%|          | 0/1 [00:00<?, ?it/s]"
      ]
     },
     "metadata": {},
     "output_type": "display_data"
    },
    {
     "name": "stdout",
     "output_type": "stream",
     "text": [
      "chunk_path  train_data/train_data_0.pq\n"
     ]
    },
    {
     "data": {
      "application/vnd.jupyter.widget-view+json": {
       "model_id": "56e4bcb5c3ba4937b7f8a1686ecaa8e3",
       "version_major": 2,
       "version_minor": 0
      },
      "text/plain": [
       "FloatProgress(value=0.0, layout=Layout(width='auto'), style=ProgressStyle(bar_color='black'))"
      ]
     },
     "metadata": {},
     "output_type": "display_data"
    },
    {
     "name": "stdout",
     "output_type": "stream",
     "text": [
      "[0.7429787649260493, 0.7470622258228744, 0.7495010942370784, 0.7508490124663953, 0.7511639839277539, 0.748870524286452, 0.7548688016806909, 0.7510245352552513, 0.7446646628722406, 0.7521584451901095, 0.7545745938483412, 0.7593902532460335]\n",
      "['train_data/train_data_0.pq', 'train_data/train_data_1.pq', 'train_data/train_data_10.pq', 'train_data/train_data_11.pq', 'train_data/train_data_2.pq', 'train_data/train_data_3.pq', 'train_data/train_data_4.pq', 'train_data/train_data_5.pq', 'train_data/train_data_6.pq', 'train_data/train_data_7.pq', 'train_data/train_data_8.pq', 'train_data/train_data_9.pq', 'train_data/train_target.csv']\n",
      "Reading chunks:\n",
      "\n",
      "train_data/train_data_0.pq\n"
     ]
    },
    {
     "data": {
      "application/vnd.jupyter.widget-view+json": {
       "model_id": "a6477ba404da4b0486be7768b82e9b8b",
       "version_major": 2,
       "version_minor": 0
      },
      "text/plain": [
       "Reading dataset:   0%|          | 0/1 [00:00<?, ?it/s]"
      ]
     },
     "metadata": {},
     "output_type": "display_data"
    },
    {
     "name": "stdout",
     "output_type": "stream",
     "text": [
      "chunk_path  train_data/train_data_0.pq\n",
      "['train_data/train_data_0.pq', 'train_data/train_data_1.pq', 'train_data/train_data_10.pq', 'train_data/train_data_11.pq', 'train_data/train_data_2.pq', 'train_data/train_data_3.pq', 'train_data/train_data_4.pq', 'train_data/train_data_5.pq', 'train_data/train_data_6.pq', 'train_data/train_data_7.pq', 'train_data/train_data_8.pq', 'train_data/train_data_9.pq', 'train_data/train_target.csv']\n",
      "Reading chunks:\n",
      "\n",
      "train_data/train_data_0.pq\n"
     ]
    },
    {
     "data": {
      "application/vnd.jupyter.widget-view+json": {
       "model_id": "a7a0f7f03b3341c587806bc5c6dd73c2",
       "version_major": 2,
       "version_minor": 0
      },
      "text/plain": [
       "Reading dataset:   0%|          | 0/1 [00:00<?, ?it/s]"
      ]
     },
     "metadata": {},
     "output_type": "display_data"
    },
    {
     "name": "stdout",
     "output_type": "stream",
     "text": [
      "chunk_path  train_data/train_data_0.pq\n",
      "['train_data/train_data_0.pq', 'train_data/train_data_1.pq', 'train_data/train_data_10.pq', 'train_data/train_data_11.pq', 'train_data/train_data_2.pq', 'train_data/train_data_3.pq', 'train_data/train_data_4.pq', 'train_data/train_data_5.pq', 'train_data/train_data_6.pq', 'train_data/train_data_7.pq', 'train_data/train_data_8.pq', 'train_data/train_data_9.pq', 'train_data/train_target.csv']\n",
      "Reading chunks:\n",
      "\n",
      "train_data/train_data_0.pq\n"
     ]
    },
    {
     "data": {
      "application/vnd.jupyter.widget-view+json": {
       "model_id": "39aa46faa7c948498e01dae55bdea1eb",
       "version_major": 2,
       "version_minor": 0
      },
      "text/plain": [
       "Reading dataset:   0%|          | 0/1 [00:00<?, ?it/s]"
      ]
     },
     "metadata": {},
     "output_type": "display_data"
    },
    {
     "name": "stdout",
     "output_type": "stream",
     "text": [
      "chunk_path  train_data/train_data_0.pq\n",
      "['train_data/train_data_0.pq', 'train_data/train_data_1.pq', 'train_data/train_data_10.pq', 'train_data/train_data_11.pq', 'train_data/train_data_2.pq', 'train_data/train_data_3.pq', 'train_data/train_data_4.pq', 'train_data/train_data_5.pq', 'train_data/train_data_6.pq', 'train_data/train_data_7.pq', 'train_data/train_data_8.pq', 'train_data/train_data_9.pq', 'train_data/train_target.csv']\n",
      "Reading chunks:\n",
      "\n",
      "train_data/train_data_0.pq\n"
     ]
    },
    {
     "data": {
      "application/vnd.jupyter.widget-view+json": {
       "model_id": "16a5fc51477c4a6ea68f7024aa48607f",
       "version_major": 2,
       "version_minor": 0
      },
      "text/plain": [
       "Reading dataset:   0%|          | 0/1 [00:00<?, ?it/s]"
      ]
     },
     "metadata": {},
     "output_type": "display_data"
    },
    {
     "name": "stdout",
     "output_type": "stream",
     "text": [
      "chunk_path  train_data/train_data_0.pq\n",
      "[0.7429787649260493, 0.7470622258228744, 0.7495010942370784, 0.7508490124663953, 0.7511639839277539, 0.748870524286452, 0.7548688016806909, 0.7510245352552513, 0.7446646628722406, 0.7521584451901095, 0.7545745938483412, 0.7593902532460335, 0.7537754401065542]\n"
     ]
    }
   ],
   "source": [
    "transformerse_to_add = []\n",
    "scores = []\n",
    "\n",
    "for item_3 in all_transformerse_to_add:\n",
    "        \n",
    "    transformerse_to_add.append(item_3)\n",
    "    transformers_for_presentation = []\n",
    "\n",
    "    transformers_for_presentation.append(skeleton_transformers[0])\n",
    "    \n",
    "    for item in transformerse_to_add:\n",
    "        transformers_for_presentation.append(item)\n",
    "        \n",
    "    for item_2 in skeleton_transformers[1:]:\n",
    "        transformers_for_presentation.append(item_2)\n",
    "#     for item_4 in transformers_for_presentation:\n",
    "        \n",
    "#         print(item_4)\n",
    "#     print('----')\n",
    "#     print('   ')\n",
    "    interim_scores = []\n",
    "    for i in range(4):\n",
    "\n",
    "        model, X_test, y_test  = grad_2.fit(grad_2.path_to_dataset,\n",
    "                           0,         # с какого куска начать\n",
    "                           1,         # сколько обработать\n",
    "                           None,      # какие колонки брать None = все\n",
    "                           True,      # выводить что сейчас происходит\n",
    "                           transformers_for_presentation # лист функций-трансформеров \n",
    "                          )\n",
    "        prediced_probabilities = grad_2.predict(model, X_test, y_test, False)\n",
    "        interim_scores.append(roc_auc_score(y_test, prediced_probabilities))\n",
    "#     scores.append(roc_auc_score(y_test, prediced_probabilities))\n",
    "        \n",
    "    scores.append(sum(interim_scores) / len(interim_scores))\n",
    "    print(scores)\n"
   ]
  },
  {
   "cell_type": "code",
   "execution_count": 19,
   "id": "547f6483",
   "metadata": {
    "scrolled": true
   },
   "outputs": [
    {
     "data": {
      "text/plain": [
       "[0.7429787649260493,\n",
       " 0.7470622258228744,\n",
       " 0.7495010942370784,\n",
       " 0.7508490124663953,\n",
       " 0.7511639839277539,\n",
       " 0.748870524286452,\n",
       " 0.7548688016806909,\n",
       " 0.7510245352552513,\n",
       " 0.7446646628722406,\n",
       " 0.7521584451901095,\n",
       " 0.7545745938483412,\n",
       " 0.7593902532460335,\n",
       " 0.7537754401065542]"
      ]
     },
     "execution_count": 19,
     "metadata": {},
     "output_type": "execute_result"
    }
   ],
   "source": [
    "scores"
   ]
  },
  {
   "cell_type": "code",
   "execution_count": 20,
   "id": "8eca7346",
   "metadata": {},
   "outputs": [],
   "source": [
    "all_transformerse_to_add_str = []\n",
    "for entry in all_transformerse_to_add:\n",
    "    all_transformerse_to_add_str.append(str(entry)[str(entry).find(' ')+1:str(entry).find(' at')])"
   ]
  },
  {
   "cell_type": "code",
   "execution_count": 21,
   "id": "a15d524c",
   "metadata": {},
   "outputs": [
    {
     "data": {
      "image/png": "[encoded data removed]",
      "text/plain": [
       "<Figure size 640x480 with 1 Axes>"
      ]
     },
     "metadata": {},
     "output_type": "display_data"
    }
   ],
   "source": [
    "plt.plot(all_transformerse_to_add_str, scores)\n",
    "plt.xticks(rotation=90)\n",
    "plt.show()"
   ]
  },
  {
   "cell_type": "code",
   "execution_count": null,
   "id": "042eb435",
   "metadata": {},
   "outputs": [],
   "source": []
  },
  {
   "cell_type": "code",
   "execution_count": null,
   "id": "b1537041",
   "metadata": {},
   "outputs": [],
   "source": []
  },
  {
   "cell_type": "code",
   "execution_count": null,
   "id": "da5e2c56",
   "metadata": {},
   "outputs": [],
   "source": []
  },
  {
   "cell_type": "code",
   "execution_count": null,
   "id": "7baf0886",
   "metadata": {},
   "outputs": [],
   "source": []
  },
  {
   "cell_type": "code",
   "execution_count": null,
   "id": "71df1ca4",
   "metadata": {},
   "outputs": [],
   "source": []
  },
  {
   "cell_type": "code",
   "execution_count": 78,
   "id": "c41de66d",
   "metadata": {},
   "outputs": [],
   "source": [
    "scores_1 = [0.754673847523715, 0.7580435569565022, 0.7595145108307738, 0.761051863008228, 0.7562988943713768, 0.7584646192089245, 0.7617624082584181, 0.7563550712389525, 0.7563309261069703, 0.7581661288881872, 0.7682228581581185, 0.7660127137491859, 0.767012414850742]"
   ]
  },
  {
   "cell_type": "code",
   "execution_count": 79,
   "id": "c1f51ade",
   "metadata": {},
   "outputs": [],
   "source": [
    "all_transformerse_to_add_str = []\n",
    "for entry in all_transformerse_to_add:\n",
    "    all_transformerse_to_add_str.append(str(entry)[str(entry).find(' ')+1:str(entry).find(' at')])"
   ]
  },
  {
   "cell_type": "code",
   "execution_count": 80,
   "id": "783946af",
   "metadata": {},
   "outputs": [
    {
     "data": {
      "image/png": "[encoded data removed]",
      "text/plain": [
       "<Figure size 640x480 with 1 Axes>"
      ]
     },
     "metadata": {},
     "output_type": "display_data"
    }
   ],
   "source": [
    "plt.plot(all_transformerse_to_add_str, scores_1)\n",
    "plt.xticks(rotation=90)\n",
    "plt.show()"
   ]
  },
  {
   "cell_type": "code",
   "execution_count": null,
   "id": "4791ecd7",
   "metadata": {},
   "outputs": [],
   "source": []
  },
  {
   "cell_type": "code",
   "execution_count": null,
   "id": "bd7f00ef",
   "metadata": {},
   "outputs": [],
   "source": []
  },
  {
   "cell_type": "code",
   "execution_count": null,
   "id": "30ad9de6",
   "metadata": {},
   "outputs": [],
   "source": []
  },
  {
   "cell_type": "code",
   "execution_count": null,
   "id": "35618c05",
   "metadata": {},
   "outputs": [],
   "source": []
  },
  {
   "cell_type": "code",
   "execution_count": null,
   "id": "9a126163",
   "metadata": {},
   "outputs": [],
   "source": []
  },
  {
   "cell_type": "code",
   "execution_count": 5,
   "id": "6466dd2e",
   "metadata": {},
   "outputs": [
    {
     "name": "stdout",
     "output_type": "stream",
     "text": [
      "['train_data/train_data_0.pq', 'train_data/train_data_1.pq', 'train_data/train_data_10.pq', 'train_data/train_data_11.pq', 'train_data/train_data_2.pq', 'train_data/train_data_3.pq', 'train_data/train_data_4.pq', 'train_data/train_data_5.pq', 'train_data/train_data_6.pq', 'train_data/train_data_7.pq', 'train_data/train_data_8.pq', 'train_data/train_data_9.pq']\n",
      "Reading chunks:\n",
      "\n",
      "train_data/train_data_0.pq\n",
      "train_data/train_data_1.pq\n",
      "train_data/train_data_10.pq\n",
      "train_data/train_data_11.pq\n",
      "train_data/train_data_2.pq\n",
      "train_data/train_data_3.pq\n",
      "train_data/train_data_4.pq\n",
      "train_data/train_data_5.pq\n",
      "train_data/train_data_6.pq\n",
      "train_data/train_data_7.pq\n",
      "train_data/train_data_8.pq\n",
      "train_data/train_data_9.pq\n"
     ]
    },
    {
     "data": {
      "application/vnd.jupyter.widget-view+json": {
       "model_id": "c95383cc7ebc47f1a95920158f7e0630",
       "version_major": 2,
       "version_minor": 0
      },
      "text/plain": [
       "Reading dataset:   0%|          | 0/12 [00:00<?, ?it/s]"
      ]
     },
     "metadata": {},
     "output_type": "display_data"
    },
    {
     "name": "stdout",
     "output_type": "stream",
     "text": [
      "chunk_path  train_data/train_data_0.pq\n"
     ]
    },
    {
     "data": {
      "application/vnd.jupyter.widget-view+json": {
       "model_id": "8a5648b951a5418e899a21c9301b74c7",
       "version_major": 2,
       "version_minor": 0
      },
      "text/plain": [
       "FloatProgress(value=0.0, layout=Layout(width='auto'), style=ProgressStyle(bar_color='black'))"
      ]
     },
     "metadata": {},
     "output_type": "display_data"
    },
    {
     "name": "stdout",
     "output_type": "stream",
     "text": [
      "chunk_path  train_data/train_data_1.pq\n",
      "chunk_path  train_data/train_data_10.pq\n",
      "chunk_path  train_data/train_data_11.pq\n"
     ]
    },
    {
     "data": {
      "application/vnd.jupyter.widget-view+json": {
       "model_id": "e1ad068b02e1406b895d543090137257",
       "version_major": 2,
       "version_minor": 0
      },
      "text/plain": [
       "FloatProgress(value=0.0, layout=Layout(width='auto'), style=ProgressStyle(bar_color='black'))"
      ]
     },
     "metadata": {},
     "output_type": "display_data"
    },
    {
     "data": {
      "application/vnd.jupyter.widget-view+json": {
       "model_id": "4685be63d5e047e3a0f6c5a88d95caaa",
       "version_major": 2,
       "version_minor": 0
      },
      "text/plain": [
       "FloatProgress(value=0.0, layout=Layout(width='auto'), style=ProgressStyle(bar_color='black'))"
      ]
     },
     "metadata": {},
     "output_type": "display_data"
    },
    {
     "name": "stdout",
     "output_type": "stream",
     "text": [
      "chunk_path  train_data/train_data_2.pq\n",
      "chunk_path  train_data/train_data_3.pq\n",
      "chunk_path  train_data/train_data_4.pq\n",
      "chunk_path  train_data/train_data_5.pq\n"
     ]
    },
    {
     "data": {
      "application/vnd.jupyter.widget-view+json": {
       "model_id": "a317df2d82ab439f910f56429b7b115e",
       "version_major": 2,
       "version_minor": 0
      },
      "text/plain": [
       "FloatProgress(value=0.0, layout=Layout(width='auto'), style=ProgressStyle(bar_color='black'))"
      ]
     },
     "metadata": {},
     "output_type": "display_data"
    },
    {
     "name": "stdout",
     "output_type": "stream",
     "text": [
      "chunk_path  train_data/train_data_6.pq\n",
      "chunk_path  train_data/train_data_7.pq\n",
      "chunk_path  train_data/train_data_8.pq\n"
     ]
    },
    {
     "data": {
      "application/vnd.jupyter.widget-view+json": {
       "model_id": "0e0e9af81356452bb74937471d4606c4",
       "version_major": 2,
       "version_minor": 0
      },
      "text/plain": [
       "FloatProgress(value=0.0, layout=Layout(width='auto'), style=ProgressStyle(bar_color='black'))"
      ]
     },
     "metadata": {},
     "output_type": "display_data"
    },
    {
     "name": "stdout",
     "output_type": "stream",
     "text": [
      "chunk_path  train_data/train_data_9.pq\n"
     ]
    }
   ],
   "source": [
    "# подготовка датасета для обучения модели: сет собирается по частям, параллельно проходит процессинг, \n",
    "# мерджится с целевой и аггрегируется \n",
    "\n",
    "transformers_for_presentation = []\n",
    "scores = []\n",
    "transformers_for_presentation = default_transformers.copy()\n",
    "\n",
    "model, X_test, y_test  = grad_2.fit(grad_2.path_to_dataset,\n",
    "                       0,         # с какого куска начать\n",
    "                       1,         # сколько обработать\n",
    "                       None,      # какие колонки брать None = все\n",
    "                       True,      # выводить что сейчас происходит\n",
    "                       transformers_for_presentation # лист функций-трансформеров \n",
    "                      )\n",
    "prediced_probabilities = grad_2.predict(model, X_test, y_test, False)\n",
    "\n",
    "scores.append(roc_auc_score(y_test, prediced_probabilities[:, 1]))\n"
   ]
  },
  {
   "cell_type": "code",
   "execution_count": 28,
   "id": "1b375838",
   "metadata": {},
   "outputs": [],
   "source": [
    "df = fastparquet.ParquetFile('train_data/df_compiled_v17_301_cols_full.pq').to_pandas()"
   ]
  },
  {
   "cell_type": "code",
   "execution_count": 29,
   "id": "5dcbc102",
   "metadata": {},
   "outputs": [],
   "source": [
    "# в класс \"зашита\" конфигурация XGBClassifier с тюнингом, она обучается на сэмллированном тренировочном куске датасета\n",
    "# на выход отдает обученную модель и тестовые куски для предикта и целевую для проверки\n",
    "# для чистоты эксперимента разбивка не застопорена random_state, roc_auc будет немного колебаться, \n",
    "# но не должен опускаться ниже 0,75 \n",
    "model, X_test, y_test = grad_2.fit_model(df)"
   ]
  },
  {
   "cell_type": "code",
   "execution_count": 30,
   "id": "bb581182",
   "metadata": {},
   "outputs": [],
   "source": [
    "# записывает обученную модель с помощью joblib в папку models/\n",
    "grad_2.write_down_model(model, 'model_1')"
   ]
  },
  {
   "cell_type": "code",
   "execution_count": 37,
   "id": "add1de42",
   "metadata": {},
   "outputs": [],
   "source": [
    "# загружаем обученную модель\n",
    "loaded_model = grad_2.load_model('models/model_1.pkl')"
   ]
  },
  {
   "cell_type": "code",
   "execution_count": 44,
   "id": "9cf098ad",
   "metadata": {},
   "outputs": [],
   "source": [
    "# делает предсказания ранее обученной моделью, на выход отдает array с вероятностями для roc_auc\n",
    "preds = grad_2.predict(loaded_model, X_test, y_test, True)"
   ]
  },
  {
   "cell_type": "code",
   "execution_count": 45,
   "id": "dc07a3ca",
   "metadata": {
    "scrolled": false
   },
   "outputs": [
    {
     "data": {
      "text/plain": [
       "0.7612681334814589"
      ]
     },
     "execution_count": 45,
     "metadata": {},
     "output_type": "execute_result"
    }
   ],
   "source": [
    "# проверка результатов предсказания\n",
    "roc_auc = roc_auc_score(y_test, preds)\n",
    "roc_auc"
   ]
  },
  {
   "cell_type": "markdown",
   "id": "bef76a6d",
   "metadata": {},
   "source": [
    "# Ниже:\n",
    "ниже вы найдете этапы выполнения работы\n",
    "1) пайплайн - технически пайплайн работает, но на тесте дает неудовлетворительные результаты, по этому в качестве материала для \"сдачи\" был выбран другой вариант решения задачи. Помимо этого пайллайн не может обработать все 12 кусков одновременно - выбивает MemoryError\n",
    "2) Подготовка сета - на этом этапе собиралась функция, которая в итоге стала частью метода класса, отвечающего за сборку датасета и его процессинг\n",
    "3) Подготовка сета без трансформации - на этом этапе собирался сет без процессинга, использовалась исключительно предоставленная функция по чтению \"паркета\" и его сборке - без зашитого в функцию пайплайна с обработкой\n",
    "4) дефолтная модель без GS 1 прогон - проба модели без тюнинга с разнами вариантами сэмплирования тренировочного датасета. В итоге разбивка 0 - 60%, 1 - 40% показала наилучшие результаты, ретроактивно была перенесена на все прочие варианты \"прогонов\"\n",
    "5) дефолтная модель без GS n прогонов -> среднее (самодельное cv) - несколько прогонов модели без тюнинга, CV не использовалось в целях обеспечения \"рандома\" и экономии времени\n",
    "6) поиск параметров по GridSearch\n",
    "7) модель c тюнингом после GS 1 прогон - тест модели с тюнингом\n",
    "8) Stage 2 compiling a dataset - несмотря на название на этой стадии не только собирался итоговый датасет, но и искался оптимальная разбивка 0/1 для дальнейшего сэмплирования, а так же оптимизировались функции-трансформеры\n",
    "9) далее идут эксперименты: было проверено 8 более-менее отличающихся гиппотез, оформлены формулировкой гиппотезы в начале и результатом в конце кода, относящегося к каждой конкретной гиппотезе"
   ]
  },
  {
   "cell_type": "markdown",
   "id": "d22e0050",
   "metadata": {},
   "source": [
    "# pipeline (к сожалению, так и не дал удовлетворительных результатов)\n",
    "\n"
   ]
  },
  {
   "cell_type": "markdown",
   "id": "24a8c7e7",
   "metadata": {},
   "source": [
    "res = fastparquet.ParquetFile('train_data/df_full_not_transformed.pq').to_pandas()"
   ]
  },
  {
   "cell_type": "markdown",
   "id": "f108878e",
   "metadata": {},
   "source": [
    "res = fastparquet.ParquetFile('train_data/train_data_0.pq').to_pandas()"
   ]
  },
  {
   "cell_type": "code",
   "execution_count": 79,
   "id": "a35a3e3d",
   "metadata": {},
   "outputs": [
    {
     "name": "stdout",
     "output_type": "stream",
     "text": [
      "['train_data/train_data_0.pq', 'train_data/train_data_1.pq', 'train_data/train_data_10.pq', 'train_data/train_data_11.pq', 'train_data/train_data_2.pq', 'train_data/train_data_3.pq', 'train_data/train_data_4.pq', 'train_data/train_data_5.pq', 'train_data/train_data_6.pq', 'train_data/train_data_7.pq', 'train_data/train_data_8.pq', 'train_data/train_data_9.pq']\n",
      "Reading chunks:\n",
      "\n",
      "train_data/train_data_0.pq\n",
      "train_data/train_data_1.pq\n",
      "train_data/train_data_10.pq\n",
      "train_data/train_data_11.pq\n"
     ]
    },
    {
     "data": {
      "application/vnd.jupyter.widget-view+json": {
       "model_id": "349a2133a3fc495abf126e1b4047ad3d",
       "version_major": 2,
       "version_minor": 0
      },
      "text/plain": [
       "Reading dataset with pandas:   0%|          | 0/4 [00:00<?, ?it/s]"
      ]
     },
     "metadata": {},
     "output_type": "display_data"
    },
    {
     "name": "stdout",
     "output_type": "stream",
     "text": [
      "chunk_path train_data/train_data_0.pq\n",
      "chunk_path train_data/train_data_1.pq\n",
      "chunk_path train_data/train_data_10.pq\n",
      "chunk_path train_data/train_data_11.pq\n"
     ]
    }
   ],
   "source": [
    "res = read_parquet_dataset_from_local_og('train_data/', # где лежат данные\n",
    "                                0,         # с какого куска начать\n",
    "                                12,         # сколько обработать\n",
    "                                None,      # какие колонки брать None = все\n",
    "                                True,      # выводить что сейчас происходит\n",
    "                                     )"
   ]
  },
  {
   "cell_type": "code",
   "execution_count": 28,
   "id": "88ce5d4b",
   "metadata": {},
   "outputs": [
    {
     "data": {
      "application/vnd.jupyter.widget-view+json": {
       "model_id": "6dff2cc7bc1f41e0b08e9b2882524113",
       "version_major": 2,
       "version_minor": 0
      },
      "text/plain": [
       "FloatProgress(value=0.0, layout=Layout(width='auto'), style=ProgressStyle(bar_color='black'))"
      ]
     },
     "metadata": {},
     "output_type": "display_data"
    },
    {
     "name": "stdout",
     "output_type": "stream",
     "text": [
      "answers end\n"
     ]
    }
   ],
   "source": [
    "res = answers_func_optimised_for_pipe(res)"
   ]
  },
  {
   "cell_type": "code",
   "execution_count": 29,
   "id": "179fb7b3",
   "metadata": {
    "scrolled": true
   },
   "outputs": [
    {
     "name": "stdout",
     "output_type": "stream",
     "text": [
      "(20930173, 62)\n",
      "(5232544, 62)\n"
     ]
    }
   ],
   "source": [
    "res, res_test = train_test_split(res, stratify=res['flag'], test_size=0.2, random_state=42 )\n",
    "print(res.shape)\n",
    "print(res_test.shape)"
   ]
  },
  {
   "cell_type": "code",
   "execution_count": 30,
   "id": "9373ee2f",
   "metadata": {},
   "outputs": [],
   "source": [
    "transformers = [\n",
    "#     answers_func_optimised_for_pipe,\n",
    "    outstanding_loans_summ,\n",
    "    outstanding_loans_summ_sq,\n",
    "    loans_overdue_summ,\n",
    "    loans_overdue_summ_sq,\n",
    "    credit_limit,\n",
    "    credit_costs,\n",
    "    credit_costs_sq,\n",
    "    max_overdue,\n",
    "    credit_status_general_mean,\n",
    "    credit_status_prevalent_atm,\n",
    "    overdue_and_quick_closure_duck_optimised,\n",
    "    credit_line_length,\n",
    "#     ohe_handpicked,\n",
    "    dropping_cols,\n",
    "    custom_agregating_optimised,\n",
    "#     custom_agregating_optimised_for_pipe,\n",
    "    ohe_handpicked,\n",
    "    column_checker,\n",
    "#     zero_imputer,\n",
    "]"
   ]
  },
  {
   "cell_type": "code",
   "execution_count": 31,
   "id": "e299fa29",
   "metadata": {},
   "outputs": [],
   "source": [
    "transformers_trf = []  \n",
    "for i in range(len(transformers)):  \n",
    "    transformers_trf.append((transformers[i].__name__+'_trf', FunctionTransformer(transformers[i])))  # look for error here!!!!      \n",
    "transformers_trf.append(('model',xgb.XGBClassifier(colsample_bytree=0.9, gamma=0.1, learning_rate=0.1, max_depth=5, n_estimators=400, subsample=0.8)))\n",
    "pipeline = Pipeline(transformers_trf) "
   ]
  },
  {
   "cell_type": "code",
   "execution_count": 32,
   "id": "f741e8fa",
   "metadata": {
    "collapsed": true
   },
   "outputs": [
    {
     "ename": "MemoryError",
     "evalue": "Unable to allocate 9.51 GiB for an array with shape (61, 20930173) and data type int64",
     "output_type": "error",
     "traceback": [
      "\u001b[1;31m---------------------------------------------------------------------------\u001b[0m",
      "\u001b[1;31mMemoryError\u001b[0m                               Traceback (most recent call last)",
      "Cell \u001b[1;32mIn[32], line 6\u001b[0m\n\u001b[0;32m      1\u001b[0m \u001b[38;5;66;03m# res_trf = pipeline.fit_transform(res)  # look for error here!!!!  \u001b[39;00m\n\u001b[0;32m      2\u001b[0m \u001b[38;5;66;03m# res_trf = pipeline.fit(res.drop('flag', axis=1), res['flag'] )  # look for error here!!!!  \u001b[39;00m\n\u001b[0;32m      3\u001b[0m \u001b[38;5;66;03m# answers = pd.read_csv('train_target.csv')\u001b[39;00m\n\u001b[0;32m      4\u001b[0m \u001b[38;5;66;03m# res_trf = pipeline.fit(res.drop('flag', axis=1), answers.loc[0:249999,]['flag'])  # look for error here!!!!  \u001b[39;00m\n\u001b[0;32m      5\u001b[0m answers \u001b[38;5;241m=\u001b[39m pd\u001b[38;5;241m.\u001b[39mread_csv(\u001b[38;5;124m'\u001b[39m\u001b[38;5;124mtrain_target.csv\u001b[39m\u001b[38;5;124m'\u001b[39m)\n\u001b[1;32m----> 6\u001b[0m pipeline\u001b[38;5;241m.\u001b[39mfit(res\u001b[38;5;241m.\u001b[39mdrop(\u001b[38;5;124m'\u001b[39m\u001b[38;5;124mflag\u001b[39m\u001b[38;5;124m'\u001b[39m, axis\u001b[38;5;241m=\u001b[39m\u001b[38;5;241m1\u001b[39m), answers[answers[\u001b[38;5;124m'\u001b[39m\u001b[38;5;124mid\u001b[39m\u001b[38;5;124m'\u001b[39m]\u001b[38;5;241m.\u001b[39misin(res[\u001b[38;5;124m'\u001b[39m\u001b[38;5;124mid\u001b[39m\u001b[38;5;124m'\u001b[39m]\u001b[38;5;241m.\u001b[39munique())][\u001b[38;5;124m'\u001b[39m\u001b[38;5;124mflag\u001b[39m\u001b[38;5;124m'\u001b[39m])\n",
      "File \u001b[1;32m~\\AppData\\Roaming\\Python\\Python311\\site-packages\\sklearn\\pipeline.py:401\u001b[0m, in \u001b[0;36mPipeline.fit\u001b[1;34m(self, X, y, **fit_params)\u001b[0m\n\u001b[0;32m    375\u001b[0m \u001b[38;5;250m\u001b[39m\u001b[38;5;124;03m\"\"\"Fit the model.\u001b[39;00m\n\u001b[0;32m    376\u001b[0m \n\u001b[0;32m    377\u001b[0m \u001b[38;5;124;03mFit all the transformers one after the other and transform the\u001b[39;00m\n\u001b[1;32m   (...)\u001b[0m\n\u001b[0;32m    398\u001b[0m \u001b[38;5;124;03m    Pipeline with fitted steps.\u001b[39;00m\n\u001b[0;32m    399\u001b[0m \u001b[38;5;124;03m\"\"\"\u001b[39;00m\n\u001b[0;32m    400\u001b[0m fit_params_steps \u001b[38;5;241m=\u001b[39m \u001b[38;5;28mself\u001b[39m\u001b[38;5;241m.\u001b[39m_check_fit_params(\u001b[38;5;241m*\u001b[39m\u001b[38;5;241m*\u001b[39mfit_params)\n\u001b[1;32m--> 401\u001b[0m Xt \u001b[38;5;241m=\u001b[39m \u001b[38;5;28mself\u001b[39m\u001b[38;5;241m.\u001b[39m_fit(X, y, \u001b[38;5;241m*\u001b[39m\u001b[38;5;241m*\u001b[39mfit_params_steps)\n\u001b[0;32m    402\u001b[0m \u001b[38;5;28;01mwith\u001b[39;00m _print_elapsed_time(\u001b[38;5;124m\"\u001b[39m\u001b[38;5;124mPipeline\u001b[39m\u001b[38;5;124m\"\u001b[39m, \u001b[38;5;28mself\u001b[39m\u001b[38;5;241m.\u001b[39m_log_message(\u001b[38;5;28mlen\u001b[39m(\u001b[38;5;28mself\u001b[39m\u001b[38;5;241m.\u001b[39msteps) \u001b[38;5;241m-\u001b[39m \u001b[38;5;241m1\u001b[39m)):\n\u001b[0;32m    403\u001b[0m     \u001b[38;5;28;01mif\u001b[39;00m \u001b[38;5;28mself\u001b[39m\u001b[38;5;241m.\u001b[39m_final_estimator \u001b[38;5;241m!=\u001b[39m \u001b[38;5;124m\"\u001b[39m\u001b[38;5;124mpassthrough\u001b[39m\u001b[38;5;124m\"\u001b[39m:\n",
      "File \u001b[1;32m~\\AppData\\Roaming\\Python\\Python311\\site-packages\\sklearn\\pipeline.py:359\u001b[0m, in \u001b[0;36mPipeline._fit\u001b[1;34m(self, X, y, **fit_params_steps)\u001b[0m\n\u001b[0;32m    357\u001b[0m     cloned_transformer \u001b[38;5;241m=\u001b[39m clone(transformer)\n\u001b[0;32m    358\u001b[0m \u001b[38;5;66;03m# Fit or load from cache the current transformer\u001b[39;00m\n\u001b[1;32m--> 359\u001b[0m X, fitted_transformer \u001b[38;5;241m=\u001b[39m fit_transform_one_cached(\n\u001b[0;32m    360\u001b[0m     cloned_transformer,\n\u001b[0;32m    361\u001b[0m     X,\n\u001b[0;32m    362\u001b[0m     y,\n\u001b[0;32m    363\u001b[0m     \u001b[38;5;28;01mNone\u001b[39;00m,\n\u001b[0;32m    364\u001b[0m     message_clsname\u001b[38;5;241m=\u001b[39m\u001b[38;5;124m\"\u001b[39m\u001b[38;5;124mPipeline\u001b[39m\u001b[38;5;124m\"\u001b[39m,\n\u001b[0;32m    365\u001b[0m     message\u001b[38;5;241m=\u001b[39m\u001b[38;5;28mself\u001b[39m\u001b[38;5;241m.\u001b[39m_log_message(step_idx),\n\u001b[0;32m    366\u001b[0m     \u001b[38;5;241m*\u001b[39m\u001b[38;5;241m*\u001b[39mfit_params_steps[name],\n\u001b[0;32m    367\u001b[0m )\n\u001b[0;32m    368\u001b[0m \u001b[38;5;66;03m# Replace the transformer of the step with the fitted\u001b[39;00m\n\u001b[0;32m    369\u001b[0m \u001b[38;5;66;03m# transformer. This is necessary when loading the transformer\u001b[39;00m\n\u001b[0;32m    370\u001b[0m \u001b[38;5;66;03m# from the cache.\u001b[39;00m\n\u001b[0;32m    371\u001b[0m \u001b[38;5;28mself\u001b[39m\u001b[38;5;241m.\u001b[39msteps[step_idx] \u001b[38;5;241m=\u001b[39m (name, fitted_transformer)\n",
      "File \u001b[1;32mC:\\ProgramData\\anaconda3\\Lib\\site-packages\\joblib\\memory.py:349\u001b[0m, in \u001b[0;36mNotMemorizedFunc.__call__\u001b[1;34m(self, *args, **kwargs)\u001b[0m\n\u001b[0;32m    348\u001b[0m \u001b[38;5;28;01mdef\u001b[39;00m \u001b[38;5;21m__call__\u001b[39m(\u001b[38;5;28mself\u001b[39m, \u001b[38;5;241m*\u001b[39margs, \u001b[38;5;241m*\u001b[39m\u001b[38;5;241m*\u001b[39mkwargs):\n\u001b[1;32m--> 349\u001b[0m     \u001b[38;5;28;01mreturn\u001b[39;00m \u001b[38;5;28mself\u001b[39m\u001b[38;5;241m.\u001b[39mfunc(\u001b[38;5;241m*\u001b[39margs, \u001b[38;5;241m*\u001b[39m\u001b[38;5;241m*\u001b[39mkwargs)\n",
      "File \u001b[1;32m~\\AppData\\Roaming\\Python\\Python311\\site-packages\\sklearn\\pipeline.py:893\u001b[0m, in \u001b[0;36m_fit_transform_one\u001b[1;34m(transformer, X, y, weight, message_clsname, message, **fit_params)\u001b[0m\n\u001b[0;32m    891\u001b[0m \u001b[38;5;28;01mwith\u001b[39;00m _print_elapsed_time(message_clsname, message):\n\u001b[0;32m    892\u001b[0m     \u001b[38;5;28;01mif\u001b[39;00m \u001b[38;5;28mhasattr\u001b[39m(transformer, \u001b[38;5;124m\"\u001b[39m\u001b[38;5;124mfit_transform\u001b[39m\u001b[38;5;124m\"\u001b[39m):\n\u001b[1;32m--> 893\u001b[0m         res \u001b[38;5;241m=\u001b[39m transformer\u001b[38;5;241m.\u001b[39mfit_transform(X, y, \u001b[38;5;241m*\u001b[39m\u001b[38;5;241m*\u001b[39mfit_params)\n\u001b[0;32m    894\u001b[0m     \u001b[38;5;28;01melse\u001b[39;00m:\n\u001b[0;32m    895\u001b[0m         res \u001b[38;5;241m=\u001b[39m transformer\u001b[38;5;241m.\u001b[39mfit(X, y, \u001b[38;5;241m*\u001b[39m\u001b[38;5;241m*\u001b[39mfit_params)\u001b[38;5;241m.\u001b[39mtransform(X)\n",
      "File \u001b[1;32m~\\AppData\\Roaming\\Python\\Python311\\site-packages\\sklearn\\utils\\_set_output.py:140\u001b[0m, in \u001b[0;36m_wrap_method_output.<locals>.wrapped\u001b[1;34m(self, X, *args, **kwargs)\u001b[0m\n\u001b[0;32m    138\u001b[0m \u001b[38;5;129m@wraps\u001b[39m(f)\n\u001b[0;32m    139\u001b[0m \u001b[38;5;28;01mdef\u001b[39;00m \u001b[38;5;21mwrapped\u001b[39m(\u001b[38;5;28mself\u001b[39m, X, \u001b[38;5;241m*\u001b[39margs, \u001b[38;5;241m*\u001b[39m\u001b[38;5;241m*\u001b[39mkwargs):\n\u001b[1;32m--> 140\u001b[0m     data_to_wrap \u001b[38;5;241m=\u001b[39m f(\u001b[38;5;28mself\u001b[39m, X, \u001b[38;5;241m*\u001b[39margs, \u001b[38;5;241m*\u001b[39m\u001b[38;5;241m*\u001b[39mkwargs)\n\u001b[0;32m    141\u001b[0m     \u001b[38;5;28;01mif\u001b[39;00m \u001b[38;5;28misinstance\u001b[39m(data_to_wrap, \u001b[38;5;28mtuple\u001b[39m):\n\u001b[0;32m    142\u001b[0m         \u001b[38;5;66;03m# only wrap the first output for cross decomposition\u001b[39;00m\n\u001b[0;32m    143\u001b[0m         \u001b[38;5;28;01mreturn\u001b[39;00m (\n\u001b[0;32m    144\u001b[0m             _wrap_data_with_container(method, data_to_wrap[\u001b[38;5;241m0\u001b[39m], X, \u001b[38;5;28mself\u001b[39m),\n\u001b[0;32m    145\u001b[0m             \u001b[38;5;241m*\u001b[39mdata_to_wrap[\u001b[38;5;241m1\u001b[39m:],\n\u001b[0;32m    146\u001b[0m         )\n",
      "File \u001b[1;32m~\\AppData\\Roaming\\Python\\Python311\\site-packages\\sklearn\\base.py:881\u001b[0m, in \u001b[0;36mTransformerMixin.fit_transform\u001b[1;34m(self, X, y, **fit_params)\u001b[0m\n\u001b[0;32m    878\u001b[0m     \u001b[38;5;28;01mreturn\u001b[39;00m \u001b[38;5;28mself\u001b[39m\u001b[38;5;241m.\u001b[39mfit(X, \u001b[38;5;241m*\u001b[39m\u001b[38;5;241m*\u001b[39mfit_params)\u001b[38;5;241m.\u001b[39mtransform(X)\n\u001b[0;32m    879\u001b[0m \u001b[38;5;28;01melse\u001b[39;00m:\n\u001b[0;32m    880\u001b[0m     \u001b[38;5;66;03m# fit method of arity 2 (supervised transformation)\u001b[39;00m\n\u001b[1;32m--> 881\u001b[0m     \u001b[38;5;28;01mreturn\u001b[39;00m \u001b[38;5;28mself\u001b[39m\u001b[38;5;241m.\u001b[39mfit(X, y, \u001b[38;5;241m*\u001b[39m\u001b[38;5;241m*\u001b[39mfit_params)\u001b[38;5;241m.\u001b[39mtransform(X)\n",
      "File \u001b[1;32m~\\AppData\\Roaming\\Python\\Python311\\site-packages\\sklearn\\utils\\_set_output.py:140\u001b[0m, in \u001b[0;36m_wrap_method_output.<locals>.wrapped\u001b[1;34m(self, X, *args, **kwargs)\u001b[0m\n\u001b[0;32m    138\u001b[0m \u001b[38;5;129m@wraps\u001b[39m(f)\n\u001b[0;32m    139\u001b[0m \u001b[38;5;28;01mdef\u001b[39;00m \u001b[38;5;21mwrapped\u001b[39m(\u001b[38;5;28mself\u001b[39m, X, \u001b[38;5;241m*\u001b[39margs, \u001b[38;5;241m*\u001b[39m\u001b[38;5;241m*\u001b[39mkwargs):\n\u001b[1;32m--> 140\u001b[0m     data_to_wrap \u001b[38;5;241m=\u001b[39m f(\u001b[38;5;28mself\u001b[39m, X, \u001b[38;5;241m*\u001b[39margs, \u001b[38;5;241m*\u001b[39m\u001b[38;5;241m*\u001b[39mkwargs)\n\u001b[0;32m    141\u001b[0m     \u001b[38;5;28;01mif\u001b[39;00m \u001b[38;5;28misinstance\u001b[39m(data_to_wrap, \u001b[38;5;28mtuple\u001b[39m):\n\u001b[0;32m    142\u001b[0m         \u001b[38;5;66;03m# only wrap the first output for cross decomposition\u001b[39;00m\n\u001b[0;32m    143\u001b[0m         \u001b[38;5;28;01mreturn\u001b[39;00m (\n\u001b[0;32m    144\u001b[0m             _wrap_data_with_container(method, data_to_wrap[\u001b[38;5;241m0\u001b[39m], X, \u001b[38;5;28mself\u001b[39m),\n\u001b[0;32m    145\u001b[0m             \u001b[38;5;241m*\u001b[39mdata_to_wrap[\u001b[38;5;241m1\u001b[39m:],\n\u001b[0;32m    146\u001b[0m         )\n",
      "File \u001b[1;32m~\\AppData\\Roaming\\Python\\Python311\\site-packages\\sklearn\\preprocessing\\_function_transformer.py:238\u001b[0m, in \u001b[0;36mFunctionTransformer.transform\u001b[1;34m(self, X)\u001b[0m\n\u001b[0;32m    224\u001b[0m \u001b[38;5;250m\u001b[39m\u001b[38;5;124;03m\"\"\"Transform X using the forward function.\u001b[39;00m\n\u001b[0;32m    225\u001b[0m \n\u001b[0;32m    226\u001b[0m \u001b[38;5;124;03mParameters\u001b[39;00m\n\u001b[1;32m   (...)\u001b[0m\n\u001b[0;32m    235\u001b[0m \u001b[38;5;124;03m    Transformed input.\u001b[39;00m\n\u001b[0;32m    236\u001b[0m \u001b[38;5;124;03m\"\"\"\u001b[39;00m\n\u001b[0;32m    237\u001b[0m X \u001b[38;5;241m=\u001b[39m \u001b[38;5;28mself\u001b[39m\u001b[38;5;241m.\u001b[39m_check_input(X, reset\u001b[38;5;241m=\u001b[39m\u001b[38;5;28;01mFalse\u001b[39;00m)\n\u001b[1;32m--> 238\u001b[0m \u001b[38;5;28;01mreturn\u001b[39;00m \u001b[38;5;28mself\u001b[39m\u001b[38;5;241m.\u001b[39m_transform(X, func\u001b[38;5;241m=\u001b[39m\u001b[38;5;28mself\u001b[39m\u001b[38;5;241m.\u001b[39mfunc, kw_args\u001b[38;5;241m=\u001b[39m\u001b[38;5;28mself\u001b[39m\u001b[38;5;241m.\u001b[39mkw_args)\n",
      "File \u001b[1;32m~\\AppData\\Roaming\\Python\\Python311\\site-packages\\sklearn\\preprocessing\\_function_transformer.py:310\u001b[0m, in \u001b[0;36mFunctionTransformer._transform\u001b[1;34m(self, X, func, kw_args)\u001b[0m\n\u001b[0;32m    307\u001b[0m \u001b[38;5;28;01mif\u001b[39;00m func \u001b[38;5;129;01mis\u001b[39;00m \u001b[38;5;28;01mNone\u001b[39;00m:\n\u001b[0;32m    308\u001b[0m     func \u001b[38;5;241m=\u001b[39m _identity\n\u001b[1;32m--> 310\u001b[0m \u001b[38;5;28;01mreturn\u001b[39;00m func(X, \u001b[38;5;241m*\u001b[39m\u001b[38;5;241m*\u001b[39m(kw_args \u001b[38;5;28;01mif\u001b[39;00m kw_args \u001b[38;5;28;01melse\u001b[39;00m {}))\n",
      "Cell \u001b[1;32mIn[21], line 6\u001b[0m, in \u001b[0;36moutstanding_loans_summ\u001b[1;34m(df)\u001b[0m\n\u001b[0;32m      1\u001b[0m \u001b[38;5;28;01mdef\u001b[39;00m \u001b[38;5;21moutstanding_loans_summ\u001b[39m(df):\n\u001b[0;32m      2\u001b[0m \u001b[38;5;66;03m#     print('outstanding_loans_summ start')\u001b[39;00m\n\u001b[0;32m      3\u001b[0m     \u001b[38;5;66;03m# сумма неоплаченных долгов по займам\u001b[39;00m\n\u001b[0;32m      5\u001b[0m     df \u001b[38;5;241m=\u001b[39m df\u001b[38;5;241m.\u001b[39msort_values(\u001b[38;5;124m'\u001b[39m\u001b[38;5;124mid\u001b[39m\u001b[38;5;124m'\u001b[39m)\n\u001b[1;32m----> 6\u001b[0m     df \u001b[38;5;241m=\u001b[39m df\u001b[38;5;241m.\u001b[39mreset_index()\n\u001b[0;32m      7\u001b[0m     df \u001b[38;5;241m=\u001b[39m df\u001b[38;5;241m.\u001b[39mdrop(\u001b[38;5;124m'\u001b[39m\u001b[38;5;124mindex\u001b[39m\u001b[38;5;124m'\u001b[39m, axis\u001b[38;5;241m=\u001b[39m\u001b[38;5;241m1\u001b[39m)\n\u001b[0;32m     10\u001b[0m     con \u001b[38;5;241m=\u001b[39m duckdb\u001b[38;5;241m.\u001b[39mconnect(\u001b[38;5;124m'\u001b[39m\u001b[38;5;124m:memory:\u001b[39m\u001b[38;5;124m'\u001b[39m)\n",
      "File \u001b[1;32mC:\\ProgramData\\anaconda3\\Lib\\site-packages\\pandas\\core\\frame.py:6154\u001b[0m, in \u001b[0;36mDataFrame.reset_index\u001b[1;34m(self, level, drop, inplace, col_level, col_fill, allow_duplicates, names)\u001b[0m\n\u001b[0;32m   6152\u001b[0m     new_obj \u001b[38;5;241m=\u001b[39m \u001b[38;5;28mself\u001b[39m\n\u001b[0;32m   6153\u001b[0m \u001b[38;5;28;01melse\u001b[39;00m:\n\u001b[1;32m-> 6154\u001b[0m     new_obj \u001b[38;5;241m=\u001b[39m \u001b[38;5;28mself\u001b[39m\u001b[38;5;241m.\u001b[39mcopy(deep\u001b[38;5;241m=\u001b[39m\u001b[38;5;28;01mNone\u001b[39;00m)\n\u001b[0;32m   6155\u001b[0m \u001b[38;5;28;01mif\u001b[39;00m allow_duplicates \u001b[38;5;129;01mis\u001b[39;00m \u001b[38;5;129;01mnot\u001b[39;00m lib\u001b[38;5;241m.\u001b[39mno_default:\n\u001b[0;32m   6156\u001b[0m     allow_duplicates \u001b[38;5;241m=\u001b[39m validate_bool_kwarg(allow_duplicates, \u001b[38;5;124m\"\u001b[39m\u001b[38;5;124mallow_duplicates\u001b[39m\u001b[38;5;124m\"\u001b[39m)\n",
      "File \u001b[1;32mC:\\ProgramData\\anaconda3\\Lib\\site-packages\\pandas\\core\\generic.py:6452\u001b[0m, in \u001b[0;36mNDFrame.copy\u001b[1;34m(self, deep)\u001b[0m\n\u001b[0;32m   6342\u001b[0m \u001b[38;5;129m@final\u001b[39m\n\u001b[0;32m   6343\u001b[0m \u001b[38;5;28;01mdef\u001b[39;00m \u001b[38;5;21mcopy\u001b[39m(\u001b[38;5;28mself\u001b[39m: NDFrameT, deep: bool_t \u001b[38;5;241m|\u001b[39m \u001b[38;5;28;01mNone\u001b[39;00m \u001b[38;5;241m=\u001b[39m \u001b[38;5;28;01mTrue\u001b[39;00m) \u001b[38;5;241m-\u001b[39m\u001b[38;5;241m>\u001b[39m NDFrameT:\n\u001b[0;32m   6344\u001b[0m \u001b[38;5;250m    \u001b[39m\u001b[38;5;124;03m\"\"\"\u001b[39;00m\n\u001b[0;32m   6345\u001b[0m \u001b[38;5;124;03m    Make a copy of this object's indices and data.\u001b[39;00m\n\u001b[0;32m   6346\u001b[0m \n\u001b[1;32m   (...)\u001b[0m\n\u001b[0;32m   6450\u001b[0m \u001b[38;5;124;03m    dtype: object\u001b[39;00m\n\u001b[0;32m   6451\u001b[0m \u001b[38;5;124;03m    \"\"\"\u001b[39;00m\n\u001b[1;32m-> 6452\u001b[0m     data \u001b[38;5;241m=\u001b[39m \u001b[38;5;28mself\u001b[39m\u001b[38;5;241m.\u001b[39m_mgr\u001b[38;5;241m.\u001b[39mcopy(deep\u001b[38;5;241m=\u001b[39mdeep)\n\u001b[0;32m   6453\u001b[0m     \u001b[38;5;28mself\u001b[39m\u001b[38;5;241m.\u001b[39m_clear_item_cache()\n\u001b[0;32m   6454\u001b[0m     \u001b[38;5;28;01mreturn\u001b[39;00m \u001b[38;5;28mself\u001b[39m\u001b[38;5;241m.\u001b[39m_constructor(data)\u001b[38;5;241m.\u001b[39m__finalize__(\u001b[38;5;28mself\u001b[39m, method\u001b[38;5;241m=\u001b[39m\u001b[38;5;124m\"\u001b[39m\u001b[38;5;124mcopy\u001b[39m\u001b[38;5;124m\"\u001b[39m)\n",
      "File \u001b[1;32mC:\\ProgramData\\anaconda3\\Lib\\site-packages\\pandas\\core\\internals\\managers.py:653\u001b[0m, in \u001b[0;36mBaseBlockManager.copy\u001b[1;34m(self, deep)\u001b[0m\n\u001b[0;32m    650\u001b[0m \u001b[38;5;28;01melse\u001b[39;00m:\n\u001b[0;32m    651\u001b[0m     new_axes \u001b[38;5;241m=\u001b[39m \u001b[38;5;28mlist\u001b[39m(\u001b[38;5;28mself\u001b[39m\u001b[38;5;241m.\u001b[39maxes)\n\u001b[1;32m--> 653\u001b[0m res \u001b[38;5;241m=\u001b[39m \u001b[38;5;28mself\u001b[39m\u001b[38;5;241m.\u001b[39mapply(\u001b[38;5;124m\"\u001b[39m\u001b[38;5;124mcopy\u001b[39m\u001b[38;5;124m\"\u001b[39m, deep\u001b[38;5;241m=\u001b[39mdeep)\n\u001b[0;32m    654\u001b[0m res\u001b[38;5;241m.\u001b[39maxes \u001b[38;5;241m=\u001b[39m new_axes\n\u001b[0;32m    656\u001b[0m \u001b[38;5;28;01mif\u001b[39;00m \u001b[38;5;28mself\u001b[39m\u001b[38;5;241m.\u001b[39mndim \u001b[38;5;241m>\u001b[39m \u001b[38;5;241m1\u001b[39m:\n\u001b[0;32m    657\u001b[0m     \u001b[38;5;66;03m# Avoid needing to re-compute these\u001b[39;00m\n",
      "File \u001b[1;32mC:\\ProgramData\\anaconda3\\Lib\\site-packages\\pandas\\core\\internals\\managers.py:352\u001b[0m, in \u001b[0;36mBaseBlockManager.apply\u001b[1;34m(self, f, align_keys, **kwargs)\u001b[0m\n\u001b[0;32m    350\u001b[0m         applied \u001b[38;5;241m=\u001b[39m b\u001b[38;5;241m.\u001b[39mapply(f, \u001b[38;5;241m*\u001b[39m\u001b[38;5;241m*\u001b[39mkwargs)\n\u001b[0;32m    351\u001b[0m     \u001b[38;5;28;01melse\u001b[39;00m:\n\u001b[1;32m--> 352\u001b[0m         applied \u001b[38;5;241m=\u001b[39m \u001b[38;5;28mgetattr\u001b[39m(b, f)(\u001b[38;5;241m*\u001b[39m\u001b[38;5;241m*\u001b[39mkwargs)\n\u001b[0;32m    353\u001b[0m     result_blocks \u001b[38;5;241m=\u001b[39m extend_blocks(applied, result_blocks)\n\u001b[0;32m    355\u001b[0m out \u001b[38;5;241m=\u001b[39m \u001b[38;5;28mtype\u001b[39m(\u001b[38;5;28mself\u001b[39m)\u001b[38;5;241m.\u001b[39mfrom_blocks(result_blocks, \u001b[38;5;28mself\u001b[39m\u001b[38;5;241m.\u001b[39maxes)\n",
      "File \u001b[1;32mC:\\ProgramData\\anaconda3\\Lib\\site-packages\\pandas\\core\\internals\\blocks.py:540\u001b[0m, in \u001b[0;36mBlock.copy\u001b[1;34m(self, deep)\u001b[0m\n\u001b[0;32m    538\u001b[0m refs: BlockValuesRefs \u001b[38;5;241m|\u001b[39m \u001b[38;5;28;01mNone\u001b[39;00m\n\u001b[0;32m    539\u001b[0m \u001b[38;5;28;01mif\u001b[39;00m deep:\n\u001b[1;32m--> 540\u001b[0m     values \u001b[38;5;241m=\u001b[39m values\u001b[38;5;241m.\u001b[39mcopy()\n\u001b[0;32m    541\u001b[0m     refs \u001b[38;5;241m=\u001b[39m \u001b[38;5;28;01mNone\u001b[39;00m\n\u001b[0;32m    542\u001b[0m \u001b[38;5;28;01melse\u001b[39;00m:\n",
      "\u001b[1;31mMemoryError\u001b[0m: Unable to allocate 9.51 GiB for an array with shape (61, 20930173) and data type int64"
     ]
    }
   ],
   "source": [
    "# res_trf = pipeline.fit_transform(res)  # look for error here!!!!  \n",
    "# res_trf = pipeline.fit(res.drop('flag', axis=1), res['flag'] )  # look for error here!!!!  \n",
    "# answers = pd.read_csv('train_target.csv')\n",
    "# res_trf = pipeline.fit(res.drop('flag', axis=1), answers.loc[0:249999,]['flag'])  # look for error here!!!!  \n",
    "answers = pd.read_csv('train_target.csv')\n",
    "pipeline.fit(res.drop('flag', axis=1), answers[answers['id'].isin(res['id'].unique())]['flag'])  # look for error here!!!! "
   ]
  },
  {
   "cell_type": "markdown",
   "id": "bf35bfa7",
   "metadata": {},
   "source": [
    "# test"
   ]
  },
  {
   "cell_type": "code",
   "execution_count": 71,
   "id": "a160813a",
   "metadata": {
    "scrolled": true
   },
   "outputs": [
    {
     "name": "stdout",
     "output_type": "stream",
     "text": [
      "outstanding_loans_summ end\n",
      "outstanding_loans_summ_sq end\n",
      "loans_overdue_summ end\n",
      "loans_overdue_summ_sq end\n",
      "credit_limit end\n",
      "credit_costs end\n",
      "credit_costs_sq end\n",
      "max_overdue end\n",
      "general cs end\n",
      "credit status ended\n",
      "overdue ended\n",
      "cs length end\n",
      "ohe ended\n",
      "dropping end\n",
      "zero_imputer end\n"
     ]
    },
    {
     "data": {
      "application/vnd.jupyter.widget-view+json": {
       "model_id": "63ca0ef554b742ccb101ff178a76305d",
       "version_major": 2,
       "version_minor": 0
      },
      "text/plain": [
       "FloatProgress(value=0.0, layout=Layout(width='auto'), style=ProgressStyle(bar_color='black'))"
      ]
     },
     "metadata": {},
     "output_type": "display_data"
    },
    {
     "name": "stdout",
     "output_type": "stream",
     "text": [
      "custom agg end\n"
     ]
    },
    {
     "ename": "ValueError",
     "evalue": "feature_names mismatch: ['id', 'pre_since_opened_18_agg', 'pre_since_opened_6_agg', 'pre_since_opened_13_agg', 'pre_since_opened_4_agg', 'pre_since_opened_8_agg', 'pre_since_opened_0_agg', 'pre_since_opened_7_agg', 'pre_since_opened_19_agg', 'pre_since_opened_2_agg', 'pre_since_opened_10_agg', 'pre_since_opened_9_agg', 'pre_since_opened_17_agg', 'pre_since_opened_1_agg', 'pre_since_opened_11_agg', 'pre_since_opened_3_agg', 'pre_since_opened_5_agg', 'pre_since_opened_14_agg', 'pre_since_opened_15_agg', 'pre_since_opened_12_agg', 'pre_since_opened_16_agg', 'pre_since_confirmed_9_agg', 'pre_since_confirmed_6_agg', 'pre_since_confirmed_14_agg', 'pre_since_confirmed_3_agg', 'pre_since_confirmed_17_agg', 'pre_since_confirmed_4_agg', 'pre_since_confirmed_8_agg', 'pre_since_confirmed_7_agg', 'pre_since_confirmed_13_agg', 'pre_since_confirmed_10_agg', 'pre_since_confirmed_0_agg', 'pre_since_confirmed_12_agg', 'pre_since_confirmed_2_agg', 'pre_since_confirmed_1_agg', 'pre_since_confirmed_16_agg', 'pre_since_confirmed_5_agg', 'pre_since_confirmed_11_agg', 'pre_since_confirmed_15_agg', 'pre_loans_outstanding_3_agg', 'pre_loans_outstanding_2_agg', 'pre_loans_outstanding_4_agg', 'pre_loans_outstanding_5_agg', 'pre_loans_outstanding_1_agg', 'pre_loans_total_overdue_0_agg', 'pre_loans_max_overdue_sum_2_agg', 'pre_loans_max_overdue_sum_3_agg', 'pre_loans_max_overdue_sum_1_agg', 'pre_loans_credit_cost_rate_4_agg', 'pre_loans_credit_cost_rate_2_agg', 'pre_loans_credit_cost_rate_5_agg', 'pre_loans_credit_cost_rate_3_agg', 'pre_loans_credit_cost_rate_9_agg', 'pre_loans_credit_cost_rate_7_agg', 'pre_loans_credit_cost_rate_1_agg', 'pre_loans_credit_cost_rate_0_agg', 'pre_loans_credit_cost_rate_13_agg', 'pre_loans_credit_cost_rate_11_agg', 'pre_loans_credit_cost_rate_8_agg', 'pre_loans_credit_cost_rate_6_agg', 'pre_loans_credit_cost_rate_10_agg', 'pre_loans_credit_cost_rate_12_agg', 'pre_loans5_6_agg', 'pre_loans5_0_agg', 'pre_loans5_3_agg', 'pre_loans5_5_agg', 'pre_loans5_2_agg', 'pre_loans5_16_agg', 'pre_loans5_13_agg', 'pre_loans5_7_agg', 'pre_loans530_16_agg', 'pre_loans530_13_agg', 'pre_loans530_0_agg', 'pre_loans530_18_agg', 'pre_loans530_6_agg', 'pre_loans530_3_agg', 'pre_loans530_2_agg', 'pre_loans530_12_agg', 'pre_loans530_15_agg', 'pre_loans530_4_agg', 'pre_loans530_14_agg', 'pre_loans530_1_agg', 'pre_loans530_10_agg', 'pre_loans530_7_agg', 'pre_loans530_11_agg', 'pre_loans3060_5_agg', 'pre_loans3060_8_agg', 'pre_loans3060_2_agg', 'pre_loans3060_7_agg', 'pre_loans3060_9_agg', 'pre_loans6090_4_agg', 'pre_loans6090_1_agg', 'pre_loans6090_2_agg', 'pre_loans90_8_agg', 'pre_loans90_14_agg', 'pre_loans90_13_agg', 'pre_loans90_19_agg', 'pre_util_16_agg', 'pre_util_9_agg', 'pre_util_3_agg', 'pre_util_18_agg', 'pre_util_6_agg', 'pre_util_11_agg', 'pre_util_15_agg', 'pre_util_1_agg', 'pre_util_7_agg', 'pre_util_10_agg', 'pre_util_12_agg', 'pre_util_0_agg', 'pre_util_4_agg', 'pre_util_19_agg', 'pre_util_8_agg', 'pre_util_13_agg', 'pre_util_2_agg', 'pre_util_5_agg', 'pre_util_17_agg', 'pre_util_14_agg', 'pre_over2limit_2_agg', 'pre_over2limit_5_agg', 'pre_over2limit_17_agg', 'pre_over2limit_15_agg', 'pre_over2limit_6_agg', 'pre_over2limit_8_agg', 'pre_over2limit_14_agg', 'pre_over2limit_4_agg', 'pre_over2limit_13_agg', 'pre_over2limit_10_agg', 'pre_over2limit_1_agg', 'pre_over2limit_3_agg', 'pre_over2limit_11_agg', 'pre_over2limit_19_agg', 'pre_over2limit_16_agg', 'pre_over2limit_18_agg', 'pre_over2limit_7_agg', 'pre_over2limit_12_agg', 'pre_over2limit_0_agg', 'pre_over2limit_9_agg', 'pre_maxover2limit_17_agg', 'pre_maxover2limit_4_agg', 'pre_maxover2limit_3_agg', 'pre_maxover2limit_0_agg', 'pre_maxover2limit_11_agg', 'pre_maxover2limit_5_agg', 'pre_maxover2limit_15_agg', 'pre_maxover2limit_9_agg', 'pre_maxover2limit_8_agg', 'pre_maxover2limit_14_agg', 'pre_maxover2limit_12_agg', 'pre_maxover2limit_16_agg', 'pre_maxover2limit_2_agg', 'pre_maxover2limit_10_agg', 'pre_maxover2limit_7_agg', 'pre_maxover2limit_19_agg', 'pre_maxover2limit_1_agg', 'pre_maxover2limit_13_agg', 'pre_maxover2limit_18_agg', 'pre_maxover2limit_6_agg', 'is_zero_util_1_agg', 'is_zero_util_0_agg', 'is_zero_over2limit_1_agg', 'is_zero_over2limit_0_agg', 'is_zero_maxover2limit_1_agg', 'is_zero_maxover2limit_0_agg', 'enc_loans_account_holder_type_1_agg', 'enc_loans_account_holder_type_3_agg', 'enc_loans_account_holder_type_4_agg', 'enc_loans_account_holder_type_6_agg', 'enc_loans_account_holder_type_2_agg', 'enc_loans_account_holder_type_5_agg', 'enc_loans_account_holder_type_0_agg', 'enc_loans_credit_status_3_agg', 'enc_loans_credit_status_2_agg', 'enc_loans_credit_status_4_agg', 'enc_loans_credit_status_5_agg', 'enc_loans_credit_status_1_agg', 'enc_loans_credit_status_0_agg', 'enc_loans_credit_status_6_agg', 'enc_loans_credit_type_4_agg', 'enc_loans_credit_type_3_agg', 'enc_loans_credit_type_1_agg', 'enc_loans_credit_type_5_agg', 'enc_loans_credit_type_2_agg', 'enc_loans_credit_type_0_agg', 'enc_loans_account_cur_1_agg', 'enc_loans_account_cur_2_agg', 'enc_loans_account_cur_0_agg', 'enc_loans_account_cur_3_agg', 'pclose_flag_0_agg', 'pclose_flag_1_agg', 'fclose_flag_0_agg', 'fclose_flag_1_agg', 'rn', 'pre_since_opened', 'pre_since_confirmed', 'pre_pterm', 'pre_fterm', 'pre_till_pclose', 'pre_till_fclose', 'pre_loans_credit_limit', 'pre_loans_next_pay_summ', 'pre_loans_outstanding', 'pre_loans_total_overdue', 'pre_loans_max_overdue_sum', 'pre_loans_credit_cost_rate', 'pre_loans5', 'pre_loans530', 'pre_loans3060', 'pre_loans6090', 'pre_loans90', 'is_zero_loans5', 'is_zero_loans530', 'is_zero_loans3060', 'is_zero_loans6090', 'is_zero_loans90', 'pre_util', 'pre_over2limit', 'pre_maxover2limit', 'is_zero_util', 'is_zero_over2limit', 'is_zero_maxover2limit', 'enc_loans_account_holder_type', 'enc_loans_credit_status', 'enc_loans_credit_type', 'enc_loans_account_cur', 'pclose_flag', 'fclose_flag', 'outstanding_loans_summ', 'outstanding_loans_summ_sq', 'loans_overdue_summ', 'loans_overdue_summ_sq', 'credit_limit', 'credit_costs', 'credit_costs_sq', 'max_overdue', 'credit_status_general_mean', 'credit_status_prevalent_atm', 'closed_faster_than_expected', 'overdue_severity', 'prone_to_overdue', 'prone_to_close_faster', 'credit_line_length', 'pre_loans_outstanding_1', 'pre_loans_outstanding_2', 'pre_loans_outstanding_3', 'pre_loans_outstanding_4', 'pre_loans_outstanding_5', 'pre_loans_max_overdue_sum_1', 'pre_loans_max_overdue_sum_2', 'pre_loans_max_overdue_sum_3', 'enc_loans_account_holder_type_0', 'enc_loans_account_holder_type_1', 'enc_loans_account_holder_type_2', 'enc_loans_account_holder_type_3', 'enc_loans_account_holder_type_4', 'enc_loans_account_holder_type_5', 'enc_loans_account_holder_type_6', 'enc_loans_account_cur_0', 'enc_loans_account_cur_1', 'enc_loans_account_cur_2', 'enc_loans_account_cur_3', 'enc_loans_credit_status_0', 'enc_loans_credit_status_1', 'enc_loans_credit_status_2', 'enc_loans_credit_status_3', 'enc_loans_credit_status_4', 'enc_loans_credit_status_5', 'enc_loans_credit_status_6', 'enc_loans_credit_type_0', 'enc_loans_credit_type_1', 'enc_loans_credit_type_2', 'enc_loans_credit_type_3', 'enc_loans_credit_type_4', 'enc_loans_credit_type_5'] ['id', 'pre_since_opened_18_agg', 'pre_since_opened_6_agg', 'pre_since_opened_13_agg', 'pre_since_opened_4_agg', 'pre_since_opened_8_agg', 'pre_since_opened_0_agg', 'pre_since_opened_7_agg', 'pre_since_opened_19_agg', 'pre_since_opened_10_agg', 'pre_since_opened_2_agg', 'pre_since_opened_9_agg', 'pre_since_opened_17_agg', 'pre_since_opened_1_agg', 'pre_since_opened_11_agg', 'pre_since_opened_3_agg', 'pre_since_opened_5_agg', 'pre_since_opened_14_agg', 'pre_since_opened_15_agg', 'pre_since_opened_12_agg', 'pre_since_opened_16_agg', 'pre_since_confirmed_9_agg', 'pre_since_confirmed_6_agg', 'pre_since_confirmed_14_agg', 'pre_since_confirmed_3_agg', 'pre_since_confirmed_17_agg', 'pre_since_confirmed_4_agg', 'pre_since_confirmed_8_agg', 'pre_since_confirmed_7_agg', 'pre_since_confirmed_13_agg', 'pre_since_confirmed_10_agg', 'pre_since_confirmed_0_agg', 'pre_since_confirmed_12_agg', 'pre_since_confirmed_2_agg', 'pre_since_confirmed_1_agg', 'pre_since_confirmed_16_agg', 'pre_since_confirmed_5_agg', 'pre_since_confirmed_11_agg', 'pre_since_confirmed_15_agg', 'pre_loans_outstanding_3_agg', 'pre_loans_outstanding_4_agg', 'pre_loans_outstanding_2_agg', 'pre_loans_outstanding_5_agg', 'pre_loans_outstanding_1_agg', 'pre_loans_total_overdue_0_agg', 'pre_loans_max_overdue_sum_2_agg', 'pre_loans_max_overdue_sum_3_agg', 'pre_loans_max_overdue_sum_1_agg', 'pre_loans_credit_cost_rate_4_agg', 'pre_loans_credit_cost_rate_2_agg', 'pre_loans_credit_cost_rate_5_agg', 'pre_loans_credit_cost_rate_3_agg', 'pre_loans_credit_cost_rate_9_agg', 'pre_loans_credit_cost_rate_7_agg', 'pre_loans_credit_cost_rate_1_agg', 'pre_loans_credit_cost_rate_0_agg', 'pre_loans_credit_cost_rate_13_agg', 'pre_loans_credit_cost_rate_11_agg', 'pre_loans_credit_cost_rate_8_agg', 'pre_loans_credit_cost_rate_10_agg', 'pre_loans_credit_cost_rate_6_agg', 'pre_loans_credit_cost_rate_12_agg', 'pre_loans5_6_agg', 'pre_loans5_0_agg', 'pre_loans5_3_agg', 'pre_loans5_5_agg', 'pre_loans5_2_agg', 'pre_loans5_16_agg', 'pre_loans5_13_agg', 'pre_loans530_16_agg', 'pre_loans530_13_agg', 'pre_loans530_0_agg', 'pre_loans530_18_agg', 'pre_loans530_6_agg', 'pre_loans530_3_agg', 'pre_loans530_2_agg', 'pre_loans530_12_agg', 'pre_loans530_4_agg', 'pre_loans530_15_agg', 'pre_loans530_14_agg', 'pre_loans530_10_agg', 'pre_loans530_11_agg', 'pre_loans3060_5_agg', 'pre_loans3060_8_agg', 'pre_loans3060_2_agg', 'pre_loans3060_7_agg', 'pre_loans6090_4_agg', 'pre_loans6090_1_agg', 'pre_loans90_8_agg', 'pre_loans90_14_agg', 'pre_loans90_13_agg', 'pre_loans90_19_agg', 'pre_util_16_agg', 'pre_util_9_agg', 'pre_util_3_agg', 'pre_util_18_agg', 'pre_util_6_agg', 'pre_util_11_agg', 'pre_util_15_agg', 'pre_util_1_agg', 'pre_util_7_agg', 'pre_util_10_agg', 'pre_util_12_agg', 'pre_util_4_agg', 'pre_util_0_agg', 'pre_util_8_agg', 'pre_util_19_agg', 'pre_util_13_agg', 'pre_util_5_agg', 'pre_util_2_agg', 'pre_util_17_agg', 'pre_util_14_agg', 'pre_over2limit_2_agg', 'pre_over2limit_5_agg', 'pre_over2limit_17_agg', 'pre_over2limit_15_agg', 'pre_over2limit_6_agg', 'pre_over2limit_8_agg', 'pre_over2limit_14_agg', 'pre_over2limit_3_agg', 'pre_over2limit_16_agg', 'pre_over2limit_10_agg', 'pre_over2limit_11_agg', 'pre_over2limit_0_agg', 'pre_over2limit_18_agg', 'pre_over2limit_4_agg', 'pre_over2limit_9_agg', 'pre_over2limit_12_agg', 'pre_over2limit_19_agg', 'pre_over2limit_7_agg', 'pre_over2limit_1_agg', 'pre_over2limit_13_agg', 'pre_maxover2limit_17_agg', 'pre_maxover2limit_4_agg', 'pre_maxover2limit_3_agg', 'pre_maxover2limit_0_agg', 'pre_maxover2limit_11_agg', 'pre_maxover2limit_5_agg', 'pre_maxover2limit_15_agg', 'pre_maxover2limit_9_agg', 'pre_maxover2limit_8_agg', 'pre_maxover2limit_12_agg', 'pre_maxover2limit_14_agg', 'pre_maxover2limit_10_agg', 'pre_maxover2limit_16_agg', 'pre_maxover2limit_1_agg', 'pre_maxover2limit_2_agg', 'pre_maxover2limit_7_agg', 'pre_maxover2limit_19_agg', 'pre_maxover2limit_13_agg', 'pre_maxover2limit_18_agg', 'pre_maxover2limit_6_agg', 'is_zero_util_1_agg', 'is_zero_util_0_agg', 'is_zero_over2limit_1_agg', 'is_zero_over2limit_0_agg', 'is_zero_maxover2limit_1_agg', 'is_zero_maxover2limit_0_agg', 'enc_loans_account_holder_type_1_agg', 'enc_loans_account_holder_type_3_agg', 'enc_loans_account_holder_type_4_agg', 'enc_loans_account_holder_type_6_agg', 'enc_loans_account_holder_type_2_agg', 'enc_loans_account_holder_type_5_agg', 'enc_loans_account_holder_type_0_agg', 'enc_loans_credit_status_3_agg', 'enc_loans_credit_status_2_agg', 'enc_loans_credit_status_4_agg', 'enc_loans_credit_status_5_agg', 'enc_loans_credit_status_1_agg', 'enc_loans_credit_status_0_agg', 'enc_loans_credit_status_6_agg', 'enc_loans_credit_type_4_agg', 'enc_loans_credit_type_3_agg', 'enc_loans_credit_type_1_agg', 'enc_loans_credit_type_5_agg', 'enc_loans_credit_type_2_agg', 'enc_loans_credit_type_0_agg', 'enc_loans_account_cur_1_agg', 'enc_loans_account_cur_2_agg', 'enc_loans_account_cur_0_agg', 'enc_loans_account_cur_3_agg', 'pclose_flag_0_agg', 'pclose_flag_1_agg', 'fclose_flag_0_agg', 'fclose_flag_1_agg', 'rn', 'pre_since_opened', 'pre_since_confirmed', 'pre_pterm', 'pre_fterm', 'pre_till_pclose', 'pre_till_fclose', 'pre_loans_credit_limit', 'pre_loans_next_pay_summ', 'pre_loans_outstanding', 'pre_loans_total_overdue', 'pre_loans_max_overdue_sum', 'pre_loans_credit_cost_rate', 'pre_loans5', 'pre_loans530', 'pre_loans3060', 'pre_loans6090', 'pre_loans90', 'is_zero_loans5', 'is_zero_loans530', 'is_zero_loans3060', 'is_zero_loans6090', 'is_zero_loans90', 'pre_util', 'pre_over2limit', 'pre_maxover2limit', 'is_zero_util', 'is_zero_over2limit', 'is_zero_maxover2limit', 'enc_loans_account_holder_type', 'enc_loans_credit_status', 'enc_loans_credit_type', 'enc_loans_account_cur', 'pclose_flag', 'fclose_flag', 'outstanding_loans_summ', 'outstanding_loans_summ_sq', 'loans_overdue_summ', 'loans_overdue_summ_sq', 'credit_limit', 'credit_costs', 'credit_costs_sq', 'max_overdue', 'credit_status_general_mean', 'credit_status_prevalent_atm', 'closed_faster_than_expected', 'overdue_severity', 'prone_to_overdue', 'prone_to_close_faster', 'credit_line_length', 'pre_loans_outstanding_1', 'pre_loans_outstanding_2', 'pre_loans_outstanding_3', 'pre_loans_outstanding_4', 'pre_loans_outstanding_5', 'pre_loans_max_overdue_sum_1', 'pre_loans_max_overdue_sum_2', 'pre_loans_max_overdue_sum_3', 'enc_loans_account_holder_type_0', 'enc_loans_account_holder_type_1', 'enc_loans_account_holder_type_2', 'enc_loans_account_holder_type_3', 'enc_loans_account_holder_type_4', 'enc_loans_account_holder_type_5', 'enc_loans_account_holder_type_6', 'enc_loans_account_cur_0', 'enc_loans_account_cur_1', 'enc_loans_account_cur_2', 'enc_loans_account_cur_3', 'enc_loans_credit_status_0', 'enc_loans_credit_status_1', 'enc_loans_credit_status_2', 'enc_loans_credit_status_3', 'enc_loans_credit_status_4', 'enc_loans_credit_status_5', 'enc_loans_credit_status_6', 'enc_loans_credit_type_0', 'enc_loans_credit_type_1', 'enc_loans_credit_type_2', 'enc_loans_credit_type_3', 'enc_loans_credit_type_4', 'enc_loans_credit_type_5']\nexpected pre_loans5_7_agg, pre_loans530_7_agg, pre_loans6090_2_agg, pre_loans530_1_agg, pre_loans3060_9_agg in input data",
     "output_type": "error",
     "traceback": [
      "\u001b[1;31m---------------------------------------------------------------------------\u001b[0m",
      "\u001b[1;31mValueError\u001b[0m                                Traceback (most recent call last)",
      "Cell \u001b[1;32mIn[71], line 1\u001b[0m\n\u001b[1;32m----> 1\u001b[0m tst \u001b[38;5;241m=\u001b[39m pipeline\u001b[38;5;241m.\u001b[39mpredict_proba(res_test\u001b[38;5;241m.\u001b[39mdrop(\u001b[38;5;124m'\u001b[39m\u001b[38;5;124mflag\u001b[39m\u001b[38;5;124m'\u001b[39m, axis\u001b[38;5;241m=\u001b[39m\u001b[38;5;241m1\u001b[39m))[:, \u001b[38;5;241m1\u001b[39m]\n",
      "File \u001b[1;32m~\\AppData\\Roaming\\Python\\Python311\\site-packages\\sklearn\\pipeline.py:547\u001b[0m, in \u001b[0;36mPipeline.predict_proba\u001b[1;34m(self, X, **predict_proba_params)\u001b[0m\n\u001b[0;32m    545\u001b[0m \u001b[38;5;28;01mfor\u001b[39;00m _, name, transform \u001b[38;5;129;01min\u001b[39;00m \u001b[38;5;28mself\u001b[39m\u001b[38;5;241m.\u001b[39m_iter(with_final\u001b[38;5;241m=\u001b[39m\u001b[38;5;28;01mFalse\u001b[39;00m):\n\u001b[0;32m    546\u001b[0m     Xt \u001b[38;5;241m=\u001b[39m transform\u001b[38;5;241m.\u001b[39mtransform(Xt)\n\u001b[1;32m--> 547\u001b[0m \u001b[38;5;28;01mreturn\u001b[39;00m \u001b[38;5;28mself\u001b[39m\u001b[38;5;241m.\u001b[39msteps[\u001b[38;5;241m-\u001b[39m\u001b[38;5;241m1\u001b[39m][\u001b[38;5;241m1\u001b[39m]\u001b[38;5;241m.\u001b[39mpredict_proba(Xt, \u001b[38;5;241m*\u001b[39m\u001b[38;5;241m*\u001b[39mpredict_proba_params)\n",
      "File \u001b[1;32m~\\AppData\\Roaming\\Python\\Python311\\site-packages\\xgboost\\sklearn.py:1632\u001b[0m, in \u001b[0;36mXGBClassifier.predict_proba\u001b[1;34m(self, X, validate_features, base_margin, iteration_range)\u001b[0m\n\u001b[0;32m   1630\u001b[0m     class_prob \u001b[38;5;241m=\u001b[39m softmax(raw_predt, axis\u001b[38;5;241m=\u001b[39m\u001b[38;5;241m1\u001b[39m)\n\u001b[0;32m   1631\u001b[0m     \u001b[38;5;28;01mreturn\u001b[39;00m class_prob\n\u001b[1;32m-> 1632\u001b[0m class_probs \u001b[38;5;241m=\u001b[39m \u001b[38;5;28msuper\u001b[39m()\u001b[38;5;241m.\u001b[39mpredict(\n\u001b[0;32m   1633\u001b[0m     X\u001b[38;5;241m=\u001b[39mX,\n\u001b[0;32m   1634\u001b[0m     validate_features\u001b[38;5;241m=\u001b[39mvalidate_features,\n\u001b[0;32m   1635\u001b[0m     base_margin\u001b[38;5;241m=\u001b[39mbase_margin,\n\u001b[0;32m   1636\u001b[0m     iteration_range\u001b[38;5;241m=\u001b[39miteration_range,\n\u001b[0;32m   1637\u001b[0m )\n\u001b[0;32m   1638\u001b[0m \u001b[38;5;28;01mreturn\u001b[39;00m _cls_predict_proba(\u001b[38;5;28mself\u001b[39m\u001b[38;5;241m.\u001b[39mn_classes_, class_probs, np\u001b[38;5;241m.\u001b[39mvstack)\n",
      "File \u001b[1;32m~\\AppData\\Roaming\\Python\\Python311\\site-packages\\xgboost\\sklearn.py:1168\u001b[0m, in \u001b[0;36mXGBModel.predict\u001b[1;34m(self, X, output_margin, validate_features, base_margin, iteration_range)\u001b[0m\n\u001b[0;32m   1166\u001b[0m \u001b[38;5;28;01mif\u001b[39;00m \u001b[38;5;28mself\u001b[39m\u001b[38;5;241m.\u001b[39m_can_use_inplace_predict():\n\u001b[0;32m   1167\u001b[0m     \u001b[38;5;28;01mtry\u001b[39;00m:\n\u001b[1;32m-> 1168\u001b[0m         predts \u001b[38;5;241m=\u001b[39m \u001b[38;5;28mself\u001b[39m\u001b[38;5;241m.\u001b[39mget_booster()\u001b[38;5;241m.\u001b[39minplace_predict(\n\u001b[0;32m   1169\u001b[0m             data\u001b[38;5;241m=\u001b[39mX,\n\u001b[0;32m   1170\u001b[0m             iteration_range\u001b[38;5;241m=\u001b[39miteration_range,\n\u001b[0;32m   1171\u001b[0m             predict_type\u001b[38;5;241m=\u001b[39m\u001b[38;5;124m\"\u001b[39m\u001b[38;5;124mmargin\u001b[39m\u001b[38;5;124m\"\u001b[39m \u001b[38;5;28;01mif\u001b[39;00m output_margin \u001b[38;5;28;01melse\u001b[39;00m \u001b[38;5;124m\"\u001b[39m\u001b[38;5;124mvalue\u001b[39m\u001b[38;5;124m\"\u001b[39m,\n\u001b[0;32m   1172\u001b[0m             missing\u001b[38;5;241m=\u001b[39m\u001b[38;5;28mself\u001b[39m\u001b[38;5;241m.\u001b[39mmissing,\n\u001b[0;32m   1173\u001b[0m             base_margin\u001b[38;5;241m=\u001b[39mbase_margin,\n\u001b[0;32m   1174\u001b[0m             validate_features\u001b[38;5;241m=\u001b[39mvalidate_features,\n\u001b[0;32m   1175\u001b[0m         )\n\u001b[0;32m   1176\u001b[0m         \u001b[38;5;28;01mif\u001b[39;00m _is_cupy_array(predts):\n\u001b[0;32m   1177\u001b[0m             \u001b[38;5;28;01mimport\u001b[39;00m \u001b[38;5;21;01mcupy\u001b[39;00m  \u001b[38;5;66;03m# pylint: disable=import-error\u001b[39;00m\n",
      "File \u001b[1;32m~\\AppData\\Roaming\\Python\\Python311\\site-packages\\xgboost\\core.py:2418\u001b[0m, in \u001b[0;36mBooster.inplace_predict\u001b[1;34m(self, data, iteration_range, predict_type, missing, validate_features, base_margin, strict_shape)\u001b[0m\n\u001b[0;32m   2416\u001b[0m     data, fns, _ \u001b[38;5;241m=\u001b[39m _transform_pandas_df(data, enable_categorical)\n\u001b[0;32m   2417\u001b[0m     \u001b[38;5;28;01mif\u001b[39;00m validate_features:\n\u001b[1;32m-> 2418\u001b[0m         \u001b[38;5;28mself\u001b[39m\u001b[38;5;241m.\u001b[39m_validate_features(fns)\n\u001b[0;32m   2419\u001b[0m \u001b[38;5;28;01mif\u001b[39;00m _is_list(data) \u001b[38;5;129;01mor\u001b[39;00m _is_tuple(data):\n\u001b[0;32m   2420\u001b[0m     data \u001b[38;5;241m=\u001b[39m np\u001b[38;5;241m.\u001b[39marray(data)\n",
      "File \u001b[1;32m~\\AppData\\Roaming\\Python\\Python311\\site-packages\\xgboost\\core.py:2970\u001b[0m, in \u001b[0;36mBooster._validate_features\u001b[1;34m(self, feature_names)\u001b[0m\n\u001b[0;32m   2964\u001b[0m \u001b[38;5;28;01mif\u001b[39;00m my_missing:\n\u001b[0;32m   2965\u001b[0m     msg \u001b[38;5;241m+\u001b[39m\u001b[38;5;241m=\u001b[39m (\n\u001b[0;32m   2966\u001b[0m         \u001b[38;5;124m\"\u001b[39m\u001b[38;5;130;01m\\n\u001b[39;00m\u001b[38;5;124mtraining data did not have the following fields: \u001b[39m\u001b[38;5;124m\"\u001b[39m\n\u001b[0;32m   2967\u001b[0m         \u001b[38;5;241m+\u001b[39m \u001b[38;5;124m\"\u001b[39m\u001b[38;5;124m, \u001b[39m\u001b[38;5;124m\"\u001b[39m\u001b[38;5;241m.\u001b[39mjoin(\u001b[38;5;28mstr\u001b[39m(s) \u001b[38;5;28;01mfor\u001b[39;00m s \u001b[38;5;129;01min\u001b[39;00m my_missing)\n\u001b[0;32m   2968\u001b[0m     )\n\u001b[1;32m-> 2970\u001b[0m \u001b[38;5;28;01mraise\u001b[39;00m \u001b[38;5;167;01mValueError\u001b[39;00m(msg\u001b[38;5;241m.\u001b[39mformat(\u001b[38;5;28mself\u001b[39m\u001b[38;5;241m.\u001b[39mfeature_names, feature_names))\n",
      "\u001b[1;31mValueError\u001b[0m: feature_names mismatch: ['id', 'pre_since_opened_18_agg', 'pre_since_opened_6_agg', 'pre_since_opened_13_agg', 'pre_since_opened_4_agg', 'pre_since_opened_8_agg', 'pre_since_opened_0_agg', 'pre_since_opened_7_agg', 'pre_since_opened_19_agg', 'pre_since_opened_2_agg', 'pre_since_opened_10_agg', 'pre_since_opened_9_agg', 'pre_since_opened_17_agg', 'pre_since_opened_1_agg', 'pre_since_opened_11_agg', 'pre_since_opened_3_agg', 'pre_since_opened_5_agg', 'pre_since_opened_14_agg', 'pre_since_opened_15_agg', 'pre_since_opened_12_agg', 'pre_since_opened_16_agg', 'pre_since_confirmed_9_agg', 'pre_since_confirmed_6_agg', 'pre_since_confirmed_14_agg', 'pre_since_confirmed_3_agg', 'pre_since_confirmed_17_agg', 'pre_since_confirmed_4_agg', 'pre_since_confirmed_8_agg', 'pre_since_confirmed_7_agg', 'pre_since_confirmed_13_agg', 'pre_since_confirmed_10_agg', 'pre_since_confirmed_0_agg', 'pre_since_confirmed_12_agg', 'pre_since_confirmed_2_agg', 'pre_since_confirmed_1_agg', 'pre_since_confirmed_16_agg', 'pre_since_confirmed_5_agg', 'pre_since_confirmed_11_agg', 'pre_since_confirmed_15_agg', 'pre_loans_outstanding_3_agg', 'pre_loans_outstanding_2_agg', 'pre_loans_outstanding_4_agg', 'pre_loans_outstanding_5_agg', 'pre_loans_outstanding_1_agg', 'pre_loans_total_overdue_0_agg', 'pre_loans_max_overdue_sum_2_agg', 'pre_loans_max_overdue_sum_3_agg', 'pre_loans_max_overdue_sum_1_agg', 'pre_loans_credit_cost_rate_4_agg', 'pre_loans_credit_cost_rate_2_agg', 'pre_loans_credit_cost_rate_5_agg', 'pre_loans_credit_cost_rate_3_agg', 'pre_loans_credit_cost_rate_9_agg', 'pre_loans_credit_cost_rate_7_agg', 'pre_loans_credit_cost_rate_1_agg', 'pre_loans_credit_cost_rate_0_agg', 'pre_loans_credit_cost_rate_13_agg', 'pre_loans_credit_cost_rate_11_agg', 'pre_loans_credit_cost_rate_8_agg', 'pre_loans_credit_cost_rate_6_agg', 'pre_loans_credit_cost_rate_10_agg', 'pre_loans_credit_cost_rate_12_agg', 'pre_loans5_6_agg', 'pre_loans5_0_agg', 'pre_loans5_3_agg', 'pre_loans5_5_agg', 'pre_loans5_2_agg', 'pre_loans5_16_agg', 'pre_loans5_13_agg', 'pre_loans5_7_agg', 'pre_loans530_16_agg', 'pre_loans530_13_agg', 'pre_loans530_0_agg', 'pre_loans530_18_agg', 'pre_loans530_6_agg', 'pre_loans530_3_agg', 'pre_loans530_2_agg', 'pre_loans530_12_agg', 'pre_loans530_15_agg', 'pre_loans530_4_agg', 'pre_loans530_14_agg', 'pre_loans530_1_agg', 'pre_loans530_10_agg', 'pre_loans530_7_agg', 'pre_loans530_11_agg', 'pre_loans3060_5_agg', 'pre_loans3060_8_agg', 'pre_loans3060_2_agg', 'pre_loans3060_7_agg', 'pre_loans3060_9_agg', 'pre_loans6090_4_agg', 'pre_loans6090_1_agg', 'pre_loans6090_2_agg', 'pre_loans90_8_agg', 'pre_loans90_14_agg', 'pre_loans90_13_agg', 'pre_loans90_19_agg', 'pre_util_16_agg', 'pre_util_9_agg', 'pre_util_3_agg', 'pre_util_18_agg', 'pre_util_6_agg', 'pre_util_11_agg', 'pre_util_15_agg', 'pre_util_1_agg', 'pre_util_7_agg', 'pre_util_10_agg', 'pre_util_12_agg', 'pre_util_0_agg', 'pre_util_4_agg', 'pre_util_19_agg', 'pre_util_8_agg', 'pre_util_13_agg', 'pre_util_2_agg', 'pre_util_5_agg', 'pre_util_17_agg', 'pre_util_14_agg', 'pre_over2limit_2_agg', 'pre_over2limit_5_agg', 'pre_over2limit_17_agg', 'pre_over2limit_15_agg', 'pre_over2limit_6_agg', 'pre_over2limit_8_agg', 'pre_over2limit_14_agg', 'pre_over2limit_4_agg', 'pre_over2limit_13_agg', 'pre_over2limit_10_agg', 'pre_over2limit_1_agg', 'pre_over2limit_3_agg', 'pre_over2limit_11_agg', 'pre_over2limit_19_agg', 'pre_over2limit_16_agg', 'pre_over2limit_18_agg', 'pre_over2limit_7_agg', 'pre_over2limit_12_agg', 'pre_over2limit_0_agg', 'pre_over2limit_9_agg', 'pre_maxover2limit_17_agg', 'pre_maxover2limit_4_agg', 'pre_maxover2limit_3_agg', 'pre_maxover2limit_0_agg', 'pre_maxover2limit_11_agg', 'pre_maxover2limit_5_agg', 'pre_maxover2limit_15_agg', 'pre_maxover2limit_9_agg', 'pre_maxover2limit_8_agg', 'pre_maxover2limit_14_agg', 'pre_maxover2limit_12_agg', 'pre_maxover2limit_16_agg', 'pre_maxover2limit_2_agg', 'pre_maxover2limit_10_agg', 'pre_maxover2limit_7_agg', 'pre_maxover2limit_19_agg', 'pre_maxover2limit_1_agg', 'pre_maxover2limit_13_agg', 'pre_maxover2limit_18_agg', 'pre_maxover2limit_6_agg', 'is_zero_util_1_agg', 'is_zero_util_0_agg', 'is_zero_over2limit_1_agg', 'is_zero_over2limit_0_agg', 'is_zero_maxover2limit_1_agg', 'is_zero_maxover2limit_0_agg', 'enc_loans_account_holder_type_1_agg', 'enc_loans_account_holder_type_3_agg', 'enc_loans_account_holder_type_4_agg', 'enc_loans_account_holder_type_6_agg', 'enc_loans_account_holder_type_2_agg', 'enc_loans_account_holder_type_5_agg', 'enc_loans_account_holder_type_0_agg', 'enc_loans_credit_status_3_agg', 'enc_loans_credit_status_2_agg', 'enc_loans_credit_status_4_agg', 'enc_loans_credit_status_5_agg', 'enc_loans_credit_status_1_agg', 'enc_loans_credit_status_0_agg', 'enc_loans_credit_status_6_agg', 'enc_loans_credit_type_4_agg', 'enc_loans_credit_type_3_agg', 'enc_loans_credit_type_1_agg', 'enc_loans_credit_type_5_agg', 'enc_loans_credit_type_2_agg', 'enc_loans_credit_type_0_agg', 'enc_loans_account_cur_1_agg', 'enc_loans_account_cur_2_agg', 'enc_loans_account_cur_0_agg', 'enc_loans_account_cur_3_agg', 'pclose_flag_0_agg', 'pclose_flag_1_agg', 'fclose_flag_0_agg', 'fclose_flag_1_agg', 'rn', 'pre_since_opened', 'pre_since_confirmed', 'pre_pterm', 'pre_fterm', 'pre_till_pclose', 'pre_till_fclose', 'pre_loans_credit_limit', 'pre_loans_next_pay_summ', 'pre_loans_outstanding', 'pre_loans_total_overdue', 'pre_loans_max_overdue_sum', 'pre_loans_credit_cost_rate', 'pre_loans5', 'pre_loans530', 'pre_loans3060', 'pre_loans6090', 'pre_loans90', 'is_zero_loans5', 'is_zero_loans530', 'is_zero_loans3060', 'is_zero_loans6090', 'is_zero_loans90', 'pre_util', 'pre_over2limit', 'pre_maxover2limit', 'is_zero_util', 'is_zero_over2limit', 'is_zero_maxover2limit', 'enc_loans_account_holder_type', 'enc_loans_credit_status', 'enc_loans_credit_type', 'enc_loans_account_cur', 'pclose_flag', 'fclose_flag', 'outstanding_loans_summ', 'outstanding_loans_summ_sq', 'loans_overdue_summ', 'loans_overdue_summ_sq', 'credit_limit', 'credit_costs', 'credit_costs_sq', 'max_overdue', 'credit_status_general_mean', 'credit_status_prevalent_atm', 'closed_faster_than_expected', 'overdue_severity', 'prone_to_overdue', 'prone_to_close_faster', 'credit_line_length', 'pre_loans_outstanding_1', 'pre_loans_outstanding_2', 'pre_loans_outstanding_3', 'pre_loans_outstanding_4', 'pre_loans_outstanding_5', 'pre_loans_max_overdue_sum_1', 'pre_loans_max_overdue_sum_2', 'pre_loans_max_overdue_sum_3', 'enc_loans_account_holder_type_0', 'enc_loans_account_holder_type_1', 'enc_loans_account_holder_type_2', 'enc_loans_account_holder_type_3', 'enc_loans_account_holder_type_4', 'enc_loans_account_holder_type_5', 'enc_loans_account_holder_type_6', 'enc_loans_account_cur_0', 'enc_loans_account_cur_1', 'enc_loans_account_cur_2', 'enc_loans_account_cur_3', 'enc_loans_credit_status_0', 'enc_loans_credit_status_1', 'enc_loans_credit_status_2', 'enc_loans_credit_status_3', 'enc_loans_credit_status_4', 'enc_loans_credit_status_5', 'enc_loans_credit_status_6', 'enc_loans_credit_type_0', 'enc_loans_credit_type_1', 'enc_loans_credit_type_2', 'enc_loans_credit_type_3', 'enc_loans_credit_type_4', 'enc_loans_credit_type_5'] ['id', 'pre_since_opened_18_agg', 'pre_since_opened_6_agg', 'pre_since_opened_13_agg', 'pre_since_opened_4_agg', 'pre_since_opened_8_agg', 'pre_since_opened_0_agg', 'pre_since_opened_7_agg', 'pre_since_opened_19_agg', 'pre_since_opened_10_agg', 'pre_since_opened_2_agg', 'pre_since_opened_9_agg', 'pre_since_opened_17_agg', 'pre_since_opened_1_agg', 'pre_since_opened_11_agg', 'pre_since_opened_3_agg', 'pre_since_opened_5_agg', 'pre_since_opened_14_agg', 'pre_since_opened_15_agg', 'pre_since_opened_12_agg', 'pre_since_opened_16_agg', 'pre_since_confirmed_9_agg', 'pre_since_confirmed_6_agg', 'pre_since_confirmed_14_agg', 'pre_since_confirmed_3_agg', 'pre_since_confirmed_17_agg', 'pre_since_confirmed_4_agg', 'pre_since_confirmed_8_agg', 'pre_since_confirmed_7_agg', 'pre_since_confirmed_13_agg', 'pre_since_confirmed_10_agg', 'pre_since_confirmed_0_agg', 'pre_since_confirmed_12_agg', 'pre_since_confirmed_2_agg', 'pre_since_confirmed_1_agg', 'pre_since_confirmed_16_agg', 'pre_since_confirmed_5_agg', 'pre_since_confirmed_11_agg', 'pre_since_confirmed_15_agg', 'pre_loans_outstanding_3_agg', 'pre_loans_outstanding_4_agg', 'pre_loans_outstanding_2_agg', 'pre_loans_outstanding_5_agg', 'pre_loans_outstanding_1_agg', 'pre_loans_total_overdue_0_agg', 'pre_loans_max_overdue_sum_2_agg', 'pre_loans_max_overdue_sum_3_agg', 'pre_loans_max_overdue_sum_1_agg', 'pre_loans_credit_cost_rate_4_agg', 'pre_loans_credit_cost_rate_2_agg', 'pre_loans_credit_cost_rate_5_agg', 'pre_loans_credit_cost_rate_3_agg', 'pre_loans_credit_cost_rate_9_agg', 'pre_loans_credit_cost_rate_7_agg', 'pre_loans_credit_cost_rate_1_agg', 'pre_loans_credit_cost_rate_0_agg', 'pre_loans_credit_cost_rate_13_agg', 'pre_loans_credit_cost_rate_11_agg', 'pre_loans_credit_cost_rate_8_agg', 'pre_loans_credit_cost_rate_10_agg', 'pre_loans_credit_cost_rate_6_agg', 'pre_loans_credit_cost_rate_12_agg', 'pre_loans5_6_agg', 'pre_loans5_0_agg', 'pre_loans5_3_agg', 'pre_loans5_5_agg', 'pre_loans5_2_agg', 'pre_loans5_16_agg', 'pre_loans5_13_agg', 'pre_loans530_16_agg', 'pre_loans530_13_agg', 'pre_loans530_0_agg', 'pre_loans530_18_agg', 'pre_loans530_6_agg', 'pre_loans530_3_agg', 'pre_loans530_2_agg', 'pre_loans530_12_agg', 'pre_loans530_4_agg', 'pre_loans530_15_agg', 'pre_loans530_14_agg', 'pre_loans530_10_agg', 'pre_loans530_11_agg', 'pre_loans3060_5_agg', 'pre_loans3060_8_agg', 'pre_loans3060_2_agg', 'pre_loans3060_7_agg', 'pre_loans6090_4_agg', 'pre_loans6090_1_agg', 'pre_loans90_8_agg', 'pre_loans90_14_agg', 'pre_loans90_13_agg', 'pre_loans90_19_agg', 'pre_util_16_agg', 'pre_util_9_agg', 'pre_util_3_agg', 'pre_util_18_agg', 'pre_util_6_agg', 'pre_util_11_agg', 'pre_util_15_agg', 'pre_util_1_agg', 'pre_util_7_agg', 'pre_util_10_agg', 'pre_util_12_agg', 'pre_util_4_agg', 'pre_util_0_agg', 'pre_util_8_agg', 'pre_util_19_agg', 'pre_util_13_agg', 'pre_util_5_agg', 'pre_util_2_agg', 'pre_util_17_agg', 'pre_util_14_agg', 'pre_over2limit_2_agg', 'pre_over2limit_5_agg', 'pre_over2limit_17_agg', 'pre_over2limit_15_agg', 'pre_over2limit_6_agg', 'pre_over2limit_8_agg', 'pre_over2limit_14_agg', 'pre_over2limit_3_agg', 'pre_over2limit_16_agg', 'pre_over2limit_10_agg', 'pre_over2limit_11_agg', 'pre_over2limit_0_agg', 'pre_over2limit_18_agg', 'pre_over2limit_4_agg', 'pre_over2limit_9_agg', 'pre_over2limit_12_agg', 'pre_over2limit_19_agg', 'pre_over2limit_7_agg', 'pre_over2limit_1_agg', 'pre_over2limit_13_agg', 'pre_maxover2limit_17_agg', 'pre_maxover2limit_4_agg', 'pre_maxover2limit_3_agg', 'pre_maxover2limit_0_agg', 'pre_maxover2limit_11_agg', 'pre_maxover2limit_5_agg', 'pre_maxover2limit_15_agg', 'pre_maxover2limit_9_agg', 'pre_maxover2limit_8_agg', 'pre_maxover2limit_12_agg', 'pre_maxover2limit_14_agg', 'pre_maxover2limit_10_agg', 'pre_maxover2limit_16_agg', 'pre_maxover2limit_1_agg', 'pre_maxover2limit_2_agg', 'pre_maxover2limit_7_agg', 'pre_maxover2limit_19_agg', 'pre_maxover2limit_13_agg', 'pre_maxover2limit_18_agg', 'pre_maxover2limit_6_agg', 'is_zero_util_1_agg', 'is_zero_util_0_agg', 'is_zero_over2limit_1_agg', 'is_zero_over2limit_0_agg', 'is_zero_maxover2limit_1_agg', 'is_zero_maxover2limit_0_agg', 'enc_loans_account_holder_type_1_agg', 'enc_loans_account_holder_type_3_agg', 'enc_loans_account_holder_type_4_agg', 'enc_loans_account_holder_type_6_agg', 'enc_loans_account_holder_type_2_agg', 'enc_loans_account_holder_type_5_agg', 'enc_loans_account_holder_type_0_agg', 'enc_loans_credit_status_3_agg', 'enc_loans_credit_status_2_agg', 'enc_loans_credit_status_4_agg', 'enc_loans_credit_status_5_agg', 'enc_loans_credit_status_1_agg', 'enc_loans_credit_status_0_agg', 'enc_loans_credit_status_6_agg', 'enc_loans_credit_type_4_agg', 'enc_loans_credit_type_3_agg', 'enc_loans_credit_type_1_agg', 'enc_loans_credit_type_5_agg', 'enc_loans_credit_type_2_agg', 'enc_loans_credit_type_0_agg', 'enc_loans_account_cur_1_agg', 'enc_loans_account_cur_2_agg', 'enc_loans_account_cur_0_agg', 'enc_loans_account_cur_3_agg', 'pclose_flag_0_agg', 'pclose_flag_1_agg', 'fclose_flag_0_agg', 'fclose_flag_1_agg', 'rn', 'pre_since_opened', 'pre_since_confirmed', 'pre_pterm', 'pre_fterm', 'pre_till_pclose', 'pre_till_fclose', 'pre_loans_credit_limit', 'pre_loans_next_pay_summ', 'pre_loans_outstanding', 'pre_loans_total_overdue', 'pre_loans_max_overdue_sum', 'pre_loans_credit_cost_rate', 'pre_loans5', 'pre_loans530', 'pre_loans3060', 'pre_loans6090', 'pre_loans90', 'is_zero_loans5', 'is_zero_loans530', 'is_zero_loans3060', 'is_zero_loans6090', 'is_zero_loans90', 'pre_util', 'pre_over2limit', 'pre_maxover2limit', 'is_zero_util', 'is_zero_over2limit', 'is_zero_maxover2limit', 'enc_loans_account_holder_type', 'enc_loans_credit_status', 'enc_loans_credit_type', 'enc_loans_account_cur', 'pclose_flag', 'fclose_flag', 'outstanding_loans_summ', 'outstanding_loans_summ_sq', 'loans_overdue_summ', 'loans_overdue_summ_sq', 'credit_limit', 'credit_costs', 'credit_costs_sq', 'max_overdue', 'credit_status_general_mean', 'credit_status_prevalent_atm', 'closed_faster_than_expected', 'overdue_severity', 'prone_to_overdue', 'prone_to_close_faster', 'credit_line_length', 'pre_loans_outstanding_1', 'pre_loans_outstanding_2', 'pre_loans_outstanding_3', 'pre_loans_outstanding_4', 'pre_loans_outstanding_5', 'pre_loans_max_overdue_sum_1', 'pre_loans_max_overdue_sum_2', 'pre_loans_max_overdue_sum_3', 'enc_loans_account_holder_type_0', 'enc_loans_account_holder_type_1', 'enc_loans_account_holder_type_2', 'enc_loans_account_holder_type_3', 'enc_loans_account_holder_type_4', 'enc_loans_account_holder_type_5', 'enc_loans_account_holder_type_6', 'enc_loans_account_cur_0', 'enc_loans_account_cur_1', 'enc_loans_account_cur_2', 'enc_loans_account_cur_3', 'enc_loans_credit_status_0', 'enc_loans_credit_status_1', 'enc_loans_credit_status_2', 'enc_loans_credit_status_3', 'enc_loans_credit_status_4', 'enc_loans_credit_status_5', 'enc_loans_credit_status_6', 'enc_loans_credit_type_0', 'enc_loans_credit_type_1', 'enc_loans_credit_type_2', 'enc_loans_credit_type_3', 'enc_loans_credit_type_4', 'enc_loans_credit_type_5']\nexpected pre_loans5_7_agg, pre_loans530_7_agg, pre_loans6090_2_agg, pre_loans530_1_agg, pre_loans3060_9_agg in input data"
     ]
    }
   ],
   "source": [
    "preds_test = pipeline.predict_proba(res_test.drop('flag', axis=1))[:, 1]"
   ]
  },
  {
   "cell_type": "code",
   "execution_count": null,
   "id": "3caf79ff",
   "metadata": {},
   "outputs": [],
   "source": [
    "roc = roc_auc_score(answers[answers['id'].isin(res_test['id'].unique())]['flag'], preds_test)\n",
    "roc"
   ]
  },
  {
   "cell_type": "markdown",
   "id": "1acdc088",
   "metadata": {},
   "source": [
    "# train"
   ]
  },
  {
   "cell_type": "code",
   "execution_count": 95,
   "id": "4ed5bc52",
   "metadata": {
    "scrolled": true
   },
   "outputs": [
    {
     "name": "stdout",
     "output_type": "stream",
     "text": [
      "outstanding_loans_summ end\n",
      "outstanding_loans_summ_sq end\n",
      "loans_overdue_summ end\n"
     ]
    },
    {
     "data": {
      "application/vnd.jupyter.widget-view+json": {
       "model_id": "06cea366d5a94a8d9cc8769ca37484ec",
       "version_major": 2,
       "version_minor": 0
      },
      "text/plain": [
       "FloatProgress(value=0.0, layout=Layout(width='auto'), style=ProgressStyle(bar_color='black'))"
      ]
     },
     "metadata": {},
     "output_type": "display_data"
    },
    {
     "name": "stdout",
     "output_type": "stream",
     "text": [
      "loans_overdue_summ_sq end\n"
     ]
    },
    {
     "data": {
      "application/vnd.jupyter.widget-view+json": {
       "model_id": "92553f4eaf3141d29cf0e00fb7505338",
       "version_major": 2,
       "version_minor": 0
      },
      "text/plain": [
       "FloatProgress(value=0.0, layout=Layout(width='auto'), style=ProgressStyle(bar_color='black'))"
      ]
     },
     "metadata": {},
     "output_type": "display_data"
    },
    {
     "name": "stdout",
     "output_type": "stream",
     "text": [
      "credit_limit end\n",
      "credit_costs end\n",
      "credit_costs_sq end\n",
      "max_overdue end\n",
      "general cs end\n",
      "credit status ended\n"
     ]
    },
    {
     "data": {
      "application/vnd.jupyter.widget-view+json": {
       "model_id": "01af7838281c4ef7beb7c52cadb30e52",
       "version_major": 2,
       "version_minor": 0
      },
      "text/plain": [
       "FloatProgress(value=0.0, layout=Layout(width='auto'), style=ProgressStyle(bar_color='black'))"
      ]
     },
     "metadata": {},
     "output_type": "display_data"
    },
    {
     "name": "stdout",
     "output_type": "stream",
     "text": [
      "overdue ended\n",
      "cs length end\n",
      "dropping end\n",
      "zero_imputer end\n"
     ]
    },
    {
     "data": {
      "application/vnd.jupyter.widget-view+json": {
       "model_id": "2611b16255114dab8725f9d8c2b5cd6a",
       "version_major": 2,
       "version_minor": 0
      },
      "text/plain": [
       "FloatProgress(value=0.0, layout=Layout(width='auto'), style=ProgressStyle(bar_color='black'))"
      ]
     },
     "metadata": {},
     "output_type": "display_data"
    },
    {
     "name": "stdout",
     "output_type": "stream",
     "text": [
      "custom agg end\n",
      "ohe ended\n"
     ]
    }
   ],
   "source": [
    "preds_train = pipeline.predict_proba(res.drop('flag', axis=1))[:, 1]"
   ]
  },
  {
   "cell_type": "code",
   "execution_count": 96,
   "id": "d2fd777f",
   "metadata": {},
   "outputs": [
    {
     "data": {
      "text/plain": [
       "0.8822801590448791"
      ]
     },
     "execution_count": 96,
     "metadata": {},
     "output_type": "execute_result"
    }
   ],
   "source": [
    "roc = roc_auc_score(answers[answers['id'].isin(res['id'].unique())]['flag'], preds_train)\n",
    "roc"
   ]
  },
  {
   "cell_type": "code",
   "execution_count": 87,
   "id": "4b99359c",
   "metadata": {},
   "outputs": [
    {
     "data": {
      "text/plain": [
       "0.8814389111588706"
      ]
     },
     "execution_count": 87,
     "metadata": {},
     "output_type": "execute_result"
    }
   ],
   "source": [
    "roc = roc_auc_score(answers[answers['id'].isin(res['id'].unique())]['flag'], tst)\n",
    "roc"
   ]
  },
  {
   "cell_type": "code",
   "execution_count": null,
   "id": "8a0296a9",
   "metadata": {},
   "outputs": [],
   "source": []
  },
  {
   "cell_type": "markdown",
   "id": "fab8ac95",
   "metadata": {},
   "source": [
    "# подготовка сета"
   ]
  },
  {
   "cell_type": "code",
   "execution_count": 28,
   "id": "8302613f",
   "metadata": {
    "collapsed": true
   },
   "outputs": [
    {
     "name": "stdout",
     "output_type": "stream",
     "text": [
      "['train_data/train_data_0.pq', 'train_data/train_data_1.pq', 'train_data/train_data_10.pq', 'train_data/train_data_11.pq', 'train_data/train_data_2.pq', 'train_data/train_data_3.pq', 'train_data/train_data_4.pq', 'train_data/train_data_5.pq', 'train_data/train_data_6.pq', 'train_data/train_data_7.pq', 'train_data/train_data_8.pq', 'train_data/train_data_9.pq']\n",
      "Reading chunks:\n",
      "\n",
      "train_data/train_data_0.pq\n",
      "train_data/train_data_1.pq\n",
      "train_data/train_data_10.pq\n",
      "train_data/train_data_11.pq\n",
      "train_data/train_data_2.pq\n",
      "train_data/train_data_3.pq\n",
      "train_data/train_data_4.pq\n",
      "train_data/train_data_5.pq\n",
      "train_data/train_data_6.pq\n",
      "train_data/train_data_7.pq\n",
      "train_data/train_data_8.pq\n",
      "train_data/train_data_9.pq\n"
     ]
    },
    {
     "data": {
      "application/vnd.jupyter.widget-view+json": {
       "model_id": "85c26ea9a85f43a79dcdd7faed9ba7d5",
       "version_major": 2,
       "version_minor": 0
      },
      "text/plain": [
       "Reading dataset with pandas:   0%|          | 0/12 [00:00<?, ?it/s]"
      ]
     },
     "metadata": {},
     "output_type": "display_data"
    },
    {
     "name": "stdout",
     "output_type": "stream",
     "text": [
      "chunk_path train_data/train_data_0.pq\n",
      "answers end\n",
      "outstanding_loans_summ end\n",
      "outstanding_loans_summ_sq end\n",
      "loans_overdue_summ end\n",
      "loans_overdue_summ_sq end\n",
      "credit_limit end\n",
      "credit_costs end\n",
      "credit_costs_sq end\n",
      "max_overdue end\n",
      "general cs end\n",
      "credit status ended\n",
      "overdue ended\n",
      "cs length end\n",
      "ohe ended\n",
      "dropping end\n"
     ]
    },
    {
     "data": {
      "application/vnd.jupyter.widget-view+json": {
       "model_id": "8a83251b68ed47e58969b33d1d8de1dd",
       "version_major": 2,
       "version_minor": 0
      },
      "text/plain": [
       "FloatProgress(value=0.0, layout=Layout(width='auto'), style=ProgressStyle(bar_color='black'))"
      ]
     },
     "metadata": {},
     "output_type": "display_data"
    },
    {
     "name": "stdout",
     "output_type": "stream",
     "text": [
      "custom agg end\n",
      "zero_imputer end\n",
      "chunk_path train_data/train_data_1.pq\n",
      "answers end\n",
      "outstanding_loans_summ end\n",
      "outstanding_loans_summ_sq end\n",
      "loans_overdue_summ end\n",
      "loans_overdue_summ_sq end\n",
      "credit_limit end\n",
      "credit_costs end\n",
      "credit_costs_sq end\n",
      "max_overdue end\n",
      "general cs end\n",
      "credit status ended\n",
      "overdue ended\n",
      "cs length end\n",
      "ohe ended\n",
      "dropping end\n"
     ]
    },
    {
     "data": {
      "application/vnd.jupyter.widget-view+json": {
       "model_id": "e1aa50c311084b4182ecd3efbdbf7c14",
       "version_major": 2,
       "version_minor": 0
      },
      "text/plain": [
       "FloatProgress(value=0.0, layout=Layout(width='auto'), style=ProgressStyle(bar_color='black'))"
      ]
     },
     "metadata": {},
     "output_type": "display_data"
    },
    {
     "name": "stdout",
     "output_type": "stream",
     "text": [
      "custom agg end\n",
      "zero_imputer end\n",
      "chunk_path train_data/train_data_10.pq\n",
      "answers end\n",
      "outstanding_loans_summ end\n",
      "outstanding_loans_summ_sq end\n",
      "loans_overdue_summ end\n",
      "loans_overdue_summ_sq end\n",
      "credit_limit end\n",
      "credit_costs end\n",
      "credit_costs_sq end\n",
      "max_overdue end\n",
      "general cs end\n",
      "credit status ended\n",
      "overdue ended\n",
      "cs length end\n",
      "ohe ended\n",
      "dropping end\n"
     ]
    },
    {
     "data": {
      "application/vnd.jupyter.widget-view+json": {
       "model_id": "513bc0d1f056412ba974e25d56714e4e",
       "version_major": 2,
       "version_minor": 0
      },
      "text/plain": [
       "FloatProgress(value=0.0, layout=Layout(width='auto'), style=ProgressStyle(bar_color='black'))"
      ]
     },
     "metadata": {},
     "output_type": "display_data"
    },
    {
     "name": "stdout",
     "output_type": "stream",
     "text": [
      "custom agg end\n",
      "zero_imputer end\n",
      "chunk_path train_data/train_data_11.pq\n",
      "answers end\n",
      "outstanding_loans_summ end\n",
      "outstanding_loans_summ_sq end\n",
      "loans_overdue_summ end\n",
      "loans_overdue_summ_sq end\n",
      "credit_limit end\n",
      "credit_costs end\n",
      "credit_costs_sq end\n",
      "max_overdue end\n",
      "general cs end\n",
      "credit status ended\n",
      "overdue ended\n",
      "cs length end\n",
      "ohe ended\n",
      "dropping end\n"
     ]
    },
    {
     "data": {
      "application/vnd.jupyter.widget-view+json": {
       "model_id": "ad9460de208443b4828b46dcf1b700ca",
       "version_major": 2,
       "version_minor": 0
      },
      "text/plain": [
       "FloatProgress(value=0.0, layout=Layout(width='auto'), style=ProgressStyle(bar_color='black'))"
      ]
     },
     "metadata": {},
     "output_type": "display_data"
    },
    {
     "name": "stdout",
     "output_type": "stream",
     "text": [
      "custom agg end\n",
      "zero_imputer end\n",
      "chunk_path train_data/train_data_2.pq\n",
      "answers end\n",
      "outstanding_loans_summ end\n",
      "outstanding_loans_summ_sq end\n",
      "loans_overdue_summ end\n",
      "loans_overdue_summ_sq end\n",
      "credit_limit end\n",
      "credit_costs end\n",
      "credit_costs_sq end\n",
      "max_overdue end\n",
      "general cs end\n",
      "credit status ended\n",
      "overdue ended\n",
      "cs length end\n",
      "ohe ended\n",
      "dropping end\n"
     ]
    },
    {
     "data": {
      "application/vnd.jupyter.widget-view+json": {
       "model_id": "bb8c031dc8c4476eb524b91df718b614",
       "version_major": 2,
       "version_minor": 0
      },
      "text/plain": [
       "FloatProgress(value=0.0, layout=Layout(width='auto'), style=ProgressStyle(bar_color='black'))"
      ]
     },
     "metadata": {},
     "output_type": "display_data"
    },
    {
     "name": "stdout",
     "output_type": "stream",
     "text": [
      "custom agg end\n",
      "zero_imputer end\n",
      "chunk_path train_data/train_data_3.pq\n",
      "answers end\n",
      "outstanding_loans_summ end\n",
      "outstanding_loans_summ_sq end\n",
      "loans_overdue_summ end\n",
      "loans_overdue_summ_sq end\n",
      "credit_limit end\n",
      "credit_costs end\n",
      "credit_costs_sq end\n",
      "max_overdue end\n",
      "general cs end\n",
      "credit status ended\n",
      "overdue ended\n",
      "cs length end\n",
      "ohe ended\n",
      "dropping end\n"
     ]
    },
    {
     "data": {
      "application/vnd.jupyter.widget-view+json": {
       "model_id": "5400f6f1c3bf4d09b0581c09e21f5472",
       "version_major": 2,
       "version_minor": 0
      },
      "text/plain": [
       "FloatProgress(value=0.0, layout=Layout(width='auto'), style=ProgressStyle(bar_color='black'))"
      ]
     },
     "metadata": {},
     "output_type": "display_data"
    },
    {
     "name": "stdout",
     "output_type": "stream",
     "text": [
      "custom agg end\n",
      "zero_imputer end\n",
      "chunk_path train_data/train_data_4.pq\n",
      "answers end\n",
      "outstanding_loans_summ end\n",
      "outstanding_loans_summ_sq end\n",
      "loans_overdue_summ end\n",
      "loans_overdue_summ_sq end\n",
      "credit_limit end\n",
      "credit_costs end\n",
      "credit_costs_sq end\n",
      "max_overdue end\n",
      "general cs end\n",
      "credit status ended\n",
      "overdue ended\n",
      "cs length end\n",
      "ohe ended\n",
      "dropping end\n"
     ]
    },
    {
     "data": {
      "application/vnd.jupyter.widget-view+json": {
       "model_id": "621d3b1c698249e984ba98f63325d8dc",
       "version_major": 2,
       "version_minor": 0
      },
      "text/plain": [
       "FloatProgress(value=0.0, layout=Layout(width='auto'), style=ProgressStyle(bar_color='black'))"
      ]
     },
     "metadata": {},
     "output_type": "display_data"
    },
    {
     "name": "stdout",
     "output_type": "stream",
     "text": [
      "custom agg end\n",
      "zero_imputer end\n",
      "chunk_path train_data/train_data_5.pq\n",
      "answers end\n",
      "outstanding_loans_summ end\n",
      "outstanding_loans_summ_sq end\n",
      "loans_overdue_summ end\n",
      "loans_overdue_summ_sq end\n",
      "credit_limit end\n",
      "credit_costs end\n",
      "credit_costs_sq end\n",
      "max_overdue end\n",
      "general cs end\n",
      "credit status ended\n",
      "overdue ended\n",
      "cs length end\n",
      "ohe ended\n",
      "dropping end\n"
     ]
    },
    {
     "data": {
      "application/vnd.jupyter.widget-view+json": {
       "model_id": "4bf5c39e1a99475e9ae78997cba21ea1",
       "version_major": 2,
       "version_minor": 0
      },
      "text/plain": [
       "FloatProgress(value=0.0, layout=Layout(width='auto'), style=ProgressStyle(bar_color='black'))"
      ]
     },
     "metadata": {},
     "output_type": "display_data"
    },
    {
     "name": "stdout",
     "output_type": "stream",
     "text": [
      "custom agg end\n",
      "zero_imputer end\n",
      "chunk_path train_data/train_data_6.pq\n",
      "answers end\n",
      "outstanding_loans_summ end\n",
      "outstanding_loans_summ_sq end\n",
      "loans_overdue_summ end\n",
      "loans_overdue_summ_sq end\n",
      "credit_limit end\n",
      "credit_costs end\n",
      "credit_costs_sq end\n",
      "max_overdue end\n",
      "general cs end\n",
      "credit status ended\n",
      "overdue ended\n",
      "cs length end\n",
      "ohe ended\n",
      "dropping end\n"
     ]
    },
    {
     "data": {
      "application/vnd.jupyter.widget-view+json": {
       "model_id": "4ba8642e9019444cb665d84b50275404",
       "version_major": 2,
       "version_minor": 0
      },
      "text/plain": [
       "FloatProgress(value=0.0, layout=Layout(width='auto'), style=ProgressStyle(bar_color='black'))"
      ]
     },
     "metadata": {},
     "output_type": "display_data"
    },
    {
     "name": "stdout",
     "output_type": "stream",
     "text": [
      "custom agg end\n",
      "zero_imputer end\n",
      "chunk_path train_data/train_data_7.pq\n",
      "answers end\n",
      "outstanding_loans_summ end\n",
      "outstanding_loans_summ_sq end\n",
      "loans_overdue_summ end\n",
      "loans_overdue_summ_sq end\n",
      "credit_limit end\n",
      "credit_costs end\n",
      "credit_costs_sq end\n",
      "max_overdue end\n",
      "general cs end\n",
      "credit status ended\n",
      "overdue ended\n",
      "cs length end\n",
      "ohe ended\n",
      "dropping end\n"
     ]
    },
    {
     "data": {
      "application/vnd.jupyter.widget-view+json": {
       "model_id": "d8c9a9322d32491ab0d2180f256461c5",
       "version_major": 2,
       "version_minor": 0
      },
      "text/plain": [
       "FloatProgress(value=0.0, layout=Layout(width='auto'), style=ProgressStyle(bar_color='black'))"
      ]
     },
     "metadata": {},
     "output_type": "display_data"
    },
    {
     "name": "stdout",
     "output_type": "stream",
     "text": [
      "custom agg end\n",
      "zero_imputer end\n",
      "chunk_path train_data/train_data_8.pq\n",
      "answers end\n",
      "outstanding_loans_summ end\n",
      "outstanding_loans_summ_sq end\n",
      "loans_overdue_summ end\n",
      "loans_overdue_summ_sq end\n",
      "credit_limit end\n",
      "credit_costs end\n",
      "credit_costs_sq end\n",
      "max_overdue end\n",
      "general cs end\n",
      "credit status ended\n",
      "overdue ended\n",
      "cs length end\n",
      "ohe ended\n",
      "dropping end\n"
     ]
    },
    {
     "data": {
      "application/vnd.jupyter.widget-view+json": {
       "model_id": "bca1da91121043be8c4952ea42b9fcac",
       "version_major": 2,
       "version_minor": 0
      },
      "text/plain": [
       "FloatProgress(value=0.0, layout=Layout(width='auto'), style=ProgressStyle(bar_color='black'))"
      ]
     },
     "metadata": {},
     "output_type": "display_data"
    },
    {
     "name": "stdout",
     "output_type": "stream",
     "text": [
      "custom agg end\n",
      "zero_imputer end\n",
      "chunk_path train_data/train_data_9.pq\n",
      "answers end\n",
      "outstanding_loans_summ end\n",
      "outstanding_loans_summ_sq end\n",
      "loans_overdue_summ end\n",
      "loans_overdue_summ_sq end\n",
      "credit_limit end\n",
      "credit_costs end\n",
      "credit_costs_sq end\n",
      "max_overdue end\n",
      "general cs end\n",
      "credit status ended\n"
     ]
    },
    {
     "data": {
      "application/vnd.jupyter.widget-view+json": {
       "model_id": "3dc62197e6194f96a7ee0e33c425f3a5",
       "version_major": 2,
       "version_minor": 0
      },
      "text/plain": [
       "FloatProgress(value=0.0, layout=Layout(width='auto'), style=ProgressStyle(bar_color='black'))"
      ]
     },
     "metadata": {},
     "output_type": "display_data"
    },
    {
     "name": "stdout",
     "output_type": "stream",
     "text": [
      "overdue ended\n",
      "cs length end\n",
      "ohe ended\n",
      "dropping end\n"
     ]
    },
    {
     "data": {
      "application/vnd.jupyter.widget-view+json": {
       "model_id": "990a5b9ebbc6412ebccefd7a764cf22f",
       "version_major": 2,
       "version_minor": 0
      },
      "text/plain": [
       "FloatProgress(value=0.0, layout=Layout(width='auto'), style=ProgressStyle(bar_color='black'))"
      ]
     },
     "metadata": {},
     "output_type": "display_data"
    },
    {
     "name": "stdout",
     "output_type": "stream",
     "text": [
      "custom agg end\n",
      "zero_imputer end\n"
     ]
    }
   ],
   "source": [
    "res = read_parquet_dataset_from_local('train_data/', # где лежат данные\n",
    "                                0,         # с какого куска начать\n",
    "                                12,         # сколько обработать\n",
    "                                None,      # какие колонки брать None = все\n",
    "                                True,      # выводить что сейчас происходит\n",
    "                                [answers_func_optimised,  # лист функций-трансформеров \n",
    "                                 outstanding_loans_summ,\n",
    "                                 outstanding_loans_summ_sq,\n",
    "                                 loans_overdue_summ,\n",
    "                                 loans_overdue_summ_sq,\n",
    "                                 credit_limit,\n",
    "                                 credit_costs,\n",
    "                                 credit_costs_sq,\n",
    "                                 max_overdue,\n",
    "                                 credit_status_general_mean,\n",
    "                                 credit_status_prevalent_atm,\n",
    "                                 overdue_and_quick_closure_duck_optimised,\n",
    "                                 credit_line_length,\n",
    "                                 ohe_handpicked,\n",
    "#                                  ohe_auto,\n",
    "                                 dropping_cols,\n",
    "#                                  max_rn,\n",
    "                                 custom_agregating_optimised,\n",
    "                                 zero_imputer,\n",
    "                                 ])"
   ]
  },
  {
   "cell_type": "code",
   "execution_count": 29,
   "id": "68b13c07",
   "metadata": {},
   "outputs": [],
   "source": [
    "path = f'train_data/df_compiled_v16_{res.shape[1]}_cols_full.pq'\n",
    "res.to_parquet(path)"
   ]
  },
  {
   "cell_type": "code",
   "execution_count": 3,
   "id": "75b251dc",
   "metadata": {
    "scrolled": false
   },
   "outputs": [
    {
     "name": "stdout",
     "output_type": "stream",
     "text": [
      "['train_data/train_data_0.pq', 'train_data/train_data_1.pq', 'train_data/train_data_10.pq', 'train_data/train_data_11.pq', 'train_data/train_data_2.pq', 'train_data/train_data_3.pq', 'train_data/train_data_4.pq', 'train_data/train_data_5.pq', 'train_data/train_data_6.pq', 'train_data/train_data_7.pq', 'train_data/train_data_8.pq', 'train_data/train_data_9.pq']\n",
      "Reading chunks:\n",
      "\n",
      "train_data/train_data_0.pq\n"
     ]
    },
    {
     "data": {
      "application/vnd.jupyter.widget-view+json": {
       "model_id": "834d638fbc8447fea4121ae562e713f1",
       "version_major": 2,
       "version_minor": 0
      },
      "text/plain": [
       "Reading dataset with pandas:   0%|          | 0/1 [00:00<?, ?it/s]"
      ]
     },
     "metadata": {},
     "output_type": "display_data"
    },
    {
     "name": "stdout",
     "output_type": "stream",
     "text": [
      "chunk_path train_data/train_data_0.pq\n"
     ]
    }
   ],
   "source": [
    "res = read_parquet_dataset_from_local('train_data/', # где лежат данные\n",
    "                                0,         # с какого куска начать\n",
    "                                12,         # сколько обработать\n",
    "                                None,      # какие колонки брать None = все\n",
    "                                True,      # выводить что сейчас происходит\n",
    "                                [answers_func_optimised,  # лист функций-трансформеров \n",
    "                                 outstanding_loans_summ,\n",
    "                                 outstanding_loans_summ_sq,\n",
    "                                 loans_overdue_summ,\n",
    "                                 loans_overdue_summ_sq,\n",
    "                                 credit_limit,\n",
    "                                 credit_costs,\n",
    "                                 credit_costs_sq,\n",
    "                                 max_overdue,\n",
    "                                 credit_status_general_mean,\n",
    "                                 credit_status_prevalent_atm,\n",
    "                                 overdue_and_quick_closure_duck_optimised,\n",
    "                                 credit_line_length,\n",
    "#                                  ohe_handpicked,\n",
    "#                                  ohe_auto,\n",
    "                                 dropping_cols,\n",
    "#                                  max_rn,\n",
    "                                 custom_agregating_optimised,\n",
    "                                 ohe_handpicked,\n",
    "                                 column_checker,\n",
    "                                 ])"
   ]
  },
  {
   "cell_type": "code",
   "execution_count": 10,
   "id": "7054c620",
   "metadata": {},
   "outputs": [],
   "source": [
    "path = f'train_data/df_compiled_v17_{res.shape[1]}_cols_full.pq'\n",
    "res.to_parquet(path)"
   ]
  },
  {
   "cell_type": "code",
   "execution_count": 25,
   "id": "37f1dcc0",
   "metadata": {},
   "outputs": [],
   "source": [
    "res = None"
   ]
  },
  {
   "cell_type": "markdown",
   "id": "01a2fe38",
   "metadata": {},
   "source": [
    "# подготовка сета без трансформации\n"
   ]
  },
  {
   "cell_type": "code",
   "execution_count": null,
   "id": "04594f15",
   "metadata": {},
   "outputs": [],
   "source": [
    "res = read_parquet_dataset_from_local_og('train_data/', # где лежат данные\n",
    "                                0,         # с какого куска начать\n",
    "                                12,         # сколько обработать\n",
    "                                None,      # какие колонки брать None = все\n",
    "                                True,      # выводить что сейчас происходит\n",
    "                                     )"
   ]
  },
  {
   "cell_type": "code",
   "execution_count": null,
   "id": "7db06faa",
   "metadata": {},
   "outputs": [],
   "source": []
  },
  {
   "cell_type": "code",
   "execution_count": 16,
   "id": "d339ac1a",
   "metadata": {},
   "outputs": [],
   "source": [
    "path = f'train_data/df_full_not_transformed.pq'\n",
    "res.to_parquet(path)"
   ]
  },
  {
   "cell_type": "code",
   "execution_count": null,
   "id": "ab406c87",
   "metadata": {},
   "outputs": [],
   "source": [
    "res =  fastparquet.ParquetFile('train_data/df_full_not_transformed.pq').to_pandas()"
   ]
  },
  {
   "cell_type": "code",
   "execution_count": null,
   "id": "155a0bf9",
   "metadata": {},
   "outputs": [],
   "source": [
    "res = None"
   ]
  },
  {
   "cell_type": "code",
   "execution_count": 175,
   "id": "afabe70f",
   "metadata": {},
   "outputs": [],
   "source": [
    "res = fastparquet.ParquetFile('train_data/train_data_0.pq').to_pandas()"
   ]
  },
  {
   "cell_type": "markdown",
   "id": "8dc70c9a",
   "metadata": {},
   "source": [
    "# дефолтная модель без GS 1 прогон\n"
   ]
  },
  {
   "cell_type": "code",
   "execution_count": null,
   "id": "379d80c8",
   "metadata": {},
   "outputs": [],
   "source": [
    "scores = [(0.7535166495756145,\n",
    "  'eng full (F13, w/ sq-functions), 325 cols, no dropping, 50-50 shares, all chunks, def model'),\n",
    " (0.7512427303357881,\n",
    "  'eng full (F13, w/ sq-functions), 325 cols, no dropping, 40-60 shares, all chunks, def model'),\n",
    " (0.7517922614647402,\n",
    "  'eng full (F13, w/ sq-functions), 300 cols, no dropping, 50-50 shares, all chunks, def model'),\n",
    " (0.7530807437307375,\n",
    "  'eng full (F13, w/ sq-functions), 300 cols, no dropping, 60-40 shares, all chunks, def model')]"
   ]
  },
  {
   "cell_type": "code",
   "execution_count": null,
   "id": "b4746081",
   "metadata": {},
   "outputs": [],
   "source": [
    "shares = True\n",
    "share = (60, 40)\n",
    "\n",
    "if shares == True:\n",
    "    shares = f'{share[0]}-{share[1]} shares'\n",
    "else:\n",
    "    shares = f'no shares'\n",
    "\n",
    "df2, df_transformed_test = train_test_split(res, stratify=res['flag'], test_size=0.3, )\n",
    "\n",
    "df2 = sample_df(df2,round(df2.flag.value_counts()[1] / share[1] * 100-1, 0) , share[0], share[1])\n",
    "\n",
    "X, y = df2.drop('flag', axis=1), df2.flag\n",
    "X_test, y_test = df_transformed_test.drop('flag', axis=1), df_transformed_test.flag\n",
    "\n",
    "model = xgb.XGBClassifier()\n",
    "\n",
    "model.fit(X, y)    \n",
    "y_pred_proba = model.predict_proba(X_test)\n",
    "roc_auc = roc_auc_score(y_test, y_pred_proba[:, 1])\n",
    "\n",
    "print('Score: ', roc_auc)\n",
    "scores.append((roc_auc, f'eng full (F13, w/ sq-functions), {X.shape[1]} cols, no dropping, {shares}, all chunks, def model'))\n",
    "print(f'fit size {X.shape}')\n",
    "print('-----')\n",
    "print('  ')"
   ]
  },
  {
   "cell_type": "code",
   "execution_count": 498,
   "id": "955dd939",
   "metadata": {},
   "outputs": [],
   "source": [
    "scores[-3:]"
   ]
  },
  {
   "cell_type": "markdown",
   "id": "fa89eb76",
   "metadata": {},
   "source": [
    "# дефолтная модель без GS n прогонов -> среднее (самодельное cv)\n"
   ]
  },
  {
   "cell_type": "code",
   "execution_count": 24,
   "id": "05850103",
   "metadata": {},
   "outputs": [
    {
     "name": "stderr",
     "output_type": "stream",
     "text": [
      "C:\\Users\\User\\AppData\\Local\\Temp\\ipykernel_2672\\2017038462.py:13: TqdmDeprecationWarning: This function will be removed in tqdm==5.0.0\n",
      "Please use `tqdm.notebook.tqdm` instead of `tqdm.tqdm_notebook`\n",
      "  for i in tqdm.tqdm_notebook(range(3), desc=f\"working /// ...\"):\n"
     ]
    },
    {
     "data": {
      "application/vnd.jupyter.widget-view+json": {
       "model_id": "c15678f4e78348eab66e35809fbe7c4a",
       "version_major": 2,
       "version_minor": 0
      },
      "text/plain": [
       "working /// ...:   0%|          | 0/3 [00:00<?, ?it/s]"
      ]
     },
     "metadata": {},
     "output_type": "display_data"
    },
    {
     "name": "stdout",
     "output_type": "stream",
     "text": [
      "Score:  0.7542888603277507\n",
      "Score:  0.7520430765593834\n",
      "Score:  0.7529102943050784\n",
      "fit size (212883, 300)\n",
      "-----\n",
      "  \n"
     ]
    }
   ],
   "source": [
    "shares = True\n",
    "share = (60, 40)\n",
    "\n",
    "\n",
    "if shares == True:\n",
    "    shares = f'{share[0]}-{share[1]} shares'\n",
    "else:\n",
    "    shares = f'no shares'\n",
    "    \n",
    "\n",
    "current_scores = []\n",
    "\n",
    "for i in tqdm.tqdm_notebook(range(3), desc=f\"working /// ...\"):\n",
    "    df2, df_transformed_test = train_test_split(res, stratify=res['flag'], test_size=0.2, )\n",
    "\n",
    "    df2 = sample_df(df2,round(df2.flag.value_counts()[1] / share[1] * 100-1, 0) , share[0], share[1])\n",
    "\n",
    "    X, y = df2.drop('flag', axis=1), df2.flag\n",
    "    X_test, y_test = df_transformed_test.drop('flag', axis=1), df_transformed_test.flag\n",
    "\n",
    "    model = xgb.XGBClassifier()\n",
    "\n",
    "\n",
    "    model.fit(X, y)    \n",
    "\n",
    "    y_pred_proba = model.predict_proba(X_test)\n",
    "    roc_auc = roc_auc_score(y_test, y_pred_proba[:, 1])\n",
    "    current_scores.append(roc_auc)\n",
    "\n",
    "    print('Score: ', roc_auc)\n",
    "scores.append((mean(current_scores), f'eng full (F13, w/ sq-functions), {X.shape[1]} cols, {shares}, all chunks, def model'))\n",
    "print(f'fit size {X.shape}')\n",
    "print('-----')\n",
    "print('  ')"
   ]
  },
  {
   "cell_type": "code",
   "execution_count": 23,
   "id": "ec42f690",
   "metadata": {
    "scrolled": true
   },
   "outputs": [
    {
     "data": {
      "text/plain": [
       "[(0.7535166495756145,\n",
       "  'eng full (F13, w/ sq-functions), 325 cols, no dropping, 50-50 shares, all chunks, def model'),\n",
       " (0.7512427303357881,\n",
       "  'eng full (F13, w/ sq-functions), 325 cols, no dropping, 40-60 shares, all chunks, def model'),\n",
       " (0.7517922614647402,\n",
       "  'eng full (F13, w/ sq-functions), 300 cols, no dropping, 50-50 shares, all chunks, def model'),\n",
       " (0.7530807437307375,\n",
       "  'eng full (F13, w/ sq-functions), 300 cols, no dropping, 60-40 shares, all chunks, def model')]"
      ]
     },
     "execution_count": 23,
     "metadata": {},
     "output_type": "execute_result"
    }
   ],
   "source": [
    "scores"
   ]
  },
  {
   "cell_type": "markdown",
   "id": "02bd21c2",
   "metadata": {},
   "source": [
    "# Result \n",
    "приемлемо: \n",
    "1) нужная метрика есть, \n",
    "2) подготовка всего сета из всех 12 кусков за один подход влезает в память\n",
    "\n",
    "# next\n",
    "1) уменьшить сет до размера, когда GS сможет с ним поработать, \n",
    "2) получить параметры для тюнинга "
   ]
  },
  {
   "cell_type": "markdown",
   "id": "bcd5ffec",
   "metadata": {},
   "source": [
    "# GS"
   ]
  },
  {
   "cell_type": "code",
   "execution_count": 26,
   "id": "b7516c5c",
   "metadata": {},
   "outputs": [],
   "source": [
    "shares = True\n",
    "share = (60, 40)\n",
    "\n",
    "\n",
    "if shares == True:\n",
    "    shares = f'{share[0]}-{share[1]} shares'\n",
    "else:\n",
    "    shares = f'no shares'\n",
    "    \n",
    "\n",
    "    \n",
    "df2, df_transformed_test = train_test_split(res, stratify=res['flag'], test_size=0.2, )\n",
    "\n",
    "df2 = sample_df(df2,round(df2.flag.value_counts()[1] / share[1] * 100-1, 0) , share[0], share[1])"
   ]
  },
  {
   "cell_type": "code",
   "execution_count": 27,
   "id": "1ad572d4",
   "metadata": {},
   "outputs": [],
   "source": [
    "set_size = 150000\n",
    "df2 = sample_df(df2,set_size , share[0], share[1])"
   ]
  },
  {
   "cell_type": "code",
   "execution_count": 35,
   "id": "0baf17cb",
   "metadata": {},
   "outputs": [
    {
     "data": {
      "text/plain": [
       "(150000, 301)"
      ]
     },
     "execution_count": 35,
     "metadata": {},
     "output_type": "execute_result"
    }
   ],
   "source": [
    "df2.shape"
   ]
  },
  {
   "cell_type": "code",
   "execution_count": 28,
   "id": "46565ac0",
   "metadata": {},
   "outputs": [],
   "source": [
    "res = None"
   ]
  },
  {
   "cell_type": "code",
   "execution_count": 29,
   "id": "5387cd5d",
   "metadata": {},
   "outputs": [
    {
     "name": "stdout",
     "output_type": "stream",
     "text": [
      "Best params:  {'colsample_bytree': 0.9, 'gamma': 0.1, 'learning_rate': 0.1, 'max_depth': 5, 'n_estimators': 400, 'subsample': 0.8}\n",
      "Score:  0.756441483966047\n",
      "fit size 150000\n",
      "-----\n",
      "  \n"
     ]
    }
   ],
   "source": [
    "# shares = True\n",
    "# share = (60, 40)\n",
    "\n",
    "# if shares == True:\n",
    "#     shares = f'{share[0]}-{share[1]} shares'\n",
    "# else:\n",
    "#     shares = f'no shares'\n",
    "    \n",
    "    \n",
    "# df2, df_transformed_test = train_test_split(res, stratify=res['flag'], test_size=0.2, )\n",
    "\n",
    "# df2 = sample_df(df2,round(df2.flag.value_counts()[1] / share[1] * 100-1, 0) , share[0], share[1])\n",
    "\n",
    "# df2 = sample_df(df2,100000 , share[0], share[1])\n",
    "\n",
    "X, y = df2.drop('flag', axis=1), df2.flag\n",
    "X_test, y_test = df_transformed_test.drop('flag', axis=1), df_transformed_test.flag\n",
    "\n",
    "model = xgb.XGBClassifier()\n",
    "\n",
    "\n",
    "# param_grid = {\n",
    "#     'max_depth': [3, 5, 7],\n",
    "#     'learning_rate': [0.1,0.05, 0.01],\n",
    "#     'n_estimators': [ 400, 500, 200],\n",
    "# }\n",
    "\n",
    "param_grid = {\n",
    "    'n_estimators': [100, 200, 300 ,400],\n",
    "    'max_depth': [3, 5, 7],\n",
    "    'learning_rate': [0.1, 0.01, 0.001],\n",
    "    'subsample': [0.8, 0.9, 1.0],\n",
    "    'colsample_bytree': [0.8, 0.9, 1.0],\n",
    "    'gamma': [0, 0.1, 0.2]\n",
    "}\n",
    "\n",
    "grid_search = GridSearchCV(model, param_grid, cv=5, scoring='roc_auc')\n",
    "grid_search.fit(X, y)    \n",
    "best_model = grid_search.best_estimator_\n",
    "\n",
    "y_pred_proba = best_model.predict_proba(X_test)\n",
    "roc_auc = roc_auc_score(y_test, y_pred_proba[:, 1])\n",
    "scores.append((roc_auc, f'eng full (F13, w/ sq-functions), {X.shape[1]} cols, {shares}, all chunks, {set_size}, GS'))\n",
    "print('Best params: ', grid_search.best_params_)\n",
    "print('Score: ', roc_auc)\n",
    "print(f'fit size {len(X)}')\n",
    "# print('Best Model ROC AUC:', mean(current_scores))\n",
    "# print(f'fit size {len(X)}')\n",
    "print('-----')\n",
    "print('  ')"
   ]
  },
  {
   "cell_type": "markdown",
   "id": "f90201a1",
   "metadata": {},
   "source": [
    "# модель c тюнингом после GS 1 прогон"
   ]
  },
  {
   "cell_type": "code",
   "execution_count": 32,
   "id": "6bfddb92",
   "metadata": {},
   "outputs": [],
   "source": [
    "res = fastparquet.ParquetFile('train_data/df_compiled_v16_301_cols_full.pq').to_pandas()"
   ]
  },
  {
   "cell_type": "code",
   "execution_count": 15,
   "id": "62fc6803",
   "metadata": {},
   "outputs": [
    {
     "name": "stdout",
     "output_type": "stream",
     "text": [
      "Score:  0.7610322703825217\n",
      "fit size (212883, 300)\n",
      "-----\n",
      "  \n"
     ]
    }
   ],
   "source": [
    "shares = True\n",
    "share = (60, 40)\n",
    "\n",
    "if shares == True:\n",
    "    shares = f'{share[0]}-{share[1]} shares'\n",
    "else:\n",
    "    shares = f'no shares'\n",
    "\n",
    "df2, df_transformed_test = train_test_split(res, stratify=res['flag'], test_size=0.2, )\n",
    "\n",
    "if shares:\n",
    "    df2 = sample_df(df2,round(df2.flag.value_counts()[1] / share[1] * 100-1, 0) , share[0], share[1])\n",
    "\n",
    "X, y = df2.drop('flag', axis=1), df2.flag\n",
    "X_test, y_test = df_transformed_test.drop('flag', axis=1), df_transformed_test.flag\n",
    "\n",
    "model = xgb.XGBClassifier(colsample_bytree=0.9, gamma=0.1, learning_rate=0.1, max_depth=5, n_estimators=400, subsample=0.8)\n",
    "\n",
    "model.fit(X, y)    \n",
    "y_pred_proba = model.predict_proba(X_test)\n",
    "roc_auc = roc_auc_score(y_test, y_pred_proba[:, 1])\n",
    "\n",
    "print('Score: ', roc_auc)\n",
    "scores.append((roc_auc, f'eng full (F16, w/ sq-functions), {X.shape[1]} cols, no dropping, {shares}, all chunks, tuned model'))\n",
    "print(f'fit size {X.shape}')\n",
    "print('-----')\n",
    "print('  ')"
   ]
  },
  {
   "cell_type": "code",
   "execution_count": 16,
   "id": "2c566d69",
   "metadata": {},
   "outputs": [
    {
     "data": {
      "text/plain": [
       "xgboost.sklearn.XGBClassifier"
      ]
     },
     "execution_count": 16,
     "metadata": {},
     "output_type": "execute_result"
    }
   ],
   "source": [
    "type(model)"
   ]
  },
  {
   "cell_type": "code",
   "execution_count": 14,
   "id": "91afdbea",
   "metadata": {
    "scrolled": true
   },
   "outputs": [
    {
     "data": {
      "text/plain": [
       "[(0.72452154635494,\n",
       "  'eng full (F16, w/ sq-functions), 300 cols, no dropping, 60-40 shares, all chunks, tuned model'),\n",
       " (0.7210611991733004,\n",
       "  'eng full (F16, w/ sq-functions), 300 cols, no dropping, 60-40 shares, all chunks, tuned model'),\n",
       " (0.7611162407818788,\n",
       "  'eng full (F16, w/ sq-functions), 300 cols, no dropping, 60-40 shares, all chunks, tuned model')]"
      ]
     },
     "execution_count": 14,
     "metadata": {},
     "output_type": "execute_result"
    }
   ],
   "source": [
    "scores[-3:]"
   ]
  },
  {
   "cell_type": "markdown",
   "id": "96f0a08b",
   "metadata": {},
   "source": [
    "# stage 2 compiling a dataset"
   ]
  },
  {
   "cell_type": "code",
   "execution_count": 35,
   "id": "8f4dd94f",
   "metadata": {},
   "outputs": [
    {
     "name": "stdout",
     "output_type": "stream",
     "text": [
      "['train_data/train_data_0.pq', 'train_data/train_data_1.pq', 'train_data/train_data_10.pq', 'train_data/train_data_11.pq', 'train_data/train_data_2.pq', 'train_data/train_data_3.pq', 'train_data/train_data_4.pq', 'train_data/train_data_5.pq', 'train_data/train_data_6.pq', 'train_data/train_data_7.pq', 'train_data/train_data_8.pq', 'train_data/train_data_9.pq', 'train_data/train_target.csv']\n",
      "Reading chunks:\n",
      "\n",
      "train_data/train_data_0.pq\n",
      "train_data/train_data_1.pq\n",
      "train_data/train_data_10.pq\n",
      "train_data/train_data_11.pq\n",
      "train_data/train_data_2.pq\n",
      "train_data/train_data_3.pq\n",
      "train_data/train_data_4.pq\n",
      "train_data/train_data_5.pq\n",
      "train_data/train_data_6.pq\n",
      "train_data/train_data_7.pq\n",
      "train_data/train_data_8.pq\n",
      "train_data/train_data_9.pq\n"
     ]
    },
    {
     "name": "stderr",
     "output_type": "stream",
     "text": [
      "C:\\Users\\User\\AppData\\Local\\Temp\\ipykernel_10908\\426200599.py:40: TqdmDeprecationWarning: This function will be removed in tqdm==5.0.0\n",
      "Please use `tqdm.notebook.tqdm` instead of `tqdm.tqdm_notebook`\n",
      "  for chunk_path in tqdm.tqdm_notebook(chunks, desc=\"Reading dataset with pandas\"):\n"
     ]
    },
    {
     "data": {
      "application/vnd.jupyter.widget-view+json": {
       "model_id": "8f826fa65e124b97a0e19cab1878e354",
       "version_major": 2,
       "version_minor": 0
      },
      "text/plain": [
       "Reading dataset with pandas:   0%|          | 0/12 [00:00<?, ?it/s]"
      ]
     },
     "metadata": {},
     "output_type": "display_data"
    },
    {
     "name": "stdout",
     "output_type": "stream",
     "text": [
      "chunk_path train_data/train_data_0.pq\n"
     ]
    },
    {
     "data": {
      "application/vnd.jupyter.widget-view+json": {
       "model_id": "74177b4979754919a9d65aaeac8826a1",
       "version_major": 2,
       "version_minor": 0
      },
      "text/plain": [
       "FloatProgress(value=0.0, layout=Layout(width='auto'), style=ProgressStyle(bar_color='black'))"
      ]
     },
     "metadata": {},
     "output_type": "display_data"
    },
    {
     "name": "stdout",
     "output_type": "stream",
     "text": [
      "chunk_path train_data/train_data_1.pq\n"
     ]
    },
    {
     "data": {
      "application/vnd.jupyter.widget-view+json": {
       "model_id": "c87256280e004cc0bb092f2dcfd071e5",
       "version_major": 2,
       "version_minor": 0
      },
      "text/plain": [
       "FloatProgress(value=0.0, layout=Layout(width='auto'), style=ProgressStyle(bar_color='black'))"
      ]
     },
     "metadata": {},
     "output_type": "display_data"
    },
    {
     "name": "stdout",
     "output_type": "stream",
     "text": [
      "chunk_path train_data/train_data_10.pq\n"
     ]
    },
    {
     "data": {
      "application/vnd.jupyter.widget-view+json": {
       "model_id": "a1c0ebb25b8a445db8ef7df1a53f4566",
       "version_major": 2,
       "version_minor": 0
      },
      "text/plain": [
       "FloatProgress(value=0.0, layout=Layout(width='auto'), style=ProgressStyle(bar_color='black'))"
      ]
     },
     "metadata": {},
     "output_type": "display_data"
    },
    {
     "name": "stdout",
     "output_type": "stream",
     "text": [
      "chunk_path train_data/train_data_11.pq\n"
     ]
    },
    {
     "data": {
      "application/vnd.jupyter.widget-view+json": {
       "model_id": "42392cc0a9674e0daa2491b6abf1ac50",
       "version_major": 2,
       "version_minor": 0
      },
      "text/plain": [
       "FloatProgress(value=0.0, layout=Layout(width='auto'), style=ProgressStyle(bar_color='black'))"
      ]
     },
     "metadata": {},
     "output_type": "display_data"
    },
    {
     "name": "stdout",
     "output_type": "stream",
     "text": [
      "chunk_path train_data/train_data_2.pq\n"
     ]
    },
    {
     "data": {
      "application/vnd.jupyter.widget-view+json": {
       "model_id": "94398a2a99484806a6d37340a5682d76",
       "version_major": 2,
       "version_minor": 0
      },
      "text/plain": [
       "FloatProgress(value=0.0, layout=Layout(width='auto'), style=ProgressStyle(bar_color='black'))"
      ]
     },
     "metadata": {},
     "output_type": "display_data"
    },
    {
     "name": "stdout",
     "output_type": "stream",
     "text": [
      "chunk_path train_data/train_data_3.pq\n"
     ]
    },
    {
     "data": {
      "application/vnd.jupyter.widget-view+json": {
       "model_id": "d402ab95be7248f6afdf8db334ce05cf",
       "version_major": 2,
       "version_minor": 0
      },
      "text/plain": [
       "FloatProgress(value=0.0, layout=Layout(width='auto'), style=ProgressStyle(bar_color='black'))"
      ]
     },
     "metadata": {},
     "output_type": "display_data"
    },
    {
     "name": "stdout",
     "output_type": "stream",
     "text": [
      "chunk_path train_data/train_data_4.pq\n"
     ]
    },
    {
     "data": {
      "application/vnd.jupyter.widget-view+json": {
       "model_id": "e22375a0f1a3475198701ab99baedc5b",
       "version_major": 2,
       "version_minor": 0
      },
      "text/plain": [
       "FloatProgress(value=0.0, layout=Layout(width='auto'), style=ProgressStyle(bar_color='black'))"
      ]
     },
     "metadata": {},
     "output_type": "display_data"
    },
    {
     "name": "stdout",
     "output_type": "stream",
     "text": [
      "chunk_path train_data/train_data_5.pq\n"
     ]
    },
    {
     "data": {
      "application/vnd.jupyter.widget-view+json": {
       "model_id": "894b63ff7ac846a88d8a44769b8ac75d",
       "version_major": 2,
       "version_minor": 0
      },
      "text/plain": [
       "FloatProgress(value=0.0, layout=Layout(width='auto'), style=ProgressStyle(bar_color='black'))"
      ]
     },
     "metadata": {},
     "output_type": "display_data"
    },
    {
     "name": "stdout",
     "output_type": "stream",
     "text": [
      "chunk_path train_data/train_data_6.pq\n"
     ]
    },
    {
     "data": {
      "application/vnd.jupyter.widget-view+json": {
       "model_id": "5ddf557129de49f09a4203970e5f4d75",
       "version_major": 2,
       "version_minor": 0
      },
      "text/plain": [
       "FloatProgress(value=0.0, layout=Layout(width='auto'), style=ProgressStyle(bar_color='black'))"
      ]
     },
     "metadata": {},
     "output_type": "display_data"
    },
    {
     "name": "stdout",
     "output_type": "stream",
     "text": [
      "chunk_path train_data/train_data_7.pq\n"
     ]
    },
    {
     "data": {
      "application/vnd.jupyter.widget-view+json": {
       "model_id": "15ee1975cf2743a897202c6eacc2f465",
       "version_major": 2,
       "version_minor": 0
      },
      "text/plain": [
       "FloatProgress(value=0.0, layout=Layout(width='auto'), style=ProgressStyle(bar_color='black'))"
      ]
     },
     "metadata": {},
     "output_type": "display_data"
    },
    {
     "name": "stdout",
     "output_type": "stream",
     "text": [
      "chunk_path train_data/train_data_8.pq\n"
     ]
    },
    {
     "data": {
      "application/vnd.jupyter.widget-view+json": {
       "model_id": "758f925fed964681aaea07c6be424fac",
       "version_major": 2,
       "version_minor": 0
      },
      "text/plain": [
       "FloatProgress(value=0.0, layout=Layout(width='auto'), style=ProgressStyle(bar_color='black'))"
      ]
     },
     "metadata": {},
     "output_type": "display_data"
    },
    {
     "name": "stdout",
     "output_type": "stream",
     "text": [
      "chunk_path train_data/train_data_9.pq\n"
     ]
    },
    {
     "data": {
      "application/vnd.jupyter.widget-view+json": {
       "model_id": "b6f6095458e6467d84799dfa41ab3c24",
       "version_major": 2,
       "version_minor": 0
      },
      "text/plain": [
       "FloatProgress(value=0.0, layout=Layout(width='auto'), style=ProgressStyle(bar_color='black'))"
      ]
     },
     "metadata": {},
     "output_type": "display_data"
    }
   ],
   "source": [
    "res = read_parquet_dataset_from_local('train_data/', # где лежат данные\n",
    "                                0,         # с какого куска начать\n",
    "                                12,         # сколько обработать\n",
    "                                None,      # какие колонки брать None = все\n",
    "                                True,      # выводить что сейчас происходит\n",
    "                                [answers_func,  # лист функций-трансформеров \n",
    "                                 outstanding_loans_summ,\n",
    "                                 credit_status_general_mean,\n",
    "                                 credit_status_prevalent_atm,\n",
    "                                 overdue_and_quick_closure_duck,\n",
    "                                 ohe_holder_type_and_account_cur,\n",
    "                                 credit_line_length,\n",
    "                                 dropping_cols,\n",
    "                                 max_rn,\n",
    "                                ])"
   ]
  },
  {
   "cell_type": "code",
   "execution_count": 36,
   "id": "80746b96",
   "metadata": {},
   "outputs": [],
   "source": [
    "# res.to_csv('train_data/df_compiled_v2_last_product_more_cols.csv', index=False)  \n",
    "\n",
    "fastparquet.write('train_data/df_compiled_v4_135_cols_full.pq', res)"
   ]
  },
  {
   "cell_type": "markdown",
   "id": "36501c5e",
   "metadata": {},
   "source": [
    "res = None\n",
    "res1 = fastparquet.ParquetFile('train_data/df_compiled_v2_last_product_just_enough_cols_part_1.pq').to_pandas()\n",
    "res2 = fastparquet.ParquetFile('train_data/df_compiled_v2_last_product_just_enough_cols_part_2.pq').to_pandas()\n",
    "res = pd.concat([res1, res2], ignore_index=True)\n",
    "fastparquet.write('train_data/df_compiled_v2_last_product_just_enough_cols_full.pq', res)"
   ]
  },
  {
   "cell_type": "markdown",
   "id": "0bbe518f",
   "metadata": {},
   "source": [
    "temp_col = res['credit_line_length']\n",
    "res = res.drop('credit_line_length', axis=1)\n",
    "res['credit_line_length'] = temp_col"
   ]
  },
  {
   "cell_type": "code",
   "execution_count": 33,
   "id": "bf0fb50e",
   "metadata": {},
   "outputs": [],
   "source": [
    "res = fastparquet.ParquetFile('train_data/df_compiled_v2_last_product_more_cols.parq').to_pandas()"
   ]
  },
  {
   "cell_type": "code",
   "execution_count": 22,
   "id": "2cd6bd7f",
   "metadata": {},
   "outputs": [],
   "source": [
    "log = [ \"now trying with 'ohe'ing one more col - pre_loans_max_overdue_sum\",\n",
    " 'shares are (40, 60), fit size 532208, 135 cols, score 0.7648398722386806',\n",
    " 'shares are (50, 50), fit size 532208, 135 cols, score 0.7649268557177284',\n",
    " 'shares are (60, 40), fit size 532208, 135 cols, score 0.7637724130254286',\n",
    " 'shares are (70, 30), fit size 532208, 135 cols, score 0.7635760290628861',\n",
    " 'shares are (80, 20), fit size 532208, 135 cols, score 0.761758429933967']"
   ]
  },
  {
   "cell_type": "code",
   "execution_count": 38,
   "id": "ab2fd40f",
   "metadata": {},
   "outputs": [
    {
     "data": {
      "text/plain": [
       "(3000000, 135)"
      ]
     },
     "execution_count": 38,
     "metadata": {},
     "output_type": "execute_result"
    }
   ],
   "source": [
    "res.shape"
   ]
  },
  {
   "cell_type": "code",
   "execution_count": 37,
   "id": "e816a41a",
   "metadata": {},
   "outputs": [],
   "source": [
    "shares = [\n",
    "#     (20,80),\n",
    "    (30,70),\n",
    "    (40,60),\n",
    "    (50,50),\n",
    "    (60,40),\n",
    "    (70,30),\n",
    "    (80,20),\n",
    "#     (90,10),\n",
    "]"
   ]
  },
  {
   "cell_type": "code",
   "execution_count": 39,
   "id": "285c1fa3",
   "metadata": {},
   "outputs": [
    {
     "data": {
      "application/vnd.jupyter.widget-view+json": {
       "model_id": "07d35b36122a410babf12740cd2fff89",
       "version_major": 2,
       "version_minor": 0
      },
      "text/plain": [
       "cycling through share variants:   0%|          | 0/6 [00:00<?, ?it/s]"
      ]
     },
     "metadata": {},
     "output_type": "display_data"
    },
    {
     "name": "stdout",
     "output_type": "stream",
     "text": [
      "shares for neg/pos are: (30, 70)\n",
      "Best Model ROC AUC: 0.7238084333492668\n",
      "Best params: {'learning_rate': 0.1, 'max_depth': 5, 'n_estimators': 300}\n",
      "-----\n",
      "  \n",
      "shares for neg/pos are: (40, 60)\n",
      "Best Model ROC AUC: 0.7262030570041587\n",
      "Best params: {'learning_rate': 0.1, 'max_depth': 5, 'n_estimators': 300}\n",
      "-----\n",
      "  \n",
      "shares for neg/pos are: (50, 50)\n",
      "Best Model ROC AUC: 0.7260096062081343\n",
      "Best params: {'learning_rate': 0.1, 'max_depth': 5, 'n_estimators': 300}\n",
      "-----\n",
      "  \n",
      "shares for neg/pos are: (60, 40)\n",
      "Best Model ROC AUC: 0.7297841214946539\n",
      "Best params: {'learning_rate': 0.1, 'max_depth': 5, 'n_estimators': 300}\n",
      "-----\n",
      "  \n",
      "shares for neg/pos are: (70, 30)\n",
      "Best Model ROC AUC: 0.7296640024996561\n",
      "Best params: {'learning_rate': 0.1, 'max_depth': 7, 'n_estimators': 300}\n",
      "-----\n",
      "  \n",
      "shares for neg/pos are: (80, 20)\n",
      "Best Model ROC AUC: 0.7273846250031929\n",
      "Best params: {'learning_rate': 0.1, 'max_depth': 7, 'n_estimators': 300}\n",
      "-----\n",
      "  \n"
     ]
    }
   ],
   "source": [
    "\n",
    "\n",
    "log.append(f'''now trying with 'ohe'ing one more col - pre_loans_max_overdue_sum''')\n",
    "\n",
    "for share in tqdm.notebook.tqdm(shares, desc=\"cycling through share variants\"):\n",
    "# for share in shares:\n",
    "    df2, df_transformed_test = train_test_split(res, stratify=res['flag'], test_size=0.2)\n",
    "\n",
    "    df2 = sample_df(df2,round(df2.flag.value_counts()[1] / share[1] * 100-1, 0) , share[0], share[1])\n",
    "\n",
    "#     X, y = df2.drop('flag', axis=1), df2.flag\n",
    "\n",
    "    # Split the dataset into training and testing sets\n",
    "#     X_train, X_test, y_train, y_test = train_test_split(X, y, test_size=0.2)\n",
    "    X_train, y_train = df2.drop('flag', axis=1), df2.flag\n",
    "    \n",
    "    X_test, y_test = df_transformed_test.drop('flag', axis=1), df_transformed_test.flag\n",
    "\n",
    "    # Define the XGBoost classifier\n",
    "    model = xgb.XGBClassifier()\n",
    "\n",
    "    # Define the parameter grid for GridSearchCV\n",
    "    param_grid = {\n",
    "        'max_depth': [5, 7],#, 3],\n",
    "        'learning_rate': [0.1],#, 0.01],\n",
    "        'n_estimators': [300, 200],\n",
    "    }\n",
    "    \n",
    "#     param_grid = {\n",
    "#     'n_estimators': [ 200, 210], #,100],\n",
    "#     'learning_rate': [0.1],  #[0.05, 0.1, 0.2],\n",
    "#     'max_depth': [ 4, 5], # ,3],\n",
    "#     'subsample': [0.9, 1.0,0.8, 0.7],\n",
    "#     'colsample_bytree': [0.8, 0.9]#, 1.0]\n",
    "#     }\n",
    "\n",
    "    # Define ROC AUC as the scoring metric for GridSearchCV\n",
    "    roc_auc_scorer = make_scorer(roc_auc_score, greater_is_better=True, needs_proba=True)\n",
    "\n",
    "    # Perform GridSearchCV with ROC AUC as the scoring metric\n",
    "    grid_search = GridSearchCV(model, param_grid, cv=5, scoring=roc_auc_scorer)\n",
    "    grid_search.fit(X_train, y_train)\n",
    "\n",
    "    # Get the best model from GridSearchCV\n",
    "    best_model = grid_search.best_estimator_\n",
    "\n",
    "    # Make predictions on the test set using the best model\n",
    "    y_pred_proba = best_model.predict_proba(X_test)\n",
    "    roc_auc = roc_auc_score(y_test, y_pred_proba[:, 1], multi_class='ovr')\n",
    "    print('shares for neg/pos are:', share)\n",
    "    print('Best Model ROC AUC:', roc_auc)\n",
    "    print('Best params:', grid_search.best_params_)\n",
    "    print('-----')\n",
    "    print('  ')\n",
    "    log.append(f'shares are {share}, fit size {len(X_train)}, {res.shape[1]} cols, score {roc_auc}')"
   ]
  },
  {
   "cell_type": "code",
   "execution_count": 40,
   "id": "96999932",
   "metadata": {
    "scrolled": true
   },
   "outputs": [
    {
     "data": {
      "text/plain": [
       "[\"now trying with 'ohe'ing one more col - pre_loans_max_overdue_sum\",\n",
       " 'shares are (40, 60), fit size 532208, 135 cols, score 0.7648398722386806',\n",
       " 'shares are (50, 50), fit size 532208, 135 cols, score 0.7649268557177284',\n",
       " 'shares are (60, 40), fit size 532208, 135 cols, score 0.7637724130254286',\n",
       " 'shares are (70, 30), fit size 532208, 135 cols, score 0.7635760290628861',\n",
       " 'shares are (80, 20), fit size 532208, 135 cols, score 0.761758429933967',\n",
       " \"now trying with 'ohe'ing one more col - pre_loans_max_overdue_sum\",\n",
       " \"now trying with 'ohe'ing one more col - pre_loans_max_overdue_sum\",\n",
       " \"now trying with 'ohe'ing one more col - pre_loans_max_overdue_sum\",\n",
       " 'shares are (30, 70), fit size 121647, 135 cols, score 0.7238084333492668',\n",
       " 'shares are (40, 60), fit size 141921, 135 cols, score 0.7262030570041587',\n",
       " 'shares are (50, 50), fit size 170306, 135 cols, score 0.7260096062081343',\n",
       " 'shares are (60, 40), fit size 212883, 135 cols, score 0.7297841214946539',\n",
       " 'shares are (70, 30), fit size 283845, 135 cols, score 0.7296640024996561',\n",
       " 'shares are (80, 20), fit size 425768, 135 cols, score 0.7273846250031929']"
      ]
     },
     "execution_count": 40,
     "metadata": {},
     "output_type": "execute_result"
    }
   ],
   "source": [
    "log"
   ]
  },
  {
   "cell_type": "code",
   "execution_count": 41,
   "id": "56a77177",
   "metadata": {},
   "outputs": [
    {
     "data": {
      "application/vnd.jupyter.widget-view+json": {
       "model_id": "55fb66ab7d3b48e1863299efc9371837",
       "version_major": 2,
       "version_minor": 0
      },
      "text/plain": [
       "cycling through share variants:   0%|          | 0/6 [00:00<?, ?it/s]"
      ]
     },
     "metadata": {},
     "output_type": "display_data"
    },
    {
     "name": "stdout",
     "output_type": "stream",
     "text": [
      "shares for neg/pos are: (30, 70)\n",
      "Best Model ROC AUC: 0.7354964466692765\n",
      "Best params: {'learning_rate': 0.1, 'max_depth': 5, 'n_estimators': 300}\n",
      "-----\n",
      "  \n",
      "shares for neg/pos are: (40, 60)\n",
      "Best Model ROC AUC: 0.737865680379252\n",
      "Best params: {'learning_rate': 0.1, 'max_depth': 5, 'n_estimators': 300}\n",
      "-----\n",
      "  \n",
      "shares for neg/pos are: (50, 50)\n",
      "Best Model ROC AUC: 0.7426366316311475\n",
      "Best params: {'learning_rate': 0.1, 'max_depth': 5, 'n_estimators': 300}\n",
      "-----\n",
      "  \n",
      "shares for neg/pos are: (60, 40)\n",
      "Best Model ROC AUC: 0.7394151460984678\n",
      "Best params: {'learning_rate': 0.1, 'max_depth': 5, 'n_estimators': 300}\n",
      "-----\n",
      "  \n",
      "shares for neg/pos are: (70, 30)\n",
      "Best Model ROC AUC: 0.7635593350429105\n",
      "Best params: {'learning_rate': 0.1, 'max_depth': 7, 'n_estimators': 300}\n",
      "-----\n",
      "  \n",
      "shares for neg/pos are: (80, 20)\n",
      "Best Model ROC AUC: 0.7689510939856623\n",
      "Best params: {'learning_rate': 0.1, 'max_depth': 7, 'n_estimators': 300}\n",
      "-----\n",
      "  \n"
     ]
    }
   ],
   "source": [
    "\n",
    "\n",
    "log.append(f'''now trying with 'ohe'ing one more col - pre_loans_max_overdue_sum''')\n",
    "\n",
    "for share in tqdm.notebook.tqdm(shares, desc=\"cycling through share variants\"):\n",
    "# for share in shares:\n",
    "    df2, df_transformed_test = train_test_split(res, stratify=res['flag'], test_size=0.2)\n",
    "\n",
    "    df2 = sample_df(res,round(res.flag.value_counts()[1] / share[1] * 100-1, 0) , share[0], share[1])\n",
    "\n",
    "#     X, y = df2.drop('flag', axis=1), df2.flag\n",
    "\n",
    "    # Split the dataset into training and testing sets\n",
    "#     X_train, X_test, y_train, y_test = train_test_split(X, y, test_size=0.2)\n",
    "    X_train, y_train = df2.drop('flag', axis=1), df2.flag\n",
    "    \n",
    "    X_test, y_test = df_transformed_test.drop('flag', axis=1), df_transformed_test.flag\n",
    "\n",
    "    # Define the XGBoost classifier\n",
    "    model = xgb.XGBClassifier()\n",
    "\n",
    "    # Define the parameter grid for GridSearchCV\n",
    "    param_grid = {\n",
    "        'max_depth': [5, 7],#, 3],\n",
    "        'learning_rate': [0.1],#, 0.01],\n",
    "        'n_estimators': [300, 200],\n",
    "    }\n",
    "    \n",
    "#     param_grid = {\n",
    "#     'n_estimators': [ 200, 210], #,100],\n",
    "#     'learning_rate': [0.1],  #[0.05, 0.1, 0.2],\n",
    "#     'max_depth': [ 4, 5], # ,3],\n",
    "#     'subsample': [0.9, 1.0,0.8, 0.7],\n",
    "#     'colsample_bytree': [0.8, 0.9]#, 1.0]\n",
    "#     }\n",
    "\n",
    "    # Define ROC AUC as the scoring metric for GridSearchCV\n",
    "    roc_auc_scorer = make_scorer(roc_auc_score, greater_is_better=True, needs_proba=True)\n",
    "\n",
    "    # Perform GridSearchCV with ROC AUC as the scoring metric\n",
    "    grid_search = GridSearchCV(model, param_grid, cv=5, scoring=roc_auc_scorer)\n",
    "    grid_search.fit(X_train, y_train)\n",
    "\n",
    "    # Get the best model from GridSearchCV\n",
    "    best_model = grid_search.best_estimator_\n",
    "\n",
    "    # Make predictions on the test set using the best model\n",
    "    y_pred_proba = best_model.predict_proba(X_test)\n",
    "    roc_auc = roc_auc_score(y_test, y_pred_proba[:, 1], multi_class='ovr')\n",
    "    print('shares for neg/pos are:', share)\n",
    "    print('Best Model ROC AUC:', roc_auc)\n",
    "    print('Best params:', grid_search.best_params_)\n",
    "    print('-----')\n",
    "    print('  ')\n",
    "    log.append(f'shares are {share}, fit size {len(X_train)}, {res.shape[1]} cols, score {roc_auc}')"
   ]
  },
  {
   "cell_type": "code",
   "execution_count": 42,
   "id": "e3b03198",
   "metadata": {},
   "outputs": [
    {
     "data": {
      "text/plain": [
       "[\"now trying with 'ohe'ing one more col - pre_loans_max_overdue_sum\",\n",
       " 'shares are (40, 60), fit size 532208, 135 cols, score 0.7648398722386806',\n",
       " 'shares are (50, 50), fit size 532208, 135 cols, score 0.7649268557177284',\n",
       " 'shares are (60, 40), fit size 532208, 135 cols, score 0.7637724130254286',\n",
       " 'shares are (70, 30), fit size 532208, 135 cols, score 0.7635760290628861',\n",
       " 'shares are (80, 20), fit size 532208, 135 cols, score 0.761758429933967',\n",
       " \"now trying with 'ohe'ing one more col - pre_loans_max_overdue_sum\",\n",
       " \"now trying with 'ohe'ing one more col - pre_loans_max_overdue_sum\",\n",
       " \"now trying with 'ohe'ing one more col - pre_loans_max_overdue_sum\",\n",
       " 'shares are (30, 70), fit size 121647, 135 cols, score 0.7238084333492668',\n",
       " 'shares are (40, 60), fit size 141921, 135 cols, score 0.7262030570041587',\n",
       " 'shares are (50, 50), fit size 170306, 135 cols, score 0.7260096062081343',\n",
       " 'shares are (60, 40), fit size 212883, 135 cols, score 0.7297841214946539',\n",
       " 'shares are (70, 30), fit size 283845, 135 cols, score 0.7296640024996561',\n",
       " 'shares are (80, 20), fit size 425768, 135 cols, score 0.7273846250031929',\n",
       " \"now trying with 'ohe'ing one more col - pre_loans_max_overdue_sum\",\n",
       " 'shares are (30, 70), fit size 152058, 135 cols, score 0.7354964466692765',\n",
       " 'shares are (40, 60), fit size 177401, 135 cols, score 0.737865680379252',\n",
       " 'shares are (50, 50), fit size 212882, 135 cols, score 0.7426366316311475',\n",
       " 'shares are (60, 40), fit size 266103, 135 cols, score 0.7394151460984678',\n",
       " 'shares are (70, 30), fit size 354805, 135 cols, score 0.7635593350429105',\n",
       " 'shares are (80, 20), fit size 532208, 135 cols, score 0.7689510939856623']"
      ]
     },
     "execution_count": 42,
     "metadata": {},
     "output_type": "execute_result"
    }
   ],
   "source": [
    "log"
   ]
  },
  {
   "cell_type": "code",
   "execution_count": null,
   "id": "1ce82268",
   "metadata": {},
   "outputs": [],
   "source": [
    "res.columns == df_transformed_test.columns"
   ]
  },
  {
   "cell_type": "markdown",
   "id": "498c2442",
   "metadata": {},
   "source": [
    "temp_col = df_transformed_test['enc_loans_credit_type_6']\n",
    "df_transformed_test = df_transformed_test.drop('enc_loans_credit_type_6', axis=1)\n",
    "df_transformed_test['enc_loans_credit_type_6'] = temp_col\n",
    "\n",
    "temp_col = df_transformed_test['enc_loans_credit_type_7']\n",
    "df_transformed_test = df_transformed_test.drop('enc_loans_credit_type_7', axis=1)\n",
    "df_transformed_test['enc_loans_credit_type_7'] = temp_col"
   ]
  },
  {
   "cell_type": "code",
   "execution_count": 102,
   "id": "8b5e5e00",
   "metadata": {},
   "outputs": [
    {
     "data": {
      "application/vnd.jupyter.widget-view+json": {
       "model_id": "48d274681cc4483f9278ddaf72e63c17",
       "version_major": 2,
       "version_minor": 0
      },
      "text/plain": [
       "FloatProgress(value=0.0, layout=Layout(width='auto'), style=ProgressStyle(bar_color='black'))"
      ]
     },
     "metadata": {},
     "output_type": "display_data"
    }
   ],
   "source": [
    "df_test = fastparquet.ParquetFile('train_data/train_data_6.pq').to_pandas()\n",
    "# df_test = pd.merge(df_test, answers, on='id', how='left')\n",
    "\n",
    "\n",
    "answers_func_trf = FunctionTransformer(answers_func)\n",
    "outstanding_loans_summ_trf = FunctionTransformer(outstanding_loans_summ)\n",
    "overdue_and_quick_closure_duck_trf = FunctionTransformer(overdue_and_quick_closure_duck)\n",
    "credit_status_general_mean_trf = FunctionTransformer(credit_status_general_mean)\n",
    "credit_status_prevalent_atm_trf = FunctionTransformer(credit_status_prevalent_atm)\n",
    "ohe_holder_type_and_account_cur_trf = FunctionTransformer(ohe_holder_type_and_account_cur)\n",
    "dropping_cols_trf = FunctionTransformer(dropping_cols)\n",
    "credit_line_length_trf = FunctionTransformer(credit_line_length)\n",
    "max_rn_trf = FunctionTransformer(max_rn)\n",
    "\n",
    "pipeline = Pipeline([\n",
    "    ('answers_func_trf', answers_func_trf),\n",
    "    ('outstanding_loans_summ_trf', outstanding_loans_summ_trf),\n",
    "    ('credit_status_general_mean_trf', credit_status_general_mean_trf),\n",
    "    ('credit_status_prevalent_atm_trf', credit_status_prevalent_atm_trf),\n",
    "    ('overdue_and_quick_closure_duck_trf', overdue_and_quick_closure_duck_trf),\n",
    "    ('ohe_holder_type_and_account_cur_trf', ohe_holder_type_and_account_cur_trf),\n",
    "    ('credit_line_length_trf', credit_line_length_trf),\n",
    "    ('dropping_cols_trf', dropping_cols_trf),\n",
    "    ('max_rn_trf', max_rn_trf),\n",
    "])\n",
    "\n",
    "df_transformed_test = pipeline.fit_transform(df_test)"
   ]
  },
  {
   "cell_type": "code",
   "execution_count": 120,
   "id": "db12e2ee",
   "metadata": {},
   "outputs": [
    {
     "name": "stdout",
     "output_type": "stream",
     "text": [
      "Best Model ROC AUC: 0.7048856268141634\n",
      "-----\n",
      "  \n"
     ]
    }
   ],
   "source": [
    "\n",
    "\n",
    "X_test, y_test = df_transformed_test.drop('flag', axis=1), df_transformed_test.flag\n",
    "y_pred_proba = best_model.predict_proba(X_test)\n",
    "roc_auc = roc_auc_score(y_test, y_pred_proba[:, 1], multi_class='ovr')\n",
    "# print('shares for neg/pos are:', share)\n",
    "print('Best Model ROC AUC:', roc_auc)\n",
    "# print('Best params:', grid_search.best_params_)\n",
    "print('-----')\n",
    "print('  ')\n",
    "# log.append(f'shares are {share}, fit size {len(X)}, {res.shape[1]} cols, score {roc_auc}')\n"
   ]
  },
  {
   "cell_type": "code",
   "execution_count": 87,
   "id": "cdf72f1d",
   "metadata": {},
   "outputs": [],
   "source": [
    "with open('model.pkl', 'wb') as file:\n",
    "    pickle.dump(best_model, file)"
   ]
  },
  {
   "cell_type": "code",
   "execution_count": 25,
   "id": "0055b460",
   "metadata": {},
   "outputs": [],
   "source": [
    "\n",
    "# Load the XGBoost model from the pickle file\n",
    "with open('model.pkl', 'rb') as file:\n",
    "    model_loaded = pickle.load(file)\n"
   ]
  },
  {
   "cell_type": "code",
   "execution_count": null,
   "id": "3862bc00",
   "metadata": {},
   "outputs": [],
   "source": []
  },
  {
   "cell_type": "code",
   "execution_count": null,
   "id": "5d6ad9d8",
   "metadata": {},
   "outputs": [],
   "source": []
  },
  {
   "cell_type": "code",
   "execution_count": null,
   "id": "d0d1247a",
   "metadata": {},
   "outputs": [],
   "source": []
  },
  {
   "cell_type": "code",
   "execution_count": 24,
   "id": "1f920298",
   "metadata": {},
   "outputs": [],
   "source": [
    "df2 = sample_df(res, 200000, 50, 50)"
   ]
  },
  {
   "cell_type": "code",
   "execution_count": 25,
   "id": "839b1bc0",
   "metadata": {},
   "outputs": [
    {
     "name": "stdout",
     "output_type": "stream",
     "text": [
      "Best Model ROC AUC: 0.73722895390651\n",
      "Best params: {'learning_rate': 0.1, 'max_depth': 5, 'n_estimators': 100}\n"
     ]
    }
   ],
   "source": [
    "import xgboost as xgb\n",
    "from sklearn.model_selection import train_test_split, GridSearchCV\n",
    "from sklearn.metrics import roc_auc_score, make_scorer\n",
    "\n",
    "X, y = df2.drop('flag', axis=1), df2.flag\n",
    "\n",
    "# Split the dataset into training and testing sets\n",
    "X_train, X_test, y_train, y_test = train_test_split(X, y, test_size=0.2)\n",
    "\n",
    "# Define the XGBoost classifier\n",
    "model = xgb.XGBClassifier()\n",
    "\n",
    "# Define the parameter grid for GridSearchCV\n",
    "param_grid = {\n",
    "    'max_depth': [3, 5, 7],\n",
    "    'learning_rate': [0.1, 0.01, 0.001],\n",
    "    'n_estimators': [50, 100, 200],\n",
    "}\n",
    "\n",
    "# Define ROC AUC as the scoring metric for GridSearchCV\n",
    "roc_auc_scorer = make_scorer(roc_auc_score, greater_is_better=True, needs_proba=True)\n",
    "\n",
    "# Perform GridSearchCV with ROC AUC as the scoring metric\n",
    "grid_search = GridSearchCV(model, param_grid, cv=3, scoring=roc_auc_scorer)\n",
    "grid_search.fit(X_train, y_train)\n",
    "\n",
    "# Get the best model from GridSearchCV\n",
    "best_model = grid_search.best_estimator_\n",
    "\n",
    "# Make predictions on the test set using the best model\n",
    "y_pred_proba = best_model.predict_proba(X_test)\n",
    "roc_auc = roc_auc_score(y_test, y_pred_proba[:, 1], multi_class='ovr')\n",
    "print('Best Model ROC AUC:', roc_auc)\n",
    "print('Best params:', grid_search.best_params_)"
   ]
  },
  {
   "cell_type": "code",
   "execution_count": 68,
   "id": "b6984e28",
   "metadata": {},
   "outputs": [
    {
     "name": "stdout",
     "output_type": "stream",
     "text": [
      "Model ROC AUC: 0.8293494058181983\n"
     ]
    }
   ],
   "source": [
    "import xgboost as xgb\n",
    "from sklearn.model_selection import train_test_split, GridSearchCV\n",
    "from sklearn.metrics import roc_auc_score, make_scorer\n",
    "\n",
    "X_train, y_train = df2.drop('flag', axis=1), df2.flag\n",
    "X_test, y_test = res2.drop('flag', axis=1), res2.flag\n",
    "\n",
    "\n",
    "# Define the XGBoost classifier\n",
    "model = xgb.XGBClassifier()\n",
    "\n",
    "# Define ROC AUC as the scoring metric for GridSearchCV\n",
    "roc_auc_scorer = make_scorer(roc_auc_score, greater_is_better=True, needs_proba=True)\n",
    "\n",
    "model.fit(X_train, y_train)\n",
    "\n",
    "# Make predictions on the test set using the best model\n",
    "y_pred_proba = model.predict_proba(X_test)\n",
    "roc_auc = roc_auc_score(y_test, y_pred_proba[:, 1], multi_class='ovr')\n",
    "print('Model ROC AUC:', roc_auc)\n"
   ]
  },
  {
   "cell_type": "code",
   "execution_count": 109,
   "id": "bd9b2a54",
   "metadata": {},
   "outputs": [],
   "source": [
    "overdue_and_quick_closure_duck_trf = FunctionTransformer(overdue_and_quick_closure_duck)\n",
    "credit_status_general_mean_trf = FunctionTransformer(credit_status_general_mean)\n",
    "credit_status_prevalent_atm_trf = FunctionTransformer(credit_status_prevalent_atm)\n",
    "ohe_holder_type_and_account_cur_trf = FunctionTransformer(ohe_holder_type_and_account_cur)\n",
    "dropping_cols_trf = FunctionTransformer(dropping_cols)"
   ]
  },
  {
   "cell_type": "code",
   "execution_count": 121,
   "id": "bd25d9ad",
   "metadata": {},
   "outputs": [],
   "source": [
    "\n",
    "df = df_backup.copy()"
   ]
  },
  {
   "cell_type": "code",
   "execution_count": 122,
   "id": "d3162eae",
   "metadata": {},
   "outputs": [],
   "source": [
    "overdue_and_quick_closure_duck_trf = FunctionTransformer(overdue_and_quick_closure_duck)\n",
    "credit_status_general_mean_trf = FunctionTransformer(credit_status_general_mean)\n",
    "credit_status_prevalent_atm_trf = FunctionTransformer(credit_status_prevalent_atm)\n",
    "ohe_holder_type_and_account_cur_trf = FunctionTransformer(ohe_holder_type_and_account_cur)\n",
    "dropping_cols_trf = FunctionTransformer(dropping_cols)\n",
    "\n",
    "pipeline = Pipeline([\n",
    "    ('overdue_and_quick_closure_duck_trf', overdue_and_quick_closure_duck_trf),\n",
    "    ('credit_status_general_mean_trf', credit_status_general_mean_trf),\n",
    "    ('credit_status_prevalent_atm_trf', credit_status_prevalent_atm_trf),\n",
    "    ('ohe_holder_type_and_account_cur_trf', ohe_holder_type_and_account_cur_trf),\n",
    "    ('dropping_cols_trf', dropping_cols_trf),\n",
    "])\n",
    "\n",
    "\n",
    "# Fit and transform the data through the custom functions\n",
    "df_transformed = pipeline.fit_transform(df)"
   ]
  },
  {
   "cell_type": "code",
   "execution_count": null,
   "id": "9ef5faa9",
   "metadata": {},
   "outputs": [],
   "source": []
  },
  {
   "cell_type": "markdown",
   "id": "206a4d2e",
   "metadata": {},
   "source": [
    "# stage 2  optiomizing engeneering"
   ]
  },
  {
   "cell_type": "code",
   "execution_count": null,
   "id": "cb93ff0b",
   "metadata": {},
   "outputs": [],
   "source": [
    "# blablabla\n",
    "# blablabla"
   ]
  },
  {
   "cell_type": "code",
   "execution_count": 18,
   "id": "383cac98",
   "metadata": {},
   "outputs": [],
   "source": [
    "# blablabla\n",
    "# blablabla# blablabla\n",
    "# blablabla"
   ]
  },
  {
   "cell_type": "markdown",
   "id": "69a52952",
   "metadata": {},
   "source": [
    "# result"
   ]
  },
  {
   "cell_type": "markdown",
   "id": "0ca86143",
   "metadata": {},
   "source": [
    "вся оптимизация превратилась в использование сначала долгой sql-библиотеки вместо панды, а потом менее долгой sql-библиотеки вместо панды"
   ]
  },
  {
   "cell_type": "code",
   "execution_count": 15,
   "id": "4f89c08c",
   "metadata": {},
   "outputs": [],
   "source": []
  },
  {
   "cell_type": "code",
   "execution_count": null,
   "id": "e2987b89",
   "metadata": {},
   "outputs": [],
   "source": []
  },
  {
   "cell_type": "code",
   "execution_count": null,
   "id": "af370d98",
   "metadata": {},
   "outputs": [],
   "source": []
  },
  {
   "cell_type": "code",
   "execution_count": null,
   "id": "28f772f3",
   "metadata": {},
   "outputs": [],
   "source": []
  },
  {
   "cell_type": "markdown",
   "id": "d66d4879",
   "metadata": {},
   "source": []
  },
  {
   "cell_type": "markdown",
   "id": "2beab670",
   "metadata": {},
   "source": [
    "# 1 гиппотеза. Сбалансировать таргет 50/50 \n"
   ]
  },
  {
   "cell_type": "code",
   "execution_count": 31,
   "id": "f697b7eb",
   "metadata": {},
   "outputs": [],
   "source": [
    "df = fastparquet.ParquetFile('train_data/train_data_0.pq').to_pandas()\n",
    "df = pd.merge(df, answers, on='id', how='left')"
   ]
  },
  {
   "cell_type": "code",
   "execution_count": 32,
   "id": "84bff417",
   "metadata": {
    "scrolled": true
   },
   "outputs": [],
   "source": [
    "df_balanced = sample_df(df, 100000, 50, 50)"
   ]
  },
  {
   "cell_type": "code",
   "execution_count": 33,
   "id": "5938a2f0",
   "metadata": {},
   "outputs": [],
   "source": [
    "results_dict = dict()"
   ]
  },
  {
   "cell_type": "code",
   "execution_count": 34,
   "id": "b39eba05",
   "metadata": {},
   "outputs": [],
   "source": [
    "models = [\n",
    "    KNeighborsClassifier(),\n",
    "    SVC(),\n",
    "    RandomForestClassifier(),\n",
    "    MLPClassifier(),\n",
    "    LogisticRegression(),\n",
    "    DecisionTreeClassifier(),\n",
    "    GaussianNB(),\n",
    "]\n"
   ]
  },
  {
   "cell_type": "code",
   "execution_count": 35,
   "id": "a1913f76",
   "metadata": {},
   "outputs": [],
   "source": [
    "x = df_balanced.drop('flag', axis=1)\n",
    "y = df_balanced['flag']\n"
   ]
  },
  {
   "cell_type": "code",
   "execution_count": 36,
   "id": "563732c9",
   "metadata": {},
   "outputs": [],
   "source": [
    "for model in models:\n",
    "    \n",
    "    cv_scores = cross_val_score(model, x, y, cv=3, scoring='roc_auc')\n",
    "    results_dict[str(model)[0:str(model).find('(')]] = mean(cv_scores)\n"
   ]
  },
  {
   "cell_type": "code",
   "execution_count": 37,
   "id": "b1fcae37",
   "metadata": {},
   "outputs": [
    {
     "data": {
      "text/plain": [
       "{'KNeighborsClassifier': 0.7986540612101817,\n",
       " 'SVC': 0.5027418088562982,\n",
       " 'RandomForestClassifier': 0.6509268064456147,\n",
       " 'MLPClassifier': 0.5473555645559914,\n",
       " 'LogisticRegression': 0.5259611913892658,\n",
       " 'DecisionTreeClassifier': 0.5501900048402487,\n",
       " 'GaussianNB': 0.5848770829222858}"
      ]
     },
     "execution_count": 37,
     "metadata": {},
     "output_type": "execute_result"
    }
   ],
   "source": [
    "results_dict"
   ]
  },
  {
   "cell_type": "code",
   "execution_count": 38,
   "id": "a5b86e54",
   "metadata": {},
   "outputs": [
    {
     "name": "stdout",
     "output_type": "stream",
     "text": [
      "Best Parameters: {'max_depth': None, 'min_samples_leaf': 4, 'min_samples_split': 2, 'n_estimators': 200}\n",
      "Best Score: 0.6631174643288474\n"
     ]
    }
   ],
   "source": [
    "model = RandomForestClassifier()\n",
    "\n",
    "# param_grid = {\n",
    "#     'n_neighbors': [3, 5, 7, 9],\n",
    "#     'weights': ['uniform', 'distance'],\n",
    "#     'p': [1, 2]  # 1 for Manhattan distance, 2 for Euclidean distance\n",
    "# }\n",
    "\n",
    "param_grid = {\n",
    "    'n_estimators': [50, 100, 200],\n",
    "    'max_depth': [None, 5, 10, 20],\n",
    "    'min_samples_split': [2, 5, 10],\n",
    "    'min_samples_leaf': [1, 2, 4]\n",
    "}\n",
    "\n",
    "grid_search = GridSearchCV(estimator=model, param_grid=param_grid, cv=3, scoring='roc_auc')\n",
    "grid_search.fit(x, y)\n",
    "\n",
    "best_params = grid_search.best_params_\n",
    "best_score = grid_search.best_score_\n",
    "\n",
    "print(\"Best Parameters:\", best_params)\n",
    "print(\"Best Score:\", best_score)"
   ]
  },
  {
   "cell_type": "code",
   "execution_count": 39,
   "id": "2bc3e2dc",
   "metadata": {},
   "outputs": [],
   "source": [
    "model = KNeighborsClassifier(n_neighbors=5, p=2, weights='distance')"
   ]
  },
  {
   "cell_type": "code",
   "execution_count": 40,
   "id": "d3254480",
   "metadata": {},
   "outputs": [
    {
     "data": {
      "text/html": [
       "<style>#sk-container-id-1 {color: black;background-color: white;}#sk-container-id-1 pre{padding: 0;}#sk-container-id-1 div.sk-toggleable {background-color: white;}#sk-container-id-1 label.sk-toggleable__label {cursor: pointer;display: block;width: 100%;margin-bottom: 0;padding: 0.3em;box-sizing: border-box;text-align: center;}#sk-container-id-1 label.sk-toggleable__label-arrow:before {content: \"▸\";float: left;margin-right: 0.25em;color: #696969;}#sk-container-id-1 label.sk-toggleable__label-arrow:hover:before {color: black;}#sk-container-id-1 div.sk-estimator:hover label.sk-toggleable__label-arrow:before {color: black;}#sk-container-id-1 div.sk-toggleable__content {max-height: 0;max-width: 0;overflow: hidden;text-align: left;background-color: #f0f8ff;}#sk-container-id-1 div.sk-toggleable__content pre {margin: 0.2em;color: black;border-radius: 0.25em;background-color: #f0f8ff;}#sk-container-id-1 input.sk-toggleable__control:checked~div.sk-toggleable__content {max-height: 200px;max-width: 100%;overflow: auto;}#sk-container-id-1 input.sk-toggleable__control:checked~label.sk-toggleable__label-arrow:before {content: \"▾\";}#sk-container-id-1 div.sk-estimator input.sk-toggleable__control:checked~label.sk-toggleable__label {background-color: #d4ebff;}#sk-container-id-1 div.sk-label input.sk-toggleable__control:checked~label.sk-toggleable__label {background-color: #d4ebff;}#sk-container-id-1 input.sk-hidden--visually {border: 0;clip: rect(1px 1px 1px 1px);clip: rect(1px, 1px, 1px, 1px);height: 1px;margin: -1px;overflow: hidden;padding: 0;position: absolute;width: 1px;}#sk-container-id-1 div.sk-estimator {font-family: monospace;background-color: #f0f8ff;border: 1px dotted black;border-radius: 0.25em;box-sizing: border-box;margin-bottom: 0.5em;}#sk-container-id-1 div.sk-estimator:hover {background-color: #d4ebff;}#sk-container-id-1 div.sk-parallel-item::after {content: \"\";width: 100%;border-bottom: 1px solid gray;flex-grow: 1;}#sk-container-id-1 div.sk-label:hover label.sk-toggleable__label {background-color: #d4ebff;}#sk-container-id-1 div.sk-serial::before {content: \"\";position: absolute;border-left: 1px solid gray;box-sizing: border-box;top: 0;bottom: 0;left: 50%;z-index: 0;}#sk-container-id-1 div.sk-serial {display: flex;flex-direction: column;align-items: center;background-color: white;padding-right: 0.2em;padding-left: 0.2em;position: relative;}#sk-container-id-1 div.sk-item {position: relative;z-index: 1;}#sk-container-id-1 div.sk-parallel {display: flex;align-items: stretch;justify-content: center;background-color: white;position: relative;}#sk-container-id-1 div.sk-item::before, #sk-container-id-1 div.sk-parallel-item::before {content: \"\";position: absolute;border-left: 1px solid gray;box-sizing: border-box;top: 0;bottom: 0;left: 50%;z-index: -1;}#sk-container-id-1 div.sk-parallel-item {display: flex;flex-direction: column;z-index: 1;position: relative;background-color: white;}#sk-container-id-1 div.sk-parallel-item:first-child::after {align-self: flex-end;width: 50%;}#sk-container-id-1 div.sk-parallel-item:last-child::after {align-self: flex-start;width: 50%;}#sk-container-id-1 div.sk-parallel-item:only-child::after {width: 0;}#sk-container-id-1 div.sk-dashed-wrapped {border: 1px dashed gray;margin: 0 0.4em 0.5em 0.4em;box-sizing: border-box;padding-bottom: 0.4em;background-color: white;}#sk-container-id-1 div.sk-label label {font-family: monospace;font-weight: bold;display: inline-block;line-height: 1.2em;}#sk-container-id-1 div.sk-label-container {text-align: center;}#sk-container-id-1 div.sk-container {/* jupyter's `normalize.less` sets `[hidden] { display: none; }` but bootstrap.min.css set `[hidden] { display: none !important; }` so we also need the `!important` here to be able to override the default hidden behavior on the sphinx rendered scikit-learn.org. See: https://github.com/scikit-learn/scikit-learn/issues/21755 */display: inline-block !important;position: relative;}#sk-container-id-1 div.sk-text-repr-fallback {display: none;}</style><div id=\"sk-container-id-1\" class=\"sk-top-container\"><div class=\"sk-text-repr-fallback\"><pre>KNeighborsClassifier(weights=&#x27;distance&#x27;)</pre><b>In a Jupyter environment, please rerun this cell to show the HTML representation or trust the notebook. <br />On GitHub, the HTML representation is unable to render, please try loading this page with nbviewer.org.</b></div><div class=\"sk-container\" hidden><div class=\"sk-item\"><div class=\"sk-estimator sk-toggleable\"><input class=\"sk-toggleable__control sk-hidden--visually\" id=\"sk-estimator-id-1\" type=\"checkbox\" checked><label for=\"sk-estimator-id-1\" class=\"sk-toggleable__label sk-toggleable__label-arrow\">KNeighborsClassifier</label><div class=\"sk-toggleable__content\"><pre>KNeighborsClassifier(weights=&#x27;distance&#x27;)</pre></div></div></div></div></div>"
      ],
      "text/plain": [
       "KNeighborsClassifier(weights='distance')"
      ]
     },
     "execution_count": 40,
     "metadata": {},
     "output_type": "execute_result"
    }
   ],
   "source": [
    "model.fit(x,y)"
   ]
  },
  {
   "cell_type": "code",
   "execution_count": 41,
   "id": "ad2686e9",
   "metadata": {},
   "outputs": [],
   "source": [
    "df2 = fastparquet.ParquetFile('train_data/train_data_1.pq').to_pandas()\n",
    "df2 = pd.merge(df2, answers, on='id', how='left')"
   ]
  },
  {
   "cell_type": "code",
   "execution_count": 42,
   "id": "da71b2d3",
   "metadata": {},
   "outputs": [],
   "source": [
    "x_test = df2.drop('flag', axis=1)\n",
    "y_test = df2['flag']"
   ]
  },
  {
   "cell_type": "code",
   "execution_count": 43,
   "id": "f894afa9",
   "metadata": {},
   "outputs": [
    {
     "name": "stdout",
     "output_type": "stream",
     "text": [
      "ROC AUC Score: 0.5025822510899185\n"
     ]
    }
   ],
   "source": [
    "y_pred_prob = model.predict_proba(x_test)[:, 1]\n",
    "\n",
    "# Calculate the ROC AUC score\n",
    "roc_auc = roc_auc_score(y_test, y_pred_prob)\n",
    "\n",
    "print(\"ROC AUC Score:\", roc_auc)"
   ]
  },
  {
   "cell_type": "markdown",
   "id": "dd374bf6",
   "metadata": {},
   "source": [
    "## результат\n",
    "не работает:\n",
    "ни одна из моделей не дала сколько нибудь интересной метрики за исключением:\n",
    "1) KNN - при CV в рамках одного сета дает неправдоподобные 0,8 без инжиниринга, но на тестовом сете - ~0,5 как и остальные - а я то уж обрадовался:((\n",
    "2) лес дает скромные 0,65 - в теории если бы нашлась еще одна модель, которая хотя бы сносно что то предсказывала - можно было бы попробовать заставить их работать в паре\n",
    "\n",
    "подробнее в блокноте"
   ]
  },
  {
   "cell_type": "code",
   "execution_count": null,
   "id": "8fb35176",
   "metadata": {},
   "outputs": [],
   "source": []
  },
  {
   "cell_type": "markdown",
   "id": "1d5d8b7c",
   "metadata": {},
   "source": [
    "# 2 гиппотеза.  Берем последний продукт для каждого id"
   ]
  },
  {
   "cell_type": "code",
   "execution_count": 9,
   "id": "fb64aa85",
   "metadata": {},
   "outputs": [],
   "source": [
    "df = fastparquet.ParquetFile('train_data/train_data_0.pq').to_pandas()\n",
    "df = pd.merge(df, answers, on='id', how='left')"
   ]
  },
  {
   "cell_type": "code",
   "execution_count": null,
   "id": "0238c5fd",
   "metadata": {},
   "outputs": [],
   "source": [
    "id_list = list(df.id.unique())"
   ]
  },
  {
   "cell_type": "code",
   "execution_count": 10,
   "id": "2ca06f1d",
   "metadata": {},
   "outputs": [],
   "source": [
    "try:\n",
    "    id_list = []\n",
    "    with open('id_list_0.txt', 'r') as file:\n",
    "        for line in file:\n",
    "            id_list.append(\n",
    "                (\n",
    "                    eval(line.strip().split(', ')[0].replace('(','')), \n",
    "                    eval(line.strip().split(', ')[1].replace(')',''))\n",
    "                )\n",
    "            )\n",
    "    \n",
    "    \n",
    "except FileNotFoundError:\n",
    "    are_you_sure = input('''are you sure? this'll take a long time. y/n ''')\n",
    "    if are_you_sure == 'y':\n",
    "        id_list = list(df.id.unique())\n",
    "        for entry in range(len(id_list)):\n",
    "            id_list[entry] =(id_list[entry], max(df[df.id == id_list[entry]].rn))\n",
    "\n",
    "        with open('id_list_0.txt', 'w') as file:\n",
    "            for item in id_list:\n",
    "                file.write(str( item)+'\\n')\n",
    "    "
   ]
  },
  {
   "cell_type": "code",
   "execution_count": 61,
   "id": "eddf797d",
   "metadata": {},
   "outputs": [],
   "source": [
    "df_cut = df[(df.id == id_list[0][0] )& (df.rn == id_list[0][1])]\n",
    "for i in range(len(id_list)):\n",
    "    new_row = df[(df.id == id_list[i][0])& (df.rn == id_list[i][1])]\n",
    "    df_cut = pd.concat([df_cut, new_row], ignore_index=True)"
   ]
  },
  {
   "cell_type": "code",
   "execution_count": 68,
   "id": "21b0a23d",
   "metadata": {},
   "outputs": [],
   "source": [
    "df_cut = df_cut.drop(0, axis=0)"
   ]
  },
  {
   "cell_type": "code",
   "execution_count": 77,
   "id": "6161d84f",
   "metadata": {},
   "outputs": [],
   "source": [
    "df_cut = pd.read_csv('train_data/df_only_last_product_0.csv')"
   ]
  },
  {
   "cell_type": "code",
   "execution_count": 74,
   "id": "abd5855b",
   "metadata": {},
   "outputs": [],
   "source": [
    "df_cut.to_csv('train_data/df_only_last_product_0.csv', index=False)  "
   ]
  },
  {
   "cell_type": "code",
   "execution_count": null,
   "id": "c63e56c7",
   "metadata": {},
   "outputs": [],
   "source": []
  },
  {
   "cell_type": "code",
   "execution_count": 37,
   "id": "4ffa374b",
   "metadata": {},
   "outputs": [],
   "source": [
    "models = [\n",
    "    KNeighborsClassifier(),\n",
    "    SVC(),\n",
    "    RandomForestClassifier(),\n",
    "    MLPClassifier(),\n",
    "    LogisticRegression(),\n",
    "    DecisionTreeClassifier(),\n",
    "    GaussianNB(),\n",
    "]\n",
    "#     xgb(),\n",
    "#     lgb(),\n",
    "# ]"
   ]
  },
  {
   "cell_type": "code",
   "execution_count": 11,
   "id": "dd536407",
   "metadata": {},
   "outputs": [],
   "source": [
    "x = df_cut.drop('flag', axis=1)\n",
    "y = df_cut['flag']\n"
   ]
  },
  {
   "cell_type": "code",
   "execution_count": 12,
   "id": "cbddc52a",
   "metadata": {},
   "outputs": [],
   "source": [
    "results_dict = dict()"
   ]
  },
  {
   "cell_type": "code",
   "execution_count": 81,
   "id": "5c74f639",
   "metadata": {},
   "outputs": [],
   "source": [
    "for model in models:\n",
    "    \n",
    "    cv_scores = cross_val_score(model, x, y, cv=3, scoring='roc_auc')\n",
    "    results_dict[str(model)[0:str(model).find('(')]] = mean(cv_scores)\n"
   ]
  },
  {
   "cell_type": "code",
   "execution_count": 82,
   "id": "83f46ef7",
   "metadata": {},
   "outputs": [
    {
     "data": {
      "text/plain": [
       "{'KNeighborsClassifier': 0.5014837697443463,\n",
       " 'SVC': 0.5041829161493093,\n",
       " 'RandomForestClassifier': 0.6342966486892172,\n",
       " 'MLPClassifier': 0.4885521343602927,\n",
       " 'LogisticRegression': 0.5325920477964842,\n",
       " 'DecisionTreeClassifier': 0.5332065228519628,\n",
       " 'GaussianNB': 0.6265383537138974}"
      ]
     },
     "execution_count": 82,
     "metadata": {},
     "output_type": "execute_result"
    }
   ],
   "source": [
    "results_dict"
   ]
  },
  {
   "cell_type": "code",
   "execution_count": 13,
   "id": "0ce44609",
   "metadata": {
    "collapsed": true
   },
   "outputs": [
    {
     "ename": "KeyboardInterrupt",
     "evalue": "",
     "output_type": "error",
     "traceback": [
      "\u001b[1;31m---------------------------------------------------------------------------\u001b[0m",
      "\u001b[1;31mKeyboardInterrupt\u001b[0m                         Traceback (most recent call last)",
      "Cell \u001b[1;32mIn[13], line 2\u001b[0m\n\u001b[0;32m      1\u001b[0m model \u001b[38;5;241m=\u001b[39m RandomForestClassifier()\n\u001b[1;32m----> 2\u001b[0m model\u001b[38;5;241m.\u001b[39mfit(x, y)\n",
      "File \u001b[1;32m~\\AppData\\Roaming\\Python\\Python311\\site-packages\\sklearn\\ensemble\\_forest.py:473\u001b[0m, in \u001b[0;36mBaseForest.fit\u001b[1;34m(self, X, y, sample_weight)\u001b[0m\n\u001b[0;32m    462\u001b[0m trees \u001b[38;5;241m=\u001b[39m [\n\u001b[0;32m    463\u001b[0m     \u001b[38;5;28mself\u001b[39m\u001b[38;5;241m.\u001b[39m_make_estimator(append\u001b[38;5;241m=\u001b[39m\u001b[38;5;28;01mFalse\u001b[39;00m, random_state\u001b[38;5;241m=\u001b[39mrandom_state)\n\u001b[0;32m    464\u001b[0m     \u001b[38;5;28;01mfor\u001b[39;00m i \u001b[38;5;129;01min\u001b[39;00m \u001b[38;5;28mrange\u001b[39m(n_more_estimators)\n\u001b[0;32m    465\u001b[0m ]\n\u001b[0;32m    467\u001b[0m \u001b[38;5;66;03m# Parallel loop: we prefer the threading backend as the Cython code\u001b[39;00m\n\u001b[0;32m    468\u001b[0m \u001b[38;5;66;03m# for fitting the trees is internally releasing the Python GIL\u001b[39;00m\n\u001b[0;32m    469\u001b[0m \u001b[38;5;66;03m# making threading more efficient than multiprocessing in\u001b[39;00m\n\u001b[0;32m    470\u001b[0m \u001b[38;5;66;03m# that case. However, for joblib 0.12+ we respect any\u001b[39;00m\n\u001b[0;32m    471\u001b[0m \u001b[38;5;66;03m# parallel_backend contexts set at a higher level,\u001b[39;00m\n\u001b[0;32m    472\u001b[0m \u001b[38;5;66;03m# since correctness does not rely on using threads.\u001b[39;00m\n\u001b[1;32m--> 473\u001b[0m trees \u001b[38;5;241m=\u001b[39m Parallel(\n\u001b[0;32m    474\u001b[0m     n_jobs\u001b[38;5;241m=\u001b[39m\u001b[38;5;28mself\u001b[39m\u001b[38;5;241m.\u001b[39mn_jobs,\n\u001b[0;32m    475\u001b[0m     verbose\u001b[38;5;241m=\u001b[39m\u001b[38;5;28mself\u001b[39m\u001b[38;5;241m.\u001b[39mverbose,\n\u001b[0;32m    476\u001b[0m     prefer\u001b[38;5;241m=\u001b[39m\u001b[38;5;124m\"\u001b[39m\u001b[38;5;124mthreads\u001b[39m\u001b[38;5;124m\"\u001b[39m,\n\u001b[0;32m    477\u001b[0m )(\n\u001b[0;32m    478\u001b[0m     delayed(_parallel_build_trees)(\n\u001b[0;32m    479\u001b[0m         t,\n\u001b[0;32m    480\u001b[0m         \u001b[38;5;28mself\u001b[39m\u001b[38;5;241m.\u001b[39mbootstrap,\n\u001b[0;32m    481\u001b[0m         X,\n\u001b[0;32m    482\u001b[0m         y,\n\u001b[0;32m    483\u001b[0m         sample_weight,\n\u001b[0;32m    484\u001b[0m         i,\n\u001b[0;32m    485\u001b[0m         \u001b[38;5;28mlen\u001b[39m(trees),\n\u001b[0;32m    486\u001b[0m         verbose\u001b[38;5;241m=\u001b[39m\u001b[38;5;28mself\u001b[39m\u001b[38;5;241m.\u001b[39mverbose,\n\u001b[0;32m    487\u001b[0m         class_weight\u001b[38;5;241m=\u001b[39m\u001b[38;5;28mself\u001b[39m\u001b[38;5;241m.\u001b[39mclass_weight,\n\u001b[0;32m    488\u001b[0m         n_samples_bootstrap\u001b[38;5;241m=\u001b[39mn_samples_bootstrap,\n\u001b[0;32m    489\u001b[0m     )\n\u001b[0;32m    490\u001b[0m     \u001b[38;5;28;01mfor\u001b[39;00m i, t \u001b[38;5;129;01min\u001b[39;00m \u001b[38;5;28menumerate\u001b[39m(trees)\n\u001b[0;32m    491\u001b[0m )\n\u001b[0;32m    493\u001b[0m \u001b[38;5;66;03m# Collect newly grown trees\u001b[39;00m\n\u001b[0;32m    494\u001b[0m \u001b[38;5;28mself\u001b[39m\u001b[38;5;241m.\u001b[39mestimators_\u001b[38;5;241m.\u001b[39mextend(trees)\n",
      "File \u001b[1;32m~\\AppData\\Roaming\\Python\\Python311\\site-packages\\sklearn\\utils\\parallel.py:63\u001b[0m, in \u001b[0;36mParallel.__call__\u001b[1;34m(self, iterable)\u001b[0m\n\u001b[0;32m     58\u001b[0m config \u001b[38;5;241m=\u001b[39m get_config()\n\u001b[0;32m     59\u001b[0m iterable_with_config \u001b[38;5;241m=\u001b[39m (\n\u001b[0;32m     60\u001b[0m     (_with_config(delayed_func, config), args, kwargs)\n\u001b[0;32m     61\u001b[0m     \u001b[38;5;28;01mfor\u001b[39;00m delayed_func, args, kwargs \u001b[38;5;129;01min\u001b[39;00m iterable\n\u001b[0;32m     62\u001b[0m )\n\u001b[1;32m---> 63\u001b[0m \u001b[38;5;28;01mreturn\u001b[39;00m \u001b[38;5;28msuper\u001b[39m()\u001b[38;5;241m.\u001b[39m\u001b[38;5;21m__call__\u001b[39m(iterable_with_config)\n",
      "File \u001b[1;32mC:\\ProgramData\\anaconda3\\Lib\\site-packages\\joblib\\parallel.py:1088\u001b[0m, in \u001b[0;36mParallel.__call__\u001b[1;34m(self, iterable)\u001b[0m\n\u001b[0;32m   1085\u001b[0m \u001b[38;5;28;01mif\u001b[39;00m \u001b[38;5;28mself\u001b[39m\u001b[38;5;241m.\u001b[39mdispatch_one_batch(iterator):\n\u001b[0;32m   1086\u001b[0m     \u001b[38;5;28mself\u001b[39m\u001b[38;5;241m.\u001b[39m_iterating \u001b[38;5;241m=\u001b[39m \u001b[38;5;28mself\u001b[39m\u001b[38;5;241m.\u001b[39m_original_iterator \u001b[38;5;129;01mis\u001b[39;00m \u001b[38;5;129;01mnot\u001b[39;00m \u001b[38;5;28;01mNone\u001b[39;00m\n\u001b[1;32m-> 1088\u001b[0m \u001b[38;5;28;01mwhile\u001b[39;00m \u001b[38;5;28mself\u001b[39m\u001b[38;5;241m.\u001b[39mdispatch_one_batch(iterator):\n\u001b[0;32m   1089\u001b[0m     \u001b[38;5;28;01mpass\u001b[39;00m\n\u001b[0;32m   1091\u001b[0m \u001b[38;5;28;01mif\u001b[39;00m pre_dispatch \u001b[38;5;241m==\u001b[39m \u001b[38;5;124m\"\u001b[39m\u001b[38;5;124mall\u001b[39m\u001b[38;5;124m\"\u001b[39m \u001b[38;5;129;01mor\u001b[39;00m n_jobs \u001b[38;5;241m==\u001b[39m \u001b[38;5;241m1\u001b[39m:\n\u001b[0;32m   1092\u001b[0m     \u001b[38;5;66;03m# The iterable was consumed all at once by the above for loop.\u001b[39;00m\n\u001b[0;32m   1093\u001b[0m     \u001b[38;5;66;03m# No need to wait for async callbacks to trigger to\u001b[39;00m\n\u001b[0;32m   1094\u001b[0m     \u001b[38;5;66;03m# consumption.\u001b[39;00m\n",
      "File \u001b[1;32mC:\\ProgramData\\anaconda3\\Lib\\site-packages\\joblib\\parallel.py:901\u001b[0m, in \u001b[0;36mParallel.dispatch_one_batch\u001b[1;34m(self, iterator)\u001b[0m\n\u001b[0;32m    899\u001b[0m     \u001b[38;5;28;01mreturn\u001b[39;00m \u001b[38;5;28;01mFalse\u001b[39;00m\n\u001b[0;32m    900\u001b[0m \u001b[38;5;28;01melse\u001b[39;00m:\n\u001b[1;32m--> 901\u001b[0m     \u001b[38;5;28mself\u001b[39m\u001b[38;5;241m.\u001b[39m_dispatch(tasks)\n\u001b[0;32m    902\u001b[0m     \u001b[38;5;28;01mreturn\u001b[39;00m \u001b[38;5;28;01mTrue\u001b[39;00m\n",
      "File \u001b[1;32mC:\\ProgramData\\anaconda3\\Lib\\site-packages\\joblib\\parallel.py:819\u001b[0m, in \u001b[0;36mParallel._dispatch\u001b[1;34m(self, batch)\u001b[0m\n\u001b[0;32m    817\u001b[0m \u001b[38;5;28;01mwith\u001b[39;00m \u001b[38;5;28mself\u001b[39m\u001b[38;5;241m.\u001b[39m_lock:\n\u001b[0;32m    818\u001b[0m     job_idx \u001b[38;5;241m=\u001b[39m \u001b[38;5;28mlen\u001b[39m(\u001b[38;5;28mself\u001b[39m\u001b[38;5;241m.\u001b[39m_jobs)\n\u001b[1;32m--> 819\u001b[0m     job \u001b[38;5;241m=\u001b[39m \u001b[38;5;28mself\u001b[39m\u001b[38;5;241m.\u001b[39m_backend\u001b[38;5;241m.\u001b[39mapply_async(batch, callback\u001b[38;5;241m=\u001b[39mcb)\n\u001b[0;32m    820\u001b[0m     \u001b[38;5;66;03m# A job can complete so quickly than its callback is\u001b[39;00m\n\u001b[0;32m    821\u001b[0m     \u001b[38;5;66;03m# called before we get here, causing self._jobs to\u001b[39;00m\n\u001b[0;32m    822\u001b[0m     \u001b[38;5;66;03m# grow. To ensure correct results ordering, .insert is\u001b[39;00m\n\u001b[0;32m    823\u001b[0m     \u001b[38;5;66;03m# used (rather than .append) in the following line\u001b[39;00m\n\u001b[0;32m    824\u001b[0m     \u001b[38;5;28mself\u001b[39m\u001b[38;5;241m.\u001b[39m_jobs\u001b[38;5;241m.\u001b[39minsert(job_idx, job)\n",
      "File \u001b[1;32mC:\\ProgramData\\anaconda3\\Lib\\site-packages\\joblib\\_parallel_backends.py:208\u001b[0m, in \u001b[0;36mSequentialBackend.apply_async\u001b[1;34m(self, func, callback)\u001b[0m\n\u001b[0;32m    206\u001b[0m \u001b[38;5;28;01mdef\u001b[39;00m \u001b[38;5;21mapply_async\u001b[39m(\u001b[38;5;28mself\u001b[39m, func, callback\u001b[38;5;241m=\u001b[39m\u001b[38;5;28;01mNone\u001b[39;00m):\n\u001b[0;32m    207\u001b[0m \u001b[38;5;250m    \u001b[39m\u001b[38;5;124;03m\"\"\"Schedule a func to be run\"\"\"\u001b[39;00m\n\u001b[1;32m--> 208\u001b[0m     result \u001b[38;5;241m=\u001b[39m ImmediateResult(func)\n\u001b[0;32m    209\u001b[0m     \u001b[38;5;28;01mif\u001b[39;00m callback:\n\u001b[0;32m    210\u001b[0m         callback(result)\n",
      "File \u001b[1;32mC:\\ProgramData\\anaconda3\\Lib\\site-packages\\joblib\\_parallel_backends.py:597\u001b[0m, in \u001b[0;36mImmediateResult.__init__\u001b[1;34m(self, batch)\u001b[0m\n\u001b[0;32m    594\u001b[0m \u001b[38;5;28;01mdef\u001b[39;00m \u001b[38;5;21m__init__\u001b[39m(\u001b[38;5;28mself\u001b[39m, batch):\n\u001b[0;32m    595\u001b[0m     \u001b[38;5;66;03m# Don't delay the application, to avoid keeping the input\u001b[39;00m\n\u001b[0;32m    596\u001b[0m     \u001b[38;5;66;03m# arguments in memory\u001b[39;00m\n\u001b[1;32m--> 597\u001b[0m     \u001b[38;5;28mself\u001b[39m\u001b[38;5;241m.\u001b[39mresults \u001b[38;5;241m=\u001b[39m batch()\n",
      "File \u001b[1;32mC:\\ProgramData\\anaconda3\\Lib\\site-packages\\joblib\\parallel.py:288\u001b[0m, in \u001b[0;36mBatchedCalls.__call__\u001b[1;34m(self)\u001b[0m\n\u001b[0;32m    284\u001b[0m \u001b[38;5;28;01mdef\u001b[39;00m \u001b[38;5;21m__call__\u001b[39m(\u001b[38;5;28mself\u001b[39m):\n\u001b[0;32m    285\u001b[0m     \u001b[38;5;66;03m# Set the default nested backend to self._backend but do not set the\u001b[39;00m\n\u001b[0;32m    286\u001b[0m     \u001b[38;5;66;03m# change the default number of processes to -1\u001b[39;00m\n\u001b[0;32m    287\u001b[0m     \u001b[38;5;28;01mwith\u001b[39;00m parallel_backend(\u001b[38;5;28mself\u001b[39m\u001b[38;5;241m.\u001b[39m_backend, n_jobs\u001b[38;5;241m=\u001b[39m\u001b[38;5;28mself\u001b[39m\u001b[38;5;241m.\u001b[39m_n_jobs):\n\u001b[1;32m--> 288\u001b[0m         \u001b[38;5;28;01mreturn\u001b[39;00m [func(\u001b[38;5;241m*\u001b[39margs, \u001b[38;5;241m*\u001b[39m\u001b[38;5;241m*\u001b[39mkwargs)\n\u001b[0;32m    289\u001b[0m                 \u001b[38;5;28;01mfor\u001b[39;00m func, args, kwargs \u001b[38;5;129;01min\u001b[39;00m \u001b[38;5;28mself\u001b[39m\u001b[38;5;241m.\u001b[39mitems]\n",
      "File \u001b[1;32mC:\\ProgramData\\anaconda3\\Lib\\site-packages\\joblib\\parallel.py:288\u001b[0m, in \u001b[0;36m<listcomp>\u001b[1;34m(.0)\u001b[0m\n\u001b[0;32m    284\u001b[0m \u001b[38;5;28;01mdef\u001b[39;00m \u001b[38;5;21m__call__\u001b[39m(\u001b[38;5;28mself\u001b[39m):\n\u001b[0;32m    285\u001b[0m     \u001b[38;5;66;03m# Set the default nested backend to self._backend but do not set the\u001b[39;00m\n\u001b[0;32m    286\u001b[0m     \u001b[38;5;66;03m# change the default number of processes to -1\u001b[39;00m\n\u001b[0;32m    287\u001b[0m     \u001b[38;5;28;01mwith\u001b[39;00m parallel_backend(\u001b[38;5;28mself\u001b[39m\u001b[38;5;241m.\u001b[39m_backend, n_jobs\u001b[38;5;241m=\u001b[39m\u001b[38;5;28mself\u001b[39m\u001b[38;5;241m.\u001b[39m_n_jobs):\n\u001b[1;32m--> 288\u001b[0m         \u001b[38;5;28;01mreturn\u001b[39;00m [func(\u001b[38;5;241m*\u001b[39margs, \u001b[38;5;241m*\u001b[39m\u001b[38;5;241m*\u001b[39mkwargs)\n\u001b[0;32m    289\u001b[0m                 \u001b[38;5;28;01mfor\u001b[39;00m func, args, kwargs \u001b[38;5;129;01min\u001b[39;00m \u001b[38;5;28mself\u001b[39m\u001b[38;5;241m.\u001b[39mitems]\n",
      "File \u001b[1;32m~\\AppData\\Roaming\\Python\\Python311\\site-packages\\sklearn\\utils\\parallel.py:123\u001b[0m, in \u001b[0;36m_FuncWrapper.__call__\u001b[1;34m(self, *args, **kwargs)\u001b[0m\n\u001b[0;32m    121\u001b[0m     config \u001b[38;5;241m=\u001b[39m {}\n\u001b[0;32m    122\u001b[0m \u001b[38;5;28;01mwith\u001b[39;00m config_context(\u001b[38;5;241m*\u001b[39m\u001b[38;5;241m*\u001b[39mconfig):\n\u001b[1;32m--> 123\u001b[0m     \u001b[38;5;28;01mreturn\u001b[39;00m \u001b[38;5;28mself\u001b[39m\u001b[38;5;241m.\u001b[39mfunction(\u001b[38;5;241m*\u001b[39margs, \u001b[38;5;241m*\u001b[39m\u001b[38;5;241m*\u001b[39mkwargs)\n",
      "File \u001b[1;32m~\\AppData\\Roaming\\Python\\Python311\\site-packages\\sklearn\\ensemble\\_forest.py:184\u001b[0m, in \u001b[0;36m_parallel_build_trees\u001b[1;34m(tree, bootstrap, X, y, sample_weight, tree_idx, n_trees, verbose, class_weight, n_samples_bootstrap)\u001b[0m\n\u001b[0;32m    181\u001b[0m     \u001b[38;5;28;01melif\u001b[39;00m class_weight \u001b[38;5;241m==\u001b[39m \u001b[38;5;124m\"\u001b[39m\u001b[38;5;124mbalanced_subsample\u001b[39m\u001b[38;5;124m\"\u001b[39m:\n\u001b[0;32m    182\u001b[0m         curr_sample_weight \u001b[38;5;241m*\u001b[39m\u001b[38;5;241m=\u001b[39m compute_sample_weight(\u001b[38;5;124m\"\u001b[39m\u001b[38;5;124mbalanced\u001b[39m\u001b[38;5;124m\"\u001b[39m, y, indices\u001b[38;5;241m=\u001b[39mindices)\n\u001b[1;32m--> 184\u001b[0m     tree\u001b[38;5;241m.\u001b[39mfit(X, y, sample_weight\u001b[38;5;241m=\u001b[39mcurr_sample_weight, check_input\u001b[38;5;241m=\u001b[39m\u001b[38;5;28;01mFalse\u001b[39;00m)\n\u001b[0;32m    185\u001b[0m \u001b[38;5;28;01melse\u001b[39;00m:\n\u001b[0;32m    186\u001b[0m     tree\u001b[38;5;241m.\u001b[39mfit(X, y, sample_weight\u001b[38;5;241m=\u001b[39msample_weight, check_input\u001b[38;5;241m=\u001b[39m\u001b[38;5;28;01mFalse\u001b[39;00m)\n",
      "File \u001b[1;32m~\\AppData\\Roaming\\Python\\Python311\\site-packages\\sklearn\\tree\\_classes.py:889\u001b[0m, in \u001b[0;36mDecisionTreeClassifier.fit\u001b[1;34m(self, X, y, sample_weight, check_input)\u001b[0m\n\u001b[0;32m    859\u001b[0m \u001b[38;5;28;01mdef\u001b[39;00m \u001b[38;5;21mfit\u001b[39m(\u001b[38;5;28mself\u001b[39m, X, y, sample_weight\u001b[38;5;241m=\u001b[39m\u001b[38;5;28;01mNone\u001b[39;00m, check_input\u001b[38;5;241m=\u001b[39m\u001b[38;5;28;01mTrue\u001b[39;00m):\n\u001b[0;32m    860\u001b[0m \u001b[38;5;250m    \u001b[39m\u001b[38;5;124;03m\"\"\"Build a decision tree classifier from the training set (X, y).\u001b[39;00m\n\u001b[0;32m    861\u001b[0m \n\u001b[0;32m    862\u001b[0m \u001b[38;5;124;03m    Parameters\u001b[39;00m\n\u001b[1;32m   (...)\u001b[0m\n\u001b[0;32m    886\u001b[0m \u001b[38;5;124;03m        Fitted estimator.\u001b[39;00m\n\u001b[0;32m    887\u001b[0m \u001b[38;5;124;03m    \"\"\"\u001b[39;00m\n\u001b[1;32m--> 889\u001b[0m     \u001b[38;5;28msuper\u001b[39m()\u001b[38;5;241m.\u001b[39mfit(\n\u001b[0;32m    890\u001b[0m         X,\n\u001b[0;32m    891\u001b[0m         y,\n\u001b[0;32m    892\u001b[0m         sample_weight\u001b[38;5;241m=\u001b[39msample_weight,\n\u001b[0;32m    893\u001b[0m         check_input\u001b[38;5;241m=\u001b[39mcheck_input,\n\u001b[0;32m    894\u001b[0m     )\n\u001b[0;32m    895\u001b[0m     \u001b[38;5;28;01mreturn\u001b[39;00m \u001b[38;5;28mself\u001b[39m\n",
      "File \u001b[1;32m~\\AppData\\Roaming\\Python\\Python311\\site-packages\\sklearn\\tree\\_classes.py:248\u001b[0m, in \u001b[0;36mBaseDecisionTree.fit\u001b[1;34m(self, X, y, sample_weight, check_input)\u001b[0m\n\u001b[0;32m    245\u001b[0m     \u001b[38;5;28mself\u001b[39m\u001b[38;5;241m.\u001b[39mn_classes_ \u001b[38;5;241m=\u001b[39m np\u001b[38;5;241m.\u001b[39marray(\u001b[38;5;28mself\u001b[39m\u001b[38;5;241m.\u001b[39mn_classes_, dtype\u001b[38;5;241m=\u001b[39mnp\u001b[38;5;241m.\u001b[39mintp)\n\u001b[0;32m    247\u001b[0m \u001b[38;5;28;01mif\u001b[39;00m \u001b[38;5;28mgetattr\u001b[39m(y, \u001b[38;5;124m\"\u001b[39m\u001b[38;5;124mdtype\u001b[39m\u001b[38;5;124m\"\u001b[39m, \u001b[38;5;28;01mNone\u001b[39;00m) \u001b[38;5;241m!=\u001b[39m DOUBLE \u001b[38;5;129;01mor\u001b[39;00m \u001b[38;5;129;01mnot\u001b[39;00m y\u001b[38;5;241m.\u001b[39mflags\u001b[38;5;241m.\u001b[39mcontiguous:\n\u001b[1;32m--> 248\u001b[0m     y \u001b[38;5;241m=\u001b[39m np\u001b[38;5;241m.\u001b[39mascontiguousarray(y, dtype\u001b[38;5;241m=\u001b[39mDOUBLE)\n\u001b[0;32m    250\u001b[0m max_depth \u001b[38;5;241m=\u001b[39m np\u001b[38;5;241m.\u001b[39miinfo(np\u001b[38;5;241m.\u001b[39mint32)\u001b[38;5;241m.\u001b[39mmax \u001b[38;5;28;01mif\u001b[39;00m \u001b[38;5;28mself\u001b[39m\u001b[38;5;241m.\u001b[39mmax_depth \u001b[38;5;129;01mis\u001b[39;00m \u001b[38;5;28;01mNone\u001b[39;00m \u001b[38;5;28;01melse\u001b[39;00m \u001b[38;5;28mself\u001b[39m\u001b[38;5;241m.\u001b[39mmax_depth\n\u001b[0;32m    252\u001b[0m \u001b[38;5;28;01mif\u001b[39;00m \u001b[38;5;28misinstance\u001b[39m(\u001b[38;5;28mself\u001b[39m\u001b[38;5;241m.\u001b[39mmin_samples_leaf, numbers\u001b[38;5;241m.\u001b[39mIntegral):\n",
      "\u001b[1;31mKeyboardInterrupt\u001b[0m: "
     ]
    }
   ],
   "source": [
    "model = RandomForestClassifier()\n",
    "model.fit(x, y)"
   ]
  },
  {
   "cell_type": "code",
   "execution_count": 88,
   "id": "3943e1ff",
   "metadata": {},
   "outputs": [
    {
     "name": "stdout",
     "output_type": "stream",
     "text": [
      "ROC AUC Score: 0.5835822646171664\n"
     ]
    }
   ],
   "source": [
    "df = fastparquet.ParquetFile('train_data/train_data_0.pq').to_pandas()\n",
    "df = pd.merge(df, answers, on='id', how='left')"
   ]
  },
  {
   "cell_type": "code",
   "execution_count": null,
   "id": "c7de76c0",
   "metadata": {},
   "outputs": [],
   "source": [
    "df2 = fastparquet.ParquetFile('train_data/train_data_1.pq').to_pandas()\n",
    "df2 = pd.merge(df2, answers, on='id', how='left')"
   ]
  },
  {
   "cell_type": "code",
   "execution_count": null,
   "id": "ba1fe17a",
   "metadata": {},
   "outputs": [],
   "source": [
    "x_test = df2.drop('flag', axis=1)\n",
    "y_test = df2['flag']\n",
    "y_pred_prob = model.predict_proba(x_test)[:, 1]\n",
    "\n",
    "# Calculate the ROC AUC score\n",
    "roc_auc = roc_auc_score(y_test, y_pred_prob)\n",
    "\n",
    "print(\"ROC AUC Score:\", roc_auc)"
   ]
  },
  {
   "cell_type": "code",
   "execution_count": 90,
   "id": "465d8294",
   "metadata": {},
   "outputs": [
    {
     "name": "stdout",
     "output_type": "stream",
     "text": [
      "Best Parameters: {'max_depth': 20, 'min_samples_leaf': 4, 'min_samples_split': 10, 'n_estimators': 200}\n",
      "Best Score: 0.6811226032781477\n"
     ]
    }
   ],
   "source": [
    "# model = RandomForestClassifier()\n",
    "\n",
    "# param_grid = {\n",
    "#     'n_neighbors': [3, 5, 7, 9],\n",
    "#     'weights': ['uniform', 'distance'],\n",
    "#     'p': [1, 2]  # 1 for Manhattan distance, 2 for Euclidean distance\n",
    "# }\n",
    "\n",
    "param_grid = {\n",
    "    'n_estimators': [50, 100, 200],\n",
    "    'max_depth': [None, 5, 10, 20],\n",
    "    'min_samples_split': [2, 5, 10],\n",
    "    'min_samples_leaf': [1, 2, 4]\n",
    "}\n",
    "model = RandomForestClassifier()\n",
    "grid_search = GridSearchCV(estimator=model, param_grid=param_grid, cv=3, scoring='roc_auc')\n",
    "grid_search.fit(x, y)\n",
    "\n",
    "best_params = grid_search.best_params_\n",
    "best_score = grid_search.best_score_\n",
    "\n",
    "print(\"Best Parameters:\", best_params)\n",
    "print(\"Best Score:\", best_score)"
   ]
  },
  {
   "cell_type": "code",
   "execution_count": 14,
   "id": "9b8298c8",
   "metadata": {},
   "outputs": [
    {
     "data": {
      "text/html": [
       "<style>#sk-container-id-1 {color: black;background-color: white;}#sk-container-id-1 pre{padding: 0;}#sk-container-id-1 div.sk-toggleable {background-color: white;}#sk-container-id-1 label.sk-toggleable__label {cursor: pointer;display: block;width: 100%;margin-bottom: 0;padding: 0.3em;box-sizing: border-box;text-align: center;}#sk-container-id-1 label.sk-toggleable__label-arrow:before {content: \"▸\";float: left;margin-right: 0.25em;color: #696969;}#sk-container-id-1 label.sk-toggleable__label-arrow:hover:before {color: black;}#sk-container-id-1 div.sk-estimator:hover label.sk-toggleable__label-arrow:before {color: black;}#sk-container-id-1 div.sk-toggleable__content {max-height: 0;max-width: 0;overflow: hidden;text-align: left;background-color: #f0f8ff;}#sk-container-id-1 div.sk-toggleable__content pre {margin: 0.2em;color: black;border-radius: 0.25em;background-color: #f0f8ff;}#sk-container-id-1 input.sk-toggleable__control:checked~div.sk-toggleable__content {max-height: 200px;max-width: 100%;overflow: auto;}#sk-container-id-1 input.sk-toggleable__control:checked~label.sk-toggleable__label-arrow:before {content: \"▾\";}#sk-container-id-1 div.sk-estimator input.sk-toggleable__control:checked~label.sk-toggleable__label {background-color: #d4ebff;}#sk-container-id-1 div.sk-label input.sk-toggleable__control:checked~label.sk-toggleable__label {background-color: #d4ebff;}#sk-container-id-1 input.sk-hidden--visually {border: 0;clip: rect(1px 1px 1px 1px);clip: rect(1px, 1px, 1px, 1px);height: 1px;margin: -1px;overflow: hidden;padding: 0;position: absolute;width: 1px;}#sk-container-id-1 div.sk-estimator {font-family: monospace;background-color: #f0f8ff;border: 1px dotted black;border-radius: 0.25em;box-sizing: border-box;margin-bottom: 0.5em;}#sk-container-id-1 div.sk-estimator:hover {background-color: #d4ebff;}#sk-container-id-1 div.sk-parallel-item::after {content: \"\";width: 100%;border-bottom: 1px solid gray;flex-grow: 1;}#sk-container-id-1 div.sk-label:hover label.sk-toggleable__label {background-color: #d4ebff;}#sk-container-id-1 div.sk-serial::before {content: \"\";position: absolute;border-left: 1px solid gray;box-sizing: border-box;top: 0;bottom: 0;left: 50%;z-index: 0;}#sk-container-id-1 div.sk-serial {display: flex;flex-direction: column;align-items: center;background-color: white;padding-right: 0.2em;padding-left: 0.2em;position: relative;}#sk-container-id-1 div.sk-item {position: relative;z-index: 1;}#sk-container-id-1 div.sk-parallel {display: flex;align-items: stretch;justify-content: center;background-color: white;position: relative;}#sk-container-id-1 div.sk-item::before, #sk-container-id-1 div.sk-parallel-item::before {content: \"\";position: absolute;border-left: 1px solid gray;box-sizing: border-box;top: 0;bottom: 0;left: 50%;z-index: -1;}#sk-container-id-1 div.sk-parallel-item {display: flex;flex-direction: column;z-index: 1;position: relative;background-color: white;}#sk-container-id-1 div.sk-parallel-item:first-child::after {align-self: flex-end;width: 50%;}#sk-container-id-1 div.sk-parallel-item:last-child::after {align-self: flex-start;width: 50%;}#sk-container-id-1 div.sk-parallel-item:only-child::after {width: 0;}#sk-container-id-1 div.sk-dashed-wrapped {border: 1px dashed gray;margin: 0 0.4em 0.5em 0.4em;box-sizing: border-box;padding-bottom: 0.4em;background-color: white;}#sk-container-id-1 div.sk-label label {font-family: monospace;font-weight: bold;display: inline-block;line-height: 1.2em;}#sk-container-id-1 div.sk-label-container {text-align: center;}#sk-container-id-1 div.sk-container {/* jupyter's `normalize.less` sets `[hidden] { display: none; }` but bootstrap.min.css set `[hidden] { display: none !important; }` so we also need the `!important` here to be able to override the default hidden behavior on the sphinx rendered scikit-learn.org. See: https://github.com/scikit-learn/scikit-learn/issues/21755 */display: inline-block !important;position: relative;}#sk-container-id-1 div.sk-text-repr-fallback {display: none;}</style><div id=\"sk-container-id-1\" class=\"sk-top-container\"><div class=\"sk-text-repr-fallback\"><pre>RandomForestClassifier(max_depth=20, min_samples_leaf=4, min_samples_split=10,\n",
       "                       n_estimators=200)</pre><b>In a Jupyter environment, please rerun this cell to show the HTML representation or trust the notebook. <br />On GitHub, the HTML representation is unable to render, please try loading this page with nbviewer.org.</b></div><div class=\"sk-container\" hidden><div class=\"sk-item\"><div class=\"sk-estimator sk-toggleable\"><input class=\"sk-toggleable__control sk-hidden--visually\" id=\"sk-estimator-id-1\" type=\"checkbox\" checked><label for=\"sk-estimator-id-1\" class=\"sk-toggleable__label sk-toggleable__label-arrow\">RandomForestClassifier</label><div class=\"sk-toggleable__content\"><pre>RandomForestClassifier(max_depth=20, min_samples_leaf=4, min_samples_split=10,\n",
       "                       n_estimators=200)</pre></div></div></div></div></div>"
      ],
      "text/plain": [
       "RandomForestClassifier(max_depth=20, min_samples_leaf=4, min_samples_split=10,\n",
       "                       n_estimators=200)"
      ]
     },
     "execution_count": 14,
     "metadata": {},
     "output_type": "execute_result"
    }
   ],
   "source": [
    "model = RandomForestClassifier(n_estimators=200, max_depth=20, min_samples_leaf=4, min_samples_split=2)\n",
    "model.fit(x, y)"
   ]
  },
  {
   "cell_type": "code",
   "execution_count": 15,
   "id": "a957c44b",
   "metadata": {},
   "outputs": [
    {
     "name": "stdout",
     "output_type": "stream",
     "text": [
      "ROC AUC Score: 0.6314349390953861\n"
     ]
    }
   ],
   "source": [
    "x_test = df2.drop('flag', axis=1)\n",
    "y_test = df2['flag']\n",
    "y_pred_prob = model.predict_proba(x_test)[:, 1]\n",
    "\n",
    "# Calculate the ROC AUC score\n",
    "roc_auc = roc_auc_score(y_test, y_pred_prob)\n",
    "\n",
    "print(\"ROC AUC Score:\", roc_auc)"
   ]
  },
  {
   "cell_type": "code",
   "execution_count": null,
   "id": "6fe552d6",
   "metadata": {},
   "outputs": [],
   "source": []
  },
  {
   "cell_type": "markdown",
   "id": "26935a29",
   "metadata": {},
   "source": [
    "## результат \n",
    "ничего выдающегося\n",
    "1) после грида валидация леса на новых данных дает 0,63\n",
    "2) близко к лесу первичный поиск дает только некий gaussianDB но я не знаю что это такое, по этому пока не влезал - в конце концов метрика меньше, надеюсь дело не в рандомном разлете и я не пропустил сейчас выйгрышный билет\n",
    "3) кажется придется все же разобраться с бустингом и/или рано или поздно прикрутить голосование\n",
    "4) пидорская млп не работает - я помню так она меня выручила в первой курсовой:("
   ]
  },
  {
   "cell_type": "markdown",
   "id": "6548429f",
   "metadata": {},
   "source": [
    "#  3 гиппотеза.  взять последний продукт для каждого id, смерджить пару сетов, сбалансировать, т.к. иначе очень большая получится"
   ]
  },
  {
   "cell_type": "code",
   "execution_count": 28,
   "id": "cca303ca",
   "metadata": {},
   "outputs": [],
   "source": [
    "df_cut_1 = pd.read_csv('train_data/df_only_last_product_1.csv')\n",
    "df_cut_1 = df_cut_1.drop(0, axis=0)\n",
    "df_cut_2 = pd.read_csv('train_data/df_only_last_product_0.csv')\n",
    "df_cut_2 = df_cut_2.drop(0, axis=0)"
   ]
  },
  {
   "cell_type": "code",
   "execution_count": 61,
   "id": "f2c669f6",
   "metadata": {},
   "outputs": [],
   "source": [
    "df_cut_merged = pd.concat([df_cut_2, df_cut_1], ignore_index=True)\n",
    "df_cut_merged = df_cut_merged.drop(['id'], axis=1)"
   ]
  },
  {
   "cell_type": "code",
   "execution_count": 31,
   "id": "21f00a76",
   "metadata": {},
   "outputs": [],
   "source": [
    "df_cut_merged = sample_df(df_cut_merged,df_cut_merged.flag.value_counts()[1], 50,50 )"
   ]
  },
  {
   "cell_type": "code",
   "execution_count": 32,
   "id": "2c06bbf5",
   "metadata": {},
   "outputs": [],
   "source": [
    "x = df_cut_merged.drop('flag', axis=1)\n",
    "y = df_cut_merged.flag"
   ]
  },
  {
   "cell_type": "markdown",
   "id": "6236c88d",
   "metadata": {},
   "source": [
    "## а теперь все вместе, чтобы можно было оставить на полдня:)"
   ]
  },
  {
   "cell_type": "code",
   "execution_count": 33,
   "id": "53e09b83",
   "metadata": {},
   "outputs": [],
   "source": [
    "# создаем список для результатов\n",
    "results_list = []"
   ]
  },
  {
   "cell_type": "code",
   "execution_count": 57,
   "id": "24399c7f",
   "metadata": {
    "collapsed": true
   },
   "outputs": [
    {
     "name": "stderr",
     "output_type": "stream",
     "text": [
      "C:\\Users\\User\\AppData\\Roaming\\Python\\Python311\\site-packages\\sklearn\\linear_model\\_logistic.py:458: ConvergenceWarning: lbfgs failed to converge (status=1):\n",
      "STOP: TOTAL NO. of ITERATIONS REACHED LIMIT.\n",
      "\n",
      "Increase the number of iterations (max_iter) or scale the data as shown in:\n",
      "    https://scikit-learn.org/stable/modules/preprocessing.html\n",
      "Please also refer to the documentation for alternative solver options:\n",
      "    https://scikit-learn.org/stable/modules/linear_model.html#logistic-regression\n",
      "  n_iter_i = _check_optimize_result(\n",
      "C:\\Users\\User\\AppData\\Roaming\\Python\\Python311\\site-packages\\sklearn\\linear_model\\_logistic.py:458: ConvergenceWarning: lbfgs failed to converge (status=1):\n",
      "STOP: TOTAL NO. of ITERATIONS REACHED LIMIT.\n",
      "\n",
      "Increase the number of iterations (max_iter) or scale the data as shown in:\n",
      "    https://scikit-learn.org/stable/modules/preprocessing.html\n",
      "Please also refer to the documentation for alternative solver options:\n",
      "    https://scikit-learn.org/stable/modules/linear_model.html#logistic-regression\n",
      "  n_iter_i = _check_optimize_result(\n",
      "C:\\Users\\User\\AppData\\Roaming\\Python\\Python311\\site-packages\\sklearn\\linear_model\\_logistic.py:458: ConvergenceWarning: lbfgs failed to converge (status=1):\n",
      "STOP: TOTAL NO. of ITERATIONS REACHED LIMIT.\n",
      "\n",
      "Increase the number of iterations (max_iter) or scale the data as shown in:\n",
      "    https://scikit-learn.org/stable/modules/preprocessing.html\n",
      "Please also refer to the documentation for alternative solver options:\n",
      "    https://scikit-learn.org/stable/modules/linear_model.html#logistic-regression\n",
      "  n_iter_i = _check_optimize_result(\n"
     ]
    },
    {
     "name": "stdout",
     "output_type": "stream",
     "text": [
      "share  50  is done\n"
     ]
    },
    {
     "name": "stderr",
     "output_type": "stream",
     "text": [
      "C:\\Users\\User\\AppData\\Roaming\\Python\\Python311\\site-packages\\sklearn\\neural_network\\_multilayer_perceptron.py:686: ConvergenceWarning: Stochastic Optimizer: Maximum iterations (200) reached and the optimization hasn't converged yet.\n",
      "  warnings.warn(\n",
      "C:\\Users\\User\\AppData\\Roaming\\Python\\Python311\\site-packages\\sklearn\\neural_network\\_multilayer_perceptron.py:686: ConvergenceWarning: Stochastic Optimizer: Maximum iterations (200) reached and the optimization hasn't converged yet.\n",
      "  warnings.warn(\n",
      "C:\\Users\\User\\AppData\\Roaming\\Python\\Python311\\site-packages\\sklearn\\neural_network\\_multilayer_perceptron.py:686: ConvergenceWarning: Stochastic Optimizer: Maximum iterations (200) reached and the optimization hasn't converged yet.\n",
      "  warnings.warn(\n",
      "C:\\Users\\User\\AppData\\Roaming\\Python\\Python311\\site-packages\\sklearn\\linear_model\\_logistic.py:458: ConvergenceWarning: lbfgs failed to converge (status=1):\n",
      "STOP: TOTAL NO. of ITERATIONS REACHED LIMIT.\n",
      "\n",
      "Increase the number of iterations (max_iter) or scale the data as shown in:\n",
      "    https://scikit-learn.org/stable/modules/preprocessing.html\n",
      "Please also refer to the documentation for alternative solver options:\n",
      "    https://scikit-learn.org/stable/modules/linear_model.html#logistic-regression\n",
      "  n_iter_i = _check_optimize_result(\n",
      "C:\\Users\\User\\AppData\\Roaming\\Python\\Python311\\site-packages\\sklearn\\linear_model\\_logistic.py:458: ConvergenceWarning: lbfgs failed to converge (status=1):\n",
      "STOP: TOTAL NO. of ITERATIONS REACHED LIMIT.\n",
      "\n",
      "Increase the number of iterations (max_iter) or scale the data as shown in:\n",
      "    https://scikit-learn.org/stable/modules/preprocessing.html\n",
      "Please also refer to the documentation for alternative solver options:\n",
      "    https://scikit-learn.org/stable/modules/linear_model.html#logistic-regression\n",
      "  n_iter_i = _check_optimize_result(\n",
      "C:\\Users\\User\\AppData\\Roaming\\Python\\Python311\\site-packages\\sklearn\\linear_model\\_logistic.py:458: ConvergenceWarning: lbfgs failed to converge (status=1):\n",
      "STOP: TOTAL NO. of ITERATIONS REACHED LIMIT.\n",
      "\n",
      "Increase the number of iterations (max_iter) or scale the data as shown in:\n",
      "    https://scikit-learn.org/stable/modules/preprocessing.html\n",
      "Please also refer to the documentation for alternative solver options:\n",
      "    https://scikit-learn.org/stable/modules/linear_model.html#logistic-regression\n",
      "  n_iter_i = _check_optimize_result(\n"
     ]
    },
    {
     "name": "stdout",
     "output_type": "stream",
     "text": [
      "share  45  is done\n"
     ]
    },
    {
     "name": "stderr",
     "output_type": "stream",
     "text": [
      "C:\\Users\\User\\AppData\\Roaming\\Python\\Python311\\site-packages\\sklearn\\neural_network\\_multilayer_perceptron.py:686: ConvergenceWarning: Stochastic Optimizer: Maximum iterations (200) reached and the optimization hasn't converged yet.\n",
      "  warnings.warn(\n",
      "C:\\Users\\User\\AppData\\Roaming\\Python\\Python311\\site-packages\\sklearn\\neural_network\\_multilayer_perceptron.py:686: ConvergenceWarning: Stochastic Optimizer: Maximum iterations (200) reached and the optimization hasn't converged yet.\n",
      "  warnings.warn(\n",
      "C:\\Users\\User\\AppData\\Roaming\\Python\\Python311\\site-packages\\sklearn\\linear_model\\_logistic.py:458: ConvergenceWarning: lbfgs failed to converge (status=1):\n",
      "STOP: TOTAL NO. of ITERATIONS REACHED LIMIT.\n",
      "\n",
      "Increase the number of iterations (max_iter) or scale the data as shown in:\n",
      "    https://scikit-learn.org/stable/modules/preprocessing.html\n",
      "Please also refer to the documentation for alternative solver options:\n",
      "    https://scikit-learn.org/stable/modules/linear_model.html#logistic-regression\n",
      "  n_iter_i = _check_optimize_result(\n",
      "C:\\Users\\User\\AppData\\Roaming\\Python\\Python311\\site-packages\\sklearn\\linear_model\\_logistic.py:458: ConvergenceWarning: lbfgs failed to converge (status=1):\n",
      "STOP: TOTAL NO. of ITERATIONS REACHED LIMIT.\n",
      "\n",
      "Increase the number of iterations (max_iter) or scale the data as shown in:\n",
      "    https://scikit-learn.org/stable/modules/preprocessing.html\n",
      "Please also refer to the documentation for alternative solver options:\n",
      "    https://scikit-learn.org/stable/modules/linear_model.html#logistic-regression\n",
      "  n_iter_i = _check_optimize_result(\n",
      "C:\\Users\\User\\AppData\\Roaming\\Python\\Python311\\site-packages\\sklearn\\linear_model\\_logistic.py:458: ConvergenceWarning: lbfgs failed to converge (status=1):\n",
      "STOP: TOTAL NO. of ITERATIONS REACHED LIMIT.\n",
      "\n",
      "Increase the number of iterations (max_iter) or scale the data as shown in:\n",
      "    https://scikit-learn.org/stable/modules/preprocessing.html\n",
      "Please also refer to the documentation for alternative solver options:\n",
      "    https://scikit-learn.org/stable/modules/linear_model.html#logistic-regression\n",
      "  n_iter_i = _check_optimize_result(\n"
     ]
    },
    {
     "name": "stdout",
     "output_type": "stream",
     "text": [
      "share  40  is done\n"
     ]
    },
    {
     "name": "stderr",
     "output_type": "stream",
     "text": [
      "C:\\Users\\User\\AppData\\Roaming\\Python\\Python311\\site-packages\\sklearn\\neural_network\\_multilayer_perceptron.py:686: ConvergenceWarning: Stochastic Optimizer: Maximum iterations (200) reached and the optimization hasn't converged yet.\n",
      "  warnings.warn(\n",
      "C:\\Users\\User\\AppData\\Roaming\\Python\\Python311\\site-packages\\sklearn\\linear_model\\_logistic.py:458: ConvergenceWarning: lbfgs failed to converge (status=1):\n",
      "STOP: TOTAL NO. of ITERATIONS REACHED LIMIT.\n",
      "\n",
      "Increase the number of iterations (max_iter) or scale the data as shown in:\n",
      "    https://scikit-learn.org/stable/modules/preprocessing.html\n",
      "Please also refer to the documentation for alternative solver options:\n",
      "    https://scikit-learn.org/stable/modules/linear_model.html#logistic-regression\n",
      "  n_iter_i = _check_optimize_result(\n",
      "C:\\Users\\User\\AppData\\Roaming\\Python\\Python311\\site-packages\\sklearn\\linear_model\\_logistic.py:458: ConvergenceWarning: lbfgs failed to converge (status=1):\n",
      "STOP: TOTAL NO. of ITERATIONS REACHED LIMIT.\n",
      "\n",
      "Increase the number of iterations (max_iter) or scale the data as shown in:\n",
      "    https://scikit-learn.org/stable/modules/preprocessing.html\n",
      "Please also refer to the documentation for alternative solver options:\n",
      "    https://scikit-learn.org/stable/modules/linear_model.html#logistic-regression\n",
      "  n_iter_i = _check_optimize_result(\n",
      "C:\\Users\\User\\AppData\\Roaming\\Python\\Python311\\site-packages\\sklearn\\linear_model\\_logistic.py:458: ConvergenceWarning: lbfgs failed to converge (status=1):\n",
      "STOP: TOTAL NO. of ITERATIONS REACHED LIMIT.\n",
      "\n",
      "Increase the number of iterations (max_iter) or scale the data as shown in:\n",
      "    https://scikit-learn.org/stable/modules/preprocessing.html\n",
      "Please also refer to the documentation for alternative solver options:\n",
      "    https://scikit-learn.org/stable/modules/linear_model.html#logistic-regression\n",
      "  n_iter_i = _check_optimize_result(\n"
     ]
    },
    {
     "name": "stdout",
     "output_type": "stream",
     "text": [
      "share  35  is done\n"
     ]
    },
    {
     "name": "stderr",
     "output_type": "stream",
     "text": [
      "C:\\Users\\User\\AppData\\Roaming\\Python\\Python311\\site-packages\\sklearn\\neural_network\\_multilayer_perceptron.py:686: ConvergenceWarning: Stochastic Optimizer: Maximum iterations (200) reached and the optimization hasn't converged yet.\n",
      "  warnings.warn(\n",
      "C:\\Users\\User\\AppData\\Roaming\\Python\\Python311\\site-packages\\sklearn\\neural_network\\_multilayer_perceptron.py:686: ConvergenceWarning: Stochastic Optimizer: Maximum iterations (200) reached and the optimization hasn't converged yet.\n",
      "  warnings.warn(\n",
      "C:\\Users\\User\\AppData\\Roaming\\Python\\Python311\\site-packages\\sklearn\\linear_model\\_logistic.py:458: ConvergenceWarning: lbfgs failed to converge (status=1):\n",
      "STOP: TOTAL NO. of ITERATIONS REACHED LIMIT.\n",
      "\n",
      "Increase the number of iterations (max_iter) or scale the data as shown in:\n",
      "    https://scikit-learn.org/stable/modules/preprocessing.html\n",
      "Please also refer to the documentation for alternative solver options:\n",
      "    https://scikit-learn.org/stable/modules/linear_model.html#logistic-regression\n",
      "  n_iter_i = _check_optimize_result(\n",
      "C:\\Users\\User\\AppData\\Roaming\\Python\\Python311\\site-packages\\sklearn\\linear_model\\_logistic.py:458: ConvergenceWarning: lbfgs failed to converge (status=1):\n",
      "STOP: TOTAL NO. of ITERATIONS REACHED LIMIT.\n",
      "\n",
      "Increase the number of iterations (max_iter) or scale the data as shown in:\n",
      "    https://scikit-learn.org/stable/modules/preprocessing.html\n",
      "Please also refer to the documentation for alternative solver options:\n",
      "    https://scikit-learn.org/stable/modules/linear_model.html#logistic-regression\n",
      "  n_iter_i = _check_optimize_result(\n",
      "C:\\Users\\User\\AppData\\Roaming\\Python\\Python311\\site-packages\\sklearn\\linear_model\\_logistic.py:458: ConvergenceWarning: lbfgs failed to converge (status=1):\n",
      "STOP: TOTAL NO. of ITERATIONS REACHED LIMIT.\n",
      "\n",
      "Increase the number of iterations (max_iter) or scale the data as shown in:\n",
      "    https://scikit-learn.org/stable/modules/preprocessing.html\n",
      "Please also refer to the documentation for alternative solver options:\n",
      "    https://scikit-learn.org/stable/modules/linear_model.html#logistic-regression\n",
      "  n_iter_i = _check_optimize_result(\n"
     ]
    },
    {
     "name": "stdout",
     "output_type": "stream",
     "text": [
      "share  30  is done\n"
     ]
    },
    {
     "name": "stderr",
     "output_type": "stream",
     "text": [
      "C:\\Users\\User\\AppData\\Roaming\\Python\\Python311\\site-packages\\sklearn\\neural_network\\_multilayer_perceptron.py:686: ConvergenceWarning: Stochastic Optimizer: Maximum iterations (200) reached and the optimization hasn't converged yet.\n",
      "  warnings.warn(\n",
      "C:\\Users\\User\\AppData\\Roaming\\Python\\Python311\\site-packages\\sklearn\\neural_network\\_multilayer_perceptron.py:686: ConvergenceWarning: Stochastic Optimizer: Maximum iterations (200) reached and the optimization hasn't converged yet.\n",
      "  warnings.warn(\n",
      "C:\\Users\\User\\AppData\\Roaming\\Python\\Python311\\site-packages\\sklearn\\linear_model\\_logistic.py:458: ConvergenceWarning: lbfgs failed to converge (status=1):\n",
      "STOP: TOTAL NO. of ITERATIONS REACHED LIMIT.\n",
      "\n",
      "Increase the number of iterations (max_iter) or scale the data as shown in:\n",
      "    https://scikit-learn.org/stable/modules/preprocessing.html\n",
      "Please also refer to the documentation for alternative solver options:\n",
      "    https://scikit-learn.org/stable/modules/linear_model.html#logistic-regression\n",
      "  n_iter_i = _check_optimize_result(\n",
      "C:\\Users\\User\\AppData\\Roaming\\Python\\Python311\\site-packages\\sklearn\\linear_model\\_logistic.py:458: ConvergenceWarning: lbfgs failed to converge (status=1):\n",
      "STOP: TOTAL NO. of ITERATIONS REACHED LIMIT.\n",
      "\n",
      "Increase the number of iterations (max_iter) or scale the data as shown in:\n",
      "    https://scikit-learn.org/stable/modules/preprocessing.html\n",
      "Please also refer to the documentation for alternative solver options:\n",
      "    https://scikit-learn.org/stable/modules/linear_model.html#logistic-regression\n",
      "  n_iter_i = _check_optimize_result(\n",
      "C:\\Users\\User\\AppData\\Roaming\\Python\\Python311\\site-packages\\sklearn\\linear_model\\_logistic.py:458: ConvergenceWarning: lbfgs failed to converge (status=1):\n",
      "STOP: TOTAL NO. of ITERATIONS REACHED LIMIT.\n",
      "\n",
      "Increase the number of iterations (max_iter) or scale the data as shown in:\n",
      "    https://scikit-learn.org/stable/modules/preprocessing.html\n",
      "Please also refer to the documentation for alternative solver options:\n",
      "    https://scikit-learn.org/stable/modules/linear_model.html#logistic-regression\n",
      "  n_iter_i = _check_optimize_result(\n"
     ]
    },
    {
     "name": "stdout",
     "output_type": "stream",
     "text": [
      "share  25  is done\n"
     ]
    },
    {
     "name": "stderr",
     "output_type": "stream",
     "text": [
      "C:\\Users\\User\\AppData\\Roaming\\Python\\Python311\\site-packages\\sklearn\\neural_network\\_multilayer_perceptron.py:686: ConvergenceWarning: Stochastic Optimizer: Maximum iterations (200) reached and the optimization hasn't converged yet.\n",
      "  warnings.warn(\n",
      "C:\\Users\\User\\AppData\\Roaming\\Python\\Python311\\site-packages\\sklearn\\neural_network\\_multilayer_perceptron.py:686: ConvergenceWarning: Stochastic Optimizer: Maximum iterations (200) reached and the optimization hasn't converged yet.\n",
      "  warnings.warn(\n",
      "C:\\Users\\User\\AppData\\Roaming\\Python\\Python311\\site-packages\\sklearn\\neural_network\\_multilayer_perceptron.py:686: ConvergenceWarning: Stochastic Optimizer: Maximum iterations (200) reached and the optimization hasn't converged yet.\n",
      "  warnings.warn(\n",
      "C:\\Users\\User\\AppData\\Roaming\\Python\\Python311\\site-packages\\sklearn\\linear_model\\_logistic.py:458: ConvergenceWarning: lbfgs failed to converge (status=1):\n",
      "STOP: TOTAL NO. of ITERATIONS REACHED LIMIT.\n",
      "\n",
      "Increase the number of iterations (max_iter) or scale the data as shown in:\n",
      "    https://scikit-learn.org/stable/modules/preprocessing.html\n",
      "Please also refer to the documentation for alternative solver options:\n",
      "    https://scikit-learn.org/stable/modules/linear_model.html#logistic-regression\n",
      "  n_iter_i = _check_optimize_result(\n",
      "C:\\Users\\User\\AppData\\Roaming\\Python\\Python311\\site-packages\\sklearn\\linear_model\\_logistic.py:458: ConvergenceWarning: lbfgs failed to converge (status=1):\n",
      "STOP: TOTAL NO. of ITERATIONS REACHED LIMIT.\n",
      "\n",
      "Increase the number of iterations (max_iter) or scale the data as shown in:\n",
      "    https://scikit-learn.org/stable/modules/preprocessing.html\n",
      "Please also refer to the documentation for alternative solver options:\n",
      "    https://scikit-learn.org/stable/modules/linear_model.html#logistic-regression\n",
      "  n_iter_i = _check_optimize_result(\n",
      "C:\\Users\\User\\AppData\\Roaming\\Python\\Python311\\site-packages\\sklearn\\linear_model\\_logistic.py:458: ConvergenceWarning: lbfgs failed to converge (status=1):\n",
      "STOP: TOTAL NO. of ITERATIONS REACHED LIMIT.\n",
      "\n",
      "Increase the number of iterations (max_iter) or scale the data as shown in:\n",
      "    https://scikit-learn.org/stable/modules/preprocessing.html\n",
      "Please also refer to the documentation for alternative solver options:\n",
      "    https://scikit-learn.org/stable/modules/linear_model.html#logistic-regression\n",
      "  n_iter_i = _check_optimize_result(\n"
     ]
    },
    {
     "name": "stdout",
     "output_type": "stream",
     "text": [
      "share  20  is done\n"
     ]
    },
    {
     "name": "stderr",
     "output_type": "stream",
     "text": [
      "C:\\Users\\User\\AppData\\Roaming\\Python\\Python311\\site-packages\\sklearn\\neural_network\\_multilayer_perceptron.py:686: ConvergenceWarning: Stochastic Optimizer: Maximum iterations (200) reached and the optimization hasn't converged yet.\n",
      "  warnings.warn(\n",
      "C:\\Users\\User\\AppData\\Roaming\\Python\\Python311\\site-packages\\sklearn\\neural_network\\_multilayer_perceptron.py:686: ConvergenceWarning: Stochastic Optimizer: Maximum iterations (200) reached and the optimization hasn't converged yet.\n",
      "  warnings.warn(\n",
      "C:\\Users\\User\\AppData\\Roaming\\Python\\Python311\\site-packages\\sklearn\\neural_network\\_multilayer_perceptron.py:686: ConvergenceWarning: Stochastic Optimizer: Maximum iterations (200) reached and the optimization hasn't converged yet.\n",
      "  warnings.warn(\n",
      "C:\\Users\\User\\AppData\\Roaming\\Python\\Python311\\site-packages\\sklearn\\linear_model\\_logistic.py:458: ConvergenceWarning: lbfgs failed to converge (status=1):\n",
      "STOP: TOTAL NO. of ITERATIONS REACHED LIMIT.\n",
      "\n",
      "Increase the number of iterations (max_iter) or scale the data as shown in:\n",
      "    https://scikit-learn.org/stable/modules/preprocessing.html\n",
      "Please also refer to the documentation for alternative solver options:\n",
      "    https://scikit-learn.org/stable/modules/linear_model.html#logistic-regression\n",
      "  n_iter_i = _check_optimize_result(\n",
      "C:\\Users\\User\\AppData\\Roaming\\Python\\Python311\\site-packages\\sklearn\\linear_model\\_logistic.py:458: ConvergenceWarning: lbfgs failed to converge (status=1):\n",
      "STOP: TOTAL NO. of ITERATIONS REACHED LIMIT.\n",
      "\n",
      "Increase the number of iterations (max_iter) or scale the data as shown in:\n",
      "    https://scikit-learn.org/stable/modules/preprocessing.html\n",
      "Please also refer to the documentation for alternative solver options:\n",
      "    https://scikit-learn.org/stable/modules/linear_model.html#logistic-regression\n",
      "  n_iter_i = _check_optimize_result(\n",
      "C:\\Users\\User\\AppData\\Roaming\\Python\\Python311\\site-packages\\sklearn\\linear_model\\_logistic.py:458: ConvergenceWarning: lbfgs failed to converge (status=1):\n",
      "STOP: TOTAL NO. of ITERATIONS REACHED LIMIT.\n",
      "\n",
      "Increase the number of iterations (max_iter) or scale the data as shown in:\n",
      "    https://scikit-learn.org/stable/modules/preprocessing.html\n",
      "Please also refer to the documentation for alternative solver options:\n",
      "    https://scikit-learn.org/stable/modules/linear_model.html#logistic-regression\n",
      "  n_iter_i = _check_optimize_result(\n"
     ]
    },
    {
     "name": "stdout",
     "output_type": "stream",
     "text": [
      "share  15  is done\n"
     ]
    },
    {
     "name": "stderr",
     "output_type": "stream",
     "text": [
      "C:\\Users\\User\\AppData\\Roaming\\Python\\Python311\\site-packages\\sklearn\\neural_network\\_multilayer_perceptron.py:686: ConvergenceWarning: Stochastic Optimizer: Maximum iterations (200) reached and the optimization hasn't converged yet.\n",
      "  warnings.warn(\n",
      "C:\\Users\\User\\AppData\\Roaming\\Python\\Python311\\site-packages\\sklearn\\neural_network\\_multilayer_perceptron.py:686: ConvergenceWarning: Stochastic Optimizer: Maximum iterations (200) reached and the optimization hasn't converged yet.\n",
      "  warnings.warn(\n",
      "C:\\Users\\User\\AppData\\Roaming\\Python\\Python311\\site-packages\\sklearn\\linear_model\\_logistic.py:458: ConvergenceWarning: lbfgs failed to converge (status=1):\n",
      "STOP: TOTAL NO. of ITERATIONS REACHED LIMIT.\n",
      "\n",
      "Increase the number of iterations (max_iter) or scale the data as shown in:\n",
      "    https://scikit-learn.org/stable/modules/preprocessing.html\n",
      "Please also refer to the documentation for alternative solver options:\n",
      "    https://scikit-learn.org/stable/modules/linear_model.html#logistic-regression\n",
      "  n_iter_i = _check_optimize_result(\n",
      "C:\\Users\\User\\AppData\\Roaming\\Python\\Python311\\site-packages\\sklearn\\linear_model\\_logistic.py:458: ConvergenceWarning: lbfgs failed to converge (status=1):\n",
      "STOP: TOTAL NO. of ITERATIONS REACHED LIMIT.\n",
      "\n",
      "Increase the number of iterations (max_iter) or scale the data as shown in:\n",
      "    https://scikit-learn.org/stable/modules/preprocessing.html\n",
      "Please also refer to the documentation for alternative solver options:\n",
      "    https://scikit-learn.org/stable/modules/linear_model.html#logistic-regression\n",
      "  n_iter_i = _check_optimize_result(\n",
      "C:\\Users\\User\\AppData\\Roaming\\Python\\Python311\\site-packages\\sklearn\\linear_model\\_logistic.py:458: ConvergenceWarning: lbfgs failed to converge (status=1):\n",
      "STOP: TOTAL NO. of ITERATIONS REACHED LIMIT.\n",
      "\n",
      "Increase the number of iterations (max_iter) or scale the data as shown in:\n",
      "    https://scikit-learn.org/stable/modules/preprocessing.html\n",
      "Please also refer to the documentation for alternative solver options:\n",
      "    https://scikit-learn.org/stable/modules/linear_model.html#logistic-regression\n",
      "  n_iter_i = _check_optimize_result(\n"
     ]
    },
    {
     "name": "stdout",
     "output_type": "stream",
     "text": [
      "share  10  is done\n"
     ]
    },
    {
     "name": "stderr",
     "output_type": "stream",
     "text": [
      "C:\\Users\\User\\AppData\\Roaming\\Python\\Python311\\site-packages\\sklearn\\linear_model\\_logistic.py:458: ConvergenceWarning: lbfgs failed to converge (status=1):\n",
      "STOP: TOTAL NO. of ITERATIONS REACHED LIMIT.\n",
      "\n",
      "Increase the number of iterations (max_iter) or scale the data as shown in:\n",
      "    https://scikit-learn.org/stable/modules/preprocessing.html\n",
      "Please also refer to the documentation for alternative solver options:\n",
      "    https://scikit-learn.org/stable/modules/linear_model.html#logistic-regression\n",
      "  n_iter_i = _check_optimize_result(\n",
      "C:\\Users\\User\\AppData\\Roaming\\Python\\Python311\\site-packages\\sklearn\\linear_model\\_logistic.py:458: ConvergenceWarning: lbfgs failed to converge (status=1):\n",
      "STOP: TOTAL NO. of ITERATIONS REACHED LIMIT.\n",
      "\n",
      "Increase the number of iterations (max_iter) or scale the data as shown in:\n",
      "    https://scikit-learn.org/stable/modules/preprocessing.html\n",
      "Please also refer to the documentation for alternative solver options:\n",
      "    https://scikit-learn.org/stable/modules/linear_model.html#logistic-regression\n",
      "  n_iter_i = _check_optimize_result(\n",
      "C:\\Users\\User\\AppData\\Roaming\\Python\\Python311\\site-packages\\sklearn\\linear_model\\_logistic.py:458: ConvergenceWarning: lbfgs failed to converge (status=1):\n",
      "STOP: TOTAL NO. of ITERATIONS REACHED LIMIT.\n",
      "\n",
      "Increase the number of iterations (max_iter) or scale the data as shown in:\n",
      "    https://scikit-learn.org/stable/modules/preprocessing.html\n",
      "Please also refer to the documentation for alternative solver options:\n",
      "    https://scikit-learn.org/stable/modules/linear_model.html#logistic-regression\n",
      "  n_iter_i = _check_optimize_result(\n"
     ]
    },
    {
     "name": "stdout",
     "output_type": "stream",
     "text": [
      "share  5  is done\n"
     ]
    }
   ],
   "source": [
    "# задать варианты балансировки - 50%, 45% положительных и т.д.\n",
    "shares = [50, 45, 40 ,35, 30, 25, 20, 15, 10, 5]\n",
    "\n",
    "for i in shares:\n",
    "    results_dict = dict()\n",
    "    df_cut_merged = pd.concat([df_cut_2, df_cut_1], ignore_index=True)\n",
    "    df_cut_merged = df_cut_merged.drop(['id'], axis=1)\n",
    "    df_cut_merged = sample_df(\n",
    "        df_cut_merged, \n",
    "        round(df_cut_merged.flag.value_counts()[1] / i * 100 + 1, 0),\n",
    "        100 - i,\n",
    "        i\n",
    "    )\n",
    "    \n",
    "    # пройтись по всем моделям и записать результаты в словарь\n",
    "    models = [\n",
    "        KNeighborsClassifier(),\n",
    "        SVC(),\n",
    "        RandomForestClassifier(),\n",
    "        MLPClassifier(),\n",
    "        LogisticRegression(),\n",
    "        DecisionTreeClassifier(),\n",
    "        GaussianNB(),\n",
    "    ]\n",
    "    #     xgb(),\n",
    "    #     lgb(),\n",
    "    # ]\n",
    "    x = df_cut_merged.drop('flag', axis=1)\n",
    "    y = df_cut_merged.flag\n",
    "    \n",
    "    for model in models:\n",
    "    \n",
    "        cv_scores = cross_val_score(model, x, y, cv=3, scoring='roc_auc')\n",
    "        results_dict[str(model)[0:str(model).find('(')]] = mean(cv_scores)\n",
    "\n",
    "\n",
    "    # и добавить словарь в список словарей с результатами вместе с описанием доли\n",
    "    results_list.append(f'share is {i}')\n",
    "    results_list.append(results_dict)\n",
    "    print('share ', i,' is done')\n",
    "    \n",
    "    \n",
    "    \n",
    "#     print('share is ',i, ', df size is ', df_cut_merged.shape, ' pos flag is ')"
   ]
  },
  {
   "cell_type": "code",
   "execution_count": 34,
   "id": "564b0f94",
   "metadata": {},
   "outputs": [],
   "source": [
    "results_list = [\n",
    "    'share is 50', {'KNeighborsClassifier': 0.6039867900411489,  'SVC': 0.6812550032471986,  'RandomForestClassifier': 0.6835726548349434,  'MLPClassifier': 0.6752809460623331,  'LogisticRegression': 0.6788503417013887,  'DecisionTreeClassifier': 0.5671797979243346,  'GaussianNB': 0.649392129503637},\n",
    "    'share is 45', {'KNeighborsClassifier': 0.6078919752275738,  'SVC': 0.6848796631383719,  'RandomForestClassifier': 0.687762865877969,  'MLPClassifier': 0.675328676013781,  'LogisticRegression': 0.6797352705795952,  'DecisionTreeClassifier': 0.5718321973362772,  'GaussianNB': 0.6537118657688114}, \n",
    "    'share is 40', {'KNeighborsClassifier': 0.603487571754082,  'SVC': 0.6809908905042139,  'RandomForestClassifier': 0.6845238289801637,  'MLPClassifier': 0.6757827971827998,  'LogisticRegression': 0.6751937319118898,  'DecisionTreeClassifier': 0.5679711830985809,  'GaussianNB': 0.6482830437774044}, \n",
    "    'share is 35', {'KNeighborsClassifier': 0.6060186105104558,  'SVC': 0.6752742006972454,  'RandomForestClassifier': 0.6817462382150268,  'MLPClassifier': 0.6711067654035463,  'LogisticRegression': 0.6756622003145129,  'DecisionTreeClassifier': 0.5678878359796654,  'GaussianNB': 0.650735837012962}, \n",
    "    'share is 30', {'KNeighborsClassifier': 0.6038608398633035,  'SVC': 0.6690328991002282,  'RandomForestClassifier': 0.6827473497465566,  'MLPClassifier': 0.6742057899799434,  'LogisticRegression': 0.6770920944759699,  'DecisionTreeClassifier': 0.5648565947644032,  'GaussianNB': 0.6518236594453576}, \n",
    "    'share is 25', {'KNeighborsClassifier': 0.6003076608552574,  'SVC': 0.6513942341445346,  'RandomForestClassifier': 0.6787911325022891,  'MLPClassifier': 0.6745152133499647,  'LogisticRegression': 0.6772687020645497,  'DecisionTreeClassifier': 0.5571061000893228,  'GaussianNB': 0.6513346985002458}, \n",
    "    'share is 20', {'KNeighborsClassifier': 0.596841572586642,  'SVC': 0.6292928641300419,  'RandomForestClassifier': 0.6802862995515127,  'MLPClassifier': 0.6763896805112829,  'LogisticRegression': 0.6792803781352511,  'DecisionTreeClassifier': 0.5589903034529387,  'GaussianNB': 0.6520579986134729}, \n",
    "    'share is 15', {'KNeighborsClassifier': 0.5912542232325356,  'SVC': 0.6008291597057341,  'RandomForestClassifier': 0.6731576401927324,  'MLPClassifier': 0.6780418115404064,  'LogisticRegression': 0.676765363679794,  'DecisionTreeClassifier': 0.55321535176371,  'GaussianNB': 0.6515761739203446}, \n",
    "    'share is 10', {'KNeighborsClassifier': 0.5755251445743896,  'SVC': 0.5872029160909659,  'RandomForestClassifier': 0.6617360646978946, 'MLPClassifier': 0.6765743763546318,  'LogisticRegression': 0.6767563983272495,  'DecisionTreeClassifier': 0.5394460437466541,  'GaussianNB': 0.6511694450611786}, \n",
    "    'share is 5', {'KNeighborsClassifier': 0.5581460516644973,  'SVC': 0.5608346770269851,  'RandomForestClassifier': 0.6485091937847597,  'MLPClassifier': 0.6864680023840712,  'LogisticRegression': 0.676925619838474,  'DecisionTreeClassifier': 0.5302841937960343,  'GaussianNB': 0.651764413813694}\n",
    "]\n"
   ]
  },
  {
   "cell_type": "code",
   "execution_count": 39,
   "id": "e9757331",
   "metadata": {},
   "outputs": [],
   "source": [
    "results_list_2 = []\n",
    "shares = []\n",
    "for entry in results_list:\n",
    "    if type(entry) == dict:\n",
    "        results_list_2.append(entry)\n",
    "    if type(entry) == str:\n",
    "        shares.append(entry)"
   ]
  },
  {
   "cell_type": "code",
   "execution_count": 42,
   "id": "6bc31722",
   "metadata": {},
   "outputs": [
    {
     "data": {
      "text/plain": [
       "{'KNeighborsClassifier': 0.6039867900411489,\n",
       " 'SVC': 0.6812550032471986,\n",
       " 'RandomForestClassifier': 0.6835726548349434,\n",
       " 'MLPClassifier': 0.6752809460623331,\n",
       " 'LogisticRegression': 0.6788503417013887,\n",
       " 'DecisionTreeClassifier': 0.5671797979243346,\n",
       " 'GaussianNB': 0.649392129503637}"
      ]
     },
     "execution_count": 42,
     "metadata": {},
     "output_type": "execute_result"
    }
   ],
   "source": [
    "models"
   ]
  },
  {
   "cell_type": "code",
   "execution_count": 45,
   "id": "a17068e6",
   "metadata": {},
   "outputs": [
    {
     "data": {
      "image/png": "[encoded data removed]",
      "text/plain": [
       "<Figure size 640x480 with 1 Axes>"
      ]
     },
     "metadata": {},
     "output_type": "display_data"
    }
   ],
   "source": [
    "current_plot = []\n",
    "counter = 0\n",
    "for model in models:\n",
    "    current_plot.append([])\n",
    "#     model = 'KNeighborsClassifier'\n",
    "    for i in range(len(results_list_2)):\n",
    "        \n",
    "#         print(i)\n",
    "        current_plot[counter].append(results_list_2[i][str(model)[0:str(model).find('(')]])\n",
    "    \n",
    "    plt.plot(current_plot[counter])\n",
    "    counter += 1\n",
    "#         print(len(current_plot))\n",
    "    plt.legend(models)\n",
    "    plt.xticks(range(len(shares)),shares, rotation=45)"
   ]
  },
  {
   "cell_type": "code",
   "execution_count": 47,
   "id": "329a08fe",
   "metadata": {},
   "outputs": [],
   "source": [
    "df_cut_1 = pd.read_csv('train_data/df_only_last_product_1.csv')\n",
    "df_cut_1 = df_cut_1.drop(0, axis=0)\n",
    "df_cut_2 = pd.read_csv('train_data/df_only_last_product_0.csv')\n",
    "df_cut_2 = df_cut_2.drop(0, axis=0)\n",
    "df_cut_merged = pd.concat([df_cut_2, df_cut_1], ignore_index=True)\n",
    "df_cut_merged = df_cut_merged.drop(['id'], axis=1)"
   ]
  },
  {
   "cell_type": "code",
   "execution_count": 48,
   "id": "5cba5a8b",
   "metadata": {},
   "outputs": [],
   "source": [
    "model = MLPClassifier()"
   ]
  },
  {
   "cell_type": "code",
   "execution_count": 49,
   "id": "25a0e2ab",
   "metadata": {},
   "outputs": [],
   "source": [
    "share = 5\n",
    "df_cut_merged = sample_df(\n",
    "    df_cut_merged, \n",
    "    round(df_cut_merged.flag.value_counts()[1] / share * 100 + 1, 0),\n",
    "    100 - share,\n",
    "    share\n",
    ")"
   ]
  },
  {
   "cell_type": "code",
   "execution_count": 50,
   "id": "d5fc13e3",
   "metadata": {},
   "outputs": [],
   "source": [
    "x = df_cut_merged.drop('flag', axis=1)\n",
    "y = df_cut_merged.flag"
   ]
  },
  {
   "cell_type": "code",
   "execution_count": 55,
   "id": "0941f3e6",
   "metadata": {},
   "outputs": [],
   "source": [
    "df3 = fastparquet.ParquetFile('train_data/train_data_2.pq').to_pandas()\n",
    "df3 = pd.merge(df3, answers, on='id', how='left')\n",
    "df3 = df3.drop(['id'], axis=1)"
   ]
  },
  {
   "cell_type": "code",
   "execution_count": 53,
   "id": "aa4a1905",
   "metadata": {},
   "outputs": [
    {
     "data": {
      "text/html": [
       "<style>#sk-container-id-1 {color: black;background-color: white;}#sk-container-id-1 pre{padding: 0;}#sk-container-id-1 div.sk-toggleable {background-color: white;}#sk-container-id-1 label.sk-toggleable__label {cursor: pointer;display: block;width: 100%;margin-bottom: 0;padding: 0.3em;box-sizing: border-box;text-align: center;}#sk-container-id-1 label.sk-toggleable__label-arrow:before {content: \"▸\";float: left;margin-right: 0.25em;color: #696969;}#sk-container-id-1 label.sk-toggleable__label-arrow:hover:before {color: black;}#sk-container-id-1 div.sk-estimator:hover label.sk-toggleable__label-arrow:before {color: black;}#sk-container-id-1 div.sk-toggleable__content {max-height: 0;max-width: 0;overflow: hidden;text-align: left;background-color: #f0f8ff;}#sk-container-id-1 div.sk-toggleable__content pre {margin: 0.2em;color: black;border-radius: 0.25em;background-color: #f0f8ff;}#sk-container-id-1 input.sk-toggleable__control:checked~div.sk-toggleable__content {max-height: 200px;max-width: 100%;overflow: auto;}#sk-container-id-1 input.sk-toggleable__control:checked~label.sk-toggleable__label-arrow:before {content: \"▾\";}#sk-container-id-1 div.sk-estimator input.sk-toggleable__control:checked~label.sk-toggleable__label {background-color: #d4ebff;}#sk-container-id-1 div.sk-label input.sk-toggleable__control:checked~label.sk-toggleable__label {background-color: #d4ebff;}#sk-container-id-1 input.sk-hidden--visually {border: 0;clip: rect(1px 1px 1px 1px);clip: rect(1px, 1px, 1px, 1px);height: 1px;margin: -1px;overflow: hidden;padding: 0;position: absolute;width: 1px;}#sk-container-id-1 div.sk-estimator {font-family: monospace;background-color: #f0f8ff;border: 1px dotted black;border-radius: 0.25em;box-sizing: border-box;margin-bottom: 0.5em;}#sk-container-id-1 div.sk-estimator:hover {background-color: #d4ebff;}#sk-container-id-1 div.sk-parallel-item::after {content: \"\";width: 100%;border-bottom: 1px solid gray;flex-grow: 1;}#sk-container-id-1 div.sk-label:hover label.sk-toggleable__label {background-color: #d4ebff;}#sk-container-id-1 div.sk-serial::before {content: \"\";position: absolute;border-left: 1px solid gray;box-sizing: border-box;top: 0;bottom: 0;left: 50%;z-index: 0;}#sk-container-id-1 div.sk-serial {display: flex;flex-direction: column;align-items: center;background-color: white;padding-right: 0.2em;padding-left: 0.2em;position: relative;}#sk-container-id-1 div.sk-item {position: relative;z-index: 1;}#sk-container-id-1 div.sk-parallel {display: flex;align-items: stretch;justify-content: center;background-color: white;position: relative;}#sk-container-id-1 div.sk-item::before, #sk-container-id-1 div.sk-parallel-item::before {content: \"\";position: absolute;border-left: 1px solid gray;box-sizing: border-box;top: 0;bottom: 0;left: 50%;z-index: -1;}#sk-container-id-1 div.sk-parallel-item {display: flex;flex-direction: column;z-index: 1;position: relative;background-color: white;}#sk-container-id-1 div.sk-parallel-item:first-child::after {align-self: flex-end;width: 50%;}#sk-container-id-1 div.sk-parallel-item:last-child::after {align-self: flex-start;width: 50%;}#sk-container-id-1 div.sk-parallel-item:only-child::after {width: 0;}#sk-container-id-1 div.sk-dashed-wrapped {border: 1px dashed gray;margin: 0 0.4em 0.5em 0.4em;box-sizing: border-box;padding-bottom: 0.4em;background-color: white;}#sk-container-id-1 div.sk-label label {font-family: monospace;font-weight: bold;display: inline-block;line-height: 1.2em;}#sk-container-id-1 div.sk-label-container {text-align: center;}#sk-container-id-1 div.sk-container {/* jupyter's `normalize.less` sets `[hidden] { display: none; }` but bootstrap.min.css set `[hidden] { display: none !important; }` so we also need the `!important` here to be able to override the default hidden behavior on the sphinx rendered scikit-learn.org. See: https://github.com/scikit-learn/scikit-learn/issues/21755 */display: inline-block !important;position: relative;}#sk-container-id-1 div.sk-text-repr-fallback {display: none;}</style><div id=\"sk-container-id-1\" class=\"sk-top-container\"><div class=\"sk-text-repr-fallback\"><pre>MLPClassifier()</pre><b>In a Jupyter environment, please rerun this cell to show the HTML representation or trust the notebook. <br />On GitHub, the HTML representation is unable to render, please try loading this page with nbviewer.org.</b></div><div class=\"sk-container\" hidden><div class=\"sk-item\"><div class=\"sk-estimator sk-toggleable\"><input class=\"sk-toggleable__control sk-hidden--visually\" id=\"sk-estimator-id-1\" type=\"checkbox\" checked><label for=\"sk-estimator-id-1\" class=\"sk-toggleable__label sk-toggleable__label-arrow\">MLPClassifier</label><div class=\"sk-toggleable__content\"><pre>MLPClassifier()</pre></div></div></div></div></div>"
      ],
      "text/plain": [
       "MLPClassifier()"
      ]
     },
     "execution_count": 53,
     "metadata": {},
     "output_type": "execute_result"
    }
   ],
   "source": [
    "model.fit(x,y)"
   ]
  },
  {
   "cell_type": "code",
   "execution_count": 56,
   "id": "deed0b47",
   "metadata": {},
   "outputs": [
    {
     "name": "stdout",
     "output_type": "stream",
     "text": [
      "ROC AUC Score: 0.6205342433016622\n"
     ]
    }
   ],
   "source": [
    "x_test = df3.drop('flag', axis=1)\n",
    "y_test = df3.flag\n",
    "y_pred_prob = model.predict_proba(x_test)[:, 1]\n",
    "\n",
    "# Calculate the ROC AUC score\n",
    "roc_auc = roc_auc_score(y_test, y_pred_prob)\n",
    "\n",
    "print(\"ROC AUC Score:\", roc_auc)"
   ]
  },
  {
   "cell_type": "code",
   "execution_count": 57,
   "id": "3f1d1526",
   "metadata": {},
   "outputs": [
    {
     "name": "stdout",
     "output_type": "stream",
     "text": [
      "Best Parameters: {'max_depth': 20, 'min_samples_leaf': 4, 'min_samples_split': 5, 'n_estimators': 200}\n",
      "Best Score: 0.7089107858720117\n"
     ]
    }
   ],
   "source": [
    "df_cut_1 = pd.read_csv('train_data/df_only_last_product_1.csv')\n",
    "df_cut_1 = df_cut_1.drop(0, axis=0)\n",
    "df_cut_2 = pd.read_csv('train_data/df_only_last_product_0.csv')\n",
    "df_cut_2 = df_cut_2.drop(0, axis=0)\n",
    "df_cut_merged = pd.concat([df_cut_2, df_cut_1], ignore_index=True)\n",
    "df_cut_merged = df_cut_merged.drop(['id'], axis=1)\n",
    "\n",
    "share = 45\n",
    "df_cut_merged = sample_df(\n",
    "    df_cut_merged, \n",
    "    round(df_cut_merged.flag.value_counts()[1] / share * 100 + 1, 0),\n",
    "    100 - share,\n",
    "    share\n",
    ")\n",
    "\n",
    "x = df_cut_merged.drop('flag', axis=1)\n",
    "y = df_cut_merged.flag\n",
    "\n",
    "model = RandomForestClassifier()\n",
    "\n",
    "param_grid = {\n",
    "    'n_estimators': [50, 100, 200],\n",
    "    'max_depth': [None, 5, 10, 20],\n",
    "    'min_samples_split': [2, 5, 10],\n",
    "    'min_samples_leaf': [1, 2, 4]\n",
    "}\n",
    "\n",
    "grid_search = GridSearchCV(estimator=model, param_grid=param_grid, cv=3, scoring='roc_auc')\n",
    "grid_search.fit(x, y)\n",
    "\n",
    "best_params = grid_search.best_params_\n",
    "best_score = grid_search.best_score_\n",
    "\n",
    "print(\"Best Parameters:\", best_params)\n",
    "print(\"Best Score:\", best_score)"
   ]
  },
  {
   "cell_type": "code",
   "execution_count": 58,
   "id": "261137e3",
   "metadata": {
    "collapsed": true
   },
   "outputs": [
    {
     "name": "stderr",
     "output_type": "stream",
     "text": [
      "C:\\Users\\User\\AppData\\Roaming\\Python\\Python311\\site-packages\\sklearn\\neural_network\\_multilayer_perceptron.py:686: ConvergenceWarning: Stochastic Optimizer: Maximum iterations (200) reached and the optimization hasn't converged yet.\n",
      "  warnings.warn(\n",
      "C:\\Users\\User\\AppData\\Roaming\\Python\\Python311\\site-packages\\sklearn\\neural_network\\_multilayer_perceptron.py:686: ConvergenceWarning: Stochastic Optimizer: Maximum iterations (200) reached and the optimization hasn't converged yet.\n",
      "  warnings.warn(\n",
      "C:\\Users\\User\\AppData\\Roaming\\Python\\Python311\\site-packages\\sklearn\\neural_network\\_multilayer_perceptron.py:686: ConvergenceWarning: Stochastic Optimizer: Maximum iterations (200) reached and the optimization hasn't converged yet.\n",
      "  warnings.warn(\n",
      "C:\\Users\\User\\AppData\\Roaming\\Python\\Python311\\site-packages\\sklearn\\neural_network\\_multilayer_perceptron.py:686: ConvergenceWarning: Stochastic Optimizer: Maximum iterations (200) reached and the optimization hasn't converged yet.\n",
      "  warnings.warn(\n",
      "C:\\Users\\User\\AppData\\Roaming\\Python\\Python311\\site-packages\\sklearn\\neural_network\\_multilayer_perceptron.py:686: ConvergenceWarning: Stochastic Optimizer: Maximum iterations (200) reached and the optimization hasn't converged yet.\n",
      "  warnings.warn(\n",
      "C:\\Users\\User\\AppData\\Roaming\\Python\\Python311\\site-packages\\sklearn\\neural_network\\_multilayer_perceptron.py:686: ConvergenceWarning: Stochastic Optimizer: Maximum iterations (200) reached and the optimization hasn't converged yet.\n",
      "  warnings.warn(\n",
      "C:\\Users\\User\\AppData\\Roaming\\Python\\Python311\\site-packages\\sklearn\\neural_network\\_multilayer_perceptron.py:686: ConvergenceWarning: Stochastic Optimizer: Maximum iterations (200) reached and the optimization hasn't converged yet.\n",
      "  warnings.warn(\n",
      "C:\\Users\\User\\AppData\\Roaming\\Python\\Python311\\site-packages\\sklearn\\neural_network\\_multilayer_perceptron.py:686: ConvergenceWarning: Stochastic Optimizer: Maximum iterations (200) reached and the optimization hasn't converged yet.\n",
      "  warnings.warn(\n",
      "C:\\Users\\User\\AppData\\Roaming\\Python\\Python311\\site-packages\\sklearn\\neural_network\\_multilayer_perceptron.py:686: ConvergenceWarning: Stochastic Optimizer: Maximum iterations (200) reached and the optimization hasn't converged yet.\n",
      "  warnings.warn(\n",
      "C:\\Users\\User\\AppData\\Roaming\\Python\\Python311\\site-packages\\sklearn\\neural_network\\_multilayer_perceptron.py:686: ConvergenceWarning: Stochastic Optimizer: Maximum iterations (200) reached and the optimization hasn't converged yet.\n",
      "  warnings.warn(\n",
      "C:\\Users\\User\\AppData\\Roaming\\Python\\Python311\\site-packages\\sklearn\\neural_network\\_multilayer_perceptron.py:686: ConvergenceWarning: Stochastic Optimizer: Maximum iterations (200) reached and the optimization hasn't converged yet.\n",
      "  warnings.warn(\n",
      "C:\\Users\\User\\AppData\\Roaming\\Python\\Python311\\site-packages\\sklearn\\neural_network\\_multilayer_perceptron.py:686: ConvergenceWarning: Stochastic Optimizer: Maximum iterations (200) reached and the optimization hasn't converged yet.\n",
      "  warnings.warn(\n",
      "C:\\Users\\User\\AppData\\Roaming\\Python\\Python311\\site-packages\\sklearn\\neural_network\\_multilayer_perceptron.py:686: ConvergenceWarning: Stochastic Optimizer: Maximum iterations (200) reached and the optimization hasn't converged yet.\n",
      "  warnings.warn(\n",
      "C:\\Users\\User\\AppData\\Roaming\\Python\\Python311\\site-packages\\sklearn\\neural_network\\_multilayer_perceptron.py:686: ConvergenceWarning: Stochastic Optimizer: Maximum iterations (200) reached and the optimization hasn't converged yet.\n",
      "  warnings.warn(\n",
      "C:\\Users\\User\\AppData\\Roaming\\Python\\Python311\\site-packages\\sklearn\\neural_network\\_multilayer_perceptron.py:686: ConvergenceWarning: Stochastic Optimizer: Maximum iterations (200) reached and the optimization hasn't converged yet.\n",
      "  warnings.warn(\n",
      "C:\\Users\\User\\AppData\\Roaming\\Python\\Python311\\site-packages\\sklearn\\neural_network\\_multilayer_perceptron.py:686: ConvergenceWarning: Stochastic Optimizer: Maximum iterations (200) reached and the optimization hasn't converged yet.\n",
      "  warnings.warn(\n",
      "C:\\Users\\User\\AppData\\Roaming\\Python\\Python311\\site-packages\\sklearn\\neural_network\\_multilayer_perceptron.py:686: ConvergenceWarning: Stochastic Optimizer: Maximum iterations (200) reached and the optimization hasn't converged yet.\n",
      "  warnings.warn(\n",
      "C:\\Users\\User\\AppData\\Roaming\\Python\\Python311\\site-packages\\sklearn\\neural_network\\_multilayer_perceptron.py:686: ConvergenceWarning: Stochastic Optimizer: Maximum iterations (200) reached and the optimization hasn't converged yet.\n",
      "  warnings.warn(\n",
      "C:\\Users\\User\\AppData\\Roaming\\Python\\Python311\\site-packages\\sklearn\\neural_network\\_multilayer_perceptron.py:686: ConvergenceWarning: Stochastic Optimizer: Maximum iterations (200) reached and the optimization hasn't converged yet.\n",
      "  warnings.warn(\n",
      "C:\\Users\\User\\AppData\\Roaming\\Python\\Python311\\site-packages\\sklearn\\neural_network\\_multilayer_perceptron.py:686: ConvergenceWarning: Stochastic Optimizer: Maximum iterations (200) reached and the optimization hasn't converged yet.\n",
      "  warnings.warn(\n",
      "C:\\Users\\User\\AppData\\Roaming\\Python\\Python311\\site-packages\\sklearn\\neural_network\\_multilayer_perceptron.py:686: ConvergenceWarning: Stochastic Optimizer: Maximum iterations (200) reached and the optimization hasn't converged yet.\n",
      "  warnings.warn(\n",
      "C:\\Users\\User\\AppData\\Roaming\\Python\\Python311\\site-packages\\sklearn\\neural_network\\_multilayer_perceptron.py:686: ConvergenceWarning: Stochastic Optimizer: Maximum iterations (200) reached and the optimization hasn't converged yet.\n",
      "  warnings.warn(\n",
      "C:\\Users\\User\\AppData\\Roaming\\Python\\Python311\\site-packages\\sklearn\\neural_network\\_multilayer_perceptron.py:686: ConvergenceWarning: Stochastic Optimizer: Maximum iterations (200) reached and the optimization hasn't converged yet.\n",
      "  warnings.warn(\n",
      "C:\\Users\\User\\AppData\\Roaming\\Python\\Python311\\site-packages\\sklearn\\neural_network\\_multilayer_perceptron.py:686: ConvergenceWarning: Stochastic Optimizer: Maximum iterations (200) reached and the optimization hasn't converged yet.\n",
      "  warnings.warn(\n",
      "C:\\Users\\User\\AppData\\Roaming\\Python\\Python311\\site-packages\\sklearn\\neural_network\\_multilayer_perceptron.py:686: ConvergenceWarning: Stochastic Optimizer: Maximum iterations (200) reached and the optimization hasn't converged yet.\n",
      "  warnings.warn(\n",
      "C:\\Users\\User\\AppData\\Roaming\\Python\\Python311\\site-packages\\sklearn\\neural_network\\_multilayer_perceptron.py:686: ConvergenceWarning: Stochastic Optimizer: Maximum iterations (200) reached and the optimization hasn't converged yet.\n",
      "  warnings.warn(\n",
      "C:\\Users\\User\\AppData\\Roaming\\Python\\Python311\\site-packages\\sklearn\\neural_network\\_multilayer_perceptron.py:686: ConvergenceWarning: Stochastic Optimizer: Maximum iterations (200) reached and the optimization hasn't converged yet.\n",
      "  warnings.warn(\n",
      "C:\\Users\\User\\AppData\\Roaming\\Python\\Python311\\site-packages\\sklearn\\neural_network\\_multilayer_perceptron.py:686: ConvergenceWarning: Stochastic Optimizer: Maximum iterations (200) reached and the optimization hasn't converged yet.\n",
      "  warnings.warn(\n",
      "C:\\Users\\User\\AppData\\Roaming\\Python\\Python311\\site-packages\\sklearn\\neural_network\\_multilayer_perceptron.py:686: ConvergenceWarning: Stochastic Optimizer: Maximum iterations (200) reached and the optimization hasn't converged yet.\n",
      "  warnings.warn(\n",
      "C:\\Users\\User\\AppData\\Roaming\\Python\\Python311\\site-packages\\sklearn\\neural_network\\_multilayer_perceptron.py:686: ConvergenceWarning: Stochastic Optimizer: Maximum iterations (200) reached and the optimization hasn't converged yet.\n",
      "  warnings.warn(\n",
      "C:\\Users\\User\\AppData\\Roaming\\Python\\Python311\\site-packages\\sklearn\\neural_network\\_multilayer_perceptron.py:686: ConvergenceWarning: Stochastic Optimizer: Maximum iterations (200) reached and the optimization hasn't converged yet.\n",
      "  warnings.warn(\n",
      "C:\\Users\\User\\AppData\\Roaming\\Python\\Python311\\site-packages\\sklearn\\neural_network\\_multilayer_perceptron.py:686: ConvergenceWarning: Stochastic Optimizer: Maximum iterations (200) reached and the optimization hasn't converged yet.\n",
      "  warnings.warn(\n",
      "C:\\Users\\User\\AppData\\Roaming\\Python\\Python311\\site-packages\\sklearn\\neural_network\\_multilayer_perceptron.py:686: ConvergenceWarning: Stochastic Optimizer: Maximum iterations (200) reached and the optimization hasn't converged yet.\n",
      "  warnings.warn(\n"
     ]
    },
    {
     "name": "stderr",
     "output_type": "stream",
     "text": [
      "C:\\Users\\User\\AppData\\Roaming\\Python\\Python311\\site-packages\\sklearn\\neural_network\\_multilayer_perceptron.py:686: ConvergenceWarning: Stochastic Optimizer: Maximum iterations (200) reached and the optimization hasn't converged yet.\n",
      "  warnings.warn(\n",
      "C:\\Users\\User\\AppData\\Roaming\\Python\\Python311\\site-packages\\sklearn\\neural_network\\_multilayer_perceptron.py:686: ConvergenceWarning: Stochastic Optimizer: Maximum iterations (200) reached and the optimization hasn't converged yet.\n",
      "  warnings.warn(\n",
      "C:\\Users\\User\\AppData\\Roaming\\Python\\Python311\\site-packages\\sklearn\\neural_network\\_multilayer_perceptron.py:686: ConvergenceWarning: Stochastic Optimizer: Maximum iterations (200) reached and the optimization hasn't converged yet.\n",
      "  warnings.warn(\n",
      "C:\\Users\\User\\AppData\\Roaming\\Python\\Python311\\site-packages\\sklearn\\neural_network\\_multilayer_perceptron.py:686: ConvergenceWarning: Stochastic Optimizer: Maximum iterations (200) reached and the optimization hasn't converged yet.\n",
      "  warnings.warn(\n",
      "C:\\Users\\User\\AppData\\Roaming\\Python\\Python311\\site-packages\\sklearn\\neural_network\\_multilayer_perceptron.py:686: ConvergenceWarning: Stochastic Optimizer: Maximum iterations (200) reached and the optimization hasn't converged yet.\n",
      "  warnings.warn(\n",
      "C:\\Users\\User\\AppData\\Roaming\\Python\\Python311\\site-packages\\sklearn\\neural_network\\_multilayer_perceptron.py:686: ConvergenceWarning: Stochastic Optimizer: Maximum iterations (200) reached and the optimization hasn't converged yet.\n",
      "  warnings.warn(\n",
      "C:\\Users\\User\\AppData\\Roaming\\Python\\Python311\\site-packages\\sklearn\\neural_network\\_multilayer_perceptron.py:686: ConvergenceWarning: Stochastic Optimizer: Maximum iterations (200) reached and the optimization hasn't converged yet.\n",
      "  warnings.warn(\n",
      "C:\\Users\\User\\AppData\\Roaming\\Python\\Python311\\site-packages\\sklearn\\neural_network\\_multilayer_perceptron.py:686: ConvergenceWarning: Stochastic Optimizer: Maximum iterations (200) reached and the optimization hasn't converged yet.\n",
      "  warnings.warn(\n",
      "C:\\Users\\User\\AppData\\Roaming\\Python\\Python311\\site-packages\\sklearn\\neural_network\\_multilayer_perceptron.py:686: ConvergenceWarning: Stochastic Optimizer: Maximum iterations (200) reached and the optimization hasn't converged yet.\n",
      "  warnings.warn(\n",
      "C:\\Users\\User\\AppData\\Roaming\\Python\\Python311\\site-packages\\sklearn\\neural_network\\_multilayer_perceptron.py:686: ConvergenceWarning: Stochastic Optimizer: Maximum iterations (200) reached and the optimization hasn't converged yet.\n",
      "  warnings.warn(\n",
      "C:\\Users\\User\\AppData\\Roaming\\Python\\Python311\\site-packages\\sklearn\\neural_network\\_multilayer_perceptron.py:686: ConvergenceWarning: Stochastic Optimizer: Maximum iterations (200) reached and the optimization hasn't converged yet.\n",
      "  warnings.warn(\n",
      "C:\\Users\\User\\AppData\\Roaming\\Python\\Python311\\site-packages\\sklearn\\neural_network\\_multilayer_perceptron.py:686: ConvergenceWarning: Stochastic Optimizer: Maximum iterations (200) reached and the optimization hasn't converged yet.\n",
      "  warnings.warn(\n",
      "C:\\Users\\User\\AppData\\Roaming\\Python\\Python311\\site-packages\\sklearn\\neural_network\\_multilayer_perceptron.py:686: ConvergenceWarning: Stochastic Optimizer: Maximum iterations (200) reached and the optimization hasn't converged yet.\n",
      "  warnings.warn(\n",
      "C:\\Users\\User\\AppData\\Roaming\\Python\\Python311\\site-packages\\sklearn\\neural_network\\_multilayer_perceptron.py:686: ConvergenceWarning: Stochastic Optimizer: Maximum iterations (200) reached and the optimization hasn't converged yet.\n",
      "  warnings.warn(\n",
      "C:\\Users\\User\\AppData\\Roaming\\Python\\Python311\\site-packages\\sklearn\\neural_network\\_multilayer_perceptron.py:686: ConvergenceWarning: Stochastic Optimizer: Maximum iterations (200) reached and the optimization hasn't converged yet.\n",
      "  warnings.warn(\n",
      "C:\\Users\\User\\AppData\\Roaming\\Python\\Python311\\site-packages\\sklearn\\neural_network\\_multilayer_perceptron.py:686: ConvergenceWarning: Stochastic Optimizer: Maximum iterations (200) reached and the optimization hasn't converged yet.\n",
      "  warnings.warn(\n",
      "C:\\Users\\User\\AppData\\Roaming\\Python\\Python311\\site-packages\\sklearn\\neural_network\\_multilayer_perceptron.py:686: ConvergenceWarning: Stochastic Optimizer: Maximum iterations (200) reached and the optimization hasn't converged yet.\n",
      "  warnings.warn(\n",
      "C:\\Users\\User\\AppData\\Roaming\\Python\\Python311\\site-packages\\sklearn\\neural_network\\_multilayer_perceptron.py:686: ConvergenceWarning: Stochastic Optimizer: Maximum iterations (200) reached and the optimization hasn't converged yet.\n",
      "  warnings.warn(\n",
      "C:\\Users\\User\\AppData\\Roaming\\Python\\Python311\\site-packages\\sklearn\\neural_network\\_multilayer_perceptron.py:686: ConvergenceWarning: Stochastic Optimizer: Maximum iterations (200) reached and the optimization hasn't converged yet.\n",
      "  warnings.warn(\n",
      "C:\\Users\\User\\AppData\\Roaming\\Python\\Python311\\site-packages\\sklearn\\neural_network\\_multilayer_perceptron.py:686: ConvergenceWarning: Stochastic Optimizer: Maximum iterations (200) reached and the optimization hasn't converged yet.\n",
      "  warnings.warn(\n",
      "C:\\Users\\User\\AppData\\Roaming\\Python\\Python311\\site-packages\\sklearn\\neural_network\\_multilayer_perceptron.py:686: ConvergenceWarning: Stochastic Optimizer: Maximum iterations (200) reached and the optimization hasn't converged yet.\n",
      "  warnings.warn(\n",
      "C:\\Users\\User\\AppData\\Roaming\\Python\\Python311\\site-packages\\sklearn\\neural_network\\_multilayer_perceptron.py:686: ConvergenceWarning: Stochastic Optimizer: Maximum iterations (200) reached and the optimization hasn't converged yet.\n",
      "  warnings.warn(\n",
      "C:\\Users\\User\\AppData\\Roaming\\Python\\Python311\\site-packages\\sklearn\\neural_network\\_multilayer_perceptron.py:686: ConvergenceWarning: Stochastic Optimizer: Maximum iterations (200) reached and the optimization hasn't converged yet.\n",
      "  warnings.warn(\n",
      "C:\\Users\\User\\AppData\\Roaming\\Python\\Python311\\site-packages\\sklearn\\neural_network\\_multilayer_perceptron.py:686: ConvergenceWarning: Stochastic Optimizer: Maximum iterations (200) reached and the optimization hasn't converged yet.\n",
      "  warnings.warn(\n",
      "C:\\Users\\User\\AppData\\Roaming\\Python\\Python311\\site-packages\\sklearn\\neural_network\\_multilayer_perceptron.py:686: ConvergenceWarning: Stochastic Optimizer: Maximum iterations (200) reached and the optimization hasn't converged yet.\n",
      "  warnings.warn(\n",
      "C:\\Users\\User\\AppData\\Roaming\\Python\\Python311\\site-packages\\sklearn\\neural_network\\_multilayer_perceptron.py:686: ConvergenceWarning: Stochastic Optimizer: Maximum iterations (200) reached and the optimization hasn't converged yet.\n",
      "  warnings.warn(\n",
      "C:\\Users\\User\\AppData\\Roaming\\Python\\Python311\\site-packages\\sklearn\\neural_network\\_multilayer_perceptron.py:686: ConvergenceWarning: Stochastic Optimizer: Maximum iterations (200) reached and the optimization hasn't converged yet.\n",
      "  warnings.warn(\n",
      "C:\\Users\\User\\AppData\\Roaming\\Python\\Python311\\site-packages\\sklearn\\neural_network\\_multilayer_perceptron.py:686: ConvergenceWarning: Stochastic Optimizer: Maximum iterations (200) reached and the optimization hasn't converged yet.\n",
      "  warnings.warn(\n",
      "C:\\Users\\User\\AppData\\Roaming\\Python\\Python311\\site-packages\\sklearn\\neural_network\\_multilayer_perceptron.py:686: ConvergenceWarning: Stochastic Optimizer: Maximum iterations (200) reached and the optimization hasn't converged yet.\n",
      "  warnings.warn(\n",
      "C:\\Users\\User\\AppData\\Roaming\\Python\\Python311\\site-packages\\sklearn\\neural_network\\_multilayer_perceptron.py:686: ConvergenceWarning: Stochastic Optimizer: Maximum iterations (200) reached and the optimization hasn't converged yet.\n",
      "  warnings.warn(\n",
      "C:\\Users\\User\\AppData\\Roaming\\Python\\Python311\\site-packages\\sklearn\\neural_network\\_multilayer_perceptron.py:686: ConvergenceWarning: Stochastic Optimizer: Maximum iterations (200) reached and the optimization hasn't converged yet.\n",
      "  warnings.warn(\n",
      "C:\\Users\\User\\AppData\\Roaming\\Python\\Python311\\site-packages\\sklearn\\neural_network\\_multilayer_perceptron.py:686: ConvergenceWarning: Stochastic Optimizer: Maximum iterations (200) reached and the optimization hasn't converged yet.\n",
      "  warnings.warn(\n",
      "C:\\Users\\User\\AppData\\Roaming\\Python\\Python311\\site-packages\\sklearn\\neural_network\\_multilayer_perceptron.py:686: ConvergenceWarning: Stochastic Optimizer: Maximum iterations (200) reached and the optimization hasn't converged yet.\n",
      "  warnings.warn(\n"
     ]
    },
    {
     "name": "stderr",
     "output_type": "stream",
     "text": [
      "C:\\Users\\User\\AppData\\Roaming\\Python\\Python311\\site-packages\\sklearn\\neural_network\\_multilayer_perceptron.py:686: ConvergenceWarning: Stochastic Optimizer: Maximum iterations (200) reached and the optimization hasn't converged yet.\n",
      "  warnings.warn(\n",
      "C:\\Users\\User\\AppData\\Roaming\\Python\\Python311\\site-packages\\sklearn\\neural_network\\_multilayer_perceptron.py:686: ConvergenceWarning: Stochastic Optimizer: Maximum iterations (200) reached and the optimization hasn't converged yet.\n",
      "  warnings.warn(\n",
      "C:\\Users\\User\\AppData\\Roaming\\Python\\Python311\\site-packages\\sklearn\\neural_network\\_multilayer_perceptron.py:686: ConvergenceWarning: Stochastic Optimizer: Maximum iterations (200) reached and the optimization hasn't converged yet.\n",
      "  warnings.warn(\n",
      "C:\\Users\\User\\AppData\\Roaming\\Python\\Python311\\site-packages\\sklearn\\neural_network\\_multilayer_perceptron.py:686: ConvergenceWarning: Stochastic Optimizer: Maximum iterations (200) reached and the optimization hasn't converged yet.\n",
      "  warnings.warn(\n",
      "C:\\Users\\User\\AppData\\Roaming\\Python\\Python311\\site-packages\\sklearn\\neural_network\\_multilayer_perceptron.py:686: ConvergenceWarning: Stochastic Optimizer: Maximum iterations (200) reached and the optimization hasn't converged yet.\n",
      "  warnings.warn(\n",
      "C:\\Users\\User\\AppData\\Roaming\\Python\\Python311\\site-packages\\sklearn\\neural_network\\_multilayer_perceptron.py:686: ConvergenceWarning: Stochastic Optimizer: Maximum iterations (200) reached and the optimization hasn't converged yet.\n",
      "  warnings.warn(\n",
      "C:\\Users\\User\\AppData\\Roaming\\Python\\Python311\\site-packages\\sklearn\\neural_network\\_multilayer_perceptron.py:686: ConvergenceWarning: Stochastic Optimizer: Maximum iterations (200) reached and the optimization hasn't converged yet.\n",
      "  warnings.warn(\n",
      "C:\\Users\\User\\AppData\\Roaming\\Python\\Python311\\site-packages\\sklearn\\neural_network\\_multilayer_perceptron.py:686: ConvergenceWarning: Stochastic Optimizer: Maximum iterations (200) reached and the optimization hasn't converged yet.\n",
      "  warnings.warn(\n",
      "C:\\Users\\User\\AppData\\Roaming\\Python\\Python311\\site-packages\\sklearn\\neural_network\\_multilayer_perceptron.py:686: ConvergenceWarning: Stochastic Optimizer: Maximum iterations (200) reached and the optimization hasn't converged yet.\n",
      "  warnings.warn(\n",
      "C:\\Users\\User\\AppData\\Roaming\\Python\\Python311\\site-packages\\sklearn\\neural_network\\_multilayer_perceptron.py:686: ConvergenceWarning: Stochastic Optimizer: Maximum iterations (200) reached and the optimization hasn't converged yet.\n",
      "  warnings.warn(\n",
      "C:\\Users\\User\\AppData\\Roaming\\Python\\Python311\\site-packages\\sklearn\\neural_network\\_multilayer_perceptron.py:686: ConvergenceWarning: Stochastic Optimizer: Maximum iterations (200) reached and the optimization hasn't converged yet.\n",
      "  warnings.warn(\n",
      "C:\\Users\\User\\AppData\\Roaming\\Python\\Python311\\site-packages\\sklearn\\neural_network\\_multilayer_perceptron.py:686: ConvergenceWarning: Stochastic Optimizer: Maximum iterations (200) reached and the optimization hasn't converged yet.\n",
      "  warnings.warn(\n",
      "C:\\Users\\User\\AppData\\Roaming\\Python\\Python311\\site-packages\\sklearn\\neural_network\\_multilayer_perceptron.py:686: ConvergenceWarning: Stochastic Optimizer: Maximum iterations (200) reached and the optimization hasn't converged yet.\n",
      "  warnings.warn(\n",
      "C:\\Users\\User\\AppData\\Roaming\\Python\\Python311\\site-packages\\sklearn\\neural_network\\_multilayer_perceptron.py:686: ConvergenceWarning: Stochastic Optimizer: Maximum iterations (200) reached and the optimization hasn't converged yet.\n",
      "  warnings.warn(\n",
      "C:\\Users\\User\\AppData\\Roaming\\Python\\Python311\\site-packages\\sklearn\\neural_network\\_multilayer_perceptron.py:686: ConvergenceWarning: Stochastic Optimizer: Maximum iterations (200) reached and the optimization hasn't converged yet.\n",
      "  warnings.warn(\n",
      "C:\\Users\\User\\AppData\\Roaming\\Python\\Python311\\site-packages\\sklearn\\neural_network\\_multilayer_perceptron.py:686: ConvergenceWarning: Stochastic Optimizer: Maximum iterations (200) reached and the optimization hasn't converged yet.\n",
      "  warnings.warn(\n",
      "C:\\Users\\User\\AppData\\Roaming\\Python\\Python311\\site-packages\\sklearn\\neural_network\\_multilayer_perceptron.py:686: ConvergenceWarning: Stochastic Optimizer: Maximum iterations (200) reached and the optimization hasn't converged yet.\n",
      "  warnings.warn(\n",
      "C:\\Users\\User\\AppData\\Roaming\\Python\\Python311\\site-packages\\sklearn\\neural_network\\_multilayer_perceptron.py:686: ConvergenceWarning: Stochastic Optimizer: Maximum iterations (200) reached and the optimization hasn't converged yet.\n",
      "  warnings.warn(\n",
      "C:\\Users\\User\\AppData\\Roaming\\Python\\Python311\\site-packages\\sklearn\\neural_network\\_multilayer_perceptron.py:686: ConvergenceWarning: Stochastic Optimizer: Maximum iterations (200) reached and the optimization hasn't converged yet.\n",
      "  warnings.warn(\n",
      "C:\\Users\\User\\AppData\\Roaming\\Python\\Python311\\site-packages\\sklearn\\neural_network\\_multilayer_perceptron.py:686: ConvergenceWarning: Stochastic Optimizer: Maximum iterations (200) reached and the optimization hasn't converged yet.\n",
      "  warnings.warn(\n",
      "C:\\Users\\User\\AppData\\Roaming\\Python\\Python311\\site-packages\\sklearn\\neural_network\\_multilayer_perceptron.py:686: ConvergenceWarning: Stochastic Optimizer: Maximum iterations (200) reached and the optimization hasn't converged yet.\n",
      "  warnings.warn(\n",
      "C:\\Users\\User\\AppData\\Roaming\\Python\\Python311\\site-packages\\sklearn\\neural_network\\_multilayer_perceptron.py:686: ConvergenceWarning: Stochastic Optimizer: Maximum iterations (200) reached and the optimization hasn't converged yet.\n",
      "  warnings.warn(\n",
      "C:\\Users\\User\\AppData\\Roaming\\Python\\Python311\\site-packages\\sklearn\\neural_network\\_multilayer_perceptron.py:686: ConvergenceWarning: Stochastic Optimizer: Maximum iterations (200) reached and the optimization hasn't converged yet.\n",
      "  warnings.warn(\n",
      "C:\\Users\\User\\AppData\\Roaming\\Python\\Python311\\site-packages\\sklearn\\neural_network\\_multilayer_perceptron.py:686: ConvergenceWarning: Stochastic Optimizer: Maximum iterations (200) reached and the optimization hasn't converged yet.\n",
      "  warnings.warn(\n",
      "C:\\Users\\User\\AppData\\Roaming\\Python\\Python311\\site-packages\\sklearn\\neural_network\\_multilayer_perceptron.py:686: ConvergenceWarning: Stochastic Optimizer: Maximum iterations (200) reached and the optimization hasn't converged yet.\n",
      "  warnings.warn(\n",
      "C:\\Users\\User\\AppData\\Roaming\\Python\\Python311\\site-packages\\sklearn\\neural_network\\_multilayer_perceptron.py:686: ConvergenceWarning: Stochastic Optimizer: Maximum iterations (200) reached and the optimization hasn't converged yet.\n",
      "  warnings.warn(\n",
      "C:\\Users\\User\\AppData\\Roaming\\Python\\Python311\\site-packages\\sklearn\\neural_network\\_multilayer_perceptron.py:686: ConvergenceWarning: Stochastic Optimizer: Maximum iterations (200) reached and the optimization hasn't converged yet.\n",
      "  warnings.warn(\n",
      "C:\\Users\\User\\AppData\\Roaming\\Python\\Python311\\site-packages\\sklearn\\neural_network\\_multilayer_perceptron.py:686: ConvergenceWarning: Stochastic Optimizer: Maximum iterations (200) reached and the optimization hasn't converged yet.\n",
      "  warnings.warn(\n",
      "C:\\Users\\User\\AppData\\Roaming\\Python\\Python311\\site-packages\\sklearn\\neural_network\\_multilayer_perceptron.py:686: ConvergenceWarning: Stochastic Optimizer: Maximum iterations (200) reached and the optimization hasn't converged yet.\n",
      "  warnings.warn(\n",
      "C:\\Users\\User\\AppData\\Roaming\\Python\\Python311\\site-packages\\sklearn\\neural_network\\_multilayer_perceptron.py:686: ConvergenceWarning: Stochastic Optimizer: Maximum iterations (200) reached and the optimization hasn't converged yet.\n",
      "  warnings.warn(\n",
      "C:\\Users\\User\\AppData\\Roaming\\Python\\Python311\\site-packages\\sklearn\\neural_network\\_multilayer_perceptron.py:686: ConvergenceWarning: Stochastic Optimizer: Maximum iterations (200) reached and the optimization hasn't converged yet.\n",
      "  warnings.warn(\n",
      "C:\\Users\\User\\AppData\\Roaming\\Python\\Python311\\site-packages\\sklearn\\neural_network\\_multilayer_perceptron.py:686: ConvergenceWarning: Stochastic Optimizer: Maximum iterations (200) reached and the optimization hasn't converged yet.\n",
      "  warnings.warn(\n",
      "C:\\Users\\User\\AppData\\Roaming\\Python\\Python311\\site-packages\\sklearn\\neural_network\\_multilayer_perceptron.py:686: ConvergenceWarning: Stochastic Optimizer: Maximum iterations (200) reached and the optimization hasn't converged yet.\n",
      "  warnings.warn(\n"
     ]
    },
    {
     "name": "stderr",
     "output_type": "stream",
     "text": [
      "C:\\Users\\User\\AppData\\Roaming\\Python\\Python311\\site-packages\\sklearn\\neural_network\\_multilayer_perceptron.py:686: ConvergenceWarning: Stochastic Optimizer: Maximum iterations (200) reached and the optimization hasn't converged yet.\n",
      "  warnings.warn(\n",
      "C:\\Users\\User\\AppData\\Roaming\\Python\\Python311\\site-packages\\sklearn\\neural_network\\_multilayer_perceptron.py:686: ConvergenceWarning: Stochastic Optimizer: Maximum iterations (200) reached and the optimization hasn't converged yet.\n",
      "  warnings.warn(\n",
      "C:\\Users\\User\\AppData\\Roaming\\Python\\Python311\\site-packages\\sklearn\\neural_network\\_multilayer_perceptron.py:686: ConvergenceWarning: Stochastic Optimizer: Maximum iterations (200) reached and the optimization hasn't converged yet.\n",
      "  warnings.warn(\n",
      "C:\\Users\\User\\AppData\\Roaming\\Python\\Python311\\site-packages\\sklearn\\neural_network\\_multilayer_perceptron.py:686: ConvergenceWarning: Stochastic Optimizer: Maximum iterations (200) reached and the optimization hasn't converged yet.\n",
      "  warnings.warn(\n",
      "C:\\Users\\User\\AppData\\Roaming\\Python\\Python311\\site-packages\\sklearn\\neural_network\\_multilayer_perceptron.py:686: ConvergenceWarning: Stochastic Optimizer: Maximum iterations (200) reached and the optimization hasn't converged yet.\n",
      "  warnings.warn(\n",
      "C:\\Users\\User\\AppData\\Roaming\\Python\\Python311\\site-packages\\sklearn\\neural_network\\_multilayer_perceptron.py:686: ConvergenceWarning: Stochastic Optimizer: Maximum iterations (200) reached and the optimization hasn't converged yet.\n",
      "  warnings.warn(\n",
      "C:\\Users\\User\\AppData\\Roaming\\Python\\Python311\\site-packages\\sklearn\\neural_network\\_multilayer_perceptron.py:686: ConvergenceWarning: Stochastic Optimizer: Maximum iterations (200) reached and the optimization hasn't converged yet.\n",
      "  warnings.warn(\n",
      "C:\\Users\\User\\AppData\\Roaming\\Python\\Python311\\site-packages\\sklearn\\neural_network\\_multilayer_perceptron.py:686: ConvergenceWarning: Stochastic Optimizer: Maximum iterations (200) reached and the optimization hasn't converged yet.\n",
      "  warnings.warn(\n",
      "C:\\Users\\User\\AppData\\Roaming\\Python\\Python311\\site-packages\\sklearn\\neural_network\\_multilayer_perceptron.py:686: ConvergenceWarning: Stochastic Optimizer: Maximum iterations (200) reached and the optimization hasn't converged yet.\n",
      "  warnings.warn(\n",
      "C:\\Users\\User\\AppData\\Roaming\\Python\\Python311\\site-packages\\sklearn\\neural_network\\_multilayer_perceptron.py:686: ConvergenceWarning: Stochastic Optimizer: Maximum iterations (200) reached and the optimization hasn't converged yet.\n",
      "  warnings.warn(\n",
      "C:\\Users\\User\\AppData\\Roaming\\Python\\Python311\\site-packages\\sklearn\\neural_network\\_multilayer_perceptron.py:686: ConvergenceWarning: Stochastic Optimizer: Maximum iterations (200) reached and the optimization hasn't converged yet.\n",
      "  warnings.warn(\n",
      "C:\\Users\\User\\AppData\\Roaming\\Python\\Python311\\site-packages\\sklearn\\neural_network\\_multilayer_perceptron.py:686: ConvergenceWarning: Stochastic Optimizer: Maximum iterations (200) reached and the optimization hasn't converged yet.\n",
      "  warnings.warn(\n",
      "C:\\Users\\User\\AppData\\Roaming\\Python\\Python311\\site-packages\\sklearn\\neural_network\\_multilayer_perceptron.py:686: ConvergenceWarning: Stochastic Optimizer: Maximum iterations (200) reached and the optimization hasn't converged yet.\n",
      "  warnings.warn(\n",
      "C:\\Users\\User\\AppData\\Roaming\\Python\\Python311\\site-packages\\sklearn\\neural_network\\_multilayer_perceptron.py:686: ConvergenceWarning: Stochastic Optimizer: Maximum iterations (200) reached and the optimization hasn't converged yet.\n",
      "  warnings.warn(\n",
      "C:\\Users\\User\\AppData\\Roaming\\Python\\Python311\\site-packages\\sklearn\\neural_network\\_multilayer_perceptron.py:686: ConvergenceWarning: Stochastic Optimizer: Maximum iterations (200) reached and the optimization hasn't converged yet.\n",
      "  warnings.warn(\n",
      "C:\\Users\\User\\AppData\\Roaming\\Python\\Python311\\site-packages\\sklearn\\neural_network\\_multilayer_perceptron.py:686: ConvergenceWarning: Stochastic Optimizer: Maximum iterations (200) reached and the optimization hasn't converged yet.\n",
      "  warnings.warn(\n",
      "C:\\Users\\User\\AppData\\Roaming\\Python\\Python311\\site-packages\\sklearn\\neural_network\\_multilayer_perceptron.py:686: ConvergenceWarning: Stochastic Optimizer: Maximum iterations (200) reached and the optimization hasn't converged yet.\n",
      "  warnings.warn(\n",
      "C:\\Users\\User\\AppData\\Roaming\\Python\\Python311\\site-packages\\sklearn\\neural_network\\_multilayer_perceptron.py:686: ConvergenceWarning: Stochastic Optimizer: Maximum iterations (200) reached and the optimization hasn't converged yet.\n",
      "  warnings.warn(\n",
      "C:\\Users\\User\\AppData\\Roaming\\Python\\Python311\\site-packages\\sklearn\\neural_network\\_multilayer_perceptron.py:686: ConvergenceWarning: Stochastic Optimizer: Maximum iterations (200) reached and the optimization hasn't converged yet.\n",
      "  warnings.warn(\n",
      "C:\\Users\\User\\AppData\\Roaming\\Python\\Python311\\site-packages\\sklearn\\neural_network\\_multilayer_perceptron.py:686: ConvergenceWarning: Stochastic Optimizer: Maximum iterations (200) reached and the optimization hasn't converged yet.\n",
      "  warnings.warn(\n",
      "C:\\Users\\User\\AppData\\Roaming\\Python\\Python311\\site-packages\\sklearn\\neural_network\\_multilayer_perceptron.py:686: ConvergenceWarning: Stochastic Optimizer: Maximum iterations (200) reached and the optimization hasn't converged yet.\n",
      "  warnings.warn(\n",
      "C:\\Users\\User\\AppData\\Roaming\\Python\\Python311\\site-packages\\sklearn\\neural_network\\_multilayer_perceptron.py:686: ConvergenceWarning: Stochastic Optimizer: Maximum iterations (200) reached and the optimization hasn't converged yet.\n",
      "  warnings.warn(\n",
      "C:\\Users\\User\\AppData\\Roaming\\Python\\Python311\\site-packages\\sklearn\\neural_network\\_multilayer_perceptron.py:686: ConvergenceWarning: Stochastic Optimizer: Maximum iterations (200) reached and the optimization hasn't converged yet.\n",
      "  warnings.warn(\n",
      "C:\\Users\\User\\AppData\\Roaming\\Python\\Python311\\site-packages\\sklearn\\neural_network\\_multilayer_perceptron.py:686: ConvergenceWarning: Stochastic Optimizer: Maximum iterations (200) reached and the optimization hasn't converged yet.\n",
      "  warnings.warn(\n",
      "C:\\Users\\User\\AppData\\Roaming\\Python\\Python311\\site-packages\\sklearn\\neural_network\\_multilayer_perceptron.py:686: ConvergenceWarning: Stochastic Optimizer: Maximum iterations (200) reached and the optimization hasn't converged yet.\n",
      "  warnings.warn(\n",
      "C:\\Users\\User\\AppData\\Roaming\\Python\\Python311\\site-packages\\sklearn\\neural_network\\_multilayer_perceptron.py:686: ConvergenceWarning: Stochastic Optimizer: Maximum iterations (200) reached and the optimization hasn't converged yet.\n",
      "  warnings.warn(\n",
      "C:\\Users\\User\\AppData\\Roaming\\Python\\Python311\\site-packages\\sklearn\\neural_network\\_multilayer_perceptron.py:686: ConvergenceWarning: Stochastic Optimizer: Maximum iterations (200) reached and the optimization hasn't converged yet.\n",
      "  warnings.warn(\n",
      "C:\\Users\\User\\AppData\\Roaming\\Python\\Python311\\site-packages\\sklearn\\neural_network\\_multilayer_perceptron.py:686: ConvergenceWarning: Stochastic Optimizer: Maximum iterations (200) reached and the optimization hasn't converged yet.\n",
      "  warnings.warn(\n",
      "C:\\Users\\User\\AppData\\Roaming\\Python\\Python311\\site-packages\\sklearn\\neural_network\\_multilayer_perceptron.py:686: ConvergenceWarning: Stochastic Optimizer: Maximum iterations (200) reached and the optimization hasn't converged yet.\n",
      "  warnings.warn(\n",
      "C:\\Users\\User\\AppData\\Roaming\\Python\\Python311\\site-packages\\sklearn\\neural_network\\_multilayer_perceptron.py:686: ConvergenceWarning: Stochastic Optimizer: Maximum iterations (200) reached and the optimization hasn't converged yet.\n",
      "  warnings.warn(\n",
      "C:\\Users\\User\\AppData\\Roaming\\Python\\Python311\\site-packages\\sklearn\\neural_network\\_multilayer_perceptron.py:686: ConvergenceWarning: Stochastic Optimizer: Maximum iterations (200) reached and the optimization hasn't converged yet.\n",
      "  warnings.warn(\n",
      "C:\\Users\\User\\AppData\\Roaming\\Python\\Python311\\site-packages\\sklearn\\neural_network\\_multilayer_perceptron.py:686: ConvergenceWarning: Stochastic Optimizer: Maximum iterations (200) reached and the optimization hasn't converged yet.\n",
      "  warnings.warn(\n",
      "C:\\Users\\User\\AppData\\Roaming\\Python\\Python311\\site-packages\\sklearn\\neural_network\\_multilayer_perceptron.py:686: ConvergenceWarning: Stochastic Optimizer: Maximum iterations (200) reached and the optimization hasn't converged yet.\n",
      "  warnings.warn(\n"
     ]
    },
    {
     "name": "stderr",
     "output_type": "stream",
     "text": [
      "C:\\Users\\User\\AppData\\Roaming\\Python\\Python311\\site-packages\\sklearn\\neural_network\\_multilayer_perceptron.py:686: ConvergenceWarning: Stochastic Optimizer: Maximum iterations (200) reached and the optimization hasn't converged yet.\n",
      "  warnings.warn(\n",
      "C:\\Users\\User\\AppData\\Roaming\\Python\\Python311\\site-packages\\sklearn\\neural_network\\_multilayer_perceptron.py:686: ConvergenceWarning: Stochastic Optimizer: Maximum iterations (200) reached and the optimization hasn't converged yet.\n",
      "  warnings.warn(\n",
      "C:\\Users\\User\\AppData\\Roaming\\Python\\Python311\\site-packages\\sklearn\\neural_network\\_multilayer_perceptron.py:686: ConvergenceWarning: Stochastic Optimizer: Maximum iterations (200) reached and the optimization hasn't converged yet.\n",
      "  warnings.warn(\n",
      "C:\\Users\\User\\AppData\\Roaming\\Python\\Python311\\site-packages\\sklearn\\neural_network\\_multilayer_perceptron.py:686: ConvergenceWarning: Stochastic Optimizer: Maximum iterations (200) reached and the optimization hasn't converged yet.\n",
      "  warnings.warn(\n",
      "C:\\Users\\User\\AppData\\Roaming\\Python\\Python311\\site-packages\\sklearn\\neural_network\\_multilayer_perceptron.py:686: ConvergenceWarning: Stochastic Optimizer: Maximum iterations (200) reached and the optimization hasn't converged yet.\n",
      "  warnings.warn(\n",
      "C:\\Users\\User\\AppData\\Roaming\\Python\\Python311\\site-packages\\sklearn\\neural_network\\_multilayer_perceptron.py:686: ConvergenceWarning: Stochastic Optimizer: Maximum iterations (200) reached and the optimization hasn't converged yet.\n",
      "  warnings.warn(\n",
      "C:\\Users\\User\\AppData\\Roaming\\Python\\Python311\\site-packages\\sklearn\\neural_network\\_multilayer_perceptron.py:686: ConvergenceWarning: Stochastic Optimizer: Maximum iterations (200) reached and the optimization hasn't converged yet.\n",
      "  warnings.warn(\n",
      "C:\\Users\\User\\AppData\\Roaming\\Python\\Python311\\site-packages\\sklearn\\neural_network\\_multilayer_perceptron.py:686: ConvergenceWarning: Stochastic Optimizer: Maximum iterations (200) reached and the optimization hasn't converged yet.\n",
      "  warnings.warn(\n",
      "C:\\Users\\User\\AppData\\Roaming\\Python\\Python311\\site-packages\\sklearn\\neural_network\\_multilayer_perceptron.py:686: ConvergenceWarning: Stochastic Optimizer: Maximum iterations (200) reached and the optimization hasn't converged yet.\n",
      "  warnings.warn(\n",
      "C:\\Users\\User\\AppData\\Roaming\\Python\\Python311\\site-packages\\sklearn\\neural_network\\_multilayer_perceptron.py:686: ConvergenceWarning: Stochastic Optimizer: Maximum iterations (200) reached and the optimization hasn't converged yet.\n",
      "  warnings.warn(\n",
      "C:\\Users\\User\\AppData\\Roaming\\Python\\Python311\\site-packages\\sklearn\\neural_network\\_multilayer_perceptron.py:686: ConvergenceWarning: Stochastic Optimizer: Maximum iterations (200) reached and the optimization hasn't converged yet.\n",
      "  warnings.warn(\n",
      "C:\\Users\\User\\AppData\\Roaming\\Python\\Python311\\site-packages\\sklearn\\neural_network\\_multilayer_perceptron.py:686: ConvergenceWarning: Stochastic Optimizer: Maximum iterations (200) reached and the optimization hasn't converged yet.\n",
      "  warnings.warn(\n",
      "C:\\Users\\User\\AppData\\Roaming\\Python\\Python311\\site-packages\\sklearn\\neural_network\\_multilayer_perceptron.py:686: ConvergenceWarning: Stochastic Optimizer: Maximum iterations (200) reached and the optimization hasn't converged yet.\n",
      "  warnings.warn(\n",
      "C:\\Users\\User\\AppData\\Roaming\\Python\\Python311\\site-packages\\sklearn\\neural_network\\_multilayer_perceptron.py:686: ConvergenceWarning: Stochastic Optimizer: Maximum iterations (200) reached and the optimization hasn't converged yet.\n",
      "  warnings.warn(\n",
      "C:\\Users\\User\\AppData\\Roaming\\Python\\Python311\\site-packages\\sklearn\\neural_network\\_multilayer_perceptron.py:686: ConvergenceWarning: Stochastic Optimizer: Maximum iterations (200) reached and the optimization hasn't converged yet.\n",
      "  warnings.warn(\n",
      "C:\\Users\\User\\AppData\\Roaming\\Python\\Python311\\site-packages\\sklearn\\neural_network\\_multilayer_perceptron.py:686: ConvergenceWarning: Stochastic Optimizer: Maximum iterations (200) reached and the optimization hasn't converged yet.\n",
      "  warnings.warn(\n",
      "C:\\Users\\User\\AppData\\Roaming\\Python\\Python311\\site-packages\\sklearn\\neural_network\\_multilayer_perceptron.py:686: ConvergenceWarning: Stochastic Optimizer: Maximum iterations (200) reached and the optimization hasn't converged yet.\n",
      "  warnings.warn(\n",
      "C:\\Users\\User\\AppData\\Roaming\\Python\\Python311\\site-packages\\sklearn\\neural_network\\_multilayer_perceptron.py:686: ConvergenceWarning: Stochastic Optimizer: Maximum iterations (200) reached and the optimization hasn't converged yet.\n",
      "  warnings.warn(\n",
      "C:\\Users\\User\\AppData\\Roaming\\Python\\Python311\\site-packages\\sklearn\\neural_network\\_multilayer_perceptron.py:686: ConvergenceWarning: Stochastic Optimizer: Maximum iterations (200) reached and the optimization hasn't converged yet.\n",
      "  warnings.warn(\n",
      "C:\\Users\\User\\AppData\\Roaming\\Python\\Python311\\site-packages\\sklearn\\neural_network\\_multilayer_perceptron.py:686: ConvergenceWarning: Stochastic Optimizer: Maximum iterations (200) reached and the optimization hasn't converged yet.\n",
      "  warnings.warn(\n",
      "C:\\Users\\User\\AppData\\Roaming\\Python\\Python311\\site-packages\\sklearn\\neural_network\\_multilayer_perceptron.py:686: ConvergenceWarning: Stochastic Optimizer: Maximum iterations (200) reached and the optimization hasn't converged yet.\n",
      "  warnings.warn(\n",
      "C:\\Users\\User\\AppData\\Roaming\\Python\\Python311\\site-packages\\sklearn\\neural_network\\_multilayer_perceptron.py:686: ConvergenceWarning: Stochastic Optimizer: Maximum iterations (200) reached and the optimization hasn't converged yet.\n",
      "  warnings.warn(\n",
      "C:\\Users\\User\\AppData\\Roaming\\Python\\Python311\\site-packages\\sklearn\\neural_network\\_multilayer_perceptron.py:686: ConvergenceWarning: Stochastic Optimizer: Maximum iterations (200) reached and the optimization hasn't converged yet.\n",
      "  warnings.warn(\n",
      "C:\\Users\\User\\AppData\\Roaming\\Python\\Python311\\site-packages\\sklearn\\neural_network\\_multilayer_perceptron.py:686: ConvergenceWarning: Stochastic Optimizer: Maximum iterations (200) reached and the optimization hasn't converged yet.\n",
      "  warnings.warn(\n",
      "C:\\Users\\User\\AppData\\Roaming\\Python\\Python311\\site-packages\\sklearn\\neural_network\\_multilayer_perceptron.py:686: ConvergenceWarning: Stochastic Optimizer: Maximum iterations (200) reached and the optimization hasn't converged yet.\n",
      "  warnings.warn(\n",
      "C:\\Users\\User\\AppData\\Roaming\\Python\\Python311\\site-packages\\sklearn\\neural_network\\_multilayer_perceptron.py:686: ConvergenceWarning: Stochastic Optimizer: Maximum iterations (200) reached and the optimization hasn't converged yet.\n",
      "  warnings.warn(\n",
      "C:\\Users\\User\\AppData\\Roaming\\Python\\Python311\\site-packages\\sklearn\\neural_network\\_multilayer_perceptron.py:686: ConvergenceWarning: Stochastic Optimizer: Maximum iterations (200) reached and the optimization hasn't converged yet.\n",
      "  warnings.warn(\n",
      "C:\\Users\\User\\AppData\\Roaming\\Python\\Python311\\site-packages\\sklearn\\neural_network\\_multilayer_perceptron.py:686: ConvergenceWarning: Stochastic Optimizer: Maximum iterations (200) reached and the optimization hasn't converged yet.\n",
      "  warnings.warn(\n",
      "C:\\Users\\User\\AppData\\Roaming\\Python\\Python311\\site-packages\\sklearn\\neural_network\\_multilayer_perceptron.py:686: ConvergenceWarning: Stochastic Optimizer: Maximum iterations (200) reached and the optimization hasn't converged yet.\n",
      "  warnings.warn(\n",
      "C:\\Users\\User\\AppData\\Roaming\\Python\\Python311\\site-packages\\sklearn\\neural_network\\_multilayer_perceptron.py:686: ConvergenceWarning: Stochastic Optimizer: Maximum iterations (200) reached and the optimization hasn't converged yet.\n",
      "  warnings.warn(\n",
      "C:\\Users\\User\\AppData\\Roaming\\Python\\Python311\\site-packages\\sklearn\\neural_network\\_multilayer_perceptron.py:686: ConvergenceWarning: Stochastic Optimizer: Maximum iterations (200) reached and the optimization hasn't converged yet.\n",
      "  warnings.warn(\n",
      "C:\\Users\\User\\AppData\\Roaming\\Python\\Python311\\site-packages\\sklearn\\neural_network\\_multilayer_perceptron.py:686: ConvergenceWarning: Stochastic Optimizer: Maximum iterations (200) reached and the optimization hasn't converged yet.\n",
      "  warnings.warn(\n",
      "C:\\Users\\User\\AppData\\Roaming\\Python\\Python311\\site-packages\\sklearn\\neural_network\\_multilayer_perceptron.py:686: ConvergenceWarning: Stochastic Optimizer: Maximum iterations (200) reached and the optimization hasn't converged yet.\n",
      "  warnings.warn(\n"
     ]
    },
    {
     "name": "stderr",
     "output_type": "stream",
     "text": [
      "C:\\Users\\User\\AppData\\Roaming\\Python\\Python311\\site-packages\\sklearn\\neural_network\\_multilayer_perceptron.py:686: ConvergenceWarning: Stochastic Optimizer: Maximum iterations (200) reached and the optimization hasn't converged yet.\n",
      "  warnings.warn(\n",
      "C:\\Users\\User\\AppData\\Roaming\\Python\\Python311\\site-packages\\sklearn\\neural_network\\_multilayer_perceptron.py:686: ConvergenceWarning: Stochastic Optimizer: Maximum iterations (200) reached and the optimization hasn't converged yet.\n",
      "  warnings.warn(\n",
      "C:\\Users\\User\\AppData\\Roaming\\Python\\Python311\\site-packages\\sklearn\\neural_network\\_multilayer_perceptron.py:686: ConvergenceWarning: Stochastic Optimizer: Maximum iterations (200) reached and the optimization hasn't converged yet.\n",
      "  warnings.warn(\n",
      "C:\\Users\\User\\AppData\\Roaming\\Python\\Python311\\site-packages\\sklearn\\neural_network\\_multilayer_perceptron.py:686: ConvergenceWarning: Stochastic Optimizer: Maximum iterations (200) reached and the optimization hasn't converged yet.\n",
      "  warnings.warn(\n",
      "C:\\Users\\User\\AppData\\Roaming\\Python\\Python311\\site-packages\\sklearn\\neural_network\\_multilayer_perceptron.py:686: ConvergenceWarning: Stochastic Optimizer: Maximum iterations (200) reached and the optimization hasn't converged yet.\n",
      "  warnings.warn(\n",
      "C:\\Users\\User\\AppData\\Roaming\\Python\\Python311\\site-packages\\sklearn\\neural_network\\_multilayer_perceptron.py:686: ConvergenceWarning: Stochastic Optimizer: Maximum iterations (200) reached and the optimization hasn't converged yet.\n",
      "  warnings.warn(\n",
      "C:\\Users\\User\\AppData\\Roaming\\Python\\Python311\\site-packages\\sklearn\\neural_network\\_multilayer_perceptron.py:686: ConvergenceWarning: Stochastic Optimizer: Maximum iterations (200) reached and the optimization hasn't converged yet.\n",
      "  warnings.warn(\n",
      "C:\\Users\\User\\AppData\\Roaming\\Python\\Python311\\site-packages\\sklearn\\neural_network\\_multilayer_perceptron.py:686: ConvergenceWarning: Stochastic Optimizer: Maximum iterations (200) reached and the optimization hasn't converged yet.\n",
      "  warnings.warn(\n",
      "C:\\Users\\User\\AppData\\Roaming\\Python\\Python311\\site-packages\\sklearn\\neural_network\\_multilayer_perceptron.py:686: ConvergenceWarning: Stochastic Optimizer: Maximum iterations (200) reached and the optimization hasn't converged yet.\n",
      "  warnings.warn(\n",
      "C:\\Users\\User\\AppData\\Roaming\\Python\\Python311\\site-packages\\sklearn\\neural_network\\_multilayer_perceptron.py:686: ConvergenceWarning: Stochastic Optimizer: Maximum iterations (200) reached and the optimization hasn't converged yet.\n",
      "  warnings.warn(\n",
      "C:\\Users\\User\\AppData\\Roaming\\Python\\Python311\\site-packages\\sklearn\\neural_network\\_multilayer_perceptron.py:686: ConvergenceWarning: Stochastic Optimizer: Maximum iterations (200) reached and the optimization hasn't converged yet.\n",
      "  warnings.warn(\n",
      "C:\\Users\\User\\AppData\\Roaming\\Python\\Python311\\site-packages\\sklearn\\neural_network\\_multilayer_perceptron.py:686: ConvergenceWarning: Stochastic Optimizer: Maximum iterations (200) reached and the optimization hasn't converged yet.\n",
      "  warnings.warn(\n",
      "C:\\Users\\User\\AppData\\Roaming\\Python\\Python311\\site-packages\\sklearn\\neural_network\\_multilayer_perceptron.py:686: ConvergenceWarning: Stochastic Optimizer: Maximum iterations (200) reached and the optimization hasn't converged yet.\n",
      "  warnings.warn(\n",
      "C:\\Users\\User\\AppData\\Roaming\\Python\\Python311\\site-packages\\sklearn\\neural_network\\_multilayer_perceptron.py:686: ConvergenceWarning: Stochastic Optimizer: Maximum iterations (200) reached and the optimization hasn't converged yet.\n",
      "  warnings.warn(\n",
      "C:\\Users\\User\\AppData\\Roaming\\Python\\Python311\\site-packages\\sklearn\\neural_network\\_multilayer_perceptron.py:686: ConvergenceWarning: Stochastic Optimizer: Maximum iterations (200) reached and the optimization hasn't converged yet.\n",
      "  warnings.warn(\n",
      "C:\\Users\\User\\AppData\\Roaming\\Python\\Python311\\site-packages\\sklearn\\neural_network\\_multilayer_perceptron.py:686: ConvergenceWarning: Stochastic Optimizer: Maximum iterations (200) reached and the optimization hasn't converged yet.\n",
      "  warnings.warn(\n",
      "C:\\Users\\User\\AppData\\Roaming\\Python\\Python311\\site-packages\\sklearn\\neural_network\\_multilayer_perceptron.py:686: ConvergenceWarning: Stochastic Optimizer: Maximum iterations (200) reached and the optimization hasn't converged yet.\n",
      "  warnings.warn(\n",
      "C:\\Users\\User\\AppData\\Roaming\\Python\\Python311\\site-packages\\sklearn\\neural_network\\_multilayer_perceptron.py:686: ConvergenceWarning: Stochastic Optimizer: Maximum iterations (200) reached and the optimization hasn't converged yet.\n",
      "  warnings.warn(\n",
      "C:\\Users\\User\\AppData\\Roaming\\Python\\Python311\\site-packages\\sklearn\\neural_network\\_multilayer_perceptron.py:686: ConvergenceWarning: Stochastic Optimizer: Maximum iterations (200) reached and the optimization hasn't converged yet.\n",
      "  warnings.warn(\n",
      "C:\\Users\\User\\AppData\\Roaming\\Python\\Python311\\site-packages\\sklearn\\neural_network\\_multilayer_perceptron.py:686: ConvergenceWarning: Stochastic Optimizer: Maximum iterations (200) reached and the optimization hasn't converged yet.\n",
      "  warnings.warn(\n",
      "C:\\Users\\User\\AppData\\Roaming\\Python\\Python311\\site-packages\\sklearn\\neural_network\\_multilayer_perceptron.py:686: ConvergenceWarning: Stochastic Optimizer: Maximum iterations (200) reached and the optimization hasn't converged yet.\n",
      "  warnings.warn(\n",
      "C:\\Users\\User\\AppData\\Roaming\\Python\\Python311\\site-packages\\sklearn\\neural_network\\_multilayer_perceptron.py:686: ConvergenceWarning: Stochastic Optimizer: Maximum iterations (200) reached and the optimization hasn't converged yet.\n",
      "  warnings.warn(\n",
      "C:\\Users\\User\\AppData\\Roaming\\Python\\Python311\\site-packages\\sklearn\\neural_network\\_multilayer_perceptron.py:686: ConvergenceWarning: Stochastic Optimizer: Maximum iterations (200) reached and the optimization hasn't converged yet.\n",
      "  warnings.warn(\n",
      "C:\\Users\\User\\AppData\\Roaming\\Python\\Python311\\site-packages\\sklearn\\neural_network\\_multilayer_perceptron.py:686: ConvergenceWarning: Stochastic Optimizer: Maximum iterations (200) reached and the optimization hasn't converged yet.\n",
      "  warnings.warn(\n",
      "C:\\Users\\User\\AppData\\Roaming\\Python\\Python311\\site-packages\\sklearn\\neural_network\\_multilayer_perceptron.py:686: ConvergenceWarning: Stochastic Optimizer: Maximum iterations (200) reached and the optimization hasn't converged yet.\n",
      "  warnings.warn(\n",
      "C:\\Users\\User\\AppData\\Roaming\\Python\\Python311\\site-packages\\sklearn\\neural_network\\_multilayer_perceptron.py:686: ConvergenceWarning: Stochastic Optimizer: Maximum iterations (200) reached and the optimization hasn't converged yet.\n",
      "  warnings.warn(\n",
      "C:\\Users\\User\\AppData\\Roaming\\Python\\Python311\\site-packages\\sklearn\\neural_network\\_multilayer_perceptron.py:686: ConvergenceWarning: Stochastic Optimizer: Maximum iterations (200) reached and the optimization hasn't converged yet.\n",
      "  warnings.warn(\n",
      "C:\\Users\\User\\AppData\\Roaming\\Python\\Python311\\site-packages\\sklearn\\neural_network\\_multilayer_perceptron.py:686: ConvergenceWarning: Stochastic Optimizer: Maximum iterations (200) reached and the optimization hasn't converged yet.\n",
      "  warnings.warn(\n",
      "C:\\Users\\User\\AppData\\Roaming\\Python\\Python311\\site-packages\\sklearn\\neural_network\\_multilayer_perceptron.py:686: ConvergenceWarning: Stochastic Optimizer: Maximum iterations (200) reached and the optimization hasn't converged yet.\n",
      "  warnings.warn(\n",
      "C:\\Users\\User\\AppData\\Roaming\\Python\\Python311\\site-packages\\sklearn\\neural_network\\_multilayer_perceptron.py:686: ConvergenceWarning: Stochastic Optimizer: Maximum iterations (200) reached and the optimization hasn't converged yet.\n",
      "  warnings.warn(\n",
      "C:\\Users\\User\\AppData\\Roaming\\Python\\Python311\\site-packages\\sklearn\\neural_network\\_multilayer_perceptron.py:686: ConvergenceWarning: Stochastic Optimizer: Maximum iterations (200) reached and the optimization hasn't converged yet.\n",
      "  warnings.warn(\n",
      "C:\\Users\\User\\AppData\\Roaming\\Python\\Python311\\site-packages\\sklearn\\neural_network\\_multilayer_perceptron.py:686: ConvergenceWarning: Stochastic Optimizer: Maximum iterations (200) reached and the optimization hasn't converged yet.\n",
      "  warnings.warn(\n",
      "C:\\Users\\User\\AppData\\Roaming\\Python\\Python311\\site-packages\\sklearn\\neural_network\\_multilayer_perceptron.py:686: ConvergenceWarning: Stochastic Optimizer: Maximum iterations (200) reached and the optimization hasn't converged yet.\n",
      "  warnings.warn(\n"
     ]
    },
    {
     "name": "stderr",
     "output_type": "stream",
     "text": [
      "C:\\Users\\User\\AppData\\Roaming\\Python\\Python311\\site-packages\\sklearn\\neural_network\\_multilayer_perceptron.py:686: ConvergenceWarning: Stochastic Optimizer: Maximum iterations (200) reached and the optimization hasn't converged yet.\n",
      "  warnings.warn(\n",
      "C:\\Users\\User\\AppData\\Roaming\\Python\\Python311\\site-packages\\sklearn\\neural_network\\_multilayer_perceptron.py:686: ConvergenceWarning: Stochastic Optimizer: Maximum iterations (200) reached and the optimization hasn't converged yet.\n",
      "  warnings.warn(\n",
      "C:\\Users\\User\\AppData\\Roaming\\Python\\Python311\\site-packages\\sklearn\\neural_network\\_multilayer_perceptron.py:686: ConvergenceWarning: Stochastic Optimizer: Maximum iterations (200) reached and the optimization hasn't converged yet.\n",
      "  warnings.warn(\n",
      "C:\\Users\\User\\AppData\\Roaming\\Python\\Python311\\site-packages\\sklearn\\neural_network\\_multilayer_perceptron.py:686: ConvergenceWarning: Stochastic Optimizer: Maximum iterations (200) reached and the optimization hasn't converged yet.\n",
      "  warnings.warn(\n",
      "C:\\Users\\User\\AppData\\Roaming\\Python\\Python311\\site-packages\\sklearn\\neural_network\\_multilayer_perceptron.py:686: ConvergenceWarning: Stochastic Optimizer: Maximum iterations (200) reached and the optimization hasn't converged yet.\n",
      "  warnings.warn(\n",
      "C:\\Users\\User\\AppData\\Roaming\\Python\\Python311\\site-packages\\sklearn\\neural_network\\_multilayer_perceptron.py:686: ConvergenceWarning: Stochastic Optimizer: Maximum iterations (200) reached and the optimization hasn't converged yet.\n",
      "  warnings.warn(\n",
      "C:\\Users\\User\\AppData\\Roaming\\Python\\Python311\\site-packages\\sklearn\\neural_network\\_multilayer_perceptron.py:686: ConvergenceWarning: Stochastic Optimizer: Maximum iterations (200) reached and the optimization hasn't converged yet.\n",
      "  warnings.warn(\n",
      "C:\\Users\\User\\AppData\\Roaming\\Python\\Python311\\site-packages\\sklearn\\neural_network\\_multilayer_perceptron.py:686: ConvergenceWarning: Stochastic Optimizer: Maximum iterations (200) reached and the optimization hasn't converged yet.\n",
      "  warnings.warn(\n",
      "C:\\Users\\User\\AppData\\Roaming\\Python\\Python311\\site-packages\\sklearn\\neural_network\\_multilayer_perceptron.py:686: ConvergenceWarning: Stochastic Optimizer: Maximum iterations (200) reached and the optimization hasn't converged yet.\n",
      "  warnings.warn(\n",
      "C:\\Users\\User\\AppData\\Roaming\\Python\\Python311\\site-packages\\sklearn\\neural_network\\_multilayer_perceptron.py:686: ConvergenceWarning: Stochastic Optimizer: Maximum iterations (200) reached and the optimization hasn't converged yet.\n",
      "  warnings.warn(\n",
      "C:\\Users\\User\\AppData\\Roaming\\Python\\Python311\\site-packages\\sklearn\\neural_network\\_multilayer_perceptron.py:686: ConvergenceWarning: Stochastic Optimizer: Maximum iterations (200) reached and the optimization hasn't converged yet.\n",
      "  warnings.warn(\n",
      "C:\\Users\\User\\AppData\\Roaming\\Python\\Python311\\site-packages\\sklearn\\neural_network\\_multilayer_perceptron.py:686: ConvergenceWarning: Stochastic Optimizer: Maximum iterations (200) reached and the optimization hasn't converged yet.\n",
      "  warnings.warn(\n",
      "C:\\Users\\User\\AppData\\Roaming\\Python\\Python311\\site-packages\\sklearn\\neural_network\\_multilayer_perceptron.py:686: ConvergenceWarning: Stochastic Optimizer: Maximum iterations (200) reached and the optimization hasn't converged yet.\n",
      "  warnings.warn(\n",
      "C:\\Users\\User\\AppData\\Roaming\\Python\\Python311\\site-packages\\sklearn\\neural_network\\_multilayer_perceptron.py:686: ConvergenceWarning: Stochastic Optimizer: Maximum iterations (200) reached and the optimization hasn't converged yet.\n",
      "  warnings.warn(\n",
      "C:\\Users\\User\\AppData\\Roaming\\Python\\Python311\\site-packages\\sklearn\\neural_network\\_multilayer_perceptron.py:686: ConvergenceWarning: Stochastic Optimizer: Maximum iterations (200) reached and the optimization hasn't converged yet.\n",
      "  warnings.warn(\n",
      "C:\\Users\\User\\AppData\\Roaming\\Python\\Python311\\site-packages\\sklearn\\neural_network\\_multilayer_perceptron.py:686: ConvergenceWarning: Stochastic Optimizer: Maximum iterations (200) reached and the optimization hasn't converged yet.\n",
      "  warnings.warn(\n",
      "C:\\Users\\User\\AppData\\Roaming\\Python\\Python311\\site-packages\\sklearn\\neural_network\\_multilayer_perceptron.py:686: ConvergenceWarning: Stochastic Optimizer: Maximum iterations (200) reached and the optimization hasn't converged yet.\n",
      "  warnings.warn(\n",
      "C:\\Users\\User\\AppData\\Roaming\\Python\\Python311\\site-packages\\sklearn\\neural_network\\_multilayer_perceptron.py:686: ConvergenceWarning: Stochastic Optimizer: Maximum iterations (200) reached and the optimization hasn't converged yet.\n",
      "  warnings.warn(\n",
      "C:\\Users\\User\\AppData\\Roaming\\Python\\Python311\\site-packages\\sklearn\\neural_network\\_multilayer_perceptron.py:686: ConvergenceWarning: Stochastic Optimizer: Maximum iterations (200) reached and the optimization hasn't converged yet.\n",
      "  warnings.warn(\n",
      "C:\\Users\\User\\AppData\\Roaming\\Python\\Python311\\site-packages\\sklearn\\neural_network\\_multilayer_perceptron.py:686: ConvergenceWarning: Stochastic Optimizer: Maximum iterations (200) reached and the optimization hasn't converged yet.\n",
      "  warnings.warn(\n",
      "C:\\Users\\User\\AppData\\Roaming\\Python\\Python311\\site-packages\\sklearn\\neural_network\\_multilayer_perceptron.py:686: ConvergenceWarning: Stochastic Optimizer: Maximum iterations (200) reached and the optimization hasn't converged yet.\n",
      "  warnings.warn(\n",
      "C:\\Users\\User\\AppData\\Roaming\\Python\\Python311\\site-packages\\sklearn\\neural_network\\_multilayer_perceptron.py:686: ConvergenceWarning: Stochastic Optimizer: Maximum iterations (200) reached and the optimization hasn't converged yet.\n",
      "  warnings.warn(\n",
      "C:\\Users\\User\\AppData\\Roaming\\Python\\Python311\\site-packages\\sklearn\\neural_network\\_multilayer_perceptron.py:686: ConvergenceWarning: Stochastic Optimizer: Maximum iterations (200) reached and the optimization hasn't converged yet.\n",
      "  warnings.warn(\n",
      "C:\\Users\\User\\AppData\\Roaming\\Python\\Python311\\site-packages\\sklearn\\neural_network\\_multilayer_perceptron.py:686: ConvergenceWarning: Stochastic Optimizer: Maximum iterations (200) reached and the optimization hasn't converged yet.\n",
      "  warnings.warn(\n",
      "C:\\Users\\User\\AppData\\Roaming\\Python\\Python311\\site-packages\\sklearn\\neural_network\\_multilayer_perceptron.py:686: ConvergenceWarning: Stochastic Optimizer: Maximum iterations (200) reached and the optimization hasn't converged yet.\n",
      "  warnings.warn(\n",
      "C:\\Users\\User\\AppData\\Roaming\\Python\\Python311\\site-packages\\sklearn\\neural_network\\_multilayer_perceptron.py:686: ConvergenceWarning: Stochastic Optimizer: Maximum iterations (200) reached and the optimization hasn't converged yet.\n",
      "  warnings.warn(\n",
      "C:\\Users\\User\\AppData\\Roaming\\Python\\Python311\\site-packages\\sklearn\\neural_network\\_multilayer_perceptron.py:686: ConvergenceWarning: Stochastic Optimizer: Maximum iterations (200) reached and the optimization hasn't converged yet.\n",
      "  warnings.warn(\n",
      "C:\\Users\\User\\AppData\\Roaming\\Python\\Python311\\site-packages\\sklearn\\neural_network\\_multilayer_perceptron.py:686: ConvergenceWarning: Stochastic Optimizer: Maximum iterations (200) reached and the optimization hasn't converged yet.\n",
      "  warnings.warn(\n",
      "C:\\Users\\User\\AppData\\Roaming\\Python\\Python311\\site-packages\\sklearn\\neural_network\\_multilayer_perceptron.py:686: ConvergenceWarning: Stochastic Optimizer: Maximum iterations (200) reached and the optimization hasn't converged yet.\n",
      "  warnings.warn(\n",
      "C:\\Users\\User\\AppData\\Roaming\\Python\\Python311\\site-packages\\sklearn\\neural_network\\_multilayer_perceptron.py:686: ConvergenceWarning: Stochastic Optimizer: Maximum iterations (200) reached and the optimization hasn't converged yet.\n",
      "  warnings.warn(\n",
      "C:\\Users\\User\\AppData\\Roaming\\Python\\Python311\\site-packages\\sklearn\\neural_network\\_multilayer_perceptron.py:686: ConvergenceWarning: Stochastic Optimizer: Maximum iterations (200) reached and the optimization hasn't converged yet.\n",
      "  warnings.warn(\n",
      "C:\\Users\\User\\AppData\\Roaming\\Python\\Python311\\site-packages\\sklearn\\neural_network\\_multilayer_perceptron.py:686: ConvergenceWarning: Stochastic Optimizer: Maximum iterations (200) reached and the optimization hasn't converged yet.\n",
      "  warnings.warn(\n",
      "C:\\Users\\User\\AppData\\Roaming\\Python\\Python311\\site-packages\\sklearn\\neural_network\\_multilayer_perceptron.py:686: ConvergenceWarning: Stochastic Optimizer: Maximum iterations (200) reached and the optimization hasn't converged yet.\n",
      "  warnings.warn(\n"
     ]
    },
    {
     "name": "stderr",
     "output_type": "stream",
     "text": [
      "C:\\Users\\User\\AppData\\Roaming\\Python\\Python311\\site-packages\\sklearn\\neural_network\\_multilayer_perceptron.py:686: ConvergenceWarning: Stochastic Optimizer: Maximum iterations (200) reached and the optimization hasn't converged yet.\n",
      "  warnings.warn(\n",
      "C:\\Users\\User\\AppData\\Roaming\\Python\\Python311\\site-packages\\sklearn\\neural_network\\_multilayer_perceptron.py:686: ConvergenceWarning: Stochastic Optimizer: Maximum iterations (200) reached and the optimization hasn't converged yet.\n",
      "  warnings.warn(\n",
      "C:\\Users\\User\\AppData\\Roaming\\Python\\Python311\\site-packages\\sklearn\\neural_network\\_multilayer_perceptron.py:686: ConvergenceWarning: Stochastic Optimizer: Maximum iterations (200) reached and the optimization hasn't converged yet.\n",
      "  warnings.warn(\n",
      "C:\\Users\\User\\AppData\\Roaming\\Python\\Python311\\site-packages\\sklearn\\neural_network\\_multilayer_perceptron.py:686: ConvergenceWarning: Stochastic Optimizer: Maximum iterations (200) reached and the optimization hasn't converged yet.\n",
      "  warnings.warn(\n",
      "C:\\Users\\User\\AppData\\Roaming\\Python\\Python311\\site-packages\\sklearn\\neural_network\\_multilayer_perceptron.py:686: ConvergenceWarning: Stochastic Optimizer: Maximum iterations (200) reached and the optimization hasn't converged yet.\n",
      "  warnings.warn(\n"
     ]
    },
    {
     "name": "stdout",
     "output_type": "stream",
     "text": [
      "Best Parameters: {'activation': 'relu', 'alpha': 0.01, 'hidden_layer_sizes': (100,), 'learning_rate': 'adaptive', 'solver': 'sgd'}\n",
      "Best Score: 0.6924561066391086\n"
     ]
    },
    {
     "name": "stderr",
     "output_type": "stream",
     "text": [
      "C:\\Users\\User\\AppData\\Roaming\\Python\\Python311\\site-packages\\sklearn\\neural_network\\_multilayer_perceptron.py:686: ConvergenceWarning: Stochastic Optimizer: Maximum iterations (200) reached and the optimization hasn't converged yet.\n",
      "  warnings.warn(\n"
     ]
    }
   ],
   "source": [
    "df_cut_1 = pd.read_csv('train_data/df_only_last_product_1.csv')\n",
    "df_cut_1 = df_cut_1.drop(0, axis=0)\n",
    "df_cut_2 = pd.read_csv('train_data/df_only_last_product_0.csv')\n",
    "df_cut_2 = df_cut_2.drop(0, axis=0)\n",
    "df_cut_merged = pd.concat([df_cut_2, df_cut_1], ignore_index=True)\n",
    "df_cut_merged = df_cut_merged.drop(['id'], axis=1)\n",
    "\n",
    "share = 45\n",
    "df_cut_merged = sample_df(\n",
    "    df_cut_merged, \n",
    "    round(df_cut_merged.flag.value_counts()[1] / share * 100 + 1, 0),\n",
    "    100 - share,\n",
    "    share\n",
    ")\n",
    "\n",
    "x = df_cut_merged.drop('flag', axis=1)\n",
    "y = df_cut_merged.flag\n",
    "\n",
    "model = MLPClassifier()\n",
    "\n",
    "param_grid = {\n",
    "    'hidden_layer_sizes': [(50,), (100,), (50, 50), (100, 50)],  # Various hidden layer sizes\n",
    "    'activation': ['relu', 'tanh'],  # Activation functions\n",
    "    'solver': ['adam', 'sgd'],  # Solvers for weight optimization\n",
    "    'alpha': [0.0001, 0.001, 0.01],  # L2 penalty (regularization term) parameter\n",
    "    'learning_rate': ['constant', 'adaptive'],  # Learning rate schedule\n",
    "}\n",
    "\n",
    "grid_search = GridSearchCV(estimator=model, param_grid=param_grid, cv=3, scoring='roc_auc')\n",
    "grid_search.fit(x, y)\n",
    "\n",
    "best_params = grid_search.best_params_\n",
    "best_score = grid_search.best_score_\n",
    "\n",
    "print(\"Best Parameters:\", best_params)\n",
    "print(\"Best Score:\", best_score)"
   ]
  },
  {
   "cell_type": "code",
   "execution_count": 59,
   "id": "08333c27",
   "metadata": {},
   "outputs": [
    {
     "name": "stdout",
     "output_type": "stream",
     "text": [
      "ROC AUC Score: 0.6366274434843617\n"
     ]
    }
   ],
   "source": [
    "df_cut_1 = pd.read_csv('train_data/df_only_last_product_1.csv')\n",
    "df_cut_1 = df_cut_1.drop(0, axis=0)\n",
    "df_cut_2 = pd.read_csv('train_data/df_only_last_product_0.csv')\n",
    "df_cut_2 = df_cut_2.drop(0, axis=0)\n",
    "df_cut_merged = pd.concat([df_cut_2, df_cut_1], ignore_index=True)\n",
    "df_cut_merged = df_cut_merged.drop(['id'], axis=1)\n",
    "\n",
    "share = 45\n",
    "df_cut_merged = sample_df(\n",
    "    df_cut_merged, \n",
    "    round(df_cut_merged.flag.value_counts()[1] / share * 100 + 1, 0),\n",
    "    100 - share,\n",
    "    share\n",
    ")\n",
    "\n",
    "\n",
    "x = df_cut_merged.drop('flag', axis=1)\n",
    "y = df_cut_merged.flag\n",
    "\n",
    "model = RandomForestClassifier( n_estimators=200, max_depth=20, min_samples_leaf=4, min_samples_split=10)\n",
    "model.fit(x,y)\n",
    "\n",
    "# df3 = df3.drop(['id'], axis=1)\n",
    "\n",
    "x_test = df3.drop('flag', axis=1)\n",
    "y_test = df3.flag\n",
    "y_pred_prob = model.predict_proba(x_test)[:, 1]\n",
    "\n",
    "# Calculate the ROC AUC score\n",
    "roc_auc = roc_auc_score(y_test, y_pred_prob)\n",
    "\n",
    "print(\"ROC AUC Score:\", roc_auc)"
   ]
  },
  {
   "cell_type": "code",
   "execution_count": 60,
   "id": "7851c86a",
   "metadata": {},
   "outputs": [
    {
     "name": "stderr",
     "output_type": "stream",
     "text": [
      "C:\\Users\\User\\AppData\\Roaming\\Python\\Python311\\site-packages\\sklearn\\neural_network\\_multilayer_perceptron.py:686: ConvergenceWarning: Stochastic Optimizer: Maximum iterations (200) reached and the optimization hasn't converged yet.\n",
      "  warnings.warn(\n"
     ]
    },
    {
     "name": "stdout",
     "output_type": "stream",
     "text": [
      "ROC AUC Score: 0.6191719974530119\n"
     ]
    }
   ],
   "source": [
    "df_cut_1 = pd.read_csv('train_data/df_only_last_product_1.csv')\n",
    "df_cut_1 = df_cut_1.drop(0, axis=0)\n",
    "df_cut_2 = pd.read_csv('train_data/df_only_last_product_0.csv')\n",
    "df_cut_2 = df_cut_2.drop(0, axis=0)\n",
    "df_cut_merged = pd.concat([df_cut_2, df_cut_1], ignore_index=True)\n",
    "df_cut_merged = df_cut_merged.drop(['id'], axis=1)\n",
    "\n",
    "share = 45\n",
    "df_cut_merged = sample_df(\n",
    "    df_cut_merged, \n",
    "    round(df_cut_merged.flag.value_counts()[1] / share * 100 + 1, 0),\n",
    "    100 - share,\n",
    "    share\n",
    ")\n",
    "\n",
    "\n",
    "x = df_cut_merged.drop('flag', axis=1)\n",
    "y = df_cut_merged.flag\n",
    "\n",
    "model = MLPClassifier( activation='relu', alpha=0.01, hidden_layer_sizes=(100,), learning_rate='adaptive', solver='sgd')\n",
    "model.fit(x,y)\n",
    "\n",
    "# df3 = df3.drop(['id'], axis=1)\n",
    "\n",
    "x_test = df3.drop('flag', axis=1)\n",
    "y_test = df3.flag\n",
    "y_pred_prob = model.predict_proba(x_test)[:, 1]\n",
    "\n",
    "# Calculate the ROC AUC score\n",
    "roc_auc = roc_auc_score(y_test, y_pred_prob)\n",
    "\n",
    "print(\"ROC AUC Score:\", roc_auc)"
   ]
  },
  {
   "cell_type": "markdown",
   "id": "f827e6b1",
   "metadata": {},
   "source": [
    "## результат\n",
    "1) нетюненная модель дает все те же 62 процента на данных из другого чанка - @неудовлетворительно@:(\n",
    "2) CV на том же чанке дает 68 процентов на разных моделях в зависимости от баланса нулей и единичек в таргете\n",
    "update\n",
    "3) оттюненный лес дает на тестовом чанке 0,63, млп так же 0,62"
   ]
  },
  {
   "cell_type": "code",
   "execution_count": null,
   "id": "9e34c5a2",
   "metadata": {},
   "outputs": [],
   "source": []
  },
  {
   "cell_type": "markdown",
   "id": "4fa8c840",
   "metadata": {},
   "source": [
    "# 4 гиппотеза. Исключать колонки по одной на сбалансированном сете из двух чанков и проверять на третьем"
   ]
  },
  {
   "cell_type": "code",
   "execution_count": 67,
   "id": "e1738b3f",
   "metadata": {},
   "outputs": [],
   "source": [
    "df_cut_1 = pd.read_csv('train_data/df_only_last_product_1.csv')\n",
    "df_cut_1 = df_cut_1.drop(0, axis=0)\n",
    "df_cut_2 = pd.read_csv('train_data/df_only_last_product_0.csv')\n",
    "df_cut_2 = df_cut_2.drop(0, axis=0)\n",
    "df_cut_merged = pd.concat([df_cut_2, df_cut_1], ignore_index=True)\n",
    "# df_cut_merged = df_cut_merged.drop(['id'], axis=1)\n",
    "df3 = fastparquet.ParquetFile('train_data/train_data_2.pq').to_pandas()\n",
    "df3 = pd.merge(df3, answers, on='id', how='left')"
   ]
  },
  {
   "cell_type": "code",
   "execution_count": 68,
   "id": "39e6303d",
   "metadata": {},
   "outputs": [],
   "source": [
    "corrs = []\n",
    "for col in df_cut_merged.columns:\n",
    "    corrs.append((abs(df_cut_merged['flag'].corr(df_cut_merged[col])), col))\n",
    "corrs_copy = corrs.copy()    \n",
    "corrs = sorted(corrs)[:-1]"
   ]
  },
  {
   "cell_type": "code",
   "execution_count": 69,
   "id": "e7624c24",
   "metadata": {},
   "outputs": [],
   "source": [
    "share = 45\n",
    "df_cut_merged = sample_df(\n",
    "    df_cut_merged, \n",
    "    round(df_cut_merged.flag.value_counts()[1] / share * 100 + 1, 0),\n",
    "    100 - share,\n",
    "    share\n",
    ")"
   ]
  },
  {
   "cell_type": "code",
   "execution_count": 70,
   "id": "70b81df7",
   "metadata": {},
   "outputs": [],
   "source": [
    "models = [\n",
    "    KNeighborsClassifier(),\n",
    "#     SVC(),\n",
    "#     RandomForestClassifier(),\n",
    "#     MLPClassifier(),\n",
    "#     LogisticRegression(),\n",
    "#     DecisionTreeClassifier(),\n",
    "#     GaussianNB(),\n",
    "]\n",
    "#     xgb(),\n",
    "#     lgb(),\n",
    "# ]"
   ]
  },
  {
   "cell_type": "code",
   "execution_count": 72,
   "id": "a55ebcba",
   "metadata": {
    "collapsed": true
   },
   "outputs": [
    {
     "name": "stdout",
     "output_type": "stream",
     "text": [
      "model now is KNeighborsClassifier()\n",
      "ROC AUC Score: 0.5\n",
      "ROC AUC Score: 0.5\n"
     ]
    },
    {
     "ename": "KeyboardInterrupt",
     "evalue": "",
     "output_type": "error",
     "traceback": [
      "\u001b[1;31m---------------------------------------------------------------------------\u001b[0m",
      "\u001b[1;31mKeyboardInterrupt\u001b[0m                         Traceback (most recent call last)",
      "Cell \u001b[1;32mIn[72], line 34\u001b[0m\n\u001b[0;32m     27\u001b[0m x_test \u001b[38;5;241m=\u001b[39m x_test_uncut\u001b[38;5;241m.\u001b[39mdrop(cols_to_drop_this_cycle, axis\u001b[38;5;241m=\u001b[39m\u001b[38;5;241m1\u001b[39m)\n\u001b[0;32m     29\u001b[0m model\u001b[38;5;241m.\u001b[39mfit(x,y)\n\u001b[1;32m---> 34\u001b[0m y_pred_prob \u001b[38;5;241m=\u001b[39m model\u001b[38;5;241m.\u001b[39mpredict_proba(x_test)[:, \u001b[38;5;241m1\u001b[39m]\n\u001b[0;32m     35\u001b[0m roc_auc \u001b[38;5;241m=\u001b[39m roc_auc_score(y_test, y_pred_prob)\n\u001b[0;32m     36\u001b[0m \u001b[38;5;28mprint\u001b[39m(\u001b[38;5;124mf\u001b[39m\u001b[38;5;124m\"\u001b[39m\u001b[38;5;124mROC AUC Score:\u001b[39m\u001b[38;5;124m\"\u001b[39m, roc_auc)\n",
      "File \u001b[1;32m~\\AppData\\Roaming\\Python\\Python311\\site-packages\\sklearn\\neighbors\\_classification.py:283\u001b[0m, in \u001b[0;36mKNeighborsClassifier.predict_proba\u001b[1;34m(self, X)\u001b[0m\n\u001b[0;32m    265\u001b[0m \u001b[38;5;250m\u001b[39m\u001b[38;5;124;03m\"\"\"Return probability estimates for the test data X.\u001b[39;00m\n\u001b[0;32m    266\u001b[0m \n\u001b[0;32m    267\u001b[0m \u001b[38;5;124;03mParameters\u001b[39;00m\n\u001b[1;32m   (...)\u001b[0m\n\u001b[0;32m    278\u001b[0m \u001b[38;5;124;03m    by lexicographic order.\u001b[39;00m\n\u001b[0;32m    279\u001b[0m \u001b[38;5;124;03m\"\"\"\u001b[39;00m\n\u001b[0;32m    280\u001b[0m \u001b[38;5;28;01mif\u001b[39;00m \u001b[38;5;28mself\u001b[39m\u001b[38;5;241m.\u001b[39mweights \u001b[38;5;241m==\u001b[39m \u001b[38;5;124m\"\u001b[39m\u001b[38;5;124muniform\u001b[39m\u001b[38;5;124m\"\u001b[39m:\n\u001b[0;32m    281\u001b[0m     \u001b[38;5;66;03m# In that case, we do not need the distances to perform\u001b[39;00m\n\u001b[0;32m    282\u001b[0m     \u001b[38;5;66;03m# the weighting so we do not compute them.\u001b[39;00m\n\u001b[1;32m--> 283\u001b[0m     neigh_ind \u001b[38;5;241m=\u001b[39m \u001b[38;5;28mself\u001b[39m\u001b[38;5;241m.\u001b[39mkneighbors(X, return_distance\u001b[38;5;241m=\u001b[39m\u001b[38;5;28;01mFalse\u001b[39;00m)\n\u001b[0;32m    284\u001b[0m     neigh_dist \u001b[38;5;241m=\u001b[39m \u001b[38;5;28;01mNone\u001b[39;00m\n\u001b[0;32m    285\u001b[0m \u001b[38;5;28;01melse\u001b[39;00m:\n",
      "File \u001b[1;32m~\\AppData\\Roaming\\Python\\Python311\\site-packages\\sklearn\\neighbors\\_base.py:861\u001b[0m, in \u001b[0;36mKNeighborsMixin.kneighbors\u001b[1;34m(self, X, n_neighbors, return_distance)\u001b[0m\n\u001b[0;32m    858\u001b[0m     \u001b[38;5;28;01melse\u001b[39;00m:\n\u001b[0;32m    859\u001b[0m         kwds \u001b[38;5;241m=\u001b[39m \u001b[38;5;28mself\u001b[39m\u001b[38;5;241m.\u001b[39meffective_metric_params_\n\u001b[1;32m--> 861\u001b[0m     chunked_results \u001b[38;5;241m=\u001b[39m \u001b[38;5;28mlist\u001b[39m(\n\u001b[0;32m    862\u001b[0m         pairwise_distances_chunked(\n\u001b[0;32m    863\u001b[0m             X,\n\u001b[0;32m    864\u001b[0m             \u001b[38;5;28mself\u001b[39m\u001b[38;5;241m.\u001b[39m_fit_X,\n\u001b[0;32m    865\u001b[0m             reduce_func\u001b[38;5;241m=\u001b[39mreduce_func,\n\u001b[0;32m    866\u001b[0m             metric\u001b[38;5;241m=\u001b[39m\u001b[38;5;28mself\u001b[39m\u001b[38;5;241m.\u001b[39meffective_metric_,\n\u001b[0;32m    867\u001b[0m             n_jobs\u001b[38;5;241m=\u001b[39mn_jobs,\n\u001b[0;32m    868\u001b[0m             \u001b[38;5;241m*\u001b[39m\u001b[38;5;241m*\u001b[39mkwds,\n\u001b[0;32m    869\u001b[0m         )\n\u001b[0;32m    870\u001b[0m     )\n\u001b[0;32m    872\u001b[0m \u001b[38;5;28;01melif\u001b[39;00m \u001b[38;5;28mself\u001b[39m\u001b[38;5;241m.\u001b[39m_fit_method \u001b[38;5;129;01min\u001b[39;00m [\u001b[38;5;124m\"\u001b[39m\u001b[38;5;124mball_tree\u001b[39m\u001b[38;5;124m\"\u001b[39m, \u001b[38;5;124m\"\u001b[39m\u001b[38;5;124mkd_tree\u001b[39m\u001b[38;5;124m\"\u001b[39m]:\n\u001b[0;32m    873\u001b[0m     \u001b[38;5;28;01mif\u001b[39;00m issparse(X):\n",
      "File \u001b[1;32m~\\AppData\\Roaming\\Python\\Python311\\site-packages\\sklearn\\metrics\\pairwise.py:1876\u001b[0m, in \u001b[0;36mpairwise_distances_chunked\u001b[1;34m(X, Y, reduce_func, metric, n_jobs, working_memory, **kwds)\u001b[0m\n\u001b[0;32m   1874\u001b[0m \u001b[38;5;28;01mif\u001b[39;00m reduce_func \u001b[38;5;129;01mis\u001b[39;00m \u001b[38;5;129;01mnot\u001b[39;00m \u001b[38;5;28;01mNone\u001b[39;00m:\n\u001b[0;32m   1875\u001b[0m     chunk_size \u001b[38;5;241m=\u001b[39m D_chunk\u001b[38;5;241m.\u001b[39mshape[\u001b[38;5;241m0\u001b[39m]\n\u001b[1;32m-> 1876\u001b[0m     D_chunk \u001b[38;5;241m=\u001b[39m reduce_func(D_chunk, sl\u001b[38;5;241m.\u001b[39mstart)\n\u001b[0;32m   1877\u001b[0m     _check_chunk_size(D_chunk, chunk_size)\n\u001b[0;32m   1878\u001b[0m \u001b[38;5;28;01myield\u001b[39;00m D_chunk\n",
      "File \u001b[1;32m~\\AppData\\Roaming\\Python\\Python311\\site-packages\\sklearn\\neighbors\\_base.py:719\u001b[0m, in \u001b[0;36mKNeighborsMixin._kneighbors_reduce_func\u001b[1;34m(self, dist, start, n_neighbors, return_distance)\u001b[0m\n\u001b[0;32m    692\u001b[0m \u001b[38;5;250m\u001b[39m\u001b[38;5;124;03m\"\"\"Reduce a chunk of distances to the nearest neighbors.\u001b[39;00m\n\u001b[0;32m    693\u001b[0m \n\u001b[0;32m    694\u001b[0m \u001b[38;5;124;03mCallback to :func:`sklearn.metrics.pairwise.pairwise_distances_chunked`\u001b[39;00m\n\u001b[1;32m   (...)\u001b[0m\n\u001b[0;32m    716\u001b[0m \u001b[38;5;124;03m    The neighbors indices.\u001b[39;00m\n\u001b[0;32m    717\u001b[0m \u001b[38;5;124;03m\"\"\"\u001b[39;00m\n\u001b[0;32m    718\u001b[0m sample_range \u001b[38;5;241m=\u001b[39m np\u001b[38;5;241m.\u001b[39marange(dist\u001b[38;5;241m.\u001b[39mshape[\u001b[38;5;241m0\u001b[39m])[:, \u001b[38;5;28;01mNone\u001b[39;00m]\n\u001b[1;32m--> 719\u001b[0m neigh_ind \u001b[38;5;241m=\u001b[39m np\u001b[38;5;241m.\u001b[39margpartition(dist, n_neighbors \u001b[38;5;241m-\u001b[39m \u001b[38;5;241m1\u001b[39m, axis\u001b[38;5;241m=\u001b[39m\u001b[38;5;241m1\u001b[39m)\n\u001b[0;32m    720\u001b[0m neigh_ind \u001b[38;5;241m=\u001b[39m neigh_ind[:, :n_neighbors]\n\u001b[0;32m    721\u001b[0m \u001b[38;5;66;03m# argpartition doesn't guarantee sorted order, so we sort again\u001b[39;00m\n",
      "File \u001b[1;32m<__array_function__ internals>:200\u001b[0m, in \u001b[0;36margpartition\u001b[1;34m(*args, **kwargs)\u001b[0m\n",
      "File \u001b[1;32mC:\\ProgramData\\anaconda3\\Lib\\site-packages\\numpy\\core\\fromnumeric.py:871\u001b[0m, in \u001b[0;36margpartition\u001b[1;34m(a, kth, axis, kind, order)\u001b[0m\n\u001b[0;32m    792\u001b[0m \u001b[38;5;129m@array_function_dispatch\u001b[39m(_argpartition_dispatcher)\n\u001b[0;32m    793\u001b[0m \u001b[38;5;28;01mdef\u001b[39;00m \u001b[38;5;21margpartition\u001b[39m(a, kth, axis\u001b[38;5;241m=\u001b[39m\u001b[38;5;241m-\u001b[39m\u001b[38;5;241m1\u001b[39m, kind\u001b[38;5;241m=\u001b[39m\u001b[38;5;124m'\u001b[39m\u001b[38;5;124mintroselect\u001b[39m\u001b[38;5;124m'\u001b[39m, order\u001b[38;5;241m=\u001b[39m\u001b[38;5;28;01mNone\u001b[39;00m):\n\u001b[0;32m    794\u001b[0m \u001b[38;5;250m    \u001b[39m\u001b[38;5;124;03m\"\"\"\u001b[39;00m\n\u001b[0;32m    795\u001b[0m \u001b[38;5;124;03m    Perform an indirect partition along the given axis using the\u001b[39;00m\n\u001b[0;32m    796\u001b[0m \u001b[38;5;124;03m    algorithm specified by the `kind` keyword. It returns an array of\u001b[39;00m\n\u001b[1;32m   (...)\u001b[0m\n\u001b[0;32m    869\u001b[0m \n\u001b[0;32m    870\u001b[0m \u001b[38;5;124;03m    \"\"\"\u001b[39;00m\n\u001b[1;32m--> 871\u001b[0m     \u001b[38;5;28;01mreturn\u001b[39;00m _wrapfunc(a, \u001b[38;5;124m'\u001b[39m\u001b[38;5;124margpartition\u001b[39m\u001b[38;5;124m'\u001b[39m, kth, axis\u001b[38;5;241m=\u001b[39maxis, kind\u001b[38;5;241m=\u001b[39mkind, order\u001b[38;5;241m=\u001b[39morder)\n",
      "File \u001b[1;32mC:\\ProgramData\\anaconda3\\Lib\\site-packages\\numpy\\core\\fromnumeric.py:57\u001b[0m, in \u001b[0;36m_wrapfunc\u001b[1;34m(obj, method, *args, **kwds)\u001b[0m\n\u001b[0;32m     54\u001b[0m     \u001b[38;5;28;01mreturn\u001b[39;00m _wrapit(obj, method, \u001b[38;5;241m*\u001b[39margs, \u001b[38;5;241m*\u001b[39m\u001b[38;5;241m*\u001b[39mkwds)\n\u001b[0;32m     56\u001b[0m \u001b[38;5;28;01mtry\u001b[39;00m:\n\u001b[1;32m---> 57\u001b[0m     \u001b[38;5;28;01mreturn\u001b[39;00m bound(\u001b[38;5;241m*\u001b[39margs, \u001b[38;5;241m*\u001b[39m\u001b[38;5;241m*\u001b[39mkwds)\n\u001b[0;32m     58\u001b[0m \u001b[38;5;28;01mexcept\u001b[39;00m \u001b[38;5;167;01mTypeError\u001b[39;00m:\n\u001b[0;32m     59\u001b[0m     \u001b[38;5;66;03m# A TypeError occurs if the object does have such a method in its\u001b[39;00m\n\u001b[0;32m     60\u001b[0m     \u001b[38;5;66;03m# class, but its signature is not identical to that of NumPy's. This\u001b[39;00m\n\u001b[1;32m   (...)\u001b[0m\n\u001b[0;32m     64\u001b[0m     \u001b[38;5;66;03m# Call _wrapit from within the except clause to ensure a potential\u001b[39;00m\n\u001b[0;32m     65\u001b[0m     \u001b[38;5;66;03m# exception has a traceback chain.\u001b[39;00m\n\u001b[0;32m     66\u001b[0m     \u001b[38;5;28;01mreturn\u001b[39;00m _wrapit(obj, method, \u001b[38;5;241m*\u001b[39margs, \u001b[38;5;241m*\u001b[39m\u001b[38;5;241m*\u001b[39mkwds)\n",
      "\u001b[1;31mKeyboardInterrupt\u001b[0m: "
     ]
    }
   ],
   "source": [
    "x_uncut = df_cut_merged.drop('flag', axis=1)\n",
    "y = df_cut_merged.flag\n",
    "x_test_uncut = df3.drop('flag', axis=1)\n",
    "y_test = df3.flag\n",
    "\n",
    "\n",
    "for model in models:\n",
    "    print(f\"model now is {model}\")\n",
    "    cols_to_drop_this_cycle = []\n",
    "#     counter = 0\n",
    "    \n",
    "    for entry in corrs:\n",
    "        if entry[0] < 0.001:\n",
    "            cols_to_drop_this_cycle.append(entry[1])\n",
    "\n",
    "\n",
    "    for entry in corrs:\n",
    "        if entry[1] in cols_to_drop_this_cycle:\n",
    "            continue\n",
    "        \n",
    "        if len(cols_to_drop_this_cycle) >= 10:\n",
    "            break\n",
    "\n",
    "        cols_to_drop_this_cycle.append(entry[1])\n",
    "        \n",
    "        x = x_uncut.drop(cols_to_drop_this_cycle, axis=1)\n",
    "        x_test = x_test_uncut.drop(cols_to_drop_this_cycle, axis=1)\n",
    "        \n",
    "        model.fit(x,y)\n",
    "        \n",
    "\n",
    "\n",
    "\n",
    "        y_pred_prob = model.predict_proba(x_test)[:, 1]\n",
    "        roc_auc = roc_auc_score(y_test, y_pred_prob)\n",
    "        print(f\"ROC AUC Score:\", roc_auc)\n",
    "#         print(f\"test {len(cols_to_drop_this_cycle)}\")\n",
    "#         counter += 1\n",
    "    \n",
    "    \n",
    "\n",
    "    "
   ]
  },
  {
   "cell_type": "markdown",
   "id": "92e3c012",
   "metadata": {},
   "source": [
    "# результат - явный поворот не туда. \n",
    "1) нетюненная модель на сете из двух чанков на третьем тестовом дает аук так же 0,60 - 0,62 - не вижу смысла даже с гридсерчем заморачиваться"
   ]
  },
  {
   "cell_type": "markdown",
   "id": "cf59a5dc",
   "metadata": {},
   "source": [
    "# 5 гиппотеза, инжиниринг тайм!\n",
    "\n",
    "инжиниринг тайм!\n",
    "1) удалим колонки с \"плановыми\" значениями \n",
    "\n",
    "2) удалим колонки со статусами ежемесячных платежей за последние N месяцев - их много и они бестолковые\n",
    "\n",
    "3) колонки \"нет просрочек более N дней\" соберем в одну - чем больше просрочек, тем больше цифра у по клиенту.\n",
    "\n",
    "4) колонки \"число просрочек на N дней\" тоже собрем в одну \n",
    "\n",
    "5) количество дней с открытия и с даты подтверждения до даты сбора данных тоже долой - не вижу смысловой нагрузки в них долгосрочной в текущей задаче\n",
    " \n",
    "6) напрашивающаяся колонка - если фактическое количество дней pre_fterm меньше планового pre_pterm по закрытию - единичка, ну а если нет - ну.. не единичка:)\n",
    "\n"
   ]
  },
  {
   "cell_type": "code",
   "execution_count": 20,
   "id": "f3b11884",
   "metadata": {},
   "outputs": [],
   "source": [
    "df = fastparquet.ParquetFile('train_data/train_data_0.pq').to_pandas()\n",
    "df = pd.merge(df, answers, on='id', how='left')"
   ]
  },
  {
   "cell_type": "code",
   "execution_count": 21,
   "id": "71cea7d6",
   "metadata": {},
   "outputs": [],
   "source": [
    "cols_to_drop = []\n",
    "for entry in df.columns:\n",
    "    if 'enc_paym_' in entry :\n",
    "        cols_to_drop.append(entry)\n",
    "        \n",
    "cols_to_drop = cols_to_drop + ['pre_till_fclose', 'pre_till_pclose', 'pre_since_opened', 'pre_since_confirmed', 'pclose_flag']\n",
    "    "
   ]
  },
  {
   "cell_type": "code",
   "execution_count": 22,
   "id": "a3690547",
   "metadata": {},
   "outputs": [],
   "source": [
    "df['closed_faster_than_expected'] = df['pre_fterm'] < df['pre_pterm'] \n",
    "df['closed_faster_than_expected'] = df['closed_faster_than_expected'].apply(lambda x: int(x))"
   ]
  },
  {
   "cell_type": "code",
   "execution_count": 25,
   "id": "b87aa3cc",
   "metadata": {},
   "outputs": [],
   "source": [
    "df['overdue_severity'] = 5 - (df['is_zero_loans5'] + df['is_zero_loans530'] + df['is_zero_loans3060'] + df['is_zero_loans6090'] + df['is_zero_loans90']) "
   ]
  },
  {
   "cell_type": "code",
   "execution_count": 26,
   "id": "1a31e1fe",
   "metadata": {},
   "outputs": [],
   "source": [
    "df['prone_to_overdue'] = 0"
   ]
  },
  {
   "cell_type": "code",
   "execution_count": 30,
   "id": "06aa0d2e",
   "metadata": {},
   "outputs": [],
   "source": [
    "# Далее первичный код, без использования sql-библиотеки - ооооочень долго. Запускать на свой страх и риск:)\n",
    "\n",
    "# он в \"марке\" чтобы не запустить случайно"
   ]
  },
  {
   "cell_type": "markdown",
   "id": "0f3ace66",
   "metadata": {},
   "source": [
    "for entry in df.id.unique():\n",
    "    df.loc[df.id == entry, 'prone_to_overdue'] = sum(df[df.id == entry]['overdue_severity'])"
   ]
  },
  {
   "cell_type": "code",
   "execution_count": 27,
   "id": "1a9dfab9",
   "metadata": {},
   "outputs": [],
   "source": [
    "#далее его новая версия, работает сильно быстрее\n",
    "    \n",
    "con = duckdb.connect(':memory:')\n",
    "\n",
    "# new column, product-wise\n",
    "df['overdue_severity'] = df['is_zero_loans5'] + df['is_zero_loans530']*2 + df['is_zero_loans3060']*3 + df['is_zero_loans6090']*4 + df['is_zero_loans90']*5\n",
    "\n",
    "result = con.execute('''\n",
    "SELECT id, \n",
    "cast(SUM(overdue_severity) as float) / max(rn) AS prone_to_overdue\n",
    "FROM df\n",
    "GROUP BY id\n",
    "'''\n",
    "                    ).fetchall()\n",
    "\n",
    "result = pd.DataFrame.from_records(result, columns=['id','prone_to_overdue'])\n",
    "df = pd.merge(result, df, on='id', how='left')\n"
   ]
  },
  {
   "cell_type": "code",
   "execution_count": 28,
   "id": "b70bb0f4",
   "metadata": {},
   "outputs": [],
   "source": [
    "df['prone_to_close_faster'] = 0"
   ]
  },
  {
   "cell_type": "code",
   "execution_count": 42,
   "id": "08f51238",
   "metadata": {},
   "outputs": [],
   "source": [
    "# так же беда - очень долгий код, оставляю в марке для истории"
   ]
  },
  {
   "cell_type": "markdown",
   "id": "41927f3b",
   "metadata": {},
   "source": [
    "for entry in df.id.unique():\n",
    "    df.loc[df.id == entry, 'prone_to_close_faster'] = sum(df[df.id == entry]['closed_faster_than_expected'])"
   ]
  },
  {
   "cell_type": "markdown",
   "id": "dc865e02",
   "metadata": {},
   "source": [
    "new_columns = df[['id', 'closed_faster_than_expected', 'prone_to_overdue', 'overdue_severity', 'prone_to_close_faster']]"
   ]
  },
  {
   "cell_type": "markdown",
   "id": "df4e853d",
   "metadata": {},
   "source": [
    "new_columns.to_csv('train_data/part_0_eng_cols_1')"
   ]
  },
  {
   "cell_type": "code",
   "execution_count": 29,
   "id": "3cb7c927",
   "metadata": {},
   "outputs": [],
   "source": [
    "con = duckdb.connect(':memory:')\n",
    "\n",
    "# new column, product-wise\n",
    "df['closed_faster_than_expected'] = df['pre_fterm'] < df['pre_pterm'] \n",
    "df['closed_faster_than_expected'] = df['closed_faster_than_expected'].apply(lambda x: int(x))\n",
    "\n",
    "result = con.execute('''\n",
    "SELECT id, \n",
    "cast(SUM(closed_faster_than_expected) as float) / max(rn) as prone_to_close_faster\n",
    "FROM df\n",
    "GROUP BY id\n",
    "'''\n",
    "                    ).fetchall()\n",
    "\n",
    "result = pd.DataFrame.from_records(result, columns=['id', 'prone_to_close_faster'])\n",
    "df = pd.merge(result, df, on='id', how='left')\n"
   ]
  },
  {
   "cell_type": "code",
   "execution_count": null,
   "id": "46167b6a",
   "metadata": {},
   "outputs": [],
   "source": []
  },
  {
   "cell_type": "code",
   "execution_count": 30,
   "id": "0f2c693f",
   "metadata": {},
   "outputs": [],
   "source": [
    "df = fastparquet.ParquetFile('train_data/train_data_0.pq').to_pandas()\n",
    "df = pd.merge(df, answers, on='id', how='left')\n",
    "df = overdue_and_quick_closure_duck(df)\n",
    "\n",
    "\n",
    "df2 = fastparquet.ParquetFile('train_data/train_data_0.pq').to_pandas()\n",
    "df2 = pd.merge(df2, answers, on='id', how='left')\n",
    "df2 = overdue_and_quick_closure_duck(df2)\n",
    "# df['flag'] = df['flag_y']\n",
    "# df = df.drop('flag_y', axis=1)"
   ]
  },
  {
   "cell_type": "code",
   "execution_count": 31,
   "id": "d44b1923",
   "metadata": {},
   "outputs": [],
   "source": [
    "pos_share = 45\n",
    "df_cut = sample_df(\n",
    "    df, \n",
    "    round(df.flag.value_counts()[1] / pos_share * 100 + 1, 0),\n",
    "    100 - pos_share,\n",
    "    pos_share\n",
    ")"
   ]
  },
  {
   "cell_type": "code",
   "execution_count": 32,
   "id": "4cd02a27",
   "metadata": {},
   "outputs": [],
   "source": [
    "models = [\n",
    "#     KNeighborsClassifier(),\n",
    "#     SVC(),\n",
    "    RandomForestClassifier(),\n",
    "    MLPClassifier(),\n",
    "#     LogisticRegression(),\n",
    "#     DecisionTreeClassifier(),\n",
    "    GaussianNB(),\n",
    "]\n",
    "#     xgb(),\n",
    "#     lgb(),\n",
    "# ]"
   ]
  },
  {
   "cell_type": "code",
   "execution_count": 33,
   "id": "739754c4",
   "metadata": {},
   "outputs": [],
   "source": [
    "x = df_cut.drop(cols_to_drop + ['flag'], axis=1)\n",
    "y = df_cut.flag"
   ]
  },
  {
   "cell_type": "code",
   "execution_count": 34,
   "id": "b6449c6f",
   "metadata": {},
   "outputs": [],
   "source": [
    "results_dict = dict()"
   ]
  },
  {
   "cell_type": "code",
   "execution_count": 40,
   "id": "f72ca6d3",
   "metadata": {},
   "outputs": [],
   "source": [
    "for model in models:\n",
    "    \n",
    "    cv_scores = cross_val_score(model, x, y, cv=3, scoring='roc_auc')\n",
    "    results_dict[str(model)[0:str(model).find('(')]] = mean(cv_scores)\n"
   ]
  },
  {
   "cell_type": "code",
   "execution_count": 41,
   "id": "ebea6a5b",
   "metadata": {},
   "outputs": [
    {
     "data": {
      "text/plain": [
       "{'RandomForestClassifier': 0.7113122571123972,\n",
       " 'MLPClassifier': 0.51348939821603,\n",
       " 'GaussianNB': 0.6148964537434725}"
      ]
     },
     "execution_count": 41,
     "metadata": {},
     "output_type": "execute_result"
    }
   ],
   "source": [
    "results_dict"
   ]
  },
  {
   "cell_type": "code",
   "execution_count": 36,
   "id": "54c1e955",
   "metadata": {},
   "outputs": [
    {
     "name": "stderr",
     "output_type": "stream",
     "text": [
      "C:\\Users\\User\\AppData\\Local\\Temp\\ipykernel_12784\\927631884.py:6: TqdmDeprecationWarning: This function will be removed in tqdm==5.0.0\n",
      "Please use `tqdm.notebook.tqdm` instead of `tqdm.tqdm_notebook`\n",
      "  for model in tqdm.tqdm_notebook(models, desc=f\"Now {str(model)[0:str(model).find('(')]} working\"):\n"
     ]
    },
    {
     "data": {
      "application/vnd.jupyter.widget-view+json": {
       "model_id": "1874add5705142828189ad201e015c4f",
       "version_major": 2,
       "version_minor": 0
      },
      "text/plain": [
       "Now RandomForestClassifier working:   0%|          | 0/3 [00:00<?, ?it/s]"
      ]
     },
     "metadata": {},
     "output_type": "display_data"
    },
    {
     "data": {
      "text/plain": [
       "{'RandomForestClassifier': 0.9926871733536528,\n",
       " 'MLPClassifier': 0.5285025487207592,\n",
       " 'GaussianNB': 0.6106061630213018}"
      ]
     },
     "execution_count": 36,
     "metadata": {},
     "output_type": "execute_result"
    }
   ],
   "source": [
    "results_dict = dict()\n",
    "\n",
    "x_test = df2.drop('flag', axis=1)\n",
    "y_test = df2.flag\n",
    "\n",
    "for model in tqdm.tqdm_notebook(models, desc=f\"Now {str(model)[0:str(model).find('(')]} working\"):\n",
    "    results_current_model = []\n",
    "#     for i in range(1):\n",
    "\n",
    "    x = df_cut.drop('flag', axis=1)\n",
    "    y = df_cut.flag\n",
    "\n",
    "    model.fit(x,y)\n",
    "\n",
    "    y_pred_prob = model.predict_proba(x_test)[:, 1]\n",
    "\n",
    "    roc_auc = roc_auc_score(y_test, y_pred_prob)\n",
    "\n",
    "    results_current_model.append(roc_auc)\n",
    "        \n",
    "    results_dict[str(model)[0:str(model).find('(')]] = results_current_model[0]\n",
    "results_dict"
   ]
  },
  {
   "cell_type": "code",
   "execution_count": 37,
   "id": "753b1cdc",
   "metadata": {},
   "outputs": [],
   "source": [
    "share = 45\n",
    "df_cut_2 = sample_df(\n",
    "    df2, \n",
    "    round(df.flag.value_counts()[1] / share * 100 + 1, 0),\n",
    "    100 - share,\n",
    "    share\n",
    ")"
   ]
  },
  {
   "cell_type": "code",
   "execution_count": 38,
   "id": "43735c0e",
   "metadata": {},
   "outputs": [],
   "source": [
    "x = df_cut_2.drop(cols_to_drop + ['flag'], axis=1)\n",
    "y = df_cut_2.flag"
   ]
  },
  {
   "cell_type": "code",
   "execution_count": 39,
   "id": "843663dd",
   "metadata": {},
   "outputs": [],
   "source": [
    "results_dict = dict()"
   ]
  },
  {
   "cell_type": "code",
   "execution_count": 40,
   "id": "6a8e8e2b",
   "metadata": {},
   "outputs": [],
   "source": [
    "for model in models:\n",
    "    \n",
    "    cv_scores = cross_val_score(model, x, y, cv=3, scoring='roc_auc')\n",
    "    results_dict[str(model)[0:str(model).find('(')]] = mean(cv_scores)\n"
   ]
  },
  {
   "cell_type": "code",
   "execution_count": 41,
   "id": "cbb4b4df",
   "metadata": {},
   "outputs": [
    {
     "data": {
      "text/plain": [
       "{'RandomForestClassifier': 0.7101708991792263,\n",
       " 'MLPClassifier': 0.5164326825368776,\n",
       " 'GaussianNB': 0.6122935293058482}"
      ]
     },
     "execution_count": 41,
     "metadata": {},
     "output_type": "execute_result"
    }
   ],
   "source": [
    "results_dict"
   ]
  },
  {
   "cell_type": "markdown",
   "id": "faf35a40",
   "metadata": {},
   "source": [
    "# результат\n",
    "вообще непонятно!\n",
    "проверял на двух кусках - на одном лес дал 0,7, остальные ничего особенного\n",
    "\n",
    "в теории инжиниринг имеет место быть, но нужно больше"
   ]
  },
  {
   "cell_type": "markdown",
   "id": "4c41cbd0",
   "metadata": {},
   "source": [
    "# 7 гиппотеза. голосование моделей. попробуем на сете сразу из трех чанков."
   ]
  },
  {
   "cell_type": "markdown",
   "id": "02586084",
   "metadata": {},
   "source": [
    "порядок работы в этой гиппотезе такой:\n",
    "1) раз делать хотим из 3х чанков - нужен 4й для валидации. распакуем спарком еще кусок данных в цсв\n",
    "2) делаем сбалансированный сет из трех чанков, валидируем CV-шкой, записываем 3 лучшие модели (или 2?) и результаты\n",
    "2.1) а вот вопрос - как делать голосование - большинством (и тогда 3 модели) или по большей вероятности? (и тогда 2 модели)\n",
    "2.2) валидируем вручную на трейне, 3 прогона, среднее, записываем\n",
    "3) валидируем на тесте (сет из 4-го куска данных (боже как я ненавиижу слово \"чанк\" в переложении на русский) человека, который придумал ввести его в обиход в траскрипции без изменений нужно насильно отлучить от русского!)\n",
    "3) так вот. записываем результаты по каждой модели\n",
    "4) валидируем на трейне большинством\n",
    "5) валидируем на трейне по большей вероятности\n",
    "6) валидируем на тесте большинством\n",
    "7) валидируем на тесте по большей вероятности\n",
    "8) расстраиваемся"
   ]
  },
  {
   "cell_type": "code",
   "execution_count": 44,
   "id": "4dde6eaa",
   "metadata": {},
   "outputs": [],
   "source": [
    "df = fastparquet.ParquetFile('train_data/train_data_0.pq').to_pandas()\n",
    "df = answers_func(df)\n",
    "df2 = fastparquet.ParquetFile('train_data/train_data_1.pq').to_pandas()\n",
    "df2 = answers_func(df2)\n",
    "df3 = fastparquet.ParquetFile('train_data/train_data_2.pq').to_pandas()\n",
    "df3 = answers_func(df3)"
   ]
  },
  {
   "cell_type": "code",
   "execution_count": 45,
   "id": "74dca6fd",
   "metadata": {},
   "outputs": [],
   "source": [
    "share = 45\n",
    "\n",
    "df_cut_1 = sample_df(\n",
    "    df, \n",
    "    round(df.flag.value_counts()[1] / share * 100 + 1, 0),\n",
    "    100 - share,\n",
    "    share\n",
    ")\n",
    "\n",
    "df_cut_2 = sample_df(\n",
    "    df2, \n",
    "    round(df2.flag.value_counts()[1] / share * 100 + 1, 0),\n",
    "    100 - share,\n",
    "    share\n",
    ")\n",
    "\n",
    "df_cut_3 = sample_df(\n",
    "    df3, \n",
    "    round(df3.flag.value_counts()[1] / share * 100 + 1, 0),\n",
    "    100 - share,\n",
    "    share\n",
    ")\n",
    "\n",
    "df = None\n",
    "df2 = None\n",
    "df3 = None"
   ]
  },
  {
   "cell_type": "code",
   "execution_count": 46,
   "id": "94cf0e57",
   "metadata": {},
   "outputs": [],
   "source": [
    "df_cut_merged = pd.concat([df_cut_1, df_cut_2, df_cut_3], ignore_index=True)\n"
   ]
  },
  {
   "cell_type": "code",
   "execution_count": 50,
   "id": "df12190b",
   "metadata": {},
   "outputs": [
    {
     "data": {
      "text/plain": [
       "flag\n",
       "0    110000\n",
       "1     90000\n",
       "Name: count, dtype: int64"
      ]
     },
     "execution_count": 50,
     "metadata": {},
     "output_type": "execute_result"
    }
   ],
   "source": [
    "df_cut_merged.flag.value_counts()"
   ]
  },
  {
   "cell_type": "code",
   "execution_count": 51,
   "id": "dbbfdb8a",
   "metadata": {},
   "outputs": [],
   "source": [
    "models = [\n",
    "#     KNeighborsClassifier(),\n",
    "#     SVC(),\n",
    "    RandomForestClassifier(),\n",
    "    MLPClassifier(),\n",
    "#     LogisticRegression(),\n",
    "#     DecisionTreeClassifier(),\n",
    "    GaussianNB(),\n",
    "]\n",
    "#     xgb(),\n",
    "#     lgb(),\n",
    "# ]"
   ]
  },
  {
   "cell_type": "code",
   "execution_count": 52,
   "id": "9a8731fb",
   "metadata": {},
   "outputs": [],
   "source": [
    "df_cut_merged = sample_df(df_cut_merged, 200000, 55, 45)"
   ]
  },
  {
   "cell_type": "code",
   "execution_count": 53,
   "id": "902f774c",
   "metadata": {},
   "outputs": [],
   "source": [
    "x = df_cut_merged.drop('flag', axis=1)\n",
    "y = df_cut_merged.flag"
   ]
  },
  {
   "cell_type": "code",
   "execution_count": 31,
   "id": "707729db",
   "metadata": {},
   "outputs": [],
   "source": [
    "results_dict = dict()"
   ]
  },
  {
   "cell_type": "code",
   "execution_count": null,
   "id": "30ef696e",
   "metadata": {},
   "outputs": [],
   "source": []
  },
  {
   "cell_type": "code",
   "execution_count": 55,
   "id": "b3810d7c",
   "metadata": {},
   "outputs": [],
   "source": [
    "df = fastparquet.ParquetFile('train_data/train_data_0.pq').to_pandas()\n",
    "df = answers_func(df)\n",
    "df2 = fastparquet.ParquetFile('train_data/train_data_1.pq').to_pandas()\n",
    "df2 = answers_func(df2)\n",
    "\n",
    "share = 45\n",
    "\n",
    "df_cut_1 = sample_df(\n",
    "    df, \n",
    "    round(df.flag.value_counts()[1] / share * 100 + 1, 0),\n",
    "    100 - share,\n",
    "    share\n",
    ")\n",
    "\n",
    "df_cut_2 = sample_df(\n",
    "    df2, \n",
    "    round(df2.flag.value_counts()[1] / share * 100 + 1, 0),\n",
    "    100 - share,\n",
    "    share\n",
    ")\n",
    "\n",
    "df_cut_merged = pd.concat([df_cut_1, df_cut_2], ignore_index=True)\n",
    "df3 = fastparquet.ParquetFile('train_data/train_data_2.pq').to_pandas()\n",
    "df3 = answers_func(df3)"
   ]
  },
  {
   "cell_type": "code",
   "execution_count": 56,
   "id": "95b6ae7a",
   "metadata": {},
   "outputs": [],
   "source": [
    "roc_auc_scorer = make_scorer(roc_auc_score, greater_is_better=True, needs_proba=True)"
   ]
  },
  {
   "cell_type": "code",
   "execution_count": 57,
   "id": "375e21f3",
   "metadata": {},
   "outputs": [],
   "source": [
    "x = df_cut_merged.drop('flag', axis=1)\n",
    "y = df_cut_merged.flag"
   ]
  },
  {
   "cell_type": "code",
   "execution_count": 64,
   "id": "47b02e0c",
   "metadata": {},
   "outputs": [
    {
     "name": "stderr",
     "output_type": "stream",
     "text": [
      "C:\\Users\\User\\AppData\\Local\\Temp\\ipykernel_12784\\2324247700.py:4: TqdmDeprecationWarning: This function will be removed in tqdm==5.0.0\n",
      "Please use `tqdm.notebook.tqdm` instead of `tqdm.tqdm_notebook`\n",
      "  for model in tqdm.tqdm_notebook(models, desc=f'now working {model}'):\n"
     ]
    },
    {
     "data": {
      "application/vnd.jupyter.widget-view+json": {
       "model_id": "ee11dc1fd2494300a5fce0dbb26f8614",
       "version_major": 2,
       "version_minor": 0
      },
      "text/plain": [
       "now working RandomForestClassifier():   0%|          | 0/3 [00:00<?, ?it/s]"
      ]
     },
     "metadata": {},
     "output_type": "display_data"
    },
    {
     "name": "stdout",
     "output_type": "stream",
     "text": [
      "0.6263367989965528\n",
      "0.5\n",
      "0.5813534738284672\n"
     ]
    }
   ],
   "source": [
    "x_test = df3.drop('flag', axis=1)\n",
    "y_test = df3.flag\n",
    "\n",
    "for model in tqdm.tqdm_notebook(models, desc=f'now working {model}'):\n",
    "    model.fit(x,y)\n",
    "#     y_pred = model.predict(x_test)\n",
    "    \n",
    "    print( roc_auc_scorer(model, x_test, y_test))\n",
    "\n",
    "    "
   ]
  },
  {
   "cell_type": "code",
   "execution_count": 67,
   "id": "09aa4999",
   "metadata": {},
   "outputs": [
    {
     "ename": "KeyboardInterrupt",
     "evalue": "",
     "output_type": "error",
     "traceback": [
      "\u001b[1;31m---------------------------------------------------------------------------\u001b[0m",
      "\u001b[1;31mKeyboardInterrupt\u001b[0m                         Traceback (most recent call last)",
      "Cell \u001b[1;32mIn[67], line 1\u001b[0m\n\u001b[1;32m----> 1\u001b[0m models[\u001b[38;5;241m0\u001b[39m]\u001b[38;5;241m.\u001b[39mpredict_proba(x_test)\n",
      "File \u001b[1;32m~\\AppData\\Roaming\\Python\\Python311\\site-packages\\sklearn\\ensemble\\_forest.py:873\u001b[0m, in \u001b[0;36mForestClassifier.predict_proba\u001b[1;34m(self, X)\u001b[0m\n\u001b[0;32m    868\u001b[0m all_proba \u001b[38;5;241m=\u001b[39m [\n\u001b[0;32m    869\u001b[0m     np\u001b[38;5;241m.\u001b[39mzeros((X\u001b[38;5;241m.\u001b[39mshape[\u001b[38;5;241m0\u001b[39m], j), dtype\u001b[38;5;241m=\u001b[39mnp\u001b[38;5;241m.\u001b[39mfloat64)\n\u001b[0;32m    870\u001b[0m     \u001b[38;5;28;01mfor\u001b[39;00m j \u001b[38;5;129;01min\u001b[39;00m np\u001b[38;5;241m.\u001b[39matleast_1d(\u001b[38;5;28mself\u001b[39m\u001b[38;5;241m.\u001b[39mn_classes_)\n\u001b[0;32m    871\u001b[0m ]\n\u001b[0;32m    872\u001b[0m lock \u001b[38;5;241m=\u001b[39m threading\u001b[38;5;241m.\u001b[39mLock()\n\u001b[1;32m--> 873\u001b[0m Parallel(n_jobs\u001b[38;5;241m=\u001b[39mn_jobs, verbose\u001b[38;5;241m=\u001b[39m\u001b[38;5;28mself\u001b[39m\u001b[38;5;241m.\u001b[39mverbose, require\u001b[38;5;241m=\u001b[39m\u001b[38;5;124m\"\u001b[39m\u001b[38;5;124msharedmem\u001b[39m\u001b[38;5;124m\"\u001b[39m)(\n\u001b[0;32m    874\u001b[0m     delayed(_accumulate_prediction)(e\u001b[38;5;241m.\u001b[39mpredict_proba, X, all_proba, lock)\n\u001b[0;32m    875\u001b[0m     \u001b[38;5;28;01mfor\u001b[39;00m e \u001b[38;5;129;01min\u001b[39;00m \u001b[38;5;28mself\u001b[39m\u001b[38;5;241m.\u001b[39mestimators_\n\u001b[0;32m    876\u001b[0m )\n\u001b[0;32m    878\u001b[0m \u001b[38;5;28;01mfor\u001b[39;00m proba \u001b[38;5;129;01min\u001b[39;00m all_proba:\n\u001b[0;32m    879\u001b[0m     proba \u001b[38;5;241m/\u001b[39m\u001b[38;5;241m=\u001b[39m \u001b[38;5;28mlen\u001b[39m(\u001b[38;5;28mself\u001b[39m\u001b[38;5;241m.\u001b[39mestimators_)\n",
      "File \u001b[1;32m~\\AppData\\Roaming\\Python\\Python311\\site-packages\\sklearn\\utils\\parallel.py:63\u001b[0m, in \u001b[0;36mParallel.__call__\u001b[1;34m(self, iterable)\u001b[0m\n\u001b[0;32m     58\u001b[0m config \u001b[38;5;241m=\u001b[39m get_config()\n\u001b[0;32m     59\u001b[0m iterable_with_config \u001b[38;5;241m=\u001b[39m (\n\u001b[0;32m     60\u001b[0m     (_with_config(delayed_func, config), args, kwargs)\n\u001b[0;32m     61\u001b[0m     \u001b[38;5;28;01mfor\u001b[39;00m delayed_func, args, kwargs \u001b[38;5;129;01min\u001b[39;00m iterable\n\u001b[0;32m     62\u001b[0m )\n\u001b[1;32m---> 63\u001b[0m \u001b[38;5;28;01mreturn\u001b[39;00m \u001b[38;5;28msuper\u001b[39m()\u001b[38;5;241m.\u001b[39m\u001b[38;5;21m__call__\u001b[39m(iterable_with_config)\n",
      "File \u001b[1;32mC:\\ProgramData\\anaconda3\\Lib\\site-packages\\joblib\\parallel.py:1088\u001b[0m, in \u001b[0;36mParallel.__call__\u001b[1;34m(self, iterable)\u001b[0m\n\u001b[0;32m   1085\u001b[0m \u001b[38;5;28;01mif\u001b[39;00m \u001b[38;5;28mself\u001b[39m\u001b[38;5;241m.\u001b[39mdispatch_one_batch(iterator):\n\u001b[0;32m   1086\u001b[0m     \u001b[38;5;28mself\u001b[39m\u001b[38;5;241m.\u001b[39m_iterating \u001b[38;5;241m=\u001b[39m \u001b[38;5;28mself\u001b[39m\u001b[38;5;241m.\u001b[39m_original_iterator \u001b[38;5;129;01mis\u001b[39;00m \u001b[38;5;129;01mnot\u001b[39;00m \u001b[38;5;28;01mNone\u001b[39;00m\n\u001b[1;32m-> 1088\u001b[0m \u001b[38;5;28;01mwhile\u001b[39;00m \u001b[38;5;28mself\u001b[39m\u001b[38;5;241m.\u001b[39mdispatch_one_batch(iterator):\n\u001b[0;32m   1089\u001b[0m     \u001b[38;5;28;01mpass\u001b[39;00m\n\u001b[0;32m   1091\u001b[0m \u001b[38;5;28;01mif\u001b[39;00m pre_dispatch \u001b[38;5;241m==\u001b[39m \u001b[38;5;124m\"\u001b[39m\u001b[38;5;124mall\u001b[39m\u001b[38;5;124m\"\u001b[39m \u001b[38;5;129;01mor\u001b[39;00m n_jobs \u001b[38;5;241m==\u001b[39m \u001b[38;5;241m1\u001b[39m:\n\u001b[0;32m   1092\u001b[0m     \u001b[38;5;66;03m# The iterable was consumed all at once by the above for loop.\u001b[39;00m\n\u001b[0;32m   1093\u001b[0m     \u001b[38;5;66;03m# No need to wait for async callbacks to trigger to\u001b[39;00m\n\u001b[0;32m   1094\u001b[0m     \u001b[38;5;66;03m# consumption.\u001b[39;00m\n",
      "File \u001b[1;32mC:\\ProgramData\\anaconda3\\Lib\\site-packages\\joblib\\parallel.py:901\u001b[0m, in \u001b[0;36mParallel.dispatch_one_batch\u001b[1;34m(self, iterator)\u001b[0m\n\u001b[0;32m    899\u001b[0m     \u001b[38;5;28;01mreturn\u001b[39;00m \u001b[38;5;28;01mFalse\u001b[39;00m\n\u001b[0;32m    900\u001b[0m \u001b[38;5;28;01melse\u001b[39;00m:\n\u001b[1;32m--> 901\u001b[0m     \u001b[38;5;28mself\u001b[39m\u001b[38;5;241m.\u001b[39m_dispatch(tasks)\n\u001b[0;32m    902\u001b[0m     \u001b[38;5;28;01mreturn\u001b[39;00m \u001b[38;5;28;01mTrue\u001b[39;00m\n",
      "File \u001b[1;32mC:\\ProgramData\\anaconda3\\Lib\\site-packages\\joblib\\parallel.py:819\u001b[0m, in \u001b[0;36mParallel._dispatch\u001b[1;34m(self, batch)\u001b[0m\n\u001b[0;32m    817\u001b[0m \u001b[38;5;28;01mwith\u001b[39;00m \u001b[38;5;28mself\u001b[39m\u001b[38;5;241m.\u001b[39m_lock:\n\u001b[0;32m    818\u001b[0m     job_idx \u001b[38;5;241m=\u001b[39m \u001b[38;5;28mlen\u001b[39m(\u001b[38;5;28mself\u001b[39m\u001b[38;5;241m.\u001b[39m_jobs)\n\u001b[1;32m--> 819\u001b[0m     job \u001b[38;5;241m=\u001b[39m \u001b[38;5;28mself\u001b[39m\u001b[38;5;241m.\u001b[39m_backend\u001b[38;5;241m.\u001b[39mapply_async(batch, callback\u001b[38;5;241m=\u001b[39mcb)\n\u001b[0;32m    820\u001b[0m     \u001b[38;5;66;03m# A job can complete so quickly than its callback is\u001b[39;00m\n\u001b[0;32m    821\u001b[0m     \u001b[38;5;66;03m# called before we get here, causing self._jobs to\u001b[39;00m\n\u001b[0;32m    822\u001b[0m     \u001b[38;5;66;03m# grow. To ensure correct results ordering, .insert is\u001b[39;00m\n\u001b[0;32m    823\u001b[0m     \u001b[38;5;66;03m# used (rather than .append) in the following line\u001b[39;00m\n\u001b[0;32m    824\u001b[0m     \u001b[38;5;28mself\u001b[39m\u001b[38;5;241m.\u001b[39m_jobs\u001b[38;5;241m.\u001b[39minsert(job_idx, job)\n",
      "File \u001b[1;32mC:\\ProgramData\\anaconda3\\Lib\\site-packages\\joblib\\_parallel_backends.py:208\u001b[0m, in \u001b[0;36mSequentialBackend.apply_async\u001b[1;34m(self, func, callback)\u001b[0m\n\u001b[0;32m    206\u001b[0m \u001b[38;5;28;01mdef\u001b[39;00m \u001b[38;5;21mapply_async\u001b[39m(\u001b[38;5;28mself\u001b[39m, func, callback\u001b[38;5;241m=\u001b[39m\u001b[38;5;28;01mNone\u001b[39;00m):\n\u001b[0;32m    207\u001b[0m \u001b[38;5;250m    \u001b[39m\u001b[38;5;124;03m\"\"\"Schedule a func to be run\"\"\"\u001b[39;00m\n\u001b[1;32m--> 208\u001b[0m     result \u001b[38;5;241m=\u001b[39m ImmediateResult(func)\n\u001b[0;32m    209\u001b[0m     \u001b[38;5;28;01mif\u001b[39;00m callback:\n\u001b[0;32m    210\u001b[0m         callback(result)\n",
      "File \u001b[1;32mC:\\ProgramData\\anaconda3\\Lib\\site-packages\\joblib\\_parallel_backends.py:597\u001b[0m, in \u001b[0;36mImmediateResult.__init__\u001b[1;34m(self, batch)\u001b[0m\n\u001b[0;32m    594\u001b[0m \u001b[38;5;28;01mdef\u001b[39;00m \u001b[38;5;21m__init__\u001b[39m(\u001b[38;5;28mself\u001b[39m, batch):\n\u001b[0;32m    595\u001b[0m     \u001b[38;5;66;03m# Don't delay the application, to avoid keeping the input\u001b[39;00m\n\u001b[0;32m    596\u001b[0m     \u001b[38;5;66;03m# arguments in memory\u001b[39;00m\n\u001b[1;32m--> 597\u001b[0m     \u001b[38;5;28mself\u001b[39m\u001b[38;5;241m.\u001b[39mresults \u001b[38;5;241m=\u001b[39m batch()\n",
      "File \u001b[1;32mC:\\ProgramData\\anaconda3\\Lib\\site-packages\\joblib\\parallel.py:288\u001b[0m, in \u001b[0;36mBatchedCalls.__call__\u001b[1;34m(self)\u001b[0m\n\u001b[0;32m    284\u001b[0m \u001b[38;5;28;01mdef\u001b[39;00m \u001b[38;5;21m__call__\u001b[39m(\u001b[38;5;28mself\u001b[39m):\n\u001b[0;32m    285\u001b[0m     \u001b[38;5;66;03m# Set the default nested backend to self._backend but do not set the\u001b[39;00m\n\u001b[0;32m    286\u001b[0m     \u001b[38;5;66;03m# change the default number of processes to -1\u001b[39;00m\n\u001b[0;32m    287\u001b[0m     \u001b[38;5;28;01mwith\u001b[39;00m parallel_backend(\u001b[38;5;28mself\u001b[39m\u001b[38;5;241m.\u001b[39m_backend, n_jobs\u001b[38;5;241m=\u001b[39m\u001b[38;5;28mself\u001b[39m\u001b[38;5;241m.\u001b[39m_n_jobs):\n\u001b[1;32m--> 288\u001b[0m         \u001b[38;5;28;01mreturn\u001b[39;00m [func(\u001b[38;5;241m*\u001b[39margs, \u001b[38;5;241m*\u001b[39m\u001b[38;5;241m*\u001b[39mkwargs)\n\u001b[0;32m    289\u001b[0m                 \u001b[38;5;28;01mfor\u001b[39;00m func, args, kwargs \u001b[38;5;129;01min\u001b[39;00m \u001b[38;5;28mself\u001b[39m\u001b[38;5;241m.\u001b[39mitems]\n",
      "File \u001b[1;32mC:\\ProgramData\\anaconda3\\Lib\\site-packages\\joblib\\parallel.py:288\u001b[0m, in \u001b[0;36m<listcomp>\u001b[1;34m(.0)\u001b[0m\n\u001b[0;32m    284\u001b[0m \u001b[38;5;28;01mdef\u001b[39;00m \u001b[38;5;21m__call__\u001b[39m(\u001b[38;5;28mself\u001b[39m):\n\u001b[0;32m    285\u001b[0m     \u001b[38;5;66;03m# Set the default nested backend to self._backend but do not set the\u001b[39;00m\n\u001b[0;32m    286\u001b[0m     \u001b[38;5;66;03m# change the default number of processes to -1\u001b[39;00m\n\u001b[0;32m    287\u001b[0m     \u001b[38;5;28;01mwith\u001b[39;00m parallel_backend(\u001b[38;5;28mself\u001b[39m\u001b[38;5;241m.\u001b[39m_backend, n_jobs\u001b[38;5;241m=\u001b[39m\u001b[38;5;28mself\u001b[39m\u001b[38;5;241m.\u001b[39m_n_jobs):\n\u001b[1;32m--> 288\u001b[0m         \u001b[38;5;28;01mreturn\u001b[39;00m [func(\u001b[38;5;241m*\u001b[39margs, \u001b[38;5;241m*\u001b[39m\u001b[38;5;241m*\u001b[39mkwargs)\n\u001b[0;32m    289\u001b[0m                 \u001b[38;5;28;01mfor\u001b[39;00m func, args, kwargs \u001b[38;5;129;01min\u001b[39;00m \u001b[38;5;28mself\u001b[39m\u001b[38;5;241m.\u001b[39mitems]\n",
      "File \u001b[1;32m~\\AppData\\Roaming\\Python\\Python311\\site-packages\\sklearn\\utils\\parallel.py:123\u001b[0m, in \u001b[0;36m_FuncWrapper.__call__\u001b[1;34m(self, *args, **kwargs)\u001b[0m\n\u001b[0;32m    121\u001b[0m     config \u001b[38;5;241m=\u001b[39m {}\n\u001b[0;32m    122\u001b[0m \u001b[38;5;28;01mwith\u001b[39;00m config_context(\u001b[38;5;241m*\u001b[39m\u001b[38;5;241m*\u001b[39mconfig):\n\u001b[1;32m--> 123\u001b[0m     \u001b[38;5;28;01mreturn\u001b[39;00m \u001b[38;5;28mself\u001b[39m\u001b[38;5;241m.\u001b[39mfunction(\u001b[38;5;241m*\u001b[39margs, \u001b[38;5;241m*\u001b[39m\u001b[38;5;241m*\u001b[39mkwargs)\n",
      "File \u001b[1;32m~\\AppData\\Roaming\\Python\\Python311\\site-packages\\sklearn\\ensemble\\_forest.py:650\u001b[0m, in \u001b[0;36m_accumulate_prediction\u001b[1;34m(predict, X, out, lock)\u001b[0m\n\u001b[0;32m    643\u001b[0m \u001b[38;5;28;01mdef\u001b[39;00m \u001b[38;5;21m_accumulate_prediction\u001b[39m(predict, X, out, lock):\n\u001b[0;32m    644\u001b[0m \u001b[38;5;250m    \u001b[39m\u001b[38;5;124;03m\"\"\"\u001b[39;00m\n\u001b[0;32m    645\u001b[0m \u001b[38;5;124;03m    This is a utility function for joblib's Parallel.\u001b[39;00m\n\u001b[0;32m    646\u001b[0m \n\u001b[0;32m    647\u001b[0m \u001b[38;5;124;03m    It can't go locally in ForestClassifier or ForestRegressor, because joblib\u001b[39;00m\n\u001b[0;32m    648\u001b[0m \u001b[38;5;124;03m    complains that it cannot pickle it when placed there.\u001b[39;00m\n\u001b[0;32m    649\u001b[0m \u001b[38;5;124;03m    \"\"\"\u001b[39;00m\n\u001b[1;32m--> 650\u001b[0m     prediction \u001b[38;5;241m=\u001b[39m predict(X, check_input\u001b[38;5;241m=\u001b[39m\u001b[38;5;28;01mFalse\u001b[39;00m)\n\u001b[0;32m    651\u001b[0m     \u001b[38;5;28;01mwith\u001b[39;00m lock:\n\u001b[0;32m    652\u001b[0m         \u001b[38;5;28;01mif\u001b[39;00m \u001b[38;5;28mlen\u001b[39m(out) \u001b[38;5;241m==\u001b[39m \u001b[38;5;241m1\u001b[39m:\n",
      "File \u001b[1;32m~\\AppData\\Roaming\\Python\\Python311\\site-packages\\sklearn\\tree\\_classes.py:923\u001b[0m, in \u001b[0;36mDecisionTreeClassifier.predict_proba\u001b[1;34m(self, X, check_input)\u001b[0m\n\u001b[0;32m    921\u001b[0m check_is_fitted(\u001b[38;5;28mself\u001b[39m)\n\u001b[0;32m    922\u001b[0m X \u001b[38;5;241m=\u001b[39m \u001b[38;5;28mself\u001b[39m\u001b[38;5;241m.\u001b[39m_validate_X_predict(X, check_input)\n\u001b[1;32m--> 923\u001b[0m proba \u001b[38;5;241m=\u001b[39m \u001b[38;5;28mself\u001b[39m\u001b[38;5;241m.\u001b[39mtree_\u001b[38;5;241m.\u001b[39mpredict(X)\n\u001b[0;32m    925\u001b[0m \u001b[38;5;28;01mif\u001b[39;00m \u001b[38;5;28mself\u001b[39m\u001b[38;5;241m.\u001b[39mn_outputs_ \u001b[38;5;241m==\u001b[39m \u001b[38;5;241m1\u001b[39m:\n\u001b[0;32m    926\u001b[0m     proba \u001b[38;5;241m=\u001b[39m proba[:, : \u001b[38;5;28mself\u001b[39m\u001b[38;5;241m.\u001b[39mn_classes_]\n",
      "\u001b[1;31mKeyboardInterrupt\u001b[0m: "
     ]
    }
   ],
   "source": [
    "models[0].predict_proba(x_test)"
   ]
  },
  {
   "cell_type": "code",
   "execution_count": null,
   "id": "cddb459f",
   "metadata": {},
   "outputs": [],
   "source": []
  },
  {
   "cell_type": "code",
   "execution_count": 32,
   "id": "071a8e30",
   "metadata": {},
   "outputs": [],
   "source": [
    "for model in models:\n",
    "    \n",
    "    cv_scores = cross_val_score(model, x, y, cv=3, scoring='roc_auc')\n",
    "    results_dict[str(model)[0:str(model).find('(')]] = mean(cv_scores)\n"
   ]
  },
  {
   "cell_type": "code",
   "execution_count": 33,
   "id": "9a9b037e",
   "metadata": {},
   "outputs": [
    {
     "data": {
      "text/plain": [
       "{'RandomForestClassifier': 0.648269512629804,\n",
       " 'MLPClassifier': 0.5503701670373317,\n",
       " 'GaussianNB': 0.5805406732383585}"
      ]
     },
     "execution_count": 33,
     "metadata": {},
     "output_type": "execute_result"
    }
   ],
   "source": [
    "results_dict"
   ]
  },
  {
   "cell_type": "markdown",
   "id": "8d9a2382",
   "metadata": {},
   "source": [
    "# результат\n",
    "да не особо то помогает\n",
    "в теории можно попробовать поиграть порогами значений, но не уверен, насколько это поможет"
   ]
  },
  {
   "cell_type": "code",
   "execution_count": null,
   "id": "b00dba62",
   "metadata": {},
   "outputs": [],
   "source": []
  },
  {
   "cell_type": "markdown",
   "id": "4bb12079",
   "metadata": {},
   "source": [
    "# гиппотеза 12 разобраться с бустингом"
   ]
  },
  {
   "cell_type": "code",
   "execution_count": 31,
   "id": "448b69d1",
   "metadata": {},
   "outputs": [
    {
     "name": "stdout",
     "output_type": "stream",
     "text": [
      "roc  0.5\n"
     ]
    }
   ],
   "source": [
    "\n",
    "\n",
    "# Load the Iris dataset (a sample classification dataset)\n",
    "df2 = pd.read_csv('train_data/df_only_last_product_0.csv')\n",
    "X, y = df2.drop('flag', axis=1), df2.flag\n",
    "\n",
    "# Split the dataset into training and testing sets\n",
    "X_train, X_test, y_train, y_test = train_test_split(X, y, test_size=0.2, random_state=42)\n",
    "\n",
    "# Define and train the XGBoost classifier\n",
    "model = xgb.XGBClassifier(objective='multi:softmax', num_class=2, max_depth=3, learning_rate=0.1, n_estimators=100)\n",
    "model.fit(X_train, y_train)\n",
    "\n",
    "# Make predictions on the test set\n",
    "y_pred = model.predict(X_test)\n",
    "\n",
    "# Calculate the accuracy of the model\n",
    "roc = roc_auc_score(y_test, y_pred)\n",
    "print('roc ', roc)"
   ]
  },
  {
   "cell_type": "code",
   "execution_count": 30,
   "id": "e0d6798f",
   "metadata": {},
   "outputs": [
    {
     "name": "stdout",
     "output_type": "stream",
     "text": [
      "roc  0.5\n"
     ]
    }
   ],
   "source": [
    "df = pd.read_csv('train_data/df_only_last_product_1.csv')\n",
    "X_test, y_test = df.drop('flag', axis=1), df.flag\n",
    "\n",
    "# Make predictions on the test set\n",
    "y_pred = model.predict(X_test)\n",
    "\n",
    "# Calculate the accuracy of the model\n",
    "roc = roc_auc_score(y_test, y_pred)\n",
    "print('roc ', roc)"
   ]
  },
  {
   "cell_type": "code",
   "execution_count": 48,
   "id": "93ba59f7",
   "metadata": {},
   "outputs": [
    {
     "data": {
      "text/plain": [
       "Index(['id', 'rn', 'pre_since_opened', 'pre_since_confirmed', 'pre_pterm',\n",
       "       'pre_fterm', 'pre_till_pclose', 'pre_till_fclose',\n",
       "       'pre_loans_credit_limit', 'pre_loans_next_pay_summ',\n",
       "       'pre_loans_outstanding', 'pre_loans_total_overdue',\n",
       "       'pre_loans_max_overdue_sum', 'pre_loans_credit_cost_rate', 'pre_loans5',\n",
       "       'pre_loans530', 'pre_loans3060', 'pre_loans6090', 'pre_loans90',\n",
       "       'is_zero_loans5', 'is_zero_loans530', 'is_zero_loans3060',\n",
       "       'is_zero_loans6090', 'is_zero_loans90', 'pre_util', 'pre_over2limit',\n",
       "       'pre_maxover2limit', 'is_zero_util', 'is_zero_over2limit',\n",
       "       'is_zero_maxover2limit', 'enc_paym_0', 'enc_paym_1', 'enc_paym_2',\n",
       "       'enc_paym_3', 'enc_paym_4', 'enc_paym_5', 'enc_paym_6', 'enc_paym_7',\n",
       "       'enc_paym_8', 'enc_paym_9', 'enc_paym_10', 'enc_paym_11', 'enc_paym_12',\n",
       "       'enc_paym_13', 'enc_paym_14', 'enc_paym_15', 'enc_paym_16',\n",
       "       'enc_paym_17', 'enc_paym_18', 'enc_paym_19', 'enc_paym_20',\n",
       "       'enc_paym_21', 'enc_paym_22', 'enc_paym_23', 'enc_paym_24',\n",
       "       'enc_loans_account_holder_type', 'enc_loans_credit_status',\n",
       "       'enc_loans_credit_type', 'enc_loans_account_cur', 'pclose_flag',\n",
       "       'fclose_flag', 'closed_faster_than_expected', 'overdue_severity',\n",
       "       'prone_to_overdue', 'prone_to_close_faster'],\n",
       "      dtype='object')"
      ]
     },
     "execution_count": 48,
     "metadata": {},
     "output_type": "execute_result"
    }
   ],
   "source": []
  },
  {
   "cell_type": "code",
   "execution_count": 53,
   "id": "0eb3dba5",
   "metadata": {},
   "outputs": [],
   "source": [
    "df = pd.read_csv('train_data/part_0_eng_cols_1')\n",
    "df = df.drop('Unnamed: 0', axis=1)\n",
    "df = pd.merge(df, answers, on='id', how='left')\n",
    "\n",
    "share = 45\n",
    "df = sample_df(\n",
    "    df, \n",
    "    round(df.flag.value_counts()[1] / share * 100 + 1, 0),\n",
    "    100 - share,\n",
    "    share\n",
    ")\n",
    "\n",
    "\n"
   ]
  },
  {
   "cell_type": "code",
   "execution_count": 54,
   "id": "9df5d50d",
   "metadata": {},
   "outputs": [],
   "source": [
    "df2 = pd.read_csv('train_data/part_1_eng_cols_1')\n",
    "df2 = df2.drop('Unnamed: 0', axis=1)\n",
    "df2 = pd.merge(df2, answers, on='id', how='left')\n",
    "df2['flag'] = df2['flag_y']\n",
    "df2 = df2.drop(['flag_y', 'flag_x'], axis=1)"
   ]
  },
  {
   "cell_type": "code",
   "execution_count": 52,
   "id": "962e576b",
   "metadata": {},
   "outputs": [
    {
     "data": {
      "text/plain": [
       "(126902, 66)"
      ]
     },
     "execution_count": 52,
     "metadata": {},
     "output_type": "execute_result"
    }
   ],
   "source": [
    "df.shape"
   ]
  },
  {
   "cell_type": "code",
   "execution_count": 62,
   "id": "975c36bd",
   "metadata": {},
   "outputs": [
    {
     "name": "stdout",
     "output_type": "stream",
     "text": [
      "Best Model ROC AUC: 0.7751645876217838\n",
      "Best params: {'learning_rate': 0.1, 'max_depth': 7, 'n_estimators': 200}\n"
     ]
    }
   ],
   "source": [
    "import xgboost as xgb\n",
    "from sklearn.datasets import load_iris\n",
    "from sklearn.model_selection import train_test_split, GridSearchCV\n",
    "from sklearn.metrics import roc_auc_score, make_scorer\n",
    "\n",
    "# Load the Iris dataset (a sample classification dataset)\n",
    "# df2 = pd.read_csv('train_data/df_only_last_product_0.csv')\n",
    "X, y = df2.drop('flag', axis=1), df2.flag\n",
    "\n",
    "# Split the dataset into training and testing sets\n",
    "X_train, X_test, y_train, y_test = train_test_split(X, y, test_size=0.2, random_state=42)\n",
    "\n",
    "# Define the XGBoost classifier\n",
    "model = xgb.XGBClassifier()\n",
    "\n",
    "# Define the parameter grid for GridSearchCV\n",
    "param_grid = {\n",
    "    'max_depth': [3, 5, 7],\n",
    "    'learning_rate': [0.1, 0.01, 0.001],\n",
    "    'n_estimators': [50, 100, 200],\n",
    "}\n",
    "\n",
    "# Define ROC AUC as the scoring metric for GridSearchCV\n",
    "roc_auc_scorer = make_scorer(roc_auc_score, greater_is_better=True, needs_proba=True)\n",
    "\n",
    "# Perform GridSearchCV with ROC AUC as the scoring metric\n",
    "grid_search = GridSearchCV(model, param_grid, cv=3, scoring=roc_auc_scorer)\n",
    "grid_search.fit(X_train, y_train)\n",
    "\n",
    "# Get the best model from GridSearchCV\n",
    "best_model = grid_search.best_estimator_\n",
    "\n",
    "# Make predictions on the test set using the best model\n",
    "y_pred_proba = best_model.predict_proba(X_test)\n",
    "roc_auc = roc_auc_score(y_test, y_pred_proba[:, 1], multi_class='ovr')\n",
    "print('Best Model ROC AUC:', roc_auc)\n",
    "print('Best params:', grid_search.best_params_)"
   ]
  },
  {
   "cell_type": "code",
   "execution_count": 63,
   "id": "2a2bf81c",
   "metadata": {},
   "outputs": [
    {
     "name": "stdout",
     "output_type": "stream",
     "text": [
      "Best Model ROC AUC: 0.7693579526356988\n",
      "Best params: {'learning_rate': 0.1, 'max_depth': 7, 'n_estimators': 200}\n"
     ]
    }
   ],
   "source": [
    "import xgboost as xgb\n",
    "from sklearn.datasets import load_iris\n",
    "from sklearn.model_selection import train_test_split, GridSearchCV\n",
    "from sklearn.metrics import roc_auc_score, make_scorer\n",
    "\n",
    "# Load the Iris dataset (a sample classification dataset)\n",
    "# df2 = pd.read_csv('train_data/df_only_last_product_1.csv')\n",
    "X, y = df.drop('flag', axis=1), df.flag\n",
    "\n",
    "# Split the dataset into training and testing sets\n",
    "X_train, X_test, y_train, y_test = train_test_split(X, y, test_size=0.2, random_state=42)\n",
    "\n",
    "# Define the XGBoost classifier\n",
    "model = xgb.XGBClassifier()\n",
    "\n",
    "# Define the parameter grid for GridSearchCV\n",
    "param_grid = {\n",
    "    'max_depth': [3, 5, 7],\n",
    "    'learning_rate': [0.1, 0.01, 0.001],\n",
    "    'n_estimators': [50, 100, 200],\n",
    "}\n",
    "\n",
    "# Define ROC AUC as the scoring metric for GridSearchCV\n",
    "roc_auc_scorer = make_scorer(roc_auc_score, greater_is_better=True, needs_proba=True)\n",
    "\n",
    "# Perform GridSearchCV with ROC AUC as the scoring metric\n",
    "grid_search = GridSearchCV(model, param_grid, cv=3, scoring=roc_auc_scorer)\n",
    "grid_search.fit(X_train, y_train)\n",
    "\n",
    "# Get the best model from GridSearchCV\n",
    "best_model = grid_search.best_estimator_\n",
    "\n",
    "# Make predictions on the test set using the best model\n",
    "y_pred_proba = best_model.predict_proba(X_test)\n",
    "roc_auc = roc_auc_score(y_test, y_pred_proba[:, 1], multi_class='ovr')\n",
    "print('Best Model ROC AUC:', roc_auc)\n",
    "print('Best params:', grid_search.best_params_)"
   ]
  },
  {
   "cell_type": "markdown",
   "id": "80a82324",
   "metadata": {},
   "source": [
    "# результат\n",
    "1) well ill be damned - consistent satisfactory metric on single chunks with minimal feature engeneering\n",
    "2) looks like its time to move to stage 2\n"
   ]
  },
  {
   "cell_type": "code",
   "execution_count": null,
   "id": "7e10d477",
   "metadata": {},
   "outputs": [],
   "source": []
  },
  {
   "cell_type": "code",
   "execution_count": null,
   "id": "0ff080d0",
   "metadata": {},
   "outputs": [],
   "source": []
  }
 ],
 "metadata": {
  "kernelspec": {
   "display_name": "Python 3 (ipykernel)",
   "language": "python",
   "name": "python3"
  },
  "language_info": {
   "codemirror_mode": {
    "name": "ipython",
    "version": 3
   },
   "file_extension": ".py",
   "mimetype": "text/x-python",
   "name": "python",
   "nbconvert_exporter": "python",
   "pygments_lexer": "ipython3",
   "version": "3.11.5"
  }
 },
 "nbformat": 4,
 "nbformat_minor": 5
}
